{
 "cells": [
  {
   "cell_type": "code",
   "execution_count": 1,
   "id": "240de1ab",
   "metadata": {},
   "outputs": [
    {
     "name": "stderr",
     "output_type": "stream",
     "text": [
      "/var/folders/km/sfmlc74j2sqgqqnyck0zzymm0000gn/T/ipykernel_79118/3876375721.py:20: DeprecationWarning: `set_matplotlib_formats` is deprecated since IPython 7.23, directly use `matplotlib_inline.backend_inline.set_matplotlib_formats()`\n",
      "  set_matplotlib_formats(fig_format)\n"
     ]
    },
    {
     "name": "stdout",
     "output_type": "stream",
     "text": [
      "{\"/Users/heiletjevanzyl/anaconda3/lib/python3.11/importlib/_bootstrap.py\": 1694439389.41593, \"/Users/heiletjevanzyl/anaconda3/lib/python3.11/importlib/_bootstrap_external.py\": 1694439389.4256217, \"/Users/heiletjevanzyl/anaconda3/lib/python3.11/zipimport.py\": 1694439385.7741373, \"/Users/heiletjevanzyl/anaconda3/lib/python3.11/codecs.py\": 1694439384.781692, \"/Users/heiletjevanzyl/anaconda3/lib/python3.11/encodings/aliases.py\": 1694439387.126954, \"/Users/heiletjevanzyl/anaconda3/lib/python3.11/encodings/__init__.py\": 1694439387.119218, \"/Users/heiletjevanzyl/anaconda3/lib/python3.11/encodings/utf_8.py\": 1694439388.3518095, \"/Users/heiletjevanzyl/anaconda3/lib/python3.11/abc.py\": 1694439384.644435, \"/Users/heiletjevanzyl/anaconda3/lib/python3.11/io.py\": 1694439385.0425074, \"/Users/heiletjevanzyl/anaconda3/lib/python3.11/stat.py\": 1694439385.5135145, \"/Users/heiletjevanzyl/anaconda3/lib/python3.11/_collections_abc.py\": 1694439384.5167792, \"/Users/heiletjevanzyl/anaconda3/lib/python3.11/genericpath.py\": 1694439384.929408, \"/Users/heiletjevanzyl/anaconda3/lib/python3.11/posixpath.py\": 1694439385.2356787, \"/Users/heiletjevanzyl/anaconda3/lib/python3.11/os.py\": 1694439385.1617343, \"/Users/heiletjevanzyl/anaconda3/lib/python3.11/_sitebuiltins.py\": 1694439384.6028044, \"/Users/heiletjevanzyl/anaconda3/lib/python3.11/site-packages/_distutils_hack/__init__.py\": 1687189957.0, \"/Users/heiletjevanzyl/anaconda3/lib/python3.11/types.py\": 1694439385.7023752, \"/Users/heiletjevanzyl/anaconda3/lib/python3.11/warnings.py\": 1694439385.7273316, \"/Users/heiletjevanzyl/anaconda3/lib/python3.11/importlib/__init__.py\": 1694439389.3947737, \"/Users/heiletjevanzyl/anaconda3/lib/python3.11/importlib/_abc.py\": 1694439389.4051466, \"/Users/heiletjevanzyl/anaconda3/lib/python3.11/keyword.py\": 1694439385.0565212, \"/Users/heiletjevanzyl/anaconda3/lib/python3.11/operator.py\": 1694439385.1450198, \"/Users/heiletjevanzyl/anaconda3/lib/python3.11/reprlib.py\": 1694439385.3318431, \"/Users/heiletjevanzyl/anaconda3/lib/python3.11/collections/__init__.py\": 1694439386.113186, \"/Users/heiletjevanzyl/anaconda3/lib/python3.11/functools.py\": 1694439384.9224937, \"/Users/heiletjevanzyl/anaconda3/lib/python3.11/contextlib.py\": 1694439384.810841, \"/Users/heiletjevanzyl/anaconda3/lib/python3.11/importlib/util.py\": 1694439389.4808693, \"/Users/heiletjevanzyl/anaconda3/lib/python3.11/importlib/machinery.py\": 1694439389.4485378, \"/Users/heiletjevanzyl/anaconda3/lib/python3.11/site-packages/zope/__init__.py\": 1678055269.0598786, \"/Users/heiletjevanzyl/anaconda3/lib/python3.11/site.py\": 1694439385.4122777, \"/Users/heiletjevanzyl/anaconda3/lib/python3.11/runpy.py\": 1694439385.349299, \"/Users/heiletjevanzyl/anaconda3/lib/python3.11/enum.py\": 1694439384.8813274, \"/Users/heiletjevanzyl/anaconda3/lib/python3.11/re/_constants.py\": 1694439390.9205246, \"/Users/heiletjevanzyl/anaconda3/lib/python3.11/re/_parser.py\": 1694439390.9268093, \"/Users/heiletjevanzyl/anaconda3/lib/python3.11/re/_casefix.py\": 1694439390.9060853, \"/Users/heiletjevanzyl/anaconda3/lib/python3.11/re/_compiler.py\": 1694439390.9136357, \"/Users/heiletjevanzyl/anaconda3/lib/python3.11/copyreg.py\": 1694439384.827526, \"/Users/heiletjevanzyl/anaconda3/lib/python3.11/re/__init__.py\": 1694439390.8978083, \"/Users/heiletjevanzyl/anaconda3/lib/python3.11/collections/abc.py\": 1694439386.1249552, \"/Users/heiletjevanzyl/anaconda3/lib/python3.11/lib-dynload/_typing.cpython-311-darwin.so\": 1694439432.3087604, \"/Users/heiletjevanzyl/anaconda3/lib/python3.11/typing.py\": 1694439385.7088797, \"/Users/heiletjevanzyl/anaconda3/lib/python3.11/site-packages/ipykernel/_version.py\": 1698244540.4215503, \"/Users/heiletjevanzyl/anaconda3/lib/python3.11/__future__.py\": 1694439384.4763901, \"/Users/heiletjevanzyl/anaconda3/lib/python3.11/lib-dynload/_json.cpython-311-darwin.so\": 1694439435.1056967, \"/Users/heiletjevanzyl/anaconda3/lib/python3.11/json/scanner.py\": 1694439389.6749077, \"/Users/heiletjevanzyl/anaconda3/lib/python3.11/json/decoder.py\": 1694439389.6564546, \"/Users/heiletjevanzyl/anaconda3/lib/python3.11/json/encoder.py\": 1694439389.6663835, \"/Users/heiletjevanzyl/anaconda3/lib/python3.11/json/__init__.py\": 1694439389.6484153, \"/Users/heiletjevanzyl/anaconda3/lib/python3.11/locale.py\": 1694439385.0687437, \"/Users/heiletjevanzyl/anaconda3/lib/python3.11/signal.py\": 1694439385.4048362, \"/Users/heiletjevanzyl/anaconda3/lib/python3.11/_weakrefset.py\": 1694439384.6344507, \"/Users/heiletjevanzyl/anaconda3/lib/python3.11/threading.py\": 1694439385.642276, \"/Users/heiletjevanzyl/anaconda3/lib/python3.11/lib-dynload/fcntl.cpython-311-darwin.so\": 1694439439.2787232, \"/Users/heiletjevanzyl/anaconda3/lib/python3.11/lib-dynload/_posixsubprocess.cpython-311-darwin.so\": 1694439430.4522433, \"/Users/heiletjevanzyl/anaconda3/lib/python3.11/lib-dynload/select.cpython-311-darwin.so\": 1694439435.3551567, \"/Users/heiletjevanzyl/anaconda3/lib/python3.11/lib-dynload/math.cpython-311-darwin.so\": 1694439436.36291, \"/Users/heiletjevanzyl/anaconda3/lib/python3.11/selectors.py\": 1694439385.3720663, \"/Users/heiletjevanzyl/anaconda3/lib/python3.11/subprocess.py\": 1694439385.5679364, \"/Users/heiletjevanzyl/anaconda3/lib/python3.11/site-packages/jupyter_client/_version.py\": 1677914246.0, \"/Users/heiletjevanzyl/anaconda3/lib/python3.11/ast.py\": 1694439384.6858056, \"/Users/heiletjevanzyl/anaconda3/lib/python3.11/lib-dynload/_opcode.cpython-311-darwin.so\": 1694439437.770602, \"/Users/heiletjevanzyl/anaconda3/lib/python3.11/opcode.py\": 1694439385.13853, \"/Users/heiletjevanzyl/anaconda3/lib/python3.11/dis.py\": 1694439384.8700953, \"/Users/heiletjevanzyl/anaconda3/lib/python3.11/token.py\": 1694439385.6561222, \"/Users/heiletjevanzyl/anaconda3/lib/python3.11/tokenize.py\": 1694439385.6631305, \"/Users/heiletjevanzyl/anaconda3/lib/python3.11/linecache.py\": 1694439385.0628927, \"/Users/heiletjevanzyl/anaconda3/lib/python3.11/inspect.py\": 1694439385.0326157, \"/Users/heiletjevanzyl/anaconda3/lib/python3.11/site-packages/traitlets/utils/__init__.py\": 1677911748.0, \"/Users/heiletjevanzyl/anaconda3/lib/python3.11/site-packages/traitlets/utils/bunch.py\": 1677911748.0, \"/Users/heiletjevanzyl/anaconda3/lib/python3.11/site-packages/traitlets/utils/descriptions.py\": 1677911748.0, \"/Users/heiletjevanzyl/anaconda3/lib/python3.11/site-packages/traitlets/utils/getargspec.py\": 1677911748.0, \"/Users/heiletjevanzyl/anaconda3/lib/python3.11/site-packages/traitlets/utils/importstring.py\": 1677911748.0, \"/Users/heiletjevanzyl/anaconda3/lib/python3.11/site-packages/traitlets/utils/sentinel.py\": 1677911748.0, \"/Users/heiletjevanzyl/anaconda3/lib/python3.11/site-packages/traitlets/traitlets.py\": 1677911748.0, \"/Users/heiletjevanzyl/anaconda3/lib/python3.11/site-packages/traitlets/_version.py\": 1677911748.0, \"/Users/heiletjevanzyl/anaconda3/lib/python3.11/weakref.py\": 1694439385.7381024, \"/Users/heiletjevanzyl/anaconda3/lib/python3.11/copy.py\": 1694439384.8218846, \"/Users/heiletjevanzyl/anaconda3/lib/python3.11/site-packages/traitlets/utils/decorators.py\": 1677911748.0, \"/Users/heiletjevanzyl/anaconda3/lib/python3.11/site-packages/traitlets/__init__.py\": 1677911748.0, \"/Users/heiletjevanzyl/anaconda3/lib/python3.11/concurrent/__init__.py\": 1694439386.1503704, \"/Users/heiletjevanzyl/anaconda3/lib/python3.11/textwrap.py\": 1694439385.6278453, \"/Users/heiletjevanzyl/anaconda3/lib/python3.11/traceback.py\": 1694439385.6756692, \"/Users/heiletjevanzyl/anaconda3/lib/python3.11/string.py\": 1694439385.5355859, \"/Users/heiletjevanzyl/anaconda3/lib/python3.11/logging/__init__.py\": 1694439390.5531998, \"/Users/heiletjevanzyl/anaconda3/lib/python3.11/concurrent/futures/_base.py\": 1694439386.1882105, \"/Users/heiletjevanzyl/anaconda3/lib/python3.11/concurrent/futures/__init__.py\": 1694439386.1772308, \"/Users/heiletjevanzyl/anaconda3/lib/python3.11/lib-dynload/_heapq.cpython-311-darwin.so\": 1694439429.8171566, \"/Users/heiletjevanzyl/anaconda3/lib/python3.11/heapq.py\": 1694439384.990544, \"/Users/heiletjevanzyl/anaconda3/lib/python3.11/lib-dynload/_socket.cpython-311-darwin.so\": 1694439431.729992, \"/Users/heiletjevanzyl/anaconda3/lib/python3.11/lib-dynload/array.cpython-311-darwin.so\": 1694439433.3475082, \"/Users/heiletjevanzyl/anaconda3/lib/python3.11/socket.py\": 1694439385.4481046, \"/Users/heiletjevanzyl/anaconda3/lib/python3.11/lib-dynload/_ssl.cpython-311-darwin.so\": 1694439437.3998837, \"/Users/heiletjevanzyl/anaconda3/lib/python3.11/lib-dynload/_struct.cpython-311-darwin.so\": 1694439432.5635386, \"/Users/heiletjevanzyl/anaconda3/lib/python3.11/struct.py\": 1694439385.5564938, \"/Users/heiletjevanzyl/anaconda3/lib/python3.11/lib-dynload/binascii.cpython-311-darwin.so\": 1694439438.8987288, \"/Users/heiletjevanzyl/anaconda3/lib/python3.11/base64.py\": 1694439384.7131083, \"/Users/heiletjevanzyl/anaconda3/lib/python3.11/ssl.py\": 1694439385.5029936, \"/Users/heiletjevanzyl/anaconda3/lib/python3.11/asyncio/constants.py\": 1694439385.8517902, \"/Users/heiletjevanzyl/anaconda3/lib/python3.11/asyncio/coroutines.py\": 1694439385.8583093, \"/Users/heiletjevanzyl/anaconda3/lib/python3.11/lib-dynload/_contextvars.cpython-311-darwin.so\": 1694439432.9410126, \"/Users/heiletjevanzyl/anaconda3/lib/python3.11/contextvars.py\": 1694439384.8163328, \"/Users/heiletjevanzyl/anaconda3/lib/python3.11/asyncio/format_helpers.py\": 1694439385.8790865, \"/Users/heiletjevanzyl/anaconda3/lib/python3.11/asyncio/base_futures.py\": 1694439385.8335416, \"/Users/heiletjevanzyl/anaconda3/lib/python3.11/asyncio/exceptions.py\": 1694439385.8720648, \"/Users/heiletjevanzyl/anaconda3/lib/python3.11/asyncio/base_tasks.py\": 1694439385.845446, \"/Users/heiletjevanzyl/anaconda3/lib/python3.11/lib-dynload/_asyncio.cpython-311-darwin.so\": 1694439436.7548184, \"/Users/heiletjevanzyl/anaconda3/lib/python3.11/asyncio/events.py\": 1694439385.8651857, \"/Users/heiletjevanzyl/anaconda3/lib/python3.11/asyncio/futures.py\": 1694439385.8887467, \"/Users/heiletjevanzyl/anaconda3/lib/python3.11/asyncio/protocols.py\": 1694439385.9287584, \"/Users/heiletjevanzyl/anaconda3/lib/python3.11/asyncio/transports.py\": 1694439386.040408, \"/Users/heiletjevanzyl/anaconda3/lib/python3.11/asyncio/log.py\": 1694439385.90405, \"/Users/heiletjevanzyl/anaconda3/lib/python3.11/asyncio/sslproto.py\": 1694439385.9622943, \"/Users/heiletjevanzyl/anaconda3/lib/python3.11/asyncio/mixins.py\": 1694439385.913099, \"/Users/heiletjevanzyl/anaconda3/lib/python3.11/asyncio/tasks.py\": 1694439386.0080788, \"/Users/heiletjevanzyl/anaconda3/lib/python3.11/asyncio/locks.py\": 1694439385.8970773, \"/Users/heiletjevanzyl/anaconda3/lib/python3.11/asyncio/staggered.py\": 1694439385.9716327, \"/Users/heiletjevanzyl/anaconda3/lib/python3.11/asyncio/trsock.py\": 1694439386.05086, \"/Users/heiletjevanzyl/anaconda3/lib/python3.11/asyncio/base_events.py\": 1694439385.8275232, \"/Users/heiletjevanzyl/anaconda3/lib/python3.11/asyncio/runners.py\": 1694439385.9461746, \"/Users/heiletjevanzyl/anaconda3/lib/python3.11/asyncio/queues.py\": 1694439385.9379413, \"/Users/heiletjevanzyl/anaconda3/lib/python3.11/asyncio/streams.py\": 1694439385.979653, \"/Users/heiletjevanzyl/anaconda3/lib/python3.11/asyncio/subprocess.py\": 1694439385.9898765, \"/Users/heiletjevanzyl/anaconda3/lib/python3.11/asyncio/taskgroups.py\": 1694439385.998284, \"/Users/heiletjevanzyl/anaconda3/lib/python3.11/asyncio/timeouts.py\": 1694439386.029517, \"/Users/heiletjevanzyl/anaconda3/lib/python3.11/asyncio/threads.py\": 1694439386.0191948, \"/Users/heiletjevanzyl/anaconda3/lib/python3.11/asyncio/base_subprocess.py\": 1694439385.839477, \"/Users/heiletjevanzyl/anaconda3/lib/python3.11/asyncio/selector_events.py\": 1694439385.9541018, \"/Users/heiletjevanzyl/anaconda3/lib/python3.11/asyncio/unix_events.py\": 1694439386.062331, \"/Users/heiletjevanzyl/anaconda3/lib/python3.11/asyncio/__init__.py\": 1694439385.8156068, \"/Users/heiletjevanzyl/anaconda3/lib/python3.11/lib-dynload/_queue.cpython-311-darwin.so\": 1694439437.1339457, \"/Users/heiletjevanzyl/anaconda3/lib/python3.11/queue.py\": 1694439385.3060784, \"/Users/heiletjevanzyl/anaconda3/lib/python3.11/platform.py\": 1694439385.212492, \"/Users/heiletjevanzyl/anaconda3/lib/python3.11/lib-dynload/_ctypes.cpython-311-darwin.so\": 1694439439.0248396, \"/Users/heiletjevanzyl/anaconda3/lib/python3.11/ctypes/_endian.py\": 1694439386.2555423, \"/Users/heiletjevanzyl/anaconda3/lib/python3.11/ctypes/__init__.py\": 1694439386.23734, \"/Users/heiletjevanzyl/anaconda3/lib/python3.11/site-packages/zmq/backend/select.py\": 1677912981.0, \"/Users/heiletjevanzyl/anaconda3/lib/python3.11/site-packages/zmq/error.py\": 1677912981.0, \"/Users/heiletjevanzyl/anaconda3/lib/python3.11/site-packages/zmq/backend/cython/context.cpython-311-darwin.so\": 1677912998.0, \"/Users/heiletjevanzyl/anaconda3/lib/python3.11/site-packages/zmq/backend/cython/message.cpython-311-darwin.so\": 1677913000.0, \"/Users/heiletjevanzyl/anaconda3/lib/python3.11/lib-dynload/_bisect.cpython-311-darwin.so\": 1694439430.2031794, \"/Users/heiletjevanzyl/anaconda3/lib/python3.11/bisect.py\": 1694439384.7295933, \"/Users/heiletjevanzyl/anaconda3/lib/python3.11/lib-dynload/_random.cpython-311-darwin.so\": 1694439433.2204342, \"/Users/heiletjevanzyl/anaconda3/lib/python3.11/lib-dynload/_sha512.cpython-311-darwin.so\": 1694439435.7328656, \"/Users/heiletjevanzyl/anaconda3/lib/python3.11/random.py\": 1694439385.3239446, \"/Users/heiletjevanzyl/anaconda3/lib/python3.11/_compat_pickle.py\": 1694439384.5273054, \"/Users/heiletjevanzyl/anaconda3/lib/python3.11/lib-dynload/_pickle.cpython-311-darwin.so\": 1694439437.8948903, \"/Users/heiletjevanzyl/anaconda3/lib/python3.11/pickle.py\": 1694439385.1825948, \"/Users/heiletjevanzyl/anaconda3/lib/python3.11/site-packages/zmq/constants.py\": 1677912981.0, \"/Users/heiletjevanzyl/anaconda3/lib/python3.11/site-packages/zmq/backend/cython/socket.cpython-311-darwin.so\": 1677913003.0, \"/Users/heiletjevanzyl/anaconda3/lib/python3.11/site-packages/zmq/backend/cython/_device.cpython-311-darwin.so\": 1677913001.0, \"/Users/heiletjevanzyl/anaconda3/lib/python3.11/site-packages/zmq/backend/cython/_poll.cpython-311-darwin.so\": 1677913003.0, \"/Users/heiletjevanzyl/anaconda3/lib/python3.11/site-packages/zmq/backend/cython/_proxy_steerable.cpython-311-darwin.so\": 1677913002.0, \"/Users/heiletjevanzyl/anaconda3/lib/python3.11/site-packages/zmq/backend/cython/_version.cpython-311-darwin.so\": 1677913002.0, \"/Users/heiletjevanzyl/anaconda3/lib/python3.11/site-packages/zmq/backend/cython/error.cpython-311-darwin.so\": 1677913004.0, \"/Users/heiletjevanzyl/anaconda3/lib/python3.11/site-packages/zmq/backend/cython/utils.cpython-311-darwin.so\": 1677913004.0, \"/Users/heiletjevanzyl/anaconda3/lib/python3.11/site-packages/zmq/backend/cython/__init__.py\": 1677912981.0, \"/Users/heiletjevanzyl/anaconda3/lib/python3.11/site-packages/zmq/backend/__init__.py\": 1677912981.0, \"/Users/heiletjevanzyl/anaconda3/lib/python3.11/site-packages/zmq/sugar/attrsettr.py\": 1677912981.0, \"/Users/heiletjevanzyl/anaconda3/lib/python3.11/site-packages/zmq/_typing.py\": 1677912981.0, \"/Users/heiletjevanzyl/anaconda3/lib/python3.11/site-packages/zmq/utils/__init__.py\": 1677912981.0, \"/Users/heiletjevanzyl/anaconda3/lib/python3.11/site-packages/zmq/utils/jsonapi.py\": 1677912981.0, \"/Users/heiletjevanzyl/anaconda3/lib/python3.11/site-packages/zmq/sugar/poll.py\": 1677912981.0, \"/Users/heiletjevanzyl/anaconda3/lib/python3.11/site-packages/zmq/sugar/socket.py\": 1677912981.0, \"/Users/heiletjevanzyl/anaconda3/lib/python3.11/site-packages/zmq/sugar/context.py\": 1677912981.0, \"/Users/heiletjevanzyl/anaconda3/lib/python3.11/site-packages/zmq/sugar/frame.py\": 1677912981.0, \"/Users/heiletjevanzyl/anaconda3/lib/python3.11/site-packages/zmq/sugar/tracker.py\": 1677912981.0, \"/Users/heiletjevanzyl/anaconda3/lib/python3.11/site-packages/zmq/sugar/version.py\": 1677912981.0, \"/Users/heiletjevanzyl/anaconda3/lib/python3.11/site-packages/zmq/sugar/stopwatch.py\": 1677912981.0, \"/Users/heiletjevanzyl/anaconda3/lib/python3.11/site-packages/zmq/sugar/__init__.py\": 1677912981.0, \"/Users/heiletjevanzyl/anaconda3/lib/python3.11/site-packages/zmq/__init__.py\": 1677912981.0, \"/Users/heiletjevanzyl/anaconda3/lib/python3.11/site-packages/zmq/_future.py\": 1677912981.0, \"/Users/heiletjevanzyl/anaconda3/lib/python3.11/site-packages/zmq/asyncio.py\": 1677912981.0, \"/Users/heiletjevanzyl/anaconda3/lib/python3.11/site-packages/jupyter_client/channelsabc.py\": 1677914246.0, \"/Users/heiletjevanzyl/anaconda3/lib/python3.11/lib-dynload/_hashlib.cpython-311-darwin.so\": 1694439437.6399784, \"/Users/heiletjevanzyl/anaconda3/lib/python3.11/lib-dynload/_blake2.cpython-311-darwin.so\": 1694439436.4934707, \"/Users/heiletjevanzyl/anaconda3/lib/python3.11/hashlib.py\": 1694439384.9832418, \"/Users/heiletjevanzyl/anaconda3/lib/python3.11/hmac.py\": 1694439384.9991825, \"/Users/heiletjevanzyl/anaconda3/lib/python3.11/dataclasses.py\": 1694439384.8461986, \"/Users/heiletjevanzyl/anaconda3/lib/python3.11/pprint.py\": 1694439385.243447, \"/Users/heiletjevanzyl/anaconda3/lib/python3.11/lib-dynload/_datetime.cpython-311-darwin.so\": 1694439435.2282863, \"/Users/heiletjevanzyl/anaconda3/lib/python3.11/datetime.py\": 1694439384.8521223, \"/Users/heiletjevanzyl/anaconda3/lib/python3.11/site-packages/tornado/__init__.py\": 1690848372.2137973, \"/Users/heiletjevanzyl/anaconda3/lib/python3.11/numbers.py\": 1694439385.1318085, \"/Users/heiletjevanzyl/anaconda3/lib/python3.11/logging/handlers.py\": 1694439390.5751722, \"/Users/heiletjevanzyl/anaconda3/lib/python3.11/html/entities.py\": 1694439388.5023024, \"/Users/heiletjevanzyl/anaconda3/lib/python3.11/html/__init__.py\": 1694439388.4918277, \"/Users/heiletjevanzyl/anaconda3/lib/python3.11/urllib/__init__.py\": 1694439391.448966, \"/Users/heiletjevanzyl/anaconda3/lib/python3.11/ipaddress.py\": 1694439385.05018, \"/Users/heiletjevanzyl/anaconda3/lib/python3.11/urllib/parse.py\": 1694439391.4697688, \"/Users/heiletjevanzyl/anaconda3/lib/python3.11/lib-dynload/zlib.cpython-311-darwin.so\": 1694439430.8262982, \"/Users/heiletjevanzyl/anaconda3/lib/python3.11/site-packages/tornado/speedups.abi3.so\": 1690848375.9850745, \"/Users/heiletjevanzyl/anaconda3/lib/python3.11/site-packages/tornado/util.py\": 1690848372.2201972, \"/Users/heiletjevanzyl/anaconda3/lib/python3.11/site-packages/tornado/escape.py\": 1690848372.2151074, \"/Users/heiletjevanzyl/anaconda3/lib/python3.11/site-packages/colorama/ansi.py\": 1677925199.0, \"/Users/heiletjevanzyl/anaconda3/lib/python3.11/site-packages/colorama/win32.py\": 1677925199.0, \"/Users/heiletjevanzyl/anaconda3/lib/python3.11/site-packages/colorama/winterm.py\": 1677925199.0, \"/Users/heiletjevanzyl/anaconda3/lib/python3.11/site-packages/colorama/ansitowin32.py\": 1677925199.0, \"/Users/heiletjevanzyl/anaconda3/lib/python3.11/site-packages/colorama/initialise.py\": 1677925199.0, \"/Users/heiletjevanzyl/anaconda3/lib/python3.11/site-packages/colorama/__init__.py\": 1677925199.0, \"/Users/heiletjevanzyl/anaconda3/lib/python3.11/lib-dynload/_curses.cpython-311-darwin.so\": 1694439431.4335778, \"/Users/heiletjevanzyl/anaconda3/lib/python3.11/curses/__init__.py\": 1694439386.3884282, \"/Users/heiletjevanzyl/anaconda3/lib/python3.11/site-packages/tornado/log.py\": 1690848372.2174416, \"/Users/heiletjevanzyl/anaconda3/lib/python3.11/site-packages/tornado/concurrent.py\": 1690848372.2146566, \"/Users/heiletjevanzyl/anaconda3/lib/python3.11/site-packages/tornado/ioloop.py\": 1690848372.216524, \"/Users/heiletjevanzyl/anaconda3/lib/python3.11/socketserver.py\": 1694439385.4588969, \"/Users/heiletjevanzyl/anaconda3/lib/python3.11/logging/config.py\": 1694439390.5627494, \"/Users/heiletjevanzyl/anaconda3/lib/python3.11/site-packages/traitlets/utils/text.py\": 1677911748.0, \"/Users/heiletjevanzyl/anaconda3/lib/python3.11/gettext.py\": 1694439384.9529898, \"/Users/heiletjevanzyl/anaconda3/lib/python3.11/argparse.py\": 1694439384.676345, \"/Users/heiletjevanzyl/anaconda3/lib/python3.11/site-packages/traitlets/config/loader.py\": 1677911748.0, \"/Users/heiletjevanzyl/anaconda3/lib/python3.11/site-packages/traitlets/config/configurable.py\": 1677911748.0, \"/Users/heiletjevanzyl/anaconda3/lib/python3.11/site-packages/traitlets/utils/nested_update.py\": 1677911748.0, \"/Users/heiletjevanzyl/anaconda3/lib/python3.11/site-packages/traitlets/config/application.py\": 1677911748.0, \"/Users/heiletjevanzyl/anaconda3/lib/python3.11/site-packages/traitlets/config/__init__.py\": 1677911748.0, \"/Users/heiletjevanzyl/anaconda3/lib/python3.11/site-packages/traitlets/log.py\": 1677911748.0, \"/Users/heiletjevanzyl/anaconda3/lib/python3.11/site-packages/tornado/platform/__init__.py\": 1690848372.2213538, \"/Users/heiletjevanzyl/anaconda3/lib/python3.11/site-packages/tornado/gen.py\": 1690848372.2153587, \"/Users/heiletjevanzyl/anaconda3/lib/python3.11/site-packages/tornado/platform/asyncio.py\": 1690848372.2215815, \"/Users/heiletjevanzyl/anaconda3/lib/python3.11/site-packages/zmq/eventloop/ioloop.py\": 1677912981.0, \"/Users/heiletjevanzyl/anaconda3/lib/python3.11/site-packages/zmq/eventloop/__init__.py\": 1677912981.0, \"/Users/heiletjevanzyl/anaconda3/lib/python3.11/site-packages/zmq/eventloop/zmqstream.py\": 1677912981.0, \"/Users/heiletjevanzyl/anaconda3/lib/python3.11/site-packages/jupyter_client/adapter.py\": 1677914246.0, \"/Users/heiletjevanzyl/anaconda3/lib/python3.11/site-packages/dateutil/_version.py\": 1626374693.0, \"/Users/heiletjevanzyl/anaconda3/lib/python3.11/site-packages/dateutil/__init__.py\": 1626374693.0, \"/Users/heiletjevanzyl/anaconda3/lib/python3.11/calendar.py\": 1694439384.7479498, \"/Users/heiletjevanzyl/anaconda3/lib/python3.11/site-packages/six.py\": 1644875973.0, \"/Users/heiletjevanzyl/anaconda3/lib/python3.11/lib-dynload/_decimal.cpython-311-darwin.so\": 1694439430.0765393, \"/Users/heiletjevanzyl/anaconda3/lib/python3.11/decimal.py\": 1694439384.8579986, \"/Users/heiletjevanzyl/anaconda3/lib/python3.11/site-packages/dateutil/_common.py\": 1626374693.0, \"/Users/heiletjevanzyl/anaconda3/lib/python3.11/site-packages/dateutil/relativedelta.py\": 1626374693.0, \"/Users/heiletjevanzyl/anaconda3/lib/python3.11/site-packages/dateutil/tz/_common.py\": 1626374693.0, \"/Users/heiletjevanzyl/anaconda3/lib/python3.11/site-packages/dateutil/tz/_factories.py\": 1626374693.0, \"/Users/heiletjevanzyl/anaconda3/lib/python3.11/site-packages/dateutil/tz/tz.py\": 1626374693.0, \"/Users/heiletjevanzyl/anaconda3/lib/python3.11/site-packages/dateutil/tz/__init__.py\": 1626374693.0, \"/Users/heiletjevanzyl/anaconda3/lib/python3.11/site-packages/dateutil/parser/_parser.py\": 1626374693.0, \"/Users/heiletjevanzyl/anaconda3/lib/python3.11/site-packages/dateutil/parser/isoparser.py\": 1626374693.0, \"/Users/heiletjevanzyl/anaconda3/lib/python3.11/site-packages/dateutil/parser/__init__.py\": 1626374693.0, \"/Users/heiletjevanzyl/anaconda3/lib/python3.11/_strptime.py\": 1694439384.6134787, \"/Users/heiletjevanzyl/anaconda3/lib/python3.11/site-packages/jupyter_client/jsonutil.py\": 1677914246.0, \"/Users/heiletjevanzyl/anaconda3/lib/python3.11/site-packages/jupyter_client/session.py\": 1677914246.0, \"/Users/heiletjevanzyl/anaconda3/lib/python3.11/site-packages/jupyter_client/channels.py\": 1677914246.0, \"/Users/heiletjevanzyl/anaconda3/lib/python3.11/lib-dynload/termios.cpython-311-darwin.so\": 1694439436.627785, \"/Users/heiletjevanzyl/anaconda3/lib/python3.11/getpass.py\": 1694439384.9455452, \"/Users/heiletjevanzyl/anaconda3/lib/python3.11/site-packages/jupyter_client/clientabc.py\": 1677914246.0, \"/Users/heiletjevanzyl/anaconda3/lib/python3.11/fnmatch.py\": 1694439384.9000094, \"/Users/heiletjevanzyl/anaconda3/lib/python3.11/glob.py\": 1694439384.9605427, \"/Users/heiletjevanzyl/anaconda3/lib/python3.11/_compression.py\": 1694439384.537675, \"/Users/heiletjevanzyl/anaconda3/lib/python3.11/lib-dynload/_bz2.cpython-311-darwin.so\": 1694439434.6108282, \"/Users/heiletjevanzyl/anaconda3/lib/python3.11/bz2.py\": 1694439384.7358391, \"/Users/heiletjevanzyl/anaconda3/lib/python3.11/lib-dynload/_lzma.cpython-311-darwin.so\": 1694439430.3287816, \"/Users/heiletjevanzyl/anaconda3/lib/python3.11/lzma.py\": 1694439385.0746343, \"/Users/heiletjevanzyl/anaconda3/lib/python3.11/shutil.py\": 1694439385.3972523, \"/Users/heiletjevanzyl/anaconda3/lib/python3.11/tempfile.py\": 1694439385.6223996, \"/Users/heiletjevanzyl/anaconda3/lib/python3.11/site-packages/jupyter_core/version.py\": 1679906660.1099536, \"/Users/heiletjevanzyl/anaconda3/lib/python3.11/site-packages/jupyter_core/__init__.py\": 1679906660.1085694, \"/Users/heiletjevanzyl/anaconda3/lib/python3.11/ntpath.py\": 1694439385.118365, \"/Users/heiletjevanzyl/anaconda3/lib/python3.11/pathlib.py\": 1694439385.168411, \"/Users/heiletjevanzyl/anaconda3/lib/python3.11/site-packages/platformdirs/api.py\": 1692205687.9430747, \"/Users/heiletjevanzyl/anaconda3/lib/python3.11/site-packages/platformdirs/version.py\": 1692205687.9440744, \"/Users/heiletjevanzyl/anaconda3/lib/python3.11/site-packages/platformdirs/macos.py\": 1692205687.9433465, \"/Users/heiletjevanzyl/anaconda3/lib/python3.11/site-packages/platformdirs/__init__.py\": 1692205687.9422617, \"/Users/heiletjevanzyl/anaconda3/lib/python3.11/site-packages/jupyter_core/utils/__init__.py\": 1679906660.1137154, \"/Users/heiletjevanzyl/anaconda3/lib/python3.11/site-packages/jupyter_core/paths.py\": 1679906660.109511, \"/Users/heiletjevanzyl/anaconda3/lib/python3.11/site-packages/jupyter_client/localinterfaces.py\": 1677914246.0, \"/Users/heiletjevanzyl/anaconda3/lib/python3.11/site-packages/jupyter_client/utils.py\": 1677914246.0, \"/Users/heiletjevanzyl/anaconda3/lib/python3.11/site-packages/jupyter_client/connect.py\": 1677914246.0, \"/Users/heiletjevanzyl/anaconda3/lib/python3.11/site-packages/jupyter_client/client.py\": 1677914246.0, \"/Users/heiletjevanzyl/anaconda3/lib/python3.11/site-packages/jupyter_client/asynchronous/client.py\": 1677914246.0, \"/Users/heiletjevanzyl/anaconda3/lib/python3.11/site-packages/jupyter_client/asynchronous/__init__.py\": 1677914246.0, \"/Users/heiletjevanzyl/anaconda3/lib/python3.11/site-packages/jupyter_client/blocking/client.py\": 1677914246.0, \"/Users/heiletjevanzyl/anaconda3/lib/python3.11/site-packages/jupyter_client/blocking/__init__.py\": 1677914246.0, \"/Users/heiletjevanzyl/anaconda3/lib/python3.11/site-packages/jupyter_client/launcher.py\": 1677914246.0, \"/Users/heiletjevanzyl/anaconda3/lib/python3.11/lib-dynload/_uuid.cpython-311-darwin.so\": 1694439434.733616, \"/Users/heiletjevanzyl/anaconda3/lib/python3.11/uuid.py\": 1694439385.7220972, \"/Users/heiletjevanzyl/anaconda3/lib/python3.11/site-packages/jupyter_client/managerabc.py\": 1677914246.0, \"/Users/heiletjevanzyl/anaconda3/lib/python3.11/zipfile.py\": 1694439385.7675884, \"/Users/heiletjevanzyl/anaconda3/lib/python3.11/configparser.py\": 1694439384.8052177, \"/Users/heiletjevanzyl/anaconda3/lib/python3.11/site-packages/entrypoints.py\": 1677911911.0, \"/Users/heiletjevanzyl/anaconda3/lib/python3.11/site-packages/jupyter_client/provisioning/provisioner_base.py\": 1677914246.0, \"/Users/heiletjevanzyl/anaconda3/lib/python3.11/site-packages/jupyter_client/provisioning/factory.py\": 1677914246.0, \"/Users/heiletjevanzyl/anaconda3/lib/python3.11/site-packages/jupyter_client/provisioning/local_provisioner.py\": 1677914246.0, \"/Users/heiletjevanzyl/anaconda3/lib/python3.11/site-packages/jupyter_client/provisioning/__init__.py\": 1677914246.0, \"/Users/heiletjevanzyl/anaconda3/lib/python3.11/site-packages/jupyter_client/kernelspec.py\": 1677914246.0, \"/Users/heiletjevanzyl/anaconda3/lib/python3.11/site-packages/jupyter_client/manager.py\": 1677914246.0, \"/Users/heiletjevanzyl/anaconda3/lib/python3.11/site-packages/jupyter_client/multikernelmanager.py\": 1677914246.0, \"/Users/heiletjevanzyl/anaconda3/lib/python3.11/site-packages/jupyter_client/__init__.py\": 1677914246.0, \"/Users/heiletjevanzyl/anaconda3/lib/python3.11/site-packages/ipykernel/connect.py\": 1698244540.4226785, \"/Users/heiletjevanzyl/anaconda3/lib/python3.11/site-packages/ipykernel/__init__.py\": 1698244540.4200673, \"/Users/heiletjevanzyl/anaconda3/lib/python3.11/site-packages/IPython/core/__init__.py\": 1694181608.8526428, \"/Users/heiletjevanzyl/anaconda3/lib/python3.11/site-packages/IPython/core/getipython.py\": 1694181608.8563979, \"/Users/heiletjevanzyl/anaconda3/lib/python3.11/site-packages/IPython/core/release.py\": 1694181608.862244, \"/Users/heiletjevanzyl/anaconda3/lib/python3.11/pkgutil.py\": 1694439385.2050824, \"/Users/heiletjevanzyl/anaconda3/lib/python3.11/sysconfig.py\": 1694439385.596444, \"/Users/heiletjevanzyl/anaconda3/lib/python3.11/_sysconfigdata__darwin_darwin.py\": 1697809497.7551334, \"/Users/heiletjevanzyl/anaconda3/lib/python3.11/_osx_support.py\": 1694439384.5593007, \"/Users/heiletjevanzyl/anaconda3/lib/python3.11/pydoc.py\": 1694439385.2955232, \"/Users/heiletjevanzyl/anaconda3/lib/python3.11/site-packages/executing/executing.py\": 1646925118.0, \"/Users/heiletjevanzyl/anaconda3/lib/python3.11/site-packages/executing/version.py\": 1646925118.0, \"/Users/heiletjevanzyl/anaconda3/lib/python3.11/site-packages/executing/__init__.py\": 1646925118.0, \"/Users/heiletjevanzyl/anaconda3/lib/python3.11/site-packages/asttokens/line_numbers.py\": 1646925667.0, \"/Users/heiletjevanzyl/anaconda3/lib/python3.11/site-packages/asttokens/util.py\": 1646925667.0, \"/Users/heiletjevanzyl/anaconda3/lib/python3.11/site-packages/asttokens/mark_tokens.py\": 1646925667.0, \"/Users/heiletjevanzyl/anaconda3/lib/python3.11/site-packages/asttokens/asttokens.py\": 1646925667.0, \"/Users/heiletjevanzyl/anaconda3/lib/python3.11/site-packages/asttokens/__init__.py\": 1646925667.0, \"/Users/heiletjevanzyl/anaconda3/lib/python3.11/fractions.py\": 1694439384.9081988, \"/Users/heiletjevanzyl/anaconda3/lib/python3.11/site-packages/pure_eval/utils.py\": 1646925117.0, \"/Users/heiletjevanzyl/anaconda3/lib/python3.11/site-packages/pure_eval/my_getattr_static.py\": 1646925117.0, \"/Users/heiletjevanzyl/anaconda3/lib/python3.11/site-packages/pure_eval/core.py\": 1646925117.0, \"/Users/heiletjevanzyl/anaconda3/lib/python3.11/site-packages/pure_eval/version.py\": 1646925117.0, \"/Users/heiletjevanzyl/anaconda3/lib/python3.11/site-packages/pure_eval/__init__.py\": 1646925117.0, \"/Users/heiletjevanzyl/anaconda3/lib/python3.11/site-packages/stack_data/utils.py\": 1646927639.0, \"/Users/heiletjevanzyl/anaconda3/lib/python3.11/site-packages/stack_data/core.py\": 1646927639.0, \"/Users/heiletjevanzyl/anaconda3/lib/python3.11/site-packages/stack_data/formatting.py\": 1646927639.0, \"/Users/heiletjevanzyl/anaconda3/lib/python3.11/site-packages/stack_data/version.py\": 1646927639.0, \"/Users/heiletjevanzyl/anaconda3/lib/python3.11/site-packages/stack_data/__init__.py\": 1646927639.0, \"/Users/heiletjevanzyl/anaconda3/lib/python3.11/site-packages/pygments/__init__.py\": 1684280079.4615245, \"/Users/heiletjevanzyl/anaconda3/lib/python3.11/site-packages/pygments/formatters/_mapping.py\": 1684280079.4644132, \"/Users/heiletjevanzyl/anaconda3/lib/python3.11/site-packages/pygments/plugin.py\": 1684280079.4628057, \"/Users/heiletjevanzyl/anaconda3/lib/python3.11/site-packages/pygments/util.py\": 1684280079.4638867, \"/Users/heiletjevanzyl/anaconda3/lib/python3.11/site-packages/pygments/formatters/__init__.py\": 1684280079.4642923, \"/Users/heiletjevanzyl/anaconda3/lib/python3.11/site-packages/pygments/styles/__init__.py\": 1684280079.499848, \"/Users/heiletjevanzyl/anaconda3/lib/python3.11/site-packages/pygments/formatter.py\": 1684280079.4623005, \"/Users/heiletjevanzyl/anaconda3/lib/python3.11/site-packages/pygments/console.py\": 1684280079.4620457, \"/Users/heiletjevanzyl/anaconda3/lib/python3.11/site-packages/pygments/token.py\": 1684280079.4634545, \"/Users/heiletjevanzyl/anaconda3/lib/python3.11/site-packages/pygments/style.py\": 1684280079.4633284, \"/Users/heiletjevanzyl/anaconda3/lib/python3.11/site-packages/pygments/formatters/terminal256.py\": 1684280079.4660711, \"/Users/heiletjevanzyl/anaconda3/lib/python3.11/site-packages/IPython/utils/__init__.py\": 1694181608.8949196, \"/Users/heiletjevanzyl/anaconda3/lib/python3.11/site-packages/IPython/utils/colorable.py\": 1694181608.8960934, \"/Users/heiletjevanzyl/anaconda3/lib/python3.11/site-packages/IPython/utils/ipstruct.py\": 1694181608.8986552, \"/Users/heiletjevanzyl/anaconda3/lib/python3.11/site-packages/IPython/utils/coloransi.py\": 1694181608.8967001, \"/Users/heiletjevanzyl/anaconda3/lib/python3.11/site-packages/IPython/utils/PyColorize.py\": 1694181608.8948433, \"/Users/heiletjevanzyl/anaconda3/lib/python3.11/site-packages/IPython/utils/encoding.py\": 1694181608.8976686, \"/Users/heiletjevanzyl/anaconda3/lib/python3.11/site-packages/IPython/utils/py3compat.py\": 1694181608.9002483, \"/Users/heiletjevanzyl/anaconda3/lib/python3.11/site-packages/IPython/core/excolors.py\": 1694181608.8559465, \"/Users/heiletjevanzyl/anaconda3/lib/python3.11/cmd.py\": 1694439384.7715132, \"/Users/heiletjevanzyl/anaconda3/lib/python3.11/bdb.py\": 1694439384.721984, \"/Users/heiletjevanzyl/anaconda3/lib/python3.11/codeop.py\": 1694439384.786839, \"/Users/heiletjevanzyl/anaconda3/lib/python3.11/code.py\": 1694439384.7767417, \"/Users/heiletjevanzyl/anaconda3/lib/python3.11/pdb.py\": 1694439385.1748996, \"/Users/heiletjevanzyl/anaconda3/lib/python3.11/site-packages/IPython/core/debugger.py\": 1694181608.8547049, \"/Users/heiletjevanzyl/anaconda3/lib/python3.11/site-packages/IPython/core/display_trap.py\": 1694181608.8552544, \"/Users/heiletjevanzyl/anaconda3/lib/python3.11/site-packages/pexpect/exceptions.py\": 1605563232.0, \"/Users/heiletjevanzyl/anaconda3/lib/python3.11/site-packages/pexpect/utils.py\": 1605563232.0, \"/Users/heiletjevanzyl/anaconda3/lib/python3.11/site-packages/pexpect/expect.py\": 1605563232.0, \"/Users/heiletjevanzyl/anaconda3/lib/python3.11/tty.py\": 1694439385.6894155, \"/Users/heiletjevanzyl/anaconda3/lib/python3.11/pty.py\": 1694439385.2701383, \"/Users/heiletjevanzyl/anaconda3/lib/python3.11/lib-dynload/resource.cpython-311-darwin.so\": 1694439432.0574298, \"/Users/heiletjevanzyl/anaconda3/lib/python3.11/site-packages/ptyprocess/util.py\": 1609355037.0, \"/Users/heiletjevanzyl/anaconda3/lib/python3.11/site-packages/ptyprocess/ptyprocess.py\": 1609355037.0, \"/Users/heiletjevanzyl/anaconda3/lib/python3.11/site-packages/ptyprocess/__init__.py\": 1609355037.0, \"/Users/heiletjevanzyl/anaconda3/lib/python3.11/site-packages/pexpect/spawnbase.py\": 1605563232.0, \"/Users/heiletjevanzyl/anaconda3/lib/python3.11/site-packages/pexpect/pty_spawn.py\": 1605563232.0, \"/Users/heiletjevanzyl/anaconda3/lib/python3.11/site-packages/pexpect/run.py\": 1605563232.0, \"/Users/heiletjevanzyl/anaconda3/lib/python3.11/site-packages/pexpect/__init__.py\": 1605563232.0, \"/Users/heiletjevanzyl/anaconda3/lib/python3.11/shlex.py\": 1694439385.3871868, \"/Users/heiletjevanzyl/anaconda3/lib/python3.11/site-packages/IPython/utils/_process_common.py\": 1694181608.8952372, \"/Users/heiletjevanzyl/anaconda3/lib/python3.11/site-packages/IPython/utils/_process_posix.py\": 1694181608.8953915, \"/Users/heiletjevanzyl/anaconda3/lib/python3.11/site-packages/IPython/utils/process.py\": 1694181608.8997376, \"/Users/heiletjevanzyl/anaconda3/lib/python3.11/site-packages/IPython/utils/path.py\": 1694181608.8995938, \"/Users/heiletjevanzyl/anaconda3/lib/python3.11/site-packages/IPython/utils/terminal.py\": 1694181608.9015052, \"/Users/heiletjevanzyl/anaconda3/lib/python3.11/site-packages/IPython/core/ultratb.py\": 1694181608.8630319, \"/Users/heiletjevanzyl/anaconda3/lib/python3.11/site-packages/IPython/utils/_sysinfo.py\": 1694181608.895846, \"/Users/heiletjevanzyl/anaconda3/lib/python3.11/site-packages/IPython/utils/sysinfo.py\": 1694181608.9011364, \"/Users/heiletjevanzyl/anaconda3/lib/python3.11/site-packages/IPython/core/crashhandler.py\": 1694181608.8544517, \"/Users/heiletjevanzyl/anaconda3/lib/python3.11/site-packages/IPython/utils/importstring.py\": 1694181608.8982897, \"/Users/heiletjevanzyl/anaconda3/lib/python3.11/site-packages/IPython/paths.py\": 1694181608.852404, \"/Users/heiletjevanzyl/anaconda3/lib/python3.11/site-packages/IPython/core/profiledir.py\": 1694181608.861796, \"/Users/heiletjevanzyl/anaconda3/lib/python3.11/site-packages/IPython/core/application.py\": 1694181608.8530166, \"/Users/heiletjevanzyl/anaconda3/lib/python3.11/site-packages/IPython/terminal/__init__.py\": 1694181608.8847394, \"/Users/heiletjevanzyl/anaconda3/lib/python3.11/site-packages/IPython/core/compilerop.py\": 1694181608.8535917, \"/Users/heiletjevanzyl/anaconda3/lib/python3.11/site-packages/IPython/core/error.py\": 1694181608.855678, \"/Users/heiletjevanzyl/anaconda3/lib/python3.11/site-packages/IPython/utils/docs.py\": 1694181608.8975444, \"/Users/heiletjevanzyl/anaconda3/lib/python3.11/site-packages/IPython/utils/decorators.py\": 1694181608.8972924, \"/Users/heiletjevanzyl/anaconda3/lib/python3.11/site-packages/IPython/utils/text.py\": 1694181608.901791, \"/Users/heiletjevanzyl/anaconda3/lib/python3.11/site-packages/IPython/core/magic_arguments.py\": 1694181608.8601222, \"/Users/heiletjevanzyl/anaconda3/lib/python3.11/getopt.py\": 1694439384.9381027, \"/Users/heiletjevanzyl/anaconda3/lib/python3.11/site-packages/IPython/core/display_functions.py\": 1694181608.8551166, \"/Users/heiletjevanzyl/anaconda3/lib/python3.11/mimetypes.py\": 1694439385.0921552, \"/Users/heiletjevanzyl/anaconda3/lib/python3.11/site-packages/IPython/testing/__init__.py\": 1694181608.8904953, \"/Users/heiletjevanzyl/anaconda3/lib/python3.11/site-packages/IPython/testing/skipdoctest.py\": 1694181608.8912065, \"/Users/heiletjevanzyl/anaconda3/lib/python3.11/site-packages/IPython/core/display.py\": 1694181608.8549345, \"/Users/heiletjevanzyl/anaconda3/lib/python3.11/site-packages/IPython/lib/__init__.py\": 1694181608.8795283, \"/Users/heiletjevanzyl/anaconda3/lib/python3.11/site-packages/IPython/lib/display.py\": 1694181608.8806198, \"/Users/heiletjevanzyl/anaconda3/lib/python3.11/site-packages/IPython/display.py\": 1694181608.8522549, \"/Users/heiletjevanzyl/anaconda3/lib/python3.11/site-packages/IPython/utils/data.py\": 1694181608.8971517, \"/Users/heiletjevanzyl/anaconda3/lib/python3.11/site-packages/IPython/core/page.py\": 1694181608.8605702, \"/Users/heiletjevanzyl/anaconda3/lib/python3.11/site-packages/IPython/lib/pretty.py\": 1694181608.8819432, \"/Users/heiletjevanzyl/anaconda3/lib/python3.11/site-packages/IPython/utils/openpy.py\": 1694181608.8994367, \"/Users/heiletjevanzyl/anaconda3/lib/python3.11/site-packages/IPython/utils/dir2.py\": 1694181608.8974214, \"/Users/heiletjevanzyl/anaconda3/lib/python3.11/site-packages/IPython/utils/wildcard.py\": 1694181608.9031787, \"/Users/heiletjevanzyl/anaconda3/lib/python3.11/site-packages/pygments/lexers/_mapping.py\": 1684280079.468912, \"/Users/heiletjevanzyl/anaconda3/lib/python3.11/site-packages/pygments/modeline.py\": 1684280079.4626741, \"/Users/heiletjevanzyl/anaconda3/lib/python3.11/site-packages/pygments/lexers/__init__.py\": 1684280079.4662397, \"/Users/heiletjevanzyl/anaconda3/lib/python3.11/site-packages/pygments/filter.py\": 1684280079.4621696, \"/Users/heiletjevanzyl/anaconda3/lib/python3.11/site-packages/pygments/filters/__init__.py\": 1684280079.4641237, \"/Users/heiletjevanzyl/anaconda3/lib/python3.11/site-packages/pygments/regexopt.py\": 1684280079.4629433, \"/Users/heiletjevanzyl/anaconda3/lib/python3.11/site-packages/pygments/lexer.py\": 1684280079.4625328, \"/Users/heiletjevanzyl/anaconda3/lib/python3.11/site-packages/pygments/unistring.py\": 1684280079.463745, \"/Users/heiletjevanzyl/anaconda3/lib/python3.11/site-packages/pygments/lexers/python.py\": 1684280079.4909723, \"/Users/heiletjevanzyl/anaconda3/lib/python3.11/site-packages/pygments/formatters/html.py\": 1684280079.4648771, \"/Users/heiletjevanzyl/anaconda3/lib/python3.11/site-packages/IPython/core/oinspect.py\": 1694181608.8603897, \"/Users/heiletjevanzyl/anaconda3/lib/python3.11/site-packages/IPython/utils/tokenutil.py\": 1694181608.9025323, \"/Users/heiletjevanzyl/anaconda3/lib/python3.11/site-packages/IPython/core/inputtransformer2.py\": 1694181608.8579905, \"/Users/heiletjevanzyl/anaconda3/lib/python3.11/site-packages/IPython/core/magic.py\": 1694181608.8599236, \"/Users/heiletjevanzyl/anaconda3/lib/python3.11/site-packages/pickleshare.py\": 1606932074.0, \"/Users/heiletjevanzyl/anaconda3/lib/python3.11/site-packages/IPython/core/hooks.py\": 1694181608.8570883, \"/Users/heiletjevanzyl/anaconda3/lib/python3.11/site-packages/IPython/core/autocall.py\": 1694181608.853306, \"/Users/heiletjevanzyl/anaconda3/lib/python3.11/site-packages/IPython/core/macro.py\": 1694181608.8594542, \"/Users/heiletjevanzyl/anaconda3/lib/python3.11/site-packages/IPython/core/splitinput.py\": 1694181608.8625546, \"/Users/heiletjevanzyl/anaconda3/lib/python3.11/site-packages/IPython/core/prefilter.py\": 1694181608.8610744, \"/Users/heiletjevanzyl/anaconda3/lib/python3.11/site-packages/IPython/core/alias.py\": 1694181608.8528306, \"/Users/heiletjevanzyl/anaconda3/lib/python3.11/site-packages/IPython/core/builtin_trap.py\": 1694181608.8534431, \"/Users/heiletjevanzyl/anaconda3/lib/python3.11/site-packages/IPython/core/displayhook.py\": 1694181608.8554156, \"/Users/heiletjevanzyl/anaconda3/lib/python3.11/site-packages/IPython/core/displaypub.py\": 1694181608.8555539, \"/Users/heiletjevanzyl/anaconda3/lib/python3.11/site-packages/backcall/backcall.py\": 1611930017.0, \"/Users/heiletjevanzyl/anaconda3/lib/python3.11/site-packages/backcall/__init__.py\": 1611930017.0, \"/Users/heiletjevanzyl/anaconda3/lib/python3.11/site-packages/IPython/core/events.py\": 1694181608.8558173, \"/Users/heiletjevanzyl/anaconda3/lib/python3.11/site-packages/IPython/core/extensions.py\": 1694181608.8560755, \"/Users/heiletjevanzyl/anaconda3/lib/python3.11/site-packages/decorator.py\": 1643638344.0, \"/Users/heiletjevanzyl/anaconda3/lib/python3.11/site-packages/IPython/utils/sentinel.py\": 1694181608.900602, \"/Users/heiletjevanzyl/anaconda3/lib/python3.11/site-packages/IPython/core/formatters.py\": 1694181608.8562722, \"/Users/heiletjevanzyl/anaconda3/lib/python3.11/lib-dynload/_sqlite3.cpython-311-darwin.so\": 1694439439.1525908, \"/Users/heiletjevanzyl/anaconda3/lib/python3.11/sqlite3/dbapi2.py\": 1694439390.9569302, \"/Users/heiletjevanzyl/anaconda3/lib/python3.11/sqlite3/__init__.py\": 1694439390.9517722, \"/Users/heiletjevanzyl/anaconda3/lib/python3.11/site-packages/IPython/core/history.py\": 1694181608.856798, \"/Users/heiletjevanzyl/anaconda3/lib/python3.11/site-packages/IPython/core/logger.py\": 1694181608.8589494, \"/Users/heiletjevanzyl/anaconda3/lib/python3.11/site-packages/IPython/core/payload.py\": 1694181608.8607085, \"/Users/heiletjevanzyl/anaconda3/lib/python3.11/site-packages/IPython/core/usage.py\": 1694181608.8637233, \"/Users/heiletjevanzyl/anaconda3/lib/python3.11/site-packages/IPython/utils/capture.py\": 1694181608.8959768, \"/Users/heiletjevanzyl/anaconda3/lib/python3.11/site-packages/IPython/utils/io.py\": 1694181608.898501, \"/Users/heiletjevanzyl/anaconda3/lib/python3.11/site-packages/IPython/utils/strdispatch.py\": 1694181608.9009953, \"/Users/heiletjevanzyl/anaconda3/lib/python3.11/site-packages/IPython/utils/syspathcontext.py\": 1694181608.901261, \"/Users/heiletjevanzyl/anaconda3/lib/python3.11/site-packages/IPython/core/async_helpers.py\": 1694181608.853164, \"/Users/heiletjevanzyl/anaconda3/lib/python3.11/site-packages/IPython/core/interactiveshell.py\": 1694181608.8585844, \"/Users/heiletjevanzyl/anaconda3/lib/python3.11/site-packages/prompt_toolkit/application/current.py\": 1677918802.0, \"/Users/heiletjevanzyl/anaconda3/lib/python3.11/site-packages/prompt_toolkit/eventloop/async_context_manager.py\": 1677918802.0, \"/Users/heiletjevanzyl/anaconda3/lib/python3.11/site-packages/prompt_toolkit/eventloop/utils.py\": 1677918802.0, \"/Users/heiletjevanzyl/anaconda3/lib/python3.11/site-packages/prompt_toolkit/eventloop/async_generator.py\": 1677918802.0, \"/Users/heiletjevanzyl/anaconda3/lib/python3.11/site-packages/prompt_toolkit/eventloop/inputhook.py\": 1677918802.0, \"/Users/heiletjevanzyl/anaconda3/lib/python3.11/site-packages/prompt_toolkit/eventloop/__init__.py\": 1677918802.0, \"/Users/heiletjevanzyl/anaconda3/lib/python3.11/site-packages/prompt_toolkit/application/run_in_terminal.py\": 1677918802.0, \"/Users/heiletjevanzyl/anaconda3/lib/python3.11/site-packages/prompt_toolkit/selection.py\": 1677918802.0, \"/Users/heiletjevanzyl/anaconda3/lib/python3.11/site-packages/prompt_toolkit/clipboard/base.py\": 1677918802.0, \"/Users/heiletjevanzyl/anaconda3/lib/python3.11/site-packages/prompt_toolkit/clipboard/in_memory.py\": 1677918802.0, \"/Users/heiletjevanzyl/anaconda3/lib/python3.11/site-packages/prompt_toolkit/clipboard/__init__.py\": 1677918802.0, \"/Users/heiletjevanzyl/anaconda3/lib/python3.11/site-packages/prompt_toolkit/cache.py\": 1677918802.0, \"/Users/heiletjevanzyl/anaconda3/lib/python3.11/site-packages/prompt_toolkit/enums.py\": 1677918802.0, \"/Users/heiletjevanzyl/anaconda3/lib/python3.11/site-packages/prompt_toolkit/filters/base.py\": 1677918802.0, \"/Users/heiletjevanzyl/anaconda3/lib/python3.11/site-packages/prompt_toolkit/filters/app.py\": 1677918802.0, \"/Users/heiletjevanzyl/anaconda3/lib/python3.11/site-packages/prompt_toolkit/filters/cli.py\": 1677918802.0, \"/Users/heiletjevanzyl/anaconda3/lib/python3.11/site-packages/prompt_toolkit/filters/utils.py\": 1677918802.0, \"/Users/heiletjevanzyl/anaconda3/lib/python3.11/site-packages/prompt_toolkit/filters/__init__.py\": 1677918802.0, \"/Users/heiletjevanzyl/anaconda3/lib/python3.11/site-packages/prompt_toolkit/document.py\": 1677918802.0, \"/Users/heiletjevanzyl/anaconda3/lib/python3.11/site-packages/prompt_toolkit/auto_suggest.py\": 1677918802.0, \"/Users/heiletjevanzyl/anaconda3/lib/python3.11/site-packages/prompt_toolkit/keys.py\": 1677918802.0, \"/Users/heiletjevanzyl/anaconda3/lib/python3.11/site-packages/prompt_toolkit/key_binding/key_bindings.py\": 1677918802.0, \"/Users/heiletjevanzyl/anaconda3/lib/python3.11/site-packages/wcwidth/table_wide.py\": 1629357208.0, \"/Users/heiletjevanzyl/anaconda3/lib/python3.11/site-packages/wcwidth/table_zero.py\": 1629357208.0, \"/Users/heiletjevanzyl/anaconda3/lib/python3.11/site-packages/wcwidth/unicode_versions.py\": 1629357208.0, \"/Users/heiletjevanzyl/anaconda3/lib/python3.11/site-packages/wcwidth/wcwidth.py\": 1629357208.0, \"/Users/heiletjevanzyl/anaconda3/lib/python3.11/site-packages/wcwidth/__init__.py\": 1629357208.0, \"/Users/heiletjevanzyl/anaconda3/lib/python3.11/site-packages/prompt_toolkit/utils.py\": 1677918802.0, \"/Users/heiletjevanzyl/anaconda3/lib/python3.11/site-packages/prompt_toolkit/key_binding/key_processor.py\": 1677918802.0, \"/Users/heiletjevanzyl/anaconda3/lib/python3.11/site-packages/prompt_toolkit/key_binding/__init__.py\": 1677918802.0, \"/Users/heiletjevanzyl/anaconda3/lib/python3.11/site-packages/prompt_toolkit/key_binding/vi_state.py\": 1677918802.0, \"/Users/heiletjevanzyl/anaconda3/lib/python3.11/site-packages/prompt_toolkit/cursor_shapes.py\": 1677918802.0, \"/Users/heiletjevanzyl/anaconda3/lib/python3.11/site-packages/prompt_toolkit/data_structures.py\": 1677918802.0, \"/Users/heiletjevanzyl/anaconda3/lib/python3.11/site-packages/prompt_toolkit/styles/base.py\": 1677918802.0, \"/Users/heiletjevanzyl/anaconda3/lib/python3.11/site-packages/prompt_toolkit/styles/named_colors.py\": 1677918802.0, \"/Users/heiletjevanzyl/anaconda3/lib/python3.11/site-packages/prompt_toolkit/styles/style.py\": 1677918802.0, \"/Users/heiletjevanzyl/anaconda3/lib/python3.11/site-packages/prompt_toolkit/styles/defaults.py\": 1677918802.0, \"/Users/heiletjevanzyl/anaconda3/lib/python3.11/site-packages/prompt_toolkit/styles/pygments.py\": 1677918802.0, \"/Users/heiletjevanzyl/anaconda3/lib/python3.11/colorsys.py\": 1694439384.792228, \"/Users/heiletjevanzyl/anaconda3/lib/python3.11/site-packages/prompt_toolkit/styles/style_transformation.py\": 1677918802.0, \"/Users/heiletjevanzyl/anaconda3/lib/python3.11/site-packages/prompt_toolkit/styles/__init__.py\": 1677918802.0, \"/Users/heiletjevanzyl/anaconda3/lib/python3.11/site-packages/prompt_toolkit/output/color_depth.py\": 1677918802.0, \"/Users/heiletjevanzyl/anaconda3/lib/python3.11/site-packages/prompt_toolkit/output/base.py\": 1677918802.0, \"/Users/heiletjevanzyl/anaconda3/lib/python3.11/site-packages/prompt_toolkit/output/flush_stdout.py\": 1677918802.0, \"/Users/heiletjevanzyl/anaconda3/lib/python3.11/site-packages/prompt_toolkit/output/plain_text.py\": 1677918802.0, \"/Users/heiletjevanzyl/anaconda3/lib/python3.11/site-packages/prompt_toolkit/output/defaults.py\": 1677918802.0, \"/Users/heiletjevanzyl/anaconda3/lib/python3.11/site-packages/prompt_toolkit/output/__init__.py\": 1677918802.0, \"/Users/heiletjevanzyl/anaconda3/lib/python3.11/site-packages/prompt_toolkit/output/vt100.py\": 1677918802.0, \"/Users/heiletjevanzyl/anaconda3/lib/python3.11/site-packages/prompt_toolkit/mouse_events.py\": 1677918802.0, \"/Users/heiletjevanzyl/anaconda3/lib/python3.11/site-packages/prompt_toolkit/formatted_text/base.py\": 1677918802.0, \"/Users/heiletjevanzyl/anaconda3/lib/python3.11/site-packages/prompt_toolkit/formatted_text/ansi.py\": 1677918802.0, \"/Users/heiletjevanzyl/anaconda3/lib/python3.11/xml/__init__.py\": 1694439391.7142308, \"/Users/heiletjevanzyl/anaconda3/lib/python3.11/xml/dom/domreg.py\": 1694439391.7624767, \"/Users/heiletjevanzyl/anaconda3/lib/python3.11/xml/dom/__init__.py\": 1694439391.7513638, \"/Users/heiletjevanzyl/anaconda3/lib/python3.11/xml/dom/minicompat.py\": 1694439391.7855475, \"/Users/heiletjevanzyl/anaconda3/lib/python3.11/xml/dom/NodeFilter.py\": 1694439391.7410755, \"/Users/heiletjevanzyl/anaconda3/lib/python3.11/xml/dom/xmlbuilder.py\": 1694439391.8168137, \"/Users/heiletjevanzyl/anaconda3/lib/python3.11/xml/dom/minidom.py\": 1694439391.7954106, \"/Users/heiletjevanzyl/anaconda3/lib/python3.11/site-packages/prompt_toolkit/formatted_text/html.py\": 1677918802.0, \"/Users/heiletjevanzyl/anaconda3/lib/python3.11/site-packages/prompt_toolkit/formatted_text/pygments.py\": 1677918802.0, \"/Users/heiletjevanzyl/anaconda3/lib/python3.11/site-packages/prompt_toolkit/formatted_text/utils.py\": 1677918802.0, \"/Users/heiletjevanzyl/anaconda3/lib/python3.11/site-packages/prompt_toolkit/formatted_text/__init__.py\": 1677918802.0, \"/Users/heiletjevanzyl/anaconda3/lib/python3.11/site-packages/prompt_toolkit/completion/base.py\": 1677918802.0, \"/Users/heiletjevanzyl/anaconda3/lib/python3.11/site-packages/prompt_toolkit/completion/deduplicate.py\": 1677918802.0, \"/Users/heiletjevanzyl/anaconda3/lib/python3.11/site-packages/prompt_toolkit/completion/filesystem.py\": 1677918802.0, \"/Users/heiletjevanzyl/anaconda3/lib/python3.11/site-packages/prompt_toolkit/completion/word_completer.py\": 1677918802.0, \"/Users/heiletjevanzyl/anaconda3/lib/python3.11/site-packages/prompt_toolkit/completion/fuzzy_completer.py\": 1677918802.0, \"/Users/heiletjevanzyl/anaconda3/lib/python3.11/site-packages/prompt_toolkit/completion/nested.py\": 1677918802.0, \"/Users/heiletjevanzyl/anaconda3/lib/python3.11/site-packages/prompt_toolkit/completion/__init__.py\": 1677918802.0, \"/Users/heiletjevanzyl/anaconda3/lib/python3.11/site-packages/prompt_toolkit/history.py\": 1677918802.0, \"/Users/heiletjevanzyl/anaconda3/lib/python3.11/site-packages/prompt_toolkit/search.py\": 1677918802.0, \"/Users/heiletjevanzyl/anaconda3/lib/python3.11/site-packages/prompt_toolkit/validation.py\": 1677918802.0, \"/Users/heiletjevanzyl/anaconda3/lib/python3.11/site-packages/prompt_toolkit/buffer.py\": 1677918802.0, \"/Users/heiletjevanzyl/anaconda3/lib/python3.11/site-packages/prompt_toolkit/input/base.py\": 1677918802.0, \"/Users/heiletjevanzyl/anaconda3/lib/python3.11/site-packages/prompt_toolkit/input/defaults.py\": 1677918802.0, \"/Users/heiletjevanzyl/anaconda3/lib/python3.11/site-packages/prompt_toolkit/input/__init__.py\": 1677918802.0, \"/Users/heiletjevanzyl/anaconda3/lib/python3.11/site-packages/prompt_toolkit/input/typeahead.py\": 1677918802.0, \"/Users/heiletjevanzyl/anaconda3/lib/python3.11/site-packages/prompt_toolkit/key_binding/bindings/__init__.py\": 1677918802.0, \"/Users/heiletjevanzyl/anaconda3/lib/python3.11/site-packages/prompt_toolkit/key_binding/bindings/scroll.py\": 1677918802.0, \"/Users/heiletjevanzyl/anaconda3/lib/python3.11/site-packages/prompt_toolkit/key_binding/bindings/page_navigation.py\": 1677918802.0, \"/Users/heiletjevanzyl/anaconda3/lib/python3.11/site-packages/prompt_toolkit/lexers/base.py\": 1677918802.0, \"/Users/heiletjevanzyl/anaconda3/lib/python3.11/site-packages/prompt_toolkit/lexers/pygments.py\": 1677918802.0, \"/Users/heiletjevanzyl/anaconda3/lib/python3.11/site-packages/prompt_toolkit/lexers/__init__.py\": 1677918802.0, \"/Users/heiletjevanzyl/anaconda3/lib/python3.11/site-packages/prompt_toolkit/layout/utils.py\": 1677918802.0, \"/Users/heiletjevanzyl/anaconda3/lib/python3.11/site-packages/prompt_toolkit/layout/processors.py\": 1677918802.0, \"/Users/heiletjevanzyl/anaconda3/lib/python3.11/site-packages/prompt_toolkit/layout/controls.py\": 1677918802.0, \"/Users/heiletjevanzyl/anaconda3/lib/python3.11/site-packages/prompt_toolkit/layout/dimension.py\": 1677918802.0, \"/Users/heiletjevanzyl/anaconda3/lib/python3.11/site-packages/prompt_toolkit/layout/margins.py\": 1677918802.0, \"/Users/heiletjevanzyl/anaconda3/lib/python3.11/site-packages/prompt_toolkit/layout/mouse_handlers.py\": 1677918802.0, \"/Users/heiletjevanzyl/anaconda3/lib/python3.11/site-packages/prompt_toolkit/layout/screen.py\": 1677918802.0, \"/Users/heiletjevanzyl/anaconda3/lib/python3.11/site-packages/prompt_toolkit/layout/containers.py\": 1677918802.0, \"/Users/heiletjevanzyl/anaconda3/lib/python3.11/site-packages/prompt_toolkit/layout/layout.py\": 1677918802.0, \"/Users/heiletjevanzyl/anaconda3/lib/python3.11/site-packages/prompt_toolkit/layout/menus.py\": 1677918802.0, \"/Users/heiletjevanzyl/anaconda3/lib/python3.11/site-packages/prompt_toolkit/layout/scrollable_pane.py\": 1677918802.0, \"/Users/heiletjevanzyl/anaconda3/lib/python3.11/site-packages/prompt_toolkit/layout/__init__.py\": 1677918802.0, \"/Users/heiletjevanzyl/anaconda3/lib/python3.11/site-packages/prompt_toolkit/key_binding/bindings/completion.py\": 1677918802.0, \"/Users/heiletjevanzyl/anaconda3/lib/python3.11/site-packages/prompt_toolkit/key_binding/bindings/named_commands.py\": 1677918802.0, \"/Users/heiletjevanzyl/anaconda3/lib/python3.11/site-packages/prompt_toolkit/key_binding/bindings/basic.py\": 1677918802.0, \"/Users/heiletjevanzyl/anaconda3/lib/python3.11/site-packages/prompt_toolkit/key_binding/bindings/cpr.py\": 1677918802.0, \"/Users/heiletjevanzyl/anaconda3/lib/python3.11/site-packages/prompt_toolkit/key_binding/bindings/emacs.py\": 1677918802.0, \"/Users/heiletjevanzyl/anaconda3/lib/python3.11/site-packages/prompt_toolkit/key_binding/bindings/mouse.py\": 1677918802.0, \"/Users/heiletjevanzyl/anaconda3/lib/python3.11/site-packages/prompt_toolkit/input/ansi_escape_sequences.py\": 1677918802.0, \"/Users/heiletjevanzyl/anaconda3/lib/python3.11/site-packages/prompt_toolkit/input/vt100_parser.py\": 1677918802.0, \"/Users/heiletjevanzyl/anaconda3/lib/python3.11/site-packages/prompt_toolkit/key_binding/digraphs.py\": 1677918802.0, \"/Users/heiletjevanzyl/anaconda3/lib/python3.11/site-packages/prompt_toolkit/key_binding/bindings/vi.py\": 1677918802.0, \"/Users/heiletjevanzyl/anaconda3/lib/python3.11/site-packages/prompt_toolkit/key_binding/defaults.py\": 1677918802.0, \"/Users/heiletjevanzyl/anaconda3/lib/python3.11/site-packages/prompt_toolkit/key_binding/emacs_state.py\": 1677918802.0, \"/Users/heiletjevanzyl/anaconda3/lib/python3.11/site-packages/prompt_toolkit/layout/dummy.py\": 1677918802.0, \"/Users/heiletjevanzyl/anaconda3/lib/python3.11/site-packages/prompt_toolkit/renderer.py\": 1677918802.0, \"/Users/heiletjevanzyl/anaconda3/lib/python3.11/site-packages/prompt_toolkit/application/application.py\": 1677918802.0, \"/Users/heiletjevanzyl/anaconda3/lib/python3.11/site-packages/prompt_toolkit/application/dummy.py\": 1677918802.0, \"/Users/heiletjevanzyl/anaconda3/lib/python3.11/site-packages/prompt_toolkit/application/__init__.py\": 1677918802.0, \"/Users/heiletjevanzyl/anaconda3/lib/python3.11/site-packages/prompt_toolkit/key_binding/bindings/focus.py\": 1677918802.0, \"/Users/heiletjevanzyl/anaconda3/lib/python3.11/site-packages/prompt_toolkit/widgets/toolbars.py\": 1677918802.0, \"/Users/heiletjevanzyl/anaconda3/lib/python3.11/site-packages/prompt_toolkit/widgets/base.py\": 1677918802.0, \"/Users/heiletjevanzyl/anaconda3/lib/python3.11/site-packages/prompt_toolkit/widgets/dialogs.py\": 1677918802.0, \"/Users/heiletjevanzyl/anaconda3/lib/python3.11/site-packages/prompt_toolkit/widgets/menus.py\": 1677918802.0, \"/Users/heiletjevanzyl/anaconda3/lib/python3.11/site-packages/prompt_toolkit/widgets/__init__.py\": 1677918802.0, \"/Users/heiletjevanzyl/anaconda3/lib/python3.11/site-packages/prompt_toolkit/shortcuts/dialogs.py\": 1677918802.0, \"/Users/heiletjevanzyl/anaconda3/lib/python3.11/site-packages/prompt_toolkit/shortcuts/progress_bar/formatters.py\": 1677918802.0, \"/Users/heiletjevanzyl/anaconda3/lib/python3.11/site-packages/prompt_toolkit/shortcuts/progress_bar/base.py\": 1677918802.0, \"/Users/heiletjevanzyl/anaconda3/lib/python3.11/site-packages/prompt_toolkit/shortcuts/progress_bar/__init__.py\": 1677918802.0, \"/Users/heiletjevanzyl/anaconda3/lib/python3.11/site-packages/prompt_toolkit/key_binding/bindings/auto_suggest.py\": 1677918802.0, \"/Users/heiletjevanzyl/anaconda3/lib/python3.11/site-packages/prompt_toolkit/key_binding/bindings/open_in_editor.py\": 1677918802.0, \"/Users/heiletjevanzyl/anaconda3/lib/python3.11/site-packages/prompt_toolkit/shortcuts/prompt.py\": 1677918802.0, \"/Users/heiletjevanzyl/anaconda3/lib/python3.11/site-packages/prompt_toolkit/shortcuts/utils.py\": 1677918802.0, \"/Users/heiletjevanzyl/anaconda3/lib/python3.11/site-packages/prompt_toolkit/shortcuts/__init__.py\": 1677918802.0, \"/Users/heiletjevanzyl/anaconda3/lib/python3.11/site-packages/prompt_toolkit/__init__.py\": 1677918802.0, \"/Users/heiletjevanzyl/anaconda3/lib/python3.11/site-packages/prompt_toolkit/patch_stdout.py\": 1677918802.0, \"/Users/heiletjevanzyl/anaconda3/lib/python3.11/lib-dynload/unicodedata.cpython-311-darwin.so\": 1694439433.0922675, \"/Users/heiletjevanzyl/anaconda3/lib/python3.11/site-packages/IPython/core/guarded_eval.py\": 1694181608.8565903, \"/Users/heiletjevanzyl/anaconda3/lib/python3.11/site-packages/IPython/core/latex_symbols.py\": 1694181608.8587978, \"/Users/heiletjevanzyl/anaconda3/lib/python3.11/site-packages/IPython/utils/generics.py\": 1694181608.898146, \"/Users/heiletjevanzyl/anaconda3/lib/python3.11/site-packages/parso/utils.py\": 1641458668.0, \"/Users/heiletjevanzyl/anaconda3/lib/python3.11/site-packages/parso/tree.py\": 1641458668.0, \"/Users/heiletjevanzyl/anaconda3/lib/python3.11/site-packages/parso/python/__init__.py\": 1641458668.0, \"/Users/heiletjevanzyl/anaconda3/lib/python3.11/site-packages/parso/python/token.py\": 1641458668.0, \"/Users/heiletjevanzyl/anaconda3/lib/python3.11/site-packages/parso/python/tokenize.py\": 1641458668.0, \"/Users/heiletjevanzyl/anaconda3/lib/python3.11/site-packages/parso/pgen2/grammar_parser.py\": 1641458668.0, \"/Users/heiletjevanzyl/anaconda3/lib/python3.11/site-packages/parso/pgen2/generator.py\": 1641458668.0, \"/Users/heiletjevanzyl/anaconda3/lib/python3.11/site-packages/parso/pgen2/__init__.py\": 1641458668.0, \"/Users/heiletjevanzyl/anaconda3/lib/python3.11/site-packages/parso/parser.py\": 1641458668.0, \"/Users/heiletjevanzyl/anaconda3/lib/python3.11/site-packages/parso/_compatibility.py\": 1641458668.0, \"/Users/heiletjevanzyl/anaconda3/lib/python3.11/difflib.py\": 1694439384.8639667, \"/Users/heiletjevanzyl/anaconda3/lib/python3.11/site-packages/parso/python/prefix.py\": 1641458668.0, \"/Users/heiletjevanzyl/anaconda3/lib/python3.11/site-packages/parso/python/tree.py\": 1641458668.0, \"/Users/heiletjevanzyl/anaconda3/lib/python3.11/site-packages/parso/python/parser.py\": 1641458668.0, \"/Users/heiletjevanzyl/anaconda3/lib/python3.11/site-packages/parso/python/diff.py\": 1641458668.0, \"/Users/heiletjevanzyl/anaconda3/lib/python3.11/site-packages/parso/cache.py\": 1641458668.0, \"/Users/heiletjevanzyl/anaconda3/lib/python3.11/site-packages/parso/normalizer.py\": 1641458668.0, \"/Users/heiletjevanzyl/anaconda3/lib/python3.11/site-packages/parso/python/errors.py\": 1641458668.0, \"/Users/heiletjevanzyl/anaconda3/lib/python3.11/site-packages/parso/python/pep8.py\": 1641458668.0, \"/Users/heiletjevanzyl/anaconda3/lib/python3.11/site-packages/parso/file_io.py\": 1641458668.0, \"/Users/heiletjevanzyl/anaconda3/lib/python3.11/site-packages/parso/grammar.py\": 1641458668.0, \"/Users/heiletjevanzyl/anaconda3/lib/python3.11/site-packages/parso/__init__.py\": 1641458668.0, \"/Users/heiletjevanzyl/anaconda3/lib/python3.11/site-packages/jedi/parser_utils.py\": 1678994983.2623944, \"/Users/heiletjevanzyl/anaconda3/lib/python3.11/site-packages/jedi/debug.py\": 1678994983.2619162, \"/Users/heiletjevanzyl/anaconda3/lib/python3.11/site-packages/jedi/settings.py\": 1678994983.2626328, \"/Users/heiletjevanzyl/anaconda3/lib/python3.11/site-packages/jedi/cache.py\": 1678994983.261606, \"/Users/heiletjevanzyl/anaconda3/lib/python3.11/site-packages/jedi/file_io.py\": 1678994983.262067, \"/Users/heiletjevanzyl/anaconda3/lib/python3.11/site-packages/jedi/inference/cache.py\": 1678994983.2664125, \"/Users/heiletjevanzyl/anaconda3/lib/python3.11/site-packages/jedi/inference/helpers.py\": 1678994983.2676442, \"/Users/heiletjevanzyl/anaconda3/lib/python3.11/site-packages/jedi/inference/utils.py\": 1678994983.2699854, \"/Users/heiletjevanzyl/anaconda3/lib/python3.11/site-packages/jedi/inference/base_value.py\": 1678994983.2662454, \"/Users/heiletjevanzyl/anaconda3/lib/python3.11/site-packages/jedi/inference/sys_path.py\": 1678994983.2698264, \"/Users/heiletjevanzyl/anaconda3/lib/python3.11/site-packages/jedi/inference/recursion.py\": 1678994983.268606, \"/Users/heiletjevanzyl/anaconda3/lib/python3.11/site-packages/jedi/inference/flow_analysis.py\": 1678994983.2675002, \"/Users/heiletjevanzyl/anaconda3/lib/python3.11/site-packages/jedi/common.py\": 1678994983.26174, \"/Users/heiletjevanzyl/anaconda3/lib/python3.11/site-packages/jedi/inference/lazy_value.py\": 1678994983.2679892, \"/Users/heiletjevanzyl/anaconda3/lib/python3.11/site-packages/jedi/inference/docstrings.py\": 1678994983.266888, \"/Users/heiletjevanzyl/anaconda3/lib/python3.11/site-packages/jedi/plugins/__init__.py\": 1678994983.2754884, \"/Users/heiletjevanzyl/anaconda3/lib/python3.11/site-packages/jedi/inference/names.py\": 1678994983.2681625, \"/Users/heiletjevanzyl/anaconda3/lib/python3.11/site-packages/jedi/inference/filters.py\": 1678994983.2672143, \"/Users/heiletjevanzyl/anaconda3/lib/python3.11/site-packages/jedi/inference/compiled/getattr_static.py\": 1678994983.270461, \"/Users/heiletjevanzyl/anaconda3/lib/python3.11/site-packages/jedi/inference/compiled/access.py\": 1678994983.2703226, \"/Users/heiletjevanzyl/anaconda3/lib/python3.11/site-packages/jedi/inference/signature.py\": 1678994983.2691243, \"/Users/heiletjevanzyl/anaconda3/lib/python3.11/site-packages/jedi/inference/context.py\": 1678994983.2665884, \"/Users/heiletjevanzyl/anaconda3/lib/python3.11/site-packages/jedi/inference/compiled/value.py\": 1678994983.271077, \"/Users/heiletjevanzyl/anaconda3/lib/python3.11/site-packages/jedi/inference/compiled/__init__.py\": 1678994983.2701488, \"/Users/heiletjevanzyl/anaconda3/lib/python3.11/site-packages/jedi/inference/analysis.py\": 1678994983.2658877, \"/Users/heiletjevanzyl/anaconda3/lib/python3.11/site-packages/jedi/inference/gradual/__init__.py\": 1678994983.271764, \"/Users/heiletjevanzyl/anaconda3/lib/python3.11/site-packages/jedi/inference/value/module.py\": 1678994983.2751782, \"/Users/heiletjevanzyl/anaconda3/lib/python3.11/site-packages/jedi/inference/value/dynamic_arrays.py\": 1678994983.2740939, \"/Users/heiletjevanzyl/anaconda3/lib/python3.11/site-packages/jedi/inference/value/iterable.py\": 1678994983.2748554, \"/Users/heiletjevanzyl/anaconda3/lib/python3.11/site-packages/jedi/inference/arguments.py\": 1678994983.2660644, \"/Users/heiletjevanzyl/anaconda3/lib/python3.11/site-packages/jedi/inference/parser_cache.py\": 1678994983.268445, \"/Users/heiletjevanzyl/anaconda3/lib/python3.11/site-packages/jedi/inference/gradual/generics.py\": 1678994983.272513, \"/Users/heiletjevanzyl/anaconda3/lib/python3.11/site-packages/jedi/inference/value/function.py\": 1678994983.2744346, \"/Users/heiletjevanzyl/anaconda3/lib/python3.11/site-packages/jedi/inference/value/klass.py\": 1678994983.2750285, \"/Users/heiletjevanzyl/anaconda3/lib/python3.11/site-packages/jedi/inference/value/instance.py\": 1678994983.2746673, \"/Users/heiletjevanzyl/anaconda3/lib/python3.11/site-packages/jedi/inference/value/__init__.py\": 1678994983.273787, \"/Users/heiletjevanzyl/anaconda3/lib/python3.11/site-packages/jedi/inference/gradual/base.py\": 1678994983.27211, \"/Users/heiletjevanzyl/anaconda3/lib/python3.11/site-packages/jedi/inference/gradual/type_var.py\": 1678994983.272835, \"/Users/heiletjevanzyl/anaconda3/lib/python3.11/site-packages/jedi/inference/gradual/typing.py\": 1678994983.2734122, \"/Users/heiletjevanzyl/anaconda3/lib/python3.11/site-packages/jedi/inference/gradual/stub_value.py\": 1678994983.2726717, \"/Users/heiletjevanzyl/anaconda3/lib/python3.11/site-packages/jedi/inference/gradual/typeshed.py\": 1678994983.2731678, \"/Users/heiletjevanzyl/anaconda3/lib/python3.11/site-packages/jedi/_compatibility.py\": 1678994983.261446, \"/Users/heiletjevanzyl/anaconda3/lib/python3.11/site-packages/jedi/inference/compiled/subprocess/functions.py\": 1678994983.2716026, \"/Users/heiletjevanzyl/anaconda3/lib/python3.11/site-packages/jedi/api/exceptions.py\": 1678994983.2641118, \"/Users/heiletjevanzyl/anaconda3/lib/python3.11/site-packages/jedi/inference/compiled/subprocess/__init__.py\": 1678994983.2713017, \"/Users/heiletjevanzyl/anaconda3/lib/python3.11/site-packages/jedi/inference/imports.py\": 1678994983.2678382, \"/Users/heiletjevanzyl/anaconda3/lib/python3.11/site-packages/jedi/inference/param.py\": 1678994983.2683096, \"/Users/heiletjevanzyl/anaconda3/lib/python3.11/site-packages/jedi/inference/gradual/annotation.py\": 1678994983.2719345, \"/Users/heiletjevanzyl/anaconda3/lib/python3.11/site-packages/jedi/inference/value/decorator.py\": 1678994983.2739336, \"/Users/heiletjevanzyl/anaconda3/lib/python3.11/site-packages/jedi/inference/syntax_tree.py\": 1678994983.2696316, \"/Users/heiletjevanzyl/anaconda3/lib/python3.11/site-packages/jedi/inference/__init__.py\": 1678994983.2657206, \"/Users/heiletjevanzyl/anaconda3/lib/python3.11/site-packages/jedi/inference/gradual/conversion.py\": 1678994983.2723222, \"/Users/heiletjevanzyl/anaconda3/lib/python3.11/site-packages/jedi/inference/compiled/mixed.py\": 1678994983.270832, \"/Users/heiletjevanzyl/anaconda3/lib/python3.11/pydoc_data/__init__.py\": 1694439390.8526397, \"/Users/heiletjevanzyl/anaconda3/lib/python3.11/pydoc_data/topics.py\": 1694439390.8745522, \"/Users/heiletjevanzyl/anaconda3/lib/python3.11/site-packages/jedi/api/keywords.py\": 1678994983.2647579, \"/Users/heiletjevanzyl/anaconda3/lib/python3.11/site-packages/jedi/api/completion_cache.py\": 1678994983.263632, \"/Users/heiletjevanzyl/anaconda3/lib/python3.11/site-packages/jedi/api/helpers.py\": 1678994983.2644455, \"/Users/heiletjevanzyl/anaconda3/lib/python3.11/site-packages/jedi/api/classes.py\": 1678994983.263262, \"/Users/heiletjevanzyl/anaconda3/lib/python3.11/site-packages/jedi/api/interpreter.py\": 1678994983.2646089, \"/Users/heiletjevanzyl/anaconda3/lib/python3.11/site-packages/jedi/api/strings.py\": 1678994983.2651918, \"/Users/heiletjevanzyl/anaconda3/lib/python3.11/site-packages/jedi/api/file_name.py\": 1678994983.2642515, \"/Users/heiletjevanzyl/anaconda3/lib/python3.11/site-packages/jedi/inference/docstring_utils.py\": 1678994983.266733, \"/Users/heiletjevanzyl/anaconda3/lib/python3.11/site-packages/jedi/api/completion.py\": 1678994983.2634664, \"/Users/heiletjevanzyl/anaconda3/lib/python3.11/filecmp.py\": 1694439384.887024, \"/Users/heiletjevanzyl/anaconda3/lib/python3.11/site-packages/jedi/api/environment.py\": 1678994983.2638352, \"/Users/heiletjevanzyl/anaconda3/lib/python3.11/site-packages/jedi/inference/references.py\": 1678994983.2688203, \"/Users/heiletjevanzyl/anaconda3/lib/python3.11/site-packages/jedi/api/project.py\": 1678994983.2649336, \"/Users/heiletjevanzyl/anaconda3/lib/python3.11/site-packages/jedi/api/errors.py\": 1678994983.263978, \"/Users/heiletjevanzyl/anaconda3/lib/python3.11/site-packages/jedi/api/refactoring/__init__.py\": 1678994983.2653632, \"/Users/heiletjevanzyl/anaconda3/lib/python3.11/site-packages/jedi/api/refactoring/extract.py\": 1678994983.2655187, \"/Users/heiletjevanzyl/anaconda3/lib/python3.11/site-packages/jedi/inference/gradual/utils.py\": 1678994983.2735903, \"/Users/heiletjevanzyl/anaconda3/lib/python3.11/site-packages/jedi/api/__init__.py\": 1678994983.263051, \"/Users/heiletjevanzyl/anaconda3/lib/python3.11/site-packages/jedi/plugins/stdlib.py\": 1678994983.2765427, \"/Users/heiletjevanzyl/anaconda3/lib/python3.11/site-packages/jedi/plugins/flask.py\": 1678994983.2758157, \"/Users/heiletjevanzyl/anaconda3/lib/python3.11/site-packages/jedi/plugins/pytest.py\": 1678994983.2760117, \"/Users/heiletjevanzyl/anaconda3/lib/python3.11/site-packages/jedi/plugins/django.py\": 1678994983.2756536, \"/Users/heiletjevanzyl/anaconda3/lib/python3.11/site-packages/jedi/plugins/registry.py\": 1678994983.276149, \"/Users/heiletjevanzyl/anaconda3/lib/python3.11/site-packages/jedi/__init__.py\": 1678994983.261013, \"/Users/heiletjevanzyl/anaconda3/lib/python3.11/site-packages/IPython/core/completer.py\": 1694181608.8540738, \"/Users/heiletjevanzyl/anaconda3/lib/python3.11/site-packages/IPython/terminal/ptutils.py\": 1694181608.886109, \"/Users/heiletjevanzyl/anaconda3/lib/python3.11/site-packages/IPython/terminal/shortcuts/auto_match.py\": 1694181608.8884974, \"/Users/heiletjevanzyl/anaconda3/lib/python3.11/site-packages/IPython/terminal/shortcuts/filters.py\": 1694181608.888819, \"/Users/heiletjevanzyl/anaconda3/lib/python3.11/site-packages/IPython/terminal/shortcuts/auto_suggest.py\": 1694181608.8886578, \"/Users/heiletjevanzyl/anaconda3/lib/python3.11/site-packages/IPython/terminal/shortcuts/__init__.py\": 1694181608.8883538, \"/Users/heiletjevanzyl/anaconda3/lib/python3.11/concurrent/futures/thread.py\": 1694439386.2104402, \"/Users/heiletjevanzyl/anaconda3/lib/python3.11/site-packages/IPython/terminal/debugger.py\": 1694181608.885021, \"/Users/heiletjevanzyl/anaconda3/lib/python3.11/site-packages/IPython/lib/clipboard.py\": 1694181608.8798552, \"/Users/heiletjevanzyl/anaconda3/lib/python3.11/site-packages/IPython/terminal/magics.py\": 1694181608.885728, \"/Users/heiletjevanzyl/anaconda3/lib/python3.11/site-packages/IPython/terminal/pt_inputhooks/__init__.py\": 1694181608.8862903, \"/Users/heiletjevanzyl/anaconda3/lib/python3.11/site-packages/IPython/terminal/prompts.py\": 1694181608.8859146, \"/Users/heiletjevanzyl/anaconda3/lib/python3.11/site-packages/IPython/terminal/interactiveshell.py\": 1694181608.8854084, \"/Users/heiletjevanzyl/anaconda3/lib/python3.11/site-packages/IPython/core/magics/auto.py\": 1694181608.8642128, \"/Users/heiletjevanzyl/anaconda3/lib/python3.11/site-packages/IPython/core/magics/basic.py\": 1694181608.864406, \"/Users/heiletjevanzyl/anaconda3/lib/python3.11/email/__init__.py\": 1694439386.9230125, \"/Users/heiletjevanzyl/anaconda3/lib/python3.11/http/__init__.py\": 1694439388.5422397, \"/Users/heiletjevanzyl/anaconda3/lib/python3.11/email/errors.py\": 1694439386.9665346, \"/Users/heiletjevanzyl/anaconda3/lib/python3.11/email/quoprimime.py\": 1694439387.0212924, \"/Users/heiletjevanzyl/anaconda3/lib/python3.11/email/base64mime.py\": 1694439386.944156, \"/Users/heiletjevanzyl/anaconda3/lib/python3.11/quopri.py\": 1694439385.315176, \"/Users/heiletjevanzyl/anaconda3/lib/python3.11/email/encoders.py\": 1694439386.961671, \"/Users/heiletjevanzyl/anaconda3/lib/python3.11/email/charset.py\": 1694439386.9475598, \"/Users/heiletjevanzyl/anaconda3/lib/python3.11/email/header.py\": 1694439386.981919, \"/Users/heiletjevanzyl/anaconda3/lib/python3.11/email/_parseaddr.py\": 1694439386.9339008, \"/Users/heiletjevanzyl/anaconda3/lib/python3.11/email/utils.py\": 1694439387.0271387, \"/Users/heiletjevanzyl/anaconda3/lib/python3.11/email/_policybase.py\": 1694439386.9372644, \"/Users/heiletjevanzyl/anaconda3/lib/python3.11/email/feedparser.py\": 1694439386.9717996, \"/Users/heiletjevanzyl/anaconda3/lib/python3.11/email/parser.py\": 1694439387.008592, \"/Users/heiletjevanzyl/anaconda3/lib/python3.11/email/_encoded_words.py\": 1694439386.9265683, \"/Users/heiletjevanzyl/anaconda3/lib/python3.11/email/iterators.py\": 1694439386.9947703, \"/Users/heiletjevanzyl/anaconda3/lib/python3.11/email/message.py\": 1694439387.0016468, \"/Users/heiletjevanzyl/anaconda3/lib/python3.11/http/client.py\": 1694439388.5523884, \"/Users/heiletjevanzyl/anaconda3/lib/python3.11/urllib/response.py\": 1694439391.485746, \"/Users/heiletjevanzyl/anaconda3/lib/python3.11/urllib/error.py\": 1694439391.45916, \"/Users/heiletjevanzyl/anaconda3/lib/python3.11/lib-dynload/_scproxy.cpython-311-darwin.so\": 1694439434.2262864, \"/Users/heiletjevanzyl/anaconda3/lib/python3.11/urllib/request.py\": 1694439391.4778426, \"/Users/heiletjevanzyl/anaconda3/lib/python3.11/site-packages/IPython/utils/contexts.py\": 1694181608.8968801, \"/Users/heiletjevanzyl/anaconda3/lib/python3.11/site-packages/IPython/core/magics/code.py\": 1694181608.864654, \"/Users/heiletjevanzyl/anaconda3/lib/python3.11/site-packages/IPython/core/magics/config.py\": 1694181608.8648164, \"/Users/heiletjevanzyl/anaconda3/lib/python3.11/site-packages/IPython/core/magics/display.py\": 1694181608.865035, \"/Users/heiletjevanzyl/anaconda3/lib/python3.11/lib-dynload/_lsprof.cpython-311-darwin.so\": 1694439429.5495906, \"/Users/heiletjevanzyl/anaconda3/lib/python3.11/profile.py\": 1694439385.2538085, \"/Users/heiletjevanzyl/anaconda3/lib/python3.11/cProfile.py\": 1694439384.7422833, \"/Users/heiletjevanzyl/anaconda3/lib/python3.11/pstats.py\": 1694439385.2626293, \"/Users/heiletjevanzyl/anaconda3/lib/python3.11/timeit.py\": 1694439385.6495562, \"/Users/heiletjevanzyl/anaconda3/lib/python3.11/site-packages/IPython/utils/module_paths.py\": 1694181608.8993115, \"/Users/heiletjevanzyl/anaconda3/lib/python3.11/site-packages/IPython/utils/timing.py\": 1694181608.9023569, \"/Users/heiletjevanzyl/anaconda3/lib/python3.11/site-packages/IPython/core/magics/ast_mod.py\": 1694181608.8640723, \"/Users/heiletjevanzyl/anaconda3/lib/python3.11/site-packages/IPython/core/magics/execution.py\": 1694181608.865561, \"/Users/heiletjevanzyl/anaconda3/lib/python3.11/site-packages/IPython/core/magics/extension.py\": 1694181608.8657224, \"/Users/heiletjevanzyl/anaconda3/lib/python3.11/site-packages/IPython/core/magics/history.py\": 1694181608.8658934, \"/Users/heiletjevanzyl/anaconda3/lib/python3.11/site-packages/IPython/core/magics/logging.py\": 1694181608.8660424, \"/Users/heiletjevanzyl/anaconda3/lib/python3.11/site-packages/IPython/core/magics/namespace.py\": 1694181608.8662543, \"/Users/heiletjevanzyl/anaconda3/lib/python3.11/site-packages/IPython/core/magics/osm.py\": 1694181608.8665113, \"/Users/heiletjevanzyl/anaconda3/lib/python3.11/site-packages/IPython/core/magics/packaging.py\": 1694181608.8671007, \"/Users/heiletjevanzyl/anaconda3/lib/python3.11/site-packages/IPython/core/pylabtools.py\": 1694181608.8621135, \"/Users/heiletjevanzyl/anaconda3/lib/python3.11/site-packages/IPython/core/magics/pylab.py\": 1694181608.8674746, \"/Users/heiletjevanzyl/anaconda3/lib/python3.11/site-packages/IPython/core/magics/script.py\": 1694181608.8676608, \"/Users/heiletjevanzyl/anaconda3/lib/python3.11/site-packages/IPython/core/magics/__init__.py\": 1694181608.8639119, \"/Users/heiletjevanzyl/anaconda3/lib/python3.11/site-packages/IPython/core/shellapp.py\": 1694181608.8624175, \"/Users/heiletjevanzyl/anaconda3/lib/python3.11/site-packages/IPython/extensions/__init__.py\": 1694181608.8766227, \"/Users/heiletjevanzyl/anaconda3/lib/python3.11/site-packages/IPython/extensions/storemagic.py\": 1694181608.8774343, \"/Users/heiletjevanzyl/anaconda3/lib/python3.11/site-packages/IPython/terminal/ipapp.py\": 1694181608.8855712, \"/Users/heiletjevanzyl/anaconda3/lib/python3.11/site-packages/IPython/terminal/embed.py\": 1694181608.8851836, \"/Users/heiletjevanzyl/anaconda3/lib/python3.11/site-packages/IPython/utils/frame.py\": 1694181608.897985, \"/Users/heiletjevanzyl/anaconda3/lib/python3.11/site-packages/IPython/__init__.py\": 1694181608.8444588, \"/Users/heiletjevanzyl/anaconda3/lib/python3.11/site-packages/ipykernel/control.py\": 1698244540.4232135, \"/Users/heiletjevanzyl/anaconda3/lib/python3.11/site-packages/ipykernel/heartbeat.py\": 1698244540.4266505, \"/Users/heiletjevanzyl/anaconda3/lib/python3.11/site-packages/ipykernel/iostream.py\": 1698244540.4272428, \"/Users/heiletjevanzyl/anaconda3/lib/python3.11/site-packages/comm/base_comm.py\": 1677919283.0, \"/Users/heiletjevanzyl/anaconda3/lib/python3.11/site-packages/comm/__init__.py\": 1677919283.0, \"/Users/heiletjevanzyl/anaconda3/lib/python3.11/site-packages/ipykernel/jsonutil.py\": 1698244540.4283862, \"/Users/heiletjevanzyl/anaconda3/lib/python3.11/site-packages/psutil/_common.py\": 1678995707.878251, \"/Users/heiletjevanzyl/anaconda3/lib/python3.11/site-packages/psutil/_compat.py\": 1678995707.8784559, \"/Users/heiletjevanzyl/anaconda3/lib/python3.11/site-packages/psutil/_psposix.py\": 1678995707.8797383, \"/Users/heiletjevanzyl/anaconda3/lib/python3.11/site-packages/psutil/_psutil_osx.cpython-311-darwin.so\": 1678995711.545596, \"/Users/heiletjevanzyl/anaconda3/lib/python3.11/site-packages/psutil/_psutil_posix.cpython-311-darwin.so\": 1678995711.6641812, \"/Users/heiletjevanzyl/anaconda3/lib/python3.11/site-packages/psutil/_psosx.py\": 1678995707.8795362, \"/Users/heiletjevanzyl/anaconda3/lib/python3.11/site-packages/psutil/__init__.py\": 1678995707.877918, \"/Users/heiletjevanzyl/anaconda3/lib/python3.11/site-packages/tornado/locks.py\": 1690848372.2172365, \"/Users/heiletjevanzyl/anaconda3/lib/python3.11/site-packages/tornado/queues.py\": 1690848372.2184005, \"/Users/heiletjevanzyl/anaconda3/lib/python3.11/site-packages/ipykernel/kernelbase.py\": 1698244540.4297044, \"/Users/heiletjevanzyl/anaconda3/lib/python3.11/site-packages/ipykernel/comm/comm.py\": 1698244540.4349897, \"/Users/heiletjevanzyl/anaconda3/lib/python3.11/site-packages/ipykernel/comm/manager.py\": 1698244540.4354217, \"/Users/heiletjevanzyl/anaconda3/lib/python3.11/site-packages/ipykernel/comm/__init__.py\": 1698244540.4342952, \"/Users/heiletjevanzyl/anaconda3/lib/python3.11/site-packages/ipykernel/compiler.py\": 1698244540.4221747, \"/Users/heiletjevanzyl/anaconda3/lib/python3.11/site-packages/debugpy/_version.py\": 1690905127.4250655, \"/Users/heiletjevanzyl/anaconda3/lib/python3.11/site-packages/debugpy/public_api.py\": 1690905127.4252374, \"/Users/heiletjevanzyl/anaconda3/lib/python3.11/site-packages/debugpy/__init__.py\": 1690905127.4247036, \"/Users/heiletjevanzyl/anaconda3/lib/python3.11/site-packages/debugpy/_vendored/_util.py\": 1690905127.4266095, \"/Users/heiletjevanzyl/anaconda3/lib/python3.11/site-packages/debugpy/_vendored/__init__.py\": 1690905127.4254217, \"/Users/heiletjevanzyl/anaconda3/lib/python3.11/site-packages/debugpy/_vendored/pydevd/_pydevd_bundle/__init__.py\": 1690905127.433705, \"/Users/heiletjevanzyl/anaconda3/lib/python3.11/encodings/ascii.py\": 1694439387.1346934, \"/Users/heiletjevanzyl/anaconda3/lib/python3.11/encodings/latin_1.py\": 1694439388.0053775, \"/Users/heiletjevanzyl/anaconda3/lib/python3.11/stringprep.py\": 1694439385.5461047, \"/Users/heiletjevanzyl/anaconda3/lib/python3.11/encodings/idna.py\": 1694439387.704249, \"/Users/heiletjevanzyl/anaconda3/lib/python3.11/site-packages/debugpy/_vendored/pydevd/_pydevd_bundle/pydevd_vm_type.py\": 1690905127.4487154, \"/Users/heiletjevanzyl/anaconda3/lib/python3.11/site-packages/debugpy/_vendored/pydevd/_pydev_bundle/__init__.py\": 1690905127.4287102, \"/Users/heiletjevanzyl/anaconda3/lib/python3.11/xmlrpc/__init__.py\": 1694439392.0238807, \"/Users/heiletjevanzyl/anaconda3/lib/python3.11/xml/parsers/__init__.py\": 1694439391.9111733, \"/Users/heiletjevanzyl/anaconda3/lib/python3.11/lib-dynload/pyexpat.cpython-311-darwin.so\": 1694439433.4798942, \"/Users/heiletjevanzyl/anaconda3/lib/python3.11/xml/parsers/expat.py\": 1694439391.9223962, \"/Users/heiletjevanzyl/anaconda3/lib/python3.11/gzip.py\": 1694439384.9758122, \"/Users/heiletjevanzyl/anaconda3/lib/python3.11/xmlrpc/client.py\": 1694439392.035363, \"/Users/heiletjevanzyl/anaconda3/lib/python3.11/http/server.py\": 1694439388.5857952, \"/Users/heiletjevanzyl/anaconda3/lib/python3.11/xmlrpc/server.py\": 1694439392.0463421, \"/Users/heiletjevanzyl/anaconda3/lib/python3.11/site-packages/debugpy/_vendored/pydevd/_pydev_bundle/_pydev_saved_modules.py\": 1690905127.4299357, \"/Users/heiletjevanzyl/anaconda3/lib/python3.11/site-packages/debugpy/_vendored/pydevd/_pydevd_bundle/pydevd_constants.py\": 1690905127.436549, \"/Users/heiletjevanzyl/anaconda3/lib/python3.11/site-packages/debugpy/_vendored/pydevd/_pydev_runfiles/__init__.py\": 1690905127.43232, \"/Users/heiletjevanzyl/anaconda3/lib/python3.11/site-packages/debugpy/_vendored/pydevd/_pydevd_frame_eval/__init__.py\": 1690905127.4521265, \"/Users/heiletjevanzyl/anaconda3/lib/python3.11/site-packages/debugpy/_vendored/pydevd/pydev_ipython/__init__.py\": 1690905127.4614635, \"/Users/heiletjevanzyl/anaconda3/lib/python3.11/plistlib.py\": 1694439385.2202535, \"/Users/heiletjevanzyl/anaconda3/lib/python3.11/site-packages/pkg_resources/extern/__init__.py\": 1687189957.0, \"/Users/heiletjevanzyl/anaconda3/lib/python3.11/site-packages/pkg_resources/_vendor/__init__.py\": 1687189957.0, \"/Users/heiletjevanzyl/anaconda3/lib/python3.11/site-packages/pkg_resources/_vendor/jaraco/__init__.py\": 1687189957.0, \"/Users/heiletjevanzyl/anaconda3/lib/python3.11/importlib/resources/abc.py\": 1694439389.543116, \"/Users/heiletjevanzyl/anaconda3/lib/python3.11/importlib/resources/_adapters.py\": 1694439389.5139673, \"/Users/heiletjevanzyl/anaconda3/lib/python3.11/importlib/resources/_common.py\": 1694439389.5215979, \"/Users/heiletjevanzyl/anaconda3/lib/python3.11/importlib/resources/_legacy.py\": 1694439389.5362177, \"/Users/heiletjevanzyl/anaconda3/lib/python3.11/importlib/resources/__init__.py\": 1694439389.5052493, \"/Users/heiletjevanzyl/anaconda3/lib/python3.11/site-packages/pkg_resources/_vendor/more_itertools/recipes.py\": 1687189957.0, \"/Users/heiletjevanzyl/anaconda3/lib/python3.11/site-packages/pkg_resources/_vendor/more_itertools/more.py\": 1687189957.0, \"/Users/heiletjevanzyl/anaconda3/lib/python3.11/site-packages/pkg_resources/_vendor/more_itertools/__init__.py\": 1687189957.0, \"/Users/heiletjevanzyl/anaconda3/lib/python3.11/site-packages/pkg_resources/_vendor/jaraco/functools.py\": 1687189957.0, \"/Users/heiletjevanzyl/anaconda3/lib/python3.11/site-packages/pkg_resources/_vendor/jaraco/context.py\": 1687189957.0, \"/Users/heiletjevanzyl/anaconda3/lib/python3.11/site-packages/pkg_resources/_vendor/jaraco/text/__init__.py\": 1687189957.0, \"/Users/heiletjevanzyl/anaconda3/lib/python3.11/site-packages/pkg_resources/_vendor/platformdirs/api.py\": 1687189957.0, \"/Users/heiletjevanzyl/anaconda3/lib/python3.11/site-packages/pkg_resources/_vendor/platformdirs/version.py\": 1687189957.0, \"/Users/heiletjevanzyl/anaconda3/lib/python3.11/site-packages/pkg_resources/_vendor/platformdirs/macos.py\": 1687189957.0, \"/Users/heiletjevanzyl/anaconda3/lib/python3.11/site-packages/pkg_resources/_vendor/platformdirs/__init__.py\": 1687189957.0, \"/Users/heiletjevanzyl/anaconda3/lib/python3.11/site-packages/pkg_resources/_vendor/packaging/__init__.py\": 1687189957.0, \"/Users/heiletjevanzyl/anaconda3/lib/python3.11/site-packages/pkg_resources/_vendor/packaging/_structures.py\": 1687189957.0, \"/Users/heiletjevanzyl/anaconda3/lib/python3.11/site-packages/pkg_resources/_vendor/packaging/version.py\": 1687189957.0, \"/Users/heiletjevanzyl/anaconda3/lib/python3.11/site-packages/pkg_resources/_vendor/packaging/_elffile.py\": 1687189957.0, \"/Users/heiletjevanzyl/anaconda3/lib/python3.11/site-packages/pkg_resources/_vendor/packaging/_manylinux.py\": 1687189957.0, \"/Users/heiletjevanzyl/anaconda3/lib/python3.11/site-packages/pkg_resources/_vendor/packaging/_musllinux.py\": 1687189957.0, \"/Users/heiletjevanzyl/anaconda3/lib/python3.11/site-packages/pkg_resources/_vendor/packaging/tags.py\": 1687189957.0, \"/Users/heiletjevanzyl/anaconda3/lib/python3.11/site-packages/pkg_resources/_vendor/packaging/utils.py\": 1687189957.0, \"/Users/heiletjevanzyl/anaconda3/lib/python3.11/site-packages/pkg_resources/_vendor/packaging/specifiers.py\": 1687189957.0, \"/Users/heiletjevanzyl/anaconda3/lib/python3.11/site-packages/pkg_resources/_vendor/packaging/_tokenizer.py\": 1687189957.0, \"/Users/heiletjevanzyl/anaconda3/lib/python3.11/site-packages/pkg_resources/_vendor/packaging/_parser.py\": 1687189957.0, \"/Users/heiletjevanzyl/anaconda3/lib/python3.11/site-packages/pkg_resources/_vendor/packaging/markers.py\": 1687189957.0, \"/Users/heiletjevanzyl/anaconda3/lib/python3.11/site-packages/pkg_resources/_vendor/packaging/requirements.py\": 1687189957.0, \"/Users/heiletjevanzyl/anaconda3/lib/python3.11/site-packages/pkg_resources/__init__.py\": 1687189957.0, \"/Users/heiletjevanzyl/anaconda3/lib/python3.11/site-packages/debugpy/_vendored/pydevd/pydevd_plugins/__init__.py\": 1690905127.4821687, \"/Users/heiletjevanzyl/anaconda3/lib/python3.11/site-packages/debugpy/_vendored/pydevd/_pydev_bundle/pydev_log.py\": 1690905127.4313047, \"/Users/heiletjevanzyl/anaconda3/lib/python3.11/site-packages/debugpy/_vendored/pydevd/_pydev_bundle/_pydev_filesystem_encoding.py\": 1690905127.4292529, \"/Users/heiletjevanzyl/anaconda3/lib/python3.11/site-packages/debugpy/_vendored/pydevd/_pydevd_bundle/pydevd_comm_constants.py\": 1690905127.4359972, \"/Users/heiletjevanzyl/anaconda3/lib/python3.11/site-packages/debugpy/_vendored/pydevd/pydevd_file_utils.py\": 1690905127.42828, \"/Users/heiletjevanzyl/anaconda3/lib/python3.11/site-packages/debugpy/_vendored/pydevd/_pydev_bundle/_pydev_execfile.py\": 1690905127.429129, \"/Users/heiletjevanzyl/anaconda3/lib/python3.11/site-packages/debugpy/_vendored/pydevd/_pydevd_bundle/pydevd_exec2.py\": 1690905127.4430888, \"/Users/heiletjevanzyl/anaconda3/lib/python3.11/site-packages/debugpy/_vendored/pydevd/_pydev_bundle/pydev_imports.py\": 1690905127.4305863, \"/Users/heiletjevanzyl/anaconda3/lib/python3.11/site-packages/debugpy/_vendored/pydevd/_pydev_bundle/pydev_is_thread_alive.py\": 1690905127.431041, \"/Users/heiletjevanzyl/anaconda3/lib/python3.11/site-packages/debugpy/_vendored/pydevd/_pydev_bundle/pydev_override.py\": 1690905127.4317698, \"/Users/heiletjevanzyl/anaconda3/lib/python3.11/site-packages/debugpy/_vendored/pydevd/pydevd_plugins/extensions/__init__.py\": 1690905127.4830673, \"/Users/heiletjevanzyl/anaconda3/lib/python3.11/site-packages/debugpy/_vendored/pydevd/_pydevd_bundle/pydevd_extension_utils.py\": 1690905127.443398, \"/Users/heiletjevanzyl/anaconda3/lib/python3.11/site-packages/debugpy/_vendored/pydevd/_pydevd_bundle/pydevd_frame_utils.py\": 1690905127.4440346, \"/Users/heiletjevanzyl/anaconda3/lib/python3.11/site-packages/debugpy/_vendored/pydevd/_pydevd_bundle/pydevd_filtering.py\": 1690905127.4435709, \"/Users/heiletjevanzyl/anaconda3/lib/python3.11/site-packages/debugpy/_vendored/pydevd/_pydevd_bundle/pydevd_io.py\": 1690905127.444518, \"/Users/heiletjevanzyl/anaconda3/lib/python3.11/site-packages/debugpy/_vendored/pydevd/_pydevd_bundle/pydevd_defaults.py\": 1690905127.4426343, \"/Users/heiletjevanzyl/anaconda3/lib/python3.11/site-packages/debugpy/_vendored/pydevd/_pydevd_bundle/pydevd_utils.py\": 1690905127.4483914, \"/Users/heiletjevanzyl/anaconda3/lib/python3.11/site-packages/debugpy/_vendored/pydevd/_pydevd_bundle/pydevd_runpy.py\": 1690905127.4464793, \"/Users/heiletjevanzyl/anaconda3/lib/python3.11/site-packages/debugpy/_vendored/pydevd/_pydev_bundle/_pydev_tipper_common.py\": 1690905127.430169, \"/Users/heiletjevanzyl/anaconda3/lib/python3.11/site-packages/debugpy/_vendored/pydevd/_pydev_bundle/_pydev_imports_tipper.py\": 1690905127.4295273, \"/Users/heiletjevanzyl/anaconda3/lib/python3.11/site-packages/debugpy/_vendored/pydevd/_pydev_bundle/_pydev_calltip_util.py\": 1690905127.4288623, \"/Users/heiletjevanzyl/anaconda3/lib/python3.11/site-packages/debugpy/_vendored/pydevd/_pydevd_bundle/pydevd_safe_repr.py\": 1690905127.4466424, \"/Users/heiletjevanzyl/anaconda3/lib/python3.11/site-packages/debugpy/_vendored/pydevd/_pydevd_bundle/pydevd_resolver.py\": 1690905127.4463196, \"/Users/heiletjevanzyl/anaconda3/lib/python3.11/site-packages/debugpy/_vendored/pydevd/_pydevd_bundle/pydevd_extension_api.py\": 1690905127.4432442, \"/Users/heiletjevanzyl/anaconda3/lib/python3.11/site-packages/debugpy/_vendored/pydevd/_pydevd_bundle/pydevd_xml.py\": 1690905127.448874, \"/Users/heiletjevanzyl/anaconda3/lib/python3.11/site-packages/debugpy/_vendored/pydevd/_pydevd_bundle/pydevd_dont_trace.py\": 1690905127.4427888, \"/Users/heiletjevanzyl/anaconda3/lib/python3.11/site-packages/debugpy/_vendored/pydevd/_pydevd_frame_eval/vendored/__init__.py\": 1690905127.4559717, \"/Users/heiletjevanzyl/anaconda3/lib/python3.11/site-packages/debugpy/_vendored/pydevd/_pydevd_frame_eval/vendored/bytecode/flags.py\": 1690905127.457075, \"/Users/heiletjevanzyl/anaconda3/lib/python3.11/site-packages/debugpy/_vendored/pydevd/_pydevd_frame_eval/vendored/bytecode/instr.py\": 1690905127.4572604, \"/Users/heiletjevanzyl/anaconda3/lib/python3.11/site-packages/debugpy/_vendored/pydevd/_pydevd_frame_eval/vendored/bytecode/bytecode.py\": 1690905127.4565084, \"/Users/heiletjevanzyl/anaconda3/lib/python3.11/site-packages/debugpy/_vendored/pydevd/_pydevd_frame_eval/vendored/bytecode/concrete.py\": 1690905127.4569092, \"/Users/heiletjevanzyl/anaconda3/lib/python3.11/site-packages/debugpy/_vendored/pydevd/_pydevd_frame_eval/vendored/bytecode/cfg.py\": 1690905127.456702, \"/Users/heiletjevanzyl/anaconda3/lib/python3.11/site-packages/debugpy/_vendored/pydevd/_pydevd_frame_eval/vendored/bytecode/__init__.py\": 1690905127.456336, \"/Users/heiletjevanzyl/anaconda3/lib/python3.11/site-packages/debugpy/_vendored/pydevd/_pydevd_bundle/pydevd_bytecode_utils.py\": 1690905127.4350827, \"/Users/heiletjevanzyl/anaconda3/lib/python3.11/site-packages/debugpy/_vendored/pydevd/_pydevd_bundle/pydevd_cython.cpython-311-darwin.so\": 1690905135.5465684, \"/Users/heiletjevanzyl/anaconda3/lib/python3.11/site-packages/debugpy/_vendored/pydevd/_pydevd_bundle/pydevd_cython_wrapper.py\": 1690905127.4423103, \"/Users/heiletjevanzyl/anaconda3/lib/python3.11/site-packages/debugpy/_vendored/pydevd/_pydevd_bundle/pydevd_additional_thread_info.py\": 1690905127.4342299, \"/Users/heiletjevanzyl/anaconda3/lib/python3.11/site-packages/debugpy/_vendored/pydevd/_pydevd_bundle/pydevd_thread_lifecycle.py\": 1690905127.447518, \"/Users/heiletjevanzyl/anaconda3/lib/python3.11/site-packages/debugpy/_vendored/pydevd/_pydevd_bundle/pydevd_save_locals.py\": 1690905127.4467785, \"/Users/heiletjevanzyl/anaconda3/lib/python3.11/site-packages/debugpy/_vendored/pydevd/_pydev_bundle/pydev_monkey.py\": 1690905127.4315164, \"/Users/heiletjevanzyl/anaconda3/lib/python3.11/site-packages/debugpy/_vendored/pydevd/pydevd_tracing.py\": 1690905127.4284425, \"/Users/heiletjevanzyl/anaconda3/lib/python3.11/site-packages/debugpy/_vendored/pydevd/_pydevd_bundle/pydevd_collect_bytecode_info.py\": 1690905127.4354913, \"/Users/heiletjevanzyl/anaconda3/lib/python3.11/site-packages/debugpy/_vendored/pydevd/_pydevd_bundle/pydevd_daemon_thread.py\": 1690905127.4424787, \"/Users/heiletjevanzyl/anaconda3/lib/python3.11/site-packages/debugpy/_vendored/pydevd/_pydevd_bundle/pydevd_timeout.py\": 1690905127.447661, \"/Users/heiletjevanzyl/anaconda3/lib/python3.11/site-packages/debugpy/_vendored/pydevd/_pydevd_bundle/pydevd_vars.py\": 1690905127.4485836, \"/Users/heiletjevanzyl/anaconda3/lib/python3.11/site-packages/debugpy/_vendored/pydevd/_pydev_bundle/pydev_console_utils.py\": 1690905127.430349, \"/Users/heiletjevanzyl/anaconda3/lib/python3.11/site-packages/debugpy/_vendored/pydevd/_pydevd_bundle/pydevd_import_class.py\": 1690905127.4443095, \"/Users/heiletjevanzyl/anaconda3/lib/python3.11/site-packages/debugpy/_vendored/pydevd/_pydevd_bundle/pydevd_breakpoints.py\": 1690905127.4348676, \"/Users/heiletjevanzyl/anaconda3/lib/python3.11/site-packages/debugpy/_vendored/pydevd/_pydevd_bundle/pydevd_custom_frames.py\": 1690905127.4367027, \"/Users/heiletjevanzyl/anaconda3/lib/python3.11/site-packages/debugpy/_vendored/pydevd/_pydevd_bundle/pydevd_dont_trace_files.py\": 1690905127.4429436, \"/Users/heiletjevanzyl/anaconda3/lib/python3.11/site-packages/debugpy/_vendored/pydevd/_pydevd_bundle/pydevd_net_command.py\": 1690905127.4449005, \"/Users/heiletjevanzyl/anaconda3/lib/python3.11/site-packages/debugpy/_vendored/pydevd/_pydevd_bundle/pydevconsole_code.py\": 1690905127.4340298, \"/Users/heiletjevanzyl/anaconda3/lib/python3.11/site-packages/debugpy/_vendored/pydevd/_pydev_bundle/pydev_umd.py\": 1690905127.431917, \"/Users/heiletjevanzyl/anaconda3/lib/python3.11/site-packages/debugpy/_vendored/pydevd/pydevconsole.py\": 1690905127.4275556, \"/Users/heiletjevanzyl/anaconda3/lib/python3.11/site-packages/debugpy/_vendored/pydevd/_pydev_bundle/_pydev_completer.py\": 1690905127.4290113, \"/Users/heiletjevanzyl/anaconda3/lib/python3.11/site-packages/debugpy/_vendored/pydevd/_pydevd_bundle/pydevd_net_command_factory_xml.py\": 1690905127.44525, \"/Users/heiletjevanzyl/anaconda3/lib/python3.11/site-packages/debugpy/_vendored/pydevd/_pydevd_bundle/pydevd_frame.py\": 1690905127.4438386, \"/Users/heiletjevanzyl/anaconda3/lib/python3.11/site-packages/debugpy/_vendored/pydevd/_pydevd_bundle/pydevd_additional_thread_info_regular.py\": 1690905127.4344149, \"/Users/heiletjevanzyl/anaconda3/lib/python3.11/site-packages/debugpy/_vendored/pydevd/_pydevd_bundle/pydevd_trace_dispatch.py\": 1690905127.4479182, \"/Users/heiletjevanzyl/anaconda3/lib/python3.11/site-packages/debugpy/_vendored/pydevd/_pydevd_frame_eval/pydevd_frame_eval_main.py\": 1690905127.4526002, \"/Users/heiletjevanzyl/anaconda3/lib/python3.11/site-packages/debugpy/_vendored/pydevd/_pydevd_bundle/pydevd_source_mapping.py\": 1690905127.4470563, \"/Users/heiletjevanzyl/anaconda3/lib/python3.11/site-packages/debugpy/_vendored/pydevd/_pydevd_bundle/pydevd_concurrency_analyser/__init__.py\": 1690905127.451327, \"/Users/heiletjevanzyl/anaconda3/lib/python3.11/site-packages/debugpy/_vendored/pydevd/_pydevd_bundle/pydevd_concurrency_analyser/pydevd_thread_wrappers.py\": 1690905127.4517813, \"/Users/heiletjevanzyl/anaconda3/lib/python3.11/site-packages/debugpy/_vendored/pydevd/_pydevd_bundle/pydevd_concurrency_analyser/pydevd_concurrency_logger.py\": 1690905127.4515846, \"/Users/heiletjevanzyl/anaconda3/lib/python3.11/site-packages/debugpy/_vendored/pydevd/_pydevd_bundle/_debug_adapter/__init__.py\": 1690905127.4489849, \"/Users/heiletjevanzyl/anaconda3/lib/python3.11/site-packages/debugpy/_vendored/pydevd/_pydevd_bundle/_debug_adapter/pydevd_schema_log.py\": 1690905127.4511669, \"/Users/heiletjevanzyl/anaconda3/lib/python3.11/site-packages/debugpy/_vendored/pydevd/_pydevd_bundle/_debug_adapter/pydevd_base_schema.py\": 1690905127.4499183, \"/Users/heiletjevanzyl/anaconda3/lib/python3.11/site-packages/debugpy/_vendored/pydevd/_pydevd_bundle/_debug_adapter/pydevd_schema.py\": 1690905127.4509518, \"/Users/heiletjevanzyl/anaconda3/lib/python3.11/site-packages/debugpy/_vendored/pydevd/_pydevd_bundle/pydevd_reload.py\": 1690905127.446137, \"/Users/heiletjevanzyl/anaconda3/lib/python3.11/site-packages/debugpy/_vendored/pydevd/_pydev_bundle/fsnotify/__init__.py\": 1690905127.4322133, \"/Users/heiletjevanzyl/anaconda3/lib/python3.11/site-packages/debugpy/_vendored/pydevd/_pydevd_bundle/pydevd_console.py\": 1690905127.4363263, \"/Users/heiletjevanzyl/anaconda3/lib/python3.11/site-packages/debugpy/_vendored/pydevd/_pydevd_bundle/pydevd_comm.py\": 1690905127.4358113, \"/Users/heiletjevanzyl/anaconda3/lib/python3.11/site-packages/debugpy/_vendored/pydevd/_pydevd_bundle/pydevd_net_command_factory_json.py\": 1690905127.4450786, \"/Users/heiletjevanzyl/anaconda3/lib/python3.11/site-packages/debugpy/_vendored/pydevd/_pydevd_bundle/pydevd_api.py\": 1690905127.4347, \"/Users/heiletjevanzyl/anaconda3/lib/python3.11/site-packages/debugpy/_vendored/pydevd/_pydevd_bundle/pydevd_json_debug_options.py\": 1690905127.444731, \"/Users/heiletjevanzyl/anaconda3/lib/python3.11/site-packages/debugpy/_vendored/pydevd/_pydevd_bundle/pydevd_process_net_command_json.py\": 1690905127.4458227, \"/Users/heiletjevanzyl/anaconda3/lib/python3.11/site-packages/debugpy/_vendored/pydevd/_pydevd_bundle/pydevd_traceproperty.py\": 1690905127.4482245, \"/Users/heiletjevanzyl/anaconda3/lib/python3.11/site-packages/debugpy/_vendored/pydevd/_pydevd_bundle/pydevd_process_net_command.py\": 1690905127.4455807, \"/Users/heiletjevanzyl/anaconda3/lib/python3.11/site-packages/debugpy/_vendored/pydevd/_pydevd_bundle/pydevd_suspended_frames.py\": 1690905127.4473803, \"/Users/heiletjevanzyl/anaconda3/lib/python3.11/site-packages/debugpy/_vendored/pydevd/_pydevd_bundle/pydevd_trace_api.py\": 1690905127.4477878, \"/Users/heiletjevanzyl/anaconda3/lib/python3.11/site-packages/debugpy/_vendored/pydevd/pydevd_plugins/pydevd_line_validation.py\": 1690905127.4827456, \"/Users/heiletjevanzyl/anaconda3/lib/python3.11/site-packages/debugpy/_vendored/pydevd/pydevd_plugins/django_debug.py\": 1690905127.4823818, \"/Users/heiletjevanzyl/anaconda3/lib/python3.11/site-packages/debugpy/_vendored/pydevd/pydevd_plugins/jinja2_debug.py\": 1690905127.4825795, \"/Users/heiletjevanzyl/anaconda3/lib/python3.11/site-packages/debugpy/_vendored/pydevd/_pydevd_bundle/pydevd_plugin_utils.py\": 1690905127.4453802, \"/Users/heiletjevanzyl/anaconda3/lib/python3.11/site-packages/debugpy/_vendored/pydevd/pydevd_plugins/extensions/types/__init__.py\": 1690905127.4832275, \"/Users/heiletjevanzyl/anaconda3/lib/python3.11/site-packages/debugpy/_vendored/pydevd/pydevd_plugins/extensions/types/pydevd_helpers.py\": 1690905127.4833462, \"/Users/heiletjevanzyl/anaconda3/lib/python3.11/site-packages/debugpy/_vendored/pydevd/pydevd_plugins/extensions/types/pydevd_plugin_numpy_types.py\": 1690905127.4834757, \"/Users/heiletjevanzyl/anaconda3/lib/python3.11/site-packages/debugpy/_vendored/pydevd/pydevd_plugins/extensions/types/pydevd_plugin_pandas_types.py\": 1690905127.4835992, \"/Users/heiletjevanzyl/anaconda3/lib/python3.11/site-packages/debugpy/_vendored/pydevd/pydevd_plugins/extensions/types/pydevd_plugins_django_form_str.py\": 1690905127.4837139, \"/Users/heiletjevanzyl/anaconda3/lib/python3.11/site-packages/debugpy/_vendored/pydevd/pydevd.py\": 1690905127.4280522, \"/Users/heiletjevanzyl/anaconda3/lib/python3.11/site-packages/debugpy/_vendored/force_pydevd.py\": 1690905127.4267843, \"/Users/heiletjevanzyl/anaconda3/lib/python3.11/site-packages/debugpy/server/__init__.py\": 1690905127.4868925, \"/Users/heiletjevanzyl/anaconda3/lib/python3.11/site-packages/debugpy/adapter/__init__.py\": 1690905127.4838607, \"/Users/heiletjevanzyl/anaconda3/lib/python3.11/site-packages/debugpy/common/__init__.py\": 1690905127.4848814, \"/Users/heiletjevanzyl/anaconda3/lib/python3.11/site-packages/debugpy/common/json.py\": 1690905127.4850204, \"/Users/heiletjevanzyl/anaconda3/lib/python3.11/site-packages/debugpy/common/timestamp.py\": 1690905127.4858704, \"/Users/heiletjevanzyl/anaconda3/lib/python3.11/site-packages/debugpy/common/util.py\": 1690905127.486004, \"/Users/heiletjevanzyl/anaconda3/lib/python3.11/site-packages/debugpy/common/log.py\": 1690905127.4851577, \"/Users/heiletjevanzyl/anaconda3/lib/python3.11/site-packages/debugpy/common/sockets.py\": 1690905127.485647, \"/Users/heiletjevanzyl/anaconda3/lib/python3.11/site-packages/debugpy/server/api.py\": 1690905127.4874094, \"/Users/heiletjevanzyl/anaconda3/lib/python3.11/site-packages/ipykernel/debugger.py\": 1698244540.4243195, \"/Users/heiletjevanzyl/anaconda3/lib/python3.11/site-packages/packaging/__init__.py\": 1693575247.2357512, \"/Users/heiletjevanzyl/anaconda3/lib/python3.11/site-packages/packaging/_structures.py\": 1693575247.236681, \"/Users/heiletjevanzyl/anaconda3/lib/python3.11/site-packages/packaging/version.py\": 1693575247.2382762, \"/Users/heiletjevanzyl/anaconda3/lib/python3.11/site-packages/ipykernel/eventloops.py\": 1698244540.4259615, \"/Users/heiletjevanzyl/anaconda3/lib/python3.11/site-packages/IPython/core/payloadpage.py\": 1694181608.8608341, \"/Users/heiletjevanzyl/anaconda3/lib/python3.11/site-packages/ipykernel/displayhook.py\": 1698244540.4248447, \"/Users/heiletjevanzyl/anaconda3/lib/python3.11/site-packages/ipykernel/zmqshell.py\": 1698244540.4337971, \"/Users/heiletjevanzyl/anaconda3/lib/python3.11/site-packages/ipykernel/ipkernel.py\": 1698244540.4278421, \"/Users/heiletjevanzyl/anaconda3/lib/python3.11/site-packages/ipykernel/parentpoller.py\": 1698244540.4312398, \"/Users/heiletjevanzyl/anaconda3/lib/python3.11/site-packages/ipykernel/kernelapp.py\": 1698244540.4290073, \"/Users/heiletjevanzyl/anaconda3/lib/python3.11/site-packages/IPython/core/completerlib.py\": 1694181608.8542695, \"/Users/heiletjevanzyl/anaconda3/lib/python3.11/importlib/abc.py\": 1694439389.4368896, \"/Users/heiletjevanzyl/anaconda3/lib/python3.11/site-packages/setuptools/_distutils/__init__.py\": 1687189957.0, \"/Users/heiletjevanzyl/anaconda3/lib/python3.11/site-packages/setuptools/_distutils/debug.py\": 1687189957.0, \"/Users/heiletjevanzyl/anaconda3/lib/python3.11/site-packages/setuptools/_distutils/errors.py\": 1687189957.0, \"/Users/heiletjevanzyl/anaconda3/lib/python3.11/site-packages/setuptools/_distutils/fancy_getopt.py\": 1687189957.0, \"/Users/heiletjevanzyl/anaconda3/lib/python3.11/site-packages/setuptools/_distutils/dep_util.py\": 1687189957.0, \"/Users/heiletjevanzyl/anaconda3/lib/python3.11/site-packages/setuptools/_distutils/_log.py\": 1687189957.0, \"/Users/heiletjevanzyl/anaconda3/lib/python3.11/site-packages/setuptools/_distutils/spawn.py\": 1687189957.0, \"/Users/heiletjevanzyl/anaconda3/lib/python3.11/site-packages/setuptools/_distutils/util.py\": 1687189957.0, \"/Users/heiletjevanzyl/anaconda3/lib/python3.11/site-packages/setuptools/_distutils/dist.py\": 1687189957.0, \"/Users/heiletjevanzyl/anaconda3/lib/python3.11/site-packages/setuptools/_distutils/dir_util.py\": 1687189957.0, \"/Users/heiletjevanzyl/anaconda3/lib/python3.11/site-packages/setuptools/_distutils/file_util.py\": 1687189957.0, \"/Users/heiletjevanzyl/anaconda3/lib/python3.11/lib-dynload/grp.cpython-311-darwin.so\": 1694439436.2378685, \"/Users/heiletjevanzyl/anaconda3/lib/python3.11/site-packages/setuptools/_distutils/archive_util.py\": 1687189957.0, \"/Users/heiletjevanzyl/anaconda3/lib/python3.11/site-packages/setuptools/_distutils/cmd.py\": 1687189957.0, \"/Users/heiletjevanzyl/anaconda3/lib/python3.11/site-packages/setuptools/_distutils/config.py\": 1687189957.0, \"/Users/heiletjevanzyl/anaconda3/lib/python3.11/site-packages/setuptools/_distutils/extension.py\": 1687189957.0, \"/Users/heiletjevanzyl/anaconda3/lib/python3.11/site-packages/setuptools/_distutils/core.py\": 1687189957.0, \"/Users/heiletjevanzyl/anaconda3/lib/python3.11/site-packages/_distutils_hack/override.py\": 1687189957.0, \"/Users/heiletjevanzyl/anaconda3/lib/python3.11/site-packages/setuptools/warnings.py\": 1687189957.0, \"/Users/heiletjevanzyl/anaconda3/lib/python3.11/lib-dynload/_csv.cpython-311-darwin.so\": 1694439438.5197277, \"/Users/heiletjevanzyl/anaconda3/lib/python3.11/csv.py\": 1694439384.8404255, \"/Users/heiletjevanzyl/anaconda3/lib/python3.11/importlib/metadata/_functools.py\": 1694439389.5997503, \"/Users/heiletjevanzyl/anaconda3/lib/python3.11/importlib/metadata/_text.py\": 1694439389.627276, \"/Users/heiletjevanzyl/anaconda3/lib/python3.11/importlib/metadata/_adapters.py\": 1694439389.5830262, \"/Users/heiletjevanzyl/anaconda3/lib/python3.11/importlib/metadata/_meta.py\": 1694439389.6176033, \"/Users/heiletjevanzyl/anaconda3/lib/python3.11/importlib/metadata/_collections.py\": 1694439389.5920687, \"/Users/heiletjevanzyl/anaconda3/lib/python3.11/importlib/metadata/_itertools.py\": 1694439389.6067414, \"/Users/heiletjevanzyl/anaconda3/lib/python3.11/importlib/metadata/__init__.py\": 1694439389.5758283, \"/Users/heiletjevanzyl/anaconda3/lib/python3.11/site-packages/setuptools/_importlib.py\": 1687189957.0, \"/Users/heiletjevanzyl/anaconda3/lib/python3.11/site-packages/setuptools/version.py\": 1687189957.0, \"/Users/heiletjevanzyl/anaconda3/lib/python3.11/site-packages/setuptools/_distutils/filelist.py\": 1687189957.0, \"/Users/heiletjevanzyl/anaconda3/lib/python3.11/site-packages/setuptools/monkey.py\": 1687189957.0, \"/Users/heiletjevanzyl/anaconda3/lib/python3.11/site-packages/setuptools/extension.py\": 1687189957.0, \"/Users/heiletjevanzyl/anaconda3/lib/python3.11/site-packages/setuptools/_distutils/log.py\": 1687189957.0, \"/Users/heiletjevanzyl/anaconda3/lib/python3.11/site-packages/setuptools/_distutils/command/__init__.py\": 1687189957.0, \"/Users/heiletjevanzyl/anaconda3/lib/python3.11/site-packages/setuptools/extern/__init__.py\": 1687189957.0, \"/Users/heiletjevanzyl/anaconda3/lib/python3.11/site-packages/setuptools/_vendor/__init__.py\": 1687189957.0, \"/Users/heiletjevanzyl/anaconda3/lib/python3.11/site-packages/setuptools/_vendor/packaging/__init__.py\": 1687189957.0, \"/Users/heiletjevanzyl/anaconda3/lib/python3.11/site-packages/setuptools/_vendor/ordered_set.py\": 1687189957.0, \"/Users/heiletjevanzyl/anaconda3/lib/python3.11/site-packages/setuptools/_vendor/more_itertools/recipes.py\": 1687189957.0, \"/Users/heiletjevanzyl/anaconda3/lib/python3.11/site-packages/setuptools/_vendor/more_itertools/more.py\": 1687189957.0, \"/Users/heiletjevanzyl/anaconda3/lib/python3.11/site-packages/setuptools/_vendor/more_itertools/__init__.py\": 1687189957.0, \"/Users/heiletjevanzyl/anaconda3/lib/python3.11/site-packages/setuptools/_distutils/command/bdist.py\": 1687189957.0, \"/Users/heiletjevanzyl/anaconda3/lib/python3.11/site-packages/setuptools/command/__init__.py\": 1687189957.0, \"/Users/heiletjevanzyl/anaconda3/lib/python3.11/site-packages/setuptools/windows_support.py\": 1687189957.0, \"/Users/heiletjevanzyl/anaconda3/lib/python3.11/site-packages/setuptools/errors.py\": 1687189957.0, \"/Users/heiletjevanzyl/anaconda3/lib/python3.11/site-packages/setuptools/_vendor/packaging/_elffile.py\": 1687189957.0, \"/Users/heiletjevanzyl/anaconda3/lib/python3.11/site-packages/setuptools/_vendor/packaging/_manylinux.py\": 1687189957.0, \"/Users/heiletjevanzyl/anaconda3/lib/python3.11/site-packages/setuptools/_vendor/packaging/_musllinux.py\": 1687189957.0, \"/Users/heiletjevanzyl/anaconda3/lib/python3.11/site-packages/setuptools/_vendor/packaging/tags.py\": 1687189957.0, \"/Users/heiletjevanzyl/anaconda3/lib/python3.11/site-packages/setuptools/_vendor/packaging/_structures.py\": 1687189957.0, \"/Users/heiletjevanzyl/anaconda3/lib/python3.11/site-packages/setuptools/_vendor/packaging/version.py\": 1687189957.0, \"/Users/heiletjevanzyl/anaconda3/lib/python3.11/site-packages/setuptools/_vendor/packaging/utils.py\": 1687189957.0, \"/Users/heiletjevanzyl/anaconda3/lib/python3.11/site-packages/setuptools/_vendor/packaging/specifiers.py\": 1687189957.0, \"/Users/heiletjevanzyl/anaconda3/lib/python3.11/site-packages/setuptools/_vendor/packaging/_tokenizer.py\": 1687189957.0, \"/Users/heiletjevanzyl/anaconda3/lib/python3.11/site-packages/setuptools/_vendor/packaging/_parser.py\": 1687189957.0, \"/Users/heiletjevanzyl/anaconda3/lib/python3.11/site-packages/setuptools/_vendor/packaging/markers.py\": 1687189957.0, \"/Users/heiletjevanzyl/anaconda3/lib/python3.11/site-packages/setuptools/_vendor/packaging/requirements.py\": 1687189957.0, \"/Users/heiletjevanzyl/anaconda3/lib/python3.11/site-packages/setuptools/_path.py\": 1687189957.0, \"/Users/heiletjevanzyl/anaconda3/lib/python3.11/site-packages/setuptools/config/expand.py\": 1687189957.0, \"/Users/heiletjevanzyl/anaconda3/lib/python3.11/site-packages/setuptools/config/setupcfg.py\": 1687189957.0, \"/Users/heiletjevanzyl/anaconda3/lib/python3.11/site-packages/setuptools/config/__init__.py\": 1687189957.0, \"/Users/heiletjevanzyl/anaconda3/lib/python3.11/email/_header_value_parser.py\": 1694439386.9303405, \"/Users/heiletjevanzyl/anaconda3/lib/python3.11/email/headerregistry.py\": 1694439386.9871833, \"/Users/heiletjevanzyl/anaconda3/lib/python3.11/site-packages/setuptools/config/_apply_pyprojecttoml.py\": 1687189957.0, \"/Users/heiletjevanzyl/anaconda3/lib/python3.11/site-packages/setuptools/config/pyprojecttoml.py\": 1687189957.0, \"/Users/heiletjevanzyl/anaconda3/lib/python3.11/site-packages/setuptools/discovery.py\": 1687189957.0, \"/Users/heiletjevanzyl/anaconda3/lib/python3.11/site-packages/setuptools/_vendor/jaraco/__init__.py\": 1687189957.0, \"/Users/heiletjevanzyl/anaconda3/lib/python3.11/site-packages/setuptools/_vendor/jaraco/functools.py\": 1687189957.0, \"/Users/heiletjevanzyl/anaconda3/lib/python3.11/site-packages/setuptools/_vendor/jaraco/context.py\": 1687189957.0, \"/Users/heiletjevanzyl/anaconda3/lib/python3.11/site-packages/setuptools/_vendor/jaraco/text/__init__.py\": 1687189957.0, \"/Users/heiletjevanzyl/anaconda3/lib/python3.11/site-packages/setuptools/_reqs.py\": 1687189957.0, \"/Users/heiletjevanzyl/anaconda3/lib/python3.11/site-packages/setuptools/_itertools.py\": 1687189957.0, \"/Users/heiletjevanzyl/anaconda3/lib/python3.11/site-packages/setuptools/_entry_points.py\": 1687189957.0, \"/Users/heiletjevanzyl/anaconda3/lib/python3.11/site-packages/setuptools/_normalization.py\": 1687189957.0, \"/Users/heiletjevanzyl/anaconda3/lib/python3.11/site-packages/setuptools/dist.py\": 1687189957.0, \"/Users/heiletjevanzyl/anaconda3/lib/python3.11/site-packages/setuptools/_imp.py\": 1687189957.0, \"/Users/heiletjevanzyl/anaconda3/lib/python3.11/site-packages/setuptools/depends.py\": 1687189957.0, \"/Users/heiletjevanzyl/anaconda3/lib/python3.11/site-packages/setuptools/logging.py\": 1687189957.0, \"/Users/heiletjevanzyl/anaconda3/lib/python3.11/site-packages/setuptools/msvc.py\": 1687189957.0, \"/Users/heiletjevanzyl/anaconda3/lib/python3.11/site-packages/setuptools/__init__.py\": 1687189957.0, \"/Users/heiletjevanzyl/anaconda3/lib/python3.11/site-packages/setuptools/_distutils/version.py\": 1687189957.0, \"/Users/heiletjevanzyl/anaconda3/lib/python3.11/ctypes/macholib/__init__.py\": 1694439386.3103023, \"/Users/heiletjevanzyl/anaconda3/lib/python3.11/ctypes/macholib/framework.py\": 1694439386.3650043, \"/Users/heiletjevanzyl/anaconda3/lib/python3.11/ctypes/macholib/dylib.py\": 1694439386.3325222, \"/Users/heiletjevanzyl/anaconda3/lib/python3.11/ctypes/macholib/dyld.py\": 1694439386.321528, \"/Users/heiletjevanzyl/anaconda3/lib/python3.11/ctypes/util.py\": 1694439386.266721, \"/Users/heiletjevanzyl/anaconda3/lib/python3.11/site-packages/appnope/_nope.py\": 1677917863.0, \"/Users/heiletjevanzyl/anaconda3/lib/python3.11/site-packages/appnope/__init__.py\": 1677917863.0, \"/Users/heiletjevanzyl/anaconda3/lib/python3.11/site-packages/numpy/_globals.py\": 1682523026.033472, \"/Users/heiletjevanzyl/anaconda3/lib/python3.11/site-packages/numpy/__config__.py\": 1697809510.599097, \"/Users/heiletjevanzyl/anaconda3/lib/python3.11/site-packages/numpy/_distributor_init.py\": 1682523026.0332954, \"/Users/heiletjevanzyl/anaconda3/lib/python3.11/site-packages/numpy/_version.py\": 1682523026.0339012, \"/Users/heiletjevanzyl/anaconda3/lib/python3.11/site-packages/numpy/version.py\": 1682523026.0349894, \"/Users/heiletjevanzyl/anaconda3/lib/python3.11/site-packages/numpy/core/_multiarray_umath.cpython-311-darwin.so\": 1682523032.7584217, \"/Users/heiletjevanzyl/anaconda3/lib/python3.11/site-packages/numpy/compat/_inspect.py\": 1682523026.0427537, \"/Users/heiletjevanzyl/anaconda3/lib/python3.11/site-packages/numpy/compat/py3k.py\": 1682523026.043033, \"/Users/heiletjevanzyl/anaconda3/lib/python3.11/site-packages/numpy/compat/__init__.py\": 1682523026.04262, \"/Users/heiletjevanzyl/anaconda3/lib/python3.11/site-packages/numpy/core/overrides.py\": 1682523026.0701559, \"/Users/heiletjevanzyl/anaconda3/lib/python3.11/site-packages/numpy/core/multiarray.py\": 1682523026.067539, \"/Users/heiletjevanzyl/anaconda3/lib/python3.11/site-packages/numpy/core/umath.py\": 1682523026.0715444, \"/Users/heiletjevanzyl/anaconda3/lib/python3.11/site-packages/numpy/core/_string_helpers.py\": 1682523026.0629332, \"/Users/heiletjevanzyl/anaconda3/lib/python3.11/site-packages/numpy/core/_dtype.py\": 1682523026.044926, \"/Users/heiletjevanzyl/anaconda3/lib/python3.11/site-packages/numpy/core/_type_aliases.py\": 1682523026.0635512, \"/Users/heiletjevanzyl/anaconda3/lib/python3.11/site-packages/numpy/core/numerictypes.py\": 1682523026.0687687, \"/Users/heiletjevanzyl/anaconda3/lib/python3.11/site-packages/numpy/core/_exceptions.py\": 1682523026.0451813, \"/Users/heiletjevanzyl/anaconda3/lib/python3.11/site-packages/numpy/core/_ufunc_config.py\": 1682523026.0638509, \"/Users/heiletjevanzyl/anaconda3/lib/python3.11/site-packages/numpy/core/_methods.py\": 1682523026.0457668, \"/Users/heiletjevanzyl/anaconda3/lib/python3.11/site-packages/numpy/core/fromnumeric.py\": 1682523026.06601, \"/Users/heiletjevanzyl/anaconda3/lib/python3.11/site-packages/numpy/core/shape_base.py\": 1682523026.0711958, \"/Users/heiletjevanzyl/anaconda3/lib/python3.11/site-packages/numpy/core/arrayprint.py\": 1682523026.0645843, \"/Users/heiletjevanzyl/anaconda3/lib/python3.11/site-packages/numpy/core/_asarray.py\": 1682523026.044678, \"/Users/heiletjevanzyl/anaconda3/lib/python3.11/site-packages/numpy/core/numeric.py\": 1682523026.068001, \"/Users/heiletjevanzyl/anaconda3/lib/python3.11/site-packages/numpy/core/defchararray.py\": 1682523026.0651004, \"/Users/heiletjevanzyl/anaconda3/lib/python3.11/site-packages/numpy/core/records.py\": 1682523026.0704114, \"/Users/heiletjevanzyl/anaconda3/lib/python3.11/site-packages/numpy/core/memmap.py\": 1682523026.067166, \"/Users/heiletjevanzyl/anaconda3/lib/python3.11/site-packages/numpy/core/function_base.py\": 1682523026.066332, \"/Users/heiletjevanzyl/anaconda3/lib/python3.11/site-packages/numpy/core/_machar.py\": 1682523026.0456262, \"/Users/heiletjevanzyl/anaconda3/lib/python3.11/site-packages/numpy/core/getlimits.py\": 1682523026.066899, \"/Users/heiletjevanzyl/anaconda3/lib/python3.11/site-packages/numpy/core/einsumfunc.py\": 1682523026.065495, \"/Users/heiletjevanzyl/anaconda3/lib/python3.11/site-packages/numpy/core/_multiarray_tests.cpython-311-darwin.so\": 1682523033.9785438, \"/Users/heiletjevanzyl/anaconda3/lib/python3.11/site-packages/numpy/core/_add_newdocs.py\": 1682523026.0443666, \"/Users/heiletjevanzyl/anaconda3/lib/python3.11/site-packages/numpy/core/_add_newdocs_scalars.py\": 1682523026.044551, \"/Users/heiletjevanzyl/anaconda3/lib/python3.11/site-packages/numpy/core/_dtype_ctypes.py\": 1682523026.0450475, \"/Users/heiletjevanzyl/anaconda3/lib/python3.11/site-packages/numpy/core/_internal.py\": 1682523026.0453699, \"/Users/heiletjevanzyl/anaconda3/lib/python3.11/site-packages/numpy/_pytesttester.py\": 1682523026.0336394, \"/Users/heiletjevanzyl/anaconda3/lib/python3.11/site-packages/numpy/core/__init__.py\": 1682523026.04355, \"/Users/heiletjevanzyl/anaconda3/lib/python3.11/site-packages/numpy/lib/mixins.py\": 1682523026.155434, \"/Users/heiletjevanzyl/anaconda3/lib/python3.11/site-packages/numpy/lib/ufunclike.py\": 1682523026.1599455, \"/Users/heiletjevanzyl/anaconda3/lib/python3.11/site-packages/numpy/lib/type_check.py\": 1682523026.159153, \"/Users/heiletjevanzyl/anaconda3/lib/python3.11/site-packages/numpy/lib/scimath.py\": 1682523026.157164, \"/Users/heiletjevanzyl/anaconda3/lib/python3.11/site-packages/numpy/lib/stride_tricks.py\": 1682523026.157861, \"/Users/heiletjevanzyl/anaconda3/lib/python3.11/site-packages/numpy/lib/twodim_base.py\": 1682523026.1584253, \"/Users/heiletjevanzyl/anaconda3/lib/python3.11/site-packages/numpy/linalg/_umath_linalg.cpython-311-darwin.so\": 1682523033.8072898, \"/Users/heiletjevanzyl/anaconda3/lib/python3.11/site-packages/numpy/linalg/linalg.py\": 1682523026.1695611, \"/Users/heiletjevanzyl/anaconda3/lib/python3.11/site-packages/numpy/linalg/__init__.py\": 1682523026.168062, \"/Users/heiletjevanzyl/anaconda3/lib/python3.11/site-packages/numpy/matrixlib/defmatrix.py\": 1682523026.177556, \"/Users/heiletjevanzyl/anaconda3/lib/python3.11/site-packages/numpy/matrixlib/__init__.py\": 1682523026.1772509, \"/Users/heiletjevanzyl/anaconda3/lib/python3.11/site-packages/numpy/lib/histograms.py\": 1682523026.1548774, \"/Users/heiletjevanzyl/anaconda3/lib/python3.11/site-packages/numpy/lib/function_base.py\": 1682523026.154455, \"/Users/heiletjevanzyl/anaconda3/lib/python3.11/site-packages/numpy/lib/index_tricks.py\": 1682523026.1551816, \"/Users/heiletjevanzyl/anaconda3/lib/python3.11/site-packages/numpy/lib/nanfunctions.py\": 1682523026.1557915, \"/Users/heiletjevanzyl/anaconda3/lib/python3.11/site-packages/numpy/lib/shape_base.py\": 1682523026.1575818, \"/Users/heiletjevanzyl/anaconda3/lib/python3.11/site-packages/numpy/lib/polynomial.py\": 1682523026.1566648, \"/Users/heiletjevanzyl/anaconda3/lib/python3.11/site-packages/numpy/lib/utils.py\": 1682523026.161111, \"/Users/heiletjevanzyl/anaconda3/lib/python3.11/site-packages/numpy/lib/arraysetops.py\": 1682523026.153071, \"/Users/heiletjevanzyl/anaconda3/lib/python3.11/site-packages/numpy/lib/format.py\": 1682523026.15369, \"/Users/heiletjevanzyl/anaconda3/lib/python3.11/site-packages/numpy/lib/_datasource.py\": 1682523026.1508708, \"/Users/heiletjevanzyl/anaconda3/lib/python3.11/site-packages/numpy/lib/_iotools.py\": 1682523026.1520584, \"/Users/heiletjevanzyl/anaconda3/lib/python3.11/site-packages/numpy/lib/npyio.py\": 1682523026.1562889, \"/Users/heiletjevanzyl/anaconda3/lib/python3.11/site-packages/numpy/lib/arrayterator.py\": 1682523026.1533492, \"/Users/heiletjevanzyl/anaconda3/lib/python3.11/site-packages/numpy/lib/arraypad.py\": 1682523026.152725, \"/Users/heiletjevanzyl/anaconda3/lib/python3.11/site-packages/numpy/lib/_version.py\": 1682523026.1523688, \"/Users/heiletjevanzyl/anaconda3/lib/python3.11/site-packages/numpy/lib/__init__.py\": 1682523026.150064, \"/Users/heiletjevanzyl/anaconda3/lib/python3.11/site-packages/numpy/fft/_pocketfft_internal.cpython-311-darwin.so\": 1682523032.5158088, \"/Users/heiletjevanzyl/anaconda3/lib/python3.11/site-packages/numpy/fft/_pocketfft.py\": 1682523026.148315, \"/Users/heiletjevanzyl/anaconda3/lib/python3.11/site-packages/numpy/fft/helper.py\": 1682523026.1491024, \"/Users/heiletjevanzyl/anaconda3/lib/python3.11/site-packages/numpy/fft/__init__.py\": 1682523026.1479893, \"/Users/heiletjevanzyl/anaconda3/lib/python3.11/site-packages/numpy/polynomial/polyutils.py\": 1682523026.1831908, \"/Users/heiletjevanzyl/anaconda3/lib/python3.11/site-packages/numpy/polynomial/_polybase.py\": 1682523026.1793272, \"/Users/heiletjevanzyl/anaconda3/lib/python3.11/site-packages/numpy/polynomial/polynomial.py\": 1682523026.1823518, \"/Users/heiletjevanzyl/anaconda3/lib/python3.11/site-packages/numpy/polynomial/chebyshev.py\": 1682523026.1797175, \"/Users/heiletjevanzyl/anaconda3/lib/python3.11/site-packages/numpy/polynomial/legendre.py\": 1682523026.181604, \"/Users/heiletjevanzyl/anaconda3/lib/python3.11/site-packages/numpy/polynomial/hermite.py\": 1682523026.180059, \"/Users/heiletjevanzyl/anaconda3/lib/python3.11/site-packages/numpy/polynomial/hermite_e.py\": 1682523026.180399, \"/Users/heiletjevanzyl/anaconda3/lib/python3.11/site-packages/numpy/polynomial/laguerre.py\": 1682523026.1808228, \"/Users/heiletjevanzyl/anaconda3/lib/python3.11/site-packages/numpy/polynomial/__init__.py\": 1682523026.179001, \"/Users/heiletjevanzyl/anaconda3/lib/python3.11/site-packages/numpy/random/_common.cpython-311-darwin.so\": 1682523031.8188508, \"/Users/heiletjevanzyl/anaconda3/lib/python3.11/secrets.py\": 1694439385.3645425, \"/Users/heiletjevanzyl/anaconda3/lib/python3.11/site-packages/numpy/random/bit_generator.cpython-311-darwin.so\": 1682523034.1559732, \"/Users/heiletjevanzyl/anaconda3/lib/python3.11/site-packages/numpy/random/_bounded_integers.cpython-311-darwin.so\": 1682523033.0997388, \"/Users/heiletjevanzyl/anaconda3/lib/python3.11/site-packages/numpy/random/_mt19937.cpython-311-darwin.so\": 1682523031.1412694, \"/Users/heiletjevanzyl/anaconda3/lib/python3.11/site-packages/numpy/random/mtrand.cpython-311-darwin.so\": 1682523033.6040661, \"/Users/heiletjevanzyl/anaconda3/lib/python3.11/site-packages/numpy/random/_philox.cpython-311-darwin.so\": 1682523033.267932, \"/Users/heiletjevanzyl/anaconda3/lib/python3.11/site-packages/numpy/random/_pcg64.cpython-311-darwin.so\": 1682523034.3098788, \"/Users/heiletjevanzyl/anaconda3/lib/python3.11/site-packages/numpy/random/_sfc64.cpython-311-darwin.so\": 1682523033.4133615, \"/Users/heiletjevanzyl/anaconda3/lib/python3.11/site-packages/numpy/random/_generator.cpython-311-darwin.so\": 1682523031.9975984, \"/Users/heiletjevanzyl/anaconda3/lib/python3.11/site-packages/numpy/random/_pickle.py\": 1682523026.1962402, \"/Users/heiletjevanzyl/anaconda3/lib/python3.11/site-packages/numpy/random/__init__.py\": 1682523026.1859772, \"/Users/heiletjevanzyl/anaconda3/lib/python3.11/site-packages/numpy/ctypeslib.py\": 1682523026.0342247, \"/Users/heiletjevanzyl/anaconda3/lib/python3.11/site-packages/numpy/ma/core.py\": 1682523026.1719835, \"/Users/heiletjevanzyl/anaconda3/lib/python3.11/site-packages/numpy/ma/extras.py\": 1682523026.1724012, \"/Users/heiletjevanzyl/anaconda3/lib/python3.11/site-packages/numpy/ma/__init__.py\": 1682523026.1710002, \"/Users/heiletjevanzyl/anaconda3/lib/python3.11/site-packages/numpy/__init__.py\": 1682523026.0326583, \"/Users/heiletjevanzyl/anaconda3/lib/python3.11/site-packages/matplotlib/_api/deprecation.py\": 1693812553.4839463, \"/Users/heiletjevanzyl/anaconda3/lib/python3.11/site-packages/matplotlib/_api/__init__.py\": 1693812553.4837604, \"/Users/heiletjevanzyl/anaconda3/lib/python3.11/site-packages/matplotlib/_version.py\": 1693812553.467274, \"/Users/heiletjevanzyl/anaconda3/lib/python3.11/site-packages/matplotlib/_c_internal_utils.cpython-311-darwin.so\": 1693812557.8586752, \"/Users/heiletjevanzyl/anaconda3/lib/python3.11/site-packages/matplotlib/cbook/__init__.py\": 1693812553.4984484, \"/Users/heiletjevanzyl/anaconda3/lib/python3.11/site-packages/matplotlib/_docstring.py\": 1693812553.4594743, \"/Users/heiletjevanzyl/anaconda3/lib/python3.11/site-packages/PIL/_version.py\": 1695134176.7059748, \"/Users/heiletjevanzyl/anaconda3/lib/python3.11/site-packages/PIL/__init__.py\": 1695134176.7011838, \"/Users/heiletjevanzyl/anaconda3/lib/python3.11/site-packages/defusedxml/common.py\": 1615228157.0, \"/Users/heiletjevanzyl/anaconda3/lib/python3.11/site-packages/defusedxml/__init__.py\": 1615228157.0, \"/Users/heiletjevanzyl/anaconda3/lib/python3.11/xml/etree/__init__.py\": 1694439391.876565, \"/Users/heiletjevanzyl/anaconda3/lib/python3.11/xml/etree/ElementPath.py\": 1694439391.855142, \"/Users/heiletjevanzyl/anaconda3/lib/python3.11/lib-dynload/_elementtree.cpython-311-darwin.so\": 1694439431.3088565, \"/Users/heiletjevanzyl/anaconda3/lib/python3.11/xml/etree/ElementTree.py\": 1694439391.8660784, \"/Users/heiletjevanzyl/anaconda3/lib/python3.11/site-packages/defusedxml/ElementTree.py\": 1615228157.0, \"/Users/heiletjevanzyl/anaconda3/lib/python3.11/site-packages/PIL/ExifTags.py\": 1695134176.6862502, \"/Users/heiletjevanzyl/anaconda3/lib/python3.11/site-packages/PIL/ImageMode.py\": 1695134176.691693, \"/Users/heiletjevanzyl/anaconda3/lib/python3.11/site-packages/PIL/TiffTags.py\": 1695134176.6994145, \"/Users/heiletjevanzyl/anaconda3/lib/python3.11/site-packages/PIL/_binary.py\": 1695134176.7015839, \"/Users/heiletjevanzyl/anaconda3/lib/python3.11/site-packages/PIL/_deprecate.py\": 1695134176.7017696, \"/Users/heiletjevanzyl/anaconda3/lib/python3.11/site-packages/PIL/_util.py\": 1695134176.7058172, \"/Users/heiletjevanzyl/anaconda3/lib/python3.11/site-packages/PIL/_imaging.cpython-311-darwin.so\": 1695134179.4553409, \"/Users/heiletjevanzyl/anaconda3/lib/python3.11/site-packages/cffi/lock.py\": 1677903714.0, \"/Users/heiletjevanzyl/anaconda3/lib/python3.11/site-packages/cffi/error.py\": 1677903714.0, \"/Users/heiletjevanzyl/anaconda3/lib/python3.11/site-packages/cffi/model.py\": 1677903714.0, \"/Users/heiletjevanzyl/anaconda3/lib/python3.11/site-packages/cffi/api.py\": 1677903714.0, \"/Users/heiletjevanzyl/anaconda3/lib/python3.11/site-packages/cffi/__init__.py\": 1677903714.0, \"/Users/heiletjevanzyl/anaconda3/lib/python3.11/site-packages/PIL/Image.py\": 1695134176.689319, \"/Users/heiletjevanzyl/anaconda3/lib/python3.11/site-packages/PIL/ImageChops.py\": 1695134176.689483, \"/Users/heiletjevanzyl/anaconda3/lib/python3.11/site-packages/PIL/ImageFile.py\": 1695134176.6905978, \"/Users/heiletjevanzyl/anaconda3/lib/python3.11/site-packages/PIL/GimpGradientFile.py\": 1695134176.6878788, \"/Users/heiletjevanzyl/anaconda3/lib/python3.11/site-packages/PIL/GimpPaletteFile.py\": 1695134176.6880116, \"/Users/heiletjevanzyl/anaconda3/lib/python3.11/site-packages/PIL/ImageColor.py\": 1695134176.6898675, \"/Users/heiletjevanzyl/anaconda3/lib/python3.11/site-packages/PIL/PaletteFile.py\": 1695134176.6955867, \"/Users/heiletjevanzyl/anaconda3/lib/python3.11/site-packages/PIL/ImagePalette.py\": 1695134176.6922107, \"/Users/heiletjevanzyl/anaconda3/lib/python3.11/site-packages/PIL/ImageSequence.py\": 1695134176.6926756, \"/Users/heiletjevanzyl/anaconda3/lib/python3.11/site-packages/PIL/PngImagePlugin.py\": 1695134176.6971772, \"/Users/heiletjevanzyl/anaconda3/lib/python3.11/site-packages/matplotlib/_cm.py\": 1693812553.4582574, \"/Users/heiletjevanzyl/anaconda3/lib/python3.11/site-packages/matplotlib/_path.cpython-311-darwin.so\": 1693812557.6487672, \"/Users/heiletjevanzyl/anaconda3/lib/python3.11/site-packages/matplotlib/bezier.py\": 1693812553.469965, \"/Users/heiletjevanzyl/anaconda3/lib/python3.11/site-packages/matplotlib/path.py\": 1693812553.4779336, \"/Users/heiletjevanzyl/anaconda3/lib/python3.11/site-packages/matplotlib/transforms.py\": 1693812553.482429, \"/Users/heiletjevanzyl/anaconda3/lib/python3.11/site-packages/matplotlib/ticker.py\": 1693812553.4818294, \"/Users/heiletjevanzyl/anaconda3/lib/python3.11/site-packages/matplotlib/scale.py\": 1693812553.479738, \"/Users/heiletjevanzyl/anaconda3/lib/python3.11/site-packages/matplotlib/_color_data.py\": 1693812553.4590087, \"/Users/heiletjevanzyl/anaconda3/lib/python3.11/site-packages/matplotlib/colors.py\": 1693812553.4716537, \"/Users/heiletjevanzyl/anaconda3/lib/python3.11/site-packages/pyparsing/util.py\": 1677910942.0, \"/Users/heiletjevanzyl/anaconda3/lib/python3.11/site-packages/pyparsing/unicode.py\": 1677910942.0, \"/Users/heiletjevanzyl/anaconda3/lib/python3.11/site-packages/pyparsing/exceptions.py\": 1677910942.0, \"/Users/heiletjevanzyl/anaconda3/lib/python3.11/site-packages/pyparsing/actions.py\": 1677910942.0, \"/Users/heiletjevanzyl/anaconda3/lib/python3.11/site-packages/pyparsing/results.py\": 1677910942.0, \"/Users/heiletjevanzyl/anaconda3/lib/python3.11/site-packages/pyparsing/core.py\": 1677910942.0, \"/Users/heiletjevanzyl/anaconda3/lib/python3.11/site-packages/pyparsing/helpers.py\": 1677910942.0, \"/Users/heiletjevanzyl/anaconda3/lib/python3.11/site-packages/pyparsing/testing.py\": 1677910942.0, \"/Users/heiletjevanzyl/anaconda3/lib/python3.11/site-packages/pyparsing/common.py\": 1677910942.0, \"/Users/heiletjevanzyl/anaconda3/lib/python3.11/site-packages/pyparsing/__init__.py\": 1677910942.0, \"/Users/heiletjevanzyl/anaconda3/lib/python3.11/site-packages/matplotlib/_fontconfig_pattern.py\": 1693812553.4597518, \"/Users/heiletjevanzyl/anaconda3/lib/python3.11/site-packages/matplotlib/_enums.py\": 1693812553.459616, \"/Users/heiletjevanzyl/anaconda3/lib/python3.11/site-packages/cycler.py\": 1637851582.0, \"/Users/heiletjevanzyl/anaconda3/lib/python3.11/site-packages/matplotlib/rcsetup.py\": 1693812553.479317, \"/Users/heiletjevanzyl/anaconda3/lib/python3.11/site-packages/matplotlib/ft2font.cpython-311-darwin.so\": 1693812557.4825478, \"/Users/heiletjevanzyl/anaconda3/lib/python3.11/site-packages/kiwisolver/_cext.cpython-311-darwin.so\": 1677925362.0, \"/Users/heiletjevanzyl/anaconda3/lib/python3.11/site-packages/kiwisolver/__init__.py\": 1677925360.0, \"/Users/heiletjevanzyl/anaconda3/lib/python3.11/site-packages/matplotlib/_cm_listed.py\": 1693812553.4587226, \"/Users/heiletjevanzyl/anaconda3/lib/python3.11/site-packages/matplotlib/cm.py\": 1693812553.4706233, \"/Users/heiletjevanzyl/anaconda3/lib/python3.11/site-packages/matplotlib/__init__.py\": 1693812553.4571218, \"/Users/heiletjevanzyl/anaconda3/lib/python3.11/site-packages/matplotlib/artist.py\": 1693812553.4680657, \"/Users/heiletjevanzyl/anaconda3/lib/python3.11/site-packages/matplotlib/hatch.py\": 1693812553.4746804, \"/Users/heiletjevanzyl/anaconda3/lib/python3.11/site-packages/matplotlib/markers.py\": 1693812553.4760764, \"/Users/heiletjevanzyl/anaconda3/lib/python3.11/site-packages/matplotlib/lines.py\": 1693812553.4758675, \"/Users/heiletjevanzyl/anaconda3/lib/python3.11/site-packages/matplotlib/collections.py\": 1693812553.4709718, \"/Users/heiletjevanzyl/anaconda3/lib/python3.11/site-packages/matplotlib/_pylab_helpers.py\": 1693812553.462463, \"/Users/heiletjevanzyl/anaconda3/lib/python3.11/site-packages/matplotlib/backend_tools.py\": 1693812553.4697704, \"/Users/heiletjevanzyl/anaconda3/lib/python3.11/site-packages/matplotlib/_mathtext_data.py\": 1693812553.461538, \"/Users/heiletjevanzyl/anaconda3/lib/python3.11/site-packages/matplotlib/_afm.py\": 1693812553.4573257, \"/Users/heiletjevanzyl/anaconda3/lib/python3.11/site-packages/matplotlib/font_manager.py\": 1693812553.4736292, \"/Users/heiletjevanzyl/anaconda3/lib/python3.11/site-packages/matplotlib/patches.py\": 1693812553.4776661, \"/Users/heiletjevanzyl/anaconda3/lib/python3.11/site-packages/matplotlib/_text_helpers.py\": 1693812553.464615, \"/Users/heiletjevanzyl/anaconda3/lib/python3.11/site-packages/matplotlib/dviread.py\": 1693812553.4728608, \"/Users/heiletjevanzyl/anaconda3/lib/python3.11/site-packages/matplotlib/_mathtext.py\": 1693812553.46127, \"/Users/heiletjevanzyl/anaconda3/lib/python3.11/site-packages/matplotlib/mathtext.py\": 1693812553.4762213, \"/Users/heiletjevanzyl/anaconda3/lib/python3.11/site-packages/matplotlib/texmanager.py\": 1693812553.480942, \"/Users/heiletjevanzyl/anaconda3/lib/python3.11/site-packages/matplotlib/textpath.py\": 1693812553.4814355, \"/Users/heiletjevanzyl/anaconda3/lib/python3.11/site-packages/matplotlib/text.py\": 1693812553.481261, \"/Users/heiletjevanzyl/anaconda3/lib/python3.11/site-packages/matplotlib/_tight_bbox.py\": 1693812553.4647539, \"/Users/heiletjevanzyl/anaconda3/lib/python3.11/site-packages/matplotlib/widgets.py\": 1693812553.483499, \"/Users/heiletjevanzyl/anaconda3/lib/python3.11/site-packages/matplotlib/backend_managers.py\": 1693812553.4695601, \"/Users/heiletjevanzyl/anaconda3/lib/python3.11/site-packages/matplotlib/backend_bases.py\": 1693812553.4693792, \"/Users/heiletjevanzyl/anaconda3/lib/python3.11/site-packages/matplotlib/contour.py\": 1693812553.472145, \"/Users/heiletjevanzyl/anaconda3/lib/python3.11/site-packages/matplotlib/spines.py\": 1693812553.4799535, \"/Users/heiletjevanzyl/anaconda3/lib/python3.11/site-packages/matplotlib/colorbar.py\": 1693812553.4712734, \"/Users/heiletjevanzyl/anaconda3/lib/python3.11/site-packages/matplotlib/_image.cpython-311-darwin.so\": 1693812557.7464669, \"/Users/heiletjevanzyl/anaconda3/lib/python3.11/site-packages/matplotlib/image.py\": 1693812553.474999, \"/Users/heiletjevanzyl/anaconda3/lib/python3.11/site-packages/matplotlib/style/core.py\": 1693812553.5636892, \"/Users/heiletjevanzyl/anaconda3/lib/python3.11/site-packages/matplotlib/style/__init__.py\": 1693812553.563543, \"/Users/heiletjevanzyl/anaconda3/lib/python3.11/site-packages/matplotlib/_blocking_input.py\": 1693812553.4576373, \"/Users/heiletjevanzyl/anaconda3/lib/python3.11/site-packages/matplotlib/offsetbox.py\": 1693812553.4771018, \"/Users/heiletjevanzyl/anaconda3/lib/python3.11/site-packages/matplotlib/units.py\": 1693812553.4828768, \"/Users/heiletjevanzyl/anaconda3/lib/python3.11/site-packages/matplotlib/axis.py\": 1693812553.4688368, \"/Users/heiletjevanzyl/anaconda3/lib/python3.11/site-packages/matplotlib/_tight_layout.py\": 1693812553.46491, \"/Users/heiletjevanzyl/anaconda3/lib/python3.11/site-packages/matplotlib/gridspec.py\": 1693812553.4745417, \"/Users/heiletjevanzyl/anaconda3/lib/python3.11/site-packages/matplotlib/table.py\": 1693812553.4807396, \"/Users/heiletjevanzyl/anaconda3/lib/python3.11/site-packages/matplotlib/axes/_base.py\": 1693812553.4856734, \"/Users/heiletjevanzyl/anaconda3/lib/python3.11/site-packages/matplotlib/category.py\": 1693812553.4704008, \"/Users/heiletjevanzyl/anaconda3/lib/python3.11/site-packages/dateutil/rrule.py\": 1626374693.0, \"/Users/heiletjevanzyl/anaconda3/lib/python3.11/site-packages/matplotlib/dates.py\": 1693812553.4724867, \"/Users/heiletjevanzyl/anaconda3/lib/python3.11/site-packages/matplotlib/container.py\": 1693812553.471803, \"/Users/heiletjevanzyl/anaconda3/lib/python3.11/site-packages/matplotlib/legend_handler.py\": 1693812553.475605, \"/Users/heiletjevanzyl/anaconda3/lib/python3.11/site-packages/matplotlib/legend.py\": 1693812553.4754212, \"/Users/heiletjevanzyl/anaconda3/lib/python3.11/site-packages/matplotlib/mlab.py\": 1693812553.4767501, \"/Users/heiletjevanzyl/anaconda3/lib/python3.11/site-packages/matplotlib/quiver.py\": 1693812553.4790392, \"/Users/heiletjevanzyl/anaconda3/lib/python3.11/site-packages/matplotlib/stackplot.py\": 1693812553.4801078, \"/Users/heiletjevanzyl/anaconda3/lib/python3.11/site-packages/matplotlib/streamplot.py\": 1693812553.4803033, \"/Users/heiletjevanzyl/anaconda3/lib/python3.11/site-packages/matplotlib/tri/_triangulation.py\": 1693812553.581607, \"/Users/heiletjevanzyl/anaconda3/lib/python3.11/site-packages/matplotlib/tri/_tricontour.py\": 1693812553.5817528, \"/Users/heiletjevanzyl/anaconda3/lib/python3.11/site-packages/matplotlib/tri/_trifinder.py\": 1693812553.5818813, \"/Users/heiletjevanzyl/anaconda3/lib/python3.11/site-packages/matplotlib/tri/_tritools.py\": 1693812553.582727, \"/Users/heiletjevanzyl/anaconda3/lib/python3.11/site-packages/matplotlib/tri/_triinterpolate.py\": 1693812553.582166, \"/Users/heiletjevanzyl/anaconda3/lib/python3.11/site-packages/matplotlib/tri/_tripcolor.py\": 1693812553.5823076, \"/Users/heiletjevanzyl/anaconda3/lib/python3.11/site-packages/matplotlib/tri/_triplot.py\": 1693812553.5824368, \"/Users/heiletjevanzyl/anaconda3/lib/python3.11/site-packages/matplotlib/tri/_trirefine.py\": 1693812553.5825844, \"/Users/heiletjevanzyl/anaconda3/lib/python3.11/site-packages/matplotlib/tri/__init__.py\": 1693812553.5814626, \"/Users/heiletjevanzyl/anaconda3/lib/python3.11/site-packages/matplotlib/axes/_secondary_axes.py\": 1693812553.4858642, \"/Users/heiletjevanzyl/anaconda3/lib/python3.11/site-packages/matplotlib/axes/_axes.py\": 1693812553.485079, \"/Users/heiletjevanzyl/anaconda3/lib/python3.11/site-packages/matplotlib/axes/__init__.py\": 1693812553.484111, \"/Users/heiletjevanzyl/anaconda3/lib/python3.11/site-packages/matplotlib/projections/geo.py\": 1693812553.5626488, \"/Users/heiletjevanzyl/anaconda3/lib/python3.11/site-packages/matplotlib/projections/polar.py\": 1693812553.5629036, \"/Users/heiletjevanzyl/anaconda3/lib/python3.11/site-packages/mpl_toolkits/mplot3d/proj3d.py\": 1693812553.5891016, \"/Users/heiletjevanzyl/anaconda3/lib/python3.11/site-packages/mpl_toolkits/mplot3d/art3d.py\": 1693812553.588347, \"/Users/heiletjevanzyl/anaconda3/lib/python3.11/site-packages/mpl_toolkits/mplot3d/axis3d.py\": 1693812553.5889688, \"/Users/heiletjevanzyl/anaconda3/lib/python3.11/site-packages/mpl_toolkits/mplot3d/axes3d.py\": 1693812553.588784, \"/Users/heiletjevanzyl/anaconda3/lib/python3.11/site-packages/mpl_toolkits/mplot3d/__init__.py\": 1693812553.5881507, \"/Users/heiletjevanzyl/anaconda3/lib/python3.11/site-packages/matplotlib/projections/__init__.py\": 1693812553.5624921, \"/Users/heiletjevanzyl/anaconda3/lib/python3.11/site-packages/matplotlib/_layoutgrid.py\": 1693812553.4608684, \"/Users/heiletjevanzyl/anaconda3/lib/python3.11/site-packages/matplotlib/_constrained_layout.py\": 1693812553.4593086, \"/Users/heiletjevanzyl/anaconda3/lib/python3.11/site-packages/matplotlib/layout_engine.py\": 1693812553.4751608, \"/Users/heiletjevanzyl/anaconda3/lib/python3.11/site-packages/matplotlib/figure.py\": 1693812553.473349, \"/Users/heiletjevanzyl/anaconda3/lib/python3.11/site-packages/matplotlib/pyplot.py\": 1693812553.4787147, \"/Users/heiletjevanzyl/anaconda3/lib/python3.11/site-packages/matplotlib/backends/__init__.py\": 1693812553.4860613, \"/Users/heiletjevanzyl/anaconda3/lib/python3.11/site-packages/matplotlib/backends/_backend_agg.cpython-311-darwin.so\": 1693812558.3041258, \"/Users/heiletjevanzyl/anaconda3/lib/python3.11/site-packages/matplotlib/backends/backend_agg.py\": 1693812553.4887064, \"/Users/heiletjevanzyl/anaconda3/lib/python3.11/site-packages/matplotlib_inline/config.py\": 1677918360.0, \"/Users/heiletjevanzyl/anaconda3/lib/python3.11/site-packages/matplotlib_inline/backend_inline.py\": 1677918360.0, \"/Users/heiletjevanzyl/anaconda3/lib/python3.11/site-packages/matplotlib_inline/__init__.py\": 1677918360.0, \"/Users/heiletjevanzyl/anaconda3/lib/python3.11/site-packages/_plotly_utils/__init__.py\": 1677953331.4407935, \"/Users/heiletjevanzyl/anaconda3/lib/python3.11/site-packages/_plotly_utils/importers.py\": 1677953331.4418535, \"/Users/heiletjevanzyl/anaconda3/lib/python3.11/site-packages/plotly/__init__.py\": 1677953331.4713197, \"/Users/heiletjevanzyl/anaconda3/lib/python3.11/site-packages/plotly/io/_templates.py\": 1677953331.748074, \"/Users/heiletjevanzyl/anaconda3/lib/python3.11/site-packages/plotly/io/__init__.py\": 1677953331.7463338, \"/Users/heiletjevanzyl/anaconda3/lib/python3.11/site-packages/_plotly_utils/optional_imports.py\": 1677953331.4420028, \"/Users/heiletjevanzyl/anaconda3/lib/python3.11/site-packages/plotly/optional_imports.py\": 1677953331.4740841, \"/Users/heiletjevanzyl/anaconda3/lib/python3.11/webbrowser.py\": 1694439385.7472951, \"/Users/heiletjevanzyl/anaconda3/lib/python3.11/site-packages/_plotly_utils/basevalidators.py\": 1677953331.4411857, \"/Users/heiletjevanzyl/anaconda3/lib/python3.11/site-packages/_plotly_utils/utils.py\": 1677953331.442559, \"/Users/heiletjevanzyl/anaconda3/lib/python3.11/site-packages/_plotly_utils/png.py\": 1677953331.442362, \"/Users/heiletjevanzyl/anaconda3/lib/python3.11/site-packages/_plotly_utils/data_utils.py\": 1677953331.4414086, \"/Users/heiletjevanzyl/anaconda3/lib/python3.11/site-packages/plotly/utils.py\": 1677953331.475257, \"/Users/heiletjevanzyl/anaconda3/lib/python3.11/site-packages/plotly/graph_objs/__init__.py\": 1677953331.4819493, \"/Users/heiletjevanzyl/anaconda3/lib/python3.11/site-packages/_plotly_utils/exceptions.py\": 1677953331.4415638, \"/Users/heiletjevanzyl/anaconda3/lib/python3.11/site-packages/plotly/exceptions.py\": 1677953331.4734993, \"/Users/heiletjevanzyl/anaconda3/lib/python3.11/site-packages/_plotly_utils/files.py\": 1677953331.4417188, \"/Users/heiletjevanzyl/anaconda3/lib/python3.11/site-packages/plotly/files.py\": 1677953331.4736354, \"/Users/heiletjevanzyl/anaconda3/lib/python3.11/site-packages/plotly/tools.py\": 1677953331.475088, \"/Users/heiletjevanzyl/anaconda3/lib/python3.11/site-packages/plotly/offline/_plotlyjs_version.py\": 1677953331.7512445, \"/Users/heiletjevanzyl/anaconda3/lib/python3.11/site-packages/plotly/offline/offline.py\": 1677953331.75144, \"/Users/heiletjevanzyl/anaconda3/lib/python3.11/site-packages/plotly/offline/__init__.py\": 1677953331.7511053, \"/Users/heiletjevanzyl/anaconda3/lib/python3.11/site-packages/plotly/io/_utils.py\": 1677953331.7482162, \"/Users/heiletjevanzyl/anaconda3/lib/python3.11/site-packages/plotly/io/_json.py\": 1677953331.7468886, \"/Users/heiletjevanzyl/anaconda3/lib/python3.11/site-packages/kaleido/_version.py\": 1689925487.2501512, \"/Users/heiletjevanzyl/anaconda3/lib/python3.11/site-packages/kaleido/__init__.py\": 1689925487.2499971, \"/Users/heiletjevanzyl/anaconda3/lib/python3.11/site-packages/kaleido/scopes/__init__.py\": 1689925487.250278, \"/Users/heiletjevanzyl/anaconda3/lib/python3.11/site-packages/kaleido/scopes/base.py\": 1689925487.2504697, \"/Users/heiletjevanzyl/anaconda3/lib/python3.11/site-packages/kaleido/scopes/plotly.py\": 1689925487.250614, \"/Users/heiletjevanzyl/anaconda3/lib/python3.11/site-packages/plotly/io/_kaleido.py\": 1677953331.7470543, \"/Users/heiletjevanzyl/anaconda3/lib/python3.11/site-packages/plotly/io/_html.py\": 1677953331.746707, \"/Users/heiletjevanzyl/anaconda3/lib/python3.11/site-packages/tenacity/retry.py\": 1682972352.3043466, \"/Users/heiletjevanzyl/anaconda3/lib/python3.11/site-packages/tenacity/nap.py\": 1682972352.3040745, \"/Users/heiletjevanzyl/anaconda3/lib/python3.11/site-packages/tenacity/_utils.py\": 1682972352.303512, \"/Users/heiletjevanzyl/anaconda3/lib/python3.11/site-packages/tenacity/stop.py\": 1682972352.3044827, \"/Users/heiletjevanzyl/anaconda3/lib/python3.11/site-packages/tenacity/wait.py\": 1682972352.304756, \"/Users/heiletjevanzyl/anaconda3/lib/python3.11/site-packages/tenacity/before.py\": 1682972352.3038015, \"/Users/heiletjevanzyl/anaconda3/lib/python3.11/site-packages/tenacity/after.py\": 1682972352.3036551, \"/Users/heiletjevanzyl/anaconda3/lib/python3.11/site-packages/tenacity/before_sleep.py\": 1682972352.30394, \"/Users/heiletjevanzyl/anaconda3/lib/python3.11/site-packages/tenacity/_asyncio.py\": 1682972352.3033593, \"/Users/heiletjevanzyl/anaconda3/lib/python3.11/site-packages/tenacity/tornadoweb.py\": 1682972352.304609, \"/Users/heiletjevanzyl/anaconda3/lib/python3.11/site-packages/tenacity/__init__.py\": 1682972352.3031828, \"/Users/heiletjevanzyl/anaconda3/lib/python3.11/site-packages/plotly/io/_orca.py\": 1677953331.7473614, \"/Users/heiletjevanzyl/anaconda3/lib/python3.11/site-packages/plotly/io/_base_renderers.py\": 1677953331.7465248, \"/Users/heiletjevanzyl/anaconda3/lib/python3.11/site-packages/nbformat/v1/convert.py\": 1694616842.4587803, \"/Users/heiletjevanzyl/anaconda3/lib/python3.11/site-packages/nbformat/_struct.py\": 1694616842.456157, \"/Users/heiletjevanzyl/anaconda3/lib/python3.11/site-packages/nbformat/v1/nbbase.py\": 1694616842.4589756, \"/Users/heiletjevanzyl/anaconda3/lib/python3.11/site-packages/nbformat/v1/rwbase.py\": 1694616842.4593642, \"/Users/heiletjevanzyl/anaconda3/lib/python3.11/site-packages/nbformat/v1/nbjson.py\": 1694616842.4591827, \"/Users/heiletjevanzyl/anaconda3/lib/python3.11/site-packages/nbformat/v1/__init__.py\": 1694616842.4585896, \"/Users/heiletjevanzyl/anaconda3/lib/python3.11/site-packages/nbformat/v2/nbbase.py\": 1694616842.459848, \"/Users/heiletjevanzyl/anaconda3/lib/python3.11/site-packages/nbformat/v2/convert.py\": 1694616842.4597085, \"/Users/heiletjevanzyl/anaconda3/lib/python3.11/site-packages/nbformat/v2/rwbase.py\": 1694616842.4603817, \"/Users/heiletjevanzyl/anaconda3/lib/python3.11/site-packages/nbformat/v2/nbjson.py\": 1694616842.4599779, \"/Users/heiletjevanzyl/anaconda3/lib/python3.11/site-packages/nbformat/v2/nbpy.py\": 1694616842.460117, \"/Users/heiletjevanzyl/anaconda3/lib/python3.11/site-packages/nbformat/v2/nbxml.py\": 1694616842.4602435, \"/Users/heiletjevanzyl/anaconda3/lib/python3.11/site-packages/nbformat/v2/__init__.py\": 1694616842.4595733, \"/Users/heiletjevanzyl/anaconda3/lib/python3.11/site-packages/nbformat/v3/nbbase.py\": 1694616842.4608223, \"/Users/heiletjevanzyl/anaconda3/lib/python3.11/site-packages/nbformat/v3/convert.py\": 1694616842.460687, \"/Users/heiletjevanzyl/anaconda3/lib/python3.11/site-packages/nbformat/v3/rwbase.py\": 1694616842.4614365, \"/Users/heiletjevanzyl/anaconda3/lib/python3.11/site-packages/nbformat/v3/nbjson.py\": 1694616842.4611163, \"/Users/heiletjevanzyl/anaconda3/lib/python3.11/site-packages/nbformat/v3/nbpy.py\": 1694616842.4612541, \"/Users/heiletjevanzyl/anaconda3/lib/python3.11/site-packages/nbformat/v3/__init__.py\": 1694616842.4605587, \"/Users/heiletjevanzyl/anaconda3/lib/python3.11/site-packages/nbformat/_imports.py\": 1694616842.4559522, \"/Users/heiletjevanzyl/anaconda3/lib/python3.11/site-packages/nbformat/corpus/__init__.py\": 1694616842.4580119, \"/Users/heiletjevanzyl/anaconda3/lib/python3.11/site-packages/nbformat/corpus/words.py\": 1694616842.4581602, \"/Users/heiletjevanzyl/anaconda3/lib/python3.11/site-packages/fastjsonschema/exceptions.py\": 1678996925.8585143, \"/Users/heiletjevanzyl/anaconda3/lib/python3.11/site-packages/fastjsonschema/indent.py\": 1678996925.858888, \"/Users/heiletjevanzyl/anaconda3/lib/python3.11/site-packages/fastjsonschema/ref_resolver.py\": 1678996925.8590546, \"/Users/heiletjevanzyl/anaconda3/lib/python3.11/site-packages/fastjsonschema/generator.py\": 1678996925.8587027, \"/Users/heiletjevanzyl/anaconda3/lib/python3.11/site-packages/fastjsonschema/draft04.py\": 1678996925.8579738, \"/Users/heiletjevanzyl/anaconda3/lib/python3.11/site-packages/fastjsonschema/draft06.py\": 1678996925.858162, \"/Users/heiletjevanzyl/anaconda3/lib/python3.11/site-packages/fastjsonschema/draft07.py\": 1678996925.8583274, \"/Users/heiletjevanzyl/anaconda3/lib/python3.11/site-packages/fastjsonschema/version.py\": 1678996925.8592074, \"/Users/heiletjevanzyl/anaconda3/lib/python3.11/site-packages/fastjsonschema/__init__.py\": 1678996925.8575404, \"/Users/heiletjevanzyl/anaconda3/lib/python3.11/site-packages/attr/_compat.py\": 1677906668.0, \"/Users/heiletjevanzyl/anaconda3/lib/python3.11/site-packages/attr/_config.py\": 1677906668.0, \"/Users/heiletjevanzyl/anaconda3/lib/python3.11/site-packages/attr/exceptions.py\": 1677906668.0, \"/Users/heiletjevanzyl/anaconda3/lib/python3.11/site-packages/attr/setters.py\": 1677906669.0, \"/Users/heiletjevanzyl/anaconda3/lib/python3.11/site-packages/attr/_make.py\": 1677906668.0, \"/Users/heiletjevanzyl/anaconda3/lib/python3.11/site-packages/attr/converters.py\": 1677906668.0, \"/Users/heiletjevanzyl/anaconda3/lib/python3.11/site-packages/attr/filters.py\": 1677906668.0, \"/Users/heiletjevanzyl/anaconda3/lib/python3.11/site-packages/attr/validators.py\": 1677906669.0, \"/Users/heiletjevanzyl/anaconda3/lib/python3.11/site-packages/attr/_cmp.py\": 1677906668.0, \"/Users/heiletjevanzyl/anaconda3/lib/python3.11/site-packages/attr/_funcs.py\": 1677906668.0, \"/Users/heiletjevanzyl/anaconda3/lib/python3.11/site-packages/attr/_version_info.py\": 1677906668.0, \"/Users/heiletjevanzyl/anaconda3/lib/python3.11/site-packages/attr/_next_gen.py\": 1677906668.0, \"/Users/heiletjevanzyl/anaconda3/lib/python3.11/site-packages/attr/__init__.py\": 1677906668.0, \"/Users/heiletjevanzyl/anaconda3/lib/python3.11/site-packages/jsonschema/_utils.py\": 1678983452.992764, \"/Users/heiletjevanzyl/anaconda3/lib/python3.11/site-packages/jsonschema/exceptions.py\": 1678983452.9933884, \"/Users/heiletjevanzyl/anaconda3/lib/python3.11/site-packages/idna/package_data.py\": 1677906173.0, \"/Users/heiletjevanzyl/anaconda3/lib/python3.11/site-packages/idna/idnadata.py\": 1677906173.0, \"/Users/heiletjevanzyl/anaconda3/lib/python3.11/site-packages/idna/intranges.py\": 1677906173.0, \"/Users/heiletjevanzyl/anaconda3/lib/python3.11/site-packages/idna/core.py\": 1677906173.0, \"/Users/heiletjevanzyl/anaconda3/lib/python3.11/site-packages/idna/__init__.py\": 1677906173.0, \"/Users/heiletjevanzyl/anaconda3/lib/python3.11/site-packages/rfc3986_validator.py\": 1683059077.404986, \"/Users/heiletjevanzyl/anaconda3/lib/python3.11/site-packages/rfc3339_validator.py\": 1683077236.4389868, \"/Users/heiletjevanzyl/anaconda3/lib/python3.11/site-packages/jsonpointer.py\": 1615661742.0, \"/Users/heiletjevanzyl/anaconda3/lib/python3.11/site-packages/jsonschema/_format.py\": 1678983452.9922183, \"/Users/heiletjevanzyl/anaconda3/lib/python3.11/site-packages/pyrsistent/_transformations.py\": 1677909942.0, \"/Users/heiletjevanzyl/anaconda3/lib/python3.11/site-packages/pvectorc.cpython-311-darwin.so\": 1677909954.0, \"/Users/heiletjevanzyl/anaconda3/lib/python3.11/site-packages/pyrsistent/_pvector.py\": 1677909942.0, \"/Users/heiletjevanzyl/anaconda3/lib/python3.11/site-packages/pyrsistent/_pmap.py\": 1677909942.0, \"/Users/heiletjevanzyl/anaconda3/lib/python3.11/site-packages/pyrsistent/_pset.py\": 1677909942.0, \"/Users/heiletjevanzyl/anaconda3/lib/python3.11/site-packages/pyrsistent/_pbag.py\": 1677909942.0, \"/Users/heiletjevanzyl/anaconda3/lib/python3.11/site-packages/pyrsistent/_plist.py\": 1677909942.0, \"/Users/heiletjevanzyl/anaconda3/lib/python3.11/site-packages/pyrsistent/_pdeque.py\": 1677909942.0, \"/Users/heiletjevanzyl/anaconda3/lib/python3.11/site-packages/pyrsistent/_checked_types.py\": 1677909942.0, \"/Users/heiletjevanzyl/anaconda3/lib/python3.11/site-packages/pyrsistent/_field_common.py\": 1677909942.0, \"/Users/heiletjevanzyl/anaconda3/lib/python3.11/site-packages/pyrsistent/_precord.py\": 1677909942.0, \"/Users/heiletjevanzyl/anaconda3/lib/python3.11/site-packages/pyrsistent/_pclass.py\": 1677909942.0, \"/Users/heiletjevanzyl/anaconda3/lib/python3.11/site-packages/pyrsistent/_immutable.py\": 1677909942.0, \"/Users/heiletjevanzyl/anaconda3/lib/python3.11/site-packages/pyrsistent/_helpers.py\": 1677909942.0, \"/Users/heiletjevanzyl/anaconda3/lib/python3.11/site-packages/pyrsistent/_toolz.py\": 1677909942.0, \"/Users/heiletjevanzyl/anaconda3/lib/python3.11/site-packages/pyrsistent/__init__.py\": 1677909942.0, \"/Users/heiletjevanzyl/anaconda3/lib/python3.11/site-packages/pyrsistent/typing.py\": 1677909942.0, \"/Users/heiletjevanzyl/anaconda3/lib/python3.11/site-packages/jsonschema/_types.py\": 1678983452.9925518, \"/Users/heiletjevanzyl/anaconda3/lib/python3.11/site-packages/jsonschema/protocols.py\": 1678983452.9935482, \"/Users/heiletjevanzyl/anaconda3/lib/python3.11/site-packages/jsonschema/_legacy_validators.py\": 1678983452.992389, \"/Users/heiletjevanzyl/anaconda3/lib/python3.11/site-packages/jsonschema/_validators.py\": 1678983452.993004, \"/Users/heiletjevanzyl/anaconda3/lib/python3.11/importlib/resources/_itertools.py\": 1694439389.528898, \"/Users/heiletjevanzyl/anaconda3/lib/python3.11/importlib/resources/readers.py\": 1694439389.550222, \"/Users/heiletjevanzyl/anaconda3/lib/python3.11/importlib/readers.py\": 1694439389.4596133, \"/Users/heiletjevanzyl/anaconda3/lib/python3.11/site-packages/jsonschema/validators.py\": 1678983452.9937677, \"/Users/heiletjevanzyl/anaconda3/lib/python3.11/site-packages/jsonschema/__init__.py\": 1678983452.9918692, \"/Users/heiletjevanzyl/anaconda3/lib/python3.11/site-packages/nbformat/json_compat.py\": 1694616842.4568248, \"/Users/heiletjevanzyl/anaconda3/lib/python3.11/site-packages/nbformat/reader.py\": 1694616842.457239, \"/Users/heiletjevanzyl/anaconda3/lib/python3.11/site-packages/nbformat/warnings.py\": 1694616842.4578872, \"/Users/heiletjevanzyl/anaconda3/lib/python3.11/site-packages/nbformat/validator.py\": 1694616842.457756, \"/Users/heiletjevanzyl/anaconda3/lib/python3.11/site-packages/nbformat/notebooknode.py\": 1694616842.4569871, \"/Users/heiletjevanzyl/anaconda3/lib/python3.11/site-packages/nbformat/v4/nbbase.py\": 1694616842.4619906, \"/Users/heiletjevanzyl/anaconda3/lib/python3.11/site-packages/nbformat/v4/convert.py\": 1694616842.4618394, \"/Users/heiletjevanzyl/anaconda3/lib/python3.11/site-packages/nbformat/v4/rwbase.py\": 1694616842.4633079, \"/Users/heiletjevanzyl/anaconda3/lib/python3.11/site-packages/nbformat/v4/nbjson.py\": 1694616842.4631774, \"/Users/heiletjevanzyl/anaconda3/lib/python3.11/site-packages/nbformat/v4/__init__.py\": 1694616842.4616628, \"/Users/heiletjevanzyl/anaconda3/lib/python3.11/site-packages/nbformat/_version.py\": 1694616842.456344, \"/Users/heiletjevanzyl/anaconda3/lib/python3.11/site-packages/nbformat/sentinel.py\": 1694616842.457375, \"/Users/heiletjevanzyl/anaconda3/lib/python3.11/site-packages/nbformat/converter.py\": 1694616842.4565072, \"/Users/heiletjevanzyl/anaconda3/lib/python3.11/site-packages/nbformat/__init__.py\": 1694616842.4557772, \"/Users/heiletjevanzyl/anaconda3/lib/python3.11/site-packages/plotly/io/_renderers.py\": 1677953331.7476559, \"/Users/heiletjevanzyl/anaconda3/lib/python3.11/site-packages/pytz/exceptions.py\": 1695131640.020364, \"/Users/heiletjevanzyl/anaconda3/lib/python3.11/site-packages/pytz/lazy.py\": 1695131640.0206687, \"/Users/heiletjevanzyl/anaconda3/lib/python3.11/site-packages/pytz/tzinfo.py\": 1695131640.0216556, \"/Users/heiletjevanzyl/anaconda3/lib/python3.11/site-packages/pytz/tzfile.py\": 1695131640.0212898, \"/Users/heiletjevanzyl/anaconda3/lib/python3.11/site-packages/pytz/__init__.py\": 1695131640.0200005, \"/Users/heiletjevanzyl/anaconda3/lib/python3.11/site-packages/pandas/_typing.py\": 1692290144.0093272, \"/Users/heiletjevanzyl/anaconda3/lib/python3.11/site-packages/pandas/compat/_constants.py\": 1692290144.090656, \"/Users/heiletjevanzyl/anaconda3/lib/python3.11/site-packages/pandas/compat/compressors.py\": 1692290144.0908985, \"/Users/heiletjevanzyl/anaconda3/lib/python3.11/site-packages/pandas/_libs/tslibs/np_datetime.cpython-311-darwin.so\": 1692290160.3212616, \"/Users/heiletjevanzyl/anaconda3/lib/python3.11/site-packages/pandas/_libs/tslibs/dtypes.cpython-311-darwin.so\": 1692290162.0502088, \"/Users/heiletjevanzyl/anaconda3/lib/python3.11/site-packages/pandas/_libs/tslibs/base.cpython-311-darwin.so\": 1692290158.9403436, \"/Users/heiletjevanzyl/anaconda3/lib/python3.11/site-packages/pandas/_libs/tslibs/nattype.cpython-311-darwin.so\": 1692290161.2494745, \"/Users/heiletjevanzyl/anaconda3/lib/python3.11/site-packages/pandas/util/_exceptions.py\": 1692290144.2915494, \"/Users/heiletjevanzyl/anaconda3/lib/python3.11/site-packages/pandas/util/version/__init__.py\": 1692290144.2923114, \"/Users/heiletjevanzyl/anaconda3/lib/python3.11/site-packages/pandas/compat/_optional.py\": 1692290144.090782, \"/Users/heiletjevanzyl/anaconda3/lib/python3.11/zoneinfo/_tzpath.py\": 1694439392.0852911, \"/Users/heiletjevanzyl/anaconda3/lib/python3.11/zoneinfo/_common.py\": 1694439392.0775573, \"/Users/heiletjevanzyl/anaconda3/lib/python3.11/lib-dynload/_zoneinfo.cpython-311-darwin.so\": 1694439438.3929713, \"/Users/heiletjevanzyl/anaconda3/lib/python3.11/zoneinfo/__init__.py\": 1694439392.069562, \"/Users/heiletjevanzyl/anaconda3/lib/python3.11/site-packages/pandas/_libs/tslibs/timezones.cpython-311-darwin.so\": 1692290161.455459, \"/Users/heiletjevanzyl/anaconda3/lib/python3.11/site-packages/pandas/_libs/tslibs/ccalendar.cpython-311-darwin.so\": 1692290160.7399065, \"/Users/heiletjevanzyl/anaconda3/lib/python3.11/site-packages/pandas/_config/config.py\": 1692290144.010303, \"/Users/heiletjevanzyl/anaconda3/lib/python3.11/site-packages/pandas/_config/dates.py\": 1692290144.0104678, \"/Users/heiletjevanzyl/anaconda3/lib/python3.11/site-packages/pandas/_config/display.py\": 1692290144.010613, \"/Users/heiletjevanzyl/anaconda3/lib/python3.11/site-packages/pandas/_config/__init__.py\": 1692290144.010095, \"/Users/heiletjevanzyl/anaconda3/lib/python3.11/site-packages/pandas/_config/localization.py\": 1692290144.0107565, \"/Users/heiletjevanzyl/anaconda3/lib/python3.11/site-packages/pandas/_libs/tslibs/fields.cpython-311-darwin.so\": 1692290162.1506035, \"/Users/heiletjevanzyl/anaconda3/lib/python3.11/site-packages/pandas/_libs/tslibs/timedeltas.cpython-311-darwin.so\": 1692290161.1550455, \"/Users/heiletjevanzyl/anaconda3/lib/python3.11/site-packages/pandas/_libs/tslibs/tzconversion.cpython-311-darwin.so\": 1692290159.0324988, \"/Users/heiletjevanzyl/anaconda3/lib/python3.11/site-packages/pandas/_libs/tslibs/timestamps.cpython-311-darwin.so\": 1692290160.4261246, \"/Users/heiletjevanzyl/anaconda3/lib/python3.11/site-packages/dateutil/easter.py\": 1626374693.0, \"/Users/heiletjevanzyl/anaconda3/lib/python3.11/site-packages/pandas/_libs/properties.cpython-311-darwin.so\": 1692290159.239667, \"/Users/heiletjevanzyl/anaconda3/lib/python3.11/site-packages/pandas/_libs/tslibs/offsets.cpython-311-darwin.so\": 1692290157.9467962, \"/Users/heiletjevanzyl/anaconda3/lib/python3.11/site-packages/pandas/_libs/tslibs/strptime.cpython-311-darwin.so\": 1692290158.8503473, \"/Users/heiletjevanzyl/anaconda3/lib/python3.11/site-packages/pandas/_libs/tslibs/parsing.cpython-311-darwin.so\": 1692290158.474472, \"/Users/heiletjevanzyl/anaconda3/lib/python3.11/site-packages/pandas/_libs/tslibs/conversion.cpython-311-darwin.so\": 1692290158.2838476, \"/Users/heiletjevanzyl/anaconda3/lib/python3.11/site-packages/pandas/_libs/tslibs/period.cpython-311-darwin.so\": 1692290158.3816864, \"/Users/heiletjevanzyl/anaconda3/lib/python3.11/site-packages/pandas/_libs/tslibs/vectorized.cpython-311-darwin.so\": 1692290159.5384636, \"/Users/heiletjevanzyl/anaconda3/lib/python3.11/site-packages/pandas/_libs/tslibs/__init__.py\": 1692290144.060451, \"/Users/heiletjevanzyl/anaconda3/lib/python3.11/site-packages/pandas/_libs/ops_dispatch.cpython-311-darwin.so\": 1692290161.85531, \"/Users/heiletjevanzyl/anaconda3/lib/python3.11/site-packages/pandas/_libs/missing.cpython-311-darwin.so\": 1692290159.635907, \"/Users/heiletjevanzyl/anaconda3/lib/python3.11/site-packages/pandas/_libs/hashtable.cpython-311-darwin.so\": 1692290161.6645522, \"/Users/heiletjevanzyl/anaconda3/lib/python3.11/site-packages/pandas/_libs/algos.cpython-311-darwin.so\": 1692290160.638494, \"/Users/heiletjevanzyl/anaconda3/lib/python3.11/site-packages/pandas/_libs/interval.cpython-311-darwin.so\": 1692290159.1479375, \"/Users/heiletjevanzyl/anaconda3/lib/python3.11/site-packages/pandas/_libs/__init__.py\": 1692290144.0109203, \"/Users/heiletjevanzyl/anaconda3/lib/python3.11/site-packages/pandas/util/_decorators.py\": 1692290144.2912996, \"/Users/heiletjevanzyl/anaconda3/lib/python3.11/site-packages/pandas/core/__init__.py\": 1692290144.091517, \"/Users/heiletjevanzyl/anaconda3/lib/python3.11/site-packages/pandas/core/util/__init__.py\": 1692290144.1214564, \"/Users/heiletjevanzyl/anaconda3/lib/python3.11/site-packages/pandas/_libs/lib.cpython-311-darwin.so\": 1692290161.553107, \"/Users/heiletjevanzyl/anaconda3/lib/python3.11/site-packages/pandas/_libs/hashing.cpython-311-darwin.so\": 1692290158.6653204, \"/Users/heiletjevanzyl/anaconda3/lib/python3.11/site-packages/pandas/core/dtypes/__init__.py\": 1692290144.1068661, \"/Users/heiletjevanzyl/anaconda3/lib/python3.11/site-packages/pandas/errors/__init__.py\": 1692290144.1231227, \"/Users/heiletjevanzyl/anaconda3/lib/python3.11/site-packages/pandas/core/dtypes/generic.py\": 1692290144.1081822, \"/Users/heiletjevanzyl/anaconda3/lib/python3.11/site-packages/pandas/core/dtypes/base.py\": 1692290144.1072538, \"/Users/heiletjevanzyl/anaconda3/lib/python3.11/site-packages/pandas/core/dtypes/inference.py\": 1692290144.1083062, \"/Users/heiletjevanzyl/anaconda3/lib/python3.11/site-packages/pandas/core/dtypes/dtypes.py\": 1692290144.1080644, \"/Users/heiletjevanzyl/anaconda3/lib/python3.11/site-packages/pandas/core/dtypes/common.py\": 1692290144.1076977, \"/Users/heiletjevanzyl/anaconda3/lib/python3.11/site-packages/pandas/core/util/hashing.py\": 1692290144.1215985, \"/Users/heiletjevanzyl/anaconda3/lib/python3.11/site-packages/pandas/util/__init__.py\": 1692290144.2911315, \"/Users/heiletjevanzyl/anaconda3/lib/python3.11/site-packages/pandas/compat/numpy/__init__.py\": 1692290144.0912774, \"/Users/heiletjevanzyl/anaconda3/lib/python3.11/site-packages/pyarrow/_generated_version.py\": 1693273226.0, \"/Users/heiletjevanzyl/anaconda3/lib/python3.11/site-packages/cloudpickle/compat.py\": 1683040075.068295, \"/Users/heiletjevanzyl/anaconda3/lib/python3.11/site-packages/typing_extensions.py\": 1690297492.6183987, \"/Users/heiletjevanzyl/anaconda3/lib/python3.11/site-packages/cloudpickle/cloudpickle.py\": 1683040075.0678787, \"/Users/heiletjevanzyl/anaconda3/lib/python3.11/site-packages/cloudpickle/cloudpickle_fast.py\": 1683040075.0681393, \"/Users/heiletjevanzyl/anaconda3/lib/python3.11/site-packages/cloudpickle/__init__.py\": 1683040075.0675864, \"/Users/heiletjevanzyl/anaconda3/lib/python3.11/site-packages/pyarrow/util.py\": 1674047292.0, \"/Users/heiletjevanzyl/anaconda3/lib/python3.11/site-packages/pyarrow/lib.cpython-311-darwin.so\": 1693273363.5114646, \"/Users/heiletjevanzyl/anaconda3/lib/python3.11/site-packages/pyarrow/_hdfsio.cpython-311-darwin.so\": 1693273363.3917198, \"/Users/heiletjevanzyl/anaconda3/lib/python3.11/site-packages/pyarrow/filesystem.py\": 1674047292.0, \"/Users/heiletjevanzyl/anaconda3/lib/python3.11/site-packages/pyarrow/hdfs.py\": 1674047292.0, \"/Users/heiletjevanzyl/anaconda3/lib/python3.11/site-packages/pyarrow/ipc.py\": 1674047292.0, \"/Users/heiletjevanzyl/anaconda3/lib/python3.11/site-packages/pyarrow/serialization.py\": 1674047292.0, \"/Users/heiletjevanzyl/anaconda3/lib/python3.11/site-packages/pyarrow/types.py\": 1674047292.0, \"/Users/heiletjevanzyl/anaconda3/lib/python3.11/site-packages/pyarrow/__init__.py\": 1674047292.0, \"/Users/heiletjevanzyl/anaconda3/lib/python3.11/site-packages/pandas/compat/pyarrow.py\": 1692290144.0911386, \"/Users/heiletjevanzyl/anaconda3/lib/python3.11/site-packages/pandas/compat/__init__.py\": 1692290144.0905454, \"/Users/heiletjevanzyl/anaconda3/lib/python3.11/site-packages/pandas/_libs/tslib.cpython-311-darwin.so\": 1692290160.5210996, \"/Users/heiletjevanzyl/anaconda3/lib/python3.11/site-packages/pandas/core/config_init.py\": 1692290144.0929537, \"/Users/heiletjevanzyl/anaconda3/lib/python3.11/site-packages/pandas/core/dtypes/missing.py\": 1692290144.108462, \"/Users/heiletjevanzyl/anaconda3/lib/python3.11/site-packages/pandas/io/__init__.py\": 1692290144.1232646, \"/Users/heiletjevanzyl/anaconda3/lib/python3.11/site-packages/pandas/io/_util.py\": 1692290144.1233728, \"/Users/heiletjevanzyl/anaconda3/lib/python3.11/site-packages/pandas/core/dtypes/cast.py\": 1692290144.1075003, \"/Users/heiletjevanzyl/anaconda3/lib/python3.11/site-packages/pandas/core/dtypes/astype.py\": 1692290144.1071093, \"/Users/heiletjevanzyl/anaconda3/lib/python3.11/site-packages/pandas/core/dtypes/concat.py\": 1692290144.107848, \"/Users/heiletjevanzyl/anaconda3/lib/python3.11/site-packages/pandas/core/array_algos/__init__.py\": 1692290144.0989437, \"/Users/heiletjevanzyl/anaconda3/lib/python3.11/site-packages/pandas/core/common.py\": 1692290144.0927835, \"/Users/heiletjevanzyl/anaconda3/lib/python3.11/site-packages/pandas/core/construction.py\": 1692290144.093134, \"/Users/heiletjevanzyl/anaconda3/lib/python3.11/site-packages/pandas/core/array_algos/take.py\": 1692290144.0998175, \"/Users/heiletjevanzyl/anaconda3/lib/python3.11/site-packages/pandas/core/indexers/utils.py\": 1692290144.1107264, \"/Users/heiletjevanzyl/anaconda3/lib/python3.11/site-packages/pandas/core/indexers/__init__.py\": 1692290144.1104343, \"/Users/heiletjevanzyl/anaconda3/lib/python3.11/site-packages/pandas/core/algorithms.py\": 1692290144.0919094, \"/Users/heiletjevanzyl/anaconda3/lib/python3.11/site-packages/pandas/util/_validators.py\": 1692290144.292135, \"/Users/heiletjevanzyl/anaconda3/lib/python3.11/site-packages/pandas/core/roperator.py\": 1692290144.0966945, \"/Users/heiletjevanzyl/anaconda3/lib/python3.11/site-packages/pandas/_libs/ops.cpython-311-darwin.so\": 1692290159.4434493, \"/Users/heiletjevanzyl/anaconda3/lib/python3.11/site-packages/pandas/core/computation/__init__.py\": 1692290144.1052115, \"/Users/heiletjevanzyl/anaconda3/lib/python3.11/site-packages/numexpr/interpreter.cpython-311-darwin.so\": 1683222005.551971, \"/Users/heiletjevanzyl/anaconda3/lib/python3.11/site-packages/numexpr/expressions.py\": 1683222003.3836567, \"/Users/heiletjevanzyl/anaconda3/lib/python3.11/site-packages/numexpr/version.py\": 1683222003.3848715, \"/Users/heiletjevanzyl/anaconda3/lib/python3.11/site-packages/numexpr/utils.py\": 1683222003.384738, \"/Users/heiletjevanzyl/anaconda3/lib/python3.11/site-packages/numexpr/necompiler.py\": 1683222003.3845766, \"/Users/heiletjevanzyl/anaconda3/lib/python3.11/site-packages/numexpr/__init__.py\": 1683222003.383164, \"/Users/heiletjevanzyl/anaconda3/lib/python3.11/site-packages/pandas/core/computation/check.py\": 1692290144.1055484, \"/Users/heiletjevanzyl/anaconda3/lib/python3.11/site-packages/pandas/core/computation/expressions.py\": 1692290144.1062121, \"/Users/heiletjevanzyl/anaconda3/lib/python3.11/site-packages/pandas/core/ops/missing.py\": 1692290144.1180067, \"/Users/heiletjevanzyl/anaconda3/lib/python3.11/site-packages/pandas/core/ops/dispatch.py\": 1692290144.1174216, \"/Users/heiletjevanzyl/anaconda3/lib/python3.11/site-packages/pandas/core/ops/invalid.py\": 1692290144.1176696, \"/Users/heiletjevanzyl/anaconda3/lib/python3.11/site-packages/pandas/core/ops/array_ops.py\": 1692290144.1171973, \"/Users/heiletjevanzyl/anaconda3/lib/python3.11/site-packages/pandas/core/ops/common.py\": 1692290144.1173177, \"/Users/heiletjevanzyl/anaconda3/lib/python3.11/site-packages/pandas/core/ops/docstrings.py\": 1692290144.117563, \"/Users/heiletjevanzyl/anaconda3/lib/python3.11/site-packages/pandas/core/ops/mask_ops.py\": 1692290144.117781, \"/Users/heiletjevanzyl/anaconda3/lib/python3.11/site-packages/pandas/core/ops/methods.py\": 1692290144.117893, \"/Users/heiletjevanzyl/anaconda3/lib/python3.11/site-packages/pandas/core/ops/__init__.py\": 1692290144.117042, \"/Users/heiletjevanzyl/anaconda3/lib/python3.11/site-packages/pandas/core/arraylike.py\": 1692290144.092401, \"/Users/heiletjevanzyl/anaconda3/lib/python3.11/site-packages/pandas/compat/numpy/function.py\": 1692290144.0914135, \"/Users/heiletjevanzyl/anaconda3/lib/python3.11/site-packages/pandas/core/missing.py\": 1692290144.0960526, \"/Users/heiletjevanzyl/anaconda3/lib/python3.11/site-packages/pandas/core/array_algos/quantile.py\": 1692290144.099541, \"/Users/heiletjevanzyl/anaconda3/lib/python3.11/site-packages/pandas/core/sorting.py\": 1692290144.0977905, \"/Users/heiletjevanzyl/anaconda3/lib/python3.11/site-packages/pandas/core/arrays/base.py\": 1692290144.1006098, \"/Users/heiletjevanzyl/anaconda3/lib/python3.11/site-packages/pandas/core/strings/__init__.py\": 1692290144.1200037, \"/Users/heiletjevanzyl/anaconda3/lib/python3.11/site-packages/pandas/core/strings/base.py\": 1692290144.1204941, \"/Users/heiletjevanzyl/anaconda3/lib/python3.11/site-packages/pandas/tseries/__init__.py\": 1692290144.290476, \"/Users/heiletjevanzyl/anaconda3/lib/python3.11/site-packages/pandas/tseries/frequencies.py\": 1692290144.290725, \"/Users/heiletjevanzyl/anaconda3/lib/python3.11/site-packages/pyarrow/_compute.cpython-311-darwin.so\": 1693273362.895743, \"/Users/heiletjevanzyl/anaconda3/lib/python3.11/site-packages/pyarrow/_compute_docstrings.py\": 1674047292.0, \"/Users/heiletjevanzyl/anaconda3/lib/python3.11/site-packages/pyarrow/vendored/__init__.py\": 1674047292.0, \"/Users/heiletjevanzyl/anaconda3/lib/python3.11/site-packages/pyarrow/vendored/docscrape.py\": 1674047292.0, \"/Users/heiletjevanzyl/anaconda3/lib/python3.11/site-packages/pyarrow/compute.py\": 1674047292.0, \"/Users/heiletjevanzyl/anaconda3/lib/python3.11/site-packages/pandas/core/arrays/arrow/_arrow_utils.py\": 1692290144.1036925, \"/Users/heiletjevanzyl/anaconda3/lib/python3.11/site-packages/pandas/core/arrays/arrow/dtype.py\": 1692290144.1041353, \"/Users/heiletjevanzyl/anaconda3/lib/python3.11/site-packages/pandas/core/arrays/arrow/array.py\": 1692290144.1039798, \"/Users/heiletjevanzyl/anaconda3/lib/python3.11/site-packages/pandas/core/arrays/arrow/__init__.py\": 1692290144.1035745, \"/Users/heiletjevanzyl/anaconda3/lib/python3.11/site-packages/pandas/core/array_algos/masked_accumulations.py\": 1692290144.0991783, \"/Users/heiletjevanzyl/anaconda3/lib/python3.11/site-packages/bottleneck/benchmark/__init__.py\": 1677925158.0, \"/Users/heiletjevanzyl/anaconda3/lib/python3.11/site-packages/bottleneck/benchmark/autotimeit.py\": 1677925158.0, \"/Users/heiletjevanzyl/anaconda3/lib/python3.11/site-packages/bottleneck/benchmark/bench.py\": 1677925158.0, \"/Users/heiletjevanzyl/anaconda3/lib/python3.11/site-packages/bottleneck/benchmark/bench_detailed.py\": 1677925158.0, \"/Users/heiletjevanzyl/anaconda3/lib/python3.11/site-packages/bottleneck/tests/__init__.py\": 1677925158.0, \"/Users/heiletjevanzyl/anaconda3/lib/python3.11/site-packages/bottleneck/tests/util.py\": 1677925158.0, \"/Users/heiletjevanzyl/anaconda3/lib/python3.11/site-packages/bottleneck/slow/reduce.py\": 1677925158.0, \"/Users/heiletjevanzyl/anaconda3/lib/python3.11/site-packages/bottleneck/slow/nonreduce.py\": 1677925158.0, \"/Users/heiletjevanzyl/anaconda3/lib/python3.11/site-packages/bottleneck/slow/nonreduce_axis.py\": 1677925158.0, \"/Users/heiletjevanzyl/anaconda3/lib/python3.11/site-packages/bottleneck/slow/move.py\": 1677925158.0, \"/Users/heiletjevanzyl/anaconda3/lib/python3.11/site-packages/bottleneck/slow/__init__.py\": 1677925158.0, \"/Users/heiletjevanzyl/anaconda3/lib/python3.11/site-packages/bottleneck/_pytesttester.py\": 1677925158.0, \"/Users/heiletjevanzyl/anaconda3/lib/python3.11/site-packages/bottleneck/move.cpython-311-darwin.so\": 1677925162.0, \"/Users/heiletjevanzyl/anaconda3/lib/python3.11/site-packages/bottleneck/nonreduce.cpython-311-darwin.so\": 1677925162.0, \"/Users/heiletjevanzyl/anaconda3/lib/python3.11/site-packages/bottleneck/nonreduce_axis.cpython-311-darwin.so\": 1677925162.0, \"/Users/heiletjevanzyl/anaconda3/lib/python3.11/site-packages/bottleneck/reduce.cpython-311-darwin.so\": 1677925162.0, \"/Users/heiletjevanzyl/anaconda3/lib/python3.11/site-packages/bottleneck/_version.py\": 1677925158.0, \"/Users/heiletjevanzyl/anaconda3/lib/python3.11/site-packages/bottleneck/__init__.py\": 1677925158.0, \"/Users/heiletjevanzyl/anaconda3/lib/python3.11/site-packages/pandas/core/nanops.py\": 1692290144.0962784, \"/Users/heiletjevanzyl/anaconda3/lib/python3.11/site-packages/pandas/core/array_algos/masked_reductions.py\": 1692290144.0992956, \"/Users/heiletjevanzyl/anaconda3/lib/python3.11/site-packages/pandas/core/arrays/masked.py\": 1692290144.102466, \"/Users/heiletjevanzyl/anaconda3/lib/python3.11/site-packages/pandas/core/arrays/boolean.py\": 1692290144.1007497, \"/Users/heiletjevanzyl/anaconda3/lib/python3.11/site-packages/pandas/_libs/arrays.cpython-311-darwin.so\": 1692290160.9312422, \"/Users/heiletjevanzyl/anaconda3/lib/python3.11/site-packages/pandas/core/accessor.py\": 1692290144.0916631, \"/Users/heiletjevanzyl/anaconda3/lib/python3.11/site-packages/pandas/core/array_algos/transforms.py\": 1692290144.0999331, \"/Users/heiletjevanzyl/anaconda3/lib/python3.11/site-packages/pandas/core/arrays/_mixins.py\": 1692290144.1002214, \"/Users/heiletjevanzyl/anaconda3/lib/python3.11/site-packages/pandas/core/base.py\": 1692290144.0926173, \"/Users/heiletjevanzyl/anaconda3/lib/python3.11/site-packages/pandas/core/strings/object_array.py\": 1692290144.1206388, \"/Users/heiletjevanzyl/anaconda3/lib/python3.11/site-packages/pandas/io/formats/__init__.py\": 1692290144.1280086, \"/Users/heiletjevanzyl/anaconda3/lib/python3.11/site-packages/pandas/io/formats/console.py\": 1692290144.1282434, \"/Users/heiletjevanzyl/anaconda3/lib/python3.11/site-packages/pandas/core/arrays/categorical.py\": 1692290144.1010673, \"/Users/heiletjevanzyl/anaconda3/lib/python3.11/site-packages/pandas/core/array_algos/datetimelike_accumulations.py\": 1692290144.0990603, \"/Users/heiletjevanzyl/anaconda3/lib/python3.11/site-packages/pandas/core/arrays/numeric.py\": 1692290144.1026015, \"/Users/heiletjevanzyl/anaconda3/lib/python3.11/site-packages/pandas/core/arrays/integer.py\": 1692290144.101991, \"/Users/heiletjevanzyl/anaconda3/lib/python3.11/site-packages/pandas/core/arrays/datetimelike.py\": 1692290144.101385, \"/Users/heiletjevanzyl/anaconda3/lib/python3.11/site-packages/pandas/core/arrays/_ranges.py\": 1692290144.1003509, \"/Users/heiletjevanzyl/anaconda3/lib/python3.11/site-packages/pandas/tseries/offsets.py\": 1692290144.2909887, \"/Users/heiletjevanzyl/anaconda3/lib/python3.11/site-packages/pandas/core/arrays/datetimes.py\": 1692290144.101716, \"/Users/heiletjevanzyl/anaconda3/lib/python3.11/site-packages/pandas/core/arrays/floating.py\": 1692290144.1018603, \"/Users/heiletjevanzyl/anaconda3/lib/python3.11/site-packages/pandas/core/arrays/timedeltas.py\": 1692290144.103435, \"/Users/heiletjevanzyl/anaconda3/lib/python3.11/site-packages/pandas/core/arrays/interval.py\": 1692290144.1022453, \"/Users/heiletjevanzyl/anaconda3/lib/python3.11/site-packages/pandas/core/arrays/numpy_.py\": 1692290144.1027408, \"/Users/heiletjevanzyl/anaconda3/lib/python3.11/site-packages/pandas/core/arrays/period.py\": 1692290144.1029384, \"/Users/heiletjevanzyl/anaconda3/lib/python3.11/site-packages/pandas/_libs/sparse.cpython-311-darwin.so\": 1692290159.829522, \"/Users/heiletjevanzyl/anaconda3/lib/python3.11/site-packages/pandas/core/arrays/sparse/dtype.py\": 1692290144.1049802, \"/Users/heiletjevanzyl/anaconda3/lib/python3.11/site-packages/pandas/io/formats/printing.py\": 1692290144.1296566, \"/Users/heiletjevanzyl/anaconda3/lib/python3.11/site-packages/pandas/core/arrays/sparse/array.py\": 1692290144.1048336, \"/Users/heiletjevanzyl/anaconda3/lib/python3.11/site-packages/pandas/core/arrays/sparse/accessor.py\": 1692290144.104569, \"/Users/heiletjevanzyl/anaconda3/lib/python3.11/site-packages/pandas/core/arrays/sparse/__init__.py\": 1692290144.104425, \"/Users/heiletjevanzyl/anaconda3/lib/python3.11/site-packages/pandas/core/arrays/string_.py\": 1692290144.1030998, \"/Users/heiletjevanzyl/anaconda3/lib/python3.11/site-packages/pandas/core/arrays/string_arrow.py\": 1692290144.1032448, \"/Users/heiletjevanzyl/anaconda3/lib/python3.11/site-packages/pandas/core/arrays/__init__.py\": 1692290144.1000757, \"/Users/heiletjevanzyl/anaconda3/lib/python3.11/site-packages/pandas/core/flags.py\": 1692290144.0932574, \"/Users/heiletjevanzyl/anaconda3/lib/python3.11/site-packages/pandas/_libs/reduction.cpython-311-darwin.so\": 1692290159.728736, \"/Users/heiletjevanzyl/anaconda3/lib/python3.11/site-packages/pandas/core/apply.py\": 1692290144.0922446, \"/Users/heiletjevanzyl/anaconda3/lib/python3.11/site-packages/pandas/_libs/indexing.cpython-311-darwin.so\": 1692290162.2450287, \"/Users/heiletjevanzyl/anaconda3/lib/python3.11/site-packages/pandas/core/indexes/__init__.py\": 1692290144.1108346, \"/Users/heiletjevanzyl/anaconda3/lib/python3.11/site-packages/pandas/_libs/index.cpython-311-darwin.so\": 1692290159.3467066, \"/Users/heiletjevanzyl/anaconda3/lib/python3.11/site-packages/pandas/_libs/internals.cpython-311-darwin.so\": 1692290160.0258818, \"/Users/heiletjevanzyl/anaconda3/lib/python3.11/site-packages/pandas/_libs/join.cpython-311-darwin.so\": 1692290161.052172, \"/Users/heiletjevanzyl/anaconda3/lib/python3.11/site-packages/pandas/core/array_algos/putmask.py\": 1692290144.0994189, \"/Users/heiletjevanzyl/anaconda3/lib/python3.11/site-packages/pandas/core/indexes/frozen.py\": 1692290144.1125762, \"/Users/heiletjevanzyl/anaconda3/lib/python3.11/site-packages/pandas/core/strings/accessor.py\": 1692290144.1203585, \"/Users/heiletjevanzyl/anaconda3/lib/python3.11/site-packages/pandas/core/indexes/base.py\": 1692290144.1117914, \"/Users/heiletjevanzyl/anaconda3/lib/python3.11/site-packages/pandas/core/indexes/extension.py\": 1692290144.112457, \"/Users/heiletjevanzyl/anaconda3/lib/python3.11/site-packages/pandas/core/indexes/category.py\": 1692290144.1119626, \"/Users/heiletjevanzyl/anaconda3/lib/python3.11/site-packages/pandas/core/indexes/range.py\": 1692290144.1135633, \"/Users/heiletjevanzyl/anaconda3/lib/python3.11/site-packages/pandas/core/tools/__init__.py\": 1692290144.120741, \"/Users/heiletjevanzyl/anaconda3/lib/python3.11/site-packages/pandas/core/tools/timedeltas.py\": 1692290144.1212387, \"/Users/heiletjevanzyl/anaconda3/lib/python3.11/site-packages/pandas/core/indexes/datetimelike.py\": 1692290144.1121352, \"/Users/heiletjevanzyl/anaconda3/lib/python3.11/site-packages/pandas/core/tools/times.py\": 1692290144.1213565, \"/Users/heiletjevanzyl/anaconda3/lib/python3.11/site-packages/pandas/core/indexes/datetimes.py\": 1692290144.1123345, \"/Users/heiletjevanzyl/anaconda3/lib/python3.11/site-packages/pandas/core/indexes/multi.py\": 1692290144.1131892, \"/Users/heiletjevanzyl/anaconda3/lib/python3.11/site-packages/pandas/core/indexes/timedeltas.py\": 1692290144.1137104, \"/Users/heiletjevanzyl/anaconda3/lib/python3.11/site-packages/pandas/core/indexes/interval.py\": 1692290144.1127732, \"/Users/heiletjevanzyl/anaconda3/lib/python3.11/site-packages/pandas/core/indexes/period.py\": 1692290144.1133642, \"/Users/heiletjevanzyl/anaconda3/lib/python3.11/site-packages/pandas/core/indexes/api.py\": 1692290144.1111302, \"/Users/heiletjevanzyl/anaconda3/lib/python3.11/site-packages/pandas/core/indexing.py\": 1692290144.0958467, \"/Users/heiletjevanzyl/anaconda3/lib/python3.11/site-packages/pandas/core/sample.py\": 1692290144.0968242, \"/Users/heiletjevanzyl/anaconda3/lib/python3.11/site-packages/pandas/core/array_algos/replace.py\": 1692290144.0996652, \"/Users/heiletjevanzyl/anaconda3/lib/python3.11/site-packages/pandas/_libs/writers.cpython-311-darwin.so\": 1692290160.1207192, \"/Users/heiletjevanzyl/anaconda3/lib/python3.11/site-packages/pandas/core/internals/blocks.py\": 1692290144.1155639, \"/Users/heiletjevanzyl/anaconda3/lib/python3.11/site-packages/pandas/core/internals/api.py\": 1692290144.1149077, \"/Users/heiletjevanzyl/anaconda3/lib/python3.11/site-packages/pandas/core/internals/base.py\": 1692290144.1152508, \"/Users/heiletjevanzyl/anaconda3/lib/python3.11/site-packages/pandas/core/internals/array_manager.py\": 1692290144.1151261, \"/Users/heiletjevanzyl/anaconda3/lib/python3.11/site-packages/pandas/core/internals/ops.py\": 1692290144.1163716, \"/Users/heiletjevanzyl/anaconda3/lib/python3.11/site-packages/pandas/core/internals/managers.py\": 1692290144.1162481, \"/Users/heiletjevanzyl/anaconda3/lib/python3.11/site-packages/pandas/core/internals/concat.py\": 1692290144.1157508, \"/Users/heiletjevanzyl/anaconda3/lib/python3.11/site-packages/pandas/core/internals/__init__.py\": 1692290144.1147947, \"/Users/heiletjevanzyl/anaconda3/lib/python3.11/site-packages/pandas/core/internals/construction.py\": 1692290144.1159437, \"/Users/heiletjevanzyl/anaconda3/lib/python3.11/site-packages/pandas/core/methods/__init__.py\": 1692290144.116474, \"/Users/heiletjevanzyl/anaconda3/lib/python3.11/site-packages/pandas/core/reshape/__init__.py\": 1692290144.1181076, \"/Users/heiletjevanzyl/anaconda3/lib/python3.11/site-packages/pandas/core/reshape/concat.py\": 1692290144.1183853, \"/Users/heiletjevanzyl/anaconda3/lib/python3.11/lib-dynload/mmap.cpython-311-darwin.so\": 1694439434.8599234, \"/Users/heiletjevanzyl/anaconda3/lib/python3.11/tarfile.py\": 1694439385.6109548, \"/Users/heiletjevanzyl/anaconda3/lib/python3.11/site-packages/pandas/core/shared_docs.py\": 1692290144.0976045, \"/Users/heiletjevanzyl/anaconda3/lib/python3.11/site-packages/pandas/io/common.py\": 1692290144.1237986, \"/Users/heiletjevanzyl/anaconda3/lib/python3.11/site-packages/pandas/io/formats/format.py\": 1692290144.1289885, \"/Users/heiletjevanzyl/anaconda3/lib/python3.11/site-packages/pandas/core/methods/describe.py\": 1692290144.116617, \"/Users/heiletjevanzyl/anaconda3/lib/python3.11/site-packages/pandas/_libs/window/__init__.py\": 1692290144.0857847, \"/Users/heiletjevanzyl/anaconda3/lib/python3.11/site-packages/pandas/_libs/window/aggregations.cpython-311-darwin.so\": 1692290160.834995, \"/Users/heiletjevanzyl/anaconda3/lib/python3.11/site-packages/pandas/_libs/window/indexers.cpython-311-darwin.so\": 1692290158.1656158, \"/Users/heiletjevanzyl/anaconda3/lib/python3.11/site-packages/pandas/core/indexers/objects.py\": 1692290144.1105728, \"/Users/heiletjevanzyl/anaconda3/lib/python3.11/site-packages/pandas/core/util/numba_.py\": 1692290144.121712, \"/Users/heiletjevanzyl/anaconda3/lib/python3.11/site-packages/pandas/core/window/common.py\": 1692290144.121973, \"/Users/heiletjevanzyl/anaconda3/lib/python3.11/site-packages/pandas/core/window/doc.py\": 1692290144.1220877, \"/Users/heiletjevanzyl/anaconda3/lib/python3.11/site-packages/pandas/core/window/numba_.py\": 1692290144.1225262, \"/Users/heiletjevanzyl/anaconda3/lib/python3.11/site-packages/pandas/core/window/online.py\": 1692290144.1226373, \"/Users/heiletjevanzyl/anaconda3/lib/python3.11/site-packages/pandas/core/_numba/__init__.py\": 1692290144.0979006, \"/Users/heiletjevanzyl/anaconda3/lib/python3.11/site-packages/pandas/core/_numba/executor.py\": 1692290144.0980313, \"/Users/heiletjevanzyl/anaconda3/lib/python3.11/site-packages/pandas/core/window/rolling.py\": 1692290144.122925, \"/Users/heiletjevanzyl/anaconda3/lib/python3.11/site-packages/pandas/core/window/ewm.py\": 1692290144.1222587, \"/Users/heiletjevanzyl/anaconda3/lib/python3.11/site-packages/pandas/core/window/expanding.py\": 1692290144.1224024, \"/Users/heiletjevanzyl/anaconda3/lib/python3.11/site-packages/pandas/core/window/__init__.py\": 1692290144.1218526, \"/Users/heiletjevanzyl/anaconda3/lib/python3.11/site-packages/pandas/core/generic.py\": 1692290144.0954854, \"/Users/heiletjevanzyl/anaconda3/lib/python3.11/site-packages/pandas/core/methods/selectn.py\": 1692290144.1167412, \"/Users/heiletjevanzyl/anaconda3/lib/python3.11/site-packages/pandas/core/reshape/util.py\": 1692290144.1196623, \"/Users/heiletjevanzyl/anaconda3/lib/python3.11/site-packages/pandas/core/tools/numeric.py\": 1692290144.1211095, \"/Users/heiletjevanzyl/anaconda3/lib/python3.11/site-packages/pandas/core/reshape/melt.py\": 1692290144.118691, \"/Users/heiletjevanzyl/anaconda3/lib/python3.11/site-packages/pandas/_libs/reshape.cpython-311-darwin.so\": 1692290161.9552438, \"/Users/heiletjevanzyl/anaconda3/lib/python3.11/site-packages/pandas/core/indexes/accessors.py\": 1692290144.1109915, \"/Users/heiletjevanzyl/anaconda3/lib/python3.11/site-packages/pandas/arrays/__init__.py\": 1692290144.090399, \"/Users/heiletjevanzyl/anaconda3/lib/python3.11/site-packages/pandas/core/tools/datetimes.py\": 1692290144.1209707, \"/Users/heiletjevanzyl/anaconda3/lib/python3.11/site-packages/pandas/io/formats/info.py\": 1692290144.1293294, \"/Users/heiletjevanzyl/anaconda3/lib/python3.11/site-packages/pandas/plotting/_core.py\": 1692290144.136108, \"/Users/heiletjevanzyl/anaconda3/lib/python3.11/site-packages/pandas/plotting/_misc.py\": 1692290144.1362655, \"/Users/heiletjevanzyl/anaconda3/lib/python3.11/site-packages/pandas/plotting/__init__.py\": 1692290144.1358442, \"/Users/heiletjevanzyl/anaconda3/lib/python3.11/site-packages/pandas/core/series.py\": 1692290144.0973823, \"/Users/heiletjevanzyl/anaconda3/lib/python3.11/site-packages/pandas/core/frame.py\": 1692290144.09436, \"/Users/heiletjevanzyl/anaconda3/lib/python3.11/site-packages/pandas/core/groupby/base.py\": 1692290144.1087103, \"/Users/heiletjevanzyl/anaconda3/lib/python3.11/site-packages/pandas/_libs/groupby.cpython-311-darwin.so\": 1692290161.3632183, \"/Users/heiletjevanzyl/anaconda3/lib/python3.11/site-packages/pandas/core/groupby/numba_.py\": 1692290144.110084, \"/Users/heiletjevanzyl/anaconda3/lib/python3.11/site-packages/pandas/core/groupby/categorical.py\": 1692290144.10882, \"/Users/heiletjevanzyl/anaconda3/lib/python3.11/site-packages/pandas/core/groupby/grouper.py\": 1692290144.109813, \"/Users/heiletjevanzyl/anaconda3/lib/python3.11/site-packages/pandas/core/groupby/ops.py\": 1692290144.1102862, \"/Users/heiletjevanzyl/anaconda3/lib/python3.11/site-packages/pandas/core/groupby/indexing.py\": 1692290144.1099567, \"/Users/heiletjevanzyl/anaconda3/lib/python3.11/site-packages/pandas/core/groupby/groupby.py\": 1692290144.109606, \"/Users/heiletjevanzyl/anaconda3/lib/python3.11/site-packages/pandas/core/groupby/generic.py\": 1692290144.1091356, \"/Users/heiletjevanzyl/anaconda3/lib/python3.11/site-packages/pandas/core/groupby/__init__.py\": 1692290144.1086004, \"/Users/heiletjevanzyl/anaconda3/lib/python3.11/site-packages/pandas/core/api.py\": 1692290144.092023, \"/Users/heiletjevanzyl/anaconda3/lib/python3.11/site-packages/pandas/tseries/api.py\": 1692290144.2905753, \"/Users/heiletjevanzyl/anaconda3/lib/python3.11/site-packages/pandas/core/computation/common.py\": 1692290144.105654, \"/Users/heiletjevanzyl/anaconda3/lib/python3.11/site-packages/pandas/core/computation/align.py\": 1692290144.1053455, \"/Users/heiletjevanzyl/anaconda3/lib/python3.11/site-packages/pandas/core/computation/scope.py\": 1692290144.1067665, \"/Users/heiletjevanzyl/anaconda3/lib/python3.11/site-packages/pandas/core/computation/ops.py\": 1692290144.1063602, \"/Users/heiletjevanzyl/anaconda3/lib/python3.11/site-packages/pandas/core/computation/engines.py\": 1692290144.1057703, \"/Users/heiletjevanzyl/anaconda3/lib/python3.11/site-packages/pandas/core/computation/parsing.py\": 1692290144.1064882, \"/Users/heiletjevanzyl/anaconda3/lib/python3.11/site-packages/pandas/core/computation/expr.py\": 1692290144.106081, \"/Users/heiletjevanzyl/anaconda3/lib/python3.11/site-packages/pandas/core/computation/eval.py\": 1692290144.105914, \"/Users/heiletjevanzyl/anaconda3/lib/python3.11/site-packages/pandas/core/computation/api.py\": 1692290144.1054447, \"/Users/heiletjevanzyl/anaconda3/lib/python3.11/site-packages/pandas/core/reshape/encoding.py\": 1692290144.1185327, \"/Users/heiletjevanzyl/anaconda3/lib/python3.11/site-packages/pandas/core/reshape/merge.py\": 1692290144.1190264, \"/Users/heiletjevanzyl/anaconda3/lib/python3.11/site-packages/pandas/core/reshape/pivot.py\": 1692290144.1192117, \"/Users/heiletjevanzyl/anaconda3/lib/python3.11/site-packages/pandas/core/reshape/tile.py\": 1692290144.119549, \"/Users/heiletjevanzyl/anaconda3/lib/python3.11/site-packages/pandas/core/reshape/api.py\": 1692290144.118221, \"/Users/heiletjevanzyl/anaconda3/lib/python3.11/site-packages/pandas/api/extensions/__init__.py\": 1692290144.0898457, \"/Users/heiletjevanzyl/anaconda3/lib/python3.11/site-packages/pandas/api/indexers/__init__.py\": 1692290144.0899818, \"/Users/heiletjevanzyl/anaconda3/lib/python3.11/site-packages/pandas/core/interchange/__init__.py\": 1692290144.1138175, \"/Users/heiletjevanzyl/anaconda3/lib/python3.11/site-packages/pandas/core/interchange/dataframe_protocol.py\": 1692290144.1143625, \"/Users/heiletjevanzyl/anaconda3/lib/python3.11/site-packages/pandas/core/dtypes/api.py\": 1692290144.1069813, \"/Users/heiletjevanzyl/anaconda3/lib/python3.11/site-packages/pandas/api/types/__init__.py\": 1692290144.0902586, \"/Users/heiletjevanzyl/anaconda3/lib/python3.11/site-packages/pandas/core/interchange/utils.py\": 1692290144.1146395, \"/Users/heiletjevanzyl/anaconda3/lib/python3.11/site-packages/pandas/core/interchange/from_dataframe.py\": 1692290144.1145191, \"/Users/heiletjevanzyl/anaconda3/lib/python3.11/site-packages/pandas/api/interchange/__init__.py\": 1692290144.0901206, \"/Users/heiletjevanzyl/anaconda3/lib/python3.11/site-packages/pandas/api/__init__.py\": 1692290144.0897074, \"/Users/heiletjevanzyl/anaconda3/lib/python3.11/site-packages/pandas/_testing/_random.py\": 1692290144.0889964, \"/Users/heiletjevanzyl/anaconda3/lib/python3.11/site-packages/pandas/_testing/contexts.py\": 1692290144.0895681, \"/Users/heiletjevanzyl/anaconda3/lib/python3.11/site-packages/pandas/_testing/_io.py\": 1692290144.0888886, \"/Users/heiletjevanzyl/anaconda3/lib/python3.11/site-packages/pandas/_testing/_warnings.py\": 1692290144.0891235, \"/Users/heiletjevanzyl/anaconda3/lib/python3.11/lib-dynload/cmath.cpython-311-darwin.so\": 1694439430.700734, \"/Users/heiletjevanzyl/anaconda3/lib/python3.11/site-packages/pandas/_libs/testing.cpython-311-darwin.so\": 1692290161.7602022, \"/Users/heiletjevanzyl/anaconda3/lib/python3.11/site-packages/pandas/_testing/asserters.py\": 1692290144.0893304, \"/Users/heiletjevanzyl/anaconda3/lib/python3.11/site-packages/pandas/_testing/compat.py\": 1692290144.0894444, \"/Users/heiletjevanzyl/anaconda3/lib/python3.11/site-packages/pandas/_testing/__init__.py\": 1692290144.0886307, \"/Users/heiletjevanzyl/anaconda3/lib/python3.11/site-packages/pandas/testing.py\": 1692290144.0099168, \"/Users/heiletjevanzyl/anaconda3/lib/python3.11/site-packages/pandas/util/_print_versions.py\": 1692290144.2916677, \"/Users/heiletjevanzyl/anaconda3/lib/python3.11/site-packages/pandas/io/clipboards.py\": 1692290144.1235983, \"/Users/heiletjevanzyl/anaconda3/lib/python3.11/site-packages/pandas/_libs/parsers.cpython-311-darwin.so\": 1692290159.9310987, \"/Users/heiletjevanzyl/anaconda3/lib/python3.11/site-packages/pandas/io/excel/_util.py\": 1692290144.1276112, \"/Users/heiletjevanzyl/anaconda3/lib/python3.11/site-packages/pandas/io/parsers/base_parser.py\": 1692290144.1326418, \"/Users/heiletjevanzyl/anaconda3/lib/python3.11/site-packages/pandas/io/parsers/arrow_parser_wrapper.py\": 1692290144.13242, \"/Users/heiletjevanzyl/anaconda3/lib/python3.11/site-packages/pandas/io/parsers/c_parser_wrapper.py\": 1692290144.1327922, \"/Users/heiletjevanzyl/anaconda3/lib/python3.11/site-packages/pandas/io/parsers/python_parser.py\": 1692290144.1330109, \"/Users/heiletjevanzyl/anaconda3/lib/python3.11/site-packages/pandas/io/parsers/readers.py\": 1692290144.1332917, \"/Users/heiletjevanzyl/anaconda3/lib/python3.11/site-packages/pandas/io/parsers/__init__.py\": 1692290144.1322932, \"/Users/heiletjevanzyl/anaconda3/lib/python3.11/site-packages/pandas/io/excel/_odfreader.py\": 1692290144.127048, \"/Users/heiletjevanzyl/anaconda3/lib/python3.11/site-packages/pandas/io/excel/_openpyxl.py\": 1692290144.1273367, \"/Users/heiletjevanzyl/anaconda3/lib/python3.11/site-packages/pandas/io/excel/_pyxlsb.py\": 1692290144.127468, \"/Users/heiletjevanzyl/anaconda3/lib/python3.11/site-packages/pandas/io/excel/_xlrd.py\": 1692290144.1277337, \"/Users/heiletjevanzyl/anaconda3/lib/python3.11/site-packages/pandas/io/excel/_base.py\": 1692290144.1269124, \"/Users/heiletjevanzyl/anaconda3/lib/python3.11/site-packages/pandas/_libs/json.cpython-311-darwin.so\": 1692290158.5679808, \"/Users/heiletjevanzyl/anaconda3/lib/python3.11/site-packages/pandas/io/excel/_odswriter.py\": 1692290144.127181, \"/Users/heiletjevanzyl/anaconda3/lib/python3.11/site-packages/pandas/io/excel/_xlsxwriter.py\": 1692290144.1278608, \"/Users/heiletjevanzyl/anaconda3/lib/python3.11/site-packages/pandas/io/excel/__init__.py\": 1692290144.1266537, \"/Users/heiletjevanzyl/anaconda3/lib/python3.11/site-packages/pandas/io/feather_format.py\": 1692290144.1239157, \"/Users/heiletjevanzyl/anaconda3/lib/python3.11/site-packages/pandas/io/gbq.py\": 1692290144.1240408, \"/Users/heiletjevanzyl/anaconda3/lib/python3.11/site-packages/pandas/io/html.py\": 1692290144.1242466, \"/Users/heiletjevanzyl/anaconda3/lib/python3.11/site-packages/pandas/io/json/_normalize.py\": 1692290144.132017, \"/Users/heiletjevanzyl/anaconda3/lib/python3.11/site-packages/pandas/io/json/_table_schema.py\": 1692290144.1321511, \"/Users/heiletjevanzyl/anaconda3/lib/python3.11/site-packages/pandas/io/json/_json.py\": 1692290144.1318676, \"/Users/heiletjevanzyl/anaconda3/lib/python3.11/site-packages/pandas/io/json/__init__.py\": 1692290144.1316614, \"/Users/heiletjevanzyl/anaconda3/lib/python3.11/site-packages/pandas/io/orc.py\": 1692290144.1243808, \"/Users/heiletjevanzyl/anaconda3/lib/python3.11/site-packages/pandas/io/parquet.py\": 1692290144.124544, \"/Users/heiletjevanzyl/anaconda3/lib/python3.11/site-packages/pandas/compat/pickle_compat.py\": 1692290144.0910287, \"/Users/heiletjevanzyl/anaconda3/lib/python3.11/site-packages/pandas/io/pickle.py\": 1692290144.1246712, \"/Users/heiletjevanzyl/anaconda3/lib/python3.11/site-packages/pandas/core/computation/pytables.py\": 1692290144.1066363, \"/Users/heiletjevanzyl/anaconda3/lib/python3.11/site-packages/pandas/io/pytables.py\": 1692290144.125208, \"/Users/heiletjevanzyl/anaconda3/lib/python3.11/site-packages/pandas/io/sas/sasreader.py\": 1692290144.1356888, \"/Users/heiletjevanzyl/anaconda3/lib/python3.11/site-packages/pandas/io/sas/__init__.py\": 1692290144.1334343, \"/Users/heiletjevanzyl/anaconda3/lib/python3.11/site-packages/pandas/io/spss.py\": 1692290144.1253395, \"/Users/heiletjevanzyl/anaconda3/lib/python3.11/site-packages/pandas/io/sql.py\": 1692290144.1256392, \"/Users/heiletjevanzyl/anaconda3/lib/python3.11/site-packages/pandas/io/stata.py\": 1692290144.1261024, \"/Users/heiletjevanzyl/anaconda3/lib/python3.11/site-packages/pandas/io/xml.py\": 1692290144.1263137, \"/Users/heiletjevanzyl/anaconda3/lib/python3.11/site-packages/pandas/io/api.py\": 1692290144.123479, \"/Users/heiletjevanzyl/anaconda3/lib/python3.11/site-packages/pandas/util/_tester.py\": 1692290144.291995, \"/Users/heiletjevanzyl/anaconda3/lib/python3.11/site-packages/pandas/_version.py\": 1692290144.0094843, \"/Users/heiletjevanzyl/anaconda3/lib/python3.11/site-packages/pandas/__init__.py\": 1692290144.0090911}\n"
     ]
    }
   ],
   "source": [
    "\n",
    "# imports\n",
    "import os\n",
    "import sys\n",
    "import types\n",
    "import json\n",
    "\n",
    "# figure size/format\n",
    "fig_width = 7\n",
    "fig_height = 5\n",
    "fig_format = 'retina'\n",
    "fig_dpi = 96\n",
    "\n",
    "# matplotlib defaults / format\n",
    "try:\n",
    "  import matplotlib.pyplot as plt\n",
    "  plt.rcParams['figure.figsize'] = (fig_width, fig_height)\n",
    "  plt.rcParams['figure.dpi'] = fig_dpi\n",
    "  plt.rcParams['savefig.dpi'] = fig_dpi\n",
    "  from IPython.display import set_matplotlib_formats\n",
    "  set_matplotlib_formats(fig_format)\n",
    "except Exception:\n",
    "  pass\n",
    "\n",
    "# plotly use connected mode\n",
    "try:\n",
    "  import plotly.io as pio\n",
    "  pio.renderers.default = \"notebook_connected\"\n",
    "except Exception:\n",
    "  pass\n",
    "\n",
    "# enable pandas latex repr when targeting pdfs\n",
    "try:\n",
    "  import pandas as pd\n",
    "  if fig_format == 'pdf':\n",
    "    pd.set_option('display.latex.repr', True)\n",
    "except Exception:\n",
    "  pass\n",
    "\n",
    "\n",
    "\n",
    "# output kernel dependencies\n",
    "kernel_deps = dict()\n",
    "for module in list(sys.modules.values()):\n",
    "  # Some modules play games with sys.modules (e.g. email/__init__.py\n",
    "  # in the standard library), and occasionally this can cause strange\n",
    "  # failures in getattr.  Just ignore anything that's not an ordinary\n",
    "  # module.\n",
    "  if not isinstance(module, types.ModuleType):\n",
    "    continue\n",
    "  path = getattr(module, \"__file__\", None)\n",
    "  if not path:\n",
    "    continue\n",
    "  if path.endswith(\".pyc\") or path.endswith(\".pyo\"):\n",
    "    path = path[:-1]\n",
    "  if not os.path.exists(path):\n",
    "    continue\n",
    "  kernel_deps[path] = os.stat(path).st_mtime\n",
    "print(json.dumps(kernel_deps))\n",
    "\n",
    "# set run_path if requested\n",
    "if r'/Users/heiletjevanzyl/Desktop/DSFI/STA5073Z Assignment 2/ds4i-assignment2-code':\n",
    "  os.chdir(r'/Users/heiletjevanzyl/Desktop/DSFI/STA5073Z Assignment 2/ds4i-assignment2-code')\n",
    "\n",
    "# reset state\n",
    "%reset\n",
    "\n",
    "def ojs_define(**kwargs):\n",
    "  import json\n",
    "  try:\n",
    "    # IPython 7.14 preferred import\n",
    "    from IPython.display import display, HTML\n",
    "  except:\n",
    "    from IPython.core.display import display, HTML\n",
    "\n",
    "  # do some minor magic for convenience when handling pandas\n",
    "  # dataframes\n",
    "  def convert(v):\n",
    "    try:\n",
    "      import pandas as pd\n",
    "    except ModuleNotFoundError: # don't do the magic when pandas is not available\n",
    "      return v\n",
    "    if type(v) == pd.Series:\n",
    "      v = pd.DataFrame(v)\n",
    "    if type(v) == pd.DataFrame:\n",
    "      j = json.loads(v.T.to_json(orient='split'))\n",
    "      return dict((k,v) for (k,v) in zip(j[\"index\"], j[\"data\"]))\n",
    "    else:\n",
    "      return v\n",
    "  \n",
    "  v = dict(contents=list(dict(name=key, value=convert(value)) for (key, value) in kwargs.items()))\n",
    "  display(HTML('<script type=\"ojs-define\">' + json.dumps(v) + '</script>'), metadata=dict(ojs_define = True))\n",
    "globals()[\"ojs_define\"] = ojs_define\n"
   ]
  },
  {
   "cell_type": "code",
   "execution_count": 2,
   "id": "6dac73f5",
   "metadata": {},
   "outputs": [],
   "source": [
    "# Loading in the necessary libraries\n",
    "import zipfile\n",
    "import os\n",
    "import pandas as pd\n",
    "import re\n",
    "import matplotlib.pyplot as plt\n",
    "from wordcloud import WordCloud, STOPWORDS\n",
    "from itertools import cycle\n",
    "import seaborn as sns\n",
    "import numpy as np\n",
    "from collections import Counter\n",
    "import nltk\n",
    "from nltk.tokenize import word_tokenize\n",
    "from nltk.corpus import wordnet, stopwords, words\n",
    "from nltk.stem import WordNetLemmatizer\n",
    "from ast import literal_eval\n",
    "from collections import defaultdict\n",
    "\n",
    "# Global params\n",
    "plt.rcParams['xtick.labelsize'] = 14\n",
    "plt.rcParams['ytick.labelsize'] = 14"
   ]
  },
  {
   "cell_type": "code",
   "execution_count": 3,
   "id": "e8b0110b",
   "metadata": {},
   "outputs": [],
   "source": [
    "# Unzip the file and get the list of filenames\n",
    "with zipfile.ZipFile(\"data/speeches.zip\", 'r') as zip_ref:\n",
    "    zip_ref.extractall(\"data\")\n",
    "\n",
    "filenames = os.listdir(\"data\")\n",
    "filenames = [filename for filename in filenames if filename.endswith('.txt')]\n",
    "\n",
    "# Read the content of each speech file and extract the date from the first line\n",
    "speeches = []\n",
    "dates = []\n",
    "for filename in filenames:\n",
    "    with open(os.path.join(\"data\", filename), 'r', encoding='utf-8') as file:\n",
    "        # Extract date from the first line\n",
    "        date = file.readline().strip()\n",
    "        dates.append(date)\n",
    "        \n",
    "        # Read the rest of the file\n",
    "        speeches.append(file.read())\n",
    "\n",
    "# Create DataFrame\n",
    "sona = pd.DataFrame({'filename': filenames, 'speech': speeches, 'date': dates})\n",
    "\n",
    "# Extract year and president for each speech\n",
    "sona['year'] = sona['filename'].str[:4]\n",
    "sona['president'] = sona['filename'].str.split('_').str[-1].str.split('.').str[0]\n",
    "\n",
    "# Clean the sona dataset by removing unnecessary text\n",
    "replace_reg = r'(http.*?(\\s|.$))|(www.*?(\\s|.$))|&amp;|&lt;|&gt;|\\n'\n",
    "sona['speech'] = sona['speech'].str.replace(replace_reg, ' ')\n",
    "\n",
    "# Split speeches into sentences\n",
    "sona_sentences = sona.copy()\n",
    "\n",
    "import itertools\n",
    "\n",
    "# Replace new lines with space and split into sentences based on regular expression\n",
    "sona_sentences['speech'] = sona_sentences['speech'].str.replace('\\n', ' ').str.split(r'(?<!\\w\\.\\w.)(?<![A-Z][a-z]\\.)(?<=\\.|\\?)\\s')\n",
    "\n",
    "# Flatten the list of sentence fragments to avoid nested lists\n",
    "sona_sentences['speech'] = sona_sentences['speech'].apply(lambda sentences: list(itertools.chain.from_iterable(sentence.split('.') for sentence in sentences)))\n",
    "\n",
    "# Remove empty strings from the list of sentences\n",
    "sona_sentences['speech'] = sona_sentences['speech'].apply(lambda sentences: [sentence.strip() for sentence in sentences if sentence.strip()])\n",
    "\n",
    "# Make a csv of the speeches\n",
    "sona.to_csv('data/sona_speeches.csv', index=False)\n",
    "\n",
    "# Make a csv of the sentences\n",
    "sona_sentences.to_csv('data/sona_sentences_untransformed.csv', index=False)"
   ]
  },
  {
   "cell_type": "code",
   "execution_count": 4,
   "id": "e1a0653c",
   "metadata": {},
   "outputs": [],
   "source": [
    "# Make sure to download the necessary NLTK corpus if you haven't already\n",
    "#nltk.download('wordnet')\n",
    "#nltk.download('averaged_perceptron_tagger')\n",
    "#nltk.download('words')\n",
    "\n",
    "# Read in the sona speeches dataset\n",
    "sona_speeches_df = pd.read_csv('data/sona_speeches.csv')\n",
    "sona_sentences_clean = pd.read_csv('data/sona_sentences_untransformed.csv')\n",
    "sona_sentences_clean['speech'] = sona_sentences_clean['speech'].apply(literal_eval)\n",
    "\n",
    "# Initialize the WordNetLemmatizer\n",
    "lemmatizer = WordNetLemmatizer()\n",
    "stop_words = set(stopwords.words('english'))\n",
    "english_words = set(words.words())\n",
    "additional_words = {\n",
    "    'honourable', 'member', 'chairperson',\n",
    "    'south', 'africa', 'african', 'africans', 'year',\n",
    "    'madame', 'madam', 'soes', 'ms', 'madams', 'madames', 'mw',\n",
    "    'compatriotsthe',\n",
    "    'also'\n",
    "}\n",
    "\n",
    "# Function to convert NLTK's part-of-speech tags to WordNet's part-of-speech tags\n",
    "def get_wordnet_pos(word):\n",
    "    \"\"\"Map NLTK part of speech tags to WordNet part of speech tags.\"\"\"\n",
    "    tag = nltk.pos_tag([word])[0][1][0].upper()\n",
    "    tag_dict = {\"J\": nltk.corpus.wordnet.ADJ,\n",
    "                \"N\": nltk.corpus.wordnet.NOUN,\n",
    "                \"V\": nltk.corpus.wordnet.VERB,\n",
    "                \"R\": nltk.corpus.wordnet.ADV}\n",
    "\n",
    "    return tag_dict.get(tag, nltk.corpus.wordnet.NOUN)\n",
    "\n",
    "# Clean the text, convert to lowercase, and lemmatize each word\n",
    "def clean_text(text):\n",
    "    # Remove special characters: keep only letters, numbers, and basic punctuation\n",
    "    text = re.sub(r'[.;]', ' ', text)  # Replaces periods with spaces\n",
    "    text = re.sub(r'[^a-zA-Z ]', '', text)\n",
    "    text = text.lower()  # Convert to lowercase\n",
    "    \n",
    "    # Tokenize the text\n",
    "    words = word_tokenize(text)\n",
    "    \n",
    "    # Remove stop words\n",
    "    words = [word for word in words if word not in stop_words]\n",
    "    \n",
    "    # Remove additional words\n",
    "    words = [word for word in words if word not in additional_words]\n",
    "\n",
    "    # Lemmatize each word with the correct POS tag\n",
    "    lemmatized_words = []\n",
    "    for word, tag in nltk.pos_tag(words):\n",
    "        wntag = get_wordnet_pos(tag)\n",
    "        lemmatized_word = lemmatizer.lemmatize(word, wntag)\n",
    "        # Only append the lemmatized word if it is in the set of English words\n",
    "        if lemmatized_word in english_words:\n",
    "            lemmatized_words.append(lemmatized_word)\n",
    "    \n",
    "    # Join the lemmatized words back into one string\n",
    "    text = ' '.join(words)\n",
    "    return text\n",
    "\n",
    "def clean_text_no_word_removals(text):\n",
    "    # Remove special characters: keep only letters, numbers, and basic punctuation\n",
    "    text = re.sub(r'[.;]', ' ', text)  # Replaces periods with spaces\n",
    "    text = re.sub(r'[^a-zA-Z ]', '', text)\n",
    "    text = text.lower()  # Convert to lowercase\n",
    "    return text\n",
    "\n",
    "# Apply the cleaning function to the speech column\n",
    "tempdf = sona_speeches_df.copy()\n",
    "sona_speeches_df['speech'] = tempdf['speech'].apply(clean_text)\n",
    "sona_speeches_df['speech_untrans'] = tempdf['speech'].apply(clean_text_no_word_removals)\n",
    "\n",
    "def clean_speeches(speeches):\n",
    "    # The input is expected to be a list of strings\n",
    "    return [clean_text(sentence) for sentence in speeches]\n",
    "\n",
    "# Apply the cleaning to the sentences too\n",
    "sona_sentences_clean['sentence'] = sona_sentences_clean['speech'].apply(lambda speeches: [clean_text(sentence) for sentence in speeches])\n",
    "\n",
    "# Apply the cleaning to sentences that need to keep their words\n",
    "sona_sentences_clean['sent_untrans'] = sona_sentences_clean['speech'].apply(lambda speeches: [clean_text_no_word_removals(sentence) for sentence in speeches])\n",
    "\n",
    "# Make a csv of the speeches\n",
    "sona_speeches_df.to_csv('data/sona_speeches_adapted.csv', index=False)\n",
    "\n",
    "# Remove the speech column from the sentences DataFrame\n",
    "sona_sentences_clean.drop(columns=['speech'], inplace=True)\n",
    "\n",
    "# Make a csv of the sentences\n",
    "sona_sentences_clean.to_csv('data/sona_sentences_clean.csv', index=False)"
   ]
  },
  {
   "cell_type": "code",
   "execution_count": 5,
   "id": "fa4ebf1e",
   "metadata": {},
   "outputs": [],
   "source": [
    "sona_sentences_clean = pd.read_csv('data/sona_sentences_clean.csv')\n",
    "sona_sentences_clean['sentence'] = sona_sentences_clean['sentence'].apply(literal_eval)\n",
    "sona_sentences_clean['sent_untrans'] = sona_sentences_clean['sent_untrans'].apply(literal_eval)\n",
    "\n",
    "# Make the sentences into a single column\n",
    "sona_sentences_alltogether = sona_sentences_clean.explode('sentence')\n",
    "sona_sentences_all_untrans = sona_sentences_clean.explode('sent_untrans')\n",
    "\n",
    "# Drop the other columns\n",
    "sona_sentences_alltogether.drop(columns=['sent_untrans'], inplace=True)\n",
    "sona_sentences_all_untrans.drop(columns=['sentence'], inplace=True)\n",
    "\n",
    "# Make a csv of the sentences\n",
    "sona_sentences_all_untrans.to_csv('data/sona_sentiment_sentences.csv', index=False)\n",
    "\n",
    "# Speeches\n",
    "sona_speeches_clean = pd.read_csv('data/sona_speeches_adapted.csv')"
   ]
  },
  {
   "cell_type": "code",
   "execution_count": 6,
   "id": "81c91cf0",
   "metadata": {},
   "outputs": [],
   "source": [
    "from sklearn.feature_extraction.text import CountVectorizer, TfidfVectorizer\n",
    "\n",
    "max_features = 2000\n",
    "\n",
    "bow_vectorizer = CountVectorizer(max_features=max_features)\n",
    "tfidf_vectorizer = TfidfVectorizer(max_features=max_features)\n",
    "\n",
    "# Transformed on the words\n",
    "bow_matrix_words = bow_vectorizer.fit_transform(sona_speeches_clean['speech'])\n",
    "tfidf_matrix_words = tfidf_vectorizer.fit_transform(sona_speeches_clean['speech'])\n"
   ]
  },
  {
   "cell_type": "code",
   "execution_count": 7,
   "id": "c15c3480",
   "metadata": {},
   "outputs": [],
   "source": [
    "from matplotlib.colors import LinearSegmentedColormap\n",
    "\n",
    "cmap = plt.cm.cividis\n",
    "\n",
    "norm = plt.Normalize(0, 100)\n",
    "\n",
    "# Define a colour map based on cividis\n",
    "# Define a new colormap using a smaller slice of the cividis colormap, this time stopping well before the yellows\n",
    "cividis_modified = cmap(np.linspace(0, 0.4, cmap.N))  # Using only 40% of the colormap range\n",
    "\n",
    "# Create a new colormap from the data\n",
    "cividis_no_yellow_light = LinearSegmentedColormap.from_list('cividis_no_yellow_light', cividis_modified)\n",
    "\n",
    "# Let's pick three colors from the modified colormap\n",
    "colormap = [cividis_no_yellow_light(norm(0)), \n",
    "          cividis_no_yellow_light(norm(50)), \n",
    "          cividis_no_yellow_light(norm(100))]"
   ]
  },
  {
   "cell_type": "code",
   "execution_count": 8,
   "id": "06920e9c",
   "metadata": {},
   "outputs": [],
   "source": [
    "from sklearn.feature_extraction.text import ENGLISH_STOP_WORDS\n",
    "from collections import Counter\n",
    "import matplotlib.pyplot as plt\n",
    "\n",
    "# Function to count words in speeches excluding stopwords\n",
    "def get_word_frequencies(speeches, stopwords):\n",
    "    word_counts = Counter()\n",
    "    for speech in speeches:\n",
    "        words = speech.lower().split()\n",
    "        # Remove stopwords from the count\n",
    "        words = [word.strip('.,!?\"\\'-()') for word in words if word.strip('.,!?\"\\'-()') not in stopwords]\n",
    "        word_counts.update(words)\n",
    "    return word_counts\n",
    "\n",
    "# Get the word frequencies excluding stopwords\n",
    "word_frequencies = get_word_frequencies(sona_speeches_clean['speech'], ENGLISH_STOP_WORDS)\n",
    "\n",
    "# Get the top 10 most frequent words across all speeches\n",
    "top_10_words = word_frequencies.most_common(10)"
   ]
  },
  {
   "cell_type": "code",
   "execution_count": 9,
   "id": "bbb88f81",
   "metadata": {},
   "outputs": [],
   "source": [
    "# Plotting\n",
    "plt.figure(figsize=(10, 6))\n",
    "plt.bar([word for word, count in top_10_words], [count for word, count in top_10_words], color=colormap[2])\n",
    "plt.xlabel('Words', fontsize=12)\n",
    "plt.ylabel('Frequency', fontsize=12)\n",
    "plt.xticks(fontsize=16)\n",
    "plt.yticks(fontsize=16)\n",
    "plt.xticks(rotation=45)\n",
    "\n",
    "# Save the plot as a PNG file\n",
    "plt.savefig(f'saved_plots/overall_top_words.png', bbox_inches='tight')\n",
    "plt.close()  # Close the figure to avoid displaying it in the notebook"
   ]
  },
  {
   "cell_type": "code",
   "execution_count": 10,
   "id": "d6280db2",
   "metadata": {},
   "outputs": [],
   "source": [
    "# Function to get top N frequent words for each president\n",
    "def get_top_words_by_president(speeches_df, n, stopwords):\n",
    "    presidents = speeches_df['president'].unique()\n",
    "    top_words_by_president = {}\n",
    "    for president in presidents:\n",
    "        president_speeches = speeches_df[speeches_df['president'] == president]['speech']\n",
    "        word_frequencies = get_word_frequencies(president_speeches, stopwords)\n",
    "        top_words_by_president[president] = word_frequencies.most_common(n)\n",
    "    return top_words_by_president\n",
    "\n",
    "# Get the top 10 most frequent words for each president\n",
    "top_10_words_by_president = get_top_words_by_president(sona_speeches_clean, 10, ENGLISH_STOP_WORDS)"
   ]
  },
  {
   "cell_type": "code",
   "execution_count": 11,
   "id": "d747f241",
   "metadata": {},
   "outputs": [],
   "source": [
    "# Plot the word frequenceis for each president\n",
    "for president, top_words in top_10_words_by_president.items():\n",
    "    \n",
    "    # Individual plot for each president\n",
    "    plt.figure(figsize=(10, 6))\n",
    "    plt.bar([word for word, count in top_words], [count for word, count in top_words], color=colormap[0])\n",
    "    plt.xlabel('Words', fontsize=20)\n",
    "    plt.ylabel('Frequency', fontsize=20)\n",
    "    plt.xticks(rotation=45)\n",
    "\n",
    "    # Save the plot as a PNG file\n",
    "    plt.savefig(f'saved_plots/{president}_top_words.png', bbox_inches='tight')\n",
    "    plt.close()  # Close the figure to avoid displaying it in the notebook"
   ]
  },
  {
   "cell_type": "code",
   "execution_count": 12,
   "id": "98eb8e5d",
   "metadata": {},
   "outputs": [],
   "source": [
    "import pandas as pd\n",
    "import nltk\n",
    "from nltk.corpus import opinion_lexicon\n",
    "from nltk.tokenize import treebank\n",
    "from afinn import Afinn\n",
    "\n",
    "from dateutil import parser\n",
    "\n",
    "# Function to parse date strings based on the described rule\n",
    "def parse_date(date_str):\n",
    "    # Split the string by comma and take the last part\n",
    "    date_part = date_str.split(',')[-1].strip()\n",
    "    # Parse the date part into a datetime object\n",
    "    return parser.parse(date_part)\n",
    "\n",
    "# Define a function to get Bing lexicon sentiment scores\n",
    "def get_bing_sentiment(text):\n",
    "    tokenizer = treebank.TreebankWordTokenizer()\n",
    "    tokens = tokenizer.tokenize(text.lower())\n",
    "    pos_score = sum(1 for word in tokens if word in positive_words)\n",
    "    neg_score = sum(1 for word in tokens if word in negative_words)\n",
    "    compound_score = pos_score - neg_score\n",
    "    return compound_score\n",
    "\n",
    "\n",
    "# Load the AFINN lexicon\n",
    "afinn = Afinn()\n",
    "\n",
    "# Define a function to get AFINN sentiment scores\n",
    "def get_afinn_sentiment(text):\n",
    "    return afinn.score(text)\n",
    "\n",
    "# Load positive and negative words\n",
    "positive_words = set(opinion_lexicon.positive())\n",
    "negative_words = set(opinion_lexicon.negative())\n",
    "\n",
    "# Apply Bing sentiment analysis\n",
    "sona_speeches_clean['bing_sentiment'] = sona_speeches_clean['speech_untrans'].apply(get_bing_sentiment)\n",
    "sona_sentences_all_untrans['bing_sentiment'] = sona_sentences_all_untrans['sent_untrans'].apply(get_bing_sentiment)\n",
    "\n",
    "# Apply AFINN sentiment analysis\n",
    "sona_speeches_clean['afinn_sentiment'] = sona_speeches_clean['speech_untrans'].apply(lambda text: get_afinn_sentiment(text))\n",
    "sona_sentences_all_untrans['afinn_sentiment'] = sona_sentences_all_untrans['sent_untrans'].apply(lambda text: get_afinn_sentiment(text))\n",
    "\n",
    "# Convert the date strings to datetime objects\n",
    "sona_speeches_clean['date'] = sona_speeches_clean['date'].apply(parse_date)\n",
    "sona_sentences_all_untrans['date'] = sona_sentences_all_untrans['date'].apply(parse_date)\n",
    "\n",
    "# Sort the DataFrames by date in ascending order\n",
    "sona_speeches_clean.sort_values('date', ascending=True, inplace=True)\n",
    "#sona_sentences_all_untrans.sort_values('date', ascending=True, inplace=True)\n",
    "\n",
    "# Create a new variable which is the date as a string\n",
    "sona_speeches_clean['date_str'] = sona_speeches_clean['date'].dt.strftime('%Y-%m-%d')\n",
    "sona_sentences_all_untrans['date_str'] = sona_sentences_all_untrans['date'].dt.strftime('%Y-%m-%d')"
   ]
  },
  {
   "cell_type": "code",
   "execution_count": 13,
   "id": "0a78a78b",
   "metadata": {},
   "outputs": [],
   "source": [
    "import matplotlib.pyplot as plt\n",
    "import pandas as pd\n",
    "\n",
    "# For plotting sentiment scores of speeches by each president\n",
    "def plot_speeches_by_president(df, lexicon):\n",
    "    plt.figure(figsize=(10, 6))\n",
    "\n",
    "    presidents = df['president'].unique()\n",
    "\n",
    "    lexicon_lab = lexicon\n",
    "\n",
    "    if lexicon == 'afinn':\n",
    "        lexicon_lab = 'AFINN'\n",
    "\n",
    "    colors = ['lightsteelblue', colormap[1], 'midnightblue', 'lightgray', 'darkgray',  'dimgray']\n",
    "\n",
    "    for idx, president in enumerate(presidents):\n",
    "        president_df = df[df['president'] == president]\n",
    "        plt.bar(president_df['date_str'], president_df[f'{lexicon}_sentiment'], label=president, color=colors[idx])\n",
    "    plt.xlabel('Date', fontsize=12)\n",
    "    plt.ylabel(f'Sentiment Score', fontsize=12)\n",
    "    plt.xticks(rotation=65)\n",
    "    plt.legend(loc =\"upper left\")\n",
    "    plt.savefig(f'sentiment_plots/speech_{lexicon}_all.png', bbox_inches='tight')\n",
    "    plt.close()  # Close the figure to avoid displaying it in the notebook\n",
    "\n",
    "\n",
    "# For plotting sentiment scores of sentences by each president\n",
    "def plot_sentences_by_president(df, lexicon):\n",
    "    #plt.figure(figsize=(10, 6))\n",
    "\n",
    "    presidents = df['president'].unique()\n",
    "\n",
    "    colors = [colormap[1],  'dimgray', 'midnightblue', 'darkgray', 'lightsteelblue', 'lightgray']\n",
    "\n",
    "    lexicon_lab = lexicon\n",
    "\n",
    "    if lexicon == 'afinn':\n",
    "        lexicon_lab = 'AFINN'\n",
    "    \n",
    "    # Create a copy of the DataFrame\n",
    "    df = df.copy()\n",
    "\n",
    "    # Add a column for the sentence number\n",
    "    df['sentence_num'] = df.groupby('date_str').cumcount() + 1\n",
    "    \n",
    "    i = 0\n",
    "\n",
    "    for idx, president in enumerate(presidents):\n",
    "        plt.figure(figsize=(10, 6))\n",
    "        president_df = df[df['president'] == president]\n",
    "        plt.bar(president_df['sentence_num'], president_df[f'{lexicon}_sentiment'], label=president, color=colors[i])\n",
    "        plt.xlabel('Sentence', fontsize=20)\n",
    "        plt.ylabel(f'Sentiment Score', fontsize=20)\n",
    "        plt.xticks(rotation=65)\n",
    "        plt.savefig(f'sentiment_plots/sent_{lexicon}_{president}.png', bbox_inches='tight')\n",
    "        plt.close()  # Close the figure to avoid displaying it in the notebook\n",
    "\n",
    "        i += 1\n",
    "\n",
    "    \n",
    "# Assuming 'date' is a column in datetime format and 'president' is the name of each president\n",
    "plot_speeches_by_president(sona_speeches_clean, 'bing')\n",
    "plot_speeches_by_president(sona_speeches_clean, 'afinn')\n",
    "\n",
    "plot_sentences_by_president(sona_sentences_all_untrans, 'bing')\n",
    "plot_sentences_by_president(sona_sentences_all_untrans, 'afinn')\n"
   ]
  },
  {
   "cell_type": "code",
   "execution_count": 14,
   "id": "06bc04df",
   "metadata": {},
   "outputs": [],
   "source": [
    "# Function to calculate word sentiments across all speeches of a president\n",
    "def calculate_word_sentiments(president_speeches, lexicon):\n",
    "    # Combine all speeches into one large text\n",
    "    all_speeches = ' '.join(president_speeches)\n",
    "    # Tokenize the text into words and filter out stopwords and non-alphabetic tokens\n",
    "    words = [word for word in word_tokenize(all_speeches.lower()) if word.isalpha() and word not in stopwords.words('english')]\n",
    "    # Get sentiment score for each word\n",
    "    word_sentiments = defaultdict(int)\n",
    "    for word in words:\n",
    "        # Get the sentiment score for the word\n",
    "        if lexicon == 'bing':\n",
    "            sentiment = get_bing_sentiment(word)\n",
    "        elif lexicon == 'afinn':\n",
    "            sentiment = get_afinn_sentiment(word)\n",
    "\n",
    "        word_sentiments[word] += sentiment\n",
    "    return word_sentiments\n",
    "\n",
    "# Function to plot the top positive and negative words\n",
    "def plot_top_words(word_sentiments, president, lexicon):\n",
    "    # Sort words by sentiment score\n",
    "    sorted_words = sorted(word_sentiments.items(), key=lambda kv: kv[1])\n",
    "    # Select the top 10 positive and negative words\n",
    "    top_positive_words = sorted_words[-10:]\n",
    "    top_negative_words = sorted_words[:10]\n",
    "\n",
    "    # Words and their sentiment scores for plotting\n",
    "    words_positive, scores_positive = zip(*top_positive_words)\n",
    "    words_negative, scores_negative = zip(*top_negative_words)\n",
    "\n",
    "    fig, ax = plt.subplots(figsize=(10, 6))\n",
    "\n",
    "    # Plot the top negative words\n",
    "    ax.barh(range(10), scores_negative, color=colormap[2], label='Negative')\n",
    "    # Plot the top positive words\n",
    "    ax.barh(range(10, 20), scores_positive, color=colormap[0], label='Positive')\n",
    "\n",
    "    # Add the word labels\n",
    "    ax.set_yticks(range(20))\n",
    "    ax.set_yticklabels(words_negative + words_positive, fontsize=20)\n",
    "    \n",
    "    # Set the labels and title\n",
    "    ax.set_xlabel(f'Contribution to Sentiment Score', fontsize=20)\n",
    "    ax.legend(prop = { \"size\": 16 }, loc = \"lower right\")\n",
    "\n",
    "    # Adjust the view so negative words are at the bottom and positive at the top\n",
    "    ax.set_ylim(-1, 20)\n",
    "    \n",
    "    plt.tight_layout()\n",
    "    # Save the plot as a PNG file\n",
    "    plt.savefig(f'sentiment_plots/word_contr_{lexicon}_{president}.png', bbox_inches='tight')\n",
    "    plt.close()  # Close the figure to avoid displaying it in the notebook\n",
    "\n",
    "# Aggregate the speeches by president and calculate the top words\n",
    "presidents_speeches = sona_speeches_clean.groupby('president')['speech_untrans'].apply(list)\n",
    "for president, speeches in presidents_speeches.items():\n",
    "    word_sentiments_bing = calculate_word_sentiments(speeches, 'bing')\n",
    "    word_sentiments_afinn = calculate_word_sentiments(speeches, 'afinn')\n",
    "    plot_top_words(word_sentiments_bing, president, 'bing')\n",
    "    plot_top_words(word_sentiments_bing, president, 'AFINN')"
   ]
  },
  {
   "cell_type": "code",
   "execution_count": 15,
   "id": "c3440458",
   "metadata": {},
   "outputs": [],
   "source": [
    "# Function to calculate word sentiments across all speeches\n",
    "def calculate_word_sentiments(speeches, lexicon):\n",
    "    # Combine all speeches into one large text\n",
    "    all_speeches = ' '.join(speeches)\n",
    "    # Tokenize the text into words and filter out stopwords and non-alphabetic tokens\n",
    "    words = [word for word in word_tokenize(all_speeches.lower()) if word.isalpha() and word not in stopwords.words('english')]\n",
    "    # Get sentiment score for each word\n",
    "    word_sentiments = defaultdict(int)\n",
    "    for word in words:\n",
    "        # Get the sentiment score for the word\n",
    "        if lexicon == 'bing':\n",
    "            sentiment = get_bing_sentiment(word)\n",
    "        elif lexicon == 'afinn':\n",
    "            sentiment = get_afinn_sentiment(word)\n",
    "\n",
    "        word_sentiments[word] += sentiment\n",
    "    return word_sentiments\n",
    "\n",
    "# Function to plot the top positive and negative words\n",
    "def plot_top_words(word_sentiments, lexicon):\n",
    "    # Sort words by sentiment score\n",
    "    sorted_words = sorted(word_sentiments.items(), key=lambda kv: kv[1])\n",
    "    # Select the top 10 positive and negative words\n",
    "    top_positive_words = sorted_words[-10:]\n",
    "    top_negative_words = sorted_words[:10]\n",
    "\n",
    "    # Words and their sentiment scores for plotting\n",
    "    words_positive, scores_positive = zip(*top_positive_words)\n",
    "    words_negative, scores_negative = zip(*top_negative_words)\n",
    "\n",
    "    fig, ax = plt.subplots(figsize=(10, 6))\n",
    "\n",
    "    # Plot the top negative words\n",
    "    ax.barh(range(10), scores_negative, color=colormap[2], label='Negative')\n",
    "    # Plot the top positive words\n",
    "    ax.barh(range(10, 20), scores_positive, color=colormap[0], label='Positive')\n",
    "\n",
    "    # Add the word labels\n",
    "    ax.set_yticks(range(20))\n",
    "    ax.set_yticklabels(words_negative + words_positive, fontsize=16)\n",
    "    \n",
    "    # Set the labels and title\n",
    "    ax.set_xlabel(f'Contribution to Sentiment Score',fontsize=16)\n",
    "    ax.legend()\n",
    "\n",
    "    # Adjust the view so negative words are at the bottom and positive at the top\n",
    "    ax.set_ylim(-1, 20)\n",
    "    \n",
    "    plt.tight_layout()\n",
    "    plt.savefig(f'sentiment_plots/word_contr_{lexicon}_all.png', bbox_inches='tight')\n",
    "    plt.close()  # Close the figure to avoid displaying it in the notebook\n",
    "\n",
    "# Calculate the word sentiments across all speeches for each lexicon\n",
    "all_speeches = sona_speeches_clean['speech_untrans'].tolist()\n",
    "word_sentiments_bing = calculate_word_sentiments(all_speeches, 'bing')\n",
    "word_sentiments_afinn = calculate_word_sentiments(all_speeches, 'afinn')\n",
    "\n",
    "# Plot the top words for each lexicon\n",
    "plot_top_words(word_sentiments_bing, 'bing')\n",
    "plot_top_words(word_sentiments_afinn, 'AFINN')"
   ]
  },
  {
   "cell_type": "code",
   "execution_count": 16,
   "id": "81f94b59",
   "metadata": {},
   "outputs": [],
   "source": [
    "import matplotlib.pyplot as plt\n",
    "from gensim.models import LsiModel, TfidfModel\n",
    "from gensim.models.coherencemodel import CoherenceModel\n",
    "from gensim import corpora\n",
    "from gensim.utils import simple_preprocess\n",
    "\n",
    "texts = sona_speeches_clean['speech']\n",
    "sentences = sona_sentences_alltogether['sentence']\n",
    "\n",
    "# Further process tokens using gensim's simple_preprocess\n",
    "tokenized_texts = [simple_preprocess(doc, deacc=True) for doc in texts]  # deacc=True removes punctuations\n",
    "tokenized_sentences = [simple_preprocess(doc, deacc=True) for doc in sentences]  # deacc=True removes punctuations\n",
    "\n",
    "# Create a Gensim dictionary from the tokenized documents\n",
    "dictionary = corpora.Dictionary(tokenized_texts)\n",
    "dict_sentences = corpora.Dictionary(tokenized_sentences)\n",
    "\n",
    "#dictionary.filter_extremes(no_below=2, no_above=0.7)\n",
    "#dict_sentences.filter_extremes(no_below=2, no_above=0.7)\n",
    "\n",
    "# Create a BOW corpus\n",
    "bow_corpus = [dictionary.doc2bow(text) for text in tokenized_texts]\n",
    "bow_corpus_sentences = [dict_sentences.doc2bow(text) for text in tokenized_sentences]\n",
    "\n",
    "# Create a TF-IDF corpus\n",
    "tfidf = TfidfModel(bow_corpus)\n",
    "tfidf_corpus = tfidf[bow_corpus]\n",
    "\n",
    "tfidf_sentences = TfidfModel(bow_corpus_sentences)\n",
    "tfidf_corpus_sentences = tfidf_sentences[bow_corpus_sentences]\n",
    "\n",
    "# Define the function to compute coherence values\n",
    "def compute_coherence_values(dictionary, corpus, texts, start, limit, step, coherence='u_mass'):\n",
    "    coherence_values = []\n",
    "    model_list = []\n",
    "    for num_topics in range(start, limit, step):\n",
    "        model = LsiModel(corpus=corpus, num_topics=num_topics, id2word=dictionary)\n",
    "        model_list.append(model)\n",
    "        coherencemodel = CoherenceModel(model=model, texts=tokenized_texts, dictionary=dictionary, coherence=coherence)\n",
    "        coherence_values.append(coherencemodel.get_coherence())\n",
    "    return model_list, coherence_values\n",
    "\n",
    "# Set parameters\n",
    "start, limit, step = 2, 20, 1\n",
    "\n",
    "# Compute coherence values for BOW\n",
    "bow_model_list, bow_coherence_values = compute_coherence_values(dictionary=dictionary, corpus=bow_corpus, texts=texts, start=start, limit=limit, step=step)\n",
    "\n",
    "bow_model_list_sentences, bow_coherence_values_sentences = compute_coherence_values(dictionary=dict_sentences, corpus=bow_corpus_sentences, texts=sentences, start=start, limit=limit, step=step)\n",
    "\n",
    "# Compute coherence values for TF-IDF\n",
    "tfidf_model_list, tfidf_coherence_values = compute_coherence_values(dictionary=dictionary, corpus=tfidf_corpus, texts=tokenized_texts, start=start, limit=limit, step=step)\n",
    "\n",
    "tfidf_model_list_sentences, tfidf_coherence_values_sentences = compute_coherence_values(dictionary=dict_sentences, corpus=tfidf_corpus_sentences, texts=sentences, start=start, limit=limit, step=step)"
   ]
  },
  {
   "cell_type": "code",
   "execution_count": 17,
   "id": "d60bf45f",
   "metadata": {},
   "outputs": [],
   "source": [
    "from matplotlib.ticker import MaxNLocator\n",
    "\n",
    "# Plotting the coherence values\n",
    "x = range(start, limit, step)\n",
    "plt.figure(figsize=(10, 6))\n",
    "plt.plot(x, bow_coherence_values, label='BoW', color='midnightblue')\n",
    "plt.plot(x, tfidf_coherence_values, label='tf-idf', color='darkgray')\n",
    "plt.xlabel(\"Number of Topics\", fontsize=16)\n",
    "plt.ylabel(\"Coherence score\",  fontsize=16)\n",
    "plt.legend(loc='lower left')\n",
    "plt.gca().xaxis.set_major_locator(MaxNLocator(integer=True))\n",
    "plt.savefig(f'lsa_plots/words_coherence_plots.png', bbox_inches='tight')\n",
    "plt.close()\n",
    "\n",
    "\n",
    "# Plotting the coherence values\n",
    "x = range(start, limit, step)\n",
    "plt.figure(figsize=(10, 6))\n",
    "plt.plot(x, bow_coherence_values_sentences, label='BoW', color='midnightblue')\n",
    "plt.plot(x, tfidf_coherence_values_sentences, label='tf-idf', color='darkgray')\n",
    "plt.xlabel(\"Number of Topics\", fontsize=16)\n",
    "plt.ylabel(\"Coherence score\",  fontsize=16)\n",
    "plt.legend(loc='lower right')\n",
    "plt.gca().xaxis.set_major_locator(MaxNLocator(integer=True))\n",
    "plt.savefig(f'lsa_plots/sentence_coherence_plots.png', bbox_inches='tight')\n",
    "plt.close()"
   ]
  },
  {
   "cell_type": "code",
   "execution_count": 18,
   "id": "e4fc28b1",
   "metadata": {},
   "outputs": [],
   "source": [
    "lsa_bow_words = LsiModel(corpus=bow_corpus, num_topics=3, id2word=dictionary)\n",
    "lsa_bow_sentences = LsiModel(corpus=bow_corpus_sentences, num_topics=4, id2word=dict_sentences)\n",
    "\n",
    "lsa_tfidf_words = LsiModel(corpus=tfidf_corpus, num_topics=3, id2word=dictionary)\n",
    "lsa_tfidf_sentences = LsiModel(corpus=tfidf_corpus_sentences, num_topics=4, id2word=dict_sentences)"
   ]
  },
  {
   "cell_type": "code",
   "execution_count": 19,
   "id": "cfc9ea3f",
   "metadata": {},
   "outputs": [],
   "source": [
    "import matplotlib.pyplot as plt\n",
    "\n",
    "# Function to plot top words for each topic\n",
    "def plot_top_words_lsa(model, num_words=10):\n",
    "    topics = model.show_topics(num_topics=-1, num_words=num_words, formatted=False)\n",
    "    fig, axes = plt.subplots(1, len(topics), figsize=(5 * len(topics), 10), sharey=True)\n",
    "    axes = axes.flatten()\n",
    "    \n",
    "    colors = ['lightsteelblue', 'midnightblue', 'lightgray', 'dimgray']\n",
    "    \n",
    "    i = 0\n",
    "    \n",
    "    for topic_id, topic in topics:\n",
    "        top_words = [word for word, _ in topic]\n",
    "        weights = [abs(weight) for _, weight in topic]  # Use absolute values to show contribution\n",
    "        \n",
    "        ax = axes[topic_id]\n",
    "        ax.barh(top_words, weights, color=colors[i])\n",
    "        ax.set_title(f'Topic {topic_id + 1}')\n",
    "        ax.invert_yaxis()\n",
    "        \n",
    "        ax.set_xlabel('Word Importance', fontsize=20)\n",
    "        ax.set_ylabel('Words', fontsize=20)\n",
    "\n",
    "        i += 1\n",
    "\n",
    "    plt.tight_layout()\n",
    "    plt.figure(figsize=(10, 6))\n",
    "    plt.show()\n",
    "\n",
    "# Plot the top words for each topic for the LSA models\n",
    "#plot_top_words_lsa(lsa_bow_words)\n",
    "#plot_top_words_lsa(lsa_bow_sentences)\n",
    "\n",
    "#plot_top_words_lsa(lsa_tfidf_words)\n",
    "#plot_top_words_lsa(lsa_tfidf_sentences)"
   ]
  },
  {
   "cell_type": "code",
   "execution_count": 20,
   "id": "212d8df2",
   "metadata": {},
   "outputs": [],
   "source": [
    "import matplotlib.pyplot as plt\n",
    "\n",
    "\n",
    "\n",
    "# Function to plot the top words for each topic in a single LSA model\n",
    "def plot_top_words_for_each_topic(model, fiton, lexicon, num_words=10):\n",
    "\n",
    "    colors = ['lightsteelblue', 'midnightblue', 'lightgray', 'dimgray']\n",
    "    \n",
    "    j = 0\n",
    "\n",
    "    for i in range(model.num_topics):\n",
    "        # Extract the top words for this topic\n",
    "        top_words = model.show_topic(i, num_words)\n",
    "        # Separate the words and their corresponding weights\n",
    "        words, weights = zip(*top_words)\n",
    "        weights = [abs(weight) for weight in weights]  # Use absolute values for weights\n",
    "\n",
    "        # Create a bar chart for the top words in this topic\n",
    "        plt.figure(figsize=(10, 6))\n",
    "        plt.barh(words, weights, color = colors[j])\n",
    "        # ax.set_yticklabels(words, fontsize=20)\n",
    "        j += 1\n",
    "        plt.xlabel('Weight')\n",
    "        plt.gca().invert_yaxis()  # Highest weights on top\n",
    "        plt.savefig(f'lsa_plots/{fiton}_{lexicon}_topic_{i + 1}.png', bbox_inches='tight')\n",
    "        plt.close()\n",
    "\n",
    "\n",
    "# Apply the plotting function to each of your LSA models\n",
    "plot_top_words_for_each_topic(lsa_bow_words, 'words', 'bow')\n",
    "plot_top_words_for_each_topic(lsa_bow_sentences, 'sentences', 'bow')\n",
    "plot_top_words_for_each_topic(lsa_tfidf_words, 'words', 'tfidf')\n",
    "plot_top_words_for_each_topic(lsa_tfidf_sentences, 'sentences', 'tfidf')"
   ]
  },
  {
   "cell_type": "code",
   "execution_count": 21,
   "id": "4c774a41",
   "metadata": {},
   "outputs": [],
   "source": [
    "sona_speeches_clean['speech'].to_csv('data/sona_speeches_only.csv', index=False)\n",
    "sona_sentences_alltogether['sentence'].to_csv('data/sona_sentences_only.csv', index=False)"
   ]
  },
  {
   "cell_type": "code",
   "execution_count": 22,
   "id": "30bc86dd",
   "metadata": {},
   "outputs": [],
   "source": [
    "import math\n",
    "\n",
    "def calculate_umass_coherence(plsa_result, corpus, top_n=10, tf_idf=False):\n",
    "    # Extract the top N words for each topic\n",
    "    top_words_by_topic = [\n",
    "        [word for word, _ in plsa_result.word_given_topic[i][:top_n]]\n",
    "        for i in range(plsa_result.n_topics)\n",
    "    ]\n",
    "    \n",
    "    # Get document-word matrix (document frequency matrix)\n",
    "    doc_word_matrix = corpus.get_doc_word(tf_idf=tf_idf)\n",
    "    \n",
    "    # Calculate document frequencies for single words\n",
    "    word_doc_freq = np.sum(doc_word_matrix > 0, axis=0)\n",
    "    \n",
    "    # Calculate coherence for each topic\n",
    "    topic_coherences = []\n",
    "    for top_words in top_words_by_topic:\n",
    "        pair_scores = []\n",
    "        for i, word in enumerate(top_words):\n",
    "            for j in range(i + 1, len(top_words)):\n",
    "                # Get indices in the vocabulary\n",
    "                word_i_index = corpus.index[word]\n",
    "                word_j_index = corpus.index[top_words[j]]\n",
    "                \n",
    "                # Count the documents where both words appear\n",
    "                both_docs = np.sum((doc_word_matrix[:, word_i_index] > 0) & (doc_word_matrix[:, word_j_index] > 0))\n",
    "                \n",
    "                # Calculate score for this word pair\n",
    "                score = math.log((both_docs + 1.0) / word_doc_freq[word_i_index])  # Add 1 to avoid log(0)\n",
    "                pair_scores.append(score)\n",
    "                \n",
    "        # Average over all pairs to get the topic coherence\n",
    "        topic_coherence = sum(pair_scores) / len(pair_scores)\n",
    "        topic_coherences.append(topic_coherence)\n",
    "        \n",
    "    # Average over all topics to get the overall coherence\n",
    "    overall_coherence = sum(topic_coherences) / len(topic_coherences)\n",
    "    return overall_coherence\n"
   ]
  },
  {
   "cell_type": "code",
   "execution_count": 23,
   "id": "6f7d1498",
   "metadata": {},
   "outputs": [],
   "source": [
    "import matplotlib.pyplot as plt\n",
    "from plsa import Corpus, Pipeline, Visualize\n",
    "from plsa.pipeline import DEFAULT_PIPELINE\n",
    "from plsa.algorithms import PLSA\n",
    "\n",
    "pipeline = Pipeline(*DEFAULT_PIPELINE)\n",
    "\n",
    "corpus = Corpus.from_csv(\"data/sona_speeches_only.csv\", pipeline)\n",
    "corpus_sent = Corpus.from_csv(\"data/sona_sentences_only.csv\", pipeline)\n",
    "\n",
    "topic_numbers = range(2, 12, 1)\n",
    "\n",
    "# Loop over the topic number and calculate the coherence values\n",
    "bow_coherence_values = []\n",
    "bow_coherence_values_sent = []\n",
    "tfidf_coherence_values = []\n",
    "tfidf_coherence_values_sent = []\n",
    "\n",
    "for n_topics in topic_numbers:\n",
    "    # Initialize the models\n",
    "    tfidf_plsa = PLSA(corpus, n_topics, tf_idf=True)\n",
    "    bow_plsa = PLSA(corpus, n_topics, tf_idf=False)\n",
    "\n",
    "    tfidf_plsa_sent = PLSA(corpus_sent, n_topics, tf_idf=True)\n",
    "    bow_plsa_sent = PLSA(corpus_sent, n_topics, tf_idf=False)\n",
    "\n",
    "    # Fit the models\n",
    "    tfidf_result = tfidf_plsa.fit()\n",
    "    bow_result = bow_plsa.fit()\n",
    "    tfidf_result_sent = tfidf_plsa_sent.fit()\n",
    "    bow_result_sent = bow_plsa_sent.fit()\n",
    "\n",
    "    # Calculate the coherence values\n",
    "    bow_coherence_values.append(calculate_umass_coherence(bow_result, corpus, tf_idf=False))\n",
    "    tfidf_coherence_values.append(calculate_umass_coherence(tfidf_result, corpus, tf_idf=True))\n",
    "    bow_coherence_values_sent.append(calculate_umass_coherence(bow_result_sent, corpus_sent, tf_idf=False))\n",
    "    tfidf_coherence_values_sent.append(calculate_umass_coherence(tfidf_result_sent, corpus_sent, tf_idf=True))"
   ]
  },
  {
   "cell_type": "code",
   "execution_count": 24,
   "id": "74ab8364",
   "metadata": {},
   "outputs": [],
   "source": [
    "# Plot the speech coherence values - updated\n",
    "plt.figure(figsize=(10, 6))\n",
    "plt.plot(topic_numbers, bow_coherence_values, label='BoW', color='midnightblue')\n",
    "plt.plot(topic_numbers, tfidf_coherence_values, label='tf-idf', color='darkgray')\n",
    "plt.xlabel(\"Number of Topics\", fontsize=16)\n",
    "plt.ylabel(\"Coherence score\",  fontsize=16)\n",
    "plt.legend(loc='lower right')\n",
    "plt.savefig(f'plsa_plots/words_coherence.png', bbox_inches='tight')\n",
    "plt.close()\n",
    "\n",
    "\n",
    "# Plot the sentence coherence values - updated\n",
    "plt.figure(figsize=(10, 6))\n",
    "plt.plot(topic_numbers, bow_coherence_values_sent, label='BoW', color='midnightblue')\n",
    "plt.plot(topic_numbers, tfidf_coherence_values_sent, label='tf-idf', color='darkgray')\n",
    "plt.xlabel(\"Number of Topics\", fontsize=16)\n",
    "plt.ylabel(\"Coherence score\",  fontsize=16)\n",
    "plt.legend(loc='lower right')\n",
    "plt.savefig(f'plsa_plots/sentences_coherence.png', bbox_inches='tight')\n",
    "plt.close()"
   ]
  },
  {
   "cell_type": "code",
   "execution_count": 25,
   "id": "9a758226",
   "metadata": {},
   "outputs": [],
   "source": [
    "# Fit the models with the calibrated number of topics\n",
    "tfidf_plsa = PLSA(corpus, 4, tf_idf=True)\n",
    "bow_plsa = PLSA(corpus, 4, tf_idf=False)\n",
    "tfidf_plsa_sent = PLSA(corpus_sent, 8, tf_idf=True)\n",
    "bow_plsa_sent = PLSA(corpus_sent, 3, tf_idf=False)\n",
    "\n",
    "# Fit the models\n",
    "tfidf_result = tfidf_plsa.fit()\n",
    "bow_result = bow_plsa.fit()\n",
    "tfidf_result_sent = tfidf_plsa_sent.fit()\n",
    "bow_result_sent = bow_plsa_sent.fit()"
   ]
  },
  {
   "cell_type": "code",
   "execution_count": 26,
   "id": "e227cc9e",
   "metadata": {},
   "outputs": [],
   "source": [
    "# Function to plot the top words for a given topic\n",
    "def plot_top_words_for_topic(word_given_topic, topic_num, corptype, top_n=10):\n",
    "    # Extract the top words for this topic\n",
    "    top_words_data = word_given_topic[topic_num][:top_n]\n",
    "    words, probabilities = zip(*top_words_data)\n",
    "\n",
    "    # Create a bar plot\n",
    "    plt.figure(figsize=(10, 6))\n",
    "    plt.barh(words, probabilities, color='midnightblue')\n",
    "    plt.xlabel('Probability', fontsize=16)\n",
    "    plt.gca().invert_yaxis() \n",
    "    plt.savefig(f'plsa_plots/{corptype}_topic_{topic_num + 1}.png', bbox_inches='tight')\n",
    "    plt.close()\n",
    "\n",
    "\n",
    "def plot_word_contribution(result, corptype):\n",
    "    # Number of topics in your model\n",
    "    n_topics = len(result.word_given_topic)\n",
    "\n",
    "    # Plot the top words for each topic\n",
    "    for topic_num in range(n_topics):\n",
    "        plot_top_words_for_topic(result.word_given_topic, topic_num, corptype)\n",
    "\n",
    "# Plot the word contribution for each topic for each model\n",
    "plot_word_contribution(bow_result, 'words-BoW')\n",
    "plot_word_contribution(tfidf_result, 'words-tf-idf')\n",
    "plot_word_contribution(bow_result_sent, 'sentences-BoW')\n",
    "plot_word_contribution(tfidf_result_sent, 'sentences-tf-idf')"
   ]
  },
  {
   "cell_type": "code",
   "execution_count": 27,
   "id": "f3b5c8fb",
   "metadata": {},
   "outputs": [
    {
     "name": "stderr",
     "output_type": "stream",
     "text": [
      "\r",
      "  0%|          | 0/720 [00:00<?, ?it/s]"
     ]
    },
    {
     "name": "stderr",
     "output_type": "stream",
     "text": [
      "\r",
      "  0%|          | 2/720 [00:00<00:59, 12.10it/s]"
     ]
    },
    {
     "name": "stderr",
     "output_type": "stream",
     "text": [
      "\r",
      "  1%|          | 4/720 [00:00<00:56, 12.74it/s]"
     ]
    },
    {
     "name": "stderr",
     "output_type": "stream",
     "text": [
      "\r",
      "  1%|          | 6/720 [00:00<00:55, 12.79it/s]"
     ]
    },
    {
     "name": "stderr",
     "output_type": "stream",
     "text": [
      "\r",
      "  1%|          | 8/720 [00:00<00:55, 12.81it/s]"
     ]
    },
    {
     "name": "stderr",
     "output_type": "stream",
     "text": [
      "\r",
      "  1%|▏         | 10/720 [00:00<00:54, 12.92it/s]"
     ]
    },
    {
     "name": "stderr",
     "output_type": "stream",
     "text": [
      "\r",
      "  2%|▏         | 12/720 [00:00<00:54, 12.94it/s]"
     ]
    },
    {
     "name": "stderr",
     "output_type": "stream",
     "text": [
      "\r",
      "  2%|▏         | 14/720 [00:01<00:54, 13.05it/s]"
     ]
    },
    {
     "name": "stderr",
     "output_type": "stream",
     "text": [
      "\r",
      "  2%|▏         | 16/720 [00:01<00:53, 13.08it/s]"
     ]
    },
    {
     "name": "stderr",
     "output_type": "stream",
     "text": [
      "\r",
      "  2%|▎         | 18/720 [00:01<00:54, 12.92it/s]"
     ]
    },
    {
     "name": "stderr",
     "output_type": "stream",
     "text": [
      "\r",
      "  3%|▎         | 20/720 [00:01<00:54, 12.81it/s]"
     ]
    },
    {
     "name": "stderr",
     "output_type": "stream",
     "text": [
      "\r",
      "  3%|▎         | 22/720 [00:01<00:58, 11.91it/s]"
     ]
    },
    {
     "name": "stderr",
     "output_type": "stream",
     "text": [
      "\r",
      "  3%|▎         | 24/720 [00:01<00:56, 12.24it/s]"
     ]
    },
    {
     "name": "stderr",
     "output_type": "stream",
     "text": [
      "\r",
      "  4%|▎         | 26/720 [00:02<00:55, 12.56it/s]"
     ]
    },
    {
     "name": "stderr",
     "output_type": "stream",
     "text": [
      "\r",
      "  4%|▍         | 28/720 [00:02<00:54, 12.62it/s]"
     ]
    },
    {
     "name": "stderr",
     "output_type": "stream",
     "text": [
      "\r",
      "  4%|▍         | 30/720 [00:02<00:54, 12.71it/s]"
     ]
    },
    {
     "name": "stderr",
     "output_type": "stream",
     "text": [
      "\r",
      "  4%|▍         | 32/720 [00:02<00:53, 12.94it/s]"
     ]
    },
    {
     "name": "stderr",
     "output_type": "stream",
     "text": [
      "\r",
      "  5%|▍         | 34/720 [00:02<00:53, 12.83it/s]"
     ]
    },
    {
     "name": "stderr",
     "output_type": "stream",
     "text": [
      "\r",
      "  5%|▌         | 36/720 [00:02<00:52, 13.00it/s]"
     ]
    },
    {
     "name": "stderr",
     "output_type": "stream",
     "text": [
      "\r",
      "  5%|▌         | 38/720 [00:02<00:52, 13.07it/s]"
     ]
    },
    {
     "name": "stderr",
     "output_type": "stream",
     "text": [
      "\r",
      "  6%|▌         | 40/720 [00:03<00:51, 13.11it/s]"
     ]
    },
    {
     "name": "stderr",
     "output_type": "stream",
     "text": [
      "\r",
      "  6%|▌         | 42/720 [00:03<00:51, 13.21it/s]"
     ]
    },
    {
     "name": "stderr",
     "output_type": "stream",
     "text": [
      "\r",
      "  6%|▌         | 44/720 [00:03<00:50, 13.27it/s]"
     ]
    },
    {
     "name": "stderr",
     "output_type": "stream",
     "text": [
      "\r",
      "  6%|▋         | 46/720 [00:03<00:51, 13.11it/s]"
     ]
    },
    {
     "name": "stderr",
     "output_type": "stream",
     "text": [
      "\r",
      "  7%|▋         | 48/720 [00:03<00:52, 12.86it/s]"
     ]
    },
    {
     "name": "stderr",
     "output_type": "stream",
     "text": [
      "\r",
      "  7%|▋         | 50/720 [00:03<00:52, 12.66it/s]"
     ]
    },
    {
     "name": "stderr",
     "output_type": "stream",
     "text": [
      "\r",
      "  7%|▋         | 52/720 [00:04<00:53, 12.50it/s]"
     ]
    },
    {
     "name": "stderr",
     "output_type": "stream",
     "text": [
      "\r",
      "  8%|▊         | 54/720 [00:04<00:56, 11.85it/s]"
     ]
    },
    {
     "name": "stderr",
     "output_type": "stream",
     "text": [
      "\r",
      "  8%|▊         | 56/720 [00:04<00:57, 11.64it/s]"
     ]
    },
    {
     "name": "stderr",
     "output_type": "stream",
     "text": [
      "\r",
      "  8%|▊         | 58/720 [00:04<00:56, 11.62it/s]"
     ]
    },
    {
     "name": "stderr",
     "output_type": "stream",
     "text": [
      "\r",
      "  8%|▊         | 60/720 [00:04<00:56, 11.71it/s]"
     ]
    },
    {
     "name": "stderr",
     "output_type": "stream",
     "text": [
      "\r",
      "  9%|▊         | 62/720 [00:04<00:55, 11.86it/s]"
     ]
    },
    {
     "name": "stderr",
     "output_type": "stream",
     "text": [
      "\r",
      "  9%|▉         | 64/720 [00:05<00:55, 11.84it/s]"
     ]
    },
    {
     "name": "stderr",
     "output_type": "stream",
     "text": [
      "\r",
      "  9%|▉         | 66/720 [00:05<00:57, 11.46it/s]"
     ]
    },
    {
     "name": "stderr",
     "output_type": "stream",
     "text": [
      "\r",
      "  9%|▉         | 68/720 [00:05<00:56, 11.55it/s]"
     ]
    },
    {
     "name": "stderr",
     "output_type": "stream",
     "text": [
      "\r",
      " 10%|▉         | 70/720 [00:05<00:55, 11.69it/s]"
     ]
    },
    {
     "name": "stderr",
     "output_type": "stream",
     "text": [
      "\r",
      " 10%|█         | 72/720 [00:05<00:54, 11.79it/s]"
     ]
    },
    {
     "name": "stderr",
     "output_type": "stream",
     "text": [
      "\r",
      " 10%|█         | 74/720 [00:05<00:54, 11.87it/s]"
     ]
    },
    {
     "name": "stderr",
     "output_type": "stream",
     "text": [
      "\r",
      " 11%|█         | 76/720 [00:06<00:55, 11.66it/s]"
     ]
    },
    {
     "name": "stderr",
     "output_type": "stream",
     "text": [
      "\r",
      " 11%|█         | 78/720 [00:06<00:54, 11.75it/s]"
     ]
    },
    {
     "name": "stderr",
     "output_type": "stream",
     "text": [
      "\r",
      " 11%|█         | 80/720 [00:06<00:53, 11.90it/s]"
     ]
    },
    {
     "name": "stderr",
     "output_type": "stream",
     "text": [
      "\r",
      " 11%|█▏        | 82/720 [00:06<00:53, 11.98it/s]"
     ]
    },
    {
     "name": "stderr",
     "output_type": "stream",
     "text": [
      "\r",
      " 12%|█▏        | 84/720 [00:06<00:52, 12.05it/s]"
     ]
    },
    {
     "name": "stderr",
     "output_type": "stream",
     "text": [
      "\r",
      " 12%|█▏        | 86/720 [00:06<00:52, 12.00it/s]"
     ]
    },
    {
     "name": "stderr",
     "output_type": "stream",
     "text": [
      "\r",
      " 12%|█▏        | 88/720 [00:07<00:52, 12.02it/s]"
     ]
    },
    {
     "name": "stderr",
     "output_type": "stream",
     "text": [
      "\r",
      " 12%|█▎        | 90/720 [00:07<00:52, 12.03it/s]"
     ]
    },
    {
     "name": "stderr",
     "output_type": "stream",
     "text": [
      "\r",
      " 13%|█▎        | 92/720 [00:07<00:49, 12.60it/s]"
     ]
    },
    {
     "name": "stderr",
     "output_type": "stream",
     "text": [
      "\r",
      " 13%|█▎        | 94/720 [00:07<00:48, 12.90it/s]"
     ]
    },
    {
     "name": "stderr",
     "output_type": "stream",
     "text": [
      "\r",
      " 13%|█▎        | 96/720 [00:07<00:47, 13.01it/s]"
     ]
    },
    {
     "name": "stderr",
     "output_type": "stream",
     "text": [
      "\r",
      " 14%|█▎        | 98/720 [00:07<00:46, 13.30it/s]"
     ]
    },
    {
     "name": "stderr",
     "output_type": "stream",
     "text": [
      "\r",
      " 14%|█▍        | 100/720 [00:08<00:45, 13.53it/s]"
     ]
    },
    {
     "name": "stderr",
     "output_type": "stream",
     "text": [
      "\r",
      " 14%|█▍        | 102/720 [00:08<00:45, 13.61it/s]"
     ]
    },
    {
     "name": "stderr",
     "output_type": "stream",
     "text": [
      "\r",
      " 14%|█▍        | 104/720 [00:08<00:44, 13.80it/s]"
     ]
    },
    {
     "name": "stderr",
     "output_type": "stream",
     "text": [
      "\r",
      " 15%|█▍        | 106/720 [00:08<00:44, 13.90it/s]"
     ]
    },
    {
     "name": "stderr",
     "output_type": "stream",
     "text": [
      "\r",
      " 15%|█▌        | 108/720 [00:08<00:43, 13.94it/s]"
     ]
    },
    {
     "name": "stderr",
     "output_type": "stream",
     "text": [
      "\r",
      " 15%|█▌        | 110/720 [00:08<00:43, 13.97it/s]"
     ]
    },
    {
     "name": "stderr",
     "output_type": "stream",
     "text": [
      "\r",
      " 16%|█▌        | 112/720 [00:08<00:43, 13.97it/s]"
     ]
    },
    {
     "name": "stderr",
     "output_type": "stream",
     "text": [
      "\r",
      " 16%|█▌        | 114/720 [00:09<00:42, 14.12it/s]"
     ]
    },
    {
     "name": "stderr",
     "output_type": "stream",
     "text": [
      "\r",
      " 16%|█▌        | 116/720 [00:09<00:42, 14.17it/s]"
     ]
    },
    {
     "name": "stderr",
     "output_type": "stream",
     "text": [
      "\r",
      " 16%|█▋        | 118/720 [00:09<00:43, 13.82it/s]"
     ]
    },
    {
     "name": "stderr",
     "output_type": "stream",
     "text": [
      "\r",
      " 17%|█▋        | 120/720 [00:09<00:43, 13.82it/s]"
     ]
    },
    {
     "name": "stderr",
     "output_type": "stream",
     "text": [
      "\r",
      " 17%|█▋        | 122/720 [00:09<00:43, 13.75it/s]"
     ]
    },
    {
     "name": "stderr",
     "output_type": "stream",
     "text": [
      "\r",
      " 17%|█▋        | 124/720 [00:09<00:43, 13.62it/s]"
     ]
    },
    {
     "name": "stderr",
     "output_type": "stream",
     "text": [
      "\r",
      " 18%|█▊        | 126/720 [00:09<00:43, 13.74it/s]"
     ]
    },
    {
     "name": "stderr",
     "output_type": "stream",
     "text": [
      "\r",
      " 18%|█▊        | 128/720 [00:10<00:42, 13.88it/s]"
     ]
    },
    {
     "name": "stderr",
     "output_type": "stream",
     "text": [
      "\r",
      " 18%|█▊        | 130/720 [00:10<00:42, 14.00it/s]"
     ]
    },
    {
     "name": "stderr",
     "output_type": "stream",
     "text": [
      "\r",
      " 18%|█▊        | 132/720 [00:10<00:41, 14.15it/s]"
     ]
    },
    {
     "name": "stderr",
     "output_type": "stream",
     "text": [
      "\r",
      " 19%|█▊        | 134/720 [00:10<00:41, 14.23it/s]"
     ]
    },
    {
     "name": "stderr",
     "output_type": "stream",
     "text": [
      "\r",
      " 19%|█▉        | 136/720 [00:10<00:41, 14.10it/s]"
     ]
    },
    {
     "name": "stderr",
     "output_type": "stream",
     "text": [
      "\r",
      " 19%|█▉        | 138/720 [00:10<00:41, 13.95it/s]"
     ]
    },
    {
     "name": "stderr",
     "output_type": "stream",
     "text": [
      "\r",
      " 19%|█▉        | 140/720 [00:10<00:42, 13.76it/s]"
     ]
    },
    {
     "name": "stderr",
     "output_type": "stream",
     "text": [
      "\r",
      " 20%|█▉        | 142/720 [00:11<00:42, 13.69it/s]"
     ]
    },
    {
     "name": "stderr",
     "output_type": "stream",
     "text": [
      "\r",
      " 20%|██        | 144/720 [00:11<00:42, 13.55it/s]"
     ]
    },
    {
     "name": "stderr",
     "output_type": "stream",
     "text": [
      "\r",
      " 20%|██        | 146/720 [00:11<00:42, 13.43it/s]"
     ]
    },
    {
     "name": "stderr",
     "output_type": "stream",
     "text": [
      "\r",
      " 21%|██        | 148/720 [00:11<00:42, 13.39it/s]"
     ]
    },
    {
     "name": "stderr",
     "output_type": "stream",
     "text": [
      "\r",
      " 21%|██        | 150/720 [00:11<00:42, 13.44it/s]"
     ]
    },
    {
     "name": "stderr",
     "output_type": "stream",
     "text": [
      "\r",
      " 21%|██        | 152/720 [00:11<00:42, 13.33it/s]"
     ]
    },
    {
     "name": "stderr",
     "output_type": "stream",
     "text": [
      "\r",
      " 21%|██▏       | 154/720 [00:11<00:42, 13.38it/s]"
     ]
    },
    {
     "name": "stderr",
     "output_type": "stream",
     "text": [
      "\r",
      " 22%|██▏       | 156/720 [00:12<00:42, 13.42it/s]"
     ]
    },
    {
     "name": "stderr",
     "output_type": "stream",
     "text": [
      "\r",
      " 22%|██▏       | 158/720 [00:12<00:42, 13.36it/s]"
     ]
    },
    {
     "name": "stderr",
     "output_type": "stream",
     "text": [
      "\r",
      " 22%|██▏       | 160/720 [00:12<00:47, 11.90it/s]"
     ]
    },
    {
     "name": "stderr",
     "output_type": "stream",
     "text": [
      "\r",
      " 22%|██▎       | 162/720 [00:12<00:45, 12.15it/s]"
     ]
    },
    {
     "name": "stderr",
     "output_type": "stream",
     "text": [
      "\r",
      " 23%|██▎       | 164/720 [00:12<00:44, 12.38it/s]"
     ]
    },
    {
     "name": "stderr",
     "output_type": "stream",
     "text": [
      "\r",
      " 23%|██▎       | 166/720 [00:12<00:44, 12.34it/s]"
     ]
    },
    {
     "name": "stderr",
     "output_type": "stream",
     "text": [
      "\r",
      " 23%|██▎       | 168/720 [00:13<00:45, 12.24it/s]"
     ]
    },
    {
     "name": "stderr",
     "output_type": "stream",
     "text": [
      "\r",
      " 24%|██▎       | 170/720 [00:13<00:43, 12.54it/s]"
     ]
    },
    {
     "name": "stderr",
     "output_type": "stream",
     "text": [
      "\r",
      " 24%|██▍       | 172/720 [00:13<00:43, 12.71it/s]"
     ]
    },
    {
     "name": "stderr",
     "output_type": "stream",
     "text": [
      "\r",
      " 24%|██▍       | 174/720 [00:13<00:42, 12.74it/s]"
     ]
    },
    {
     "name": "stderr",
     "output_type": "stream",
     "text": [
      "\r",
      " 24%|██▍       | 176/720 [00:13<00:42, 12.94it/s]"
     ]
    },
    {
     "name": "stderr",
     "output_type": "stream",
     "text": [
      "\r",
      " 25%|██▍       | 178/720 [00:13<00:41, 12.99it/s]"
     ]
    },
    {
     "name": "stderr",
     "output_type": "stream",
     "text": [
      "\r",
      " 25%|██▌       | 180/720 [00:14<00:41, 13.13it/s]"
     ]
    },
    {
     "name": "stderr",
     "output_type": "stream",
     "text": [
      "\r",
      " 25%|██▌       | 182/720 [00:14<00:42, 12.65it/s]"
     ]
    },
    {
     "name": "stderr",
     "output_type": "stream",
     "text": [
      "\r",
      " 26%|██▌       | 184/720 [00:14<00:47, 11.23it/s]"
     ]
    },
    {
     "name": "stderr",
     "output_type": "stream",
     "text": [
      "\r",
      " 26%|██▌       | 186/720 [00:14<00:49, 10.69it/s]"
     ]
    },
    {
     "name": "stderr",
     "output_type": "stream",
     "text": [
      "\r",
      " 26%|██▌       | 188/720 [00:14<00:48, 11.02it/s]"
     ]
    },
    {
     "name": "stderr",
     "output_type": "stream",
     "text": [
      "\r",
      " 26%|██▋       | 190/720 [00:14<00:46, 11.32it/s]"
     ]
    },
    {
     "name": "stderr",
     "output_type": "stream",
     "text": [
      "\r",
      " 27%|██▋       | 192/720 [00:15<00:45, 11.69it/s]"
     ]
    },
    {
     "name": "stderr",
     "output_type": "stream",
     "text": [
      "\r",
      " 27%|██▋       | 194/720 [00:15<00:44, 11.91it/s]"
     ]
    },
    {
     "name": "stderr",
     "output_type": "stream",
     "text": [
      "\r",
      " 27%|██▋       | 196/720 [00:15<00:43, 11.93it/s]"
     ]
    },
    {
     "name": "stderr",
     "output_type": "stream",
     "text": [
      "\r",
      " 28%|██▊       | 198/720 [00:15<00:45, 11.55it/s]"
     ]
    },
    {
     "name": "stderr",
     "output_type": "stream",
     "text": [
      "\r",
      " 28%|██▊       | 200/720 [00:15<00:44, 11.66it/s]"
     ]
    },
    {
     "name": "stderr",
     "output_type": "stream",
     "text": [
      "\r",
      " 28%|██▊       | 202/720 [00:15<00:43, 11.84it/s]"
     ]
    },
    {
     "name": "stderr",
     "output_type": "stream",
     "text": [
      "\r",
      " 28%|██▊       | 204/720 [00:16<00:43, 11.91it/s]"
     ]
    },
    {
     "name": "stderr",
     "output_type": "stream",
     "text": [
      "\r",
      " 29%|██▊       | 206/720 [00:16<00:43, 11.88it/s]"
     ]
    },
    {
     "name": "stderr",
     "output_type": "stream",
     "text": [
      "\r",
      " 29%|██▉       | 208/720 [00:16<00:43, 11.80it/s]"
     ]
    },
    {
     "name": "stderr",
     "output_type": "stream",
     "text": [
      "\r",
      " 29%|██▉       | 210/720 [00:16<00:42, 11.99it/s]"
     ]
    },
    {
     "name": "stderr",
     "output_type": "stream",
     "text": [
      "\r",
      " 29%|██▉       | 212/720 [00:16<00:41, 12.13it/s]"
     ]
    },
    {
     "name": "stderr",
     "output_type": "stream",
     "text": [
      "\r",
      " 30%|██▉       | 214/720 [00:16<00:41, 12.32it/s]"
     ]
    },
    {
     "name": "stderr",
     "output_type": "stream",
     "text": [
      "\r",
      " 30%|███       | 216/720 [00:17<00:40, 12.42it/s]"
     ]
    },
    {
     "name": "stderr",
     "output_type": "stream",
     "text": [
      "\r",
      " 30%|███       | 218/720 [00:17<00:40, 12.49it/s]"
     ]
    },
    {
     "name": "stderr",
     "output_type": "stream",
     "text": [
      "\r",
      " 31%|███       | 220/720 [00:17<00:39, 12.58it/s]"
     ]
    },
    {
     "name": "stderr",
     "output_type": "stream",
     "text": [
      "\r",
      " 31%|███       | 222/720 [00:17<00:38, 12.83it/s]"
     ]
    },
    {
     "name": "stderr",
     "output_type": "stream",
     "text": [
      "\r",
      " 31%|███       | 224/720 [00:17<00:38, 13.00it/s]"
     ]
    },
    {
     "name": "stderr",
     "output_type": "stream",
     "text": [
      "\r",
      " 31%|███▏      | 226/720 [00:17<00:40, 12.18it/s]"
     ]
    },
    {
     "name": "stderr",
     "output_type": "stream",
     "text": [
      "\r",
      " 32%|███▏      | 228/720 [00:18<00:52,  9.30it/s]"
     ]
    },
    {
     "name": "stderr",
     "output_type": "stream",
     "text": [
      "\r",
      " 32%|███▏      | 230/720 [00:18<00:56,  8.60it/s]"
     ]
    },
    {
     "name": "stderr",
     "output_type": "stream",
     "text": [
      "\r",
      " 32%|███▏      | 231/720 [00:18<01:13,  6.62it/s]"
     ]
    },
    {
     "name": "stderr",
     "output_type": "stream",
     "text": [
      "\r",
      " 32%|███▏      | 232/720 [00:18<01:13,  6.65it/s]"
     ]
    },
    {
     "name": "stderr",
     "output_type": "stream",
     "text": [
      "\r",
      " 32%|███▏      | 233/720 [00:19<01:14,  6.58it/s]"
     ]
    },
    {
     "name": "stderr",
     "output_type": "stream",
     "text": [
      "\r",
      " 32%|███▎      | 234/720 [00:19<01:13,  6.58it/s]"
     ]
    },
    {
     "name": "stderr",
     "output_type": "stream",
     "text": [
      "\r",
      " 33%|███▎      | 235/720 [00:19<01:14,  6.52it/s]"
     ]
    },
    {
     "name": "stderr",
     "output_type": "stream",
     "text": [
      "\r",
      " 33%|███▎      | 236/720 [00:19<01:11,  6.74it/s]"
     ]
    },
    {
     "name": "stderr",
     "output_type": "stream",
     "text": [
      "\r",
      " 33%|███▎      | 237/720 [00:19<01:24,  5.74it/s]"
     ]
    },
    {
     "name": "stderr",
     "output_type": "stream",
     "text": [
      "\r",
      " 33%|███▎      | 238/720 [00:19<01:20,  5.97it/s]"
     ]
    },
    {
     "name": "stderr",
     "output_type": "stream",
     "text": [
      "\r",
      " 33%|███▎      | 239/720 [00:20<01:18,  6.10it/s]"
     ]
    },
    {
     "name": "stderr",
     "output_type": "stream",
     "text": [
      "\r",
      " 33%|███▎      | 240/720 [00:20<01:18,  6.14it/s]"
     ]
    },
    {
     "name": "stderr",
     "output_type": "stream",
     "text": [
      "\r",
      " 33%|███▎      | 241/720 [00:20<01:16,  6.29it/s]"
     ]
    },
    {
     "name": "stderr",
     "output_type": "stream",
     "text": [
      "\r",
      " 34%|███▎      | 242/720 [00:20<01:13,  6.48it/s]"
     ]
    },
    {
     "name": "stderr",
     "output_type": "stream",
     "text": [
      "\r",
      " 34%|███▍      | 243/720 [00:20<01:15,  6.34it/s]"
     ]
    },
    {
     "name": "stderr",
     "output_type": "stream",
     "text": [
      "\r",
      " 34%|███▍      | 244/720 [00:20<01:11,  6.63it/s]"
     ]
    },
    {
     "name": "stderr",
     "output_type": "stream",
     "text": [
      "\r",
      " 34%|███▍      | 245/720 [00:21<01:12,  6.58it/s]"
     ]
    },
    {
     "name": "stderr",
     "output_type": "stream",
     "text": [
      "\r",
      " 34%|███▍      | 246/720 [00:21<01:15,  6.25it/s]"
     ]
    },
    {
     "name": "stderr",
     "output_type": "stream",
     "text": [
      "\r",
      " 34%|███▍      | 247/720 [00:21<01:15,  6.26it/s]"
     ]
    },
    {
     "name": "stderr",
     "output_type": "stream",
     "text": [
      "\r",
      " 34%|███▍      | 248/720 [00:21<01:12,  6.52it/s]"
     ]
    },
    {
     "name": "stderr",
     "output_type": "stream",
     "text": [
      "\r",
      " 35%|███▍      | 249/720 [00:21<01:15,  6.27it/s]"
     ]
    },
    {
     "name": "stderr",
     "output_type": "stream",
     "text": [
      "\r",
      " 35%|███▍      | 250/720 [00:21<01:11,  6.56it/s]"
     ]
    },
    {
     "name": "stderr",
     "output_type": "stream",
     "text": [
      "\r",
      " 35%|███▍      | 251/720 [00:21<01:12,  6.45it/s]"
     ]
    },
    {
     "name": "stderr",
     "output_type": "stream",
     "text": [
      "\r",
      " 35%|███▌      | 252/720 [00:22<01:18,  5.94it/s]"
     ]
    },
    {
     "name": "stderr",
     "output_type": "stream",
     "text": [
      "\r",
      " 35%|███▌      | 253/720 [00:22<01:17,  6.01it/s]"
     ]
    },
    {
     "name": "stderr",
     "output_type": "stream",
     "text": [
      "\r",
      " 35%|███▌      | 254/720 [00:22<01:13,  6.31it/s]"
     ]
    },
    {
     "name": "stderr",
     "output_type": "stream",
     "text": [
      "\r",
      " 35%|███▌      | 255/720 [00:22<01:12,  6.41it/s]"
     ]
    },
    {
     "name": "stderr",
     "output_type": "stream",
     "text": [
      "\r",
      " 36%|███▌      | 256/720 [00:22<01:11,  6.53it/s]"
     ]
    },
    {
     "name": "stderr",
     "output_type": "stream",
     "text": [
      "\r",
      " 36%|███▌      | 257/720 [00:22<01:08,  6.77it/s]"
     ]
    },
    {
     "name": "stderr",
     "output_type": "stream",
     "text": [
      "\r",
      " 36%|███▌      | 258/720 [00:23<01:10,  6.56it/s]"
     ]
    },
    {
     "name": "stderr",
     "output_type": "stream",
     "text": [
      "\r",
      " 36%|███▌      | 259/720 [00:23<01:07,  6.79it/s]"
     ]
    },
    {
     "name": "stderr",
     "output_type": "stream",
     "text": [
      "\r",
      " 36%|███▌      | 260/720 [00:23<01:06,  6.91it/s]"
     ]
    },
    {
     "name": "stderr",
     "output_type": "stream",
     "text": [
      "\r",
      " 36%|███▋      | 261/720 [00:23<01:07,  6.77it/s]"
     ]
    },
    {
     "name": "stderr",
     "output_type": "stream",
     "text": [
      "\r",
      " 36%|███▋      | 262/720 [00:23<01:03,  7.23it/s]"
     ]
    },
    {
     "name": "stderr",
     "output_type": "stream",
     "text": [
      "\r",
      " 37%|███▋      | 263/720 [00:23<01:03,  7.20it/s]"
     ]
    },
    {
     "name": "stderr",
     "output_type": "stream",
     "text": [
      "\r",
      " 37%|███▋      | 264/720 [00:23<01:03,  7.16it/s]"
     ]
    },
    {
     "name": "stderr",
     "output_type": "stream",
     "text": [
      "\r",
      " 37%|███▋      | 265/720 [00:24<01:10,  6.43it/s]"
     ]
    },
    {
     "name": "stderr",
     "output_type": "stream",
     "text": [
      "\r",
      " 37%|███▋      | 266/720 [00:24<01:11,  6.34it/s]"
     ]
    },
    {
     "name": "stderr",
     "output_type": "stream",
     "text": [
      "\r",
      " 37%|███▋      | 267/720 [00:24<01:10,  6.46it/s]"
     ]
    },
    {
     "name": "stderr",
     "output_type": "stream",
     "text": [
      "\r",
      " 37%|███▋      | 268/720 [00:24<01:14,  6.03it/s]"
     ]
    },
    {
     "name": "stderr",
     "output_type": "stream",
     "text": [
      "\r",
      " 37%|███▋      | 269/720 [00:24<01:14,  6.07it/s]"
     ]
    },
    {
     "name": "stderr",
     "output_type": "stream",
     "text": [
      "\r",
      " 38%|███▊      | 270/720 [00:24<01:14,  6.05it/s]"
     ]
    },
    {
     "name": "stderr",
     "output_type": "stream",
     "text": [
      "\r",
      " 38%|███▊      | 271/720 [00:25<01:18,  5.71it/s]"
     ]
    },
    {
     "name": "stderr",
     "output_type": "stream",
     "text": [
      "\r",
      " 38%|███▊      | 272/720 [00:25<01:26,  5.20it/s]"
     ]
    },
    {
     "name": "stderr",
     "output_type": "stream",
     "text": [
      "\r",
      " 38%|███▊      | 273/720 [00:25<01:37,  4.61it/s]"
     ]
    },
    {
     "name": "stderr",
     "output_type": "stream",
     "text": [
      "\r",
      " 38%|███▊      | 274/720 [00:25<01:34,  4.74it/s]"
     ]
    },
    {
     "name": "stderr",
     "output_type": "stream",
     "text": [
      "\r",
      " 38%|███▊      | 275/720 [00:26<01:43,  4.28it/s]"
     ]
    },
    {
     "name": "stderr",
     "output_type": "stream",
     "text": [
      "\r",
      " 38%|███▊      | 276/720 [00:26<01:38,  4.50it/s]"
     ]
    },
    {
     "name": "stderr",
     "output_type": "stream",
     "text": [
      "\r",
      " 38%|███▊      | 277/720 [00:26<01:52,  3.94it/s]"
     ]
    },
    {
     "name": "stderr",
     "output_type": "stream",
     "text": [
      "\r",
      " 39%|███▊      | 278/720 [00:26<01:48,  4.06it/s]"
     ]
    },
    {
     "name": "stderr",
     "output_type": "stream",
     "text": [
      "\r",
      " 39%|███▉      | 279/720 [00:27<01:42,  4.31it/s]"
     ]
    },
    {
     "name": "stderr",
     "output_type": "stream",
     "text": [
      "\r",
      " 39%|███▉      | 280/720 [00:27<01:33,  4.71it/s]"
     ]
    },
    {
     "name": "stderr",
     "output_type": "stream",
     "text": [
      "\r",
      " 39%|███▉      | 281/720 [00:27<01:25,  5.14it/s]"
     ]
    },
    {
     "name": "stderr",
     "output_type": "stream",
     "text": [
      "\r",
      " 39%|███▉      | 282/720 [00:27<01:28,  4.95it/s]"
     ]
    },
    {
     "name": "stderr",
     "output_type": "stream",
     "text": [
      "\r",
      " 39%|███▉      | 283/720 [00:27<01:23,  5.21it/s]"
     ]
    },
    {
     "name": "stderr",
     "output_type": "stream",
     "text": [
      "\r",
      " 39%|███▉      | 284/720 [00:27<01:23,  5.23it/s]"
     ]
    },
    {
     "name": "stderr",
     "output_type": "stream",
     "text": [
      "\r",
      " 40%|███▉      | 285/720 [00:28<01:23,  5.19it/s]"
     ]
    },
    {
     "name": "stderr",
     "output_type": "stream",
     "text": [
      "\r",
      " 40%|███▉      | 286/720 [00:28<01:20,  5.39it/s]"
     ]
    },
    {
     "name": "stderr",
     "output_type": "stream",
     "text": [
      "\r",
      " 40%|███▉      | 287/720 [00:28<01:27,  4.94it/s]"
     ]
    },
    {
     "name": "stderr",
     "output_type": "stream",
     "text": [
      "\r",
      " 40%|████      | 288/720 [00:29<02:48,  2.56it/s]"
     ]
    },
    {
     "name": "stderr",
     "output_type": "stream",
     "text": [
      "\r",
      " 40%|████      | 289/720 [00:29<02:23,  3.00it/s]"
     ]
    },
    {
     "name": "stderr",
     "output_type": "stream",
     "text": [
      "\r",
      " 40%|████      | 290/720 [00:29<01:59,  3.60it/s]"
     ]
    },
    {
     "name": "stderr",
     "output_type": "stream",
     "text": [
      "\r",
      " 40%|████      | 291/720 [00:29<01:49,  3.93it/s]"
     ]
    },
    {
     "name": "stderr",
     "output_type": "stream",
     "text": [
      "\r",
      " 41%|████      | 292/720 [00:30<01:40,  4.27it/s]"
     ]
    },
    {
     "name": "stderr",
     "output_type": "stream",
     "text": [
      "\r",
      " 41%|████      | 293/720 [00:30<01:33,  4.59it/s]"
     ]
    },
    {
     "name": "stderr",
     "output_type": "stream",
     "text": [
      "\r",
      " 41%|████      | 294/720 [00:30<01:23,  5.08it/s]"
     ]
    },
    {
     "name": "stderr",
     "output_type": "stream",
     "text": [
      "\r",
      " 41%|████      | 295/720 [00:30<01:31,  4.67it/s]"
     ]
    },
    {
     "name": "stderr",
     "output_type": "stream",
     "text": [
      "\r",
      " 41%|████      | 296/720 [00:30<01:24,  5.01it/s]"
     ]
    },
    {
     "name": "stderr",
     "output_type": "stream",
     "text": [
      "\r",
      " 41%|████▏     | 297/720 [00:31<01:18,  5.42it/s]"
     ]
    },
    {
     "name": "stderr",
     "output_type": "stream",
     "text": [
      "\r",
      " 41%|████▏     | 298/720 [00:31<01:24,  5.01it/s]"
     ]
    },
    {
     "name": "stderr",
     "output_type": "stream",
     "text": [
      "\r",
      " 42%|████▏     | 299/720 [00:31<01:20,  5.23it/s]"
     ]
    },
    {
     "name": "stderr",
     "output_type": "stream",
     "text": [
      "\r",
      " 42%|████▏     | 300/720 [00:31<01:14,  5.63it/s]"
     ]
    },
    {
     "name": "stderr",
     "output_type": "stream",
     "text": [
      "\r",
      " 42%|████▏     | 301/720 [00:31<01:13,  5.68it/s]"
     ]
    },
    {
     "name": "stderr",
     "output_type": "stream",
     "text": [
      "\r",
      " 42%|████▏     | 302/720 [00:31<01:06,  6.26it/s]"
     ]
    },
    {
     "name": "stderr",
     "output_type": "stream",
     "text": [
      "\r",
      " 42%|████▏     | 303/720 [00:32<01:09,  6.02it/s]"
     ]
    },
    {
     "name": "stderr",
     "output_type": "stream",
     "text": [
      "\r",
      " 42%|████▏     | 304/720 [00:32<01:08,  6.10it/s]"
     ]
    },
    {
     "name": "stderr",
     "output_type": "stream",
     "text": [
      "\r",
      " 42%|████▏     | 305/720 [00:32<01:09,  5.96it/s]"
     ]
    },
    {
     "name": "stderr",
     "output_type": "stream",
     "text": [
      "\r",
      " 42%|████▎     | 306/720 [00:32<01:07,  6.12it/s]"
     ]
    },
    {
     "name": "stderr",
     "output_type": "stream",
     "text": [
      "\r",
      " 43%|████▎     | 307/720 [00:32<01:06,  6.18it/s]"
     ]
    },
    {
     "name": "stderr",
     "output_type": "stream",
     "text": [
      "\r",
      " 43%|████▎     | 308/720 [00:32<01:07,  6.11it/s]"
     ]
    },
    {
     "name": "stderr",
     "output_type": "stream",
     "text": [
      "\r",
      " 43%|████▎     | 309/720 [00:33<01:05,  6.28it/s]"
     ]
    },
    {
     "name": "stderr",
     "output_type": "stream",
     "text": [
      "\r",
      " 43%|████▎     | 310/720 [00:33<01:11,  5.77it/s]"
     ]
    },
    {
     "name": "stderr",
     "output_type": "stream",
     "text": [
      "\r",
      " 43%|████▎     | 311/720 [00:33<01:07,  6.06it/s]"
     ]
    },
    {
     "name": "stderr",
     "output_type": "stream",
     "text": [
      "\r",
      " 43%|████▎     | 312/720 [00:33<01:15,  5.38it/s]"
     ]
    },
    {
     "name": "stderr",
     "output_type": "stream",
     "text": [
      "\r",
      " 43%|████▎     | 313/720 [00:33<01:17,  5.22it/s]"
     ]
    },
    {
     "name": "stderr",
     "output_type": "stream",
     "text": [
      "\r",
      " 44%|████▎     | 314/720 [00:33<01:18,  5.18it/s]"
     ]
    },
    {
     "name": "stderr",
     "output_type": "stream",
     "text": [
      "\r",
      " 44%|████▍     | 315/720 [00:34<01:23,  4.85it/s]"
     ]
    },
    {
     "name": "stderr",
     "output_type": "stream",
     "text": [
      "\r",
      " 44%|████▍     | 316/720 [00:34<01:21,  4.94it/s]"
     ]
    },
    {
     "name": "stderr",
     "output_type": "stream",
     "text": [
      "\r",
      " 44%|████▍     | 317/720 [00:34<01:18,  5.10it/s]"
     ]
    },
    {
     "name": "stderr",
     "output_type": "stream",
     "text": [
      "\r",
      " 44%|████▍     | 318/720 [00:34<01:19,  5.04it/s]"
     ]
    },
    {
     "name": "stderr",
     "output_type": "stream",
     "text": [
      "\r",
      " 44%|████▍     | 319/720 [00:35<01:19,  5.06it/s]"
     ]
    },
    {
     "name": "stderr",
     "output_type": "stream",
     "text": [
      "\r",
      " 44%|████▍     | 320/720 [00:35<01:15,  5.28it/s]"
     ]
    },
    {
     "name": "stderr",
     "output_type": "stream",
     "text": [
      "\r",
      " 45%|████▍     | 321/720 [00:35<01:20,  4.97it/s]"
     ]
    },
    {
     "name": "stderr",
     "output_type": "stream",
     "text": [
      "\r",
      " 45%|████▍     | 322/720 [00:35<01:23,  4.79it/s]"
     ]
    },
    {
     "name": "stderr",
     "output_type": "stream",
     "text": [
      "\r",
      " 45%|████▍     | 323/720 [00:35<01:18,  5.04it/s]"
     ]
    },
    {
     "name": "stderr",
     "output_type": "stream",
     "text": [
      "\r",
      " 45%|████▌     | 324/720 [00:35<01:13,  5.42it/s]"
     ]
    },
    {
     "name": "stderr",
     "output_type": "stream",
     "text": [
      "\r",
      " 45%|████▌     | 325/720 [00:36<01:13,  5.39it/s]"
     ]
    },
    {
     "name": "stderr",
     "output_type": "stream",
     "text": [
      "\r",
      " 45%|████▌     | 326/720 [00:36<01:18,  5.04it/s]"
     ]
    },
    {
     "name": "stderr",
     "output_type": "stream",
     "text": [
      "\r",
      " 45%|████▌     | 327/720 [00:36<01:18,  5.03it/s]"
     ]
    },
    {
     "name": "stderr",
     "output_type": "stream",
     "text": [
      "\r",
      " 46%|████▌     | 328/720 [00:36<01:16,  5.12it/s]"
     ]
    },
    {
     "name": "stderr",
     "output_type": "stream",
     "text": [
      "\r",
      " 46%|████▌     | 329/720 [00:36<01:17,  5.07it/s]"
     ]
    },
    {
     "name": "stderr",
     "output_type": "stream",
     "text": [
      "\r",
      " 46%|████▌     | 330/720 [00:37<01:19,  4.88it/s]"
     ]
    },
    {
     "name": "stderr",
     "output_type": "stream",
     "text": [
      "\r",
      " 46%|████▌     | 331/720 [00:37<01:14,  5.23it/s]"
     ]
    },
    {
     "name": "stderr",
     "output_type": "stream",
     "text": [
      "\r",
      " 46%|████▌     | 332/720 [00:37<01:07,  5.72it/s]"
     ]
    },
    {
     "name": "stderr",
     "output_type": "stream",
     "text": [
      "\r",
      " 46%|████▋     | 333/720 [00:37<01:16,  5.05it/s]"
     ]
    },
    {
     "name": "stderr",
     "output_type": "stream",
     "text": [
      "\r",
      " 46%|████▋     | 334/720 [00:37<01:13,  5.22it/s]"
     ]
    },
    {
     "name": "stderr",
     "output_type": "stream",
     "text": [
      "\r",
      " 47%|████▋     | 335/720 [00:38<01:11,  5.39it/s]"
     ]
    },
    {
     "name": "stderr",
     "output_type": "stream",
     "text": [
      "\r",
      " 47%|████▋     | 336/720 [00:38<01:07,  5.73it/s]"
     ]
    },
    {
     "name": "stderr",
     "output_type": "stream",
     "text": [
      "\r",
      " 47%|████▋     | 337/720 [00:38<01:06,  5.73it/s]"
     ]
    },
    {
     "name": "stderr",
     "output_type": "stream",
     "text": [
      "\r",
      " 47%|████▋     | 338/720 [00:38<01:03,  6.01it/s]"
     ]
    },
    {
     "name": "stderr",
     "output_type": "stream",
     "text": [
      "\r",
      " 47%|████▋     | 339/720 [00:38<01:07,  5.67it/s]"
     ]
    },
    {
     "name": "stderr",
     "output_type": "stream",
     "text": [
      "\r",
      " 47%|████▋     | 340/720 [00:38<01:05,  5.77it/s]"
     ]
    },
    {
     "name": "stderr",
     "output_type": "stream",
     "text": [
      "\r",
      " 47%|████▋     | 341/720 [00:39<01:07,  5.61it/s]"
     ]
    },
    {
     "name": "stderr",
     "output_type": "stream",
     "text": [
      "\r",
      " 48%|████▊     | 342/720 [00:39<01:05,  5.75it/s]"
     ]
    },
    {
     "name": "stderr",
     "output_type": "stream",
     "text": [
      "\r",
      " 48%|████▊     | 343/720 [00:39<01:04,  5.89it/s]"
     ]
    },
    {
     "name": "stderr",
     "output_type": "stream",
     "text": [
      "\r",
      " 48%|████▊     | 344/720 [00:39<01:02,  5.99it/s]"
     ]
    },
    {
     "name": "stderr",
     "output_type": "stream",
     "text": [
      "\r",
      " 48%|████▊     | 345/720 [00:40<01:33,  4.02it/s]"
     ]
    },
    {
     "name": "stderr",
     "output_type": "stream",
     "text": [
      "\r",
      " 48%|████▊     | 346/720 [00:40<01:22,  4.51it/s]"
     ]
    },
    {
     "name": "stderr",
     "output_type": "stream",
     "text": [
      "\r",
      " 48%|████▊     | 347/720 [00:40<01:15,  4.92it/s]"
     ]
    },
    {
     "name": "stderr",
     "output_type": "stream",
     "text": [
      "\r",
      " 48%|████▊     | 348/720 [00:40<01:08,  5.46it/s]"
     ]
    },
    {
     "name": "stderr",
     "output_type": "stream",
     "text": [
      "\r",
      " 48%|████▊     | 349/720 [00:40<01:10,  5.30it/s]"
     ]
    },
    {
     "name": "stderr",
     "output_type": "stream",
     "text": [
      "\r",
      " 49%|████▊     | 350/720 [00:40<01:11,  5.18it/s]"
     ]
    },
    {
     "name": "stderr",
     "output_type": "stream",
     "text": [
      "\r",
      " 49%|████▉     | 351/720 [00:41<01:14,  4.96it/s]"
     ]
    },
    {
     "name": "stderr",
     "output_type": "stream",
     "text": [
      "\r",
      " 49%|████▉     | 352/720 [00:41<01:12,  5.08it/s]"
     ]
    },
    {
     "name": "stderr",
     "output_type": "stream",
     "text": [
      "\r",
      " 49%|████▉     | 353/720 [00:41<01:14,  4.90it/s]"
     ]
    },
    {
     "name": "stderr",
     "output_type": "stream",
     "text": [
      "\r",
      " 49%|████▉     | 354/720 [00:41<01:09,  5.30it/s]"
     ]
    },
    {
     "name": "stderr",
     "output_type": "stream",
     "text": [
      "\r",
      " 49%|████▉     | 355/720 [00:41<01:07,  5.41it/s]"
     ]
    },
    {
     "name": "stderr",
     "output_type": "stream",
     "text": [
      "\r",
      " 49%|████▉     | 356/720 [00:41<00:59,  6.10it/s]"
     ]
    },
    {
     "name": "stderr",
     "output_type": "stream",
     "text": [
      "\r",
      " 50%|████▉     | 357/720 [00:42<00:57,  6.36it/s]"
     ]
    },
    {
     "name": "stderr",
     "output_type": "stream",
     "text": [
      "\r",
      " 50%|████▉     | 358/720 [00:42<00:57,  6.31it/s]"
     ]
    },
    {
     "name": "stderr",
     "output_type": "stream",
     "text": [
      "\r",
      " 50%|████▉     | 359/720 [00:42<00:53,  6.76it/s]"
     ]
    },
    {
     "name": "stderr",
     "output_type": "stream",
     "text": [
      "\r",
      " 50%|█████     | 360/720 [00:42<00:53,  6.69it/s]"
     ]
    },
    {
     "name": "stderr",
     "output_type": "stream",
     "text": [
      "\r",
      " 50%|█████     | 361/720 [00:42<00:48,  7.39it/s]"
     ]
    },
    {
     "name": "stderr",
     "output_type": "stream",
     "text": [
      "\r",
      " 50%|█████     | 362/720 [00:42<00:46,  7.65it/s]"
     ]
    },
    {
     "name": "stderr",
     "output_type": "stream",
     "text": [
      "\r",
      " 51%|█████     | 364/720 [00:42<00:38,  9.19it/s]"
     ]
    },
    {
     "name": "stderr",
     "output_type": "stream",
     "text": [
      "\r",
      " 51%|█████     | 366/720 [00:43<00:33, 10.47it/s]"
     ]
    },
    {
     "name": "stderr",
     "output_type": "stream",
     "text": [
      "\r",
      " 51%|█████     | 368/720 [00:43<00:30, 11.68it/s]"
     ]
    },
    {
     "name": "stderr",
     "output_type": "stream",
     "text": [
      "\r",
      " 51%|█████▏    | 370/720 [00:43<00:27, 12.84it/s]"
     ]
    },
    {
     "name": "stderr",
     "output_type": "stream",
     "text": [
      "\r",
      " 52%|█████▏    | 372/720 [00:43<00:25, 13.54it/s]"
     ]
    },
    {
     "name": "stderr",
     "output_type": "stream",
     "text": [
      "\r",
      " 52%|█████▏    | 374/720 [00:43<00:24, 14.21it/s]"
     ]
    },
    {
     "name": "stderr",
     "output_type": "stream",
     "text": [
      "\r",
      " 52%|█████▏    | 376/720 [00:43<00:23, 14.64it/s]"
     ]
    },
    {
     "name": "stderr",
     "output_type": "stream",
     "text": [
      "\r",
      " 52%|█████▎    | 378/720 [00:43<00:22, 14.99it/s]"
     ]
    },
    {
     "name": "stderr",
     "output_type": "stream",
     "text": [
      "\r",
      " 53%|█████▎    | 380/720 [00:43<00:22, 15.27it/s]"
     ]
    },
    {
     "name": "stderr",
     "output_type": "stream",
     "text": [
      "\r",
      " 53%|█████▎    | 382/720 [00:44<00:21, 15.82it/s]"
     ]
    },
    {
     "name": "stderr",
     "output_type": "stream",
     "text": [
      "\r",
      " 53%|█████▎    | 384/720 [00:44<00:20, 16.28it/s]"
     ]
    },
    {
     "name": "stderr",
     "output_type": "stream",
     "text": [
      "\r",
      " 54%|█████▎    | 386/720 [00:44<00:20, 16.24it/s]"
     ]
    },
    {
     "name": "stderr",
     "output_type": "stream",
     "text": [
      "\r",
      " 54%|█████▍    | 388/720 [00:44<00:20, 16.25it/s]"
     ]
    },
    {
     "name": "stderr",
     "output_type": "stream",
     "text": [
      "\r",
      " 54%|█████▍    | 390/720 [00:44<00:20, 15.92it/s]"
     ]
    },
    {
     "name": "stderr",
     "output_type": "stream",
     "text": [
      "\r",
      " 54%|█████▍    | 392/720 [00:44<00:20, 16.23it/s]"
     ]
    },
    {
     "name": "stderr",
     "output_type": "stream",
     "text": [
      "\r",
      " 55%|█████▍    | 394/720 [00:44<00:19, 16.67it/s]"
     ]
    },
    {
     "name": "stderr",
     "output_type": "stream",
     "text": [
      "\r",
      " 55%|█████▌    | 396/720 [00:44<00:18, 17.10it/s]"
     ]
    },
    {
     "name": "stderr",
     "output_type": "stream",
     "text": [
      "\r",
      " 55%|█████▌    | 398/720 [00:45<00:18, 17.12it/s]"
     ]
    },
    {
     "name": "stderr",
     "output_type": "stream",
     "text": [
      "\r",
      " 56%|█████▌    | 400/720 [00:45<00:18, 17.17it/s]"
     ]
    },
    {
     "name": "stderr",
     "output_type": "stream",
     "text": [
      "\r",
      " 56%|█████▌    | 402/720 [00:45<00:18, 16.82it/s]"
     ]
    },
    {
     "name": "stderr",
     "output_type": "stream",
     "text": [
      "\r",
      " 56%|█████▌    | 404/720 [00:45<00:18, 17.11it/s]"
     ]
    },
    {
     "name": "stderr",
     "output_type": "stream",
     "text": [
      "\r",
      " 56%|█████▋    | 406/720 [00:45<00:18, 17.11it/s]"
     ]
    },
    {
     "name": "stderr",
     "output_type": "stream",
     "text": [
      "\r",
      " 57%|█████▋    | 408/720 [00:45<00:18, 16.68it/s]"
     ]
    },
    {
     "name": "stderr",
     "output_type": "stream",
     "text": [
      "\r",
      " 57%|█████▋    | 410/720 [00:45<00:19, 16.30it/s]"
     ]
    },
    {
     "name": "stderr",
     "output_type": "stream",
     "text": [
      "\r",
      " 57%|█████▋    | 412/720 [00:45<00:19, 16.18it/s]"
     ]
    },
    {
     "name": "stderr",
     "output_type": "stream",
     "text": [
      "\r",
      " 57%|█████▊    | 414/720 [00:46<00:18, 16.13it/s]"
     ]
    },
    {
     "name": "stderr",
     "output_type": "stream",
     "text": [
      "\r",
      " 58%|█████▊    | 416/720 [00:46<00:18, 16.02it/s]"
     ]
    },
    {
     "name": "stderr",
     "output_type": "stream",
     "text": [
      "\r",
      " 58%|█████▊    | 418/720 [00:46<00:19, 15.78it/s]"
     ]
    },
    {
     "name": "stderr",
     "output_type": "stream",
     "text": [
      "\r",
      " 58%|█████▊    | 420/720 [00:46<00:19, 15.68it/s]"
     ]
    },
    {
     "name": "stderr",
     "output_type": "stream",
     "text": [
      "\r",
      " 59%|█████▊    | 422/720 [00:46<00:19, 15.64it/s]"
     ]
    },
    {
     "name": "stderr",
     "output_type": "stream",
     "text": [
      "\r",
      " 59%|█████▉    | 424/720 [00:46<00:19, 15.35it/s]"
     ]
    },
    {
     "name": "stderr",
     "output_type": "stream",
     "text": [
      "\r",
      " 59%|█████▉    | 426/720 [00:46<00:19, 15.32it/s]"
     ]
    },
    {
     "name": "stderr",
     "output_type": "stream",
     "text": [
      "\r",
      " 59%|█████▉    | 428/720 [00:46<00:18, 15.50it/s]"
     ]
    },
    {
     "name": "stderr",
     "output_type": "stream",
     "text": [
      "\r",
      " 60%|█████▉    | 430/720 [00:47<00:18, 15.66it/s]"
     ]
    },
    {
     "name": "stderr",
     "output_type": "stream",
     "text": [
      "\r",
      " 60%|██████    | 432/720 [00:47<00:18, 15.83it/s]"
     ]
    },
    {
     "name": "stderr",
     "output_type": "stream",
     "text": [
      "\r",
      " 60%|██████    | 434/720 [00:47<00:18, 15.86it/s]"
     ]
    },
    {
     "name": "stderr",
     "output_type": "stream",
     "text": [
      "\r",
      " 61%|██████    | 436/720 [00:47<00:17, 15.81it/s]"
     ]
    },
    {
     "name": "stderr",
     "output_type": "stream",
     "text": [
      "\r",
      " 61%|██████    | 438/720 [00:47<00:18, 15.59it/s]"
     ]
    },
    {
     "name": "stderr",
     "output_type": "stream",
     "text": [
      "\r",
      " 61%|██████    | 440/720 [00:47<00:17, 15.80it/s]"
     ]
    },
    {
     "name": "stderr",
     "output_type": "stream",
     "text": [
      "\r",
      " 61%|██████▏   | 442/720 [00:47<00:17, 15.66it/s]"
     ]
    },
    {
     "name": "stderr",
     "output_type": "stream",
     "text": [
      "\r",
      " 62%|██████▏   | 444/720 [00:47<00:17, 15.63it/s]"
     ]
    },
    {
     "name": "stderr",
     "output_type": "stream",
     "text": [
      "\r",
      " 62%|██████▏   | 446/720 [00:48<00:17, 15.60it/s]"
     ]
    },
    {
     "name": "stderr",
     "output_type": "stream",
     "text": [
      "\r",
      " 62%|██████▏   | 448/720 [00:48<00:17, 15.59it/s]"
     ]
    },
    {
     "name": "stderr",
     "output_type": "stream",
     "text": [
      "\r",
      " 62%|██████▎   | 450/720 [00:48<00:17, 15.40it/s]"
     ]
    },
    {
     "name": "stderr",
     "output_type": "stream",
     "text": [
      "\r",
      " 63%|██████▎   | 452/720 [00:48<00:16, 16.24it/s]"
     ]
    },
    {
     "name": "stderr",
     "output_type": "stream",
     "text": [
      "\r",
      " 63%|██████▎   | 454/720 [00:48<00:15, 16.76it/s]"
     ]
    },
    {
     "name": "stderr",
     "output_type": "stream",
     "text": [
      "\r",
      " 63%|██████▎   | 456/720 [00:48<00:15, 17.20it/s]"
     ]
    },
    {
     "name": "stderr",
     "output_type": "stream",
     "text": [
      "\r",
      " 64%|██████▎   | 458/720 [00:48<00:15, 17.43it/s]"
     ]
    },
    {
     "name": "stderr",
     "output_type": "stream",
     "text": [
      "\r",
      " 64%|██████▍   | 460/720 [00:48<00:14, 17.74it/s]"
     ]
    },
    {
     "name": "stderr",
     "output_type": "stream",
     "text": [
      "\r",
      " 64%|██████▍   | 462/720 [00:48<00:14, 18.18it/s]"
     ]
    },
    {
     "name": "stderr",
     "output_type": "stream",
     "text": [
      "\r",
      " 64%|██████▍   | 464/720 [00:49<00:13, 18.52it/s]"
     ]
    },
    {
     "name": "stderr",
     "output_type": "stream",
     "text": [
      "\r",
      " 65%|██████▍   | 466/720 [00:49<00:13, 18.81it/s]"
     ]
    },
    {
     "name": "stderr",
     "output_type": "stream",
     "text": [
      "\r",
      " 65%|██████▌   | 468/720 [00:49<00:13, 18.90it/s]"
     ]
    },
    {
     "name": "stderr",
     "output_type": "stream",
     "text": [
      "\r",
      " 65%|██████▌   | 470/720 [00:49<00:13, 19.18it/s]"
     ]
    },
    {
     "name": "stderr",
     "output_type": "stream",
     "text": [
      "\r",
      " 66%|██████▌   | 472/720 [00:49<00:12, 19.14it/s]"
     ]
    },
    {
     "name": "stderr",
     "output_type": "stream",
     "text": [
      "\r",
      " 66%|██████▌   | 474/720 [00:49<00:12, 19.14it/s]"
     ]
    },
    {
     "name": "stderr",
     "output_type": "stream",
     "text": [
      "\r",
      " 66%|██████▌   | 476/720 [00:49<00:12, 19.10it/s]"
     ]
    },
    {
     "name": "stderr",
     "output_type": "stream",
     "text": [
      "\r",
      " 66%|██████▋   | 478/720 [00:49<00:12, 19.25it/s]"
     ]
    },
    {
     "name": "stderr",
     "output_type": "stream",
     "text": [
      "\r",
      " 67%|██████▋   | 480/720 [00:49<00:12, 19.38it/s]"
     ]
    },
    {
     "name": "stderr",
     "output_type": "stream",
     "text": [
      "\r",
      " 67%|██████▋   | 482/720 [00:50<00:12, 19.42it/s]"
     ]
    },
    {
     "name": "stderr",
     "output_type": "stream",
     "text": [
      "\r",
      " 67%|██████▋   | 484/720 [00:50<00:12, 18.95it/s]"
     ]
    },
    {
     "name": "stderr",
     "output_type": "stream",
     "text": [
      "\r",
      " 68%|██████▊   | 486/720 [00:50<00:12, 18.98it/s]"
     ]
    },
    {
     "name": "stderr",
     "output_type": "stream",
     "text": [
      "\r",
      " 68%|██████▊   | 488/720 [00:50<00:12, 19.04it/s]"
     ]
    },
    {
     "name": "stderr",
     "output_type": "stream",
     "text": [
      "\r",
      " 68%|██████▊   | 490/720 [00:50<00:12, 18.62it/s]"
     ]
    },
    {
     "name": "stderr",
     "output_type": "stream",
     "text": [
      "\r",
      " 68%|██████▊   | 492/720 [00:50<00:12, 18.62it/s]"
     ]
    },
    {
     "name": "stderr",
     "output_type": "stream",
     "text": [
      "\r",
      " 69%|██████▊   | 494/720 [00:50<00:12, 18.61it/s]"
     ]
    },
    {
     "name": "stderr",
     "output_type": "stream",
     "text": [
      "\r",
      " 69%|██████▉   | 496/720 [00:50<00:12, 18.44it/s]"
     ]
    },
    {
     "name": "stderr",
     "output_type": "stream",
     "text": [
      "\r",
      " 69%|██████▉   | 498/720 [00:50<00:12, 18.10it/s]"
     ]
    },
    {
     "name": "stderr",
     "output_type": "stream",
     "text": [
      "\r",
      " 69%|██████▉   | 500/720 [00:51<00:12, 17.93it/s]"
     ]
    },
    {
     "name": "stderr",
     "output_type": "stream",
     "text": [
      "\r",
      " 70%|██████▉   | 502/720 [00:51<00:12, 17.67it/s]"
     ]
    },
    {
     "name": "stderr",
     "output_type": "stream",
     "text": [
      "\r",
      " 70%|███████   | 504/720 [00:51<00:12, 17.64it/s]"
     ]
    },
    {
     "name": "stderr",
     "output_type": "stream",
     "text": [
      "\r",
      " 70%|███████   | 506/720 [00:51<00:12, 17.39it/s]"
     ]
    },
    {
     "name": "stderr",
     "output_type": "stream",
     "text": [
      "\r",
      " 71%|███████   | 508/720 [00:51<00:12, 17.58it/s]"
     ]
    },
    {
     "name": "stderr",
     "output_type": "stream",
     "text": [
      "\r",
      " 71%|███████   | 510/720 [00:51<00:12, 16.97it/s]"
     ]
    },
    {
     "name": "stderr",
     "output_type": "stream",
     "text": [
      "\r",
      " 71%|███████   | 512/720 [00:51<00:12, 16.36it/s]"
     ]
    },
    {
     "name": "stderr",
     "output_type": "stream",
     "text": [
      "\r",
      " 71%|███████▏  | 514/720 [00:51<00:12, 16.60it/s]"
     ]
    },
    {
     "name": "stderr",
     "output_type": "stream",
     "text": [
      "\r",
      " 72%|███████▏  | 516/720 [00:51<00:12, 16.84it/s]"
     ]
    },
    {
     "name": "stderr",
     "output_type": "stream",
     "text": [
      "\r",
      " 72%|███████▏  | 518/720 [00:52<00:11, 17.10it/s]"
     ]
    },
    {
     "name": "stderr",
     "output_type": "stream",
     "text": [
      "\r",
      " 72%|███████▏  | 520/720 [00:52<00:11, 17.20it/s]"
     ]
    },
    {
     "name": "stderr",
     "output_type": "stream",
     "text": [
      "\r",
      " 72%|███████▎  | 522/720 [00:52<00:11, 17.53it/s]"
     ]
    },
    {
     "name": "stderr",
     "output_type": "stream",
     "text": [
      "\r",
      " 73%|███████▎  | 524/720 [00:52<00:10, 17.85it/s]"
     ]
    },
    {
     "name": "stderr",
     "output_type": "stream",
     "text": [
      "\r",
      " 73%|███████▎  | 526/720 [00:52<00:10, 17.92it/s]"
     ]
    },
    {
     "name": "stderr",
     "output_type": "stream",
     "text": [
      "\r",
      " 73%|███████▎  | 528/720 [00:52<00:10, 17.94it/s]"
     ]
    },
    {
     "name": "stderr",
     "output_type": "stream",
     "text": [
      "\r",
      " 74%|███████▎  | 530/720 [00:52<00:10, 17.65it/s]"
     ]
    },
    {
     "name": "stderr",
     "output_type": "stream",
     "text": [
      "\r",
      " 74%|███████▍  | 532/720 [00:52<00:10, 17.83it/s]"
     ]
    },
    {
     "name": "stderr",
     "output_type": "stream",
     "text": [
      "\r",
      " 74%|███████▍  | 534/720 [00:52<00:10, 17.95it/s]"
     ]
    },
    {
     "name": "stderr",
     "output_type": "stream",
     "text": [
      "\r",
      " 74%|███████▍  | 536/720 [00:53<00:10, 17.62it/s]"
     ]
    },
    {
     "name": "stderr",
     "output_type": "stream",
     "text": [
      "\r",
      " 75%|███████▍  | 538/720 [00:53<00:10, 17.30it/s]"
     ]
    },
    {
     "name": "stderr",
     "output_type": "stream",
     "text": [
      "\r",
      " 75%|███████▌  | 540/720 [00:53<00:10, 17.07it/s]"
     ]
    },
    {
     "name": "stderr",
     "output_type": "stream",
     "text": [
      "\r",
      " 75%|███████▌  | 542/720 [00:53<00:10, 16.28it/s]"
     ]
    },
    {
     "name": "stderr",
     "output_type": "stream",
     "text": [
      "\r",
      " 76%|███████▌  | 544/720 [00:53<00:10, 16.40it/s]"
     ]
    },
    {
     "name": "stderr",
     "output_type": "stream",
     "text": [
      "\r",
      " 76%|███████▌  | 546/720 [00:53<00:10, 16.46it/s]"
     ]
    },
    {
     "name": "stderr",
     "output_type": "stream",
     "text": [
      "\r",
      " 76%|███████▌  | 548/720 [00:53<00:10, 16.60it/s]"
     ]
    },
    {
     "name": "stderr",
     "output_type": "stream",
     "text": [
      "\r",
      " 76%|███████▋  | 550/720 [00:53<00:10, 16.22it/s]"
     ]
    },
    {
     "name": "stderr",
     "output_type": "stream",
     "text": [
      "\r",
      " 77%|███████▋  | 552/720 [00:54<00:11, 15.03it/s]"
     ]
    },
    {
     "name": "stderr",
     "output_type": "stream",
     "text": [
      "\r",
      " 77%|███████▋  | 554/720 [00:54<00:10, 15.31it/s]"
     ]
    },
    {
     "name": "stderr",
     "output_type": "stream",
     "text": [
      "\r",
      " 77%|███████▋  | 556/720 [00:54<00:10, 15.44it/s]"
     ]
    },
    {
     "name": "stderr",
     "output_type": "stream",
     "text": [
      "\r",
      " 78%|███████▊  | 558/720 [00:54<00:10, 15.63it/s]"
     ]
    },
    {
     "name": "stderr",
     "output_type": "stream",
     "text": [
      "\r",
      " 78%|███████▊  | 560/720 [00:54<00:10, 15.67it/s]"
     ]
    },
    {
     "name": "stderr",
     "output_type": "stream",
     "text": [
      "\r",
      " 78%|███████▊  | 562/720 [00:54<00:09, 15.83it/s]"
     ]
    },
    {
     "name": "stderr",
     "output_type": "stream",
     "text": [
      "\r",
      " 78%|███████▊  | 564/720 [00:54<00:09, 15.83it/s]"
     ]
    },
    {
     "name": "stderr",
     "output_type": "stream",
     "text": [
      "\r",
      " 79%|███████▊  | 566/720 [00:54<00:09, 15.96it/s]"
     ]
    },
    {
     "name": "stderr",
     "output_type": "stream",
     "text": [
      "\r",
      " 79%|███████▉  | 568/720 [00:55<00:09, 16.00it/s]"
     ]
    },
    {
     "name": "stderr",
     "output_type": "stream",
     "text": [
      "\r",
      " 79%|███████▉  | 570/720 [00:55<00:09, 16.15it/s]"
     ]
    },
    {
     "name": "stderr",
     "output_type": "stream",
     "text": [
      "\r",
      " 79%|███████▉  | 572/720 [00:55<00:09, 16.17it/s]"
     ]
    },
    {
     "name": "stderr",
     "output_type": "stream",
     "text": [
      "\r",
      " 80%|███████▉  | 574/720 [00:55<00:09, 16.12it/s]"
     ]
    },
    {
     "name": "stderr",
     "output_type": "stream",
     "text": [
      "\r",
      " 80%|████████  | 576/720 [00:55<00:09, 15.93it/s]"
     ]
    },
    {
     "name": "stderr",
     "output_type": "stream",
     "text": [
      "\r",
      " 80%|████████  | 578/720 [00:55<00:08, 15.92it/s]"
     ]
    },
    {
     "name": "stderr",
     "output_type": "stream",
     "text": [
      "\r",
      " 81%|████████  | 580/720 [00:55<00:08, 16.01it/s]"
     ]
    },
    {
     "name": "stderr",
     "output_type": "stream",
     "text": [
      "\r",
      " 81%|████████  | 582/720 [00:55<00:08, 16.18it/s]"
     ]
    },
    {
     "name": "stderr",
     "output_type": "stream",
     "text": [
      "\r",
      " 81%|████████  | 584/720 [00:56<00:08, 16.03it/s]"
     ]
    },
    {
     "name": "stderr",
     "output_type": "stream",
     "text": [
      "\r",
      " 81%|████████▏ | 586/720 [00:56<00:09, 14.38it/s]"
     ]
    },
    {
     "name": "stderr",
     "output_type": "stream",
     "text": [
      "\r",
      " 82%|████████▏ | 588/720 [00:56<00:12, 10.50it/s]"
     ]
    },
    {
     "name": "stderr",
     "output_type": "stream",
     "text": [
      "\r",
      " 82%|████████▏ | 590/720 [00:56<00:15,  8.49it/s]"
     ]
    },
    {
     "name": "stderr",
     "output_type": "stream",
     "text": [
      "\r",
      " 82%|████████▏ | 592/720 [00:57<00:15,  8.15it/s]"
     ]
    },
    {
     "name": "stderr",
     "output_type": "stream",
     "text": [
      "\r",
      " 82%|████████▏ | 593/720 [00:57<00:15,  8.14it/s]"
     ]
    },
    {
     "name": "stderr",
     "output_type": "stream",
     "text": [
      "\r",
      " 82%|████████▎ | 594/720 [00:57<00:16,  7.48it/s]"
     ]
    },
    {
     "name": "stderr",
     "output_type": "stream",
     "text": [
      "\r",
      " 83%|████████▎ | 595/720 [00:57<00:15,  7.85it/s]"
     ]
    },
    {
     "name": "stderr",
     "output_type": "stream",
     "text": [
      "\r",
      " 83%|████████▎ | 596/720 [00:57<00:15,  8.03it/s]"
     ]
    },
    {
     "name": "stderr",
     "output_type": "stream",
     "text": [
      "\r",
      " 83%|████████▎ | 597/720 [00:57<00:15,  7.91it/s]"
     ]
    },
    {
     "name": "stderr",
     "output_type": "stream",
     "text": [
      "\r",
      " 83%|████████▎ | 598/720 [00:58<00:17,  6.83it/s]"
     ]
    },
    {
     "name": "stderr",
     "output_type": "stream",
     "text": [
      "\r",
      " 83%|████████▎ | 599/720 [00:58<00:17,  6.87it/s]"
     ]
    },
    {
     "name": "stderr",
     "output_type": "stream",
     "text": [
      "\r",
      " 83%|████████▎ | 600/720 [00:58<00:16,  7.25it/s]"
     ]
    },
    {
     "name": "stderr",
     "output_type": "stream",
     "text": [
      "\r",
      " 83%|████████▎ | 601/720 [00:58<00:16,  7.28it/s]"
     ]
    },
    {
     "name": "stderr",
     "output_type": "stream",
     "text": [
      "\r",
      " 84%|████████▍ | 603/720 [00:58<00:14,  8.26it/s]"
     ]
    },
    {
     "name": "stderr",
     "output_type": "stream",
     "text": [
      "\r",
      " 84%|████████▍ | 604/720 [00:58<00:13,  8.31it/s]"
     ]
    },
    {
     "name": "stderr",
     "output_type": "stream",
     "text": [
      "\r",
      " 84%|████████▍ | 605/720 [00:58<00:13,  8.58it/s]"
     ]
    },
    {
     "name": "stderr",
     "output_type": "stream",
     "text": [
      "\r",
      " 84%|████████▍ | 606/720 [00:58<00:13,  8.53it/s]"
     ]
    },
    {
     "name": "stderr",
     "output_type": "stream",
     "text": [
      "\r",
      " 84%|████████▍ | 607/720 [00:59<00:14,  7.96it/s]"
     ]
    },
    {
     "name": "stderr",
     "output_type": "stream",
     "text": [
      "\r",
      " 84%|████████▍ | 608/720 [00:59<00:13,  8.26it/s]"
     ]
    },
    {
     "name": "stderr",
     "output_type": "stream",
     "text": [
      "\r",
      " 85%|████████▍ | 609/720 [00:59<00:15,  7.39it/s]"
     ]
    },
    {
     "name": "stderr",
     "output_type": "stream",
     "text": [
      "\r",
      " 85%|████████▍ | 610/720 [00:59<00:15,  7.29it/s]"
     ]
    },
    {
     "name": "stderr",
     "output_type": "stream",
     "text": [
      "\r",
      " 85%|████████▍ | 611/720 [00:59<00:15,  7.19it/s]"
     ]
    },
    {
     "name": "stderr",
     "output_type": "stream",
     "text": [
      "\r",
      " 85%|████████▌ | 612/720 [00:59<00:15,  6.90it/s]"
     ]
    },
    {
     "name": "stderr",
     "output_type": "stream",
     "text": [
      "\r",
      " 85%|████████▌ | 613/720 [00:59<00:15,  7.10it/s]"
     ]
    },
    {
     "name": "stderr",
     "output_type": "stream",
     "text": [
      "\r",
      " 85%|████████▌ | 614/720 [01:00<00:14,  7.37it/s]"
     ]
    },
    {
     "name": "stderr",
     "output_type": "stream",
     "text": [
      "\r",
      " 85%|████████▌ | 615/720 [01:00<00:14,  7.46it/s]"
     ]
    },
    {
     "name": "stderr",
     "output_type": "stream",
     "text": [
      "\r",
      " 86%|████████▌ | 617/720 [01:00<00:12,  8.11it/s]"
     ]
    },
    {
     "name": "stderr",
     "output_type": "stream",
     "text": [
      "\r",
      " 86%|████████▌ | 618/720 [01:00<00:12,  8.22it/s]"
     ]
    },
    {
     "name": "stderr",
     "output_type": "stream",
     "text": [
      "\r",
      " 86%|████████▌ | 619/720 [01:00<00:12,  8.33it/s]"
     ]
    },
    {
     "name": "stderr",
     "output_type": "stream",
     "text": [
      "\r",
      " 86%|████████▋ | 621/720 [01:00<00:11,  8.70it/s]"
     ]
    },
    {
     "name": "stderr",
     "output_type": "stream",
     "text": [
      "\r",
      " 86%|████████▋ | 622/720 [01:01<00:11,  8.22it/s]"
     ]
    },
    {
     "name": "stderr",
     "output_type": "stream",
     "text": [
      "\r",
      " 87%|████████▋ | 623/720 [01:01<00:13,  7.32it/s]"
     ]
    },
    {
     "name": "stderr",
     "output_type": "stream",
     "text": [
      "\r",
      " 87%|████████▋ | 624/720 [01:01<00:13,  7.12it/s]"
     ]
    },
    {
     "name": "stderr",
     "output_type": "stream",
     "text": [
      "\r",
      " 87%|████████▋ | 625/720 [01:01<00:12,  7.35it/s]"
     ]
    },
    {
     "name": "stderr",
     "output_type": "stream",
     "text": [
      "\r",
      " 87%|████████▋ | 626/720 [01:01<00:13,  7.14it/s]"
     ]
    },
    {
     "name": "stderr",
     "output_type": "stream",
     "text": [
      "\r",
      " 87%|████████▋ | 627/720 [01:01<00:13,  6.87it/s]"
     ]
    },
    {
     "name": "stderr",
     "output_type": "stream",
     "text": [
      "\r",
      " 87%|████████▋ | 628/720 [01:01<00:12,  7.33it/s]"
     ]
    },
    {
     "name": "stderr",
     "output_type": "stream",
     "text": [
      "\r",
      " 87%|████████▋ | 629/720 [01:02<00:12,  7.29it/s]"
     ]
    },
    {
     "name": "stderr",
     "output_type": "stream",
     "text": [
      "\r",
      " 88%|████████▊ | 630/720 [01:02<00:12,  6.99it/s]"
     ]
    },
    {
     "name": "stderr",
     "output_type": "stream",
     "text": [
      "\r",
      " 88%|████████▊ | 631/720 [01:02<00:12,  6.90it/s]"
     ]
    },
    {
     "name": "stderr",
     "output_type": "stream",
     "text": [
      "\r",
      " 88%|████████▊ | 632/720 [01:02<00:14,  6.15it/s]"
     ]
    },
    {
     "name": "stderr",
     "output_type": "stream",
     "text": [
      "\r",
      " 88%|████████▊ | 633/720 [01:02<00:13,  6.23it/s]"
     ]
    },
    {
     "name": "stderr",
     "output_type": "stream",
     "text": [
      "\r",
      " 88%|████████▊ | 634/720 [01:02<00:13,  6.35it/s]"
     ]
    },
    {
     "name": "stderr",
     "output_type": "stream",
     "text": [
      "\r",
      " 88%|████████▊ | 635/720 [01:03<00:12,  6.85it/s]"
     ]
    },
    {
     "name": "stderr",
     "output_type": "stream",
     "text": [
      "\r",
      " 88%|████████▊ | 636/720 [01:03<00:12,  6.85it/s]"
     ]
    },
    {
     "name": "stderr",
     "output_type": "stream",
     "text": [
      "\r",
      " 88%|████████▊ | 637/720 [01:03<00:12,  6.73it/s]"
     ]
    },
    {
     "name": "stderr",
     "output_type": "stream",
     "text": [
      "\r",
      " 89%|████████▊ | 638/720 [01:03<00:13,  6.07it/s]"
     ]
    },
    {
     "name": "stderr",
     "output_type": "stream",
     "text": [
      "\r",
      " 89%|████████▉ | 639/720 [01:03<00:12,  6.52it/s]"
     ]
    },
    {
     "name": "stderr",
     "output_type": "stream",
     "text": [
      "\r",
      " 89%|████████▉ | 640/720 [01:03<00:11,  6.90it/s]"
     ]
    },
    {
     "name": "stderr",
     "output_type": "stream",
     "text": [
      "\r",
      " 89%|████████▉ | 641/720 [01:03<00:11,  6.81it/s]"
     ]
    },
    {
     "name": "stderr",
     "output_type": "stream",
     "text": [
      "\r",
      " 89%|████████▉ | 642/720 [01:04<00:10,  7.12it/s]"
     ]
    },
    {
     "name": "stderr",
     "output_type": "stream",
     "text": [
      "\r",
      " 89%|████████▉ | 643/720 [01:04<00:11,  6.97it/s]"
     ]
    },
    {
     "name": "stderr",
     "output_type": "stream",
     "text": [
      "\r",
      " 89%|████████▉ | 644/720 [01:04<00:10,  7.06it/s]"
     ]
    },
    {
     "name": "stderr",
     "output_type": "stream",
     "text": [
      "\r",
      " 90%|████████▉ | 645/720 [01:04<00:10,  6.85it/s]"
     ]
    },
    {
     "name": "stderr",
     "output_type": "stream",
     "text": [
      "\r",
      " 90%|████████▉ | 646/720 [01:04<00:18,  4.08it/s]"
     ]
    },
    {
     "name": "stderr",
     "output_type": "stream",
     "text": [
      "\r",
      " 90%|████████▉ | 647/720 [01:05<00:15,  4.79it/s]"
     ]
    },
    {
     "name": "stderr",
     "output_type": "stream",
     "text": [
      "\r",
      " 90%|█████████ | 648/720 [01:05<00:13,  5.40it/s]"
     ]
    },
    {
     "name": "stderr",
     "output_type": "stream",
     "text": [
      "\r",
      " 90%|█████████ | 649/720 [01:05<00:15,  4.71it/s]"
     ]
    },
    {
     "name": "stderr",
     "output_type": "stream",
     "text": [
      "\r",
      " 90%|█████████ | 650/720 [01:05<00:12,  5.42it/s]"
     ]
    },
    {
     "name": "stderr",
     "output_type": "stream",
     "text": [
      "\r",
      " 91%|█████████ | 652/720 [01:05<00:09,  6.82it/s]"
     ]
    },
    {
     "name": "stderr",
     "output_type": "stream",
     "text": [
      "\r",
      " 91%|█████████ | 653/720 [01:06<00:13,  5.09it/s]"
     ]
    },
    {
     "name": "stderr",
     "output_type": "stream",
     "text": [
      "\r",
      " 91%|█████████ | 654/720 [01:06<00:13,  4.81it/s]"
     ]
    },
    {
     "name": "stderr",
     "output_type": "stream",
     "text": [
      "\r",
      " 91%|█████████ | 655/720 [01:06<00:13,  4.80it/s]"
     ]
    },
    {
     "name": "stderr",
     "output_type": "stream",
     "text": [
      "\r",
      " 91%|█████████ | 656/720 [01:06<00:12,  5.00it/s]"
     ]
    },
    {
     "name": "stderr",
     "output_type": "stream",
     "text": [
      "\r",
      " 91%|█████████▏| 657/720 [01:06<00:11,  5.58it/s]"
     ]
    },
    {
     "name": "stderr",
     "output_type": "stream",
     "text": [
      "\r",
      " 91%|█████████▏| 658/720 [01:07<00:10,  5.93it/s]"
     ]
    },
    {
     "name": "stderr",
     "output_type": "stream",
     "text": [
      "\r",
      " 92%|█████████▏| 659/720 [01:07<00:09,  6.18it/s]"
     ]
    },
    {
     "name": "stderr",
     "output_type": "stream",
     "text": [
      "\r",
      " 92%|█████████▏| 660/720 [01:07<00:10,  5.89it/s]"
     ]
    },
    {
     "name": "stderr",
     "output_type": "stream",
     "text": [
      "\r",
      " 92%|█████████▏| 661/720 [01:07<00:11,  5.19it/s]"
     ]
    },
    {
     "name": "stderr",
     "output_type": "stream",
     "text": [
      "\r",
      " 92%|█████████▏| 662/720 [01:07<00:10,  5.58it/s]"
     ]
    },
    {
     "name": "stderr",
     "output_type": "stream",
     "text": [
      "\r",
      " 92%|█████████▏| 663/720 [01:08<00:11,  4.77it/s]"
     ]
    },
    {
     "name": "stderr",
     "output_type": "stream",
     "text": [
      "\r",
      " 92%|█████████▏| 664/720 [01:08<00:10,  5.42it/s]"
     ]
    },
    {
     "name": "stderr",
     "output_type": "stream",
     "text": [
      "\r",
      " 92%|█████████▏| 665/720 [01:08<00:09,  5.95it/s]"
     ]
    },
    {
     "name": "stderr",
     "output_type": "stream",
     "text": [
      "\r",
      " 92%|█████████▎| 666/720 [01:08<00:08,  6.14it/s]"
     ]
    },
    {
     "name": "stderr",
     "output_type": "stream",
     "text": [
      "\r",
      " 93%|█████████▎| 667/720 [01:08<00:08,  6.22it/s]"
     ]
    },
    {
     "name": "stderr",
     "output_type": "stream",
     "text": [
      "\r",
      " 93%|█████████▎| 668/720 [01:08<00:07,  6.59it/s]"
     ]
    },
    {
     "name": "stderr",
     "output_type": "stream",
     "text": [
      "\r",
      " 93%|█████████▎| 669/720 [01:08<00:07,  6.92it/s]"
     ]
    },
    {
     "name": "stderr",
     "output_type": "stream",
     "text": [
      "\r",
      " 93%|█████████▎| 670/720 [01:09<00:07,  7.08it/s]"
     ]
    },
    {
     "name": "stderr",
     "output_type": "stream",
     "text": [
      "\r",
      " 93%|█████████▎| 671/720 [01:09<00:07,  6.85it/s]"
     ]
    },
    {
     "name": "stderr",
     "output_type": "stream",
     "text": [
      "\r",
      " 93%|█████████▎| 672/720 [01:09<00:08,  5.60it/s]"
     ]
    },
    {
     "name": "stderr",
     "output_type": "stream",
     "text": [
      "\r",
      " 93%|█████████▎| 673/720 [01:09<00:07,  5.89it/s]"
     ]
    },
    {
     "name": "stderr",
     "output_type": "stream",
     "text": [
      "\r",
      " 94%|█████████▎| 674/720 [01:09<00:07,  5.77it/s]"
     ]
    },
    {
     "name": "stderr",
     "output_type": "stream",
     "text": [
      "\r",
      " 94%|█████████▍| 675/720 [01:09<00:07,  6.13it/s]"
     ]
    },
    {
     "name": "stderr",
     "output_type": "stream",
     "text": [
      "\r",
      " 94%|█████████▍| 676/720 [01:10<00:07,  5.90it/s]"
     ]
    },
    {
     "name": "stderr",
     "output_type": "stream",
     "text": [
      "\r",
      " 94%|█████████▍| 677/720 [01:10<00:07,  5.71it/s]"
     ]
    },
    {
     "name": "stderr",
     "output_type": "stream",
     "text": [
      "\r",
      " 94%|█████████▍| 678/720 [01:10<00:06,  6.03it/s]"
     ]
    },
    {
     "name": "stderr",
     "output_type": "stream",
     "text": [
      "\r",
      " 94%|█████████▍| 679/720 [01:10<00:07,  5.59it/s]"
     ]
    },
    {
     "name": "stderr",
     "output_type": "stream",
     "text": [
      "\r",
      " 94%|█████████▍| 680/720 [01:11<00:13,  2.95it/s]"
     ]
    },
    {
     "name": "stderr",
     "output_type": "stream",
     "text": [
      "\r",
      " 95%|█████████▍| 681/720 [01:11<00:11,  3.36it/s]"
     ]
    },
    {
     "name": "stderr",
     "output_type": "stream",
     "text": [
      "\r",
      " 95%|█████████▍| 682/720 [01:11<00:09,  4.04it/s]"
     ]
    },
    {
     "name": "stderr",
     "output_type": "stream",
     "text": [
      "\r",
      " 95%|█████████▍| 683/720 [01:11<00:08,  4.58it/s]"
     ]
    },
    {
     "name": "stderr",
     "output_type": "stream",
     "text": [
      "\r",
      " 95%|█████████▌| 684/720 [01:11<00:07,  5.08it/s]"
     ]
    },
    {
     "name": "stderr",
     "output_type": "stream",
     "text": [
      "\r",
      " 95%|█████████▌| 685/720 [01:12<00:06,  5.42it/s]"
     ]
    },
    {
     "name": "stderr",
     "output_type": "stream",
     "text": [
      "\r",
      " 95%|█████████▌| 686/720 [01:12<00:06,  5.64it/s]"
     ]
    },
    {
     "name": "stderr",
     "output_type": "stream",
     "text": [
      "\r",
      " 95%|█████████▌| 687/720 [01:12<00:06,  5.25it/s]"
     ]
    },
    {
     "name": "stderr",
     "output_type": "stream",
     "text": [
      "\r",
      " 96%|█████████▌| 688/720 [01:12<00:06,  5.07it/s]"
     ]
    },
    {
     "name": "stderr",
     "output_type": "stream",
     "text": [
      "\r",
      " 96%|█████████▌| 689/720 [01:12<00:05,  5.44it/s]"
     ]
    },
    {
     "name": "stderr",
     "output_type": "stream",
     "text": [
      "\r",
      " 96%|█████████▌| 690/720 [01:13<00:05,  5.65it/s]"
     ]
    },
    {
     "name": "stderr",
     "output_type": "stream",
     "text": [
      "\r",
      " 96%|█████████▌| 691/720 [01:13<00:04,  6.28it/s]"
     ]
    },
    {
     "name": "stderr",
     "output_type": "stream",
     "text": [
      "\r",
      " 96%|█████████▌| 692/720 [01:13<00:04,  6.52it/s]"
     ]
    },
    {
     "name": "stderr",
     "output_type": "stream",
     "text": [
      "\r",
      " 96%|█████████▋| 693/720 [01:13<00:03,  6.87it/s]"
     ]
    },
    {
     "name": "stderr",
     "output_type": "stream",
     "text": [
      "\r",
      " 96%|█████████▋| 694/720 [01:13<00:03,  7.14it/s]"
     ]
    },
    {
     "name": "stderr",
     "output_type": "stream",
     "text": [
      "\r",
      " 97%|█████████▋| 695/720 [01:13<00:03,  7.42it/s]"
     ]
    },
    {
     "name": "stderr",
     "output_type": "stream",
     "text": [
      "\r",
      " 97%|█████████▋| 696/720 [01:13<00:03,  7.52it/s]"
     ]
    },
    {
     "name": "stderr",
     "output_type": "stream",
     "text": [
      "\r",
      " 97%|█████████▋| 697/720 [01:13<00:02,  7.95it/s]"
     ]
    },
    {
     "name": "stderr",
     "output_type": "stream",
     "text": [
      "\r",
      " 97%|█████████▋| 699/720 [01:14<00:02,  8.42it/s]"
     ]
    },
    {
     "name": "stderr",
     "output_type": "stream",
     "text": [
      "\r",
      " 97%|█████████▋| 700/720 [01:14<00:02,  8.28it/s]"
     ]
    },
    {
     "name": "stderr",
     "output_type": "stream",
     "text": [
      "\r",
      " 97%|█████████▋| 701/720 [01:14<00:02,  7.47it/s]"
     ]
    },
    {
     "name": "stderr",
     "output_type": "stream",
     "text": [
      "\r",
      " 98%|█████████▊| 702/720 [01:14<00:02,  7.02it/s]"
     ]
    },
    {
     "name": "stderr",
     "output_type": "stream",
     "text": [
      "\r",
      " 98%|█████████▊| 703/720 [01:14<00:02,  6.67it/s]"
     ]
    },
    {
     "name": "stderr",
     "output_type": "stream",
     "text": [
      "\r",
      " 98%|█████████▊| 704/720 [01:14<00:02,  5.72it/s]"
     ]
    },
    {
     "name": "stderr",
     "output_type": "stream",
     "text": [
      "\r",
      " 98%|█████████▊| 705/720 [01:15<00:02,  6.15it/s]"
     ]
    },
    {
     "name": "stderr",
     "output_type": "stream",
     "text": [
      "\r",
      " 98%|█████████▊| 706/720 [01:15<00:02,  6.28it/s]"
     ]
    },
    {
     "name": "stderr",
     "output_type": "stream",
     "text": [
      "\r",
      " 98%|█████████▊| 707/720 [01:15<00:02,  6.41it/s]"
     ]
    },
    {
     "name": "stderr",
     "output_type": "stream",
     "text": [
      "\r",
      " 98%|█████████▊| 708/720 [01:15<00:02,  5.38it/s]"
     ]
    },
    {
     "name": "stderr",
     "output_type": "stream",
     "text": [
      "\r",
      " 98%|█████████▊| 709/720 [01:15<00:01,  5.90it/s]"
     ]
    },
    {
     "name": "stderr",
     "output_type": "stream",
     "text": [
      "\r",
      " 99%|█████████▊| 710/720 [01:15<00:01,  6.15it/s]"
     ]
    },
    {
     "name": "stderr",
     "output_type": "stream",
     "text": [
      "\r",
      " 99%|█████████▉| 711/720 [01:16<00:01,  6.07it/s]"
     ]
    },
    {
     "name": "stderr",
     "output_type": "stream",
     "text": [
      "\r",
      " 99%|█████████▉| 712/720 [01:16<00:01,  5.70it/s]"
     ]
    },
    {
     "name": "stderr",
     "output_type": "stream",
     "text": [
      "\r",
      " 99%|█████████▉| 713/720 [01:16<00:01,  5.75it/s]"
     ]
    },
    {
     "name": "stderr",
     "output_type": "stream",
     "text": [
      "\r",
      " 99%|█████████▉| 714/720 [01:16<00:01,  5.94it/s]"
     ]
    },
    {
     "name": "stderr",
     "output_type": "stream",
     "text": [
      "\r",
      " 99%|█████████▉| 715/720 [01:16<00:00,  6.28it/s]"
     ]
    },
    {
     "name": "stderr",
     "output_type": "stream",
     "text": [
      "\r",
      " 99%|█████████▉| 716/720 [01:16<00:00,  6.60it/s]"
     ]
    },
    {
     "name": "stderr",
     "output_type": "stream",
     "text": [
      "\r",
      "100%|█████████▉| 717/720 [01:17<00:00,  7.06it/s]"
     ]
    },
    {
     "name": "stderr",
     "output_type": "stream",
     "text": [
      "\r",
      "100%|█████████▉| 718/720 [01:17<00:00,  7.05it/s]"
     ]
    },
    {
     "name": "stderr",
     "output_type": "stream",
     "text": [
      "\r",
      "100%|█████████▉| 719/720 [01:17<00:00,  7.43it/s]"
     ]
    },
    {
     "name": "stderr",
     "output_type": "stream",
     "text": [
      "\r",
      "100%|██████████| 720/720 [01:17<00:00,  7.40it/s]"
     ]
    },
    {
     "name": "stderr",
     "output_type": "stream",
     "text": [
      "\r",
      "100%|██████████| 720/720 [01:17<00:00,  9.30it/s]"
     ]
    },
    {
     "name": "stderr",
     "output_type": "stream",
     "text": [
      "\n"
     ]
    },
    {
     "name": "stderr",
     "output_type": "stream",
     "text": [
      "\r",
      "  0%|          | 0/720 [00:00<?, ?it/s]"
     ]
    },
    {
     "name": "stderr",
     "output_type": "stream",
     "text": [
      "\r",
      "  0%|          | 1/720 [00:00<01:48,  6.61it/s]"
     ]
    },
    {
     "name": "stderr",
     "output_type": "stream",
     "text": [
      "\r",
      "  0%|          | 2/720 [00:00<01:49,  6.54it/s]"
     ]
    },
    {
     "name": "stderr",
     "output_type": "stream",
     "text": [
      "\r",
      "  0%|          | 3/720 [00:00<01:39,  7.20it/s]"
     ]
    },
    {
     "name": "stderr",
     "output_type": "stream",
     "text": [
      "\r",
      "  1%|          | 4/720 [00:00<01:33,  7.68it/s]"
     ]
    },
    {
     "name": "stderr",
     "output_type": "stream",
     "text": [
      "\r",
      "  1%|          | 5/720 [00:00<01:29,  8.00it/s]"
     ]
    },
    {
     "name": "stderr",
     "output_type": "stream",
     "text": [
      "\r",
      "  1%|          | 6/720 [00:00<01:27,  8.15it/s]"
     ]
    },
    {
     "name": "stderr",
     "output_type": "stream",
     "text": [
      "\r",
      "  1%|          | 7/720 [00:01<02:05,  5.69it/s]"
     ]
    },
    {
     "name": "stderr",
     "output_type": "stream",
     "text": [
      "\r",
      "  1%|          | 8/720 [00:01<01:52,  6.34it/s]"
     ]
    },
    {
     "name": "stderr",
     "output_type": "stream",
     "text": [
      "\r",
      "  1%|▏         | 9/720 [00:01<01:42,  6.96it/s]"
     ]
    },
    {
     "name": "stderr",
     "output_type": "stream",
     "text": [
      "\r",
      "  1%|▏         | 10/720 [00:01<01:37,  7.27it/s]"
     ]
    },
    {
     "name": "stderr",
     "output_type": "stream",
     "text": [
      "\r",
      "  2%|▏         | 11/720 [00:01<01:35,  7.41it/s]"
     ]
    },
    {
     "name": "stderr",
     "output_type": "stream",
     "text": [
      "\r",
      "  2%|▏         | 12/720 [00:01<01:34,  7.49it/s]"
     ]
    },
    {
     "name": "stderr",
     "output_type": "stream",
     "text": [
      "\r",
      "  2%|▏         | 13/720 [00:01<01:32,  7.65it/s]"
     ]
    },
    {
     "name": "stderr",
     "output_type": "stream",
     "text": [
      "\r",
      "  2%|▏         | 14/720 [00:01<01:29,  7.92it/s]"
     ]
    },
    {
     "name": "stderr",
     "output_type": "stream",
     "text": [
      "\r",
      "  2%|▏         | 15/720 [00:02<01:27,  8.09it/s]"
     ]
    },
    {
     "name": "stderr",
     "output_type": "stream",
     "text": [
      "\r",
      "  2%|▏         | 16/720 [00:02<01:25,  8.28it/s]"
     ]
    },
    {
     "name": "stderr",
     "output_type": "stream",
     "text": [
      "\r",
      "  2%|▏         | 17/720 [00:02<01:23,  8.42it/s]"
     ]
    },
    {
     "name": "stderr",
     "output_type": "stream",
     "text": [
      "\r",
      "  2%|▎         | 18/720 [00:02<01:23,  8.40it/s]"
     ]
    },
    {
     "name": "stderr",
     "output_type": "stream",
     "text": [
      "\r",
      "  3%|▎         | 19/720 [00:02<01:23,  8.41it/s]"
     ]
    },
    {
     "name": "stderr",
     "output_type": "stream",
     "text": [
      "\r",
      "  3%|▎         | 20/720 [00:02<01:22,  8.48it/s]"
     ]
    },
    {
     "name": "stderr",
     "output_type": "stream",
     "text": [
      "\r",
      "  3%|▎         | 21/720 [00:02<01:22,  8.51it/s]"
     ]
    },
    {
     "name": "stderr",
     "output_type": "stream",
     "text": [
      "\r",
      "  3%|▎         | 22/720 [00:02<01:22,  8.48it/s]"
     ]
    },
    {
     "name": "stderr",
     "output_type": "stream",
     "text": [
      "\r",
      "  3%|▎         | 23/720 [00:03<01:43,  6.71it/s]"
     ]
    },
    {
     "name": "stderr",
     "output_type": "stream",
     "text": [
      "\r",
      "  3%|▎         | 24/720 [00:03<01:37,  7.16it/s]"
     ]
    },
    {
     "name": "stderr",
     "output_type": "stream",
     "text": [
      "\r",
      "  3%|▎         | 25/720 [00:03<01:31,  7.56it/s]"
     ]
    },
    {
     "name": "stderr",
     "output_type": "stream",
     "text": [
      "\r",
      "  4%|▎         | 26/720 [00:03<01:28,  7.86it/s]"
     ]
    },
    {
     "name": "stderr",
     "output_type": "stream",
     "text": [
      "\r",
      "  4%|▍         | 27/720 [00:03<01:26,  8.04it/s]"
     ]
    },
    {
     "name": "stderr",
     "output_type": "stream",
     "text": [
      "\r",
      "  4%|▍         | 28/720 [00:03<01:23,  8.29it/s]"
     ]
    },
    {
     "name": "stderr",
     "output_type": "stream",
     "text": [
      "\r",
      "  4%|▍         | 29/720 [00:03<01:24,  8.17it/s]"
     ]
    },
    {
     "name": "stderr",
     "output_type": "stream",
     "text": [
      "\r",
      "  4%|▍         | 30/720 [00:03<01:24,  8.18it/s]"
     ]
    },
    {
     "name": "stderr",
     "output_type": "stream",
     "text": [
      "\r",
      "  4%|▍         | 31/720 [00:04<01:37,  7.04it/s]"
     ]
    },
    {
     "name": "stderr",
     "output_type": "stream",
     "text": [
      "\r",
      "  4%|▍         | 32/720 [00:04<02:09,  5.33it/s]"
     ]
    },
    {
     "name": "stderr",
     "output_type": "stream",
     "text": [
      "\r",
      "  5%|▍         | 33/720 [00:04<02:20,  4.88it/s]"
     ]
    },
    {
     "name": "stderr",
     "output_type": "stream",
     "text": [
      "\r",
      "  5%|▍         | 34/720 [00:04<02:09,  5.31it/s]"
     ]
    },
    {
     "name": "stderr",
     "output_type": "stream",
     "text": [
      "\r",
      "  5%|▍         | 35/720 [00:04<02:01,  5.66it/s]"
     ]
    },
    {
     "name": "stderr",
     "output_type": "stream",
     "text": [
      "\r",
      "  5%|▌         | 36/720 [00:05<01:50,  6.19it/s]"
     ]
    },
    {
     "name": "stderr",
     "output_type": "stream",
     "text": [
      "\r",
      "  5%|▌         | 37/720 [00:05<01:40,  6.78it/s]"
     ]
    },
    {
     "name": "stderr",
     "output_type": "stream",
     "text": [
      "\r",
      "  5%|▌         | 38/720 [00:05<02:14,  5.08it/s]"
     ]
    },
    {
     "name": "stderr",
     "output_type": "stream",
     "text": [
      "\r",
      "  5%|▌         | 39/720 [00:05<01:55,  5.90it/s]"
     ]
    },
    {
     "name": "stderr",
     "output_type": "stream",
     "text": [
      "\r",
      "  6%|▌         | 40/720 [00:05<01:44,  6.50it/s]"
     ]
    },
    {
     "name": "stderr",
     "output_type": "stream",
     "text": [
      "\r",
      "  6%|▌         | 41/720 [00:05<01:35,  7.08it/s]"
     ]
    },
    {
     "name": "stderr",
     "output_type": "stream",
     "text": [
      "\r",
      "  6%|▌         | 42/720 [00:05<01:28,  7.66it/s]"
     ]
    },
    {
     "name": "stderr",
     "output_type": "stream",
     "text": [
      "\r",
      "  6%|▌         | 43/720 [00:06<01:23,  8.13it/s]"
     ]
    },
    {
     "name": "stderr",
     "output_type": "stream",
     "text": [
      "\r",
      "  6%|▌         | 44/720 [00:06<01:20,  8.41it/s]"
     ]
    },
    {
     "name": "stderr",
     "output_type": "stream",
     "text": [
      "\r",
      "  6%|▋         | 45/720 [00:06<01:25,  7.93it/s]"
     ]
    },
    {
     "name": "stderr",
     "output_type": "stream",
     "text": [
      "\r",
      "  6%|▋         | 46/720 [00:06<01:22,  8.15it/s]"
     ]
    },
    {
     "name": "stderr",
     "output_type": "stream",
     "text": [
      "\r",
      "  7%|▋         | 47/720 [00:06<01:22,  8.14it/s]"
     ]
    },
    {
     "name": "stderr",
     "output_type": "stream",
     "text": [
      "\r",
      "  7%|▋         | 48/720 [00:06<01:23,  8.03it/s]"
     ]
    },
    {
     "name": "stderr",
     "output_type": "stream",
     "text": [
      "\r",
      "  7%|▋         | 49/720 [00:06<01:32,  7.27it/s]"
     ]
    },
    {
     "name": "stderr",
     "output_type": "stream",
     "text": [
      "\r",
      "  7%|▋         | 50/720 [00:06<01:37,  6.90it/s]"
     ]
    },
    {
     "name": "stderr",
     "output_type": "stream",
     "text": [
      "\r",
      "  7%|▋         | 51/720 [00:07<01:40,  6.67it/s]"
     ]
    },
    {
     "name": "stderr",
     "output_type": "stream",
     "text": [
      "\r",
      "  7%|▋         | 52/720 [00:07<01:36,  6.93it/s]"
     ]
    },
    {
     "name": "stderr",
     "output_type": "stream",
     "text": [
      "\r",
      "  7%|▋         | 53/720 [00:07<01:32,  7.24it/s]"
     ]
    },
    {
     "name": "stderr",
     "output_type": "stream",
     "text": [
      "\r",
      "  8%|▊         | 54/720 [00:07<01:27,  7.63it/s]"
     ]
    },
    {
     "name": "stderr",
     "output_type": "stream",
     "text": [
      "\r",
      "  8%|▊         | 55/720 [00:07<01:43,  6.40it/s]"
     ]
    },
    {
     "name": "stderr",
     "output_type": "stream",
     "text": [
      "\r",
      "  8%|▊         | 56/720 [00:07<01:34,  7.02it/s]"
     ]
    },
    {
     "name": "stderr",
     "output_type": "stream",
     "text": [
      "\r",
      "  8%|▊         | 57/720 [00:07<01:30,  7.31it/s]"
     ]
    },
    {
     "name": "stderr",
     "output_type": "stream",
     "text": [
      "\r",
      "  8%|▊         | 58/720 [00:08<01:28,  7.49it/s]"
     ]
    },
    {
     "name": "stderr",
     "output_type": "stream",
     "text": [
      "\r",
      "  8%|▊         | 59/720 [00:08<01:24,  7.83it/s]"
     ]
    },
    {
     "name": "stderr",
     "output_type": "stream",
     "text": [
      "\r",
      "  8%|▊         | 60/720 [00:08<01:21,  8.07it/s]"
     ]
    },
    {
     "name": "stderr",
     "output_type": "stream",
     "text": [
      "\r",
      "  8%|▊         | 61/720 [00:08<01:20,  8.17it/s]"
     ]
    },
    {
     "name": "stderr",
     "output_type": "stream",
     "text": [
      "\r",
      "  9%|▊         | 62/720 [00:08<01:18,  8.40it/s]"
     ]
    },
    {
     "name": "stderr",
     "output_type": "stream",
     "text": [
      "\r",
      "  9%|▉         | 63/720 [00:08<01:19,  8.30it/s]"
     ]
    },
    {
     "name": "stderr",
     "output_type": "stream",
     "text": [
      "\r",
      "  9%|▉         | 64/720 [00:08<01:18,  8.38it/s]"
     ]
    },
    {
     "name": "stderr",
     "output_type": "stream",
     "text": [
      "\r",
      "  9%|▉         | 65/720 [00:08<01:17,  8.45it/s]"
     ]
    },
    {
     "name": "stderr",
     "output_type": "stream",
     "text": [
      "\r",
      "  9%|▉         | 66/720 [00:09<01:23,  7.87it/s]"
     ]
    },
    {
     "name": "stderr",
     "output_type": "stream",
     "text": [
      "\r",
      "  9%|▉         | 67/720 [00:09<01:21,  8.03it/s]"
     ]
    },
    {
     "name": "stderr",
     "output_type": "stream",
     "text": [
      "\r",
      "  9%|▉         | 68/720 [00:09<01:18,  8.29it/s]"
     ]
    },
    {
     "name": "stderr",
     "output_type": "stream",
     "text": [
      "\r",
      " 10%|▉         | 69/720 [00:09<01:17,  8.39it/s]"
     ]
    },
    {
     "name": "stderr",
     "output_type": "stream",
     "text": [
      "\r",
      " 10%|▉         | 70/720 [00:09<01:16,  8.51it/s]"
     ]
    },
    {
     "name": "stderr",
     "output_type": "stream",
     "text": [
      "\r",
      " 10%|▉         | 71/720 [00:09<01:47,  6.03it/s]"
     ]
    },
    {
     "name": "stderr",
     "output_type": "stream",
     "text": [
      "\r",
      " 10%|█         | 72/720 [00:09<01:39,  6.49it/s]"
     ]
    },
    {
     "name": "stderr",
     "output_type": "stream",
     "text": [
      "\r",
      " 10%|█         | 73/720 [00:10<01:37,  6.66it/s]"
     ]
    },
    {
     "name": "stderr",
     "output_type": "stream",
     "text": [
      "\r",
      " 10%|█         | 74/720 [00:10<01:31,  7.09it/s]"
     ]
    },
    {
     "name": "stderr",
     "output_type": "stream",
     "text": [
      "\r",
      " 10%|█         | 75/720 [00:10<01:26,  7.43it/s]"
     ]
    },
    {
     "name": "stderr",
     "output_type": "stream",
     "text": [
      "\r",
      " 11%|█         | 76/720 [00:10<01:23,  7.69it/s]"
     ]
    },
    {
     "name": "stderr",
     "output_type": "stream",
     "text": [
      "\r",
      " 11%|█         | 77/720 [00:10<01:22,  7.77it/s]"
     ]
    },
    {
     "name": "stderr",
     "output_type": "stream",
     "text": [
      "\r",
      " 11%|█         | 78/720 [00:10<01:19,  8.03it/s]"
     ]
    },
    {
     "name": "stderr",
     "output_type": "stream",
     "text": [
      "\r",
      " 11%|█         | 79/720 [00:10<01:18,  8.13it/s]"
     ]
    },
    {
     "name": "stderr",
     "output_type": "stream",
     "text": [
      "\r",
      " 11%|█         | 80/720 [00:10<01:17,  8.28it/s]"
     ]
    },
    {
     "name": "stderr",
     "output_type": "stream",
     "text": [
      "\r",
      " 11%|█▏        | 81/720 [00:11<01:16,  8.36it/s]"
     ]
    },
    {
     "name": "stderr",
     "output_type": "stream",
     "text": [
      "\r",
      " 11%|█▏        | 82/720 [00:11<01:17,  8.20it/s]"
     ]
    },
    {
     "name": "stderr",
     "output_type": "stream",
     "text": [
      "\r",
      " 12%|█▏        | 83/720 [00:11<01:17,  8.25it/s]"
     ]
    },
    {
     "name": "stderr",
     "output_type": "stream",
     "text": [
      "\r",
      " 12%|█▏        | 84/720 [00:11<01:16,  8.34it/s]"
     ]
    },
    {
     "name": "stderr",
     "output_type": "stream",
     "text": [
      "\r",
      " 12%|█▏        | 85/720 [00:11<01:17,  8.23it/s]"
     ]
    },
    {
     "name": "stderr",
     "output_type": "stream",
     "text": [
      "\r",
      " 12%|█▏        | 86/720 [00:11<01:16,  8.27it/s]"
     ]
    },
    {
     "name": "stderr",
     "output_type": "stream",
     "text": [
      "\r",
      " 12%|█▏        | 87/720 [00:11<01:37,  6.48it/s]"
     ]
    },
    {
     "name": "stderr",
     "output_type": "stream",
     "text": [
      "\r",
      " 12%|█▏        | 88/720 [00:11<01:34,  6.67it/s]"
     ]
    },
    {
     "name": "stderr",
     "output_type": "stream",
     "text": [
      "\r",
      " 12%|█▏        | 89/720 [00:12<01:29,  7.09it/s]"
     ]
    },
    {
     "name": "stderr",
     "output_type": "stream",
     "text": [
      "\r",
      " 12%|█▎        | 90/720 [00:12<01:24,  7.50it/s]"
     ]
    },
    {
     "name": "stderr",
     "output_type": "stream",
     "text": [
      "\r",
      " 13%|█▎        | 91/720 [00:12<01:18,  7.97it/s]"
     ]
    },
    {
     "name": "stderr",
     "output_type": "stream",
     "text": [
      "\r",
      " 13%|█▎        | 92/720 [00:12<01:14,  8.39it/s]"
     ]
    },
    {
     "name": "stderr",
     "output_type": "stream",
     "text": [
      "\r",
      " 13%|█▎        | 93/720 [00:12<01:11,  8.73it/s]"
     ]
    },
    {
     "name": "stderr",
     "output_type": "stream",
     "text": [
      "\r",
      " 13%|█▎        | 94/720 [00:12<01:09,  9.01it/s]"
     ]
    },
    {
     "name": "stderr",
     "output_type": "stream",
     "text": [
      "\r",
      " 13%|█▎        | 95/720 [00:12<01:07,  9.22it/s]"
     ]
    },
    {
     "name": "stderr",
     "output_type": "stream",
     "text": [
      "\r",
      " 13%|█▎        | 96/720 [00:12<01:07,  9.27it/s]"
     ]
    },
    {
     "name": "stderr",
     "output_type": "stream",
     "text": [
      "\r",
      " 13%|█▎        | 97/720 [00:13<01:16,  8.18it/s]"
     ]
    },
    {
     "name": "stderr",
     "output_type": "stream",
     "text": [
      "\r",
      " 14%|█▎        | 98/720 [00:13<01:13,  8.51it/s]"
     ]
    },
    {
     "name": "stderr",
     "output_type": "stream",
     "text": [
      "\r",
      " 14%|█▍        | 99/720 [00:13<01:10,  8.81it/s]"
     ]
    },
    {
     "name": "stderr",
     "output_type": "stream",
     "text": [
      "\r",
      " 14%|█▍        | 100/720 [00:13<01:09,  8.97it/s]"
     ]
    },
    {
     "name": "stderr",
     "output_type": "stream",
     "text": [
      "\r",
      " 14%|█▍        | 101/720 [00:13<01:07,  9.19it/s]"
     ]
    },
    {
     "name": "stderr",
     "output_type": "stream",
     "text": [
      "\r",
      " 14%|█▍        | 102/720 [00:13<01:35,  6.50it/s]"
     ]
    },
    {
     "name": "stderr",
     "output_type": "stream",
     "text": [
      "\r",
      " 14%|█▍        | 103/720 [00:13<01:25,  7.19it/s]"
     ]
    },
    {
     "name": "stderr",
     "output_type": "stream",
     "text": [
      "\r",
      " 14%|█▍        | 104/720 [00:13<01:19,  7.79it/s]"
     ]
    },
    {
     "name": "stderr",
     "output_type": "stream",
     "text": [
      "\r",
      " 15%|█▍        | 106/720 [00:14<01:10,  8.70it/s]"
     ]
    },
    {
     "name": "stderr",
     "output_type": "stream",
     "text": [
      "\r",
      " 15%|█▍        | 107/720 [00:14<01:08,  8.89it/s]"
     ]
    },
    {
     "name": "stderr",
     "output_type": "stream",
     "text": [
      "\r",
      " 15%|█▌        | 108/720 [00:14<01:07,  9.12it/s]"
     ]
    },
    {
     "name": "stderr",
     "output_type": "stream",
     "text": [
      "\r",
      " 15%|█▌        | 109/720 [00:14<01:06,  9.20it/s]"
     ]
    },
    {
     "name": "stderr",
     "output_type": "stream",
     "text": [
      "\r",
      " 15%|█▌        | 110/720 [00:14<01:05,  9.32it/s]"
     ]
    },
    {
     "name": "stderr",
     "output_type": "stream",
     "text": [
      "\r",
      " 15%|█▌        | 111/720 [00:14<01:04,  9.48it/s]"
     ]
    },
    {
     "name": "stderr",
     "output_type": "stream",
     "text": [
      "\r",
      " 16%|█▌        | 112/720 [00:14<01:03,  9.54it/s]"
     ]
    },
    {
     "name": "stderr",
     "output_type": "stream",
     "text": [
      "\r",
      " 16%|█▌        | 113/720 [00:14<01:03,  9.56it/s]"
     ]
    },
    {
     "name": "stderr",
     "output_type": "stream",
     "text": [
      "\r",
      " 16%|█▌        | 114/720 [00:14<01:04,  9.40it/s]"
     ]
    },
    {
     "name": "stderr",
     "output_type": "stream",
     "text": [
      "\r",
      " 16%|█▌        | 115/720 [00:15<01:03,  9.52it/s]"
     ]
    },
    {
     "name": "stderr",
     "output_type": "stream",
     "text": [
      "\r",
      " 16%|█▌        | 116/720 [00:15<01:04,  9.33it/s]"
     ]
    },
    {
     "name": "stderr",
     "output_type": "stream",
     "text": [
      "\r",
      " 16%|█▋        | 117/720 [00:15<01:04,  9.41it/s]"
     ]
    },
    {
     "name": "stderr",
     "output_type": "stream",
     "text": [
      "\r",
      " 16%|█▋        | 118/720 [00:15<01:22,  7.34it/s]"
     ]
    },
    {
     "name": "stderr",
     "output_type": "stream",
     "text": [
      "\r",
      " 17%|█▋        | 119/720 [00:15<01:15,  7.94it/s]"
     ]
    },
    {
     "name": "stderr",
     "output_type": "stream",
     "text": [
      "\r",
      " 17%|█▋        | 121/720 [00:15<01:07,  8.82it/s]"
     ]
    },
    {
     "name": "stderr",
     "output_type": "stream",
     "text": [
      "\r",
      " 17%|█▋        | 123/720 [00:15<01:03,  9.35it/s]"
     ]
    },
    {
     "name": "stderr",
     "output_type": "stream",
     "text": [
      "\r",
      " 17%|█▋        | 124/720 [00:16<01:03,  9.41it/s]"
     ]
    },
    {
     "name": "stderr",
     "output_type": "stream",
     "text": [
      "\r",
      " 18%|█▊        | 126/720 [00:16<01:01,  9.71it/s]"
     ]
    },
    {
     "name": "stderr",
     "output_type": "stream",
     "text": [
      "\r",
      " 18%|█▊        | 127/720 [00:16<01:01,  9.72it/s]"
     ]
    },
    {
     "name": "stderr",
     "output_type": "stream",
     "text": [
      "\r",
      " 18%|█▊        | 129/720 [00:16<00:59,  9.90it/s]"
     ]
    },
    {
     "name": "stderr",
     "output_type": "stream",
     "text": [
      "\r",
      " 18%|█▊        | 131/720 [00:16<00:59,  9.91it/s]"
     ]
    },
    {
     "name": "stderr",
     "output_type": "stream",
     "text": [
      "\r",
      " 18%|█▊        | 132/720 [00:16<00:59,  9.83it/s]"
     ]
    },
    {
     "name": "stderr",
     "output_type": "stream",
     "text": [
      "\r",
      " 19%|█▊        | 134/720 [00:17<01:10,  8.26it/s]"
     ]
    },
    {
     "name": "stderr",
     "output_type": "stream",
     "text": [
      "\r",
      " 19%|█▉        | 136/720 [00:17<01:07,  8.72it/s]"
     ]
    },
    {
     "name": "stderr",
     "output_type": "stream",
     "text": [
      "\r",
      " 19%|█▉        | 137/720 [00:17<01:05,  8.94it/s]"
     ]
    },
    {
     "name": "stderr",
     "output_type": "stream",
     "text": [
      "\r",
      " 19%|█▉        | 138/720 [00:17<01:04,  9.04it/s]"
     ]
    },
    {
     "name": "stderr",
     "output_type": "stream",
     "text": [
      "\r",
      " 19%|█▉        | 139/720 [00:17<01:03,  9.15it/s]"
     ]
    },
    {
     "name": "stderr",
     "output_type": "stream",
     "text": [
      "\r",
      " 19%|█▉        | 140/720 [00:17<01:02,  9.24it/s]"
     ]
    },
    {
     "name": "stderr",
     "output_type": "stream",
     "text": [
      "\r",
      " 20%|█▉        | 141/720 [00:17<01:02,  9.33it/s]"
     ]
    },
    {
     "name": "stderr",
     "output_type": "stream",
     "text": [
      "\r",
      " 20%|█▉        | 142/720 [00:17<01:01,  9.34it/s]"
     ]
    },
    {
     "name": "stderr",
     "output_type": "stream",
     "text": [
      "\r",
      " 20%|█▉        | 143/720 [00:18<01:01,  9.41it/s]"
     ]
    },
    {
     "name": "stderr",
     "output_type": "stream",
     "text": [
      "\r",
      " 20%|██        | 144/720 [00:18<01:01,  9.44it/s]"
     ]
    },
    {
     "name": "stderr",
     "output_type": "stream",
     "text": [
      "\r",
      " 20%|██        | 145/720 [00:18<01:00,  9.51it/s]"
     ]
    },
    {
     "name": "stderr",
     "output_type": "stream",
     "text": [
      "\r",
      " 20%|██        | 146/720 [00:18<01:00,  9.54it/s]"
     ]
    },
    {
     "name": "stderr",
     "output_type": "stream",
     "text": [
      "\r",
      " 20%|██        | 147/720 [00:18<01:00,  9.51it/s]"
     ]
    },
    {
     "name": "stderr",
     "output_type": "stream",
     "text": [
      "\r",
      " 21%|██        | 148/720 [00:18<00:59,  9.59it/s]"
     ]
    },
    {
     "name": "stderr",
     "output_type": "stream",
     "text": [
      "\r",
      " 21%|██        | 149/720 [00:18<00:59,  9.59it/s]"
     ]
    },
    {
     "name": "stderr",
     "output_type": "stream",
     "text": [
      "\r",
      " 21%|██        | 150/720 [00:18<01:17,  7.37it/s]"
     ]
    },
    {
     "name": "stderr",
     "output_type": "stream",
     "text": [
      "\r",
      " 21%|██        | 151/720 [00:19<01:18,  7.28it/s]"
     ]
    },
    {
     "name": "stderr",
     "output_type": "stream",
     "text": [
      "\r",
      " 21%|██        | 152/720 [00:19<01:13,  7.70it/s]"
     ]
    },
    {
     "name": "stderr",
     "output_type": "stream",
     "text": [
      "\r",
      " 21%|██▏       | 153/720 [00:19<01:10,  8.05it/s]"
     ]
    },
    {
     "name": "stderr",
     "output_type": "stream",
     "text": [
      "\r",
      " 21%|██▏       | 154/720 [00:19<01:06,  8.46it/s]"
     ]
    },
    {
     "name": "stderr",
     "output_type": "stream",
     "text": [
      "\r",
      " 22%|██▏       | 155/720 [00:19<01:06,  8.44it/s]"
     ]
    },
    {
     "name": "stderr",
     "output_type": "stream",
     "text": [
      "\r",
      " 22%|██▏       | 156/720 [00:19<01:05,  8.66it/s]"
     ]
    },
    {
     "name": "stderr",
     "output_type": "stream",
     "text": [
      "\r",
      " 22%|██▏       | 157/720 [00:19<01:04,  8.78it/s]"
     ]
    },
    {
     "name": "stderr",
     "output_type": "stream",
     "text": [
      "\r",
      " 22%|██▏       | 158/720 [00:19<01:03,  8.82it/s]"
     ]
    },
    {
     "name": "stderr",
     "output_type": "stream",
     "text": [
      "\r",
      " 22%|██▏       | 159/720 [00:19<01:02,  8.95it/s]"
     ]
    },
    {
     "name": "stderr",
     "output_type": "stream",
     "text": [
      "\r",
      " 22%|██▏       | 160/720 [00:20<01:02,  8.89it/s]"
     ]
    },
    {
     "name": "stderr",
     "output_type": "stream",
     "text": [
      "\r",
      " 22%|██▏       | 161/720 [00:20<01:12,  7.68it/s]"
     ]
    },
    {
     "name": "stderr",
     "output_type": "stream",
     "text": [
      "\r",
      " 22%|██▎       | 162/720 [00:20<01:14,  7.54it/s]"
     ]
    },
    {
     "name": "stderr",
     "output_type": "stream",
     "text": [
      "\r",
      " 23%|██▎       | 163/720 [00:20<01:13,  7.58it/s]"
     ]
    },
    {
     "name": "stderr",
     "output_type": "stream",
     "text": [
      "\r",
      " 23%|██▎       | 164/720 [00:20<01:12,  7.65it/s]"
     ]
    },
    {
     "name": "stderr",
     "output_type": "stream",
     "text": [
      "\r",
      " 23%|██▎       | 165/720 [00:20<01:10,  7.90it/s]"
     ]
    },
    {
     "name": "stderr",
     "output_type": "stream",
     "text": [
      "\r",
      " 23%|██▎       | 166/720 [00:21<01:38,  5.63it/s]"
     ]
    },
    {
     "name": "stderr",
     "output_type": "stream",
     "text": [
      "\r",
      " 23%|██▎       | 167/720 [00:21<01:40,  5.49it/s]"
     ]
    },
    {
     "name": "stderr",
     "output_type": "stream",
     "text": [
      "\r",
      " 23%|██▎       | 168/720 [00:21<01:29,  6.15it/s]"
     ]
    },
    {
     "name": "stderr",
     "output_type": "stream",
     "text": [
      "\r",
      " 23%|██▎       | 169/720 [00:21<01:19,  6.92it/s]"
     ]
    },
    {
     "name": "stderr",
     "output_type": "stream",
     "text": [
      "\r",
      " 24%|██▎       | 170/720 [00:21<01:12,  7.61it/s]"
     ]
    },
    {
     "name": "stderr",
     "output_type": "stream",
     "text": [
      "\r",
      " 24%|██▍       | 171/720 [00:21<01:08,  8.00it/s]"
     ]
    },
    {
     "name": "stderr",
     "output_type": "stream",
     "text": [
      "\r",
      " 24%|██▍       | 172/720 [00:21<01:11,  7.63it/s]"
     ]
    },
    {
     "name": "stderr",
     "output_type": "stream",
     "text": [
      "\r",
      " 24%|██▍       | 173/720 [00:21<01:15,  7.24it/s]"
     ]
    },
    {
     "name": "stderr",
     "output_type": "stream",
     "text": [
      "\r",
      " 24%|██▍       | 174/720 [00:22<01:17,  7.02it/s]"
     ]
    },
    {
     "name": "stderr",
     "output_type": "stream",
     "text": [
      "\r",
      " 24%|██▍       | 175/720 [00:22<01:15,  7.24it/s]"
     ]
    },
    {
     "name": "stderr",
     "output_type": "stream",
     "text": [
      "\r",
      " 24%|██▍       | 176/720 [00:22<01:12,  7.52it/s]"
     ]
    },
    {
     "name": "stderr",
     "output_type": "stream",
     "text": [
      "\r",
      " 25%|██▍       | 177/720 [00:22<01:07,  8.01it/s]"
     ]
    },
    {
     "name": "stderr",
     "output_type": "stream",
     "text": [
      "\r",
      " 25%|██▍       | 178/720 [00:22<01:04,  8.45it/s]"
     ]
    },
    {
     "name": "stderr",
     "output_type": "stream",
     "text": [
      "\r",
      " 25%|██▍       | 179/720 [00:22<01:02,  8.68it/s]"
     ]
    },
    {
     "name": "stderr",
     "output_type": "stream",
     "text": [
      "\r",
      " 25%|██▌       | 180/720 [00:22<01:01,  8.84it/s]"
     ]
    },
    {
     "name": "stderr",
     "output_type": "stream",
     "text": [
      "\r",
      " 25%|██▌       | 181/720 [00:22<01:00,  8.94it/s]"
     ]
    },
    {
     "name": "stderr",
     "output_type": "stream",
     "text": [
      "\r",
      " 25%|██▌       | 182/720 [00:23<01:17,  6.96it/s]"
     ]
    },
    {
     "name": "stderr",
     "output_type": "stream",
     "text": [
      "\r",
      " 25%|██▌       | 183/720 [00:23<01:11,  7.47it/s]"
     ]
    },
    {
     "name": "stderr",
     "output_type": "stream",
     "text": [
      "\r",
      " 26%|██▌       | 184/720 [00:23<01:12,  7.38it/s]"
     ]
    },
    {
     "name": "stderr",
     "output_type": "stream",
     "text": [
      "\r",
      " 26%|██▌       | 185/720 [00:23<01:10,  7.64it/s]"
     ]
    },
    {
     "name": "stderr",
     "output_type": "stream",
     "text": [
      "\r",
      " 26%|██▌       | 186/720 [00:23<01:07,  7.93it/s]"
     ]
    },
    {
     "name": "stderr",
     "output_type": "stream",
     "text": [
      "\r",
      " 26%|██▌       | 187/720 [00:23<01:04,  8.22it/s]"
     ]
    },
    {
     "name": "stderr",
     "output_type": "stream",
     "text": [
      "\r",
      " 26%|██▌       | 188/720 [00:23<01:03,  8.36it/s]"
     ]
    },
    {
     "name": "stderr",
     "output_type": "stream",
     "text": [
      "\r",
      " 26%|██▋       | 189/720 [00:23<01:04,  8.21it/s]"
     ]
    },
    {
     "name": "stderr",
     "output_type": "stream",
     "text": [
      "\r",
      " 26%|██▋       | 190/720 [00:24<01:08,  7.77it/s]"
     ]
    },
    {
     "name": "stderr",
     "output_type": "stream",
     "text": [
      "\r",
      " 27%|██▋       | 191/720 [00:24<01:17,  6.86it/s]"
     ]
    },
    {
     "name": "stderr",
     "output_type": "stream",
     "text": [
      "\r",
      " 27%|██▋       | 192/720 [00:24<01:13,  7.19it/s]"
     ]
    },
    {
     "name": "stderr",
     "output_type": "stream",
     "text": [
      "\r",
      " 27%|██▋       | 193/720 [00:24<01:11,  7.38it/s]"
     ]
    },
    {
     "name": "stderr",
     "output_type": "stream",
     "text": [
      "\r",
      " 27%|██▋       | 194/720 [00:24<01:21,  6.47it/s]"
     ]
    },
    {
     "name": "stderr",
     "output_type": "stream",
     "text": [
      "\r",
      " 27%|██▋       | 195/720 [00:24<01:18,  6.66it/s]"
     ]
    },
    {
     "name": "stderr",
     "output_type": "stream",
     "text": [
      "\r",
      " 27%|██▋       | 196/720 [00:24<01:13,  7.16it/s]"
     ]
    },
    {
     "name": "stderr",
     "output_type": "stream",
     "text": [
      "\r",
      " 27%|██▋       | 197/720 [00:25<01:08,  7.59it/s]"
     ]
    },
    {
     "name": "stderr",
     "output_type": "stream",
     "text": [
      "\r",
      " 28%|██▊       | 198/720 [00:25<01:34,  5.52it/s]"
     ]
    },
    {
     "name": "stderr",
     "output_type": "stream",
     "text": [
      "\r",
      " 28%|██▊       | 199/720 [00:25<01:25,  6.09it/s]"
     ]
    },
    {
     "name": "stderr",
     "output_type": "stream",
     "text": [
      "\r",
      " 28%|██▊       | 200/720 [00:25<01:23,  6.24it/s]"
     ]
    },
    {
     "name": "stderr",
     "output_type": "stream",
     "text": [
      "\r",
      " 28%|██▊       | 201/720 [00:25<01:16,  6.74it/s]"
     ]
    },
    {
     "name": "stderr",
     "output_type": "stream",
     "text": [
      "\r",
      " 28%|██▊       | 202/720 [00:25<01:11,  7.22it/s]"
     ]
    },
    {
     "name": "stderr",
     "output_type": "stream",
     "text": [
      "\r",
      " 28%|██▊       | 203/720 [00:26<01:08,  7.60it/s]"
     ]
    },
    {
     "name": "stderr",
     "output_type": "stream",
     "text": [
      "\r",
      " 28%|██▊       | 204/720 [00:26<01:04,  7.96it/s]"
     ]
    },
    {
     "name": "stderr",
     "output_type": "stream",
     "text": [
      "\r",
      " 28%|██▊       | 205/720 [00:26<01:02,  8.30it/s]"
     ]
    },
    {
     "name": "stderr",
     "output_type": "stream",
     "text": [
      "\r",
      " 29%|██▊       | 206/720 [00:26<01:01,  8.40it/s]"
     ]
    },
    {
     "name": "stderr",
     "output_type": "stream",
     "text": [
      "\r",
      " 29%|██▉       | 207/720 [00:26<00:59,  8.67it/s]"
     ]
    },
    {
     "name": "stderr",
     "output_type": "stream",
     "text": [
      "\r",
      " 29%|██▉       | 208/720 [00:26<01:01,  8.28it/s]"
     ]
    },
    {
     "name": "stderr",
     "output_type": "stream",
     "text": [
      "\r",
      " 29%|██▉       | 209/720 [00:26<01:01,  8.29it/s]"
     ]
    },
    {
     "name": "stderr",
     "output_type": "stream",
     "text": [
      "\r",
      " 29%|██▉       | 210/720 [00:26<01:01,  8.26it/s]"
     ]
    },
    {
     "name": "stderr",
     "output_type": "stream",
     "text": [
      "\r",
      " 29%|██▉       | 211/720 [00:26<01:00,  8.41it/s]"
     ]
    },
    {
     "name": "stderr",
     "output_type": "stream",
     "text": [
      "\r",
      " 29%|██▉       | 212/720 [00:27<00:58,  8.69it/s]"
     ]
    },
    {
     "name": "stderr",
     "output_type": "stream",
     "text": [
      "\r",
      " 30%|██▉       | 213/720 [00:27<00:56,  8.92it/s]"
     ]
    },
    {
     "name": "stderr",
     "output_type": "stream",
     "text": [
      "\r",
      " 30%|██▉       | 214/720 [00:27<01:11,  7.08it/s]"
     ]
    },
    {
     "name": "stderr",
     "output_type": "stream",
     "text": [
      "\r",
      " 30%|██▉       | 215/720 [00:27<01:06,  7.59it/s]"
     ]
    },
    {
     "name": "stderr",
     "output_type": "stream",
     "text": [
      "\r",
      " 30%|███       | 216/720 [00:27<01:08,  7.38it/s]"
     ]
    },
    {
     "name": "stderr",
     "output_type": "stream",
     "text": [
      "\r",
      " 30%|███       | 217/720 [00:27<01:04,  7.79it/s]"
     ]
    },
    {
     "name": "stderr",
     "output_type": "stream",
     "text": [
      "\r",
      " 30%|███       | 218/720 [00:27<01:00,  8.23it/s]"
     ]
    },
    {
     "name": "stderr",
     "output_type": "stream",
     "text": [
      "\r",
      " 30%|███       | 219/720 [00:27<00:58,  8.56it/s]"
     ]
    },
    {
     "name": "stderr",
     "output_type": "stream",
     "text": [
      "\r",
      " 31%|███       | 220/720 [00:28<00:56,  8.83it/s]"
     ]
    },
    {
     "name": "stderr",
     "output_type": "stream",
     "text": [
      "\r",
      " 31%|███       | 221/720 [00:28<00:56,  8.80it/s]"
     ]
    },
    {
     "name": "stderr",
     "output_type": "stream",
     "text": [
      "\r",
      " 31%|███       | 222/720 [00:28<00:59,  8.30it/s]"
     ]
    },
    {
     "name": "stderr",
     "output_type": "stream",
     "text": [
      "\r",
      " 31%|███       | 223/720 [00:28<01:03,  7.77it/s]"
     ]
    },
    {
     "name": "stderr",
     "output_type": "stream",
     "text": [
      "\r",
      " 31%|███       | 224/720 [00:28<01:04,  7.72it/s]"
     ]
    },
    {
     "name": "stderr",
     "output_type": "stream",
     "text": [
      "\r",
      " 31%|███▏      | 225/720 [00:28<01:04,  7.69it/s]"
     ]
    },
    {
     "name": "stderr",
     "output_type": "stream",
     "text": [
      "\r",
      " 31%|███▏      | 226/720 [00:28<01:11,  6.91it/s]"
     ]
    },
    {
     "name": "stderr",
     "output_type": "stream",
     "text": [
      "\r",
      " 32%|███▏      | 227/720 [00:29<01:12,  6.78it/s]"
     ]
    },
    {
     "name": "stderr",
     "output_type": "stream",
     "text": [
      "\r",
      " 32%|███▏      | 228/720 [00:29<01:15,  6.54it/s]"
     ]
    },
    {
     "name": "stderr",
     "output_type": "stream",
     "text": [
      "\r",
      " 32%|███▏      | 229/720 [00:29<01:39,  4.92it/s]"
     ]
    },
    {
     "name": "stderr",
     "output_type": "stream",
     "text": [
      "\r",
      " 32%|███▏      | 230/720 [00:29<01:52,  4.36it/s]"
     ]
    },
    {
     "name": "stderr",
     "output_type": "stream",
     "text": [
      "\r",
      " 32%|███▏      | 231/720 [00:30<01:46,  4.61it/s]"
     ]
    },
    {
     "name": "stderr",
     "output_type": "stream",
     "text": [
      "\r",
      " 32%|███▏      | 232/720 [00:30<01:43,  4.71it/s]"
     ]
    },
    {
     "name": "stderr",
     "output_type": "stream",
     "text": [
      "\r",
      " 32%|███▏      | 233/720 [00:30<01:40,  4.85it/s]"
     ]
    },
    {
     "name": "stderr",
     "output_type": "stream",
     "text": [
      "\r",
      " 32%|███▎      | 234/720 [00:30<01:33,  5.18it/s]"
     ]
    },
    {
     "name": "stderr",
     "output_type": "stream",
     "text": [
      "\r",
      " 33%|███▎      | 235/720 [00:30<01:30,  5.36it/s]"
     ]
    },
    {
     "name": "stderr",
     "output_type": "stream",
     "text": [
      "\r",
      " 33%|███▎      | 236/720 [00:30<01:30,  5.35it/s]"
     ]
    },
    {
     "name": "stderr",
     "output_type": "stream",
     "text": [
      "\r",
      " 33%|███▎      | 237/720 [00:31<01:26,  5.57it/s]"
     ]
    },
    {
     "name": "stderr",
     "output_type": "stream",
     "text": [
      "\r",
      " 33%|███▎      | 238/720 [00:31<01:29,  5.41it/s]"
     ]
    },
    {
     "name": "stderr",
     "output_type": "stream",
     "text": [
      "\r",
      " 33%|███▎      | 239/720 [00:31<01:29,  5.36it/s]"
     ]
    },
    {
     "name": "stderr",
     "output_type": "stream",
     "text": [
      "\r",
      " 33%|███▎      | 240/720 [00:31<01:31,  5.23it/s]"
     ]
    },
    {
     "name": "stderr",
     "output_type": "stream",
     "text": [
      "\r",
      " 33%|███▎      | 241/720 [00:31<01:37,  4.93it/s]"
     ]
    },
    {
     "name": "stderr",
     "output_type": "stream",
     "text": [
      "\r",
      " 34%|███▎      | 242/720 [00:32<01:33,  5.11it/s]"
     ]
    },
    {
     "name": "stderr",
     "output_type": "stream",
     "text": [
      "\r",
      " 34%|███▍      | 243/720 [00:32<01:31,  5.21it/s]"
     ]
    },
    {
     "name": "stderr",
     "output_type": "stream",
     "text": [
      "\r",
      " 34%|███▍      | 244/720 [00:32<01:34,  5.02it/s]"
     ]
    },
    {
     "name": "stderr",
     "output_type": "stream",
     "text": [
      "\r",
      " 34%|███▍      | 245/720 [00:32<01:35,  4.99it/s]"
     ]
    },
    {
     "name": "stderr",
     "output_type": "stream",
     "text": [
      "\r",
      " 34%|███▍      | 246/720 [00:33<02:11,  3.62it/s]"
     ]
    },
    {
     "name": "stderr",
     "output_type": "stream",
     "text": [
      "\r",
      " 34%|███▍      | 247/720 [00:33<01:51,  4.23it/s]"
     ]
    },
    {
     "name": "stderr",
     "output_type": "stream",
     "text": [
      "\r",
      " 34%|███▍      | 248/720 [00:33<01:53,  4.15it/s]"
     ]
    },
    {
     "name": "stderr",
     "output_type": "stream",
     "text": [
      "\r",
      " 35%|███▍      | 249/720 [00:33<01:45,  4.46it/s]"
     ]
    },
    {
     "name": "stderr",
     "output_type": "stream",
     "text": [
      "\r",
      " 35%|███▍      | 250/720 [00:33<01:48,  4.33it/s]"
     ]
    },
    {
     "name": "stderr",
     "output_type": "stream",
     "text": [
      "\r",
      " 35%|███▍      | 251/720 [00:34<01:42,  4.60it/s]"
     ]
    },
    {
     "name": "stderr",
     "output_type": "stream",
     "text": [
      "\r",
      " 35%|███▌      | 252/720 [00:34<01:38,  4.76it/s]"
     ]
    },
    {
     "name": "stderr",
     "output_type": "stream",
     "text": [
      "\r",
      " 35%|███▌      | 253/720 [00:34<01:34,  4.93it/s]"
     ]
    },
    {
     "name": "stderr",
     "output_type": "stream",
     "text": [
      "\r",
      " 35%|███▌      | 254/720 [00:34<01:32,  5.05it/s]"
     ]
    },
    {
     "name": "stderr",
     "output_type": "stream",
     "text": [
      "\r",
      " 35%|███▌      | 255/720 [00:34<01:32,  5.05it/s]"
     ]
    },
    {
     "name": "stderr",
     "output_type": "stream",
     "text": [
      "\r",
      " 36%|███▌      | 256/720 [00:35<01:32,  4.99it/s]"
     ]
    },
    {
     "name": "stderr",
     "output_type": "stream",
     "text": [
      "\r",
      " 36%|███▌      | 257/720 [00:35<01:32,  4.99it/s]"
     ]
    },
    {
     "name": "stderr",
     "output_type": "stream",
     "text": [
      "\r",
      " 36%|███▌      | 258/720 [00:35<01:32,  5.01it/s]"
     ]
    },
    {
     "name": "stderr",
     "output_type": "stream",
     "text": [
      "\r",
      " 36%|███▌      | 259/720 [00:35<01:28,  5.19it/s]"
     ]
    },
    {
     "name": "stderr",
     "output_type": "stream",
     "text": [
      "\r",
      " 36%|███▌      | 260/720 [00:35<01:40,  4.56it/s]"
     ]
    },
    {
     "name": "stderr",
     "output_type": "stream",
     "text": [
      "\r",
      " 36%|███▋      | 261/720 [00:36<01:36,  4.74it/s]"
     ]
    },
    {
     "name": "stderr",
     "output_type": "stream",
     "text": [
      "\r",
      " 36%|███▋      | 262/720 [00:36<02:01,  3.76it/s]"
     ]
    },
    {
     "name": "stderr",
     "output_type": "stream",
     "text": [
      "\r",
      " 37%|███▋      | 263/720 [00:36<01:45,  4.33it/s]"
     ]
    },
    {
     "name": "stderr",
     "output_type": "stream",
     "text": [
      "\r",
      " 37%|███▋      | 264/720 [00:36<01:47,  4.24it/s]"
     ]
    },
    {
     "name": "stderr",
     "output_type": "stream",
     "text": [
      "\r",
      " 37%|███▋      | 265/720 [00:37<01:48,  4.20it/s]"
     ]
    },
    {
     "name": "stderr",
     "output_type": "stream",
     "text": [
      "\r",
      " 37%|███▋      | 266/720 [00:37<01:38,  4.63it/s]"
     ]
    },
    {
     "name": "stderr",
     "output_type": "stream",
     "text": [
      "\r",
      " 37%|███▋      | 267/720 [00:37<01:34,  4.81it/s]"
     ]
    },
    {
     "name": "stderr",
     "output_type": "stream",
     "text": [
      "\r",
      " 37%|███▋      | 268/720 [00:37<01:29,  5.06it/s]"
     ]
    },
    {
     "name": "stderr",
     "output_type": "stream",
     "text": [
      "\r",
      " 37%|███▋      | 269/720 [00:37<01:26,  5.24it/s]"
     ]
    },
    {
     "name": "stderr",
     "output_type": "stream",
     "text": [
      "\r",
      " 38%|███▊      | 270/720 [00:38<01:19,  5.64it/s]"
     ]
    },
    {
     "name": "stderr",
     "output_type": "stream",
     "text": [
      "\r",
      " 38%|███▊      | 271/720 [00:38<01:17,  5.82it/s]"
     ]
    },
    {
     "name": "stderr",
     "output_type": "stream",
     "text": [
      "\r",
      " 38%|███▊      | 272/720 [00:38<01:13,  6.10it/s]"
     ]
    },
    {
     "name": "stderr",
     "output_type": "stream",
     "text": [
      "\r",
      " 38%|███▊      | 273/720 [00:38<01:12,  6.13it/s]"
     ]
    },
    {
     "name": "stderr",
     "output_type": "stream",
     "text": [
      "\r",
      " 38%|███▊      | 274/720 [00:38<01:13,  6.10it/s]"
     ]
    },
    {
     "name": "stderr",
     "output_type": "stream",
     "text": [
      "\r",
      " 38%|███▊      | 275/720 [00:38<01:14,  5.95it/s]"
     ]
    },
    {
     "name": "stderr",
     "output_type": "stream",
     "text": [
      "\r",
      " 38%|███▊      | 276/720 [00:39<01:12,  6.10it/s]"
     ]
    },
    {
     "name": "stderr",
     "output_type": "stream",
     "text": [
      "\r",
      " 38%|███▊      | 277/720 [00:39<01:09,  6.34it/s]"
     ]
    },
    {
     "name": "stderr",
     "output_type": "stream",
     "text": [
      "\r",
      " 39%|███▊      | 278/720 [00:39<01:26,  5.10it/s]"
     ]
    },
    {
     "name": "stderr",
     "output_type": "stream",
     "text": [
      "\r",
      " 39%|███▉      | 279/720 [00:39<01:22,  5.36it/s]"
     ]
    },
    {
     "name": "stderr",
     "output_type": "stream",
     "text": [
      "\r",
      " 39%|███▉      | 280/720 [00:39<01:23,  5.30it/s]"
     ]
    },
    {
     "name": "stderr",
     "output_type": "stream",
     "text": [
      "\r",
      " 39%|███▉      | 281/720 [00:39<01:20,  5.43it/s]"
     ]
    },
    {
     "name": "stderr",
     "output_type": "stream",
     "text": [
      "\r",
      " 39%|███▉      | 282/720 [00:40<01:23,  5.28it/s]"
     ]
    },
    {
     "name": "stderr",
     "output_type": "stream",
     "text": [
      "\r",
      " 39%|███▉      | 283/720 [00:40<01:21,  5.34it/s]"
     ]
    },
    {
     "name": "stderr",
     "output_type": "stream",
     "text": [
      "\r",
      " 39%|███▉      | 284/720 [00:40<01:23,  5.24it/s]"
     ]
    },
    {
     "name": "stderr",
     "output_type": "stream",
     "text": [
      "\r",
      " 40%|███▉      | 285/720 [00:40<01:21,  5.34it/s]"
     ]
    },
    {
     "name": "stderr",
     "output_type": "stream",
     "text": [
      "\r",
      " 40%|███▉      | 286/720 [00:40<01:19,  5.44it/s]"
     ]
    },
    {
     "name": "stderr",
     "output_type": "stream",
     "text": [
      "\r",
      " 40%|███▉      | 287/720 [00:41<01:19,  5.41it/s]"
     ]
    },
    {
     "name": "stderr",
     "output_type": "stream",
     "text": [
      "\r",
      " 40%|████      | 288/720 [00:41<01:23,  5.18it/s]"
     ]
    },
    {
     "name": "stderr",
     "output_type": "stream",
     "text": [
      "\r",
      " 40%|████      | 289/720 [00:41<01:24,  5.10it/s]"
     ]
    },
    {
     "name": "stderr",
     "output_type": "stream",
     "text": [
      "\r",
      " 40%|████      | 290/720 [00:41<01:18,  5.49it/s]"
     ]
    },
    {
     "name": "stderr",
     "output_type": "stream",
     "text": [
      "\r",
      " 40%|████      | 291/720 [00:41<01:17,  5.55it/s]"
     ]
    },
    {
     "name": "stderr",
     "output_type": "stream",
     "text": [
      "\r",
      " 41%|████      | 292/720 [00:42<01:17,  5.54it/s]"
     ]
    },
    {
     "name": "stderr",
     "output_type": "stream",
     "text": [
      "\r",
      " 41%|████      | 293/720 [00:42<01:18,  5.42it/s]"
     ]
    },
    {
     "name": "stderr",
     "output_type": "stream",
     "text": [
      "\r",
      " 41%|████      | 294/720 [00:42<01:35,  4.46it/s]"
     ]
    },
    {
     "name": "stderr",
     "output_type": "stream",
     "text": [
      "\r",
      " 41%|████      | 295/720 [00:42<01:25,  4.97it/s]"
     ]
    },
    {
     "name": "stderr",
     "output_type": "stream",
     "text": [
      "\r",
      " 41%|████      | 296/720 [00:43<01:58,  3.57it/s]"
     ]
    },
    {
     "name": "stderr",
     "output_type": "stream",
     "text": [
      "\r",
      " 41%|████▏     | 297/720 [00:43<02:28,  2.84it/s]"
     ]
    },
    {
     "name": "stderr",
     "output_type": "stream",
     "text": [
      "\r",
      " 41%|████▏     | 298/720 [00:43<02:22,  2.97it/s]"
     ]
    },
    {
     "name": "stderr",
     "output_type": "stream",
     "text": [
      "\r",
      " 42%|████▏     | 299/720 [00:44<02:18,  3.04it/s]"
     ]
    },
    {
     "name": "stderr",
     "output_type": "stream",
     "text": [
      "\r",
      " 42%|████▏     | 300/720 [00:44<02:03,  3.41it/s]"
     ]
    },
    {
     "name": "stderr",
     "output_type": "stream",
     "text": [
      "\r",
      " 42%|████▏     | 301/720 [00:44<01:50,  3.80it/s]"
     ]
    },
    {
     "name": "stderr",
     "output_type": "stream",
     "text": [
      "\r",
      " 42%|████▏     | 302/720 [00:45<01:56,  3.58it/s]"
     ]
    },
    {
     "name": "stderr",
     "output_type": "stream",
     "text": [
      "\r",
      " 42%|████▏     | 303/720 [00:45<01:49,  3.81it/s]"
     ]
    },
    {
     "name": "stderr",
     "output_type": "stream",
     "text": [
      "\r",
      " 42%|████▏     | 304/720 [00:45<01:43,  4.02it/s]"
     ]
    },
    {
     "name": "stderr",
     "output_type": "stream",
     "text": [
      "\r",
      " 42%|████▏     | 305/720 [00:45<01:35,  4.37it/s]"
     ]
    },
    {
     "name": "stderr",
     "output_type": "stream",
     "text": [
      "\r",
      " 42%|████▎     | 306/720 [00:45<01:32,  4.48it/s]"
     ]
    },
    {
     "name": "stderr",
     "output_type": "stream",
     "text": [
      "\r",
      " 43%|████▎     | 307/720 [00:46<01:31,  4.51it/s]"
     ]
    },
    {
     "name": "stderr",
     "output_type": "stream",
     "text": [
      "\r",
      " 43%|████▎     | 308/720 [00:46<01:33,  4.40it/s]"
     ]
    },
    {
     "name": "stderr",
     "output_type": "stream",
     "text": [
      "\r",
      " 43%|████▎     | 309/720 [00:46<01:31,  4.47it/s]"
     ]
    },
    {
     "name": "stderr",
     "output_type": "stream",
     "text": [
      "\r",
      " 43%|████▎     | 310/720 [00:46<01:53,  3.60it/s]"
     ]
    },
    {
     "name": "stderr",
     "output_type": "stream",
     "text": [
      "\r",
      " 43%|████▎     | 311/720 [00:47<01:39,  4.13it/s]"
     ]
    },
    {
     "name": "stderr",
     "output_type": "stream",
     "text": [
      "\r",
      " 43%|████▎     | 312/720 [00:47<01:30,  4.50it/s]"
     ]
    },
    {
     "name": "stderr",
     "output_type": "stream",
     "text": [
      "\r",
      " 43%|████▎     | 313/720 [00:47<01:33,  4.36it/s]"
     ]
    },
    {
     "name": "stderr",
     "output_type": "stream",
     "text": [
      "\r",
      " 44%|████▎     | 314/720 [00:47<01:29,  4.52it/s]"
     ]
    },
    {
     "name": "stderr",
     "output_type": "stream",
     "text": [
      "\r",
      " 44%|████▍     | 315/720 [00:47<01:34,  4.30it/s]"
     ]
    },
    {
     "name": "stderr",
     "output_type": "stream",
     "text": [
      "\r",
      " 44%|████▍     | 316/720 [00:48<01:44,  3.87it/s]"
     ]
    },
    {
     "name": "stderr",
     "output_type": "stream",
     "text": [
      "\r",
      " 44%|████▍     | 317/720 [00:48<01:36,  4.18it/s]"
     ]
    },
    {
     "name": "stderr",
     "output_type": "stream",
     "text": [
      "\r",
      " 44%|████▍     | 318/720 [00:48<01:33,  4.28it/s]"
     ]
    },
    {
     "name": "stderr",
     "output_type": "stream",
     "text": [
      "\r",
      " 44%|████▍     | 319/720 [00:48<01:31,  4.39it/s]"
     ]
    },
    {
     "name": "stderr",
     "output_type": "stream",
     "text": [
      "\r",
      " 44%|████▍     | 320/720 [00:49<01:32,  4.32it/s]"
     ]
    },
    {
     "name": "stderr",
     "output_type": "stream",
     "text": [
      "\r",
      " 45%|████▍     | 321/720 [00:49<01:32,  4.29it/s]"
     ]
    },
    {
     "name": "stderr",
     "output_type": "stream",
     "text": [
      "\r",
      " 45%|████▍     | 322/720 [00:49<01:35,  4.18it/s]"
     ]
    },
    {
     "name": "stderr",
     "output_type": "stream",
     "text": [
      "\r",
      " 45%|████▍     | 323/720 [00:49<01:35,  4.18it/s]"
     ]
    },
    {
     "name": "stderr",
     "output_type": "stream",
     "text": [
      "\r",
      " 45%|████▌     | 324/720 [00:50<01:35,  4.13it/s]"
     ]
    },
    {
     "name": "stderr",
     "output_type": "stream",
     "text": [
      "\r",
      " 45%|████▌     | 325/720 [00:50<01:36,  4.09it/s]"
     ]
    },
    {
     "name": "stderr",
     "output_type": "stream",
     "text": [
      "\r",
      " 45%|████▌     | 326/720 [00:50<01:56,  3.38it/s]"
     ]
    },
    {
     "name": "stderr",
     "output_type": "stream",
     "text": [
      "\r",
      " 45%|████▌     | 327/720 [00:51<02:04,  3.16it/s]"
     ]
    },
    {
     "name": "stderr",
     "output_type": "stream",
     "text": [
      "\r",
      " 46%|████▌     | 328/720 [00:51<02:07,  3.07it/s]"
     ]
    },
    {
     "name": "stderr",
     "output_type": "stream",
     "text": [
      "\r",
      " 46%|████▌     | 329/720 [00:51<02:02,  3.19it/s]"
     ]
    },
    {
     "name": "stderr",
     "output_type": "stream",
     "text": [
      "\r",
      " 46%|████▌     | 330/720 [00:52<02:01,  3.21it/s]"
     ]
    },
    {
     "name": "stderr",
     "output_type": "stream",
     "text": [
      "\r",
      " 46%|████▌     | 331/720 [00:52<01:52,  3.46it/s]"
     ]
    },
    {
     "name": "stderr",
     "output_type": "stream",
     "text": [
      "\r",
      " 46%|████▌     | 332/720 [00:52<01:44,  3.73it/s]"
     ]
    },
    {
     "name": "stderr",
     "output_type": "stream",
     "text": [
      "\r",
      " 46%|████▋     | 333/720 [00:52<01:41,  3.81it/s]"
     ]
    },
    {
     "name": "stderr",
     "output_type": "stream",
     "text": [
      "\r",
      " 46%|████▋     | 334/720 [00:53<01:32,  4.15it/s]"
     ]
    },
    {
     "name": "stderr",
     "output_type": "stream",
     "text": [
      "\r",
      " 47%|████▋     | 335/720 [00:53<01:27,  4.40it/s]"
     ]
    },
    {
     "name": "stderr",
     "output_type": "stream",
     "text": [
      "\r",
      " 47%|████▋     | 336/720 [00:53<01:22,  4.65it/s]"
     ]
    },
    {
     "name": "stderr",
     "output_type": "stream",
     "text": [
      "\r",
      " 47%|████▋     | 337/720 [00:53<01:23,  4.58it/s]"
     ]
    },
    {
     "name": "stderr",
     "output_type": "stream",
     "text": [
      "\r",
      " 47%|████▋     | 338/720 [00:53<01:22,  4.63it/s]"
     ]
    },
    {
     "name": "stderr",
     "output_type": "stream",
     "text": [
      "\r",
      " 47%|████▋     | 339/720 [00:54<01:26,  4.40it/s]"
     ]
    },
    {
     "name": "stderr",
     "output_type": "stream",
     "text": [
      "\r",
      " 47%|████▋     | 340/720 [00:54<01:24,  4.49it/s]"
     ]
    },
    {
     "name": "stderr",
     "output_type": "stream",
     "text": [
      "\r",
      " 47%|████▋     | 341/720 [00:54<01:42,  3.71it/s]"
     ]
    },
    {
     "name": "stderr",
     "output_type": "stream",
     "text": [
      "\r",
      " 48%|████▊     | 342/720 [00:55<02:06,  2.99it/s]"
     ]
    },
    {
     "name": "stderr",
     "output_type": "stream",
     "text": [
      "\r",
      " 48%|████▊     | 343/720 [00:55<02:25,  2.59it/s]"
     ]
    },
    {
     "name": "stderr",
     "output_type": "stream",
     "text": [
      "\r",
      " 48%|████▊     | 344/720 [00:55<02:19,  2.70it/s]"
     ]
    },
    {
     "name": "stderr",
     "output_type": "stream",
     "text": [
      "\r",
      " 48%|████▊     | 345/720 [00:56<02:13,  2.81it/s]"
     ]
    },
    {
     "name": "stderr",
     "output_type": "stream",
     "text": [
      "\r",
      " 48%|████▊     | 346/720 [00:56<01:56,  3.21it/s]"
     ]
    },
    {
     "name": "stderr",
     "output_type": "stream",
     "text": [
      "\r",
      " 48%|████▊     | 347/720 [00:56<01:48,  3.45it/s]"
     ]
    },
    {
     "name": "stderr",
     "output_type": "stream",
     "text": [
      "\r",
      " 48%|████▊     | 348/720 [00:56<01:41,  3.65it/s]"
     ]
    },
    {
     "name": "stderr",
     "output_type": "stream",
     "text": [
      "\r",
      " 48%|████▊     | 349/720 [00:57<01:29,  4.14it/s]"
     ]
    },
    {
     "name": "stderr",
     "output_type": "stream",
     "text": [
      "\r",
      " 49%|████▊     | 350/720 [00:57<01:30,  4.10it/s]"
     ]
    },
    {
     "name": "stderr",
     "output_type": "stream",
     "text": [
      "\r",
      " 49%|████▉     | 351/720 [00:57<01:29,  4.11it/s]"
     ]
    },
    {
     "name": "stderr",
     "output_type": "stream",
     "text": [
      "\r",
      " 49%|████▉     | 352/720 [00:57<01:34,  3.87it/s]"
     ]
    },
    {
     "name": "stderr",
     "output_type": "stream",
     "text": [
      "\r",
      " 49%|████▉     | 353/720 [00:58<01:35,  3.86it/s]"
     ]
    },
    {
     "name": "stderr",
     "output_type": "stream",
     "text": [
      "\r",
      " 49%|████▉     | 354/720 [00:58<01:28,  4.13it/s]"
     ]
    },
    {
     "name": "stderr",
     "output_type": "stream",
     "text": [
      "\r",
      " 49%|████▉     | 355/720 [00:58<01:32,  3.96it/s]"
     ]
    },
    {
     "name": "stderr",
     "output_type": "stream",
     "text": [
      "\r",
      " 49%|████▉     | 356/720 [00:58<01:21,  4.49it/s]"
     ]
    },
    {
     "name": "stderr",
     "output_type": "stream",
     "text": [
      "\r",
      " 50%|████▉     | 357/720 [00:59<01:39,  3.65it/s]"
     ]
    },
    {
     "name": "stderr",
     "output_type": "stream",
     "text": [
      "\r",
      " 50%|████▉     | 358/720 [00:59<01:27,  4.14it/s]"
     ]
    },
    {
     "name": "stderr",
     "output_type": "stream",
     "text": [
      "\r",
      " 50%|████▉     | 359/720 [00:59<01:23,  4.31it/s]"
     ]
    },
    {
     "name": "stderr",
     "output_type": "stream",
     "text": [
      "\r",
      " 50%|█████     | 360/720 [00:59<01:20,  4.50it/s]"
     ]
    },
    {
     "name": "stderr",
     "output_type": "stream",
     "text": [
      "\r",
      " 50%|█████     | 361/720 [00:59<01:12,  4.95it/s]"
     ]
    },
    {
     "name": "stderr",
     "output_type": "stream",
     "text": [
      "\r",
      " 50%|█████     | 362/720 [01:00<01:01,  5.80it/s]"
     ]
    },
    {
     "name": "stderr",
     "output_type": "stream",
     "text": [
      "\r",
      " 51%|█████     | 364/720 [01:00<00:48,  7.41it/s]"
     ]
    },
    {
     "name": "stderr",
     "output_type": "stream",
     "text": [
      "\r",
      " 51%|█████     | 366/720 [01:00<00:40,  8.64it/s]"
     ]
    },
    {
     "name": "stderr",
     "output_type": "stream",
     "text": [
      "\r",
      " 51%|█████     | 368/720 [01:00<00:37,  9.43it/s]"
     ]
    },
    {
     "name": "stderr",
     "output_type": "stream",
     "text": [
      "\r",
      " 51%|█████▏    | 370/720 [01:00<00:35, 10.00it/s]"
     ]
    },
    {
     "name": "stderr",
     "output_type": "stream",
     "text": [
      "\r",
      " 52%|█████▏    | 372/720 [01:00<00:33, 10.53it/s]"
     ]
    },
    {
     "name": "stderr",
     "output_type": "stream",
     "text": [
      "\r",
      " 52%|█████▏    | 374/720 [01:01<00:37,  9.23it/s]"
     ]
    },
    {
     "name": "stderr",
     "output_type": "stream",
     "text": [
      "\r",
      " 52%|█████▏    | 376/720 [01:01<00:34,  9.86it/s]"
     ]
    },
    {
     "name": "stderr",
     "output_type": "stream",
     "text": [
      "\r",
      " 52%|█████▎    | 378/720 [01:01<00:32, 10.48it/s]"
     ]
    },
    {
     "name": "stderr",
     "output_type": "stream",
     "text": [
      "\r",
      " 53%|█████▎    | 380/720 [01:01<00:31, 10.80it/s]"
     ]
    },
    {
     "name": "stderr",
     "output_type": "stream",
     "text": [
      "\r",
      " 53%|█████▎    | 382/720 [01:01<00:30, 11.09it/s]"
     ]
    },
    {
     "name": "stderr",
     "output_type": "stream",
     "text": [
      "\r",
      " 53%|█████▎    | 384/720 [01:02<00:29, 11.28it/s]"
     ]
    },
    {
     "name": "stderr",
     "output_type": "stream",
     "text": [
      "\r",
      " 54%|█████▎    | 386/720 [01:02<00:29, 11.26it/s]"
     ]
    },
    {
     "name": "stderr",
     "output_type": "stream",
     "text": [
      "\r",
      " 54%|█████▍    | 388/720 [01:02<00:28, 11.47it/s]"
     ]
    },
    {
     "name": "stderr",
     "output_type": "stream",
     "text": [
      "\r",
      " 54%|█████▍    | 390/720 [01:02<00:33,  9.94it/s]"
     ]
    },
    {
     "name": "stderr",
     "output_type": "stream",
     "text": [
      "\r",
      " 54%|█████▍    | 392/720 [01:02<00:31, 10.40it/s]"
     ]
    },
    {
     "name": "stderr",
     "output_type": "stream",
     "text": [
      "\r",
      " 55%|█████▍    | 394/720 [01:03<00:30, 10.84it/s]"
     ]
    },
    {
     "name": "stderr",
     "output_type": "stream",
     "text": [
      "\r",
      " 55%|█████▌    | 396/720 [01:03<00:29, 11.06it/s]"
     ]
    },
    {
     "name": "stderr",
     "output_type": "stream",
     "text": [
      "\r",
      " 55%|█████▌    | 398/720 [01:03<00:28, 11.20it/s]"
     ]
    },
    {
     "name": "stderr",
     "output_type": "stream",
     "text": [
      "\r",
      " 56%|█████▌    | 400/720 [01:03<00:27, 11.48it/s]"
     ]
    },
    {
     "name": "stderr",
     "output_type": "stream",
     "text": [
      "\r",
      " 56%|█████▌    | 402/720 [01:03<00:27, 11.62it/s]"
     ]
    },
    {
     "name": "stderr",
     "output_type": "stream",
     "text": [
      "\r",
      " 56%|█████▌    | 404/720 [01:03<00:27, 11.68it/s]"
     ]
    },
    {
     "name": "stderr",
     "output_type": "stream",
     "text": [
      "\r",
      " 56%|█████▋    | 406/720 [01:04<00:31,  9.84it/s]"
     ]
    },
    {
     "name": "stderr",
     "output_type": "stream",
     "text": [
      "\r",
      " 57%|█████▋    | 408/720 [01:04<00:30, 10.17it/s]"
     ]
    },
    {
     "name": "stderr",
     "output_type": "stream",
     "text": [
      "\r",
      " 57%|█████▋    | 410/720 [01:04<00:29, 10.37it/s]"
     ]
    },
    {
     "name": "stderr",
     "output_type": "stream",
     "text": [
      "\r",
      " 57%|█████▋    | 412/720 [01:04<00:29, 10.56it/s]"
     ]
    },
    {
     "name": "stderr",
     "output_type": "stream",
     "text": [
      "\r",
      " 57%|█████▊    | 414/720 [01:04<00:28, 10.57it/s]"
     ]
    },
    {
     "name": "stderr",
     "output_type": "stream",
     "text": [
      "\r",
      " 58%|█████▊    | 416/720 [01:05<00:29, 10.45it/s]"
     ]
    },
    {
     "name": "stderr",
     "output_type": "stream",
     "text": [
      "\r",
      " 58%|█████▊    | 418/720 [01:05<00:28, 10.57it/s]"
     ]
    },
    {
     "name": "stderr",
     "output_type": "stream",
     "text": [
      "\r",
      " 58%|█████▊    | 420/720 [01:05<00:27, 10.74it/s]"
     ]
    },
    {
     "name": "stderr",
     "output_type": "stream",
     "text": [
      "\r",
      " 59%|█████▊    | 422/720 [01:05<00:34,  8.58it/s]"
     ]
    },
    {
     "name": "stderr",
     "output_type": "stream",
     "text": [
      "\r",
      " 59%|█████▉    | 424/720 [01:05<00:32,  9.08it/s]"
     ]
    },
    {
     "name": "stderr",
     "output_type": "stream",
     "text": [
      "\r",
      " 59%|█████▉    | 426/720 [01:06<00:30,  9.50it/s]"
     ]
    },
    {
     "name": "stderr",
     "output_type": "stream",
     "text": [
      "\r",
      " 59%|█████▉    | 428/720 [01:06<00:29,  9.95it/s]"
     ]
    },
    {
     "name": "stderr",
     "output_type": "stream",
     "text": [
      "\r",
      " 60%|█████▉    | 430/720 [01:06<00:29,  9.85it/s]"
     ]
    },
    {
     "name": "stderr",
     "output_type": "stream",
     "text": [
      "\r",
      " 60%|██████    | 432/720 [01:06<00:28,  9.95it/s]"
     ]
    },
    {
     "name": "stderr",
     "output_type": "stream",
     "text": [
      "\r",
      " 60%|██████    | 434/720 [01:06<00:29,  9.64it/s]"
     ]
    },
    {
     "name": "stderr",
     "output_type": "stream",
     "text": [
      "\r",
      " 60%|██████    | 435/720 [01:07<00:29,  9.57it/s]"
     ]
    },
    {
     "name": "stderr",
     "output_type": "stream",
     "text": [
      "\r",
      " 61%|██████    | 436/720 [01:07<00:30,  9.34it/s]"
     ]
    },
    {
     "name": "stderr",
     "output_type": "stream",
     "text": [
      "\r",
      " 61%|██████    | 437/720 [01:07<00:32,  8.78it/s]"
     ]
    },
    {
     "name": "stderr",
     "output_type": "stream",
     "text": [
      "\r",
      " 61%|██████    | 438/720 [01:07<00:40,  6.98it/s]"
     ]
    },
    {
     "name": "stderr",
     "output_type": "stream",
     "text": [
      "\r",
      " 61%|██████    | 440/720 [01:07<00:34,  8.11it/s]"
     ]
    },
    {
     "name": "stderr",
     "output_type": "stream",
     "text": [
      "\r",
      " 61%|██████▏   | 442/720 [01:07<00:30,  8.98it/s]"
     ]
    },
    {
     "name": "stderr",
     "output_type": "stream",
     "text": [
      "\r",
      " 62%|██████▏   | 444/720 [01:08<00:29,  9.34it/s]"
     ]
    },
    {
     "name": "stderr",
     "output_type": "stream",
     "text": [
      "\r",
      " 62%|██████▏   | 445/720 [01:08<00:29,  9.32it/s]"
     ]
    },
    {
     "name": "stderr",
     "output_type": "stream",
     "text": [
      "\r",
      " 62%|██████▏   | 446/720 [01:08<00:31,  8.59it/s]"
     ]
    },
    {
     "name": "stderr",
     "output_type": "stream",
     "text": [
      "\r",
      " 62%|██████▏   | 447/720 [01:08<00:31,  8.55it/s]"
     ]
    },
    {
     "name": "stderr",
     "output_type": "stream",
     "text": [
      "\r",
      " 62%|██████▏   | 448/720 [01:08<00:33,  8.17it/s]"
     ]
    },
    {
     "name": "stderr",
     "output_type": "stream",
     "text": [
      "\r",
      " 62%|██████▏   | 449/720 [01:08<00:34,  7.87it/s]"
     ]
    },
    {
     "name": "stderr",
     "output_type": "stream",
     "text": [
      "\r",
      " 62%|██████▎   | 450/720 [01:08<00:33,  8.00it/s]"
     ]
    },
    {
     "name": "stderr",
     "output_type": "stream",
     "text": [
      "\r",
      " 63%|██████▎   | 452/720 [01:09<00:30,  8.93it/s]"
     ]
    },
    {
     "name": "stderr",
     "output_type": "stream",
     "text": [
      "\r",
      " 63%|██████▎   | 454/720 [01:09<00:28,  9.50it/s]"
     ]
    },
    {
     "name": "stderr",
     "output_type": "stream",
     "text": [
      "\r",
      " 63%|██████▎   | 455/720 [01:09<00:32,  8.15it/s]"
     ]
    },
    {
     "name": "stderr",
     "output_type": "stream",
     "text": [
      "\r",
      " 63%|██████▎   | 457/720 [01:09<00:29,  8.90it/s]"
     ]
    },
    {
     "name": "stderr",
     "output_type": "stream",
     "text": [
      "\r",
      " 64%|██████▍   | 459/720 [01:09<00:28,  9.08it/s]"
     ]
    },
    {
     "name": "stderr",
     "output_type": "stream",
     "text": [
      "\r",
      " 64%|██████▍   | 460/720 [01:10<00:29,  8.68it/s]"
     ]
    },
    {
     "name": "stderr",
     "output_type": "stream",
     "text": [
      "\r",
      " 64%|██████▍   | 461/720 [01:10<00:31,  8.14it/s]"
     ]
    },
    {
     "name": "stderr",
     "output_type": "stream",
     "text": [
      "\r",
      " 64%|██████▍   | 462/720 [01:10<00:32,  7.82it/s]"
     ]
    },
    {
     "name": "stderr",
     "output_type": "stream",
     "text": [
      "\r",
      " 64%|██████▍   | 463/720 [01:10<00:33,  7.77it/s]"
     ]
    },
    {
     "name": "stderr",
     "output_type": "stream",
     "text": [
      "\r",
      " 64%|██████▍   | 464/720 [01:10<00:31,  8.05it/s]"
     ]
    },
    {
     "name": "stderr",
     "output_type": "stream",
     "text": [
      "\r",
      " 65%|██████▍   | 465/720 [01:10<00:30,  8.38it/s]"
     ]
    },
    {
     "name": "stderr",
     "output_type": "stream",
     "text": [
      "\r",
      " 65%|██████▍   | 467/720 [01:10<00:27,  9.26it/s]"
     ]
    },
    {
     "name": "stderr",
     "output_type": "stream",
     "text": [
      "\r",
      " 65%|██████▌   | 469/720 [01:11<00:26,  9.61it/s]"
     ]
    },
    {
     "name": "stderr",
     "output_type": "stream",
     "text": [
      "\r",
      " 65%|██████▌   | 470/720 [01:11<00:35,  7.03it/s]"
     ]
    },
    {
     "name": "stderr",
     "output_type": "stream",
     "text": [
      "\r",
      " 65%|██████▌   | 471/720 [01:11<00:34,  7.12it/s]"
     ]
    },
    {
     "name": "stderr",
     "output_type": "stream",
     "text": [
      "\r",
      " 66%|██████▌   | 472/720 [01:11<00:34,  7.20it/s]"
     ]
    },
    {
     "name": "stderr",
     "output_type": "stream",
     "text": [
      "\r",
      " 66%|██████▌   | 473/720 [01:11<00:33,  7.28it/s]"
     ]
    },
    {
     "name": "stderr",
     "output_type": "stream",
     "text": [
      "\r",
      " 66%|██████▌   | 474/720 [01:11<00:33,  7.33it/s]"
     ]
    },
    {
     "name": "stderr",
     "output_type": "stream",
     "text": [
      "\r",
      " 66%|██████▌   | 475/720 [01:11<00:33,  7.29it/s]"
     ]
    },
    {
     "name": "stderr",
     "output_type": "stream",
     "text": [
      "\r",
      " 66%|██████▌   | 476/720 [01:12<00:33,  7.21it/s]"
     ]
    },
    {
     "name": "stderr",
     "output_type": "stream",
     "text": [
      "\r",
      " 66%|██████▋   | 478/720 [01:12<00:29,  8.34it/s]"
     ]
    },
    {
     "name": "stderr",
     "output_type": "stream",
     "text": [
      "\r",
      " 67%|██████▋   | 480/720 [01:12<00:26,  9.08it/s]"
     ]
    },
    {
     "name": "stderr",
     "output_type": "stream",
     "text": [
      "\r",
      " 67%|██████▋   | 482/720 [01:12<00:24,  9.78it/s]"
     ]
    },
    {
     "name": "stderr",
     "output_type": "stream",
     "text": [
      "\r",
      " 67%|██████▋   | 483/720 [01:12<00:25,  9.42it/s]"
     ]
    },
    {
     "name": "stderr",
     "output_type": "stream",
     "text": [
      "\r",
      " 67%|██████▋   | 484/720 [01:12<00:27,  8.72it/s]"
     ]
    },
    {
     "name": "stderr",
     "output_type": "stream",
     "text": [
      "\r",
      " 67%|██████▋   | 485/720 [01:13<00:28,  8.29it/s]"
     ]
    },
    {
     "name": "stderr",
     "output_type": "stream",
     "text": [
      "\r",
      " 68%|██████▊   | 486/720 [01:13<00:30,  7.78it/s]"
     ]
    },
    {
     "name": "stderr",
     "output_type": "stream",
     "text": [
      "\r",
      " 68%|██████▊   | 487/720 [01:13<00:39,  5.95it/s]"
     ]
    },
    {
     "name": "stderr",
     "output_type": "stream",
     "text": [
      "\r",
      " 68%|██████▊   | 489/720 [01:13<00:30,  7.51it/s]"
     ]
    },
    {
     "name": "stderr",
     "output_type": "stream",
     "text": [
      "\r",
      " 68%|██████▊   | 491/720 [01:13<00:25,  8.85it/s]"
     ]
    },
    {
     "name": "stderr",
     "output_type": "stream",
     "text": [
      "\r",
      " 68%|██████▊   | 493/720 [01:14<00:23,  9.78it/s]"
     ]
    },
    {
     "name": "stderr",
     "output_type": "stream",
     "text": [
      "\r",
      " 69%|██████▉   | 495/720 [01:14<00:23,  9.57it/s]"
     ]
    },
    {
     "name": "stderr",
     "output_type": "stream",
     "text": [
      "\r",
      " 69%|██████▉   | 496/720 [01:14<00:23,  9.57it/s]"
     ]
    },
    {
     "name": "stderr",
     "output_type": "stream",
     "text": [
      "\r",
      " 69%|██████▉   | 497/720 [01:14<00:24,  9.24it/s]"
     ]
    },
    {
     "name": "stderr",
     "output_type": "stream",
     "text": [
      "\r",
      " 69%|██████▉   | 498/720 [01:14<00:24,  8.97it/s]"
     ]
    },
    {
     "name": "stderr",
     "output_type": "stream",
     "text": [
      "\r",
      " 69%|██████▉   | 499/720 [01:14<00:24,  9.09it/s]"
     ]
    },
    {
     "name": "stderr",
     "output_type": "stream",
     "text": [
      "\r",
      " 69%|██████▉   | 500/720 [01:14<00:24,  8.98it/s]"
     ]
    },
    {
     "name": "stderr",
     "output_type": "stream",
     "text": [
      "\r",
      " 70%|██████▉   | 502/720 [01:14<00:22,  9.79it/s]"
     ]
    },
    {
     "name": "stderr",
     "output_type": "stream",
     "text": [
      "\r",
      " 70%|██████▉   | 503/720 [01:15<00:27,  7.85it/s]"
     ]
    },
    {
     "name": "stderr",
     "output_type": "stream",
     "text": [
      "\r",
      " 70%|███████   | 504/720 [01:15<00:26,  8.24it/s]"
     ]
    },
    {
     "name": "stderr",
     "output_type": "stream",
     "text": [
      "\r",
      " 70%|███████   | 506/720 [01:15<00:23,  9.05it/s]"
     ]
    },
    {
     "name": "stderr",
     "output_type": "stream",
     "text": [
      "\r",
      " 71%|███████   | 508/720 [01:15<00:21,  9.91it/s]"
     ]
    },
    {
     "name": "stderr",
     "output_type": "stream",
     "text": [
      "\r",
      " 71%|███████   | 510/720 [01:15<00:20, 10.23it/s]"
     ]
    },
    {
     "name": "stderr",
     "output_type": "stream",
     "text": [
      "\r",
      " 71%|███████   | 512/720 [01:16<00:19, 10.81it/s]"
     ]
    },
    {
     "name": "stderr",
     "output_type": "stream",
     "text": [
      "\r",
      " 71%|███████▏  | 514/720 [01:16<00:18, 10.92it/s]"
     ]
    },
    {
     "name": "stderr",
     "output_type": "stream",
     "text": [
      "\r",
      " 72%|███████▏  | 516/720 [01:16<00:20, 10.17it/s]"
     ]
    },
    {
     "name": "stderr",
     "output_type": "stream",
     "text": [
      "\r",
      " 72%|███████▏  | 518/720 [01:16<00:20,  9.69it/s]"
     ]
    },
    {
     "name": "stderr",
     "output_type": "stream",
     "text": [
      "\r",
      " 72%|███████▏  | 519/720 [01:16<00:24,  8.20it/s]"
     ]
    },
    {
     "name": "stderr",
     "output_type": "stream",
     "text": [
      "\r",
      " 72%|███████▏  | 521/720 [01:17<00:21,  9.20it/s]"
     ]
    },
    {
     "name": "stderr",
     "output_type": "stream",
     "text": [
      "\r",
      " 73%|███████▎  | 523/720 [01:17<00:20,  9.65it/s]"
     ]
    },
    {
     "name": "stderr",
     "output_type": "stream",
     "text": [
      "\r",
      " 73%|███████▎  | 524/720 [01:17<00:20,  9.52it/s]"
     ]
    },
    {
     "name": "stderr",
     "output_type": "stream",
     "text": [
      "\r",
      " 73%|███████▎  | 526/720 [01:17<00:18, 10.22it/s]"
     ]
    },
    {
     "name": "stderr",
     "output_type": "stream",
     "text": [
      "\r",
      " 73%|███████▎  | 528/720 [01:17<00:17, 10.78it/s]"
     ]
    },
    {
     "name": "stderr",
     "output_type": "stream",
     "text": [
      "\r",
      " 74%|███████▎  | 530/720 [01:17<00:16, 11.20it/s]"
     ]
    },
    {
     "name": "stderr",
     "output_type": "stream",
     "text": [
      "\r",
      " 74%|███████▍  | 532/720 [01:17<00:16, 11.47it/s]"
     ]
    },
    {
     "name": "stderr",
     "output_type": "stream",
     "text": [
      "\r",
      " 74%|███████▍  | 534/720 [01:18<00:15, 11.70it/s]"
     ]
    },
    {
     "name": "stderr",
     "output_type": "stream",
     "text": [
      "\r",
      " 74%|███████▍  | 536/720 [01:18<00:18,  9.80it/s]"
     ]
    },
    {
     "name": "stderr",
     "output_type": "stream",
     "text": [
      "\r",
      " 75%|███████▍  | 538/720 [01:18<00:17, 10.24it/s]"
     ]
    },
    {
     "name": "stderr",
     "output_type": "stream",
     "text": [
      "\r",
      " 75%|███████▌  | 540/720 [01:18<00:16, 10.73it/s]"
     ]
    },
    {
     "name": "stderr",
     "output_type": "stream",
     "text": [
      "\r",
      " 75%|███████▌  | 542/720 [01:18<00:16, 11.05it/s]"
     ]
    },
    {
     "name": "stderr",
     "output_type": "stream",
     "text": [
      "\r",
      " 76%|███████▌  | 544/720 [01:19<00:15, 11.01it/s]"
     ]
    },
    {
     "name": "stderr",
     "output_type": "stream",
     "text": [
      "\r",
      " 76%|███████▌  | 546/720 [01:19<00:15, 11.02it/s]"
     ]
    },
    {
     "name": "stderr",
     "output_type": "stream",
     "text": [
      "\r",
      " 76%|███████▌  | 548/720 [01:19<00:15, 11.24it/s]"
     ]
    },
    {
     "name": "stderr",
     "output_type": "stream",
     "text": [
      "\r",
      " 76%|███████▋  | 550/720 [01:19<00:17,  9.70it/s]"
     ]
    },
    {
     "name": "stderr",
     "output_type": "stream",
     "text": [
      "\r",
      " 77%|███████▋  | 552/720 [01:19<00:16, 10.14it/s]"
     ]
    },
    {
     "name": "stderr",
     "output_type": "stream",
     "text": [
      "\r",
      " 77%|███████▋  | 554/720 [01:20<00:15, 10.45it/s]"
     ]
    },
    {
     "name": "stderr",
     "output_type": "stream",
     "text": [
      "\r",
      " 77%|███████▋  | 556/720 [01:20<00:15, 10.75it/s]"
     ]
    },
    {
     "name": "stderr",
     "output_type": "stream",
     "text": [
      "\r",
      " 78%|███████▊  | 558/720 [01:20<00:15, 10.38it/s]"
     ]
    },
    {
     "name": "stderr",
     "output_type": "stream",
     "text": [
      "\r",
      " 78%|███████▊  | 560/720 [01:20<00:15, 10.23it/s]"
     ]
    },
    {
     "name": "stderr",
     "output_type": "stream",
     "text": [
      "\r",
      " 78%|███████▊  | 562/720 [01:20<00:15, 10.47it/s]"
     ]
    },
    {
     "name": "stderr",
     "output_type": "stream",
     "text": [
      "\r",
      " 78%|███████▊  | 564/720 [01:21<00:14, 10.68it/s]"
     ]
    },
    {
     "name": "stderr",
     "output_type": "stream",
     "text": [
      "\r",
      " 79%|███████▊  | 566/720 [01:21<00:14, 10.87it/s]"
     ]
    },
    {
     "name": "stderr",
     "output_type": "stream",
     "text": [
      "\r",
      " 79%|███████▉  | 568/720 [01:21<00:16,  9.20it/s]"
     ]
    },
    {
     "name": "stderr",
     "output_type": "stream",
     "text": [
      "\r",
      " 79%|███████▉  | 570/720 [01:21<00:15,  9.62it/s]"
     ]
    },
    {
     "name": "stderr",
     "output_type": "stream",
     "text": [
      "\r",
      " 79%|███████▉  | 572/720 [01:21<00:14, 10.13it/s]"
     ]
    },
    {
     "name": "stderr",
     "output_type": "stream",
     "text": [
      "\r",
      " 80%|███████▉  | 574/720 [01:22<00:13, 10.49it/s]"
     ]
    },
    {
     "name": "stderr",
     "output_type": "stream",
     "text": [
      "\r",
      " 80%|████████  | 576/720 [01:22<00:13, 10.79it/s]"
     ]
    },
    {
     "name": "stderr",
     "output_type": "stream",
     "text": [
      "\r",
      " 80%|████████  | 578/720 [01:22<00:13, 10.91it/s]"
     ]
    },
    {
     "name": "stderr",
     "output_type": "stream",
     "text": [
      "\r",
      " 81%|████████  | 580/720 [01:22<00:12, 10.95it/s]"
     ]
    },
    {
     "name": "stderr",
     "output_type": "stream",
     "text": [
      "\r",
      " 81%|████████  | 582/720 [01:22<00:12, 11.15it/s]"
     ]
    },
    {
     "name": "stderr",
     "output_type": "stream",
     "text": [
      "\r",
      " 81%|████████  | 584/720 [01:23<00:14,  9.45it/s]"
     ]
    },
    {
     "name": "stderr",
     "output_type": "stream",
     "text": [
      "\r",
      " 81%|████████▏ | 586/720 [01:23<00:14,  9.22it/s]"
     ]
    },
    {
     "name": "stderr",
     "output_type": "stream",
     "text": [
      "\r",
      " 82%|████████▏ | 587/720 [01:23<00:15,  8.59it/s]"
     ]
    },
    {
     "name": "stderr",
     "output_type": "stream",
     "text": [
      "\r",
      " 82%|████████▏ | 588/720 [01:23<00:17,  7.76it/s]"
     ]
    },
    {
     "name": "stderr",
     "output_type": "stream",
     "text": [
      "\r",
      " 82%|████████▏ | 589/720 [01:23<00:18,  7.26it/s]"
     ]
    },
    {
     "name": "stderr",
     "output_type": "stream",
     "text": [
      "\r",
      " 82%|████████▏ | 590/720 [01:23<00:18,  7.04it/s]"
     ]
    },
    {
     "name": "stderr",
     "output_type": "stream",
     "text": [
      "\r",
      " 82%|████████▏ | 591/720 [01:24<00:19,  6.55it/s]"
     ]
    },
    {
     "name": "stderr",
     "output_type": "stream",
     "text": [
      "\r",
      " 82%|████████▏ | 592/720 [01:24<00:20,  6.33it/s]"
     ]
    },
    {
     "name": "stderr",
     "output_type": "stream",
     "text": [
      "\r",
      " 82%|████████▏ | 593/720 [01:24<00:20,  6.31it/s]"
     ]
    },
    {
     "name": "stderr",
     "output_type": "stream",
     "text": [
      "\r",
      " 82%|████████▎ | 594/720 [01:24<00:19,  6.43it/s]"
     ]
    },
    {
     "name": "stderr",
     "output_type": "stream",
     "text": [
      "\r",
      " 83%|████████▎ | 595/720 [01:24<00:19,  6.42it/s]"
     ]
    },
    {
     "name": "stderr",
     "output_type": "stream",
     "text": [
      "\r",
      " 83%|████████▎ | 596/720 [01:24<00:22,  5.60it/s]"
     ]
    },
    {
     "name": "stderr",
     "output_type": "stream",
     "text": [
      "\r",
      " 83%|████████▎ | 597/720 [01:25<00:24,  5.05it/s]"
     ]
    },
    {
     "name": "stderr",
     "output_type": "stream",
     "text": [
      "\r",
      " 83%|████████▎ | 598/720 [01:25<00:27,  4.40it/s]"
     ]
    },
    {
     "name": "stderr",
     "output_type": "stream",
     "text": [
      "\r",
      " 83%|████████▎ | 599/720 [01:25<00:24,  4.91it/s]"
     ]
    },
    {
     "name": "stderr",
     "output_type": "stream",
     "text": [
      "\r",
      " 83%|████████▎ | 600/720 [01:25<00:22,  5.40it/s]"
     ]
    },
    {
     "name": "stderr",
     "output_type": "stream",
     "text": [
      "\r",
      " 83%|████████▎ | 601/720 [01:25<00:22,  5.39it/s]"
     ]
    },
    {
     "name": "stderr",
     "output_type": "stream",
     "text": [
      "\r",
      " 84%|████████▎ | 602/720 [01:26<00:23,  5.06it/s]"
     ]
    },
    {
     "name": "stderr",
     "output_type": "stream",
     "text": [
      "\r",
      " 84%|████████▍ | 603/720 [01:26<00:20,  5.60it/s]"
     ]
    },
    {
     "name": "stderr",
     "output_type": "stream",
     "text": [
      "\r",
      " 84%|████████▍ | 604/720 [01:26<00:20,  5.65it/s]"
     ]
    },
    {
     "name": "stderr",
     "output_type": "stream",
     "text": [
      "\r",
      " 84%|████████▍ | 605/720 [01:26<00:20,  5.52it/s]"
     ]
    },
    {
     "name": "stderr",
     "output_type": "stream",
     "text": [
      "\r",
      " 84%|████████▍ | 606/720 [01:26<00:19,  5.75it/s]"
     ]
    },
    {
     "name": "stderr",
     "output_type": "stream",
     "text": [
      "\r",
      " 84%|████████▍ | 607/720 [01:27<00:19,  5.83it/s]"
     ]
    },
    {
     "name": "stderr",
     "output_type": "stream",
     "text": [
      "\r",
      " 84%|████████▍ | 608/720 [01:27<00:18,  6.06it/s]"
     ]
    },
    {
     "name": "stderr",
     "output_type": "stream",
     "text": [
      "\r",
      " 85%|████████▍ | 609/720 [01:27<00:22,  4.98it/s]"
     ]
    },
    {
     "name": "stderr",
     "output_type": "stream",
     "text": [
      "\r",
      " 85%|████████▍ | 610/720 [01:27<00:20,  5.31it/s]"
     ]
    },
    {
     "name": "stderr",
     "output_type": "stream",
     "text": [
      "\r",
      " 85%|████████▍ | 611/720 [01:27<00:19,  5.48it/s]"
     ]
    },
    {
     "name": "stderr",
     "output_type": "stream",
     "text": [
      "\r",
      " 85%|████████▌ | 612/720 [01:27<00:19,  5.51it/s]"
     ]
    },
    {
     "name": "stderr",
     "output_type": "stream",
     "text": [
      "\r",
      " 85%|████████▌ | 613/720 [01:28<00:24,  4.39it/s]"
     ]
    },
    {
     "name": "stderr",
     "output_type": "stream",
     "text": [
      "\r",
      " 85%|████████▌ | 614/720 [01:28<00:28,  3.78it/s]"
     ]
    },
    {
     "name": "stderr",
     "output_type": "stream",
     "text": [
      "\r",
      " 85%|████████▌ | 615/720 [01:28<00:23,  4.39it/s]"
     ]
    },
    {
     "name": "stderr",
     "output_type": "stream",
     "text": [
      "\r",
      " 86%|████████▌ | 616/720 [01:28<00:21,  4.75it/s]"
     ]
    },
    {
     "name": "stderr",
     "output_type": "stream",
     "text": [
      "\r",
      " 86%|████████▌ | 617/720 [01:29<00:20,  5.07it/s]"
     ]
    },
    {
     "name": "stderr",
     "output_type": "stream",
     "text": [
      "\r",
      " 86%|████████▌ | 618/720 [01:29<00:19,  5.32it/s]"
     ]
    },
    {
     "name": "stderr",
     "output_type": "stream",
     "text": [
      "\r",
      " 86%|████████▌ | 619/720 [01:29<00:18,  5.40it/s]"
     ]
    },
    {
     "name": "stderr",
     "output_type": "stream",
     "text": [
      "\r",
      " 86%|████████▌ | 620/720 [01:29<00:17,  5.66it/s]"
     ]
    },
    {
     "name": "stderr",
     "output_type": "stream",
     "text": [
      "\r",
      " 86%|████████▋ | 621/720 [01:29<00:17,  5.80it/s]"
     ]
    },
    {
     "name": "stderr",
     "output_type": "stream",
     "text": [
      "\r",
      " 86%|████████▋ | 622/720 [01:29<00:16,  5.83it/s]"
     ]
    },
    {
     "name": "stderr",
     "output_type": "stream",
     "text": [
      "\r",
      " 87%|████████▋ | 623/720 [01:30<00:17,  5.67it/s]"
     ]
    },
    {
     "name": "stderr",
     "output_type": "stream",
     "text": [
      "\r",
      " 87%|████████▋ | 624/720 [01:30<00:16,  5.70it/s]"
     ]
    },
    {
     "name": "stderr",
     "output_type": "stream",
     "text": [
      "\r",
      " 87%|████████▋ | 625/720 [01:30<00:16,  5.59it/s]"
     ]
    },
    {
     "name": "stderr",
     "output_type": "stream",
     "text": [
      "\r",
      " 87%|████████▋ | 626/720 [01:30<00:16,  5.67it/s]"
     ]
    },
    {
     "name": "stderr",
     "output_type": "stream",
     "text": [
      "\r",
      " 87%|████████▋ | 627/720 [01:30<00:17,  5.45it/s]"
     ]
    },
    {
     "name": "stderr",
     "output_type": "stream",
     "text": [
      "\r",
      " 87%|████████▋ | 628/720 [01:31<00:16,  5.64it/s]"
     ]
    },
    {
     "name": "stderr",
     "output_type": "stream",
     "text": [
      "\r",
      " 87%|████████▋ | 629/720 [01:31<00:16,  5.58it/s]"
     ]
    },
    {
     "name": "stderr",
     "output_type": "stream",
     "text": [
      "\r",
      " 88%|████████▊ | 630/720 [01:31<00:15,  5.82it/s]"
     ]
    },
    {
     "name": "stderr",
     "output_type": "stream",
     "text": [
      "\r",
      " 88%|████████▊ | 631/720 [01:31<00:21,  4.20it/s]"
     ]
    },
    {
     "name": "stderr",
     "output_type": "stream",
     "text": [
      "\r",
      " 88%|████████▊ | 632/720 [01:31<00:19,  4.52it/s]"
     ]
    },
    {
     "name": "stderr",
     "output_type": "stream",
     "text": [
      "\r",
      " 88%|████████▊ | 633/720 [01:32<00:18,  4.77it/s]"
     ]
    },
    {
     "name": "stderr",
     "output_type": "stream",
     "text": [
      "\r",
      " 88%|████████▊ | 634/720 [01:32<00:16,  5.09it/s]"
     ]
    },
    {
     "name": "stderr",
     "output_type": "stream",
     "text": [
      "\r",
      " 88%|████████▊ | 635/720 [01:32<00:16,  5.28it/s]"
     ]
    },
    {
     "name": "stderr",
     "output_type": "stream",
     "text": [
      "\r",
      " 88%|████████▊ | 636/720 [01:32<00:15,  5.50it/s]"
     ]
    },
    {
     "name": "stderr",
     "output_type": "stream",
     "text": [
      "\r",
      " 88%|████████▊ | 637/720 [01:32<00:14,  5.71it/s]"
     ]
    },
    {
     "name": "stderr",
     "output_type": "stream",
     "text": [
      "\r",
      " 89%|████████▊ | 638/720 [01:32<00:13,  5.97it/s]"
     ]
    },
    {
     "name": "stderr",
     "output_type": "stream",
     "text": [
      "\r",
      " 89%|████████▉ | 639/720 [01:33<00:13,  6.06it/s]"
     ]
    },
    {
     "name": "stderr",
     "output_type": "stream",
     "text": [
      "\r",
      " 89%|████████▉ | 640/720 [01:33<00:13,  5.73it/s]"
     ]
    },
    {
     "name": "stderr",
     "output_type": "stream",
     "text": [
      "\r",
      " 89%|████████▉ | 641/720 [01:33<00:13,  5.83it/s]"
     ]
    },
    {
     "name": "stderr",
     "output_type": "stream",
     "text": [
      "\r",
      " 89%|████████▉ | 642/720 [01:33<00:13,  5.73it/s]"
     ]
    },
    {
     "name": "stderr",
     "output_type": "stream",
     "text": [
      "\r",
      " 89%|████████▉ | 643/720 [01:33<00:12,  6.04it/s]"
     ]
    },
    {
     "name": "stderr",
     "output_type": "stream",
     "text": [
      "\r",
      " 89%|████████▉ | 644/720 [01:33<00:12,  6.20it/s]"
     ]
    },
    {
     "name": "stderr",
     "output_type": "stream",
     "text": [
      "\r",
      " 90%|████████▉ | 645/720 [01:34<00:12,  6.05it/s]"
     ]
    },
    {
     "name": "stderr",
     "output_type": "stream",
     "text": [
      "\r",
      " 90%|████████▉ | 646/720 [01:34<00:12,  6.14it/s]"
     ]
    },
    {
     "name": "stderr",
     "output_type": "stream",
     "text": [
      "\r",
      " 90%|████████▉ | 647/720 [01:34<00:13,  5.23it/s]"
     ]
    },
    {
     "name": "stderr",
     "output_type": "stream",
     "text": [
      "\r",
      " 90%|█████████ | 648/720 [01:34<00:12,  5.65it/s]"
     ]
    },
    {
     "name": "stderr",
     "output_type": "stream",
     "text": [
      "\r",
      " 90%|█████████ | 649/720 [01:34<00:11,  5.96it/s]"
     ]
    },
    {
     "name": "stderr",
     "output_type": "stream",
     "text": [
      "\r",
      " 90%|█████████ | 650/720 [01:35<00:11,  5.89it/s]"
     ]
    },
    {
     "name": "stderr",
     "output_type": "stream",
     "text": [
      "\r",
      " 90%|█████████ | 651/720 [01:35<00:11,  6.20it/s]"
     ]
    },
    {
     "name": "stderr",
     "output_type": "stream",
     "text": [
      "\r",
      " 91%|█████████ | 652/720 [01:35<00:10,  6.57it/s]"
     ]
    },
    {
     "name": "stderr",
     "output_type": "stream",
     "text": [
      "\r",
      " 91%|█████████ | 653/720 [01:35<00:09,  6.75it/s]"
     ]
    },
    {
     "name": "stderr",
     "output_type": "stream",
     "text": [
      "\r",
      " 91%|█████████ | 654/720 [01:35<00:09,  6.69it/s]"
     ]
    },
    {
     "name": "stderr",
     "output_type": "stream",
     "text": [
      "\r",
      " 91%|█████████ | 655/720 [01:35<00:09,  7.07it/s]"
     ]
    },
    {
     "name": "stderr",
     "output_type": "stream",
     "text": [
      "\r",
      " 91%|█████████ | 656/720 [01:35<00:09,  6.77it/s]"
     ]
    },
    {
     "name": "stderr",
     "output_type": "stream",
     "text": [
      "\r",
      " 91%|█████████▏| 657/720 [01:36<00:09,  6.77it/s]"
     ]
    },
    {
     "name": "stderr",
     "output_type": "stream",
     "text": [
      "\r",
      " 91%|█████████▏| 658/720 [01:36<00:09,  6.74it/s]"
     ]
    },
    {
     "name": "stderr",
     "output_type": "stream",
     "text": [
      "\r",
      " 92%|█████████▏| 659/720 [01:36<00:09,  6.49it/s]"
     ]
    },
    {
     "name": "stderr",
     "output_type": "stream",
     "text": [
      "\r",
      " 92%|█████████▏| 660/720 [01:36<00:08,  6.80it/s]"
     ]
    },
    {
     "name": "stderr",
     "output_type": "stream",
     "text": [
      "\r",
      " 92%|█████████▏| 661/720 [01:36<00:08,  6.84it/s]"
     ]
    },
    {
     "name": "stderr",
     "output_type": "stream",
     "text": [
      "\r",
      " 92%|█████████▏| 662/720 [01:36<00:10,  5.28it/s]"
     ]
    },
    {
     "name": "stderr",
     "output_type": "stream",
     "text": [
      "\r",
      " 92%|█████████▏| 663/720 [01:37<00:09,  5.77it/s]"
     ]
    },
    {
     "name": "stderr",
     "output_type": "stream",
     "text": [
      "\r",
      " 92%|█████████▏| 664/720 [01:37<00:09,  5.99it/s]"
     ]
    },
    {
     "name": "stderr",
     "output_type": "stream",
     "text": [
      "\r",
      " 92%|█████████▏| 665/720 [01:37<00:08,  6.22it/s]"
     ]
    },
    {
     "name": "stderr",
     "output_type": "stream",
     "text": [
      "\r",
      " 92%|█████████▎| 666/720 [01:37<00:08,  6.31it/s]"
     ]
    },
    {
     "name": "stderr",
     "output_type": "stream",
     "text": [
      "\r",
      " 93%|█████████▎| 667/720 [01:37<00:08,  6.51it/s]"
     ]
    },
    {
     "name": "stderr",
     "output_type": "stream",
     "text": [
      "\r",
      " 93%|█████████▎| 668/720 [01:37<00:09,  5.76it/s]"
     ]
    },
    {
     "name": "stderr",
     "output_type": "stream",
     "text": [
      "\r",
      " 93%|█████████▎| 669/720 [01:38<00:09,  5.38it/s]"
     ]
    },
    {
     "name": "stderr",
     "output_type": "stream",
     "text": [
      "\r",
      " 93%|█████████▎| 670/720 [01:38<00:08,  5.78it/s]"
     ]
    },
    {
     "name": "stderr",
     "output_type": "stream",
     "text": [
      "\r",
      " 93%|█████████▎| 671/720 [01:38<00:08,  5.85it/s]"
     ]
    },
    {
     "name": "stderr",
     "output_type": "stream",
     "text": [
      "\r",
      " 93%|█████████▎| 672/720 [01:38<00:08,  5.87it/s]"
     ]
    },
    {
     "name": "stderr",
     "output_type": "stream",
     "text": [
      "\r",
      " 93%|█████████▎| 673/720 [01:38<00:08,  5.73it/s]"
     ]
    },
    {
     "name": "stderr",
     "output_type": "stream",
     "text": [
      "\r",
      " 94%|█████████▎| 674/720 [01:39<00:09,  4.83it/s]"
     ]
    },
    {
     "name": "stderr",
     "output_type": "stream",
     "text": [
      "\r",
      " 94%|█████████▍| 675/720 [01:39<00:08,  5.10it/s]"
     ]
    },
    {
     "name": "stderr",
     "output_type": "stream",
     "text": [
      "\r",
      " 94%|█████████▍| 676/720 [01:39<00:08,  4.96it/s]"
     ]
    },
    {
     "name": "stderr",
     "output_type": "stream",
     "text": [
      "\r",
      " 94%|█████████▍| 677/720 [01:39<00:08,  4.98it/s]"
     ]
    },
    {
     "name": "stderr",
     "output_type": "stream",
     "text": [
      "\r",
      " 94%|█████████▍| 678/720 [01:39<00:10,  4.14it/s]"
     ]
    },
    {
     "name": "stderr",
     "output_type": "stream",
     "text": [
      "\r",
      " 94%|█████████▍| 679/720 [01:40<00:08,  4.68it/s]"
     ]
    },
    {
     "name": "stderr",
     "output_type": "stream",
     "text": [
      "\r",
      " 94%|█████████▍| 680/720 [01:40<00:08,  4.51it/s]"
     ]
    },
    {
     "name": "stderr",
     "output_type": "stream",
     "text": [
      "\r",
      " 95%|█████████▍| 681/720 [01:40<00:08,  4.83it/s]"
     ]
    },
    {
     "name": "stderr",
     "output_type": "stream",
     "text": [
      "\r",
      " 95%|█████████▍| 682/720 [01:40<00:07,  5.20it/s]"
     ]
    },
    {
     "name": "stderr",
     "output_type": "stream",
     "text": [
      "\r",
      " 95%|█████████▍| 683/720 [01:40<00:07,  5.16it/s]"
     ]
    },
    {
     "name": "stderr",
     "output_type": "stream",
     "text": [
      "\r",
      " 95%|█████████▌| 684/720 [01:41<00:06,  5.22it/s]"
     ]
    },
    {
     "name": "stderr",
     "output_type": "stream",
     "text": [
      "\r",
      " 95%|█████████▌| 685/720 [01:41<00:06,  5.37it/s]"
     ]
    },
    {
     "name": "stderr",
     "output_type": "stream",
     "text": [
      "\r",
      " 95%|█████████▌| 686/720 [01:41<00:06,  5.56it/s]"
     ]
    },
    {
     "name": "stderr",
     "output_type": "stream",
     "text": [
      "\r",
      " 95%|█████████▌| 687/720 [01:41<00:06,  5.42it/s]"
     ]
    },
    {
     "name": "stderr",
     "output_type": "stream",
     "text": [
      "\r",
      " 96%|█████████▌| 688/720 [01:41<00:05,  5.54it/s]"
     ]
    },
    {
     "name": "stderr",
     "output_type": "stream",
     "text": [
      "\r",
      " 96%|█████████▌| 689/720 [01:41<00:06,  4.89it/s]"
     ]
    },
    {
     "name": "stderr",
     "output_type": "stream",
     "text": [
      "\r",
      " 96%|█████████▌| 690/720 [01:42<00:06,  4.73it/s]"
     ]
    },
    {
     "name": "stderr",
     "output_type": "stream",
     "text": [
      "\r",
      " 96%|█████████▌| 691/720 [01:42<00:06,  4.81it/s]"
     ]
    },
    {
     "name": "stderr",
     "output_type": "stream",
     "text": [
      "\r",
      " 96%|█████████▌| 692/720 [01:42<00:05,  4.82it/s]"
     ]
    },
    {
     "name": "stderr",
     "output_type": "stream",
     "text": [
      "\r",
      " 96%|█████████▋| 693/720 [01:42<00:05,  5.10it/s]"
     ]
    },
    {
     "name": "stderr",
     "output_type": "stream",
     "text": [
      "\r",
      " 96%|█████████▋| 694/720 [01:43<00:06,  4.06it/s]"
     ]
    },
    {
     "name": "stderr",
     "output_type": "stream",
     "text": [
      "\r",
      " 97%|█████████▋| 695/720 [01:43<00:05,  4.63it/s]"
     ]
    },
    {
     "name": "stderr",
     "output_type": "stream",
     "text": [
      "\r",
      " 97%|█████████▋| 696/720 [01:43<00:04,  5.09it/s]"
     ]
    },
    {
     "name": "stderr",
     "output_type": "stream",
     "text": [
      "\r",
      " 97%|█████████▋| 697/720 [01:43<00:04,  5.26it/s]"
     ]
    },
    {
     "name": "stderr",
     "output_type": "stream",
     "text": [
      "\r",
      " 97%|█████████▋| 698/720 [01:43<00:04,  5.29it/s]"
     ]
    },
    {
     "name": "stderr",
     "output_type": "stream",
     "text": [
      "\r",
      " 97%|█████████▋| 699/720 [01:44<00:04,  5.02it/s]"
     ]
    },
    {
     "name": "stderr",
     "output_type": "stream",
     "text": [
      "\r",
      " 97%|█████████▋| 700/720 [01:44<00:04,  4.98it/s]"
     ]
    },
    {
     "name": "stderr",
     "output_type": "stream",
     "text": [
      "\r",
      " 97%|█████████▋| 701/720 [01:44<00:03,  5.01it/s]"
     ]
    },
    {
     "name": "stderr",
     "output_type": "stream",
     "text": [
      "\r",
      " 98%|█████████▊| 702/720 [01:44<00:03,  5.11it/s]"
     ]
    },
    {
     "name": "stderr",
     "output_type": "stream",
     "text": [
      "\r",
      " 98%|█████████▊| 703/720 [01:44<00:03,  5.18it/s]"
     ]
    },
    {
     "name": "stderr",
     "output_type": "stream",
     "text": [
      "\r",
      " 98%|█████████▊| 704/720 [01:45<00:03,  5.05it/s]"
     ]
    },
    {
     "name": "stderr",
     "output_type": "stream",
     "text": [
      "\r",
      " 98%|█████████▊| 705/720 [01:45<00:02,  5.17it/s]"
     ]
    },
    {
     "name": "stderr",
     "output_type": "stream",
     "text": [
      "\r",
      " 98%|█████████▊| 706/720 [01:45<00:02,  5.34it/s]"
     ]
    },
    {
     "name": "stderr",
     "output_type": "stream",
     "text": [
      "\r",
      " 98%|█████████▊| 707/720 [01:45<00:02,  5.30it/s]"
     ]
    },
    {
     "name": "stderr",
     "output_type": "stream",
     "text": [
      "\r",
      " 98%|█████████▊| 708/720 [01:45<00:02,  5.49it/s]"
     ]
    },
    {
     "name": "stderr",
     "output_type": "stream",
     "text": [
      "\r",
      " 98%|█████████▊| 709/720 [01:45<00:02,  5.07it/s]"
     ]
    },
    {
     "name": "stderr",
     "output_type": "stream",
     "text": [
      "\r",
      " 99%|█████████▊| 710/720 [01:46<00:02,  3.84it/s]"
     ]
    },
    {
     "name": "stderr",
     "output_type": "stream",
     "text": [
      "\r",
      " 99%|█████████▉| 711/720 [01:46<00:02,  4.16it/s]"
     ]
    },
    {
     "name": "stderr",
     "output_type": "stream",
     "text": [
      "\r",
      " 99%|█████████▉| 712/720 [01:46<00:01,  4.47it/s]"
     ]
    },
    {
     "name": "stderr",
     "output_type": "stream",
     "text": [
      "\r",
      " 99%|█████████▉| 713/720 [01:46<00:01,  4.61it/s]"
     ]
    },
    {
     "name": "stderr",
     "output_type": "stream",
     "text": [
      "\r",
      " 99%|█████████▉| 714/720 [01:47<00:01,  4.92it/s]"
     ]
    },
    {
     "name": "stderr",
     "output_type": "stream",
     "text": [
      "\r",
      " 99%|█████████▉| 715/720 [01:47<00:00,  5.01it/s]"
     ]
    },
    {
     "name": "stderr",
     "output_type": "stream",
     "text": [
      "\r",
      " 99%|█████████▉| 716/720 [01:47<00:00,  4.75it/s]"
     ]
    },
    {
     "name": "stderr",
     "output_type": "stream",
     "text": [
      "\r",
      "100%|█████████▉| 717/720 [01:47<00:00,  4.97it/s]"
     ]
    },
    {
     "name": "stderr",
     "output_type": "stream",
     "text": [
      "\r",
      "100%|█████████▉| 718/720 [01:47<00:00,  5.09it/s]"
     ]
    },
    {
     "name": "stderr",
     "output_type": "stream",
     "text": [
      "\r",
      "100%|█████████▉| 719/720 [01:48<00:00,  4.94it/s]"
     ]
    },
    {
     "name": "stderr",
     "output_type": "stream",
     "text": [
      "\r",
      "100%|██████████| 720/720 [01:48<00:00,  4.85it/s]"
     ]
    },
    {
     "name": "stderr",
     "output_type": "stream",
     "text": [
      "\r",
      "100%|██████████| 720/720 [01:48<00:00,  6.64it/s]"
     ]
    },
    {
     "name": "stderr",
     "output_type": "stream",
     "text": [
      "\n"
     ]
    }
   ],
   "source": [
    "import numpy as np\n",
    "import gensim\n",
    "from gensim.models import LdaModel\n",
    "from gensim.models.coherencemodel import CoherenceModel\n",
    "from gensim import corpora\n",
    "from gensim.models import TfidfModel\n",
    "import matplotlib.pyplot as plt\n",
    "import tqdm\n",
    "\n",
    "texts = sona_speeches_clean['speech']\n",
    "sentences = sona_sentences_alltogether['sentence']\n",
    "\n",
    "# Further process tokens using gensim's simple_preprocess\n",
    "tokenized_texts = [simple_preprocess(doc, deacc=True) for doc in texts]  # deacc=True removes punctuations\n",
    "tokenized_sentences = [simple_preprocess(doc, deacc=True) for doc in sentences]  # deacc=True removes punctuations\n",
    "\n",
    "# Create a Gensim dictionary from the tokenized documents\n",
    "dictionary = corpora.Dictionary(tokenized_texts)\n",
    "dictionary.filter_extremes(no_below=3, no_above=0.7)\n",
    "\n",
    "dict_sentences = corpora.Dictionary(tokenized_sentences)\n",
    "dict_sentences.filter_extremes(no_below=3, no_above=0.7)\n",
    "\n",
    "# Create a BOW corpus\n",
    "bow_corpus = [dictionary.doc2bow(text) for text in tokenized_texts]\n",
    "bow_corpus_sentences = [dict_sentences.doc2bow(text) for text in tokenized_sentences]\n",
    "\n",
    "# Create a TF-IDF corpus\n",
    "tfidf = TfidfModel(bow_corpus)\n",
    "tfidf_corpus = tfidf[bow_corpus]\n",
    "\n",
    "tfidf_sentences = TfidfModel(bow_corpus_sentences)\n",
    "tfidf_corpus_sentences = tfidf_sentences[bow_corpus_sentences]\n",
    "\n",
    "# Define the function to compute coherence values\n",
    "def compute_coherence_values(corpus, dictionary, k, a, b, texts):\n",
    "    lda_model = LdaModel(corpus=corpus,\n",
    "                         id2word=dictionary,\n",
    "                         num_topics=k, \n",
    "                         random_state=100,\n",
    "                         eval_every=None,\n",
    "                         alpha=a,\n",
    "                         eta=b)\n",
    "    \n",
    "    coherence_model_lda = CoherenceModel(model=lda_model, texts=texts, dictionary=dictionary, coherence='u_mass')\n",
    "    \n",
    "    return coherence_model_lda.get_coherence()\n",
    "\n",
    "# Define the parameter space for grid search\n",
    "grid = {}\n",
    "grid['Validation_Set'] = {}\n",
    "# Topics range\n",
    "min_topics = 2\n",
    "max_topics = 10\n",
    "step_size = 1\n",
    "topics_range = range(min_topics, max_topics, step_size)\n",
    "# Alpha parameter\n",
    "alpha = list(np.arange(0.1, 1, 0.1))\n",
    "# Beta parameter\n",
    "beta = list(np.arange(0.1, 1, 0.2))\n",
    "\n",
    "# Validation sets\n",
    "num_of_docs = len(bow_corpus)\n",
    "corpus_sets = [tfidf_corpus, \n",
    "               bow_corpus]\n",
    "corpus_title = ['TF-IDF Corpus', 'BoW Corpus']\n",
    "model_results = {'Validation_Set': [],\n",
    "                 'Topics': [],\n",
    "                 'Alpha': [],\n",
    "                 'Beta': [],\n",
    "                 'Coherence': []\n",
    "                }\n",
    "model_results_sentences = {'Validation_Set': [],\n",
    "                 'Topics': [],\n",
    "                 'Alpha': [],\n",
    "                 'Beta': [],\n",
    "                 'Coherence': []\n",
    "                }\n",
    "\n",
    "# Can take a long time to run\n",
    "# If you want to only test a few models, reduce the number of steps in topics_range\n",
    "# and/or limit the number of values in alpha and beta lists.\n",
    "if 1 == 1:\n",
    "    pbar = tqdm.tqdm(total=(max_topics-min_topics)*len(alpha)*len(beta)*len(corpus_sets))\n",
    "    \n",
    "    # iterate through validation corpuses\n",
    "    for i in range(len(corpus_sets)):\n",
    "        # iterate through number of topics\n",
    "        for k in topics_range:\n",
    "            # iterate through alpha values\n",
    "            for a in alpha:\n",
    "                # iterare through beta values\n",
    "                for b in beta:\n",
    "                    # get the coherence score for the given parameters\n",
    "                    cv = compute_coherence_values(corpus=corpus_sets[i], dictionary=dictionary, k=k, a=a, b=b, texts=tokenized_texts)\n",
    "                    # Save the model results\n",
    "                    model_results['Validation_Set'].append(corpus_title[i])\n",
    "                    model_results['Topics'].append(k)\n",
    "                    model_results['Alpha'].append(a)\n",
    "                    model_results['Beta'].append(b)\n",
    "                    model_results['Coherence'].append(cv)\n",
    "                    \n",
    "                    pbar.update(1)\n",
    "    pbar.close()\n",
    "\n",
    "\n",
    "# Get the results for the sentences\n",
    "if 1 == 1:\n",
    "    pbar = tqdm.tqdm(total=(max_topics-min_topics)*len(alpha)*len(beta)*len(corpus_sets))\n",
    "    \n",
    "    # iterate through validation corpuses\n",
    "    for i in range(len(corpus_sets)):\n",
    "        # iterate through number of topics\n",
    "        for k in topics_range:\n",
    "            # iterate through alpha values\n",
    "            for a in alpha:\n",
    "                # iterare through beta values\n",
    "                for b in beta:\n",
    "                    # get the coherence score for the given parameters\n",
    "                    cv = compute_coherence_values(corpus=corpus_sets[i], dictionary=dict_sentences, k=k, a=a, b=b, texts=tokenized_sentences)\n",
    "                    # Save the model results\n",
    "                    model_results_sentences['Validation_Set'].append(corpus_title[i])\n",
    "                    model_results_sentences['Topics'].append(k)\n",
    "                    model_results_sentences['Alpha'].append(a)\n",
    "                    model_results_sentences['Beta'].append(b)\n",
    "                    model_results_sentences['Coherence'].append(cv)\n",
    "                    \n",
    "                    pbar.update(1)\n",
    "    pbar.close()"
   ]
  },
  {
   "cell_type": "code",
   "execution_count": 28,
   "id": "eafa6bc0",
   "metadata": {},
   "outputs": [],
   "source": [
    "# # Save the results to a csv\n",
    "# model_results_df = pd.DataFrame(model_results)\n",
    "# model_results_sentences_df = pd.DataFrame(model_results_sentences)\n",
    "\n",
    "# model_results_df.to_csv('data/sona_speeches_lda.csv', index=False)\n",
    "# model_results_sentences_df.to_csv('data/sona_sentences_lda.csv', index=False)"
   ]
  },
  {
   "cell_type": "code",
   "execution_count": 29,
   "id": "243b0c78",
   "metadata": {},
   "outputs": [],
   "source": [
    "# Save the results to a csv\n",
    "model_results_df = pd.read_csv('data/sona_speeches_lda.csv')\n",
    "sorted_speeches_df = model_results_df.sort_values(by='Coherence', ascending=False)\n",
    "\n",
    "# Concatenate the head and tail of the DataFrame\n",
    "combined_speeches_df = pd.concat([sorted_speeches_df.head(5), sorted_speeches_df.tail(5)])\n",
    "\n",
    "combined_speeches_df['Validation_Set'] = combined_speeches_df['Validation_Set'].replace(['TF-IDF Corpus', 'BoW Corpus'], ['tf-idf', 'BoW'])\n",
    "\n",
    "# Change the validation set column name from \"Validation_Set\" to \"Corpus\"\n",
    "combined_speeches_df = combined_speeches_df.rename(columns={'Validation_Set': 'Corpus'})"
   ]
  },
  {
   "cell_type": "code",
   "execution_count": 30,
   "id": "1cd15f8a",
   "metadata": {},
   "outputs": [],
   "source": [
    "# Save the results to a csv\n",
    "model_results_sentences_df = pd.read_csv('data/sona_sentences_lda.csv')\n",
    "sorted_sentences_df = model_results_sentences_df.sort_values(by='Coherence', ascending=False)\n",
    "\n",
    "# Concatenate the head and tail of the DataFrame\n",
    "combined_sentences_df = pd.concat([sorted_sentences_df.head(5), sorted_sentences_df.tail(5)])\n",
    "combined_sentences_df['Validation_Set'] = combined_sentences_df['Validation_Set'].replace(['TF-IDF Corpus', 'BoW Corpus'], ['tf-idf', 'BoW'])\n",
    "\n",
    "# Change the validation set column name from \"Validation_Set\" to \"Corpus\"\n",
    "combined_sentences_df = combined_sentences_df.rename(columns={'Validation_Set': 'Corpus'})\n",
    "\n",
    "num_cols = combined_sentences_df.select_dtypes(include=['number']).columns\n",
    "\n",
    "# Remove the first value from the num_cols\n",
    "num_cols = num_cols[1:]"
   ]
  },
  {
   "cell_type": "code",
   "execution_count": 31,
   "id": "9e2aa2c6",
   "metadata": {},
   "outputs": [],
   "source": [
    "import pandas as pd\n",
    "import numpy as np\n",
    "import matplotlib.pyplot as plt\n",
    "\n",
    "\n",
    "# Use pivot_table to handle duplicate (Alpha, Beta) pairs by averaging their coherence values\n",
    "pivot_table = model_results_df.pivot_table(index='Alpha', columns='Beta', values='Coherence', aggfunc=np.mean)\n",
    "pivot_table_sentences = model_results_sentences_df.pivot_table(index='Alpha', columns='Beta', values='Coherence', aggfunc=np.mean)\n",
    "\n",
    "# Create the meshgrid for Alpha and Beta values\n",
    "Alpha, Beta = np.meshgrid(pivot_table.columns, pivot_table.index)\n",
    "Alpha_sentences, Beta_sentences = np.meshgrid(pivot_table_sentences.columns, pivot_table_sentences.index)\n",
    "\n",
    "# Create the contour plot using the values of the pivot_table\n",
    "# We need to use the values attribute to get the coherence scores as a 2D array\n",
    "plt.figure(figsize=(8, 6))\n",
    "cp = plt.contourf(Alpha, Beta, pivot_table.values, cmap='seismic', levels=100)\n",
    "plt.colorbar(cp)\n",
    "plt.xlabel('Beta')\n",
    "plt.ylabel('Alpha')\n",
    "plt.savefig(f'lda_plots/words_contour_plot.png', bbox_inches='tight')\n",
    "plt.close()\n",
    "\n",
    "plt.figure(figsize=(8, 6))\n",
    "cp = plt.contourf(Alpha_sentences, Beta_sentences, pivot_table_sentences.values, cmap='seismic', levels=100)\n",
    "plt.colorbar(cp)\n",
    "plt.xlabel('Beta')\n",
    "plt.ylabel('Alpha')\n",
    "plt.savefig(f'lda_plots/sentences_contour_plot.png', bbox_inches='tight')\n",
    "plt.close()"
   ]
  },
  {
   "cell_type": "code",
   "execution_count": 32,
   "id": "416bb5f5",
   "metadata": {},
   "outputs": [
    {
     "data": {
      "text/html": [
       "<style type=\"text/css\">\n",
       "#T_cfa8d .col-1 {\n",
       "  border: 1px solid black;\n",
       "  margin: auto;\n",
       "}\n",
       "</style>\n",
       "<table id=\"T_cfa8d\">\n",
       "  <thead>\n",
       "    <tr>\n",
       "      <th id=\"T_cfa8d_level0_col0\" class=\"col_heading level0 col0\" >Corpus</th>\n",
       "      <th id=\"T_cfa8d_level0_col1\" class=\"col_heading level0 col1\" >Topics</th>\n",
       "      <th id=\"T_cfa8d_level0_col2\" class=\"col_heading level0 col2\" >Alpha</th>\n",
       "      <th id=\"T_cfa8d_level0_col3\" class=\"col_heading level0 col3\" >Beta</th>\n",
       "      <th id=\"T_cfa8d_level0_col4\" class=\"col_heading level0 col4\" >Coherence</th>\n",
       "    </tr>\n",
       "  </thead>\n",
       "  <tbody>\n",
       "    <tr>\n",
       "      <td id=\"T_cfa8d_row0_col0\" class=\"data row0 col0\" >BoW</td>\n",
       "      <td id=\"T_cfa8d_row0_col1\" class=\"data row0 col1\" >9</td>\n",
       "      <td id=\"T_cfa8d_row0_col2\" class=\"data row0 col2\" >0.60</td>\n",
       "      <td id=\"T_cfa8d_row0_col3\" class=\"data row0 col3\" >0.50</td>\n",
       "      <td id=\"T_cfa8d_row0_col4\" class=\"data row0 col4\" >-0.42</td>\n",
       "    </tr>\n",
       "    <tr>\n",
       "      <td id=\"T_cfa8d_row1_col0\" class=\"data row1 col0\" >BoW</td>\n",
       "      <td id=\"T_cfa8d_row1_col1\" class=\"data row1 col1\" >9</td>\n",
       "      <td id=\"T_cfa8d_row1_col2\" class=\"data row1 col2\" >0.60</td>\n",
       "      <td id=\"T_cfa8d_row1_col3\" class=\"data row1 col3\" >0.10</td>\n",
       "      <td id=\"T_cfa8d_row1_col4\" class=\"data row1 col4\" >-0.42</td>\n",
       "    </tr>\n",
       "    <tr>\n",
       "      <td id=\"T_cfa8d_row2_col0\" class=\"data row2 col0\" >BoW</td>\n",
       "      <td id=\"T_cfa8d_row2_col1\" class=\"data row2 col1\" >9</td>\n",
       "      <td id=\"T_cfa8d_row2_col2\" class=\"data row2 col2\" >0.60</td>\n",
       "      <td id=\"T_cfa8d_row2_col3\" class=\"data row2 col3\" >0.70</td>\n",
       "      <td id=\"T_cfa8d_row2_col4\" class=\"data row2 col4\" >-0.42</td>\n",
       "    </tr>\n",
       "    <tr>\n",
       "      <td id=\"T_cfa8d_row3_col0\" class=\"data row3 col0\" >BoW</td>\n",
       "      <td id=\"T_cfa8d_row3_col1\" class=\"data row3 col1\" >9</td>\n",
       "      <td id=\"T_cfa8d_row3_col2\" class=\"data row3 col2\" >0.60</td>\n",
       "      <td id=\"T_cfa8d_row3_col3\" class=\"data row3 col3\" >0.90</td>\n",
       "      <td id=\"T_cfa8d_row3_col4\" class=\"data row3 col4\" >-0.42</td>\n",
       "    </tr>\n",
       "    <tr>\n",
       "      <td id=\"T_cfa8d_row4_col0\" class=\"data row4 col0\" >BoW</td>\n",
       "      <td id=\"T_cfa8d_row4_col1\" class=\"data row4 col1\" >9</td>\n",
       "      <td id=\"T_cfa8d_row4_col2\" class=\"data row4 col2\" >0.60</td>\n",
       "      <td id=\"T_cfa8d_row4_col3\" class=\"data row4 col3\" >0.30</td>\n",
       "      <td id=\"T_cfa8d_row4_col4\" class=\"data row4 col4\" >-0.42</td>\n",
       "    </tr>\n",
       "    <tr>\n",
       "      <td id=\"T_cfa8d_row5_col0\" class=\"data row5 col0\" >tf-idf</td>\n",
       "      <td id=\"T_cfa8d_row5_col1\" class=\"data row5 col1\" >7</td>\n",
       "      <td id=\"T_cfa8d_row5_col2\" class=\"data row5 col2\" >0.20</td>\n",
       "      <td id=\"T_cfa8d_row5_col3\" class=\"data row5 col3\" >0.90</td>\n",
       "      <td id=\"T_cfa8d_row5_col4\" class=\"data row5 col4\" >-4.25</td>\n",
       "    </tr>\n",
       "    <tr>\n",
       "      <td id=\"T_cfa8d_row6_col0\" class=\"data row6 col0\" >tf-idf</td>\n",
       "      <td id=\"T_cfa8d_row6_col1\" class=\"data row6 col1\" >7</td>\n",
       "      <td id=\"T_cfa8d_row6_col2\" class=\"data row6 col2\" >0.20</td>\n",
       "      <td id=\"T_cfa8d_row6_col3\" class=\"data row6 col3\" >0.10</td>\n",
       "      <td id=\"T_cfa8d_row6_col4\" class=\"data row6 col4\" >-4.25</td>\n",
       "    </tr>\n",
       "    <tr>\n",
       "      <td id=\"T_cfa8d_row7_col0\" class=\"data row7 col0\" >tf-idf</td>\n",
       "      <td id=\"T_cfa8d_row7_col1\" class=\"data row7 col1\" >7</td>\n",
       "      <td id=\"T_cfa8d_row7_col2\" class=\"data row7 col2\" >0.20</td>\n",
       "      <td id=\"T_cfa8d_row7_col3\" class=\"data row7 col3\" >0.30</td>\n",
       "      <td id=\"T_cfa8d_row7_col4\" class=\"data row7 col4\" >-4.25</td>\n",
       "    </tr>\n",
       "    <tr>\n",
       "      <td id=\"T_cfa8d_row8_col0\" class=\"data row8 col0\" >tf-idf</td>\n",
       "      <td id=\"T_cfa8d_row8_col1\" class=\"data row8 col1\" >7</td>\n",
       "      <td id=\"T_cfa8d_row8_col2\" class=\"data row8 col2\" >0.20</td>\n",
       "      <td id=\"T_cfa8d_row8_col3\" class=\"data row8 col3\" >0.50</td>\n",
       "      <td id=\"T_cfa8d_row8_col4\" class=\"data row8 col4\" >-4.25</td>\n",
       "    </tr>\n",
       "    <tr>\n",
       "      <td id=\"T_cfa8d_row9_col0\" class=\"data row9 col0\" >tf-idf</td>\n",
       "      <td id=\"T_cfa8d_row9_col1\" class=\"data row9 col1\" >7</td>\n",
       "      <td id=\"T_cfa8d_row9_col2\" class=\"data row9 col2\" >0.20</td>\n",
       "      <td id=\"T_cfa8d_row9_col3\" class=\"data row9 col3\" >0.70</td>\n",
       "      <td id=\"T_cfa8d_row9_col4\" class=\"data row9 col4\" >-4.25</td>\n",
       "    </tr>\n",
       "  </tbody>\n",
       "</table>\n"
      ],
      "text/plain": [
       "<pandas.io.formats.style.Styler at 0x15c4d0fd0>"
      ]
     },
     "execution_count": 31,
     "metadata": {},
     "output_type": "execute_result"
    }
   ],
   "source": [
    "def style_df(df):\n",
    "    # Select the numeric columns except the first one\n",
    "    numeric_cols = df.select_dtypes(include=['number']).columns[1:]\n",
    "    format_dict = {col: \"{:.2f}\" for col in numeric_cols}\n",
    "    return df.style.set_table_styles({\n",
    "        '': [{'selector': '',\n",
    "              'props': [('border', '1px solid black'),\n",
    "               ('margin', 'auto'),\n",
    "               ]}]\n",
    "    }).format(format_dict).hide()\n",
    "\n",
    "# Save the results to a csv\n",
    "style_df(combined_speeches_df)"
   ]
  },
  {
   "cell_type": "code",
   "execution_count": 33,
   "id": "84db76a0",
   "metadata": {},
   "outputs": [
    {
     "data": {
      "text/html": [
       "<style type=\"text/css\">\n",
       "#T_92d4a .col-1 {\n",
       "  border: 1px solid black;\n",
       "  margin: auto;\n",
       "}\n",
       "</style>\n",
       "<table id=\"T_92d4a\">\n",
       "  <thead>\n",
       "    <tr>\n",
       "      <th id=\"T_92d4a_level0_col0\" class=\"col_heading level0 col0\" >Corpus</th>\n",
       "      <th id=\"T_92d4a_level0_col1\" class=\"col_heading level0 col1\" >Topics</th>\n",
       "      <th id=\"T_92d4a_level0_col2\" class=\"col_heading level0 col2\" >Alpha</th>\n",
       "      <th id=\"T_92d4a_level0_col3\" class=\"col_heading level0 col3\" >Beta</th>\n",
       "      <th id=\"T_92d4a_level0_col4\" class=\"col_heading level0 col4\" >Coherence</th>\n",
       "    </tr>\n",
       "  </thead>\n",
       "  <tbody>\n",
       "    <tr>\n",
       "      <td id=\"T_92d4a_row0_col0\" class=\"data row0 col0\" >BoW</td>\n",
       "      <td id=\"T_92d4a_row0_col1\" class=\"data row0 col1\" >2</td>\n",
       "      <td id=\"T_92d4a_row0_col2\" class=\"data row0 col2\" >0.90</td>\n",
       "      <td id=\"T_92d4a_row0_col3\" class=\"data row0 col3\" >0.90</td>\n",
       "      <td id=\"T_92d4a_row0_col4\" class=\"data row0 col4\" >-18.98</td>\n",
       "    </tr>\n",
       "    <tr>\n",
       "      <td id=\"T_92d4a_row1_col0\" class=\"data row1 col0\" >BoW</td>\n",
       "      <td id=\"T_92d4a_row1_col1\" class=\"data row1 col1\" >2</td>\n",
       "      <td id=\"T_92d4a_row1_col2\" class=\"data row1 col2\" >0.80</td>\n",
       "      <td id=\"T_92d4a_row1_col3\" class=\"data row1 col3\" >0.50</td>\n",
       "      <td id=\"T_92d4a_row1_col4\" class=\"data row1 col4\" >-18.98</td>\n",
       "    </tr>\n",
       "    <tr>\n",
       "      <td id=\"T_92d4a_row2_col0\" class=\"data row2 col0\" >BoW</td>\n",
       "      <td id=\"T_92d4a_row2_col1\" class=\"data row2 col1\" >2</td>\n",
       "      <td id=\"T_92d4a_row2_col2\" class=\"data row2 col2\" >0.70</td>\n",
       "      <td id=\"T_92d4a_row2_col3\" class=\"data row2 col3\" >0.10</td>\n",
       "      <td id=\"T_92d4a_row2_col4\" class=\"data row2 col4\" >-18.98</td>\n",
       "    </tr>\n",
       "    <tr>\n",
       "      <td id=\"T_92d4a_row3_col0\" class=\"data row3 col0\" >BoW</td>\n",
       "      <td id=\"T_92d4a_row3_col1\" class=\"data row3 col1\" >2</td>\n",
       "      <td id=\"T_92d4a_row3_col2\" class=\"data row3 col2\" >0.70</td>\n",
       "      <td id=\"T_92d4a_row3_col3\" class=\"data row3 col3\" >0.30</td>\n",
       "      <td id=\"T_92d4a_row3_col4\" class=\"data row3 col4\" >-18.98</td>\n",
       "    </tr>\n",
       "    <tr>\n",
       "      <td id=\"T_92d4a_row4_col0\" class=\"data row4 col0\" >BoW</td>\n",
       "      <td id=\"T_92d4a_row4_col1\" class=\"data row4 col1\" >2</td>\n",
       "      <td id=\"T_92d4a_row4_col2\" class=\"data row4 col2\" >0.70</td>\n",
       "      <td id=\"T_92d4a_row4_col3\" class=\"data row4 col3\" >0.50</td>\n",
       "      <td id=\"T_92d4a_row4_col4\" class=\"data row4 col4\" >-18.98</td>\n",
       "    </tr>\n",
       "    <tr>\n",
       "      <td id=\"T_92d4a_row5_col0\" class=\"data row5 col0\" >tf-idf</td>\n",
       "      <td id=\"T_92d4a_row5_col1\" class=\"data row5 col1\" >2</td>\n",
       "      <td id=\"T_92d4a_row5_col2\" class=\"data row5 col2\" >0.40</td>\n",
       "      <td id=\"T_92d4a_row5_col3\" class=\"data row5 col3\" >0.10</td>\n",
       "      <td id=\"T_92d4a_row5_col4\" class=\"data row5 col4\" >-20.56</td>\n",
       "    </tr>\n",
       "    <tr>\n",
       "      <td id=\"T_92d4a_row6_col0\" class=\"data row6 col0\" >tf-idf</td>\n",
       "      <td id=\"T_92d4a_row6_col1\" class=\"data row6 col1\" >2</td>\n",
       "      <td id=\"T_92d4a_row6_col2\" class=\"data row6 col2\" >0.40</td>\n",
       "      <td id=\"T_92d4a_row6_col3\" class=\"data row6 col3\" >0.30</td>\n",
       "      <td id=\"T_92d4a_row6_col4\" class=\"data row6 col4\" >-20.56</td>\n",
       "    </tr>\n",
       "    <tr>\n",
       "      <td id=\"T_92d4a_row7_col0\" class=\"data row7 col0\" >tf-idf</td>\n",
       "      <td id=\"T_92d4a_row7_col1\" class=\"data row7 col1\" >2</td>\n",
       "      <td id=\"T_92d4a_row7_col2\" class=\"data row7 col2\" >0.40</td>\n",
       "      <td id=\"T_92d4a_row7_col3\" class=\"data row7 col3\" >0.50</td>\n",
       "      <td id=\"T_92d4a_row7_col4\" class=\"data row7 col4\" >-20.56</td>\n",
       "    </tr>\n",
       "    <tr>\n",
       "      <td id=\"T_92d4a_row8_col0\" class=\"data row8 col0\" >tf-idf</td>\n",
       "      <td id=\"T_92d4a_row8_col1\" class=\"data row8 col1\" >2</td>\n",
       "      <td id=\"T_92d4a_row8_col2\" class=\"data row8 col2\" >0.40</td>\n",
       "      <td id=\"T_92d4a_row8_col3\" class=\"data row8 col3\" >0.70</td>\n",
       "      <td id=\"T_92d4a_row8_col4\" class=\"data row8 col4\" >-20.56</td>\n",
       "    </tr>\n",
       "    <tr>\n",
       "      <td id=\"T_92d4a_row9_col0\" class=\"data row9 col0\" >tf-idf</td>\n",
       "      <td id=\"T_92d4a_row9_col1\" class=\"data row9 col1\" >2</td>\n",
       "      <td id=\"T_92d4a_row9_col2\" class=\"data row9 col2\" >0.40</td>\n",
       "      <td id=\"T_92d4a_row9_col3\" class=\"data row9 col3\" >0.90</td>\n",
       "      <td id=\"T_92d4a_row9_col4\" class=\"data row9 col4\" >-20.56</td>\n",
       "    </tr>\n",
       "  </tbody>\n",
       "</table>\n"
      ],
      "text/plain": [
       "<pandas.io.formats.style.Styler at 0x15ed98310>"
      ]
     },
     "execution_count": 32,
     "metadata": {},
     "output_type": "execute_result"
    }
   ],
   "source": [
    "# Save the results to a csv\n",
    "style_df(combined_sentences_df)"
   ]
  },
  {
   "cell_type": "code",
   "execution_count": 34,
   "id": "44812801",
   "metadata": {},
   "outputs": [],
   "source": [
    "import pyLDAvis.gensim_models\n",
    "import gensim\n",
    "\n",
    "# Train the best models for each corpus\n",
    "lda_model_speeches = LdaModel(corpus=bow_corpus,\n",
    "                         id2word=dictionary,\n",
    "                         num_topics=9, \n",
    "                         random_state=100,\n",
    "                         eval_every=None,\n",
    "                         alpha=0.6,\n",
    "                         eta=0.5)\n",
    "\n",
    "lda_model_sentences = LdaModel(corpus=bow_corpus,\n",
    "                         id2word=dict_sentences,\n",
    "                         num_topics=2, \n",
    "                         random_state=100,\n",
    "                         eval_every=None,\n",
    "                         alpha=0.9,\n",
    "                         eta=0.9)\n",
    "\n",
    "# Prepare the visualization data\n",
    "vis_data_speeches = pyLDAvis.gensim_models.prepare(lda_model_speeches, bow_corpus, dictionary)\n",
    "vis_data_sentences = pyLDAvis.gensim_models.prepare(lda_model_sentences, bow_corpus_sentences, dict_sentences)"
   ]
  },
  {
   "cell_type": "code",
   "execution_count": 35,
   "id": "2e9502b3",
   "metadata": {},
   "outputs": [
    {
     "data": {
      "text/html": [
       "\n",
       "<link rel=\"stylesheet\" type=\"text/css\" href=\"https://cdn.jsdelivr.net/gh/bmabey/pyLDAvis@3.4.0/pyLDAvis/js/ldavis.v1.0.0.css\">\n",
       "\n",
       "\n",
       "<div id=\"ldavis_el7911862767835042658856682\" style=\"background-color:white;\"></div>\n",
       "<script type=\"text/javascript\">\n",
       "\n",
       "var ldavis_el7911862767835042658856682_data = {\"mdsDat\": {\"x\": [0.003951678325062933, -0.0006062880368687193, 6.90494644971651e-05, 0.0014862257307974483, -0.0003955575527049647, -0.0013699098999183654, -0.0021267212782748453, 0.0003133419274103289, -0.0013218186800009848], \"y\": [-0.00027853954603118084, 0.00036956888676663795, 0.0028086282738957967, 0.00016358279009958133, -0.0009702235732735481, -0.0027098220023266503, 0.001361176578938494, -0.0007934165188097603, 4.904511074062919e-05], \"topics\": [1, 2, 3, 4, 5, 6, 7, 8, 9], \"cluster\": [1, 1, 1, 1, 1, 1, 1, 1, 1], \"Freq\": [38.38152792042605, 18.121807130164598, 16.32326784886573, 11.301625804608788, 4.966339007749544, 3.7563679116082827, 3.0494108631509307, 2.6097161049170823, 1.4899374085089954]}, \"tinfo\": {\"Term\": [\"plan\", \"shall\", \"number\", \"necessary\", \"key\", \"possible\", \"mining\", \"crisis\", \"businesses\", \"law\", \"households\", \"relations\", \"fact\", \"question\", \"eskom\", \"reform\", \"say\", \"project\", \"potential\", \"around\", \"per\", \"indeed\", \"objectives\", \"fellow\", \"rand\", \"elections\", \"presidential\", \"municipalities\", \"second\", \"investments\", \"alliance\", \"mpumalanga\", \"shale\", \"triple\", \"district\", \"realities\", \"standing\", \"municipality\", \"prices\", \"involved\", \"figures\", \"premiers\", \"happy\", \"step\", \"adopt\", \"regards\", \"continuous\", \"republic\", \"spending\", \"hear\", \"deep\", \"rest\", \"defence\", \"basis\", \"register\", \"late\", \"elaborate\", \"carried\", \"felt\", \"released\", \"approach\", \"achievements\", \"rand\", \"possible\", \"supply\", \"say\", \"foreign\", \"key\", \"income\", \"agreed\", \"mining\", \"actions\", \"child\", \"taking\", \"question\", \"joint\", \"shall\", \"objectives\", \"number\", \"fully\", \"plan\", \"parties\", \"municipalities\", \"elections\", \"governance\", \"cup\", \"fact\", \"general\", \"necessary\", \"project\", \"matters\", \"households\", \"decade\", \"context\", \"crisis\", \"crimes\", \"reading\", \"greatest\", \"data\", \"reform\", \"combined\", \"maintenance\", \"loadshedding\", \"convey\", \"prosecuting\", \"pandemic\", \"grave\", \"digital\", \"healthcare\", \"meaningful\", \"damage\", \"africansthe\", \"turn\", \"grow\", \"mindful\", \"gender\", \"legislative\", \"devastating\", \"terminal\", \"strategies\", \"mechanism\", \"industries\", \"capabilities\", \"ready\", \"belongs\", \"scheme\", \"weeks\", \"clothing\", \"difficult\", \"acknowledge\", \"reforms\", \"successful\", \"eskom\", \"implementing\", \"far\", \"discussions\", \"rates\", \"law\", \"accelerate\", \"want\", \"inequality\", \"former\", \"shall\", \"crimes\", \"could\", \"pleased\", \"crisis\", \"fundamental\", \"central\", \"relations\", \"plan\", \"necessary\", \"mining\", \"second\", \"key\", \"businesses\", \"number\", \"terms\", \"rest\", \"urgent\", \"possible\", \"supply\", \"objectives\", \"elections\", \"decade\", \"governance\", \"context\", \"say\", \"parties\", \"pensions\", \"reserve\", \"obligations\", \"epwp\", \"regeneration\", \"engagement\", \"bid\", \"anything\", \"coordination\", \"upgrading\", \"highway\", \"particularly\", \"willing\", \"conduct\", \"refused\", \"maputo\", \"city\", \"affirmative\", \"countless\", \"reconciliation\", \"hands\", \"active\", \"go\", \"moments\", \"current\", \"equipment\", \"leaving\", \"sahara\", \"fuels\", \"siu\", \"thousand\", \"vaccines\", \"restructuring\", \"humanity\", \"masses\", \"efficiency\", \"problem\", \"necessary\", \"potential\", \"unity\", \"patriotism\", \"households\", \"cases\", \"recovery\", \"production\", \"cup\", \"expansion\", \"respond\", \"decade\", \"proud\", \"plan\", \"indeed\", \"shall\", \"reach\", \"eskom\", \"relations\", \"fact\", \"number\", \"municipalities\", \"criminal\", \"question\", \"reform\", \"want\", \"mining\", \"key\", \"businesses\", \"second\", \"governance\", \"crisis\", \"supply\", \"child\", \"objectives\", \"project\", \"say\", \"elections\", \"crimes\", \"mama\", \"priority\", \"guidelines\", \"along\", \"urgency\", \"second\", \"cricket\", \"iraq\", \"per\", \"directly\", \"correct\", \"looking\", \"east\", \"lose\", \"weapons\", \"insurance\", \"grants\", \"offers\", \"cities\", \"abuse\", \"frames\", \"trillion\", \"pessimism\", \"strengthened\", \"percentage\", \"destroy\", \"decisions\", \"hosted\", \"remuneration\", \"difficulties\", \"pace\", \"destruction\", \"enhance\", \"durban\", \"proud\", \"ministers\", \"chief\", \"procurement\", \"family\", \"fellow\", \"context\", \"decided\", \"number\", \"necessary\", \"group\", \"spheres\", \"target\", \"general\", \"expansion\", \"rand\", \"present\", \"confidence\", \"conference\", \"plan\", \"shall\", \"eastern\", \"crisis\", \"relations\", \"transport\", \"municipality\", \"households\", \"increased\", \"mining\", \"fact\", \"indeed\", \"child\", \"approach\", \"reform\", \"crimes\", \"elections\", \"municipalities\", \"project\", \"key\", \"possible\", \"say\", \"chosen\", \"decline\", \"employed\", \"current\", \"advantage\", \"procurement\", \"consistently\", \"investors\", \"industries\", \"province\", \"gap\", \"defined\", \"lesson\", \"confidence\", \"pursuit\", \"na\", \"ruling\", \"inadequate\", \"began\", \"producers\", \"redistribution\", \"sites\", \"look\", \"expected\", \"explored\", \"oliver\", \"student\", \"van\", \"willing\", \"healthcare\", \"birth\", \"focused\", \"climate\", \"exports\", \"presidential\", \"spheres\", \"research\", \"reducing\", \"seen\", \"reforms\", \"relations\", \"around\", \"per\", \"former\", \"objectives\", \"additional\", \"difficult\", \"plan\", \"vision\", \"road\", \"increased\", \"required\", \"students\", \"potential\", \"shall\", \"municipalities\", \"real\", \"terms\", \"centre\", \"number\", \"restructuring\", \"mining\", \"started\", \"parties\", \"child\", \"host\", \"reconstruction\", \"necessary\", \"crisis\", \"second\", \"fellow\", \"key\", \"fact\", \"law\", \"businesses\", \"ownership\", \"twenty\", \"percent\", \"upgrade\", \"signed\", \"network\", \"broader\", \"leaks\", \"coal\", \"presented\", \"beneficiaries\", \"around\", \"added\", \"cyril\", \"soldiers\", \"mama\", \"replacing\", \"fasttrack\", \"oliver\", \"table\", \"smallholder\", \"generation\", \"female\", \"arrivals\", \"radical\", \"ninepoint\", \"extortion\", \"corpshonourable\", \"overseas\", \"barriers\", \"renewable\", \"socioeconomic\", \"spoke\", \"maintenance\", \"compatriots\", \"received\", \"stateowned\", \"master\", \"reach\", \"worth\", \"per\", \"bill\", \"evening\", \"fellow\", \"spirit\", \"liberation\", \"businesses\", \"trust\", \"grow\", \"reducing\", \"rand\", \"cabinet\", \"law\", \"plan\", \"republic\", \"households\", \"eastern\", \"serious\", \"capital\", \"continued\", \"eskom\", \"presidential\", \"key\", \"production\", \"week\", \"defence\", \"say\", \"implementing\", \"shall\", \"procurement\", \"number\", \"reform\", \"project\", \"possible\", \"mining\", \"second\", \"necessary\", \"relations\", \"crisis\", \"approach\", \"objectives\", \"rather\", \"injustice\", \"promotes\", \"nutrition\", \"appointing\", \"includes\", \"connections\", \"prosecuting\", \"opposition\", \"interference\", \"intensity\", \"certainty\", \"everyone\", \"grave\", \"corporations\", \"weakened\", \"redefining\", \"facilitating\", \"unleash\", \"improves\", \"meant\", \"protection\", \"arguably\", \"earnest\", \"trees\", \"pace\", \"easily\", \"earnings\", \"worship\", \"bridges\", \"allocate\", \"difficult\", \"criminals\", \"senior\", \"pandemic\", \"tackle\", \"depend\", \"integrity\", \"recovery\", \"available\", \"capable\", \"existing\", \"institution\", \"relations\", \"determination\", \"necessary\", \"cost\", \"growing\", \"businesses\", \"northern\", \"seen\", \"complete\", \"agency\", \"cabinet\", \"actions\", \"debt\", \"law\", \"indeed\", \"proud\", \"shall\", \"around\", \"want\", \"reform\", \"particularly\", \"environment\", \"climate\", \"funds\", \"number\", \"eskom\", \"crimes\", \"elections\", \"question\", \"investments\", \"fact\", \"key\", \"matters\", \"households\", \"plan\", \"crisis\", \"priority\", \"mining\", \"possible\", \"context\", \"project\", \"say\", \"coordinate\", \"convinced\", \"meaning\", \"alliance\", \"judge\", \"presence\", \"emergency\", \"winning\", \"hani\", \"clearly\", \"amendments\", \"advance\", \"war\", \"saving\", \"stand\", \"relationship\", \"sense\", \"concerns\", \"proposed\", \"broken\", \"opened\", \"convene\", \"essence\", \"fathers\", \"specifically\", \"augmentation\", \"western\", \"fet\", \"officials\", \"correctional\", \"required\", \"ten\", \"led\", \"increasing\", \"organised\", \"vulnerable\", \"vision\", \"spirit\", \"possible\", \"households\", \"law\", \"particularly\", \"activities\", \"civil\", \"june\", \"coming\", \"gender\", \"cost\", \"plan\", \"present\", \"following\", \"businesses\", \"indeed\", \"key\", \"march\", \"necessary\", \"kwazulunatal\", \"per\", \"context\", \"mining\", \"rand\", \"shall\", \"relations\", \"eskom\", \"parties\", \"expansion\", \"project\", \"number\", \"clear\", \"say\", \"objectives\", \"pleased\", \"question\", \"crisis\", \"reform\", \"decade\", \"eastern\", \"fact\", \"municipalities\", \"opposition\", \"cohort\", \"factor\", \"fire\", \"vaccines\", \"called\", \"strengthening\", \"batho\", \"worship\", \"crisis\", \"voluntarily\", \"worth\", \"disturbing\", \"leaving\", \"walked\", \"fragmented\", \"visa\", \"list\", \"requirement\", \"remote\", \"eskoms\", \"zondo\", \"follow\", \"sent\", \"undertook\", \"exports\", \"hours\", \"answer\", \"everybodys\", \"visas\", \"publicprivate\", \"affordable\", \"upon\", \"teams\", \"go\", \"investments\", \"potential\", \"grow\", \"plan\", \"effects\", \"july\", \"grant\", \"consensus\", \"election\", \"masses\", \"frontiers\", \"ahead\", \"model\", \"businesses\", \"fact\", \"stakeholders\", \"finalise\", \"fellow\", \"question\", \"find\", \"confidence\", \"presidential\", \"possible\", \"law\", \"shall\", \"number\", \"currently\", \"culture\", \"project\", \"farmers\", \"procurement\", \"key\", \"basis\", \"respond\", \"criminal\", \"relations\", \"eskom\", \"necessary\", \"mining\", \"decade\", \"say\", \"elections\", \"reform\", \"approach\", \"indeed\", \"municipalities\", \"households\", \"parties\"], \"Freq\": [126.0, 140.0, 96.0, 92.0, 81.0, 70.0, 88.0, 62.0, 59.0, 57.0, 64.0, 60.0, 64.0, 61.0, 61.0, 62.0, 67.0, 58.0, 50.0, 50.0, 51.0, 56.0, 66.0, 54.0, 61.0, 63.0, 47.0, 61.0, 62.0, 46.0, 7.528641317889305, 17.48496397031247, 3.9757673507100306, 4.798301258100928, 21.65333707356397, 4.634969617181598, 6.555978674885809, 20.452469319370017, 10.12466161424481, 10.301740895080592, 9.71634402691146, 13.957477583777191, 10.863482033337869, 15.086644261134555, 7.537745202730897, 5.100398360130429, 8.168495065480894, 27.343957839852116, 15.366043371272339, 5.248099126994969, 8.592258059166515, 27.0463448187165, 20.8163471256114, 19.03821544624327, 12.225533503651269, 10.398585742369452, 7.919363424610373, 12.869779519482677, 7.409041671548184, 9.048893667795195, 25.8469485235134, 12.96188327185943, 29.055353081149136, 32.830497807169685, 28.465980940005124, 31.169505563492685, 22.741057246591236, 37.142503977525315, 17.4694743464947, 19.34855818439161, 39.946888639821864, 23.87532121511058, 26.37772269676444, 21.447318075688905, 27.647476349158055, 14.935036082822052, 58.27258630349937, 29.586967386244705, 40.83227951681758, 21.153532321845027, 51.19022081055061, 24.857236362770273, 26.918991148494513, 27.297102065575665, 26.00475328831077, 21.665592681085478, 26.785759011886682, 21.698753323685764, 31.8475312664414, 24.035941158544883, 22.76284171792832, 24.120079625816707, 23.160572907062846, 22.536136315776126, 22.310045045089225, 21.761443863663484, 4.2546290539781815, 9.013330376229952, 4.476020298966407, 17.113185221914826, 3.666369894104789, 6.811134117621249, 4.873948328112842, 2.888198598118858, 2.5467994665953895, 6.307443438906538, 2.2258036330241904, 5.5551071478726275, 2.0818433176851134, 3.6334604043066516, 3.069043632782994, 1.5285728177708984, 8.015115867063715, 8.658224176600669, 1.7947313901070419, 9.309467650775817, 3.5724953830809003, 2.8202144747261273, 2.3953013076601293, 5.341818881777129, 3.771504196732269, 9.318618261185433, 4.012504969598732, 7.917515928492366, 4.166590601504085, 9.189908334945425, 6.1807522258191945, 4.706846896725052, 8.192801479361947, 8.028265628838097, 6.515540811169953, 9.108366473707383, 13.979446500971886, 11.503797829176902, 8.453555891057075, 6.082983529555395, 10.669515470335742, 12.846612646713117, 7.166751809637963, 11.49965949621011, 8.546315209494761, 10.988048804416998, 27.062686428669593, 12.309892434068527, 9.810780063865975, 11.262684261220468, 13.172026191321, 8.554509526313815, 8.82733678213768, 12.13495855802694, 20.899476883938604, 16.25052373442135, 15.120961807656785, 11.953704677406863, 14.159856013206362, 11.494578207889619, 15.546678893455297, 10.22675907690967, 10.746678910343505, 10.075297018202434, 11.841258701286486, 11.05350475200133, 11.477629368303372, 11.143447382768093, 10.650194744281702, 10.736983751915979, 10.476681680427424, 10.919893893600118, 10.176258192462617, 3.0236995046040818, 8.029305382661079, 4.764086105905354, 1.7446428521198867, 2.799844374795062, 2.780098358939089, 5.398687983758845, 2.9448011094588167, 4.509726016943158, 2.696935616278143, 1.5538256417266176, 8.921593786051746, 2.7502513217184177, 4.947202051470586, 1.7942780863764036, 1.8041204052106745, 5.460519063857889, 2.3443550175836476, 1.3381327661108071, 8.049036772225579, 5.605467701824579, 5.67997977663063, 7.1865337666843745, 2.1983104524915955, 10.49898812938429, 2.3766263626159523, 1.2923341909362764, 1.6303899680549612, 1.872489829373771, 2.2649036963839513, 6.788895048821164, 2.293048076566911, 10.39417612468946, 7.829554642383181, 6.330735871048392, 8.297912524252988, 7.022889594009999, 19.809510676727133, 11.013607926447788, 7.505484603526019, 3.8987803372606544, 13.406845316052763, 5.816980069916902, 7.70203584254422, 8.514235375137238, 9.901568896292684, 8.854166582361659, 8.748301484680779, 10.958343528852525, 7.852320987428309, 20.098517838350876, 10.636380198335015, 21.070733700965437, 7.832145585444096, 10.883433932338942, 10.546319853325715, 10.940025143517818, 14.376062788915378, 10.615261922918352, 9.311131627909178, 10.49183378338383, 10.403337406827024, 9.231540573389161, 12.593176363534269, 11.766300914550849, 9.946285648265773, 10.030668902713376, 9.808283454013607, 9.869125692335572, 9.779554283355509, 9.583920321759681, 9.936601998575606, 9.550242240908213, 9.880633449519433, 9.621398104188787, 9.430517687321652, 1.6920815277974777, 8.669260746044118, 1.6245794623221383, 3.117173274297844, 3.044438958774382, 10.461852686945473, 2.004366239887212, 2.7594522192520237, 8.426347922665279, 3.259872252281347, 2.2953673363719855, 2.781385571306245, 3.0117255513486683, 1.6765759191579424, 2.6652330199165237, 3.1540022820154374, 6.556968815335696, 1.2641672361552778, 2.868181717063761, 5.233767606787732, 1.2374322901492076, 2.3404702214899316, 0.9221719551057903, 2.60425327402146, 1.4874933898907088, 1.1565291617611617, 5.430292538867594, 1.9414613355621935, 1.560994260607162, 4.18039057116107, 3.4228673115671637, 2.949169656583091, 4.139655911389168, 3.177707083626285, 5.7837668889942835, 6.620930513373344, 5.917531583924024, 6.265121596711738, 4.57633124714319, 7.707305046590428, 7.882796456443932, 4.727463236419434, 12.737497728197583, 12.215197146632876, 5.265593300261479, 6.1647818908742416, 5.842220746015628, 6.612709077823892, 6.120306861295352, 8.055637563653306, 5.799768886877687, 5.357932911327117, 6.262032229191791, 13.776277484209103, 14.39538065918505, 6.148624737445759, 7.703199392166823, 7.470612188396329, 6.209669221901589, 5.598613881865217, 7.669837694963597, 6.780785571628, 8.988761095149828, 7.413628511539884, 6.642711603225986, 6.601028650122628, 6.454229804402516, 6.727597238105005, 6.4012100081382775, 6.545885863066761, 6.426340866425682, 6.371399890078798, 6.525141313522264, 6.397551375285107, 6.356747275269255, 1.0611770867585812, 1.3268888671387724, 1.2807752945022015, 3.5531585221062807, 1.4604794105157919, 3.2641798898913486, 0.43361332939384023, 1.5380606942130346, 2.7267376560776815, 2.197693751816555, 0.5489921023674841, 1.4229066480336168, 0.7387847270530604, 2.761071905203459, 1.4605053160797656, 0.8917619296780926, 0.5732917995020675, 0.5290787098961588, 0.9224020135952476, 1.2445076638688137, 1.5566295799676308, 1.329633267621585, 1.9961484641009009, 2.0787161715384865, 0.3568411575137159, 0.8430605024514339, 1.370246993668628, 0.6055259894501892, 0.8212999081784171, 0.5676068791134756, 1.3662178043565902, 1.9550956149050271, 2.488063973713414, 1.36109772062053, 3.217427180901892, 2.9545705751032227, 1.8244381217312915, 1.9538209975855831, 1.9186545918158395, 1.8233446844298233, 3.778307433988335, 3.2201480597683356, 3.2302041864853543, 3.128305683638632, 4.071894395853466, 3.0570269216895025, 2.2157429369932733, 6.844035128716525, 2.321187800297112, 2.528407519031896, 3.2460307378450626, 2.3537077063656864, 2.9168295059201386, 3.050967562597094, 6.7780811521378, 3.420517584525231, 2.3920919646125847, 2.870560261504965, 2.441587802646131, 4.474904234925887, 2.732773811413402, 3.9435413853645107, 2.836416410327902, 2.9209356172748957, 2.943662584442037, 2.5106512415509057, 2.703154692790525, 3.480116910368215, 2.94387618614744, 2.905473333109223, 2.7911140950612943, 3.102054606192021, 2.910370597209141, 2.821659138933932, 2.7772891061106977, 1.1842749132096977, 0.5077449252274122, 1.53217640653081, 0.5664421686123128, 1.130909422549276, 1.3389675070294398, 0.9493709597025398, 0.2887821658681723, 1.0478938859740872, 1.0138194253328658, 0.9522768935610768, 2.870063474513318, 0.3916715360461493, 0.6082537653034585, 0.34727141752399476, 0.5343596923332083, 0.33510641073709074, 0.5643164516690085, 0.6721205993885486, 0.5932133277074345, 0.4502671426693475, 1.5994332563660698, 0.3788375658306543, 0.446073288923313, 0.7274613052469745, 0.39289881046199826, 0.2738230497024163, 0.278500955287818, 0.3208339287320017, 0.41721415853027377, 1.2265717938830936, 1.1163470563917974, 1.270713042190788, 1.3854310742009166, 2.219483858152584, 1.6167189588173, 1.182789489833759, 1.0268407113188194, 1.995589431878606, 0.7761947200267836, 2.5414900356024224, 2.3890829766735697, 1.4859521756012604, 2.6837439967584715, 2.065023628449188, 1.6009738557013478, 2.831530700190231, 1.438813514339044, 1.7211795515890336, 1.4720329279240987, 2.866170624257884, 1.918621973826813, 2.6366246891551954, 4.934096339875633, 2.56002362832359, 2.710288321354087, 2.0901696812386277, 1.6428420708605738, 1.8928326823479953, 1.6745757004425046, 2.3864854992674616, 2.021583198971446, 2.788881486756871, 1.8143877347183386, 1.9635921838242762, 1.892551032516335, 2.4007886946878254, 2.0271373384601463, 3.538945641778553, 1.8610153872590924, 2.7257702868338876, 2.2204212484160433, 2.125734493827319, 2.273607747783532, 2.4448799360258353, 2.130331769184558, 2.406344997939637, 2.0594375133500646, 2.023236313988514, 1.9874982801418533, 2.0049443414814463, 1.1528099920448003, 0.3387930838159629, 0.4094656311191599, 0.6235319817743713, 0.2931714510748492, 1.5406279032667702, 0.3667434569971696, 0.45471848847922663, 0.3827114602721352, 0.2247219001146662, 0.22611222428709843, 0.6869148478518741, 0.7456127832913791, 0.3925755674097758, 0.48015574380171344, 0.21629769055341974, 0.2324470563702419, 0.2915752948112624, 0.3110048732411217, 0.2613356647726912, 0.4405948988294206, 1.4505902083210482, 0.22932815249096256, 0.29511603615506166, 0.39915538774222287, 0.9957006525639768, 0.36455659166363763, 0.3243367522091511, 0.25563372306630877, 0.3705423118320694, 0.6237364232729935, 1.4827845235329618, 0.7207098082576545, 0.9229333361870687, 1.046217805324485, 0.4945464248031801, 0.5923874907353349, 0.8423638686417387, 1.4862825712463805, 1.442394787825921, 0.851143923513117, 1.02740352749567, 0.7976928644728581, 2.311165179181586, 1.3018567248155202, 3.2501434159710256, 1.6532181791101472, 1.2711388773239667, 2.144465044986638, 1.3333508644891932, 1.126689882599827, 1.4222707182097516, 1.6645796616488542, 1.4729191233882297, 1.8676467669218673, 1.2428422222058335, 2.023033625785898, 2.0022680294814506, 1.455955748616392, 4.144480997663695, 1.812147779819515, 1.813582285800301, 2.1223570633575854, 1.4286008905880934, 1.4101128408881063, 1.3696054171393763, 1.5978343428280213, 2.8200765712225633, 1.9950385096800525, 1.8831415783940553, 2.010740592628648, 1.9779036772886067, 1.6320420408559606, 2.0048825386132343, 2.316951215141638, 1.7872160658734542, 1.9691424564073166, 2.765668394178254, 1.9013090599207854, 1.659636959068799, 2.0854687908543936, 1.8930213235985953, 1.7418655742797973, 1.682334356760705, 1.711997403221897, 0.37901877159912534, 0.9178853027666849, 0.6225035113610182, 0.5886962209040095, 0.4890399732282182, 0.6144147893035362, 0.5397438519309131, 0.659867646430197, 0.23127342438389725, 0.674916307352635, 0.5784662682847358, 1.1383226465189116, 1.0074816752848463, 0.44458966699195984, 0.8101815474833606, 0.4359049013087706, 1.0670457003088119, 1.0303260055699917, 0.47981474287867554, 0.21475595061752972, 0.5341555566849311, 0.5098184866259465, 0.2562367077140685, 0.24635705704071442, 0.2742301557004207, 0.24793564981262392, 1.0111775299313432, 0.24496651824585214, 0.5235618145135232, 0.4626314072897265, 1.3254376690357186, 0.7221290256678506, 1.3584433864621068, 1.1042659814974694, 0.8059540389597091, 1.0320448193377765, 1.268512287468979, 1.4493125213252, 2.4133382985917082, 2.2048331018232177, 1.9543875462931783, 1.3192885733208246, 0.8939448434935324, 1.3448178976604026, 0.951749383144596, 1.33142115531951, 1.2614315865075159, 1.4511864216858026, 3.4799914803295766, 1.3551332857047989, 1.1746360427795104, 1.776266794528479, 1.7142954614603758, 2.259545513795731, 1.2916294599182248, 2.4158230246603707, 1.3575806807519266, 1.531512591247942, 1.6390082281740765, 2.239069573755988, 1.72332856649663, 2.8823741056966212, 1.677281962395475, 1.680485916109449, 1.5732084192912514, 1.3530998724781322, 1.525348212363158, 1.88875059086, 1.3896689904119712, 1.5692742140061433, 1.5449106698222674, 1.398030137060606, 1.4389775908668463, 1.442709356786855, 1.4400768098946672, 1.4151467027351998, 1.3685336191730426, 1.3988765574258215, 1.3817939821891796, 0.2115135967872934, 0.17183951442930648, 0.17240155546616115, 0.2758183816899537, 0.23583824080378543, 0.4466201150170431, 0.8668745680418041, 0.2721887583173811, 0.1319574514980329, 1.4180894579433896, 0.1645121447487914, 0.32254566126363643, 0.1259498310800454, 0.1265474891476761, 0.21029448828475317, 0.13198468875215716, 0.28280842662015704, 0.18175952502176407, 0.19920900929634583, 0.12201542462182588, 0.25650238858635616, 0.21537277597602572, 0.1780203447114864, 0.1420417319369178, 0.17472035767394758, 0.4198074521365073, 0.15578915485498246, 0.2651254052415042, 0.10949421454041873, 0.10551596623507929, 0.27481819634244464, 0.3483500808606509, 0.5306508941580309, 0.451758741868218, 0.6476967059445365, 0.9352111102361337, 1.011071666741739, 0.6858698665999807, 2.3398541139395257, 0.4024785985016356, 0.4171400845960725, 0.6279642510533707, 0.4884690772168224, 0.4660131829937993, 0.5620491901508653, 0.5285894929417365, 0.6550224187417591, 0.39599296129376144, 1.0614564625434213, 1.1396917738479988, 0.6469281981774034, 0.6844789428760194, 0.9705612278417939, 1.0714865426346025, 0.7524217428479278, 0.7069365535824534, 0.8452948432398529, 1.1410968108800053, 0.9643446970886722, 1.9511724660543732, 1.4355114784833969, 0.6022323052003719, 0.6458947321237608, 0.9533207731025832, 0.7083536059983361, 0.7343166095904793, 1.1299139214580296, 0.6985193480562811, 0.7437226049215162, 0.8085456962941244, 0.8848420488657179, 0.8887913911136169, 1.120336134745619, 1.0689390905324565, 0.8541858458675268, 0.9082059628131041, 0.8770084953793443, 0.8605287288717283, 0.8128627474327128, 0.7976150822534556, 0.8167728012825403, 0.7925161729212049, 0.7748698652155073], \"Total\": [126.0, 140.0, 96.0, 92.0, 81.0, 70.0, 88.0, 62.0, 59.0, 57.0, 64.0, 60.0, 64.0, 61.0, 61.0, 62.0, 67.0, 58.0, 50.0, 50.0, 51.0, 56.0, 66.0, 54.0, 61.0, 63.0, 47.0, 61.0, 62.0, 46.0, 14.563204710414082, 33.86198270842657, 7.723572751833091, 9.39873799410099, 42.419539594613255, 9.168742048335734, 13.014229920741311, 40.83041978399577, 20.411260247855736, 20.840910802987796, 19.70101599167937, 28.337327673245277, 22.169474723957176, 30.839553813031323, 15.571773885269351, 10.575886868853468, 16.945212311343774, 56.75880520468967, 31.936829965885654, 10.91016089037539, 17.86314573533975, 56.23424769243042, 43.442001633912476, 39.842261151068406, 25.58904748258666, 21.838316927848915, 16.6328677426832, 27.062827093158997, 15.58013164343108, 19.033770252484253, 54.79117028492072, 27.333302211714578, 61.82669398428454, 70.24137568328912, 61.11451470051649, 67.20174253519932, 48.67895116685209, 81.19114896214909, 37.180731355825294, 41.37682605265191, 88.43168668269593, 51.65277004111963, 58.032664738454514, 46.78679958760457, 61.736697150813896, 31.79589302246732, 140.09644145565048, 66.96623672971808, 96.83753208971156, 46.489624176412434, 126.3281384740887, 56.217160839597696, 61.60821382364373, 63.02693234715899, 59.92257137319029, 48.356514804451514, 64.36612103811315, 48.5157888500881, 92.79552730790762, 58.63261534474644, 53.88229373373042, 64.39447124582605, 57.943496136135764, 56.380449710883, 62.78361669569961, 56.460970743412574, 13.719233321256473, 30.627749543255135, 16.0428912715517, 62.38740790146587, 13.558214163131707, 25.913651398596304, 18.73749601238225, 11.160390348280878, 9.84179092319685, 24.489050359283965, 8.653491577934142, 21.67110417051287, 8.147845308530648, 14.238251290900894, 12.06698972413492, 6.018587234229427, 31.565007451575546, 34.238011767340296, 7.11140543117668, 37.027663761644995, 14.23234851486292, 11.244394026715701, 9.554394547598912, 21.30856511604054, 15.075352296374353, 37.26095836353864, 16.120621620016433, 31.83623517502375, 16.755834015470082, 36.98507545630034, 24.95932345968512, 19.00358366429814, 33.97249425820797, 33.43066735352122, 26.95311685597175, 38.51898515117038, 61.142338021949094, 49.643300127051106, 35.64768685720249, 25.10878277499551, 46.61526451028112, 57.249385902381064, 30.28825273833955, 51.07808823108839, 36.7574824562189, 49.44706823828226, 140.09644145565048, 56.460970743412574, 43.58624000389265, 51.372454222938046, 62.78361669569961, 37.67732004519192, 39.2635596864428, 60.2146432424422, 126.3281384740887, 92.79552730790762, 88.43168668269593, 62.094716875930544, 81.19114896214909, 59.05814031071638, 96.83753208971156, 49.281516840210905, 56.23424769243042, 50.51555069778876, 70.24137568328912, 61.11451470051649, 66.96623672971808, 63.02693234715899, 57.943496136135764, 59.92257137319029, 56.380449710883, 67.20174253519932, 56.217160839597696, 11.236431891447175, 31.022841599165915, 18.56262951378137, 6.845146075916379, 10.989030408895418, 11.031686836986555, 21.452567844940727, 11.736412912454016, 18.564021078659906, 11.225332579387644, 6.614818477353833, 38.13015363946705, 11.783371913942329, 21.26774750871899, 7.716854734898617, 7.778050067605939, 23.608920305344007, 10.141131495599915, 5.792282921452052, 34.8465412755648, 24.31772999027192, 24.888049815206987, 31.529755282792244, 9.688505882166258, 46.365825756965094, 10.503109742785139, 5.719786068499545, 7.218758137963266, 8.292280955636539, 10.030304119609113, 30.455378374202827, 10.175014647153843, 46.99478007683515, 35.328966814051064, 28.505184057248325, 37.57100770968534, 31.83811267644807, 92.79552730790762, 50.87126119512988, 34.258081367694345, 17.40266061636869, 64.39447124582605, 26.57490826522964, 36.04050228353758, 40.52649283695424, 48.356514804451514, 44.26710490306775, 43.946251190970386, 57.943496136135764, 38.666081086788544, 126.3281384740887, 56.65558680276678, 140.09644145565048, 38.57947146999726, 61.142338021949094, 60.2146432424422, 64.36612103811315, 96.83753208971156, 61.60821382364373, 50.64187690938711, 61.736697150813896, 62.38740790146587, 51.07808823108839, 88.43168668269593, 81.19114896214909, 59.05814031071638, 62.094716875930544, 59.92257137319029, 62.78361669569961, 61.11451470051649, 58.032664738454514, 66.96623672971808, 58.63261534474644, 67.20174253519932, 63.02693234715899, 56.460970743412574, 9.532844371826743, 49.05179431354395, 9.194091123255927, 18.316217368242366, 17.971595980798536, 62.094716875930544, 12.036007656132973, 16.695219890569852, 51.206352409817775, 19.836992421661225, 14.071544475664876, 17.06215896417604, 18.50252006082755, 10.420119146429581, 16.661443913601737, 19.7331456910402, 41.419102767372294, 7.9896021605492455, 18.131726993265396, 33.211690031096545, 7.861161346806538, 14.90609376493073, 5.889285621477471, 16.64287295107524, 9.506913072620668, 7.406350953675221, 34.834927510028685, 12.460238939978389, 10.033429556526343, 26.927496419883983, 22.34053877971582, 19.221603937953237, 27.199515395985017, 20.75361358991325, 38.666081086788544, 44.78778271294951, 39.9506467711375, 42.82583921766391, 30.887593574165372, 54.81574394798603, 56.380449710883, 32.15981403783406, 96.83753208971156, 92.79552730790762, 36.285732256414725, 43.73892987461964, 41.4556745674429, 48.5157888500881, 44.26710490306775, 61.82669398428454, 41.712956742276155, 38.097188083234904, 46.50134064945321, 126.3281384740887, 140.09644145565048, 46.27891541526165, 62.78361669569961, 60.2146432424422, 47.03243023709433, 40.83041978399577, 64.39447124582605, 54.5056176667591, 88.43168668269593, 64.36612103811315, 56.65558680276678, 58.032664738454514, 54.79117028492072, 62.38740790146587, 56.460970743412574, 63.02693234715899, 61.60821382364373, 58.63261534474644, 81.19114896214909, 70.24137568328912, 67.20174253519932, 11.782008398355602, 15.175938257354693, 16.646069369090025, 46.365825756965094, 19.154159578197085, 42.82583921766391, 5.777145638404475, 20.614777805170405, 37.26095836353864, 30.034777173452916, 7.531179983033187, 19.577994223625147, 10.185574944516471, 38.097188083234904, 20.257509413267066, 12.443179402813106, 8.011349145055057, 7.455582431713116, 13.029941616622764, 17.65105120581146, 22.0882948009611, 18.898703913943983, 28.461806814934544, 29.65344958722254, 5.091920286132824, 12.050954341780118, 19.632280556923146, 8.687076280824055, 11.783371913942329, 8.147845308530648, 19.615692217932, 28.291325954828825, 36.27500605004463, 19.715202969274014, 47.5075507629874, 43.73892987461964, 26.66046739733859, 28.844605191524558, 28.39753542064688, 26.95311685597175, 60.2146432424422, 50.78478752050251, 51.206352409817775, 49.44706823828226, 66.96623672971808, 48.897651974321874, 33.97249425820797, 126.3281384740887, 35.91360555202163, 39.813141024079435, 54.5056176667591, 36.588025890058134, 48.01805188000561, 50.87126119512988, 140.09644145565048, 61.60821382364373, 37.84652222330106, 49.281516840210905, 39.146278021521205, 96.83753208971156, 46.99478007683515, 88.43168668269593, 52.138367030833514, 56.217160839597696, 58.032664738454514, 41.78227560184144, 49.525692698204274, 92.79552730790762, 62.78361669569961, 62.094716875930544, 54.81574394798603, 81.19114896214909, 64.36612103811315, 57.249385902381064, 59.05814031071638, 17.354447720228045, 7.821137210026933, 24.030220401151787, 9.608919927142766, 19.20938692040426, 23.05289375710886, 16.569766631875204, 5.05732554891105, 18.39543058241828, 17.843064632441475, 16.77212994765454, 50.78478752050251, 6.957652717596018, 10.819961087062318, 6.18034650833437, 9.532844371826743, 5.985402204647594, 10.10326139543852, 12.050954341780118, 10.64247073992713, 8.079839016430011, 28.769254917325945, 6.8212664736772615, 8.061044032079284, 13.16449168592396, 7.113679451282065, 4.976181244275175, 5.066941422185777, 5.872181915600062, 7.647544410396759, 22.5138203807902, 20.745821047946183, 23.679559559766712, 25.913651398596304, 41.942095612802376, 30.342267690000398, 22.060053297709935, 19.157224396538364, 38.57947146999726, 14.382907067850164, 51.206352409817775, 47.939492415835055, 28.843249239462445, 54.81574394798603, 41.2687255000315, 31.35637529496009, 59.05814031071638, 27.95971252300948, 34.238011767340296, 28.844605191524558, 61.82669398428454, 39.04753057664751, 57.249385902381064, 126.3281384740887, 56.75880520468967, 64.39447124582605, 46.27891541526165, 34.00302328050116, 41.675577687734524, 35.56750857357954, 61.142338021949094, 47.5075507629874, 81.19114896214909, 40.52649283695424, 46.19212685982647, 43.442001633912476, 67.20174253519932, 49.643300127051106, 140.09644145565048, 42.82583921766391, 96.83753208971156, 62.38740790146587, 58.63261534474644, 70.24137568328912, 88.43168668269593, 62.094716875930544, 92.79552730790762, 60.2146432424422, 62.78361669569961, 54.79117028492072, 66.96623672971808, 23.604680540771472, 7.001335066532078, 8.470946123113356, 12.912334161188527, 6.122385991317337, 32.57542954279476, 7.8939558207753135, 9.84179092319685, 8.309414237257968, 4.917332266044083, 4.954926863643139, 15.097459769375556, 16.39049572383298, 8.653491577934142, 10.59150519650012, 4.788482396020024, 5.146899129060496, 6.467234911171065, 6.901892403745517, 5.814754869566039, 9.827001351176492, 32.472577430348835, 5.135255543770523, 6.6117317590159725, 8.954377852280562, 22.34053877971582, 8.19445444513054, 7.320959039060233, 5.770571654985631, 8.392610518358271, 14.135041376655112, 33.97249425820797, 16.429141494932423, 21.309977234765686, 24.489050359283965, 11.276565409602592, 13.654179317305779, 19.803776106551307, 36.04050228353758, 35.19305446125942, 20.20012077431817, 24.865283921063174, 18.951286872173558, 60.2146432424422, 32.33739371245941, 92.79552730790762, 43.48408210925462, 32.36846887656054, 59.05814031071638, 34.396949213206945, 28.39753542064688, 37.13022545646092, 44.80850710788732, 39.04753057664751, 51.65277004111963, 32.00235745704387, 57.249385902381064, 56.65558680276678, 38.666081086788544, 140.09644145565048, 50.78478752050251, 51.07808823108839, 62.38740790146587, 38.13015363946705, 37.51122150716248, 36.27500605004463, 44.5065508876719, 96.83753208971156, 61.142338021949094, 56.460970743412574, 63.02693234715899, 61.736697150813896, 46.590088790393125, 64.36612103811315, 81.19114896214909, 53.88229373373042, 64.39447124582605, 126.3281384740887, 62.78361669569961, 49.05179431354395, 88.43168668269593, 70.24137568328912, 56.380449710883, 58.63261534474644, 67.20174253519932, 8.936012023027438, 22.382253074433386, 15.196850107743, 14.563204710414082, 12.152816202342672, 15.437820515860265, 13.636572038247488, 16.78645571285702, 5.903909073492989, 17.2511426440835, 14.822429238748459, 29.230425715061326, 26.01355140427531, 11.52146878394025, 20.995848851892678, 11.37167266357143, 27.967416558025022, 27.182072213810848, 12.683744374530287, 5.681554205923175, 14.265477525717587, 13.65154232684555, 6.893789064722743, 6.657665931485787, 7.422920636845027, 6.7268481167984735, 27.450942877181753, 6.692593666271864, 14.3571983078259, 12.704659720142363, 36.588025890058134, 19.918137274320404, 37.90783287786427, 30.759921077290418, 22.44159667512826, 28.958844530480153, 35.91360555202163, 41.2687255000315, 70.24137568328912, 64.39447124582605, 57.249385902381064, 38.13015363946705, 25.05817365302228, 39.34174034452792, 26.93548575829434, 39.11786130237001, 37.027663761644995, 43.48408210925462, 126.3281384740887, 41.712956742276155, 35.087173881481384, 59.05814031071638, 56.65558680276678, 81.19114896214909, 40.309713941748946, 92.79552730790762, 43.05573452401907, 51.206352409817775, 56.380449710883, 88.43168668269593, 61.82669398428454, 140.09644145565048, 60.2146432424422, 61.142338021949094, 56.217160839597696, 44.26710490306775, 58.63261534474644, 96.83753208971156, 47.49781192149722, 67.20174253519932, 66.96623672971808, 51.372454222938046, 61.736697150813896, 62.78361669569961, 62.38740790146587, 57.943496136135764, 46.27891541526165, 64.36612103811315, 61.60821382364373, 8.309414237257968, 6.897713901743626, 7.109462181552133, 11.842772649527745, 10.175014647153843, 19.323420120654443, 37.71367747893908, 11.845439231680082, 5.770571654985631, 62.78361669569961, 7.3003119935739775, 14.382907067850164, 5.668869111255344, 5.719786068499545, 9.57516562272552, 6.033627613051943, 13.064971747225988, 8.398138779574879, 9.213326202301351, 5.6505565208296895, 11.881654918532607, 10.01911743302019, 8.307467337019713, 6.653110196545757, 8.193442086075027, 19.715202969274014, 7.316763506554406, 12.467679557006505, 5.161981516846222, 4.976645174556112, 13.03677026622515, 16.598508319158388, 25.39968018682283, 21.587752837604064, 31.529755282792244, 46.590088790393125, 50.87126119512988, 34.238011767340296, 126.3281384740887, 19.623899419405234, 20.40961042750472, 31.934134050561415, 24.3074733295002, 23.198546639999893, 28.505184057248325, 26.741888292914293, 34.16432067540846, 19.433792170709467, 59.05814031071638, 64.36612103811315, 33.9096605946228, 36.24885843558039, 54.81574394798603, 61.736697150813896, 40.988522215995935, 38.097188083234904, 47.5075507629874, 70.24137568328912, 57.249385902381064, 140.09644145565048, 96.83753208971156, 32.01918750686207, 35.08989910451854, 58.63261534474644, 40.321195892271994, 42.82583921766391, 81.19114896214909, 39.842261151068406, 43.946251190970386, 50.64187690938711, 60.2146432424422, 61.142338021949094, 92.79552730790762, 88.43168668269593, 57.943496136135764, 67.20174253519932, 63.02693234715899, 62.38740790146587, 54.79117028492072, 56.65558680276678, 61.60821382364373, 64.39447124582605, 56.217160839597696], \"Category\": [\"Default\", \"Default\", \"Default\", \"Default\", \"Default\", \"Default\", \"Default\", \"Default\", \"Default\", \"Default\", \"Default\", \"Default\", \"Default\", \"Default\", \"Default\", \"Default\", \"Default\", \"Default\", \"Default\", \"Default\", \"Default\", \"Default\", \"Default\", \"Default\", \"Default\", \"Default\", \"Default\", \"Default\", \"Default\", \"Default\", \"Topic1\", \"Topic1\", \"Topic1\", \"Topic1\", \"Topic1\", \"Topic1\", \"Topic1\", \"Topic1\", \"Topic1\", \"Topic1\", \"Topic1\", \"Topic1\", \"Topic1\", \"Topic1\", \"Topic1\", \"Topic1\", \"Topic1\", \"Topic1\", \"Topic1\", \"Topic1\", \"Topic1\", \"Topic1\", \"Topic1\", \"Topic1\", \"Topic1\", \"Topic1\", \"Topic1\", \"Topic1\", \"Topic1\", \"Topic1\", \"Topic1\", \"Topic1\", \"Topic1\", \"Topic1\", \"Topic1\", \"Topic1\", \"Topic1\", \"Topic1\", \"Topic1\", \"Topic1\", \"Topic1\", \"Topic1\", \"Topic1\", \"Topic1\", \"Topic1\", \"Topic1\", \"Topic1\", \"Topic1\", \"Topic1\", \"Topic1\", \"Topic1\", \"Topic1\", \"Topic1\", \"Topic1\", \"Topic1\", \"Topic1\", \"Topic1\", \"Topic1\", \"Topic1\", \"Topic1\", \"Topic1\", \"Topic1\", \"Topic1\", \"Topic1\", \"Topic1\", \"Topic1\", \"Topic2\", \"Topic2\", \"Topic2\", \"Topic2\", \"Topic2\", \"Topic2\", \"Topic2\", \"Topic2\", \"Topic2\", \"Topic2\", \"Topic2\", \"Topic2\", \"Topic2\", \"Topic2\", \"Topic2\", \"Topic2\", \"Topic2\", \"Topic2\", \"Topic2\", \"Topic2\", \"Topic2\", \"Topic2\", \"Topic2\", \"Topic2\", \"Topic2\", \"Topic2\", \"Topic2\", \"Topic2\", \"Topic2\", \"Topic2\", \"Topic2\", \"Topic2\", \"Topic2\", \"Topic2\", \"Topic2\", \"Topic2\", \"Topic2\", \"Topic2\", \"Topic2\", \"Topic2\", \"Topic2\", \"Topic2\", \"Topic2\", \"Topic2\", \"Topic2\", \"Topic2\", \"Topic2\", \"Topic2\", \"Topic2\", \"Topic2\", \"Topic2\", \"Topic2\", \"Topic2\", \"Topic2\", \"Topic2\", \"Topic2\", \"Topic2\", \"Topic2\", \"Topic2\", \"Topic2\", \"Topic2\", \"Topic2\", \"Topic2\", \"Topic2\", \"Topic2\", \"Topic2\", \"Topic2\", \"Topic2\", \"Topic2\", \"Topic2\", \"Topic2\", \"Topic2\", \"Topic2\", \"Topic3\", \"Topic3\", \"Topic3\", \"Topic3\", \"Topic3\", \"Topic3\", \"Topic3\", \"Topic3\", \"Topic3\", \"Topic3\", \"Topic3\", \"Topic3\", \"Topic3\", \"Topic3\", \"Topic3\", \"Topic3\", \"Topic3\", \"Topic3\", \"Topic3\", \"Topic3\", \"Topic3\", \"Topic3\", \"Topic3\", \"Topic3\", \"Topic3\", \"Topic3\", \"Topic3\", \"Topic3\", \"Topic3\", \"Topic3\", \"Topic3\", \"Topic3\", \"Topic3\", \"Topic3\", \"Topic3\", \"Topic3\", \"Topic3\", \"Topic3\", \"Topic3\", \"Topic3\", \"Topic3\", \"Topic3\", \"Topic3\", \"Topic3\", \"Topic3\", \"Topic3\", \"Topic3\", \"Topic3\", \"Topic3\", \"Topic3\", \"Topic3\", \"Topic3\", \"Topic3\", \"Topic3\", \"Topic3\", \"Topic3\", \"Topic3\", \"Topic3\", \"Topic3\", \"Topic3\", \"Topic3\", \"Topic3\", \"Topic3\", \"Topic3\", \"Topic3\", \"Topic3\", \"Topic3\", \"Topic3\", \"Topic3\", \"Topic3\", \"Topic3\", \"Topic3\", \"Topic3\", \"Topic3\", \"Topic3\", \"Topic3\", \"Topic4\", \"Topic4\", \"Topic4\", \"Topic4\", \"Topic4\", \"Topic4\", \"Topic4\", \"Topic4\", \"Topic4\", \"Topic4\", \"Topic4\", \"Topic4\", \"Topic4\", \"Topic4\", \"Topic4\", \"Topic4\", \"Topic4\", \"Topic4\", \"Topic4\", \"Topic4\", \"Topic4\", \"Topic4\", \"Topic4\", \"Topic4\", \"Topic4\", \"Topic4\", \"Topic4\", \"Topic4\", \"Topic4\", \"Topic4\", \"Topic4\", \"Topic4\", \"Topic4\", \"Topic4\", \"Topic4\", \"Topic4\", \"Topic4\", \"Topic4\", \"Topic4\", \"Topic4\", \"Topic4\", \"Topic4\", \"Topic4\", \"Topic4\", \"Topic4\", \"Topic4\", \"Topic4\", \"Topic4\", \"Topic4\", \"Topic4\", \"Topic4\", \"Topic4\", \"Topic4\", \"Topic4\", \"Topic4\", \"Topic4\", \"Topic4\", \"Topic4\", \"Topic4\", \"Topic4\", \"Topic4\", \"Topic4\", \"Topic4\", \"Topic4\", \"Topic4\", \"Topic4\", \"Topic4\", \"Topic4\", \"Topic4\", \"Topic4\", \"Topic4\", \"Topic4\", \"Topic4\", \"Topic4\", \"Topic4\", \"Topic5\", \"Topic5\", \"Topic5\", \"Topic5\", \"Topic5\", \"Topic5\", \"Topic5\", \"Topic5\", \"Topic5\", \"Topic5\", \"Topic5\", \"Topic5\", \"Topic5\", \"Topic5\", \"Topic5\", \"Topic5\", \"Topic5\", \"Topic5\", \"Topic5\", \"Topic5\", \"Topic5\", \"Topic5\", \"Topic5\", \"Topic5\", \"Topic5\", \"Topic5\", \"Topic5\", \"Topic5\", \"Topic5\", \"Topic5\", \"Topic5\", \"Topic5\", \"Topic5\", \"Topic5\", \"Topic5\", \"Topic5\", \"Topic5\", \"Topic5\", \"Topic5\", \"Topic5\", \"Topic5\", \"Topic5\", \"Topic5\", \"Topic5\", \"Topic5\", \"Topic5\", \"Topic5\", \"Topic5\", \"Topic5\", \"Topic5\", \"Topic5\", \"Topic5\", \"Topic5\", \"Topic5\", \"Topic5\", \"Topic5\", \"Topic5\", \"Topic5\", \"Topic5\", \"Topic5\", \"Topic5\", \"Topic5\", \"Topic5\", \"Topic5\", \"Topic5\", \"Topic5\", \"Topic5\", \"Topic5\", \"Topic5\", \"Topic5\", \"Topic5\", \"Topic5\", \"Topic5\", \"Topic5\", \"Topic5\", \"Topic6\", \"Topic6\", \"Topic6\", \"Topic6\", \"Topic6\", \"Topic6\", \"Topic6\", \"Topic6\", \"Topic6\", \"Topic6\", \"Topic6\", \"Topic6\", \"Topic6\", \"Topic6\", \"Topic6\", \"Topic6\", \"Topic6\", \"Topic6\", \"Topic6\", \"Topic6\", \"Topic6\", \"Topic6\", \"Topic6\", \"Topic6\", \"Topic6\", \"Topic6\", \"Topic6\", \"Topic6\", \"Topic6\", \"Topic6\", \"Topic6\", \"Topic6\", \"Topic6\", \"Topic6\", \"Topic6\", \"Topic6\", \"Topic6\", \"Topic6\", \"Topic6\", \"Topic6\", \"Topic6\", \"Topic6\", \"Topic6\", \"Topic6\", \"Topic6\", \"Topic6\", \"Topic6\", \"Topic6\", \"Topic6\", \"Topic6\", \"Topic6\", \"Topic6\", \"Topic6\", \"Topic6\", \"Topic6\", \"Topic6\", \"Topic6\", \"Topic6\", \"Topic6\", \"Topic6\", \"Topic6\", \"Topic6\", \"Topic6\", \"Topic6\", \"Topic6\", \"Topic6\", \"Topic6\", \"Topic6\", \"Topic6\", \"Topic6\", \"Topic6\", \"Topic6\", \"Topic6\", \"Topic6\", \"Topic6\", \"Topic6\", \"Topic6\", \"Topic6\", \"Topic6\", \"Topic6\", \"Topic6\", \"Topic7\", \"Topic7\", \"Topic7\", \"Topic7\", \"Topic7\", \"Topic7\", \"Topic7\", \"Topic7\", \"Topic7\", \"Topic7\", \"Topic7\", \"Topic7\", \"Topic7\", \"Topic7\", \"Topic7\", \"Topic7\", \"Topic7\", \"Topic7\", \"Topic7\", \"Topic7\", \"Topic7\", \"Topic7\", \"Topic7\", \"Topic7\", \"Topic7\", \"Topic7\", \"Topic7\", \"Topic7\", \"Topic7\", \"Topic7\", \"Topic7\", \"Topic7\", \"Topic7\", \"Topic7\", \"Topic7\", \"Topic7\", \"Topic7\", \"Topic7\", \"Topic7\", \"Topic7\", \"Topic7\", \"Topic7\", \"Topic7\", \"Topic7\", \"Topic7\", \"Topic7\", \"Topic7\", \"Topic7\", \"Topic7\", \"Topic7\", \"Topic7\", \"Topic7\", \"Topic7\", \"Topic7\", \"Topic7\", \"Topic7\", \"Topic7\", \"Topic7\", \"Topic7\", \"Topic7\", \"Topic7\", \"Topic7\", \"Topic7\", \"Topic7\", \"Topic7\", \"Topic7\", \"Topic7\", \"Topic7\", \"Topic7\", \"Topic7\", \"Topic7\", \"Topic7\", \"Topic7\", \"Topic7\", \"Topic7\", \"Topic7\", \"Topic7\", \"Topic7\", \"Topic7\", \"Topic7\", \"Topic7\", \"Topic7\", \"Topic7\", \"Topic7\", \"Topic7\", \"Topic8\", \"Topic8\", \"Topic8\", \"Topic8\", \"Topic8\", \"Topic8\", \"Topic8\", \"Topic8\", \"Topic8\", \"Topic8\", \"Topic8\", \"Topic8\", \"Topic8\", \"Topic8\", \"Topic8\", \"Topic8\", \"Topic8\", \"Topic8\", \"Topic8\", \"Topic8\", \"Topic8\", \"Topic8\", \"Topic8\", \"Topic8\", \"Topic8\", \"Topic8\", \"Topic8\", \"Topic8\", \"Topic8\", \"Topic8\", \"Topic8\", \"Topic8\", \"Topic8\", \"Topic8\", \"Topic8\", \"Topic8\", \"Topic8\", \"Topic8\", \"Topic8\", \"Topic8\", \"Topic8\", \"Topic8\", \"Topic8\", \"Topic8\", \"Topic8\", \"Topic8\", \"Topic8\", \"Topic8\", \"Topic8\", \"Topic8\", \"Topic8\", \"Topic8\", \"Topic8\", \"Topic8\", \"Topic8\", \"Topic8\", \"Topic8\", \"Topic8\", \"Topic8\", \"Topic8\", \"Topic8\", \"Topic8\", \"Topic8\", \"Topic8\", \"Topic8\", \"Topic8\", \"Topic8\", \"Topic8\", \"Topic8\", \"Topic8\", \"Topic8\", \"Topic8\", \"Topic8\", \"Topic8\", \"Topic8\", \"Topic8\", \"Topic8\", \"Topic8\", \"Topic8\", \"Topic9\", \"Topic9\", \"Topic9\", \"Topic9\", \"Topic9\", \"Topic9\", \"Topic9\", \"Topic9\", \"Topic9\", \"Topic9\", \"Topic9\", \"Topic9\", \"Topic9\", \"Topic9\", \"Topic9\", \"Topic9\", \"Topic9\", \"Topic9\", \"Topic9\", \"Topic9\", \"Topic9\", \"Topic9\", \"Topic9\", \"Topic9\", \"Topic9\", \"Topic9\", \"Topic9\", \"Topic9\", \"Topic9\", \"Topic9\", \"Topic9\", \"Topic9\", \"Topic9\", \"Topic9\", \"Topic9\", \"Topic9\", \"Topic9\", \"Topic9\", \"Topic9\", \"Topic9\", \"Topic9\", \"Topic9\", \"Topic9\", \"Topic9\", \"Topic9\", \"Topic9\", \"Topic9\", \"Topic9\", \"Topic9\", \"Topic9\", \"Topic9\", \"Topic9\", \"Topic9\", \"Topic9\", \"Topic9\", \"Topic9\", \"Topic9\", \"Topic9\", \"Topic9\", \"Topic9\", \"Topic9\", \"Topic9\", \"Topic9\", \"Topic9\", \"Topic9\", \"Topic9\", \"Topic9\", \"Topic9\", \"Topic9\", \"Topic9\", \"Topic9\", \"Topic9\", \"Topic9\", \"Topic9\", \"Topic9\", \"Topic9\", \"Topic9\", \"Topic9\", \"Topic9\", \"Topic9\", \"Topic9\", \"Topic9\", \"Topic9\"], \"logprob\": [30.0, 29.0, 28.0, 27.0, 26.0, 25.0, 24.0, 23.0, 22.0, 21.0, 20.0, 19.0, 18.0, 17.0, 16.0, 15.0, 14.0, 13.0, 12.0, 11.0, 10.0, 9.0, 8.0, 7.0, 6.0, 5.0, 4.0, 3.0, 2.0, 1.0, -7.9384, -7.0958, -8.5769, -8.3888, -6.8819, -8.4235, -8.0767, -6.939, -7.6421, -7.6248, -7.6833, -7.3211, -7.5717, -7.2433, -7.9372, -8.3278, -7.8568, -6.6486, -7.2249, -8.2992, -7.8062, -6.6595, -6.9214, -7.0106, -7.4536, -7.6154, -7.8878, -7.4022, -7.9544, -7.7545, -6.7049, -7.3951, -6.5879, -6.4657, -6.6084, -6.5177, -6.8329, -6.3423, -7.0966, -6.9945, -6.2695, -6.7842, -6.6846, -6.8915, -6.6376, -7.2534, -5.892, -6.5698, -6.2476, -6.9053, -6.0215, -6.7439, -6.6643, -6.6503, -6.6988, -6.8814, -6.6692, -6.8798, -6.4961, -6.7775, -6.832, -6.774, -6.8146, -6.842, -6.8521, -6.877, -7.7586, -7.0079, -7.7079, -6.3668, -7.9074, -7.2881, -7.6227, -8.146, -8.2718, -7.3649, -8.4065, -7.4919, -8.4734, -7.9164, -8.0853, -8.7823, -7.1253, -7.0481, -8.6218, -6.9756, -7.9334, -8.1698, -8.3331, -7.5311, -7.8792, -6.9746, -7.8172, -7.1376, -7.7795, -6.9885, -7.3852, -7.6576, -7.1034, -7.1237, -7.3324, -6.9974, -6.569, -6.764, -7.072, -7.4011, -6.8392, -6.6536, -7.2372, -6.7643, -7.0611, -6.8098, -5.9085, -6.6962, -6.9232, -6.7851, -6.6285, -7.0602, -7.0288, -6.7105, -6.1669, -6.4185, -6.4906, -6.7256, -6.5562, -6.7648, -6.4628, -6.8816, -6.832, -6.8965, -6.735, -6.8039, -6.7662, -6.7958, -6.8411, -6.8329, -6.8575, -6.816, -6.8866, -7.9956, -7.019, -7.541, -8.5456, -8.0725, -8.0796, -7.416, -8.0221, -7.5959, -8.11, -8.6614, -6.9136, -8.0904, -7.5033, -8.5175, -8.512, -7.4046, -8.2501, -8.8108, -7.0166, -7.3784, -7.3652, -7.1299, -8.3144, -6.7508, -8.2364, -8.8457, -8.6133, -8.4748, -8.2846, -7.1868, -8.2722, -6.7609, -7.0442, -7.2567, -6.9861, -7.1529, -6.1159, -6.703, -7.0865, -7.7414, -6.5063, -7.3413, -7.0606, -6.9604, -6.8094, -6.9212, -6.9333, -6.708, -7.0413, -6.1015, -6.7378, -6.0542, -7.0439, -6.7149, -6.7463, -6.7097, -6.4365, -6.7398, -6.8709, -6.7515, -6.76, -6.8795, -6.569, -6.6369, -6.8049, -6.7965, -6.8189, -6.8127, -6.8218, -6.842, -6.8059, -6.8455, -6.8115, -6.8381, -6.8582, -8.2085, -6.5747, -8.2492, -7.5975, -7.6211, -6.3867, -8.0391, -7.7194, -6.6031, -7.5528, -7.9036, -7.7115, -7.632, -8.2177, -7.7542, -7.5858, -6.8539, -8.5001, -7.6808, -7.0793, -8.5214, -7.8841, -8.8155, -7.7773, -8.3374, -8.589, -7.0425, -8.071, -8.2891, -7.3041, -7.504, -7.6529, -7.3139, -7.5783, -6.9794, -6.8442, -6.9565, -6.8995, -7.2136, -6.6923, -6.6698, -7.1811, -6.1899, -6.2318, -7.0733, -6.9156, -6.9694, -6.8455, -6.9229, -6.6481, -6.9766, -7.0559, -6.9, -6.1115, -6.0676, -6.9182, -6.6928, -6.7235, -6.9084, -7.0119, -6.6972, -6.8204, -6.5385, -6.7311, -6.8409, -6.8472, -6.8697, -6.8282, -6.878, -6.8556, -6.8741, -6.8826, -6.8588, -6.8785, -6.8849, -7.8528, -7.6294, -7.6647, -6.6444, -7.5334, -6.7292, -8.7478, -7.4817, -6.9091, -7.1248, -8.5119, -7.5595, -8.2149, -6.8966, -7.5334, -8.0268, -8.4686, -8.5488, -7.993, -7.6935, -7.4697, -7.6273, -7.221, -7.1805, -8.9427, -8.0829, -7.5972, -8.4139, -8.1091, -8.4785, -7.6002, -7.2418, -7.0007, -7.6039, -6.7436, -6.8288, -7.3109, -7.2424, -7.2606, -7.3115, -6.5829, -6.7428, -6.7397, -6.7717, -6.5081, -6.7948, -7.1166, -5.9888, -7.0701, -6.9846, -6.7348, -7.0562, -6.8417, -6.7967, -5.9985, -6.6824, -7.04, -6.8577, -7.0196, -6.4137, -6.9069, -6.5401, -6.8697, -6.8403, -6.8325, -6.9917, -6.9178, -6.6651, -6.8325, -6.8456, -6.8858, -6.7801, -6.8439, -6.8749, -6.8907, -7.4638, -8.3107, -7.2063, -8.2014, -7.5099, -7.3411, -7.6849, -8.8751, -7.5862, -7.6192, -7.6819, -6.5786, -8.5703, -8.1301, -8.6906, -8.2597, -8.7263, -8.2051, -8.0303, -8.1552, -8.4309, -7.1633, -8.6036, -8.4402, -7.9512, -8.5672, -8.9282, -8.9113, -8.7698, -8.5071, -7.4287, -7.5229, -7.3934, -7.307, -6.8357, -7.1526, -7.4651, -7.6065, -6.942, -7.8863, -6.7002, -6.7621, -7.2369, -6.6458, -6.9078, -7.1624, -6.5922, -7.2692, -7.09, -7.2463, -6.58, -6.9814, -6.6635, -6.0368, -6.693, -6.6359, -6.8957, -7.1365, -6.9949, -7.1174, -6.7631, -6.9291, -6.6073, -7.0372, -6.9582, -6.995, -6.7572, -6.9263, -6.3691, -7.0118, -6.6302, -6.8353, -6.8789, -6.8116, -6.739, -6.8767, -6.7549, -6.9105, -6.9283, -6.9461, -6.9374, -7.2823, -8.5068, -8.3174, -7.8968, -8.6515, -6.9923, -8.4276, -8.2125, -8.3849, -8.9174, -8.9112, -7.8, -7.718, -8.3595, -8.1581, -8.9556, -8.8836, -8.6569, -8.5924, -8.7664, -8.2441, -7.0525, -8.8971, -8.6449, -8.3429, -7.4288, -8.4335, -8.5504, -8.7885, -8.4173, -7.8965, -7.0305, -7.752, -7.5047, -7.3793, -8.1286, -7.9481, -7.596, -7.0282, -7.0582, -7.5856, -7.3974, -7.6505, -6.5867, -7.1607, -6.2458, -6.9217, -7.1846, -6.6616, -7.1368, -7.3052, -7.0722, -6.9149, -7.0372, -6.7998, -7.2071, -6.7199, -6.7302, -7.0488, -6.0027, -6.83, -6.8292, -6.6719, -7.0678, -7.0808, -7.1099, -6.9558, -6.3877, -6.7338, -6.7915, -6.726, -6.7424, -6.9346, -6.7289, -6.5842, -6.8438, -6.7469, -6.4072, -6.7819, -6.9179, -6.6895, -6.7863, -6.8695, -6.9043, -6.8868, -8.2389, -7.3544, -7.7428, -7.7986, -7.9841, -7.7558, -7.8854, -7.6845, -8.7329, -7.6619, -7.8161, -7.1392, -7.2613, -8.0794, -7.4793, -8.0991, -7.2039, -7.2389, -8.0031, -8.807, -7.8958, -7.9425, -8.6304, -8.6697, -8.5625, -8.6633, -7.2576, -8.6754, -7.9159, -8.0396, -6.987, -7.5943, -6.9624, -7.1696, -7.4845, -7.2372, -7.0309, -6.8977, -6.3877, -6.4781, -6.5987, -6.9917, -7.3809, -6.9725, -7.3182, -6.9825, -7.0365, -6.8964, -6.0217, -6.9649, -7.1078, -6.6942, -6.7298, -6.4536, -7.0129, -6.3867, -6.9631, -6.8425, -6.7747, -6.4627, -6.7245, -6.2101, -6.7516, -6.7497, -6.8156, -6.9664, -6.8465, -6.6328, -6.9397, -6.8181, -6.8338, -6.9337, -6.9048, -6.9022, -6.9041, -6.9215, -6.955, -6.9331, -6.9454, -8.2617, -8.4694, -8.4662, -7.9963, -8.1529, -7.5143, -6.8511, -8.0095, -8.7335, -6.3589, -8.513, -7.8398, -8.7801, -8.7754, -8.2675, -8.7333, -7.9712, -8.4133, -8.3217, -8.8119, -8.0689, -8.2436, -8.4341, -8.6599, -8.4528, -7.5762, -8.5675, -8.0358, -8.9201, -8.9571, -7.9999, -7.7628, -7.3419, -7.5029, -7.1426, -6.7752, -6.6972, -7.0853, -5.8582, -7.6184, -7.5826, -7.1735, -7.4247, -7.4718, -7.2844, -7.3458, -7.1313, -7.6346, -6.6486, -6.5775, -7.1438, -7.0873, -6.7381, -6.6392, -6.9927, -7.0551, -6.8763, -6.5763, -6.7446, -6.0398, -6.3467, -7.2154, -7.1454, -6.7561, -7.0531, -7.0171, -6.5861, -7.067, -7.0043, -6.9208, -6.8306, -6.8261, -6.5946, -6.6416, -6.8659, -6.8045, -6.8395, -6.8585, -6.9154, -6.9344, -6.9106, -6.9408, -6.9633], \"loglift\": [30.0, 29.0, 28.0, 27.0, 26.0, 25.0, 24.0, 23.0, 22.0, 21.0, 20.0, 19.0, 18.0, 17.0, 16.0, 15.0, 14.0, 13.0, 12.0, 11.0, 10.0, 9.0, 8.0, 7.0, 6.0, 5.0, 4.0, 3.0, 2.0, 1.0, 0.2978, 0.2966, 0.2935, 0.2853, 0.2851, 0.2754, 0.2719, 0.2663, 0.2565, 0.253, 0.2507, 0.2494, 0.2443, 0.2426, 0.2321, 0.2283, 0.2279, 0.2273, 0.226, 0.2258, 0.2257, 0.2256, 0.2219, 0.2191, 0.219, 0.2156, 0.2155, 0.2143, 0.2143, 0.214, 0.2063, 0.2115, 0.2025, 0.197, 0.1936, 0.1893, 0.1965, 0.1755, 0.2023, 0.1975, 0.1629, 0.1859, 0.1691, 0.1776, 0.1542, 0.202, 0.0804, 0.1407, 0.094, 0.1702, 0.0543, 0.1415, 0.1296, 0.1208, 0.1228, 0.1547, 0.0809, 0.153, -0.1118, 0.0659, 0.0959, -0.0244, 0.0406, 0.0406, -0.0771, 0.0042, 0.5373, 0.4849, 0.4315, 0.4145, 0.4003, 0.3718, 0.3614, 0.3563, 0.3563, 0.3516, 0.3502, 0.3468, 0.3436, 0.3423, 0.3389, 0.3375, 0.3373, 0.3332, 0.3312, 0.3274, 0.3258, 0.325, 0.3246, 0.3245, 0.3225, 0.3221, 0.3174, 0.3165, 0.3164, 0.3156, 0.3122, 0.3124, 0.2858, 0.2815, 0.2881, 0.2661, 0.2324, 0.2459, 0.269, 0.2903, 0.2335, 0.2137, 0.2667, 0.217, 0.2492, 0.204, 0.0639, 0.1849, 0.2168, 0.1904, 0.1465, 0.2255, 0.2156, 0.1062, -0.0911, -0.0342, -0.0581, 0.0604, -0.0383, 0.0714, -0.1211, 0.1355, 0.0531, 0.0959, -0.0723, -0.0019, -0.0557, -0.0247, 0.0142, -0.0113, 0.0251, -0.1091, -0.0011, 0.4999, 0.461, 0.4525, 0.4456, 0.4452, 0.4343, 0.4329, 0.4299, 0.3976, 0.3865, 0.364, 0.36, 0.3576, 0.3542, 0.3538, 0.3513, 0.3485, 0.348, 0.3473, 0.3472, 0.3451, 0.3351, 0.3339, 0.3293, 0.3273, 0.3266, 0.3251, 0.3247, 0.3245, 0.3245, 0.3116, 0.3225, 0.3038, 0.3058, 0.3079, 0.3023, 0.3011, 0.2683, 0.2824, 0.2943, 0.3166, 0.2433, 0.2934, 0.2694, 0.2524, 0.2267, 0.2032, 0.1985, 0.1472, 0.2184, -0.0257, 0.1399, -0.0819, 0.2181, 0.0866, 0.0704, 0.0404, -0.0949, 0.0541, 0.119, 0.0403, 0.0213, 0.1018, -0.1365, -0.119, 0.0313, -0.0104, 0.0028, -0.0377, -0.0199, 0.0117, -0.0954, -0.0021, -0.1045, -0.067, 0.023, 0.4514, 0.4471, 0.4469, 0.4094, 0.4047, 0.3993, 0.3876, 0.3801, 0.3757, 0.3744, 0.367, 0.3663, 0.3648, 0.3532, 0.3474, 0.3466, 0.337, 0.3365, 0.3362, 0.3325, 0.3313, 0.3288, 0.3261, 0.3254, 0.3253, 0.3233, 0.3216, 0.3211, 0.3196, 0.3175, 0.3043, 0.3057, 0.2976, 0.3037, 0.2803, 0.2685, 0.2705, 0.2581, 0.2708, 0.2184, 0.2128, 0.2629, 0.1517, 0.1525, 0.25, 0.2208, 0.2207, 0.1873, 0.2016, 0.1423, 0.2072, 0.2187, 0.1752, -0.0357, -0.0952, 0.1618, 0.0822, 0.0933, 0.1555, 0.1933, 0.0525, 0.096, -0.106, 0.019, 0.0368, 0.0064, 0.0414, -0.0469, 0.0032, -0.0845, -0.0802, -0.0392, -0.3409, -0.2158, -0.178, 0.5953, 0.5656, 0.4378, 0.4338, 0.4287, 0.4284, 0.413, 0.407, 0.3876, 0.3875, 0.3838, 0.3808, 0.3788, 0.378, 0.3727, 0.3668, 0.3653, 0.3569, 0.3545, 0.3504, 0.35, 0.3483, 0.3451, 0.3447, 0.3444, 0.3426, 0.3403, 0.339, 0.3389, 0.3384, 0.3382, 0.3304, 0.3229, 0.3294, 0.3102, 0.3076, 0.3206, 0.3104, 0.3078, 0.3091, 0.2338, 0.2443, 0.2392, 0.2421, 0.2024, 0.2302, 0.2725, 0.087, 0.2635, 0.2459, 0.1816, 0.2588, 0.2014, 0.1886, -0.0261, 0.1115, 0.2411, 0.1594, 0.2278, -0.0721, 0.1578, -0.1077, 0.0911, 0.0452, 0.0211, 0.1906, 0.0944, -0.2808, -0.0575, -0.0596, 0.025, -0.2623, -0.0938, -0.0076, -0.0546, 0.597, 0.5471, 0.5291, 0.4506, 0.4493, 0.4358, 0.4222, 0.4188, 0.4164, 0.4138, 0.4131, 0.4085, 0.4045, 0.4032, 0.4027, 0.4003, 0.3991, 0.3967, 0.3953, 0.3947, 0.3944, 0.3921, 0.391, 0.3874, 0.386, 0.3855, 0.3818, 0.3806, 0.3747, 0.3732, 0.3718, 0.3594, 0.3567, 0.353, 0.3427, 0.3496, 0.3558, 0.3555, 0.3199, 0.3623, 0.2786, 0.2827, 0.3159, 0.265, 0.2868, 0.3069, 0.244, 0.3148, 0.2914, 0.3064, 0.2104, 0.2685, 0.2038, 0.039, 0.1829, 0.1137, 0.1843, 0.2517, 0.1899, 0.2258, 0.0383, 0.1247, -0.0894, 0.1755, 0.1237, 0.1482, -0.0502, 0.0835, -0.3968, 0.1457, -0.2886, -0.0539, -0.0355, -0.1489, -0.3065, -0.0907, -0.3706, -0.0938, -0.1533, -0.0349, -0.2269, 0.471, 0.4618, 0.4607, 0.4597, 0.4513, 0.4389, 0.421, 0.4155, 0.4124, 0.4046, 0.4031, 0.4002, 0.4, 0.3972, 0.3965, 0.3929, 0.3927, 0.391, 0.3905, 0.3879, 0.3855, 0.3818, 0.3815, 0.381, 0.3797, 0.3795, 0.3777, 0.3735, 0.3734, 0.3701, 0.3695, 0.3586, 0.3636, 0.3508, 0.3372, 0.3634, 0.3526, 0.3328, 0.3019, 0.2957, 0.3234, 0.3038, 0.3223, 0.2301, 0.2778, 0.1385, 0.2206, 0.253, 0.1746, 0.2399, 0.2632, 0.228, 0.1974, 0.2127, 0.1704, 0.2418, 0.1474, 0.1475, 0.2109, -0.0303, 0.1571, 0.1522, 0.1094, 0.2059, 0.2093, 0.2136, 0.1632, -0.046, 0.0677, 0.0896, 0.0452, 0.0494, 0.1387, 0.0212, -0.0663, 0.0841, 0.0028, -0.3314, -0.0069, 0.1039, -0.257, -0.1235, 0.0131, -0.0609, -0.1798, 0.4857, 0.452, 0.4508, 0.4376, 0.4331, 0.422, 0.4165, 0.4096, 0.4062, 0.4049, 0.4024, 0.4003, 0.3948, 0.3911, 0.3911, 0.3845, 0.3798, 0.3732, 0.3713, 0.3705, 0.361, 0.3584, 0.3537, 0.3492, 0.3476, 0.3452, 0.3446, 0.3383, 0.3346, 0.3331, 0.328, 0.3287, 0.3171, 0.3189, 0.3193, 0.3116, 0.3027, 0.2969, 0.275, 0.2716, 0.2686, 0.282, 0.3126, 0.2699, 0.303, 0.2656, 0.2665, 0.2459, 0.0541, 0.219, 0.2491, 0.1419, 0.1479, 0.0643, 0.2052, -0.0024, 0.1891, 0.1363, 0.1079, -0.0302, 0.0659, -0.2378, 0.0652, 0.0518, 0.0698, 0.1581, -0.0031, -0.2912, 0.1143, -0.1112, -0.1233, 0.0419, -0.113, -0.1272, -0.1227, -0.0663, 0.125, -0.183, -0.1515, 0.5356, 0.5141, 0.4871, 0.4467, 0.4419, 0.4391, 0.4336, 0.4332, 0.4284, 0.4161, 0.4137, 0.4089, 0.3996, 0.3954, 0.388, 0.384, 0.3735, 0.3734, 0.3724, 0.3711, 0.3708, 0.3666, 0.3634, 0.3597, 0.3585, 0.3571, 0.357, 0.3557, 0.3532, 0.3528, 0.347, 0.3426, 0.338, 0.3397, 0.3212, 0.2981, 0.2881, 0.296, 0.2176, 0.3196, 0.3161, 0.2775, 0.2992, 0.2988, 0.2802, 0.2827, 0.2522, 0.3131, 0.1876, 0.1726, 0.2472, 0.2369, 0.1726, 0.1526, 0.2087, 0.2195, 0.1775, 0.0865, 0.1227, -0.0675, -0.0051, 0.233, 0.2114, 0.0873, 0.1647, 0.1405, -0.0682, 0.1627, 0.1274, 0.0691, -0.0138, -0.0247, -0.2103, -0.2091, -0.0106, -0.0975, -0.0684, -0.0771, -0.0043, -0.0567, -0.1168, -0.1911, -0.0778]}, \"token.table\": {\"Topic\": [1, 2, 3, 4, 5, 6, 7, 8, 1, 2, 3, 4, 5, 6, 7, 8, 9, 1, 2, 3, 4, 5, 6, 7, 8, 1, 2, 3, 4, 5, 6, 7, 8, 1, 2, 3, 4, 5, 6, 7, 8, 9, 1, 2, 3, 4, 5, 6, 7, 8, 1, 2, 3, 4, 5, 6, 7, 8, 1, 2, 3, 4, 1, 2, 3, 4, 5, 6, 7, 8, 9, 1, 2, 3, 4, 5, 6, 1, 2, 3, 4, 5, 6, 7, 8, 1, 2, 3, 4, 5, 6, 7, 8, 1, 2, 3, 4, 1, 2, 3, 4, 5, 6, 1, 2, 3, 4, 1, 2, 3, 4, 5, 6, 7, 8, 9, 1, 2, 3, 4, 5, 6, 7, 8, 9, 1, 2, 3, 4, 5, 6, 7, 8, 9, 1, 2, 3, 4, 5, 6, 8, 1, 2, 3, 4, 5, 6, 7, 1, 2, 3, 4, 5, 6, 7, 1, 2, 3, 4, 5, 6, 7, 8, 1, 2, 3, 4, 5, 1, 2, 3, 4, 1, 2, 3, 4, 1, 2, 3, 4, 5, 6, 7, 8, 9, 1, 2, 3, 4, 1, 2, 3, 4, 5, 6, 7, 8, 9, 1, 2, 3, 4, 1, 2, 3, 4, 1, 2, 3, 4, 5, 6, 7, 8, 9, 1, 2, 3, 4, 1, 2, 3, 4, 5, 6, 7, 8, 9, 1, 2, 3, 4, 5, 1, 2, 3, 4, 5, 6, 1, 2, 3, 4, 5, 6, 7, 1, 2, 3, 4, 5, 6, 7, 1, 2, 3, 4, 5, 6, 8, 1, 2, 3, 4, 5, 6, 7, 8, 9, 1, 2, 3, 4, 5, 6, 7, 8, 1, 2, 3, 4, 5, 1, 2, 3, 4, 5, 6, 7, 1, 2, 3, 4, 1, 2, 3, 4, 5, 6, 7, 8, 9, 1, 2, 3, 4, 5, 6, 7, 8, 9, 1, 2, 3, 4, 5, 6, 1, 2, 3, 4, 5, 6, 7, 1, 2, 3, 4, 5, 6, 7, 8, 1, 2, 3, 4, 5, 6, 7, 8, 9, 1, 2, 3, 4, 5, 6, 7, 8, 1, 2, 3, 4, 5, 6, 7, 8, 1, 2, 3, 4, 5, 6, 7, 8, 1, 2, 3, 4, 5, 6, 7, 8, 9, 1, 2, 3, 4, 5, 6, 7, 1, 2, 3, 4, 5, 6, 7, 8, 9, 1, 2, 3, 4, 5, 6, 7, 8, 9, 1, 2, 3, 4, 5, 6, 1, 2, 3, 4, 5, 6, 7, 8, 1, 2, 3, 4, 5, 6, 7, 8, 1, 2, 3, 4, 5, 6, 7, 8, 9, 1, 2, 3, 4, 5, 6, 7, 8, 9, 1, 2, 3, 4, 5, 6, 7, 8, 1, 2, 3, 4, 5, 6, 7, 8, 9, 1, 2, 3, 4, 5, 6, 7, 8, 1, 2, 3, 4, 5, 6, 1, 2, 3, 4, 1, 2, 3, 4, 5, 6, 1, 2, 3, 4, 5, 6, 7, 8, 1, 2, 3, 4, 5, 6, 7, 8, 9, 1, 2, 3, 4, 5, 6, 7, 8, 9, 1, 2, 3, 4, 5, 6, 7, 8, 1, 2, 3, 4, 5, 6, 7, 8, 1, 2, 3, 4, 5, 6, 7, 8, 9, 1, 2, 3, 4, 5, 6, 7, 8, 9, 1, 2, 3, 4, 1, 2, 3, 4, 5, 6, 7, 8, 1, 2, 3, 4, 1, 2, 3, 4, 5, 6, 7, 8, 9, 1, 2, 3, 4, 5, 6, 7, 8, 1, 2, 3, 4, 5, 6, 1, 2, 3, 4, 5, 8, 1, 2, 3, 4, 5, 1, 2, 3, 4, 5, 6, 7, 8, 1, 2, 3, 4, 5, 1, 2, 3, 4, 5, 6, 7, 8, 1, 2, 3, 4, 5, 1, 2, 3, 4, 1, 2, 3, 4, 5, 6, 1, 2, 3, 4, 5, 6, 1, 2, 3, 4, 5, 6, 7, 8, 9, 1, 2, 3, 4, 5, 6, 7, 8, 9, 1, 2, 3, 4, 1, 2, 3, 4, 5, 1, 2, 3, 4, 5, 6, 7, 8, 9, 1, 2, 3, 4, 5, 6, 7, 8, 9, 1, 2, 3, 4, 5, 6, 7, 1, 2, 3, 4, 5, 6, 7, 8, 9, 1, 2, 3, 4, 5, 6, 7, 8, 9, 1, 2, 3, 4, 5, 6, 7, 8, 1, 2, 3, 4, 5, 6, 7, 8, 9, 1, 2, 3, 4, 5, 6, 7, 8, 9, 1, 2, 3, 4, 6, 1, 2, 3, 4, 5, 1, 2, 3, 4, 5, 6, 7, 1, 2, 3, 4, 5, 6, 7, 8, 1, 2, 3, 4, 5, 6, 7, 8, 9, 1, 2, 3, 4, 5, 6, 7, 8, 1, 2, 3, 4, 5, 6, 7, 8, 1, 2, 3, 4, 5, 6, 1, 2, 3, 4, 5, 6, 7, 1, 2, 3, 4, 5, 6, 7, 8, 1, 2, 3, 4, 5, 6, 7, 1, 2, 3, 4, 5, 7, 1, 2, 3, 4, 1, 2, 3, 4, 5, 6, 7, 1, 2, 3, 4, 5, 6, 7, 8, 9, 1, 2, 3, 4, 6, 1, 2, 3, 4, 5, 6, 7, 8, 9, 1, 2, 3, 4, 5, 6, 7, 8, 1, 2, 3, 4, 5, 6, 7, 8, 1, 2, 3, 4, 5, 6, 7, 8, 1, 2, 3, 4, 5, 6, 7, 8, 1, 2, 3, 4, 5, 6, 7, 8, 9, 1, 2, 3, 4, 1, 2, 3, 4, 5, 6, 7, 1, 2, 3, 4, 1, 2, 3, 4, 1, 2, 3, 4, 1, 2, 3, 4, 5, 6, 7, 1, 2, 3, 4, 5, 6, 7, 8, 9, 1, 2, 3, 4, 5, 6, 7, 1, 2, 3, 4, 5, 6, 7, 8, 9, 1, 2, 3, 4, 5, 6, 1, 2, 3, 4, 5, 6, 7, 8, 1, 2, 3, 4, 5, 6, 7, 8, 9, 1, 2, 3, 4, 5, 6, 8, 1, 2, 3, 4, 5, 6, 7, 1, 2, 3, 4, 5, 6, 1, 2, 3, 4, 5, 6, 7, 8, 1, 2, 3, 4, 5, 6, 7, 8, 1, 2, 3, 4, 1, 2, 3, 4, 5, 1, 2, 3, 4, 5, 6, 7, 8, 9, 1, 2, 3, 4, 5, 1, 2, 3, 4, 1, 2, 3, 4, 5, 6, 7, 8, 1, 2, 3, 4, 1, 2, 3, 4, 5, 6, 7, 1, 2, 3, 4, 5, 6, 7, 8, 1, 2, 3, 4, 5, 6, 7, 8, 9, 1, 2, 3, 4, 5, 6, 7, 8, 1, 2, 3, 4, 1, 2, 3, 4, 5, 6, 7, 8, 1, 2, 3, 4, 1, 2, 3, 4, 1, 2, 3, 4, 5, 6, 7, 8, 9, 1, 2, 3, 4, 1, 2, 3, 4, 5, 6, 8, 1, 2, 3, 4, 5, 6, 7, 8, 9, 1, 2, 3, 4, 5, 6, 7, 8, 9, 1, 2, 3, 4, 5, 6, 1, 2, 3, 4, 1, 2, 3, 4, 5, 6, 7, 8, 9, 1, 2, 3, 4, 5, 6, 1, 2, 3, 4, 1, 2, 3, 4, 1, 2, 3, 4, 5, 6, 1, 2, 3, 4, 5, 6, 7, 8, 9, 1, 2, 3, 4, 5, 6, 7, 8, 9, 1, 2, 3, 4, 5, 1, 2, 3, 4, 5, 6, 7, 8, 1, 2, 3, 4, 5, 1, 2, 3, 4, 5, 6, 7, 8, 9, 1, 2, 3, 4, 5, 6, 7, 8, 1, 2, 3, 4, 5, 6, 7, 8, 9, 1, 2, 3, 4, 1, 2, 3, 4, 1, 2, 3, 4, 5, 6, 7, 8, 9, 1, 2, 3, 4, 1, 2, 3, 4, 5, 6, 7, 8, 1, 2, 3, 4, 5, 6, 7, 8, 1, 2, 3, 4, 5, 6, 7, 8, 1, 2, 3, 4, 5, 1, 2, 3, 4, 5, 6, 7, 8, 1, 2, 3, 4, 5, 6, 7, 8, 9, 1, 2, 3, 4, 5, 6, 7, 8, 1, 2, 3, 4, 5, 6, 7, 8, 9, 1, 2, 3, 4, 5, 6, 7, 8, 9, 1, 2, 3, 4, 5, 6, 7, 8, 9, 1, 2, 3, 4, 5, 6, 7, 8, 9, 1, 2, 3, 4, 1, 2, 3, 4, 5, 6, 7, 8, 1, 2, 3, 4, 5, 6, 7, 8, 9, 1, 2, 3, 4, 5, 6, 7, 8, 9, 1, 2, 3, 4, 5, 6, 7, 8, 1, 2, 3, 4, 1, 2, 3, 4, 5, 6, 7, 8, 1, 2, 3, 4, 1, 2, 3, 4, 5, 6, 7, 1, 2, 3, 4, 5, 1, 2, 3, 4, 1, 2, 3, 4, 1, 2, 3, 4, 5, 6, 7, 8, 9, 1, 2, 3, 4, 5, 1, 2, 3, 4, 1, 2, 3, 4, 5, 6, 7, 8, 9, 1, 2, 3, 4, 5, 6, 7, 8, 9, 1, 2, 3, 4, 5, 6, 7, 8, 9, 1, 2, 3, 4, 1, 2, 3, 4, 5, 1, 2, 3, 4, 5, 6, 7, 8, 1, 2, 3, 4, 5, 6, 7, 8, 9, 1, 2, 3, 4, 5, 6, 7, 8, 9, 1, 2, 3, 4, 5, 6, 7, 8, 1, 2, 3, 4, 5, 6, 7, 8, 9, 1, 2, 3, 4, 5, 6, 7, 8, 9, 1, 2, 3, 4, 5, 6, 7, 8, 1, 2, 3, 4, 1, 2, 3, 4, 5, 6, 7, 8, 1, 2, 3, 4, 5, 6, 7, 8, 1, 2, 3, 4, 5, 6, 7, 8, 1, 2, 3, 4, 1, 2, 3, 4, 1, 2, 3, 4, 5, 6, 7, 8, 9, 1, 2, 3, 4, 5, 6, 7, 8, 1, 2, 3, 4, 5, 6, 8, 1, 2, 3, 4, 5, 6, 7, 1, 2, 3, 4, 5, 6, 7, 8, 1, 2, 3, 4, 5, 6, 1, 2, 3, 4, 5, 6, 7, 1, 2, 3, 4, 5, 6, 7, 8, 1, 2, 3, 4, 5, 6, 7, 8, 9, 1, 2, 3, 4, 5, 6, 7, 8, 9, 1, 2, 3, 4, 5, 6, 1, 2, 3, 4, 5, 6, 7, 8, 9, 1, 2, 3, 4, 1, 2, 3, 4, 1, 2, 3, 4, 5, 6, 7, 8, 9, 1, 2, 3, 4, 5, 6, 1, 2, 3, 4, 5, 1, 2, 3, 4, 5, 6, 7, 8, 1, 2, 3, 4, 5, 1, 2, 3, 4, 5, 6, 1, 2, 3, 4, 5, 6, 7, 8, 1, 2, 3, 4, 5, 6, 8, 1, 2, 3, 4, 5, 1, 2, 3, 4, 5, 6, 7, 8, 1, 2, 3, 4, 6, 1, 2, 3, 4, 1, 2, 3, 4, 5, 6, 7, 8, 9, 1, 2, 3, 4, 5, 6, 7, 8, 9, 1, 2, 3, 4, 5, 6, 1, 2, 3, 4, 5, 6, 7, 8, 9, 1, 2, 3, 4, 5, 6, 8, 1, 2, 3, 4, 5, 6, 7, 1, 2, 3, 4, 1, 2, 3, 4, 5, 6, 1, 2, 3, 4, 1, 2, 3, 4, 5, 6, 7, 8, 9, 1, 2, 3, 4, 5, 6, 7, 8, 9, 1, 2, 3, 4, 5, 6, 7, 1, 2, 3, 4, 5, 1, 2, 3, 4, 5, 6, 7, 8, 1, 2, 3, 4, 5, 6, 7, 8, 9, 1, 2, 3, 4, 5, 6, 7, 8, 9, 1, 2, 3, 4, 5, 7, 1, 2, 3, 4, 5, 6, 7, 8, 9, 1, 2, 3, 4, 5, 6, 7, 8, 1, 2, 3, 4, 1, 2, 3, 4, 5, 6, 7, 8, 9, 1, 2, 3, 4, 5, 6, 7, 8, 9, 1, 2, 3, 4, 5, 7, 1, 2, 3, 4, 5, 6, 7, 8, 9, 1, 2, 3, 4, 5, 6, 7, 1, 2, 3, 4, 1, 2, 3, 4, 5, 6, 7, 8, 1, 2, 3, 4, 5, 6, 1, 2, 3, 4, 5, 6, 8, 1, 2, 3, 4, 1, 2, 3, 4, 5, 6, 7, 8, 1, 2, 3, 4, 1, 2, 3, 4, 5, 6, 7, 1, 2, 3, 4, 5, 6, 7, 8, 1, 2, 3, 4, 5, 6, 7, 8, 1, 2, 3, 4, 5, 6, 7, 8, 9, 1, 2, 3, 4, 5, 6, 7, 8, 9, 1, 2, 3, 4, 5, 6, 7, 8, 1, 2, 3, 4, 5, 1, 2, 3, 4, 5, 6, 7, 8, 9, 1, 2, 3, 4, 5, 6, 7, 8, 1, 2, 3, 4, 1, 2, 3, 4, 1, 2, 3, 4, 5, 6, 7, 8, 9, 1, 2, 3, 4, 5, 6, 7, 8, 9, 1, 2, 3, 4, 5, 6, 7, 8, 9, 1, 2, 3, 4, 5, 6, 7, 8, 9, 1, 2, 3, 4, 5, 6, 8, 1, 2, 3, 4, 5, 7, 8, 1, 2, 3, 4, 5, 6, 7, 8, 9, 1, 2, 3, 4, 5, 6, 1, 2, 3, 4, 5, 6, 7, 8, 9, 1, 2, 3, 4, 5, 6, 7, 1, 2, 3, 4, 5, 6, 7, 8, 9, 1, 2, 3, 4, 5, 6, 7, 8, 1, 2, 3, 4, 5, 6, 7, 8, 9, 1, 2, 3, 4, 5, 6, 1, 2, 3, 4, 5, 6, 7, 8, 1, 2, 3, 4, 5, 6, 7, 8, 9, 1, 2, 3, 4, 1, 2, 3, 4, 5, 1, 2, 3, 4, 5, 1, 2, 3, 4, 5, 6, 7, 8, 1, 2, 3, 4, 5, 6, 7, 8, 9, 1, 2, 3, 4, 5, 6, 7, 8, 1, 2, 3, 4, 5, 1, 2, 3, 4, 5, 6, 7, 1, 2, 3, 4, 5, 6, 7, 8, 9, 1, 2, 3, 4, 5, 6, 1, 2, 3, 4, 5, 6, 7, 8, 9, 1, 2, 3, 4, 5, 6, 7, 8, 9, 1, 2, 3, 4, 5, 6, 7, 8, 1, 2, 3, 4, 5, 6, 7, 8, 9, 1, 2, 3, 4, 5, 1, 2, 3, 4, 5, 6, 7, 8, 9, 1, 2, 3, 4, 5, 6, 7, 8, 9, 1, 2, 3, 4, 1, 2, 3, 4, 5, 6, 7, 8, 1, 2, 3, 4, 5, 6, 7, 8, 9, 1, 2, 3, 4, 5, 6, 7, 8, 9, 1, 2, 3, 4, 5, 6, 7, 8, 1, 2, 3, 4, 1, 2, 3, 4, 5, 6, 7, 8, 1, 2, 3, 4, 5, 6, 7, 8, 1, 2, 3, 4, 5, 6, 7, 8, 9, 1, 2, 3, 4, 5, 6, 7, 8, 1, 2, 3, 4, 1, 2, 3, 4, 5, 1, 2, 3, 4, 1, 2, 3, 4, 5, 6, 7, 8, 1, 2, 3, 4, 5, 6, 7, 8, 9, 1, 2, 3, 4, 5, 1, 2, 3, 4, 5, 6, 1, 2, 3, 4, 1, 2, 3, 4, 1, 2, 3, 4, 5, 6, 7, 8, 1, 2, 3, 4, 1, 2, 3, 4, 5, 6, 7, 8, 9, 1, 2, 3, 4, 5, 6, 7, 8, 1, 2, 3, 4, 1, 2, 3, 4, 5, 6, 7, 8, 1, 2, 3, 4, 5, 6, 7, 8, 9, 1, 2, 3, 4, 5, 6, 7, 8, 9, 1, 2, 3, 4, 5, 6, 7, 8, 9, 1, 2, 3, 4, 5, 6, 7, 8, 9, 1, 2, 3, 4, 5, 6, 7, 8, 9, 1, 2, 3, 4, 5, 1, 2, 3, 4, 1, 2, 3, 4, 6, 1, 2, 3, 4, 5, 6, 7, 8, 9, 1, 2, 3, 4, 5, 6, 7, 8, 1, 2, 3, 4, 5, 6, 7, 8, 9, 1, 2, 3, 4, 5, 6, 7, 1, 2, 3, 4, 5, 6, 7, 8, 1, 2, 3, 4, 5, 6, 7, 8, 1, 2, 3, 4, 1, 2, 3, 4, 5, 6, 7, 8, 9, 1, 2, 3, 4, 1, 2, 3, 4, 5, 6, 7, 8, 9, 1, 2, 3, 4, 5, 6, 7, 1, 2, 3, 4, 5, 6, 1, 2, 3, 4, 5, 1, 2, 3, 4, 1, 2, 3, 4, 5, 6, 7, 8, 1, 2, 3, 4, 1, 2, 3, 4, 1, 2, 3, 4, 5, 6, 7, 8, 1, 2, 3, 4, 5, 6, 7, 8, 1, 2, 3, 4, 5, 6, 7, 8, 9, 1, 2, 3, 4, 5, 6, 7, 8, 1, 2, 3, 4, 5, 6, 7, 8, 9, 1, 2, 3, 4, 5, 6, 8, 1, 2, 3, 4, 5, 1, 2, 3, 4, 5, 6, 7, 8, 9, 1, 2, 3, 4, 5, 6, 7, 8, 1, 2, 3, 4, 5, 6, 7, 8, 1, 2, 3, 4, 5, 6, 7, 8, 1, 2, 3, 4, 5, 6, 1, 2, 3, 4, 5, 6, 7, 8, 9, 1, 2, 3, 4, 5, 6, 7, 8, 1, 2, 3, 4, 5, 6, 7, 8, 9, 1, 2, 3, 4, 5, 6, 7, 8, 9, 1, 2, 3, 4, 5, 6, 7, 8, 9, 1, 2, 3, 4, 5, 6, 1, 2, 3, 4, 5, 1, 2, 3, 4, 5, 6, 7, 8, 1, 2, 3, 4, 5, 6, 7, 8, 9, 1, 2, 3, 4, 5, 6, 7, 1, 2, 3, 4, 5, 6, 8, 1, 2, 3, 4, 1, 2, 3, 4, 5, 6, 7, 8, 9, 1, 2, 3, 4, 5, 6, 7, 8, 1, 2, 3, 4, 5, 6, 7, 8, 9, 1, 2, 3, 4, 1, 2, 3, 4, 5, 6, 1, 2, 3, 4, 1, 2, 3, 4, 5, 6, 7, 8, 1, 2, 3, 4, 5, 6, 7, 8, 1, 2, 3, 4, 6, 1, 2, 3, 4, 1, 2, 3, 4, 5, 6, 7, 8, 9, 1, 2, 3, 4, 1, 2, 3, 4, 5, 6, 1, 2, 3, 4, 5, 1, 2, 3, 4, 5, 6, 7, 8, 9, 1, 2, 3, 4, 5, 6, 7, 1, 2, 3, 4, 5, 6, 7, 8, 9, 1, 2, 3, 4, 5, 1, 2, 3, 4, 5, 1, 2, 3, 4, 5, 6, 1, 2, 3, 4, 1, 2, 3, 4, 5, 6, 7, 8, 9, 1, 2, 3, 4, 1, 2, 3, 4, 5, 6, 7, 8, 1, 2, 3, 4, 1, 2, 3, 4, 5, 6, 7, 8, 9, 1, 2, 3, 4, 5, 6, 7, 8, 1, 2, 3, 4, 1, 2, 3, 4, 5, 6, 7, 1, 2, 3, 4, 5, 6, 7, 8, 9, 1, 2, 3, 4, 5, 6, 7, 8, 1, 2, 3, 4, 5, 6, 7, 8, 1, 2, 3, 4, 5, 1, 2, 3, 4, 5, 6, 7, 8, 1, 2, 3, 4, 1, 2, 3, 4, 5, 6, 1, 2, 3, 4], \"Freq\": [0.331208679525208, 0.18065927974102253, 0.18065927974102253, 0.15054939978418544, 0.030109879956837088, 0.030109879956837088, 0.030109879956837088, 0.030109879956837088, 0.3301610061957049, 0.2311127043369934, 0.16508050309785244, 0.09904830185871147, 0.03301610061957049, 0.03301610061957049, 0.03301610061957049, 0.03301610061957049, 0.03301610061957049, 0.47561029762545215, 0.14634163003860065, 0.1097562225289505, 0.1097562225289505, 0.03658540750965016, 0.03658540750965016, 0.03658540750965016, 0.03658540750965016, 0.4187771620576217, 0.23930123546149812, 0.11965061773074906, 0.08973796329806179, 0.05982530886537453, 0.029912654432687265, 0.029912654432687265, 0.029912654432687265, 0.46464110213051746, 0.17424041329894405, 0.13552032145473428, 0.09680022961052448, 0.03872009184420979, 0.03872009184420979, 0.03872009184420979, 0.019360045922104895, 0.019360045922104895, 0.3616193340508688, 0.16071970402260838, 0.24107955603391257, 0.12053977801695628, 0.040179926005652095, 0.040179926005652095, 0.040179926005652095, 0.040179926005652095, 0.3591642441553, 0.1995356911973889, 0.1995356911973889, 0.07981427647895556, 0.03990713823947778, 0.03990713823947778, 0.03990713823947778, 0.03990713823947778, 0.43117989956770203, 0.143726633189234, 0.143726633189234, 0.143726633189234, 0.42946847449910164, 0.1431561581663672, 0.16360703790441966, 0.10225439869026229, 0.06135263921415737, 0.040901759476104915, 0.020450879738052458, 0.020450879738052458, 0.020450879738052458, 0.513750074907514, 0.1284375187268785, 0.1284375187268785, 0.06421875936343925, 0.06421875936343925, 0.06421875936343925, 0.3763202119335579, 0.17105464178798088, 0.17105464178798088, 0.10263278507278853, 0.034210928357596176, 0.034210928357596176, 0.034210928357596176, 0.034210928357596176, 0.365455867245045, 0.15662394310501926, 0.2088319241400257, 0.10441596207001284, 0.05220798103500642, 0.05220798103500642, 0.05220798103500642, 0.05220798103500642, 0.295824977844105, 0.19721665189607, 0.19721665189607, 0.098608325948035, 0.4217246432873993, 0.18073913283745682, 0.12049275522497122, 0.12049275522497122, 0.06024637761248561, 0.06024637761248561, 0.3323038982679237, 0.3323038982679237, 0.16615194913396186, 0.16615194913396186, 0.4017094333596217, 0.17853752593760966, 0.13390314445320725, 0.13390314445320725, 0.044634381484402415, 0.044634381484402415, 0.044634381484402415, 0.022317190742201207, 0.022317190742201207, 0.45919423533894427, 0.16917682354592684, 0.1208405882470906, 0.1208405882470906, 0.02416811764941812, 0.02416811764941812, 0.02416811764941812, 0.02416811764941812, 0.02416811764941812, 0.409784234640943, 0.11708120989741228, 0.1756218148461184, 0.11708120989741228, 0.05854060494870614, 0.02927030247435307, 0.02927030247435307, 0.02927030247435307, 0.02927030247435307, 0.5493296399438261, 0.13733240998595653, 0.06866620499297826, 0.06866620499297826, 0.06866620499297826, 0.06866620499297826, 0.06866620499297826, 0.35373083578360137, 0.21223850147016082, 0.14149233431344055, 0.07074616715672027, 0.07074616715672027, 0.07074616715672027, 0.07074616715672027, 0.32757855398697766, 0.16378927699348883, 0.16378927699348883, 0.16378927699348883, 0.054596425664496274, 0.054596425664496274, 0.054596425664496274, 0.337326623015957, 0.1349306492063828, 0.2023959738095742, 0.1349306492063828, 0.0674653246031914, 0.0674653246031914, 0.0674653246031914, 0.0674653246031914, 0.40103693531248424, 0.1604147741249937, 0.1604147741249937, 0.08020738706249685, 0.08020738706249685, 0.3408196379794568, 0.1704098189897284, 0.2556147284845926, 0.0852049094948642, 0.32667002747562235, 0.16333501373781117, 0.16333501373781117, 0.16333501373781117, 0.4745290137954136, 0.16426004323687396, 0.10950669549124929, 0.10950669549124929, 0.03650223183041643, 0.03650223183041643, 0.03650223183041643, 0.018251115915208217, 0.018251115915208217, 0.3894645520467157, 0.19473227602335785, 0.19473227602335785, 0.19473227602335785, 0.3544368477023391, 0.15752748786770626, 0.17721842385116954, 0.1181456159007797, 0.05907280795038985, 0.05907280795038985, 0.039381871966926565, 0.019690935983463283, 0.019690935983463283, 0.37216022987362013, 0.24810681991574676, 0.12405340995787338, 0.12405340995787338, 0.44597409483771694, 0.14865803161257232, 0.14865803161257232, 0.14865803161257232, 0.369391068749387, 0.22731758076885353, 0.14207348798053346, 0.08524409278832008, 0.05682939519221338, 0.02841469759610669, 0.02841469759610669, 0.02841469759610669, 0.02841469759610669, 0.3922827824211822, 0.1307609274737274, 0.1307609274737274, 0.1307609274737274, 0.47688056478417257, 0.15059386256342291, 0.15059386256342291, 0.10039590837561528, 0.05019795418780764, 0.02509897709390382, 0.02509897709390382, 0.02509897709390382, 0.02509897709390382, 0.33768270823611035, 0.16884135411805518, 0.16884135411805518, 0.08442067705902759, 0.08442067705902759, 0.38373157356448323, 0.1534926294257933, 0.1534926294257933, 0.1534926294257933, 0.07674631471289665, 0.07674631471289665, 0.3580842346886707, 0.23872282312578044, 0.11936141156289022, 0.11936141156289022, 0.05968070578144511, 0.05968070578144511, 0.05968070578144511, 0.29811359771268725, 0.17886815862761235, 0.17886815862761235, 0.1192454390850749, 0.05962271954253745, 0.05962271954253745, 0.05962271954253745, 0.32630126382053826, 0.18645786504030756, 0.23307233130038446, 0.09322893252015378, 0.04661446626007689, 0.04661446626007689, 0.04661446626007689, 0.41719256905176855, 0.1668770276207074, 0.14601739916811898, 0.10429814226294214, 0.04171925690517685, 0.04171925690517685, 0.020859628452588427, 0.020859628452588427, 0.020859628452588427, 0.3568571489718236, 0.20391837084104203, 0.15293877813078152, 0.10195918542052101, 0.05097959271026051, 0.05097959271026051, 0.05097959271026051, 0.05097959271026051, 0.2383048749402983, 0.2383048749402983, 0.11915243747014916, 0.11915243747014916, 0.11915243747014916, 0.36210528085880345, 0.18105264042940172, 0.1207017602862678, 0.1207017602862678, 0.0603508801431339, 0.0603508801431339, 0.0603508801431339, 0.352016354594478, 0.176008177297239, 0.176008177297239, 0.176008177297239, 0.35558180277121676, 0.1862571347849231, 0.1693246679862937, 0.10159480079177623, 0.05079740039588811, 0.05079740039588811, 0.03386493359725874, 0.03386493359725874, 0.01693246679862937, 0.3585373977112074, 0.1792686988556037, 0.2048785129778328, 0.0768294423666873, 0.0512196282444582, 0.0512196282444582, 0.0256098141222291, 0.0256098141222291, 0.0256098141222291, 0.36225471248321256, 0.1552520196356625, 0.20700269284755005, 0.10350134642377502, 0.05175067321188751, 0.05175067321188751, 0.3101617368024859, 0.24812938944198867, 0.18609704208149153, 0.06203234736049717, 0.06203234736049717, 0.06203234736049717, 0.06203234736049717, 0.34653258157246225, 0.198018618041407, 0.14851396353105525, 0.14851396353105525, 0.04950465451035175, 0.04950465451035175, 0.04950465451035175, 0.04950465451035175, 0.3599230252401427, 0.19195894679474276, 0.14396921009605707, 0.11997434174671423, 0.04798973669868569, 0.04798973669868569, 0.023994868349342845, 0.023994868349342845, 0.023994868349342845, 0.4803637090555912, 0.14780421817095116, 0.14780421817095116, 0.07390210908547558, 0.03695105454273779, 0.03695105454273779, 0.03695105454273779, 0.03695105454273779, 0.26340636551354474, 0.2257768847258955, 0.2257768847258955, 0.11288844236294775, 0.03762948078764925, 0.03762948078764925, 0.03762948078764925, 0.03762948078764925, 0.38203362404706537, 0.22922017442823922, 0.15281344961882615, 0.1273445413490218, 0.050937816539608716, 0.025468908269804358, 0.025468908269804358, 0.025468908269804358, 0.35763297834607183, 0.17881648917303591, 0.17881648917303591, 0.12772606369502565, 0.05109042547801026, 0.02554521273900513, 0.02554521273900513, 0.02554521273900513, 0.02554521273900513, 0.3311815415559014, 0.13247261662236057, 0.13247261662236057, 0.13247261662236057, 0.06623630831118028, 0.06623630831118028, 0.06623630831118028, 0.350432374229154, 0.175216187114577, 0.175216187114577, 0.15018530324106602, 0.050061767747022, 0.025030883873511, 0.025030883873511, 0.025030883873511, 0.025030883873511, 0.44802354186523285, 0.1206217228098704, 0.1723167468712434, 0.1206217228098704, 0.051695024061373024, 0.034463349374248685, 0.017231674687124342, 0.017231674687124342, 0.017231674687124342, 0.3395006916272674, 0.1697503458136337, 0.1697503458136337, 0.1697503458136337, 0.08487517290681686, 0.08487517290681686, 0.27575972227340134, 0.16545583336404082, 0.22060777781872107, 0.16545583336404082, 0.05515194445468027, 0.05515194445468027, 0.05515194445468027, 0.05515194445468027, 0.3388549707709063, 0.16942748538545316, 0.21178435673181645, 0.08471374269272658, 0.08471374269272658, 0.04235687134636329, 0.04235687134636329, 0.04235687134636329, 0.40669273549881113, 0.17792807178072986, 0.15250977581205416, 0.10167318387470278, 0.05083659193735139, 0.05083659193735139, 0.025418295968675696, 0.025418295968675696, 0.025418295968675696, 0.42107202818216816, 0.16842881127286727, 0.16842881127286727, 0.10526800704554204, 0.04210720281821682, 0.04210720281821682, 0.02105360140910841, 0.02105360140910841, 0.02105360140910841, 0.34780304840026216, 0.17390152420013108, 0.17390152420013108, 0.11593434946675404, 0.05796717473337702, 0.05796717473337702, 0.05796717473337702, 0.05796717473337702, 0.3859406661624189, 0.16540314264103667, 0.16540314264103667, 0.11026876176069111, 0.05513438088034556, 0.02756719044017278, 0.02756719044017278, 0.02756719044017278, 0.02756719044017278, 0.31572992262886423, 0.26310826885738686, 0.15786496131443212, 0.10524330754295474, 0.05262165377147737, 0.05262165377147737, 0.05262165377147737, 0.05262165377147737, 0.4348906085213425, 0.16308397819550344, 0.16308397819550344, 0.10872265213033562, 0.05436132606516781, 0.05436132606516781, 0.2899511386655851, 0.14497556933279254, 0.14497556933279254, 0.14497556933279254, 0.2950241050828829, 0.2950241050828829, 0.14751205254144145, 0.14751205254144145, 0.07375602627072073, 0.07375602627072073, 0.3834565464623498, 0.1533826185849399, 0.1533826185849399, 0.12781884882078326, 0.0511275395283133, 0.0511275395283133, 0.02556376976415665, 0.02556376976415665, 0.4530055001400658, 0.16689676320949792, 0.09536957897685595, 0.11921197372106995, 0.04768478948842798, 0.04768478948842798, 0.02384239474421399, 0.02384239474421399, 0.02384239474421399, 0.3231868337042892, 0.18852565299416868, 0.18852565299416868, 0.13466118071012048, 0.0538644722840482, 0.0269322361420241, 0.0269322361420241, 0.0269322361420241, 0.0269322361420241, 0.40467849226046304, 0.18394476920930136, 0.1471558153674411, 0.11036686152558083, 0.036788953841860275, 0.036788953841860275, 0.036788953841860275, 0.036788953841860275, 0.37615643108045627, 0.14105866165517109, 0.23509776942528515, 0.09403910777011407, 0.04701955388505703, 0.04701955388505703, 0.04701955388505703, 0.04701955388505703, 0.3440761013884475, 0.19354280703100174, 0.17203805069422376, 0.12902853802066783, 0.04300951267355594, 0.04300951267355594, 0.02150475633677797, 0.02150475633677797, 0.02150475633677797, 0.31498387686204943, 0.1837405948361955, 0.15749193843102471, 0.13124328202585392, 0.07874596921551236, 0.05249731281034157, 0.026248656405170784, 0.026248656405170784, 0.026248656405170784, 0.38003759687945043, 0.1266791989598168, 0.2533583979196336, 0.1266791989598168, 0.3702565000483764, 0.20569805558243134, 0.1645584444659451, 0.12341883334945881, 0.04113961111648627, 0.04113961111648627, 0.04113961111648627, 0.04113961111648627, 0.3461917225532084, 0.1730958612766042, 0.1730958612766042, 0.1730958612766042, 0.40794282624461503, 0.17736644619331088, 0.1418931569546487, 0.1418931569546487, 0.03547328923866218, 0.03547328923866218, 0.03547328923866218, 0.03547328923866218, 0.01773664461933109, 0.39361767414880333, 0.16869328892091573, 0.16869328892091573, 0.11246219261394381, 0.05623109630697191, 0.05623109630697191, 0.028115548153485954, 0.028115548153485954, 0.47210975306839287, 0.11802743826709822, 0.17704115740064733, 0.05901371913354911, 0.05901371913354911, 0.05901371913354911, 0.2930071858718894, 0.1465035929359447, 0.21975538940391706, 0.1465035929359447, 0.07325179646797235, 0.07325179646797235, 0.35841040278812036, 0.26880780209109023, 0.17920520139406018, 0.08960260069703009, 0.08960260069703009, 0.35742603630633474, 0.13403476361487554, 0.17871301815316737, 0.13403476361487554, 0.04467825453829184, 0.04467825453829184, 0.04467825453829184, 0.04467825453829184, 0.3357202286958907, 0.22381348579726046, 0.11190674289863023, 0.11190674289863023, 0.11190674289863023, 0.26933819881015447, 0.2154705590481236, 0.26933819881015447, 0.1077352795240618, 0.0538676397620309, 0.0538676397620309, 0.0538676397620309, 0.0538676397620309, 0.3776611469087291, 0.18883057345436455, 0.18883057345436455, 0.09441528672718227, 0.09441528672718227, 0.39471543745166093, 0.19735771872583047, 0.19735771872583047, 0.19735771872583047, 0.3553270224634494, 0.14213080898537975, 0.14213080898537975, 0.14213080898537975, 0.07106540449268987, 0.07106540449268987, 0.39355638876914145, 0.23613383326148488, 0.1574225555076566, 0.0787112777538283, 0.0787112777538283, 0.0787112777538283, 0.3909476565996532, 0.16097844683515133, 0.1839753678116015, 0.09198768390580075, 0.04599384195290038, 0.04599384195290038, 0.04599384195290038, 0.02299692097645019, 0.02299692097645019, 0.3441453082133344, 0.22943020547555626, 0.183544164380445, 0.11471510273777813, 0.04588604109511125, 0.022943020547555624, 0.022943020547555624, 0.022943020547555624, 0.022943020547555624, 0.3452870011913412, 0.1726435005956706, 0.1726435005956706, 0.1726435005956706, 0.3323361129603296, 0.1661680564801648, 0.1661680564801648, 0.1661680564801648, 0.0830840282400824, 0.38964969447619335, 0.21253619698701454, 0.1594021477402609, 0.10626809849350727, 0.03542269949783576, 0.01771134974891788, 0.03542269949783576, 0.01771134974891788, 0.01771134974891788, 0.41467657365020344, 0.15797202805722035, 0.1777185315643729, 0.09873251753576272, 0.03949300701430509, 0.019746503507152544, 0.019746503507152544, 0.019746503507152544, 0.019746503507152544, 0.4260721719487992, 0.18260235940662825, 0.12173490627108549, 0.12173490627108549, 0.060867453135542746, 0.060867453135542746, 0.060867453135542746, 0.3504098864936352, 0.20706038747351171, 0.15927722113347056, 0.12742177690677645, 0.047783166340041164, 0.03185544422669411, 0.03185544422669411, 0.015927722113347056, 0.015927722113347056, 0.39897521387279267, 0.170989377374054, 0.170989377374054, 0.11399291824936934, 0.05699645912468467, 0.028498229562342336, 0.028498229562342336, 0.028498229562342336, 0.028498229562342336, 0.4549542101817223, 0.10339868413220961, 0.20679736826441922, 0.10339868413220961, 0.041359473652883845, 0.041359473652883845, 0.020679736826441922, 0.020679736826441922, 0.32351413471260554, 0.17254087184672295, 0.21567608980840366, 0.10783804490420183, 0.08627043592336148, 0.02156760898084037, 0.04313521796168074, 0.02156760898084037, 0.02156760898084037, 0.3435440077185774, 0.2186189140027311, 0.15615636714480793, 0.09369382028688475, 0.06246254685792317, 0.06246254685792317, 0.031231273428961585, 0.031231273428961585, 0.031231273428961585, 0.3696870966368718, 0.1848435483184359, 0.1848435483184359, 0.09242177415921796, 0.09242177415921796, 0.24861212850788844, 0.24861212850788844, 0.16574141900525896, 0.08287070950262948, 0.08287070950262948, 0.3116645195287414, 0.24933161562299314, 0.12466580781149657, 0.062332903905748284, 0.062332903905748284, 0.062332903905748284, 0.062332903905748284, 0.34372467761992476, 0.21873388575813393, 0.15623848982723854, 0.09374309389634312, 0.06249539593089541, 0.06249539593089541, 0.031247697965447706, 0.031247697965447706, 0.3969384233557893, 0.18984011551798619, 0.18984011551798619, 0.10354915391890156, 0.03451638463963385, 0.03451638463963385, 0.017258192319816925, 0.017258192319816925, 0.017258192319816925, 0.3731364859847365, 0.15547353582697354, 0.15547353582697354, 0.15547353582697354, 0.062189414330789415, 0.031094707165394708, 0.031094707165394708, 0.031094707165394708, 0.37318866233487663, 0.17224092107763536, 0.14353410089802948, 0.14353410089802948, 0.028706820179605897, 0.028706820179605897, 0.028706820179605897, 0.028706820179605897, 0.3294689208146229, 0.19768135248877375, 0.19768135248877375, 0.13178756832584917, 0.06589378416292459, 0.06589378416292459, 0.5038306317008181, 0.1679435439002727, 0.1679435439002727, 0.055981181300090894, 0.055981181300090894, 0.055981181300090894, 0.055981181300090894, 0.4834031400525201, 0.1381151828721486, 0.1611343800175067, 0.09207678858143241, 0.023019197145358102, 0.046038394290716204, 0.023019197145358102, 0.023019197145358102, 0.35754428773673674, 0.2043110215638496, 0.2043110215638496, 0.1021555107819248, 0.0510777553909624, 0.0510777553909624, 0.0510777553909624, 0.4394258974170196, 0.14647529913900653, 0.14647529913900653, 0.14647529913900653, 0.07323764956950327, 0.07323764956950327, 0.4050577698470153, 0.13501925661567177, 0.13501925661567177, 0.13501925661567177, 0.36417356338190043, 0.15607438430652876, 0.15607438430652876, 0.15607438430652876, 0.05202479476884292, 0.05202479476884292, 0.05202479476884292, 0.40201137159025824, 0.18554370996473457, 0.15461975830394548, 0.12369580664315638, 0.06184790332157819, 0.030923951660789095, 0.030923951660789095, 0.030923951660789095, 0.030923951660789095, 0.3557328203277427, 0.26679961524580703, 0.17786641016387136, 0.08893320508193568, 0.08893320508193568, 0.2649202007834777, 0.23548462291864686, 0.17661346718898513, 0.11774231145932343, 0.058871155729661714, 0.029435577864830857, 0.029435577864830857, 0.029435577864830857, 0.029435577864830857, 0.37136761041831323, 0.18568380520915662, 0.1485470441673253, 0.1485470441673253, 0.03713676104183133, 0.03713676104183133, 0.03713676104183133, 0.03713676104183133, 0.323010767929613, 0.2768663725110968, 0.18457758167406454, 0.09228879083703227, 0.046144395418516136, 0.046144395418516136, 0.046144395418516136, 0.046144395418516136, 0.30246520603840293, 0.15123260301920147, 0.15123260301920147, 0.15123260301920147, 0.050410867673067156, 0.050410867673067156, 0.050410867673067156, 0.050410867673067156, 0.3186136130807094, 0.23896020981053204, 0.1593068065403547, 0.11948010490526602, 0.039826701635088675, 0.039826701635088675, 0.039826701635088675, 0.039826701635088675, 0.5186289198384822, 0.14144425086504062, 0.11787020905420051, 0.0942961672433604, 0.0471480836216802, 0.0471480836216802, 0.0235740418108401, 0.0235740418108401, 0.0235740418108401, 0.3528040532862311, 0.17640202664311555, 0.17640202664311555, 0.17640202664311555, 0.3372906587892803, 0.19273751930816016, 0.1445531394811201, 0.1445531394811201, 0.04818437982704004, 0.04818437982704004, 0.04818437982704004, 0.30249261054378607, 0.15124630527189303, 0.15124630527189303, 0.15124630527189303, 0.2731882516114628, 0.2731882516114628, 0.1365941258057314, 0.1365941258057314, 0.36610124811697686, 0.12203374937232561, 0.12203374937232561, 0.12203374937232561, 0.37832684288341834, 0.162140075521465, 0.162140075521465, 0.162140075521465, 0.05404669184048833, 0.05404669184048833, 0.05404669184048833, 0.34572979631073186, 0.17286489815536593, 0.19447301042478668, 0.12964867361652446, 0.04321622453884148, 0.04321622453884148, 0.02160811226942074, 0.02160811226942074, 0.02160811226942074, 0.3057496306807839, 0.20383308712052262, 0.20383308712052262, 0.10191654356026131, 0.050958271780130654, 0.050958271780130654, 0.050958271780130654, 0.39924401591531405, 0.13308133863843802, 0.21293014182150083, 0.10646507091075041, 0.05323253545537521, 0.026616267727687604, 0.026616267727687604, 0.026616267727687604, 0.026616267727687604, 0.48097538703265413, 0.1803657701372453, 0.12024384675816353, 0.12024384675816353, 0.06012192337908177, 0.06012192337908177, 0.43106148653112547, 0.1724245946124502, 0.12931844595933764, 0.0862122973062251, 0.04310614865311255, 0.04310614865311255, 0.04310614865311255, 0.04310614865311255, 0.42838829361519853, 0.17452856406545125, 0.15866233096859206, 0.11106363167801443, 0.04759869929057762, 0.03173246619371841, 0.03173246619371841, 0.015866233096859205, 0.015866233096859205, 0.3666610630572064, 0.14666442522288256, 0.21999663783432385, 0.07333221261144128, 0.07333221261144128, 0.07333221261144128, 0.07333221261144128, 0.30037121011188783, 0.1802227260671327, 0.1802227260671327, 0.12014848404475513, 0.060074242022377565, 0.060074242022377565, 0.060074242022377565, 0.2719439052549726, 0.18129593683664838, 0.2719439052549726, 0.09064796841832419, 0.09064796841832419, 0.09064796841832419, 0.40441896996531546, 0.14706144362375106, 0.14706144362375106, 0.14706144362375106, 0.036765360905937766, 0.036765360905937766, 0.036765360905937766, 0.036765360905937766, 0.39988033973076204, 0.1599521358923048, 0.1599521358923048, 0.0799760679461524, 0.05331737863076827, 0.05331737863076827, 0.026658689315384135, 0.026658689315384135, 0.2921778407383738, 0.1460889203691869, 0.2921778407383738, 0.1460889203691869, 0.2856296919167943, 0.1904197946111962, 0.1904197946111962, 0.0952098973055981, 0.0952098973055981, 0.3434608600093334, 0.22897390667288892, 0.17990806952869845, 0.09813167428838097, 0.03271055809612699, 0.03271055809612699, 0.03271055809612699, 0.03271055809612699, 0.016355279048063495, 0.33665343989757973, 0.25249007992318484, 0.16832671994878987, 0.08416335997439493, 0.08416335997439493, 0.29011621638302, 0.14505810819151, 0.14505810819151, 0.14505810819151, 0.38137173480961845, 0.17335078854982655, 0.13868063083986124, 0.10401047312989593, 0.06934031541993062, 0.03467015770996531, 0.03467015770996531, 0.03467015770996531, 0.3874481133791284, 0.1937240566895642, 0.1937240566895642, 0.1937240566895642, 0.3660658042987413, 0.18303290214937065, 0.1220219347662471, 0.06101096738312355, 0.06101096738312355, 0.06101096738312355, 0.06101096738312355, 0.4021671351811545, 0.12065014055434634, 0.1608668540724618, 0.12065014055434634, 0.04021671351811545, 0.04021671351811545, 0.04021671351811545, 0.04021671351811545, 0.36144220488408735, 0.13554082683153276, 0.20331124024729913, 0.13554082683153276, 0.04518027561051092, 0.04518027561051092, 0.02259013780525546, 0.02259013780525546, 0.02259013780525546, 0.3035060043698267, 0.23606022562097634, 0.16861444687212596, 0.10116866812327557, 0.06744577874885038, 0.03372288937442519, 0.03372288937442519, 0.03372288937442519, 0.3927791260689483, 0.19638956303447416, 0.19638956303447416, 0.19638956303447416, 0.2536113885204459, 0.2028891108163567, 0.2028891108163567, 0.15216683311226753, 0.05072227770408917, 0.05072227770408917, 0.05072227770408917, 0.05072227770408917, 0.4019146212370964, 0.2009573106185482, 0.2009573106185482, 0.2009573106185482, 0.30925117572972877, 0.15462558786486438, 0.15462558786486438, 0.15462558786486438, 0.41947533212406063, 0.15536123412002245, 0.1708973575320247, 0.10875286388401573, 0.04660837023600674, 0.03107224682400449, 0.03107224682400449, 0.015536123412002245, 0.015536123412002245, 0.2813152315782291, 0.14065761578911454, 0.14065761578911454, 0.14065761578911454, 0.4208809588479338, 0.1618772918645899, 0.1618772918645899, 0.1618772918645899, 0.032375458372917984, 0.032375458372917984, 0.032375458372917984, 0.33662773262314616, 0.22441848841543077, 0.14026155525964423, 0.14026155525964423, 0.05610462210385769, 0.028052311051928847, 0.028052311051928847, 0.028052311051928847, 0.028052311051928847, 0.34721192390732775, 0.17360596195366387, 0.17360596195366387, 0.12400425853833134, 0.049601703415332536, 0.049601703415332536, 0.024800851707666268, 0.024800851707666268, 0.024800851707666268, 0.3959117599200139, 0.19795587996000694, 0.09897793998000347, 0.09897793998000347, 0.09897793998000347, 0.09897793998000347, 0.30040558066175926, 0.15020279033087963, 0.15020279033087963, 0.15020279033087963, 0.36485868036339614, 0.16418640616352825, 0.16418640616352825, 0.14594347214535844, 0.05472880205450942, 0.05472880205450942, 0.018242934018169805, 0.018242934018169805, 0.018242934018169805, 0.449290170340207, 0.128368620097202, 0.128368620097202, 0.128368620097202, 0.064184310048601, 0.064184310048601, 0.439801026917328, 0.14660034230577598, 0.14660034230577598, 0.14660034230577598, 0.29883780485273476, 0.14941890242636738, 0.14941890242636738, 0.14941890242636738, 0.507588035268001, 0.1522764105804003, 0.1522764105804003, 0.1015176070536002, 0.0507588035268001, 0.0507588035268001, 0.38621905914306465, 0.22069660522460838, 0.13793537826538024, 0.08276122695922813, 0.055174151306152094, 0.027587075653076047, 0.027587075653076047, 0.027587075653076047, 0.027587075653076047, 0.4391473277603413, 0.17077951635124386, 0.14638244258678046, 0.09758829505785363, 0.048794147528926815, 0.024397073764463408, 0.024397073764463408, 0.024397073764463408, 0.024397073764463408, 0.33775874268425715, 0.16887937134212858, 0.16887937134212858, 0.08443968567106429, 0.08443968567106429, 0.353465228740655, 0.1767326143703275, 0.1767326143703275, 0.141386091496262, 0.070693045748131, 0.0353465228740655, 0.0353465228740655, 0.0353465228740655, 0.3611208901937427, 0.24074726012916184, 0.12037363006458092, 0.12037363006458092, 0.12037363006458092, 0.37050575928149215, 0.22800354417322594, 0.17100265812991944, 0.08550132906495972, 0.057000886043306484, 0.057000886043306484, 0.028500443021653242, 0.028500443021653242, 0.028500443021653242, 0.4724834748629884, 0.16434207821321337, 0.12325655865991003, 0.12325655865991003, 0.04108551955330334, 0.04108551955330334, 0.02054275977665167, 0.02054275977665167, 0.3640256266207564, 0.22246010515712888, 0.14156552146362747, 0.12134187554025212, 0.06067093777012606, 0.020223645923375354, 0.020223645923375354, 0.020223645923375354, 0.020223645923375354, 0.3314755447740262, 0.1657377723870131, 0.1657377723870131, 0.1657377723870131, 0.3816230029699999, 0.12720766765666663, 0.12720766765666663, 0.12720766765666663, 0.41133968848843905, 0.14957806854125055, 0.1869725856765632, 0.11218355140593791, 0.03739451713531264, 0.03739451713531264, 0.03739451713531264, 0.03739451713531264, 0.03739451713531264, 0.3617822425518277, 0.24118816170121848, 0.24118816170121848, 0.12059408085060924, 0.45171369680925116, 0.17208140830828617, 0.1505712322697504, 0.08604070415414308, 0.04302035207707154, 0.02151017603853577, 0.02151017603853577, 0.02151017603853577, 0.39811748770900657, 0.23887049262540394, 0.1327058292363355, 0.10616466338906841, 0.053082331694534204, 0.053082331694534204, 0.026541165847267102, 0.026541165847267102, 0.4044348447811514, 0.1572802174148922, 0.17974881990273395, 0.11234301243920872, 0.04493720497568349, 0.04493720497568349, 0.04493720497568349, 0.022468602487841743, 0.2655626348733866, 0.1327813174366933, 0.1327813174366933, 0.1327813174366933, 0.1327813174366933, 0.3510888530176731, 0.24306151362761982, 0.13503417423756658, 0.13503417423756658, 0.05401366969502663, 0.027006834847513313, 0.027006834847513313, 0.027006834847513313, 0.45346062635360096, 0.12367107991461844, 0.16489477321949125, 0.14428292656705485, 0.04122369330487281, 0.04122369330487281, 0.020611846652436407, 0.020611846652436407, 0.020611846652436407, 0.347593291127523, 0.2085559746765138, 0.1737966455637615, 0.1042779873382569, 0.0695186582255046, 0.0695186582255046, 0.0347593291127523, 0.0347593291127523, 0.34887679594530147, 0.15858036179331883, 0.22201250651064638, 0.0951482170759913, 0.03171607235866377, 0.03171607235866377, 0.03171607235866377, 0.03171607235866377, 0.03171607235866377, 0.4338932626584939, 0.1835702265093628, 0.16688202409942074, 0.10012921445965244, 0.05006460722982622, 0.016688202409942073, 0.016688202409942073, 0.016688202409942073, 0.016688202409942073, 0.3757734586132933, 0.18788672930664665, 0.18788672930664665, 0.09394336465332333, 0.06262890976888222, 0.03131445488444111, 0.03131445488444111, 0.03131445488444111, 0.03131445488444111, 0.3380082875920826, 0.1931475929097615, 0.1690041437960413, 0.1690041437960413, 0.048286898227440374, 0.024143449113720187, 0.024143449113720187, 0.024143449113720187, 0.024143449113720187, 0.34668087129706243, 0.2311205808647083, 0.11556029043235415, 0.11556029043235415, 0.3265012986304182, 0.2938511687673764, 0.1632506493152091, 0.06530025972608365, 0.032650129863041825, 0.032650129863041825, 0.032650129863041825, 0.032650129863041825, 0.385826580570798, 0.192913290285399, 0.13779520734671358, 0.13779520734671358, 0.05511808293868543, 0.05511808293868543, 0.027559041469342713, 0.027559041469342713, 0.027559041469342713, 0.2920730347297508, 0.26286573125677576, 0.1460365173648754, 0.08762191041892525, 0.058414606945950166, 0.058414606945950166, 0.029207303472975083, 0.029207303472975083, 0.029207303472975083, 0.40162542286372654, 0.1853655797832584, 0.15447131648604867, 0.0926827898916292, 0.061788526594419475, 0.030894263297209738, 0.030894263297209738, 0.030894263297209738, 0.32629652673461895, 0.2175310178230793, 0.2175310178230793, 0.2175310178230793, 0.32897807497658393, 0.16448903748829197, 0.24673355623243795, 0.12336677811621898, 0.04112225937207299, 0.04112225937207299, 0.04112225937207299, 0.04112225937207299, 0.3387586046979412, 0.1693793023489706, 0.1693793023489706, 0.1693793023489706, 0.4961777460659897, 0.1804282712967235, 0.13532120347254264, 0.09021413564836175, 0.04510706782418088, 0.04510706782418088, 0.04510706782418088, 0.36819550278636903, 0.245463668524246, 0.122731834262123, 0.122731834262123, 0.122731834262123, 0.4582883836672699, 0.18331535346690797, 0.18331535346690797, 0.09165767673345399, 0.30235145633203714, 0.15117572816601857, 0.30235145633203714, 0.15117572816601857, 0.40687108959787655, 0.14360156103454466, 0.1675351545403021, 0.11966796752878722, 0.07180078051727233, 0.023933593505757442, 0.023933593505757442, 0.023933593505757442, 0.023933593505757442, 0.40127641404673353, 0.16051056561869342, 0.16051056561869342, 0.16051056561869342, 0.08025528280934671, 0.41001735225042873, 0.1366724507501429, 0.1366724507501429, 0.1366724507501429, 0.3727028040711747, 0.1397635515266905, 0.20188068553855296, 0.12423426802372489, 0.046587850508896834, 0.046587850508896834, 0.031058567005931223, 0.031058567005931223, 0.015529283502965611, 0.33966461751231714, 0.16983230875615857, 0.22644307834154476, 0.11322153917077238, 0.05661076958538619, 0.028305384792693095, 0.028305384792693095, 0.028305384792693095, 0.028305384792693095, 0.3625866925432628, 0.24172446169550857, 0.16114964113033903, 0.10071852570646189, 0.04028741028258476, 0.04028741028258476, 0.02014370514129238, 0.02014370514129238, 0.02014370514129238, 0.3439525904123387, 0.17197629520616936, 0.17197629520616936, 0.17197629520616936, 0.4023830502147196, 0.13412768340490655, 0.13412768340490655, 0.13412768340490655, 0.13412768340490655, 0.3683758025119959, 0.18418790125599796, 0.15348991771333165, 0.06139596708533265, 0.06139596708533265, 0.030697983542666327, 0.06139596708533265, 0.030697983542666327, 0.45722607867250903, 0.13447825843309089, 0.10758260674647271, 0.13447825843309089, 0.05379130337323636, 0.02689565168661818, 0.02689565168661818, 0.02689565168661818, 0.02689565168661818, 0.3852813874781039, 0.16512059463347312, 0.16512059463347312, 0.12842712915936796, 0.0550401982111577, 0.03669346547410514, 0.01834673273705257, 0.01834673273705257, 0.01834673273705257, 0.35760819972067914, 0.19505901802946135, 0.1625491816912178, 0.09752950901473068, 0.06501967267648712, 0.03250983633824356, 0.03250983633824356, 0.03250983633824356, 0.3706607094743649, 0.17650509974969758, 0.19415560972466733, 0.12355356982478831, 0.03530101994993952, 0.03530101994993952, 0.03530101994993952, 0.03530101994993952, 0.01765050997496976, 0.32205290811152315, 0.24153968108364235, 0.13418871171313465, 0.10735096937050771, 0.08051322702788079, 0.053675484685253856, 0.026837742342626928, 0.026837742342626928, 0.026837742342626928, 0.35366948798748765, 0.2448481070682607, 0.16323207137884047, 0.10882138091922698, 0.05441069045961349, 0.027205345229806745, 0.027205345229806745, 0.027205345229806745, 0.2856598035938089, 0.2856598035938089, 0.14282990179690444, 0.14282990179690444, 0.369368056492153, 0.15830059563949414, 0.15830059563949414, 0.10553373042632942, 0.05276686521316471, 0.05276686521316471, 0.05276686521316471, 0.05276686521316471, 0.35473310285132786, 0.15202847265056907, 0.15202847265056907, 0.15202847265056907, 0.05067615755018969, 0.05067615755018969, 0.05067615755018969, 0.05067615755018969, 0.30297252239764183, 0.2019816815984279, 0.2019816815984279, 0.10099084079921394, 0.05049542039960697, 0.05049542039960697, 0.05049542039960697, 0.05049542039960697, 0.4036386520001, 0.20181932600005, 0.20181932600005, 0.20181932600005, 0.4067246002086755, 0.20336230010433776, 0.20336230010433776, 0.20336230010433776, 0.3648844731007553, 0.1931741328180469, 0.17171034028270837, 0.12878275521203128, 0.04292758507067709, 0.04292758507067709, 0.04292758507067709, 0.021463792535338547, 0.021463792535338547, 0.4365800148349261, 0.145526671611642, 0.145526671611642, 0.09701778107442802, 0.09701778107442802, 0.04850889053721401, 0.04850889053721401, 0.04850889053721401, 0.47982547857583935, 0.1439476435727518, 0.1439476435727518, 0.09596509571516787, 0.047982547857583935, 0.047982547857583935, 0.047982547857583935, 0.2994869209733623, 0.23958953677868985, 0.17969215258401738, 0.17969215258401738, 0.059897384194672464, 0.059897384194672464, 0.059897384194672464, 0.47175904099944094, 0.1572530136664803, 0.12580241093318426, 0.0943518081998882, 0.06290120546659213, 0.031450602733296064, 0.031450602733296064, 0.031450602733296064, 0.4114272705808026, 0.16457090823232104, 0.16457090823232104, 0.08228545411616052, 0.08228545411616052, 0.08228545411616052, 0.3429756792695342, 0.14698957682980038, 0.19598610243973383, 0.09799305121986691, 0.04899652560993346, 0.04899652560993346, 0.04899652560993346, 0.3712574590165193, 0.18562872950825965, 0.18562872950825965, 0.11137723770495578, 0.03712574590165193, 0.03712574590165193, 0.03712574590165193, 0.03712574590165193, 0.45571469886759725, 0.17243258876071246, 0.1477993617948964, 0.08621629438035623, 0.0369498404487241, 0.0369498404487241, 0.024633226965816067, 0.024633226965816067, 0.012316613482908034, 0.4180627783729603, 0.18580567927687122, 0.13935425945765342, 0.11612854954804452, 0.046451419819217805, 0.046451419819217805, 0.023225709909608903, 0.023225709909608903, 0.023225709909608903, 0.45791074619160244, 0.18316429847664098, 0.09158214923832049, 0.09158214923832049, 0.045791074619160245, 0.045791074619160245, 0.33188128921413934, 0.227076671567569, 0.15720692646985546, 0.10480461764657031, 0.05240230882328516, 0.05240230882328516, 0.03493487254885677, 0.03493487254885677, 0.017467436274428386, 0.3954659395875045, 0.19773296979375224, 0.19773296979375224, 0.19773296979375224, 0.3496634272765125, 0.17483171363825625, 0.17483171363825625, 0.17483171363825625, 0.42207635692471795, 0.15827863384676924, 0.15827863384676924, 0.10551908923117949, 0.026379772307794872, 0.026379772307794872, 0.026379772307794872, 0.026379772307794872, 0.026379772307794872, 0.3513123638574809, 0.2810498910859847, 0.14052494554299236, 0.14052494554299236, 0.07026247277149618, 0.07026247277149618, 0.3927122446979244, 0.1963561223489622, 0.0981780611744811, 0.0981780611744811, 0.0981780611744811, 0.3508058535633113, 0.22324008863119807, 0.19134864739816979, 0.09567432369908489, 0.0318914412330283, 0.0637828824660566, 0.0318914412330283, 0.0318914412330283, 0.3572220082021391, 0.11907400273404638, 0.11907400273404638, 0.11907400273404638, 0.11907400273404638, 0.32021354379662237, 0.26684461983051866, 0.16010677189831118, 0.10673784793220746, 0.05336892396610373, 0.05336892396610373, 0.42161764634363735, 0.10540441158590934, 0.17567401930984888, 0.10540441158590934, 0.07026960772393956, 0.03513480386196978, 0.03513480386196978, 0.03513480386196978, 0.35165538034182475, 0.17582769017091238, 0.17582769017091238, 0.17582769017091238, 0.058609230056970794, 0.058609230056970794, 0.058609230056970794, 0.3838727699548989, 0.19193638497744944, 0.19193638497744944, 0.19193638497744944, 0.09596819248872472, 0.30871758969611457, 0.2701278909841003, 0.11576909613604297, 0.11576909613604297, 0.07717939742402864, 0.03858969871201432, 0.03858969871201432, 0.03858969871201432, 0.4196019408248763, 0.10490048520621907, 0.10490048520621907, 0.20980097041243814, 0.10490048520621907, 0.3857007828343012, 0.12856692761143373, 0.25713385522286747, 0.12856692761143373, 0.39692665701179114, 0.14884749637942168, 0.17365541244265864, 0.09923166425294778, 0.04961583212647389, 0.024807916063236946, 0.024807916063236946, 0.024807916063236946, 0.024807916063236946, 0.42097605740414884, 0.1403253524680496, 0.21048802870207442, 0.0701626762340248, 0.0350813381170124, 0.0350813381170124, 0.0350813381170124, 0.0350813381170124, 0.0350813381170124, 0.3653974007458446, 0.20879851471191122, 0.1565988860339334, 0.10439925735595561, 0.052199628677977804, 0.052199628677977804, 0.4268563642382944, 0.18558972358186712, 0.129912806507307, 0.11135383414912027, 0.037117944716373426, 0.037117944716373426, 0.037117944716373426, 0.018558972358186713, 0.018558972358186713, 0.3290155502325072, 0.19740933013950435, 0.19740933013950435, 0.1316062200930029, 0.06580311004650145, 0.06580311004650145, 0.06580311004650145, 0.35116671969368196, 0.2809333757549456, 0.1404666878774728, 0.0702333439387364, 0.0702333439387364, 0.0702333439387364, 0.0702333439387364, 0.40704176758061794, 0.20352088379030897, 0.10176044189515449, 0.10176044189515449, 0.26533376609460774, 0.26533376609460774, 0.1990003245709558, 0.13266688304730387, 0.06633344152365193, 0.06633344152365193, 0.2812383598932388, 0.2812383598932388, 0.1406191799466194, 0.1406191799466194, 0.4523265528511862, 0.16962245731919484, 0.1470061296766355, 0.1017734743915169, 0.04523265528511862, 0.02261632764255931, 0.02261632764255931, 0.02261632764255931, 0.011308163821279655, 0.4018953140717916, 0.15629262213903006, 0.1339651046905972, 0.15629262213903006, 0.04465503489686573, 0.04465503489686573, 0.022327517448432865, 0.022327517448432865, 0.022327517448432865, 0.3087405662927267, 0.25728380524393896, 0.20582704419515116, 0.10291352209757558, 0.05145676104878779, 0.05145676104878779, 0.05145676104878779, 0.30964526795840974, 0.20643017863893984, 0.20643017863893984, 0.10321508931946992, 0.10321508931946992, 0.5020379387226355, 0.14765821727136338, 0.08859493036281803, 0.11812657381709071, 0.02953164345427268, 0.02953164345427268, 0.02953164345427268, 0.02953164345427268, 0.43825325105656704, 0.1460844170188557, 0.17854762080082362, 0.09738961134590379, 0.048694805672951896, 0.03246320378196793, 0.016231601890983965, 0.016231601890983965, 0.016231601890983965, 0.48983086889151617, 0.14694926066745484, 0.09796617377830323, 0.14694926066745484, 0.048983086889151616, 0.024491543444575808, 0.024491543444575808, 0.024491543444575808, 0.024491543444575808, 0.3214612496140412, 0.1607306248070206, 0.1607306248070206, 0.1607306248070206, 0.0803653124035103, 0.0803653124035103, 0.3448442067021166, 0.1724221033510583, 0.21552762918882287, 0.12931657751329373, 0.03232914437832343, 0.021552762918882286, 0.03232914437832343, 0.021552762918882286, 0.010776381459441143, 0.3036495146229266, 0.2168925104449476, 0.17351400835595807, 0.13013550626696854, 0.043378502088989516, 0.043378502088989516, 0.043378502088989516, 0.043378502088989516, 0.2811484568143634, 0.2811484568143634, 0.1405742284071817, 0.1405742284071817, 0.4070128403894786, 0.1744340744526337, 0.11628938296842246, 0.11628938296842246, 0.05814469148421123, 0.029072345742105616, 0.029072345742105616, 0.029072345742105616, 0.029072345742105616, 0.42338955893689095, 0.16522519373146963, 0.14457204451503594, 0.13424546990681907, 0.04130629843286741, 0.030979723824650557, 0.030979723824650557, 0.020653149216433703, 0.010326574608216852, 0.30978132613877585, 0.2323359946040819, 0.15489066306938792, 0.07744533153469396, 0.07744533153469396, 0.07744533153469396, 0.4479869478268993, 0.16426188086986307, 0.14932898260896643, 0.08959738956537987, 0.05973159304358657, 0.029865796521793286, 0.014932898260896643, 0.029865796521793286, 0.014932898260896643, 0.3232300680000884, 0.1616150340000442, 0.26935839000007367, 0.10774335600002946, 0.05387167800001473, 0.05387167800001473, 0.05387167800001473, 0.3754880330353977, 0.1251626776784659, 0.1251626776784659, 0.1251626776784659, 0.3482573614153238, 0.20895441684919427, 0.13930294456612952, 0.13930294456612952, 0.06965147228306476, 0.06965147228306476, 0.06965147228306476, 0.06965147228306476, 0.3319239195963244, 0.1659619597981622, 0.1659619597981622, 0.0829809798990811, 0.0829809798990811, 0.0829809798990811, 0.28039720316329125, 0.21029790237246845, 0.21029790237246845, 0.14019860158164563, 0.07009930079082281, 0.07009930079082281, 0.07009930079082281, 0.3610362793743657, 0.1203454264581219, 0.1203454264581219, 0.1203454264581219, 0.4010409834151679, 0.13368032780505598, 0.17824043707340798, 0.08912021853670399, 0.044560109268351994, 0.044560109268351994, 0.044560109268351994, 0.044560109268351994, 0.3405889035363145, 0.17029445176815725, 0.17029445176815725, 0.17029445176815725, 0.3457326961206898, 0.1728663480603449, 0.1728663480603449, 0.11524423204022992, 0.05762211602011496, 0.05762211602011496, 0.05762211602011496, 0.3133317449960373, 0.17904671142630701, 0.17904671142630701, 0.13428503356973026, 0.044761677856576754, 0.044761677856576754, 0.044761677856576754, 0.044761677856576754, 0.28584203541180814, 0.24500745892440698, 0.16333830594960466, 0.12250372946220349, 0.040834576487401165, 0.040834576487401165, 0.040834576487401165, 0.040834576487401165, 0.34093751950016277, 0.15735577823084435, 0.23603366734626652, 0.1311298151923703, 0.05245192607694812, 0.02622596303847406, 0.02622596303847406, 0.02622596303847406, 0.02622596303847406, 0.4447040659227092, 0.17788162636908367, 0.14230530109526696, 0.1067289758214502, 0.0533644879107251, 0.01778816263690837, 0.01778816263690837, 0.03557632527381674, 0.01778816263690837, 0.34477486703133703, 0.11492495567711233, 0.22984991135422467, 0.11492495567711233, 0.05746247783855617, 0.05746247783855617, 0.05746247783855617, 0.05746247783855617, 0.355984892592521, 0.1779924462962605, 0.26698866944439076, 0.08899622314813024, 0.08899622314813024, 0.33199005982587027, 0.17575944343722544, 0.13670178934006424, 0.15623061638864483, 0.05858648114574182, 0.05858648114574182, 0.019528827048580603, 0.03905765409716121, 0.019528827048580603, 0.37452840006280685, 0.16645706669458082, 0.12484280002093562, 0.12484280002093562, 0.041614266673645206, 0.08322853334729041, 0.041614266673645206, 0.041614266673645206, 0.3155598433564958, 0.21037322890433052, 0.10518661445216526, 0.10518661445216526, 0.3395997627804391, 0.16979988139021954, 0.16979988139021954, 0.16979988139021954, 0.40371053207960206, 0.16623374850336556, 0.15831785571749102, 0.11082249900224371, 0.055411249501121855, 0.039579463929372755, 0.02374767835762365, 0.02374767835762365, 0.0158317855717491, 0.36984801071692636, 0.2141225325203258, 0.15572547819660057, 0.11679410864745043, 0.05839705432372522, 0.01946568477457507, 0.01946568477457507, 0.01946568477457507, 0.01946568477457507, 0.4698085662330061, 0.17083947863018403, 0.12812960897263803, 0.08541973931509202, 0.028473246438364005, 0.028473246438364005, 0.028473246438364005, 0.028473246438364005, 0.014236623219182003, 0.3538343571030477, 0.1572597142680212, 0.21623210711852914, 0.09828732141751326, 0.05897239285050795, 0.0393149285670053, 0.0393149285670053, 0.01965746428350265, 0.01965746428350265, 0.4940479978010812, 0.17644571350038615, 0.10586742810023168, 0.10586742810023168, 0.03528914270007723, 0.03528914270007723, 0.03528914270007723, 0.3238799152291723, 0.12955196609166894, 0.1943279491375034, 0.12955196609166894, 0.06477598304583447, 0.06477598304583447, 0.06477598304583447, 0.35960049757866897, 0.16781356553671217, 0.1917869320419568, 0.14384019903146758, 0.0479467330104892, 0.0239733665052446, 0.0239733665052446, 0.0239733665052446, 0.0239733665052446, 0.39230928902610757, 0.16813255243976039, 0.16813255243976039, 0.11208836829317358, 0.05604418414658679, 0.05604418414658679, 0.33678856819673014, 0.1894435696106607, 0.16839428409836507, 0.1262957130737738, 0.0631478565368869, 0.04209857102459127, 0.021049285512295634, 0.021049285512295634, 0.021049285512295634, 0.48992565273134125, 0.14697769581940237, 0.14697769581940237, 0.09798513054626826, 0.04899256527313413, 0.04899256527313413, 0.04899256527313413, 0.36695905321917904, 0.1427062984741252, 0.16309291254185737, 0.18347952660958952, 0.04077322813546434, 0.04077322813546434, 0.04077322813546434, 0.02038661406773217, 0.02038661406773217, 0.3140889694569553, 0.1884533816741732, 0.21986227861986873, 0.0942266908370866, 0.031408896945695534, 0.031408896945695534, 0.031408896945695534, 0.031408896945695534, 0.35025583325435716, 0.16345272218536666, 0.14010233330174285, 0.14010233330174285, 0.07005116665087142, 0.04670077776724762, 0.02335038888362381, 0.02335038888362381, 0.02335038888362381, 0.3965769470826366, 0.1699615487497014, 0.1699615487497014, 0.1133076991664676, 0.0566538495832338, 0.0566538495832338, 0.3701282531490658, 0.1727265181362307, 0.22207695188943946, 0.09870086750641754, 0.04935043375320877, 0.04935043375320877, 0.024675216876604386, 0.024675216876604386, 0.40932849164045404, 0.1705535381835225, 0.1705535381835225, 0.10233212291011351, 0.034110707636704506, 0.034110707636704506, 0.034110707636704506, 0.034110707636704506, 0.017055353818352253, 0.35415170352864905, 0.23610113568576602, 0.11805056784288301, 0.11805056784288301, 0.3942053586352858, 0.23652321518117145, 0.1576821434541143, 0.1576821434541143, 0.07884107172705715, 0.3048225697346483, 0.3048225697346483, 0.10160752324488274, 0.10160752324488274, 0.10160752324488274, 0.4003377935700975, 0.1539760744500375, 0.18477128934004503, 0.09238564467002251, 0.061590429780015006, 0.030795214890007503, 0.030795214890007503, 0.030795214890007503, 0.31034952761479023, 0.15517476380739512, 0.20689968507652684, 0.15517476380739512, 0.05172492126913171, 0.05172492126913171, 0.025862460634565855, 0.025862460634565855, 0.025862460634565855, 0.3662421044935422, 0.16647368386070102, 0.16647368386070102, 0.13317894708856082, 0.06658947354428041, 0.033294736772140204, 0.033294736772140204, 0.033294736772140204, 0.38353057528011275, 0.1534122301120451, 0.1534122301120451, 0.1534122301120451, 0.07670611505602255, 0.345550869911755, 0.19745763994957427, 0.14809322996218072, 0.14809322996218072, 0.04936440998739357, 0.04936440998739357, 0.04936440998739357, 0.45353900179661405, 0.16197821492736214, 0.16197821492736214, 0.0971869289564173, 0.03239564298547243, 0.03239564298547243, 0.03239564298547243, 0.016197821492736214, 0.016197821492736214, 0.37980957558324985, 0.15192383023329994, 0.15192383023329994, 0.07596191511664997, 0.07596191511664997, 0.07596191511664997, 0.46905305995127905, 0.14556819101936247, 0.12939394757276665, 0.12939394757276665, 0.03234848689319166, 0.04852273033978749, 0.01617424344659583, 0.03234848689319166, 0.01617424344659583, 0.38613960875476855, 0.23597420535013633, 0.1287132029182562, 0.10726100243188015, 0.04290440097275206, 0.02145220048637603, 0.02145220048637603, 0.02145220048637603, 0.02145220048637603, 0.33891583434827266, 0.16945791717413633, 0.16945791717413633, 0.12709343788060226, 0.04236447929353408, 0.04236447929353408, 0.04236447929353408, 0.04236447929353408, 0.33696677286286636, 0.20736416791561008, 0.20736416791561008, 0.10368208395780504, 0.05184104197890252, 0.05184104197890252, 0.02592052098945126, 0.02592052098945126, 0.02592052098945126, 0.29156148206929544, 0.29156148206929544, 0.14578074103464772, 0.07289037051732386, 0.07289037051732386, 0.34551824169931217, 0.2512859939631361, 0.15705374622696008, 0.09423224773617606, 0.06282149849078403, 0.031410749245392014, 0.031410749245392014, 0.031410749245392014, 0.031410749245392014, 0.422760112688749, 0.13211253521523408, 0.15853504225828088, 0.13211253521523408, 0.05284501408609363, 0.026422507043046814, 0.026422507043046814, 0.026422507043046814, 0.026422507043046814, 0.5453310796225941, 0.10906621592451882, 0.10906621592451882, 0.10906621592451882, 0.36253058315826414, 0.19774395444996226, 0.16478662870830188, 0.09887197722498113, 0.06591465148332075, 0.06591465148332075, 0.032957325741660375, 0.032957325741660375, 0.3443670321569239, 0.17218351607846194, 0.22957802143794925, 0.11478901071897463, 0.028697252679743657, 0.028697252679743657, 0.028697252679743657, 0.028697252679743657, 0.028697252679743657, 0.4038307979228965, 0.16153231916915858, 0.18172385906530342, 0.10095769948072413, 0.06057461968843447, 0.040383079792289646, 0.020191539896144823, 0.020191539896144823, 0.020191539896144823, 0.3329587336378857, 0.19422592795543334, 0.2219724890919238, 0.1109862445459619, 0.05549312227298095, 0.05549312227298095, 0.027746561136490475, 0.027746561136490475, 0.3885834849001744, 0.1942917424500872, 0.1942917424500872, 0.1942917424500872, 0.36218277925428205, 0.18109138962714103, 0.13581854222035575, 0.13581854222035575, 0.09054569481357051, 0.045272847406785256, 0.045272847406785256, 0.045272847406785256, 0.3813538069584028, 0.17334263952654674, 0.13867411162123738, 0.10400558371592804, 0.06933705581061869, 0.034668527905309346, 0.034668527905309346, 0.034668527905309346, 0.3045486363211056, 0.2724908851294103, 0.16028875595847664, 0.11220212917093364, 0.04808662678754299, 0.03205775119169533, 0.03205775119169533, 0.016028875595847664, 0.016028875595847664, 0.2968116838861074, 0.259710223400344, 0.18550730242881713, 0.11130438145729027, 0.07420292097152685, 0.037101460485763425, 0.037101460485763425, 0.037101460485763425, 0.3887594237627454, 0.1295864745875818, 0.2591729491751636, 0.1295864745875818, 0.4727735897710156, 0.09455471795420312, 0.18910943590840623, 0.09455471795420312, 0.09455471795420312, 0.2729995175526637, 0.18199967836844247, 0.2729995175526637, 0.09099983918422123, 0.4689506324206087, 0.15631687747353623, 0.11723765810515217, 0.07815843873676812, 0.03907921936838406, 0.03907921936838406, 0.03907921936838406, 0.03907921936838406, 0.31553786549063, 0.19928707294145054, 0.1826798168629963, 0.11625079254917947, 0.06642902431381684, 0.03321451215690842, 0.03321451215690842, 0.03321451215690842, 0.01660725607845421, 0.3517512434924191, 0.17587562174620955, 0.17587562174620955, 0.08793781087310477, 0.08793781087310477, 0.4728437866284183, 0.1576145955428061, 0.10507639702853741, 0.10507639702853741, 0.052538198514268705, 0.052538198514268705, 0.3539474373236308, 0.1769737186618154, 0.1769737186618154, 0.1769737186618154, 0.3986672729862503, 0.19933363649312516, 0.19933363649312516, 0.19933363649312516, 0.35533729347978443, 0.13325148505491918, 0.22208580842486528, 0.08883432336994611, 0.08883432336994611, 0.044417161684973054, 0.044417161684973054, 0.044417161684973054, 0.33414629988391154, 0.16707314994195577, 0.16707314994195577, 0.16707314994195577, 0.4756971169958514, 0.12332888218410962, 0.15856570566528377, 0.10571047044352253, 0.03523682348117418, 0.05285523522176126, 0.01761841174058709, 0.01761841174058709, 0.01761841174058709, 0.3279761536208133, 0.21865076908054218, 0.16398807681040664, 0.13665673067533887, 0.054662692270135545, 0.027331346135067772, 0.027331346135067772, 0.027331346135067772, 0.32561530267436367, 0.21707686844957577, 0.21707686844957577, 0.10853843422478789, 0.37508719749595465, 0.18754359874797732, 0.15003487899838186, 0.1125261592487864, 0.07501743949919093, 0.037508719749595465, 0.037508719749595465, 0.037508719749595465, 0.2901088209869845, 0.19340588065798966, 0.2578745075439862, 0.09670294032899483, 0.06446862688599655, 0.03223431344299828, 0.03223431344299828, 0.03223431344299828, 0.03223431344299828, 0.3640811119581347, 0.18204055597906735, 0.20479562547645078, 0.1137753474869171, 0.04551013899476684, 0.02275506949738342, 0.02275506949738342, 0.02275506949738342, 0.02275506949738342, 0.48013445734483284, 0.19561033447382078, 0.12447930375606778, 0.08891378839719127, 0.05334827303831476, 0.017782757679438255, 0.017782757679438255, 0.017782757679438255, 0.017782757679438255, 0.3404633445212521, 0.17023167226062605, 0.21278959032578257, 0.10639479516289128, 0.06383687709773476, 0.021278959032578256, 0.021278959032578256, 0.021278959032578256, 0.021278959032578256, 0.4269946947847749, 0.1758213449113779, 0.1255866749366985, 0.1004693399493588, 0.0753520049620191, 0.0502346699746794, 0.0251173349873397, 0.0251173349873397, 0.0251173349873397, 0.37446876246202887, 0.12482292082067628, 0.12482292082067628, 0.12482292082067628, 0.12482292082067628, 0.2770559647208639, 0.13852798236043196, 0.2770559647208639, 0.13852798236043196, 0.34717795751663116, 0.17358897875831558, 0.17358897875831558, 0.08679448937915779, 0.08679448937915779, 0.46129756209465317, 0.16368623171100596, 0.1488056651918236, 0.08928339911509416, 0.02976113303836472, 0.02976113303836472, 0.02976113303836472, 0.02976113303836472, 0.01488056651918236, 0.2974172653236042, 0.24334139890113068, 0.1892655324786572, 0.10815173284494697, 0.05407586642247349, 0.05407586642247349, 0.027037933211236743, 0.027037933211236743, 0.33819302279708313, 0.19325315588404748, 0.16104429657003957, 0.16104429657003957, 0.04831328897101187, 0.032208859314007916, 0.016104429657003958, 0.016104429657003958, 0.016104429657003958, 0.4225718824625608, 0.17607161769273366, 0.17607161769273366, 0.1056429706156402, 0.07042864707709347, 0.035214323538546734, 0.035214323538546734, 0.3284846305973526, 0.1877055031984872, 0.14077912739886542, 0.14077912739886542, 0.0469263757996218, 0.0469263757996218, 0.0469263757996218, 0.0469263757996218, 0.3218030518238026, 0.17877947323544588, 0.17877947323544588, 0.14302357858835668, 0.03575589464708917, 0.03575589464708917, 0.03575589464708917, 0.03575589464708917, 0.3006112841838069, 0.15030564209190345, 0.15030564209190345, 0.15030564209190345, 0.35290979572635034, 0.2058640475070377, 0.17645489786317517, 0.08822744893158758, 0.05881829928772506, 0.05881829928772506, 0.02940914964386253, 0.02940914964386253, 0.02940914964386253, 0.5178950375071758, 0.12947375937679395, 0.12947375937679395, 0.12947375937679395, 0.41400052276388993, 0.1927243812866384, 0.14989674100071876, 0.09993116066714584, 0.04996558033357292, 0.0285517601906131, 0.0285517601906131, 0.021413820142959825, 0.01427588009530655, 0.3123472927512738, 0.20823152850084922, 0.20823152850084922, 0.10411576425042461, 0.052057882125212306, 0.052057882125212306, 0.052057882125212306, 0.3703957706239954, 0.21165472607085453, 0.1587410445531409, 0.10582736303542727, 0.05291368151771363, 0.05291368151771363, 0.2990936231071039, 0.19939574873806928, 0.19939574873806928, 0.09969787436903464, 0.09969787436903464, 0.3712945262770244, 0.12376484209234148, 0.12376484209234148, 0.12376484209234148, 0.33741735185231403, 0.19280991534417946, 0.1446074365081346, 0.1446074365081346, 0.048202478836044865, 0.048202478836044865, 0.048202478836044865, 0.048202478836044865, 0.4854096766183605, 0.1618032255394535, 0.1618032255394535, 0.1618032255394535, 0.40415358681176655, 0.13471786227058885, 0.13471786227058885, 0.13471786227058885, 0.46967717259423464, 0.12524724602512924, 0.12524724602512924, 0.12524724602512924, 0.06262362301256462, 0.03131181150628231, 0.03131181150628231, 0.03131181150628231, 0.3658068463463782, 0.20576635106983776, 0.13717756737989184, 0.13717756737989184, 0.06858878368994592, 0.02286292789664864, 0.02286292789664864, 0.02286292789664864, 0.41193421396032753, 0.1211571217530375, 0.1696199704542525, 0.1211571217530375, 0.048462848701215, 0.048462848701215, 0.0242314243506075, 0.0242314243506075, 0.0242314243506075, 0.4223051520346149, 0.16892206081384595, 0.12669154561038448, 0.12669154561038448, 0.04223051520346149, 0.04223051520346149, 0.04223051520346149, 0.04223051520346149, 0.442351817652183, 0.1769407270608732, 0.1179604847072488, 0.1179604847072488, 0.0589802423536244, 0.0294901211768122, 0.0294901211768122, 0.0294901211768122, 0.0294901211768122, 0.3810277001150557, 0.1428853875431459, 0.1428853875431459, 0.09525692502876393, 0.047628462514381964, 0.047628462514381964, 0.047628462514381964, 0.5378727779231727, 0.1536779365494779, 0.1536779365494779, 0.07683896827473895, 0.07683896827473895, 0.38359467583962553, 0.19179733791981277, 0.17261760412783148, 0.11507840275188766, 0.05753920137594383, 0.019179733791981277, 0.019179733791981277, 0.019179733791981277, 0.019179733791981277, 0.3626464493098248, 0.22665403081864052, 0.13599241849118432, 0.0906616123274562, 0.0453308061637281, 0.0453308061637281, 0.0453308061637281, 0.0453308061637281, 0.4863883599269752, 0.16212945330899173, 0.1297035626471934, 0.09727767198539504, 0.03242589066179835, 0.03242589066179835, 0.03242589066179835, 0.03242589066179835, 0.37543588488639273, 0.23464742805399547, 0.14078845683239727, 0.09385897122159818, 0.04692948561079909, 0.04692948561079909, 0.04692948561079909, 0.04692948561079909, 0.3605146790243544, 0.1802573395121772, 0.1201715596747848, 0.1802573395121772, 0.0600857798373924, 0.0600857798373924, 0.34470252887058683, 0.18560905400723907, 0.15909347486334777, 0.13257789571945647, 0.05303115828778259, 0.026515579143891296, 0.026515579143891296, 0.026515579143891296, 0.026515579143891296, 0.35655562173246924, 0.203746069561411, 0.15280955217105827, 0.1018730347807055, 0.05093651739035275, 0.05093651739035275, 0.05093651739035275, 0.05093651739035275, 0.3956845239677762, 0.18742951135315714, 0.12495300756877144, 0.10412750630730953, 0.06247650378438572, 0.04165100252292381, 0.020825501261461904, 0.020825501261461904, 0.020825501261461904, 0.38941835931376384, 0.23365101558825832, 0.1298061197712546, 0.1038448958170037, 0.05192244790850185, 0.025961223954250923, 0.025961223954250923, 0.025961223954250923, 0.025961223954250923, 0.4581563011211045, 0.1799899754404339, 0.16362725040039447, 0.06545090016015778, 0.03272545008007889, 0.03272545008007889, 0.016362725040039446, 0.016362725040039446, 0.016362725040039446, 0.28188942899743796, 0.18792628599829198, 0.18792628599829198, 0.18792628599829198, 0.09396314299914599, 0.09396314299914599, 0.2660384515169257, 0.17735896767795045, 0.17735896767795045, 0.17735896767795045, 0.08867948383897523, 0.4488445498538357, 0.14961484995127858, 0.14961484995127858, 0.12824129995823877, 0.04274709998607959, 0.021373549993039795, 0.021373549993039795, 0.021373549993039795, 0.3618322499033753, 0.19297719994846685, 0.1688550499549085, 0.14473289996135014, 0.04824429998711671, 0.024122149993558356, 0.024122149993558356, 0.024122149993558356, 0.024122149993558356, 0.3705804888624011, 0.1389676833234004, 0.18529024443120054, 0.1389676833234004, 0.046322561107800135, 0.046322561107800135, 0.046322561107800135, 0.4016439835623613, 0.1506164938358855, 0.1506164938358855, 0.10041099589059033, 0.05020549794529516, 0.05020549794529516, 0.05020549794529516, 0.3139916386176371, 0.20932775907842474, 0.20932775907842474, 0.10466387953921237, 0.40583166433061457, 0.20291583216530729, 0.1420410825157151, 0.10145791608265364, 0.060874749649592184, 0.04058316643306145, 0.020291583216530726, 0.020291583216530726, 0.020291583216530726, 0.36118415160842426, 0.16417461436746558, 0.2298444601144518, 0.09850476862047935, 0.06566984574698623, 0.032834922873493114, 0.032834922873493114, 0.032834922873493114, 0.36145272345701907, 0.19135732418312776, 0.1488334743646549, 0.12757154945541851, 0.042523849818472834, 0.042523849818472834, 0.021261924909236417, 0.021261924909236417, 0.021261924909236417, 0.44670886866598475, 0.11167721716649619, 0.22335443433299237, 0.11167721716649619, 0.3354332851282205, 0.20125997107693233, 0.1341733140512882, 0.1341733140512882, 0.0670866570256441, 0.0670866570256441, 0.5319863159435014, 0.10639726318870028, 0.10639726318870028, 0.10639726318870028, 0.35765746846540314, 0.17882873423270157, 0.17882873423270157, 0.10729724053962095, 0.03576574684654031, 0.03576574684654031, 0.03576574684654031, 0.03576574684654031, 0.380167817745946, 0.2534452118306307, 0.12672260591531534, 0.0950419544364865, 0.031680651478828835, 0.031680651478828835, 0.031680651478828835, 0.031680651478828835, 0.38357593268583884, 0.12785864422861293, 0.12785864422861293, 0.12785864422861293, 0.12785864422861293, 0.3661464825752024, 0.24409765505013495, 0.12204882752506747, 0.12204882752506747, 0.37947250636923024, 0.14595096398816548, 0.23352154238106476, 0.11676077119053238, 0.05838038559526619, 0.029190192797633095, 0.029190192797633095, 0.029190192797633095, 0.029190192797633095, 0.28977559819892884, 0.28977559819892884, 0.14488779909946442, 0.14488779909946442, 0.3122099073305585, 0.20813993822037233, 0.20813993822037233, 0.10406996911018616, 0.10406996911018616, 0.10406996911018616, 0.26725266078162413, 0.17816844052108277, 0.26725266078162413, 0.17816844052108277, 0.08908422026054139, 0.27559402120470594, 0.19685287228907566, 0.19685287228907566, 0.11811172337344539, 0.03937057445781513, 0.03937057445781513, 0.03937057445781513, 0.03937057445781513, 0.03937057445781513, 0.389503525868211, 0.1669300825149476, 0.1669300825149476, 0.1669300825149476, 0.055643360838315864, 0.055643360838315864, 0.055643360838315864, 0.435509455922115, 0.19795884360096136, 0.17816295924086523, 0.09897942180048068, 0.03959176872019227, 0.019795884360096137, 0.019795884360096137, 0.019795884360096137, 0.019795884360096137, 0.29483987041130805, 0.1965599136075387, 0.1965599136075387, 0.09827995680376934, 0.09827995680376934, 0.3453405844521283, 0.11511352815070942, 0.23022705630141885, 0.11511352815070942, 0.11511352815070942, 0.3061621622602665, 0.22962162169519987, 0.15308108113013325, 0.07654054056506662, 0.07654054056506662, 0.07654054056506662, 0.40187715415704484, 0.20093857707852242, 0.20093857707852242, 0.20093857707852242, 0.3898244073467004, 0.16706760314858587, 0.1949122036733502, 0.11137840209905725, 0.055689201049528625, 0.027844600524764312, 0.027844600524764312, 0.027844600524764312, 0.027844600524764312, 0.4109413409510057, 0.13698044698366857, 0.13698044698366857, 0.13698044698366857, 0.3453176451662174, 0.1726588225831087, 0.20719058709973043, 0.10359529354986521, 0.03453176451662174, 0.03453176451662174, 0.03453176451662174, 0.03453176451662174, 0.4177473432424474, 0.2088736716212237, 0.2088736716212237, 0.10443683581061185, 0.35240159965588536, 0.21535653312304107, 0.17620079982794268, 0.11746719988529512, 0.039155733295098374, 0.039155733295098374, 0.039155733295098374, 0.019577866647549187, 0.019577866647549187, 0.34597352203593607, 0.1922075122421867, 0.15376600979374935, 0.11532450734531202, 0.03844150244843734, 0.03844150244843734, 0.03844150244843734, 0.03844150244843734, 0.20883443172541596, 0.20883443172541596, 0.20883443172541596, 0.20883443172541596, 0.3000940390237247, 0.12003761560948988, 0.24007523121897975, 0.18005642341423483, 0.06001880780474494, 0.06001880780474494, 0.06001880780474494, 0.43297421789413426, 0.19483839805236042, 0.12989226536824028, 0.08659484357882685, 0.043297421789413426, 0.043297421789413426, 0.021648710894706713, 0.021648710894706713, 0.021648710894706713, 0.28045631971181284, 0.24039113118155384, 0.20032594265129486, 0.08013037706051795, 0.04006518853025898, 0.04006518853025898, 0.04006518853025898, 0.04006518853025898, 0.3642862121254266, 0.1821431060627133, 0.14571448485017063, 0.10928586363762798, 0.03642862121254266, 0.03642862121254266, 0.03642862121254266, 0.03642862121254266, 0.3394614062267794, 0.1697307031133897, 0.25459605467008456, 0.08486535155669485, 0.08486535155669485, 0.3574310207368255, 0.17871551036841274, 0.17871551036841274, 0.11914367357894183, 0.059571836789470915, 0.059571836789470915, 0.059571836789470915, 0.059571836789470915, 0.34658611305381665, 0.17329305652690832, 0.17329305652690832, 0.17329305652690832, 0.2781078944006475, 0.20858092080048563, 0.13905394720032374, 0.13905394720032374, 0.06952697360016187, 0.06952697360016187, 0.29942757134603937, 0.1996183808973596, 0.1996183808973596, 0.0998091904486798], \"Term\": [\"abuse\", \"abuse\", \"abuse\", \"abuse\", \"abuse\", \"abuse\", \"abuse\", \"abuse\", \"accelerate\", \"accelerate\", \"accelerate\", \"accelerate\", \"accelerate\", \"accelerate\", \"accelerate\", \"accelerate\", \"accelerate\", \"achievements\", \"achievements\", \"achievements\", \"achievements\", \"achievements\", \"achievements\", \"achievements\", \"achievements\", \"acknowledge\", \"acknowledge\", \"acknowledge\", \"acknowledge\", \"acknowledge\", \"acknowledge\", \"acknowledge\", \"acknowledge\", \"actions\", \"actions\", \"actions\", \"actions\", \"actions\", \"actions\", \"actions\", \"actions\", \"actions\", \"active\", \"active\", \"active\", \"active\", \"active\", \"active\", \"active\", \"active\", \"activities\", \"activities\", \"activities\", \"activities\", \"activities\", \"activities\", \"activities\", \"activities\", \"added\", \"added\", \"added\", \"added\", \"additional\", \"additional\", \"additional\", \"additional\", \"additional\", \"additional\", \"additional\", \"additional\", \"additional\", \"adopt\", \"adopt\", \"adopt\", \"adopt\", \"adopt\", \"adopt\", \"advance\", \"advance\", \"advance\", \"advance\", \"advance\", \"advance\", \"advance\", \"advance\", \"advantage\", \"advantage\", \"advantage\", \"advantage\", \"advantage\", \"advantage\", \"advantage\", \"advantage\", \"affirmative\", \"affirmative\", \"affirmative\", \"affirmative\", \"affordable\", \"affordable\", \"affordable\", \"affordable\", \"affordable\", \"affordable\", \"africansthe\", \"africansthe\", \"africansthe\", \"africansthe\", \"agency\", \"agency\", \"agency\", \"agency\", \"agency\", \"agency\", \"agency\", \"agency\", \"agency\", \"agreed\", \"agreed\", \"agreed\", \"agreed\", \"agreed\", \"agreed\", \"agreed\", \"agreed\", \"agreed\", \"ahead\", \"ahead\", \"ahead\", \"ahead\", \"ahead\", \"ahead\", \"ahead\", \"ahead\", \"ahead\", \"alliance\", \"alliance\", \"alliance\", \"alliance\", \"alliance\", \"alliance\", \"alliance\", \"allocate\", \"allocate\", \"allocate\", \"allocate\", \"allocate\", \"allocate\", \"allocate\", \"along\", \"along\", \"along\", \"along\", \"along\", \"along\", \"along\", \"amendments\", \"amendments\", \"amendments\", \"amendments\", \"amendments\", \"amendments\", \"amendments\", \"amendments\", \"answer\", \"answer\", \"answer\", \"answer\", \"answer\", \"anything\", \"anything\", \"anything\", \"anything\", \"appointing\", \"appointing\", \"appointing\", \"appointing\", \"approach\", \"approach\", \"approach\", \"approach\", \"approach\", \"approach\", \"approach\", \"approach\", \"approach\", \"arguably\", \"arguably\", \"arguably\", \"arguably\", \"around\", \"around\", \"around\", \"around\", \"around\", \"around\", \"around\", \"around\", \"around\", \"arrivals\", \"arrivals\", \"arrivals\", \"arrivals\", \"augmentation\", \"augmentation\", \"augmentation\", \"augmentation\", \"available\", \"available\", \"available\", \"available\", \"available\", \"available\", \"available\", \"available\", \"available\", \"barriers\", \"barriers\", \"barriers\", \"barriers\", \"basis\", \"basis\", \"basis\", \"basis\", \"basis\", \"basis\", \"basis\", \"basis\", \"basis\", \"batho\", \"batho\", \"batho\", \"batho\", \"batho\", \"began\", \"began\", \"began\", \"began\", \"began\", \"began\", \"belongs\", \"belongs\", \"belongs\", \"belongs\", \"belongs\", \"belongs\", \"belongs\", \"beneficiaries\", \"beneficiaries\", \"beneficiaries\", \"beneficiaries\", \"beneficiaries\", \"beneficiaries\", \"beneficiaries\", \"bid\", \"bid\", \"bid\", \"bid\", \"bid\", \"bid\", \"bid\", \"bill\", \"bill\", \"bill\", \"bill\", \"bill\", \"bill\", \"bill\", \"bill\", \"bill\", \"birth\", \"birth\", \"birth\", \"birth\", \"birth\", \"birth\", \"birth\", \"birth\", \"bridges\", \"bridges\", \"bridges\", \"bridges\", \"bridges\", \"broader\", \"broader\", \"broader\", \"broader\", \"broader\", \"broader\", \"broader\", \"broken\", \"broken\", \"broken\", \"broken\", \"businesses\", \"businesses\", \"businesses\", \"businesses\", \"businesses\", \"businesses\", \"businesses\", \"businesses\", \"businesses\", \"cabinet\", \"cabinet\", \"cabinet\", \"cabinet\", \"cabinet\", \"cabinet\", \"cabinet\", \"cabinet\", \"cabinet\", \"called\", \"called\", \"called\", \"called\", \"called\", \"called\", \"capabilities\", \"capabilities\", \"capabilities\", \"capabilities\", \"capabilities\", \"capabilities\", \"capabilities\", \"capable\", \"capable\", \"capable\", \"capable\", \"capable\", \"capable\", \"capable\", \"capable\", \"capital\", \"capital\", \"capital\", \"capital\", \"capital\", \"capital\", \"capital\", \"capital\", \"capital\", \"carried\", \"carried\", \"carried\", \"carried\", \"carried\", \"carried\", \"carried\", \"carried\", \"cases\", \"cases\", \"cases\", \"cases\", \"cases\", \"cases\", \"cases\", \"cases\", \"central\", \"central\", \"central\", \"central\", \"central\", \"central\", \"central\", \"central\", \"centre\", \"centre\", \"centre\", \"centre\", \"centre\", \"centre\", \"centre\", \"centre\", \"centre\", \"certainty\", \"certainty\", \"certainty\", \"certainty\", \"certainty\", \"certainty\", \"certainty\", \"chief\", \"chief\", \"chief\", \"chief\", \"chief\", \"chief\", \"chief\", \"chief\", \"chief\", \"child\", \"child\", \"child\", \"child\", \"child\", \"child\", \"child\", \"child\", \"child\", \"chosen\", \"chosen\", \"chosen\", \"chosen\", \"chosen\", \"chosen\", \"cities\", \"cities\", \"cities\", \"cities\", \"cities\", \"cities\", \"cities\", \"cities\", \"city\", \"city\", \"city\", \"city\", \"city\", \"city\", \"city\", \"city\", \"civil\", \"civil\", \"civil\", \"civil\", \"civil\", \"civil\", \"civil\", \"civil\", \"civil\", \"clear\", \"clear\", \"clear\", \"clear\", \"clear\", \"clear\", \"clear\", \"clear\", \"clear\", \"clearly\", \"clearly\", \"clearly\", \"clearly\", \"clearly\", \"clearly\", \"clearly\", \"clearly\", \"climate\", \"climate\", \"climate\", \"climate\", \"climate\", \"climate\", \"climate\", \"climate\", \"climate\", \"clothing\", \"clothing\", \"clothing\", \"clothing\", \"clothing\", \"clothing\", \"clothing\", \"clothing\", \"coal\", \"coal\", \"coal\", \"coal\", \"coal\", \"coal\", \"cohort\", \"cohort\", \"cohort\", \"cohort\", \"combined\", \"combined\", \"combined\", \"combined\", \"combined\", \"combined\", \"coming\", \"coming\", \"coming\", \"coming\", \"coming\", \"coming\", \"coming\", \"coming\", \"compatriots\", \"compatriots\", \"compatriots\", \"compatriots\", \"compatriots\", \"compatriots\", \"compatriots\", \"compatriots\", \"compatriots\", \"complete\", \"complete\", \"complete\", \"complete\", \"complete\", \"complete\", \"complete\", \"complete\", \"complete\", \"concerns\", \"concerns\", \"concerns\", \"concerns\", \"concerns\", \"concerns\", \"concerns\", \"concerns\", \"conduct\", \"conduct\", \"conduct\", \"conduct\", \"conduct\", \"conduct\", \"conduct\", \"conduct\", \"conference\", \"conference\", \"conference\", \"conference\", \"conference\", \"conference\", \"conference\", \"conference\", \"conference\", \"confidence\", \"confidence\", \"confidence\", \"confidence\", \"confidence\", \"confidence\", \"confidence\", \"confidence\", \"confidence\", \"connections\", \"connections\", \"connections\", \"connections\", \"consensus\", \"consensus\", \"consensus\", \"consensus\", \"consensus\", \"consensus\", \"consensus\", \"consensus\", \"consistently\", \"consistently\", \"consistently\", \"consistently\", \"context\", \"context\", \"context\", \"context\", \"context\", \"context\", \"context\", \"context\", \"context\", \"continued\", \"continued\", \"continued\", \"continued\", \"continued\", \"continued\", \"continued\", \"continued\", \"continuous\", \"continuous\", \"continuous\", \"continuous\", \"continuous\", \"continuous\", \"convene\", \"convene\", \"convene\", \"convene\", \"convene\", \"convene\", \"convey\", \"convey\", \"convey\", \"convey\", \"convey\", \"convinced\", \"convinced\", \"convinced\", \"convinced\", \"convinced\", \"convinced\", \"convinced\", \"convinced\", \"coordinate\", \"coordinate\", \"coordinate\", \"coordinate\", \"coordinate\", \"coordination\", \"coordination\", \"coordination\", \"coordination\", \"coordination\", \"coordination\", \"coordination\", \"coordination\", \"corporations\", \"corporations\", \"corporations\", \"corporations\", \"corporations\", \"corpshonourable\", \"corpshonourable\", \"corpshonourable\", \"corpshonourable\", \"correct\", \"correct\", \"correct\", \"correct\", \"correct\", \"correct\", \"correctional\", \"correctional\", \"correctional\", \"correctional\", \"correctional\", \"correctional\", \"cost\", \"cost\", \"cost\", \"cost\", \"cost\", \"cost\", \"cost\", \"cost\", \"cost\", \"could\", \"could\", \"could\", \"could\", \"could\", \"could\", \"could\", \"could\", \"could\", \"countless\", \"countless\", \"countless\", \"countless\", \"cricket\", \"cricket\", \"cricket\", \"cricket\", \"cricket\", \"crimes\", \"crimes\", \"crimes\", \"crimes\", \"crimes\", \"crimes\", \"crimes\", \"crimes\", \"crimes\", \"criminal\", \"criminal\", \"criminal\", \"criminal\", \"criminal\", \"criminal\", \"criminal\", \"criminal\", \"criminal\", \"criminals\", \"criminals\", \"criminals\", \"criminals\", \"criminals\", \"criminals\", \"criminals\", \"crisis\", \"crisis\", \"crisis\", \"crisis\", \"crisis\", \"crisis\", \"crisis\", \"crisis\", \"crisis\", \"culture\", \"culture\", \"culture\", \"culture\", \"culture\", \"culture\", \"culture\", \"culture\", \"culture\", \"cup\", \"cup\", \"cup\", \"cup\", \"cup\", \"cup\", \"cup\", \"cup\", \"current\", \"current\", \"current\", \"current\", \"current\", \"current\", \"current\", \"current\", \"current\", \"currently\", \"currently\", \"currently\", \"currently\", \"currently\", \"currently\", \"currently\", \"currently\", \"currently\", \"cyril\", \"cyril\", \"cyril\", \"cyril\", \"cyril\", \"damage\", \"damage\", \"damage\", \"damage\", \"damage\", \"data\", \"data\", \"data\", \"data\", \"data\", \"data\", \"data\", \"debt\", \"debt\", \"debt\", \"debt\", \"debt\", \"debt\", \"debt\", \"debt\", \"decade\", \"decade\", \"decade\", \"decade\", \"decade\", \"decade\", \"decade\", \"decade\", \"decade\", \"decided\", \"decided\", \"decided\", \"decided\", \"decided\", \"decided\", \"decided\", \"decided\", \"decisions\", \"decisions\", \"decisions\", \"decisions\", \"decisions\", \"decisions\", \"decisions\", \"decisions\", \"decline\", \"decline\", \"decline\", \"decline\", \"decline\", \"decline\", \"deep\", \"deep\", \"deep\", \"deep\", \"deep\", \"deep\", \"deep\", \"defence\", \"defence\", \"defence\", \"defence\", \"defence\", \"defence\", \"defence\", \"defence\", \"defined\", \"defined\", \"defined\", \"defined\", \"defined\", \"defined\", \"defined\", \"depend\", \"depend\", \"depend\", \"depend\", \"depend\", \"depend\", \"destroy\", \"destroy\", \"destroy\", \"destroy\", \"destruction\", \"destruction\", \"destruction\", \"destruction\", \"destruction\", \"destruction\", \"destruction\", \"determination\", \"determination\", \"determination\", \"determination\", \"determination\", \"determination\", \"determination\", \"determination\", \"determination\", \"devastating\", \"devastating\", \"devastating\", \"devastating\", \"devastating\", \"difficult\", \"difficult\", \"difficult\", \"difficult\", \"difficult\", \"difficult\", \"difficult\", \"difficult\", \"difficult\", \"difficulties\", \"difficulties\", \"difficulties\", \"difficulties\", \"difficulties\", \"difficulties\", \"difficulties\", \"difficulties\", \"digital\", \"digital\", \"digital\", \"digital\", \"digital\", \"digital\", \"digital\", \"digital\", \"directly\", \"directly\", \"directly\", \"directly\", \"directly\", \"directly\", \"directly\", \"directly\", \"discussions\", \"discussions\", \"discussions\", \"discussions\", \"discussions\", \"discussions\", \"discussions\", \"discussions\", \"district\", \"district\", \"district\", \"district\", \"district\", \"district\", \"district\", \"district\", \"district\", \"disturbing\", \"disturbing\", \"disturbing\", \"disturbing\", \"durban\", \"durban\", \"durban\", \"durban\", \"durban\", \"durban\", \"durban\", \"earnest\", \"earnest\", \"earnest\", \"earnest\", \"earnings\", \"earnings\", \"earnings\", \"earnings\", \"easily\", \"easily\", \"easily\", \"easily\", \"east\", \"east\", \"east\", \"east\", \"east\", \"east\", \"east\", \"eastern\", \"eastern\", \"eastern\", \"eastern\", \"eastern\", \"eastern\", \"eastern\", \"eastern\", \"eastern\", \"effects\", \"effects\", \"effects\", \"effects\", \"effects\", \"effects\", \"effects\", \"efficiency\", \"efficiency\", \"efficiency\", \"efficiency\", \"efficiency\", \"efficiency\", \"efficiency\", \"efficiency\", \"efficiency\", \"elaborate\", \"elaborate\", \"elaborate\", \"elaborate\", \"elaborate\", \"elaborate\", \"election\", \"election\", \"election\", \"election\", \"election\", \"election\", \"election\", \"election\", \"elections\", \"elections\", \"elections\", \"elections\", \"elections\", \"elections\", \"elections\", \"elections\", \"elections\", \"emergency\", \"emergency\", \"emergency\", \"emergency\", \"emergency\", \"emergency\", \"emergency\", \"employed\", \"employed\", \"employed\", \"employed\", \"employed\", \"employed\", \"employed\", \"engagement\", \"engagement\", \"engagement\", \"engagement\", \"engagement\", \"engagement\", \"enhance\", \"enhance\", \"enhance\", \"enhance\", \"enhance\", \"enhance\", \"enhance\", \"enhance\", \"environment\", \"environment\", \"environment\", \"environment\", \"environment\", \"environment\", \"environment\", \"environment\", \"epwp\", \"epwp\", \"epwp\", \"epwp\", \"equipment\", \"equipment\", \"equipment\", \"equipment\", \"equipment\", \"eskom\", \"eskom\", \"eskom\", \"eskom\", \"eskom\", \"eskom\", \"eskom\", \"eskom\", \"eskom\", \"eskoms\", \"eskoms\", \"eskoms\", \"eskoms\", \"eskoms\", \"essence\", \"essence\", \"essence\", \"essence\", \"evening\", \"evening\", \"evening\", \"evening\", \"evening\", \"evening\", \"evening\", \"evening\", \"everybodys\", \"everybodys\", \"everybodys\", \"everybodys\", \"everyone\", \"everyone\", \"everyone\", \"everyone\", \"everyone\", \"everyone\", \"everyone\", \"existing\", \"existing\", \"existing\", \"existing\", \"existing\", \"existing\", \"existing\", \"existing\", \"expansion\", \"expansion\", \"expansion\", \"expansion\", \"expansion\", \"expansion\", \"expansion\", \"expansion\", \"expansion\", \"expected\", \"expected\", \"expected\", \"expected\", \"expected\", \"expected\", \"expected\", \"expected\", \"explored\", \"explored\", \"explored\", \"explored\", \"exports\", \"exports\", \"exports\", \"exports\", \"exports\", \"exports\", \"exports\", \"exports\", \"extortion\", \"extortion\", \"extortion\", \"extortion\", \"facilitating\", \"facilitating\", \"facilitating\", \"facilitating\", \"fact\", \"fact\", \"fact\", \"fact\", \"fact\", \"fact\", \"fact\", \"fact\", \"fact\", \"factor\", \"factor\", \"factor\", \"factor\", \"family\", \"family\", \"family\", \"family\", \"family\", \"family\", \"family\", \"far\", \"far\", \"far\", \"far\", \"far\", \"far\", \"far\", \"far\", \"far\", \"farmers\", \"farmers\", \"farmers\", \"farmers\", \"farmers\", \"farmers\", \"farmers\", \"farmers\", \"farmers\", \"fasttrack\", \"fasttrack\", \"fasttrack\", \"fasttrack\", \"fasttrack\", \"fasttrack\", \"fathers\", \"fathers\", \"fathers\", \"fathers\", \"fellow\", \"fellow\", \"fellow\", \"fellow\", \"fellow\", \"fellow\", \"fellow\", \"fellow\", \"fellow\", \"felt\", \"felt\", \"felt\", \"felt\", \"felt\", \"felt\", \"female\", \"female\", \"female\", \"female\", \"fet\", \"fet\", \"fet\", \"fet\", \"figures\", \"figures\", \"figures\", \"figures\", \"figures\", \"figures\", \"finalise\", \"finalise\", \"finalise\", \"finalise\", \"finalise\", \"finalise\", \"finalise\", \"finalise\", \"finalise\", \"find\", \"find\", \"find\", \"find\", \"find\", \"find\", \"find\", \"find\", \"find\", \"fire\", \"fire\", \"fire\", \"fire\", \"fire\", \"focused\", \"focused\", \"focused\", \"focused\", \"focused\", \"focused\", \"focused\", \"focused\", \"follow\", \"follow\", \"follow\", \"follow\", \"follow\", \"following\", \"following\", \"following\", \"following\", \"following\", \"following\", \"following\", \"following\", \"following\", \"foreign\", \"foreign\", \"foreign\", \"foreign\", \"foreign\", \"foreign\", \"foreign\", \"foreign\", \"former\", \"former\", \"former\", \"former\", \"former\", \"former\", \"former\", \"former\", \"former\", \"fragmented\", \"fragmented\", \"fragmented\", \"fragmented\", \"frames\", \"frames\", \"frames\", \"frames\", \"frontiers\", \"frontiers\", \"frontiers\", \"frontiers\", \"frontiers\", \"frontiers\", \"frontiers\", \"frontiers\", \"frontiers\", \"fuels\", \"fuels\", \"fuels\", \"fuels\", \"fully\", \"fully\", \"fully\", \"fully\", \"fully\", \"fully\", \"fully\", \"fully\", \"fundamental\", \"fundamental\", \"fundamental\", \"fundamental\", \"fundamental\", \"fundamental\", \"fundamental\", \"fundamental\", \"funds\", \"funds\", \"funds\", \"funds\", \"funds\", \"funds\", \"funds\", \"funds\", \"gap\", \"gap\", \"gap\", \"gap\", \"gap\", \"gender\", \"gender\", \"gender\", \"gender\", \"gender\", \"gender\", \"gender\", \"gender\", \"general\", \"general\", \"general\", \"general\", \"general\", \"general\", \"general\", \"general\", \"general\", \"generation\", \"generation\", \"generation\", \"generation\", \"generation\", \"generation\", \"generation\", \"generation\", \"go\", \"go\", \"go\", \"go\", \"go\", \"go\", \"go\", \"go\", \"go\", \"governance\", \"governance\", \"governance\", \"governance\", \"governance\", \"governance\", \"governance\", \"governance\", \"governance\", \"grant\", \"grant\", \"grant\", \"grant\", \"grant\", \"grant\", \"grant\", \"grant\", \"grant\", \"grants\", \"grants\", \"grants\", \"grants\", \"grants\", \"grants\", \"grants\", \"grants\", \"grants\", \"grave\", \"grave\", \"grave\", \"grave\", \"greatest\", \"greatest\", \"greatest\", \"greatest\", \"greatest\", \"greatest\", \"greatest\", \"greatest\", \"group\", \"group\", \"group\", \"group\", \"group\", \"group\", \"group\", \"group\", \"group\", \"grow\", \"grow\", \"grow\", \"grow\", \"grow\", \"grow\", \"grow\", \"grow\", \"grow\", \"growing\", \"growing\", \"growing\", \"growing\", \"growing\", \"growing\", \"growing\", \"growing\", \"guidelines\", \"guidelines\", \"guidelines\", \"guidelines\", \"hands\", \"hands\", \"hands\", \"hands\", \"hands\", \"hands\", \"hands\", \"hands\", \"hani\", \"hani\", \"hani\", \"hani\", \"happy\", \"happy\", \"happy\", \"happy\", \"happy\", \"happy\", \"happy\", \"healthcare\", \"healthcare\", \"healthcare\", \"healthcare\", \"healthcare\", \"hear\", \"hear\", \"hear\", \"hear\", \"highway\", \"highway\", \"highway\", \"highway\", \"host\", \"host\", \"host\", \"host\", \"host\", \"host\", \"host\", \"host\", \"host\", \"hosted\", \"hosted\", \"hosted\", \"hosted\", \"hosted\", \"hours\", \"hours\", \"hours\", \"hours\", \"households\", \"households\", \"households\", \"households\", \"households\", \"households\", \"households\", \"households\", \"households\", \"humanity\", \"humanity\", \"humanity\", \"humanity\", \"humanity\", \"humanity\", \"humanity\", \"humanity\", \"humanity\", \"implementing\", \"implementing\", \"implementing\", \"implementing\", \"implementing\", \"implementing\", \"implementing\", \"implementing\", \"implementing\", \"improves\", \"improves\", \"improves\", \"improves\", \"inadequate\", \"inadequate\", \"inadequate\", \"inadequate\", \"inadequate\", \"includes\", \"includes\", \"includes\", \"includes\", \"includes\", \"includes\", \"includes\", \"includes\", \"income\", \"income\", \"income\", \"income\", \"income\", \"income\", \"income\", \"income\", \"income\", \"increased\", \"increased\", \"increased\", \"increased\", \"increased\", \"increased\", \"increased\", \"increased\", \"increased\", \"increasing\", \"increasing\", \"increasing\", \"increasing\", \"increasing\", \"increasing\", \"increasing\", \"increasing\", \"indeed\", \"indeed\", \"indeed\", \"indeed\", \"indeed\", \"indeed\", \"indeed\", \"indeed\", \"indeed\", \"industries\", \"industries\", \"industries\", \"industries\", \"industries\", \"industries\", \"industries\", \"industries\", \"industries\", \"inequality\", \"inequality\", \"inequality\", \"inequality\", \"inequality\", \"inequality\", \"inequality\", \"inequality\", \"injustice\", \"injustice\", \"injustice\", \"injustice\", \"institution\", \"institution\", \"institution\", \"institution\", \"institution\", \"institution\", \"institution\", \"institution\", \"insurance\", \"insurance\", \"insurance\", \"insurance\", \"insurance\", \"insurance\", \"insurance\", \"insurance\", \"integrity\", \"integrity\", \"integrity\", \"integrity\", \"integrity\", \"integrity\", \"integrity\", \"integrity\", \"intensity\", \"intensity\", \"intensity\", \"intensity\", \"interference\", \"interference\", \"interference\", \"interference\", \"investments\", \"investments\", \"investments\", \"investments\", \"investments\", \"investments\", \"investments\", \"investments\", \"investments\", \"investors\", \"investors\", \"investors\", \"investors\", \"investors\", \"investors\", \"investors\", \"investors\", \"involved\", \"involved\", \"involved\", \"involved\", \"involved\", \"involved\", \"involved\", \"iraq\", \"iraq\", \"iraq\", \"iraq\", \"iraq\", \"iraq\", \"iraq\", \"joint\", \"joint\", \"joint\", \"joint\", \"joint\", \"joint\", \"joint\", \"joint\", \"judge\", \"judge\", \"judge\", \"judge\", \"judge\", \"judge\", \"july\", \"july\", \"july\", \"july\", \"july\", \"july\", \"july\", \"june\", \"june\", \"june\", \"june\", \"june\", \"june\", \"june\", \"june\", \"key\", \"key\", \"key\", \"key\", \"key\", \"key\", \"key\", \"key\", \"key\", \"kwazulunatal\", \"kwazulunatal\", \"kwazulunatal\", \"kwazulunatal\", \"kwazulunatal\", \"kwazulunatal\", \"kwazulunatal\", \"kwazulunatal\", \"kwazulunatal\", \"late\", \"late\", \"late\", \"late\", \"late\", \"late\", \"law\", \"law\", \"law\", \"law\", \"law\", \"law\", \"law\", \"law\", \"law\", \"leaks\", \"leaks\", \"leaks\", \"leaks\", \"leaving\", \"leaving\", \"leaving\", \"leaving\", \"led\", \"led\", \"led\", \"led\", \"led\", \"led\", \"led\", \"led\", \"led\", \"legislative\", \"legislative\", \"legislative\", \"legislative\", \"legislative\", \"legislative\", \"lesson\", \"lesson\", \"lesson\", \"lesson\", \"lesson\", \"liberation\", \"liberation\", \"liberation\", \"liberation\", \"liberation\", \"liberation\", \"liberation\", \"liberation\", \"list\", \"list\", \"list\", \"list\", \"list\", \"loadshedding\", \"loadshedding\", \"loadshedding\", \"loadshedding\", \"loadshedding\", \"loadshedding\", \"look\", \"look\", \"look\", \"look\", \"look\", \"look\", \"look\", \"look\", \"looking\", \"looking\", \"looking\", \"looking\", \"looking\", \"looking\", \"looking\", \"lose\", \"lose\", \"lose\", \"lose\", \"lose\", \"maintenance\", \"maintenance\", \"maintenance\", \"maintenance\", \"maintenance\", \"maintenance\", \"maintenance\", \"maintenance\", \"mama\", \"mama\", \"mama\", \"mama\", \"mama\", \"maputo\", \"maputo\", \"maputo\", \"maputo\", \"march\", \"march\", \"march\", \"march\", \"march\", \"march\", \"march\", \"march\", \"march\", \"masses\", \"masses\", \"masses\", \"masses\", \"masses\", \"masses\", \"masses\", \"masses\", \"masses\", \"master\", \"master\", \"master\", \"master\", \"master\", \"master\", \"matters\", \"matters\", \"matters\", \"matters\", \"matters\", \"matters\", \"matters\", \"matters\", \"matters\", \"meaning\", \"meaning\", \"meaning\", \"meaning\", \"meaning\", \"meaning\", \"meaning\", \"meaningful\", \"meaningful\", \"meaningful\", \"meaningful\", \"meaningful\", \"meaningful\", \"meaningful\", \"meant\", \"meant\", \"meant\", \"meant\", \"mechanism\", \"mechanism\", \"mechanism\", \"mechanism\", \"mechanism\", \"mechanism\", \"mindful\", \"mindful\", \"mindful\", \"mindful\", \"mining\", \"mining\", \"mining\", \"mining\", \"mining\", \"mining\", \"mining\", \"mining\", \"mining\", \"ministers\", \"ministers\", \"ministers\", \"ministers\", \"ministers\", \"ministers\", \"ministers\", \"ministers\", \"ministers\", \"model\", \"model\", \"model\", \"model\", \"model\", \"model\", \"model\", \"moments\", \"moments\", \"moments\", \"moments\", \"moments\", \"mpumalanga\", \"mpumalanga\", \"mpumalanga\", \"mpumalanga\", \"mpumalanga\", \"mpumalanga\", \"mpumalanga\", \"mpumalanga\", \"municipalities\", \"municipalities\", \"municipalities\", \"municipalities\", \"municipalities\", \"municipalities\", \"municipalities\", \"municipalities\", \"municipalities\", \"municipality\", \"municipality\", \"municipality\", \"municipality\", \"municipality\", \"municipality\", \"municipality\", \"municipality\", \"municipality\", \"na\", \"na\", \"na\", \"na\", \"na\", \"na\", \"necessary\", \"necessary\", \"necessary\", \"necessary\", \"necessary\", \"necessary\", \"necessary\", \"necessary\", \"necessary\", \"network\", \"network\", \"network\", \"network\", \"network\", \"network\", \"network\", \"network\", \"ninepoint\", \"ninepoint\", \"ninepoint\", \"ninepoint\", \"northern\", \"northern\", \"northern\", \"northern\", \"northern\", \"northern\", \"northern\", \"northern\", \"northern\", \"number\", \"number\", \"number\", \"number\", \"number\", \"number\", \"number\", \"number\", \"number\", \"nutrition\", \"nutrition\", \"nutrition\", \"nutrition\", \"nutrition\", \"nutrition\", \"objectives\", \"objectives\", \"objectives\", \"objectives\", \"objectives\", \"objectives\", \"objectives\", \"objectives\", \"objectives\", \"obligations\", \"obligations\", \"obligations\", \"obligations\", \"obligations\", \"obligations\", \"obligations\", \"offers\", \"offers\", \"offers\", \"offers\", \"officials\", \"officials\", \"officials\", \"officials\", \"officials\", \"officials\", \"officials\", \"officials\", \"oliver\", \"oliver\", \"oliver\", \"oliver\", \"oliver\", \"oliver\", \"opened\", \"opened\", \"opened\", \"opened\", \"opened\", \"opened\", \"opened\", \"opposition\", \"opposition\", \"opposition\", \"opposition\", \"organised\", \"organised\", \"organised\", \"organised\", \"organised\", \"organised\", \"organised\", \"organised\", \"overseas\", \"overseas\", \"overseas\", \"overseas\", \"ownership\", \"ownership\", \"ownership\", \"ownership\", \"ownership\", \"ownership\", \"ownership\", \"pace\", \"pace\", \"pace\", \"pace\", \"pace\", \"pace\", \"pace\", \"pace\", \"pandemic\", \"pandemic\", \"pandemic\", \"pandemic\", \"pandemic\", \"pandemic\", \"pandemic\", \"pandemic\", \"particularly\", \"particularly\", \"particularly\", \"particularly\", \"particularly\", \"particularly\", \"particularly\", \"particularly\", \"particularly\", \"parties\", \"parties\", \"parties\", \"parties\", \"parties\", \"parties\", \"parties\", \"parties\", \"parties\", \"patriotism\", \"patriotism\", \"patriotism\", \"patriotism\", \"patriotism\", \"patriotism\", \"patriotism\", \"patriotism\", \"pensions\", \"pensions\", \"pensions\", \"pensions\", \"pensions\", \"per\", \"per\", \"per\", \"per\", \"per\", \"per\", \"per\", \"per\", \"per\", \"percent\", \"percent\", \"percent\", \"percent\", \"percent\", \"percent\", \"percent\", \"percent\", \"percentage\", \"percentage\", \"percentage\", \"percentage\", \"pessimism\", \"pessimism\", \"pessimism\", \"pessimism\", \"plan\", \"plan\", \"plan\", \"plan\", \"plan\", \"plan\", \"plan\", \"plan\", \"plan\", \"pleased\", \"pleased\", \"pleased\", \"pleased\", \"pleased\", \"pleased\", \"pleased\", \"pleased\", \"pleased\", \"possible\", \"possible\", \"possible\", \"possible\", \"possible\", \"possible\", \"possible\", \"possible\", \"possible\", \"potential\", \"potential\", \"potential\", \"potential\", \"potential\", \"potential\", \"potential\", \"potential\", \"potential\", \"premiers\", \"premiers\", \"premiers\", \"premiers\", \"premiers\", \"premiers\", \"premiers\", \"presence\", \"presence\", \"presence\", \"presence\", \"presence\", \"presence\", \"presence\", \"present\", \"present\", \"present\", \"present\", \"present\", \"present\", \"present\", \"present\", \"present\", \"presented\", \"presented\", \"presented\", \"presented\", \"presented\", \"presented\", \"presidential\", \"presidential\", \"presidential\", \"presidential\", \"presidential\", \"presidential\", \"presidential\", \"presidential\", \"presidential\", \"prices\", \"prices\", \"prices\", \"prices\", \"prices\", \"prices\", \"prices\", \"priority\", \"priority\", \"priority\", \"priority\", \"priority\", \"priority\", \"priority\", \"priority\", \"priority\", \"problem\", \"problem\", \"problem\", \"problem\", \"problem\", \"problem\", \"problem\", \"problem\", \"procurement\", \"procurement\", \"procurement\", \"procurement\", \"procurement\", \"procurement\", \"procurement\", \"procurement\", \"procurement\", \"producers\", \"producers\", \"producers\", \"producers\", \"producers\", \"producers\", \"production\", \"production\", \"production\", \"production\", \"production\", \"production\", \"production\", \"production\", \"project\", \"project\", \"project\", \"project\", \"project\", \"project\", \"project\", \"project\", \"project\", \"promotes\", \"promotes\", \"promotes\", \"promotes\", \"proposed\", \"proposed\", \"proposed\", \"proposed\", \"proposed\", \"prosecuting\", \"prosecuting\", \"prosecuting\", \"prosecuting\", \"prosecuting\", \"protection\", \"protection\", \"protection\", \"protection\", \"protection\", \"protection\", \"protection\", \"protection\", \"proud\", \"proud\", \"proud\", \"proud\", \"proud\", \"proud\", \"proud\", \"proud\", \"proud\", \"province\", \"province\", \"province\", \"province\", \"province\", \"province\", \"province\", \"province\", \"publicprivate\", \"publicprivate\", \"publicprivate\", \"publicprivate\", \"publicprivate\", \"pursuit\", \"pursuit\", \"pursuit\", \"pursuit\", \"pursuit\", \"pursuit\", \"pursuit\", \"question\", \"question\", \"question\", \"question\", \"question\", \"question\", \"question\", \"question\", \"question\", \"radical\", \"radical\", \"radical\", \"radical\", \"radical\", \"radical\", \"rand\", \"rand\", \"rand\", \"rand\", \"rand\", \"rand\", \"rand\", \"rand\", \"rand\", \"rates\", \"rates\", \"rates\", \"rates\", \"rates\", \"rates\", \"rates\", \"rates\", \"rates\", \"rather\", \"rather\", \"rather\", \"rather\", \"rather\", \"rather\", \"rather\", \"rather\", \"reach\", \"reach\", \"reach\", \"reach\", \"reach\", \"reach\", \"reach\", \"reach\", \"reach\", \"reading\", \"reading\", \"reading\", \"reading\", \"reading\", \"ready\", \"ready\", \"ready\", \"ready\", \"ready\", \"ready\", \"ready\", \"ready\", \"ready\", \"real\", \"real\", \"real\", \"real\", \"real\", \"real\", \"real\", \"real\", \"real\", \"realities\", \"realities\", \"realities\", \"realities\", \"received\", \"received\", \"received\", \"received\", \"received\", \"received\", \"received\", \"received\", \"reconciliation\", \"reconciliation\", \"reconciliation\", \"reconciliation\", \"reconciliation\", \"reconciliation\", \"reconciliation\", \"reconciliation\", \"reconciliation\", \"reconstruction\", \"reconstruction\", \"reconstruction\", \"reconstruction\", \"reconstruction\", \"reconstruction\", \"reconstruction\", \"reconstruction\", \"reconstruction\", \"recovery\", \"recovery\", \"recovery\", \"recovery\", \"recovery\", \"recovery\", \"recovery\", \"recovery\", \"redefining\", \"redefining\", \"redefining\", \"redefining\", \"redistribution\", \"redistribution\", \"redistribution\", \"redistribution\", \"redistribution\", \"redistribution\", \"redistribution\", \"redistribution\", \"reducing\", \"reducing\", \"reducing\", \"reducing\", \"reducing\", \"reducing\", \"reducing\", \"reducing\", \"reform\", \"reform\", \"reform\", \"reform\", \"reform\", \"reform\", \"reform\", \"reform\", \"reform\", \"reforms\", \"reforms\", \"reforms\", \"reforms\", \"reforms\", \"reforms\", \"reforms\", \"reforms\", \"refused\", \"refused\", \"refused\", \"refused\", \"regards\", \"regards\", \"regards\", \"regards\", \"regards\", \"regeneration\", \"regeneration\", \"regeneration\", \"regeneration\", \"register\", \"register\", \"register\", \"register\", \"register\", \"register\", \"register\", \"register\", \"relations\", \"relations\", \"relations\", \"relations\", \"relations\", \"relations\", \"relations\", \"relations\", \"relations\", \"relationship\", \"relationship\", \"relationship\", \"relationship\", \"relationship\", \"released\", \"released\", \"released\", \"released\", \"released\", \"released\", \"remote\", \"remote\", \"remote\", \"remote\", \"remuneration\", \"remuneration\", \"remuneration\", \"remuneration\", \"renewable\", \"renewable\", \"renewable\", \"renewable\", \"renewable\", \"renewable\", \"renewable\", \"renewable\", \"replacing\", \"replacing\", \"replacing\", \"replacing\", \"republic\", \"republic\", \"republic\", \"republic\", \"republic\", \"republic\", \"republic\", \"republic\", \"republic\", \"required\", \"required\", \"required\", \"required\", \"required\", \"required\", \"required\", \"required\", \"requirement\", \"requirement\", \"requirement\", \"requirement\", \"research\", \"research\", \"research\", \"research\", \"research\", \"research\", \"research\", \"research\", \"reserve\", \"reserve\", \"reserve\", \"reserve\", \"reserve\", \"reserve\", \"reserve\", \"reserve\", \"reserve\", \"respond\", \"respond\", \"respond\", \"respond\", \"respond\", \"respond\", \"respond\", \"respond\", \"respond\", \"rest\", \"rest\", \"rest\", \"rest\", \"rest\", \"rest\", \"rest\", \"rest\", \"rest\", \"restructuring\", \"restructuring\", \"restructuring\", \"restructuring\", \"restructuring\", \"restructuring\", \"restructuring\", \"restructuring\", \"restructuring\", \"road\", \"road\", \"road\", \"road\", \"road\", \"road\", \"road\", \"road\", \"road\", \"ruling\", \"ruling\", \"ruling\", \"ruling\", \"ruling\", \"sahara\", \"sahara\", \"sahara\", \"sahara\", \"saving\", \"saving\", \"saving\", \"saving\", \"saving\", \"say\", \"say\", \"say\", \"say\", \"say\", \"say\", \"say\", \"say\", \"say\", \"scheme\", \"scheme\", \"scheme\", \"scheme\", \"scheme\", \"scheme\", \"scheme\", \"scheme\", \"second\", \"second\", \"second\", \"second\", \"second\", \"second\", \"second\", \"second\", \"second\", \"seen\", \"seen\", \"seen\", \"seen\", \"seen\", \"seen\", \"seen\", \"senior\", \"senior\", \"senior\", \"senior\", \"senior\", \"senior\", \"senior\", \"senior\", \"sense\", \"sense\", \"sense\", \"sense\", \"sense\", \"sense\", \"sense\", \"sense\", \"sent\", \"sent\", \"sent\", \"sent\", \"serious\", \"serious\", \"serious\", \"serious\", \"serious\", \"serious\", \"serious\", \"serious\", \"serious\", \"shale\", \"shale\", \"shale\", \"shale\", \"shall\", \"shall\", \"shall\", \"shall\", \"shall\", \"shall\", \"shall\", \"shall\", \"shall\", \"signed\", \"signed\", \"signed\", \"signed\", \"signed\", \"signed\", \"signed\", \"sites\", \"sites\", \"sites\", \"sites\", \"sites\", \"sites\", \"siu\", \"siu\", \"siu\", \"siu\", \"siu\", \"smallholder\", \"smallholder\", \"smallholder\", \"smallholder\", \"socioeconomic\", \"socioeconomic\", \"socioeconomic\", \"socioeconomic\", \"socioeconomic\", \"socioeconomic\", \"socioeconomic\", \"socioeconomic\", \"soldiers\", \"soldiers\", \"soldiers\", \"soldiers\", \"specifically\", \"specifically\", \"specifically\", \"specifically\", \"spending\", \"spending\", \"spending\", \"spending\", \"spending\", \"spending\", \"spending\", \"spending\", \"spheres\", \"spheres\", \"spheres\", \"spheres\", \"spheres\", \"spheres\", \"spheres\", \"spheres\", \"spirit\", \"spirit\", \"spirit\", \"spirit\", \"spirit\", \"spirit\", \"spirit\", \"spirit\", \"spirit\", \"spoke\", \"spoke\", \"spoke\", \"spoke\", \"spoke\", \"spoke\", \"spoke\", \"spoke\", \"stakeholders\", \"stakeholders\", \"stakeholders\", \"stakeholders\", \"stakeholders\", \"stakeholders\", \"stakeholders\", \"stakeholders\", \"stakeholders\", \"stand\", \"stand\", \"stand\", \"stand\", \"stand\", \"stand\", \"stand\", \"standing\", \"standing\", \"standing\", \"standing\", \"standing\", \"started\", \"started\", \"started\", \"started\", \"started\", \"started\", \"started\", \"started\", \"started\", \"stateowned\", \"stateowned\", \"stateowned\", \"stateowned\", \"stateowned\", \"stateowned\", \"stateowned\", \"stateowned\", \"step\", \"step\", \"step\", \"step\", \"step\", \"step\", \"step\", \"step\", \"strategies\", \"strategies\", \"strategies\", \"strategies\", \"strategies\", \"strategies\", \"strategies\", \"strategies\", \"strengthened\", \"strengthened\", \"strengthened\", \"strengthened\", \"strengthened\", \"strengthened\", \"strengthening\", \"strengthening\", \"strengthening\", \"strengthening\", \"strengthening\", \"strengthening\", \"strengthening\", \"strengthening\", \"strengthening\", \"student\", \"student\", \"student\", \"student\", \"student\", \"student\", \"student\", \"student\", \"students\", \"students\", \"students\", \"students\", \"students\", \"students\", \"students\", \"students\", \"students\", \"successful\", \"successful\", \"successful\", \"successful\", \"successful\", \"successful\", \"successful\", \"successful\", \"successful\", \"supply\", \"supply\", \"supply\", \"supply\", \"supply\", \"supply\", \"supply\", \"supply\", \"supply\", \"table\", \"table\", \"table\", \"table\", \"table\", \"table\", \"tackle\", \"tackle\", \"tackle\", \"tackle\", \"tackle\", \"taking\", \"taking\", \"taking\", \"taking\", \"taking\", \"taking\", \"taking\", \"taking\", \"target\", \"target\", \"target\", \"target\", \"target\", \"target\", \"target\", \"target\", \"target\", \"teams\", \"teams\", \"teams\", \"teams\", \"teams\", \"teams\", \"teams\", \"ten\", \"ten\", \"ten\", \"ten\", \"ten\", \"ten\", \"ten\", \"terminal\", \"terminal\", \"terminal\", \"terminal\", \"terms\", \"terms\", \"terms\", \"terms\", \"terms\", \"terms\", \"terms\", \"terms\", \"terms\", \"thousand\", \"thousand\", \"thousand\", \"thousand\", \"thousand\", \"thousand\", \"thousand\", \"thousand\", \"transport\", \"transport\", \"transport\", \"transport\", \"transport\", \"transport\", \"transport\", \"transport\", \"transport\", \"trees\", \"trees\", \"trees\", \"trees\", \"trillion\", \"trillion\", \"trillion\", \"trillion\", \"trillion\", \"trillion\", \"triple\", \"triple\", \"triple\", \"triple\", \"trust\", \"trust\", \"trust\", \"trust\", \"trust\", \"trust\", \"trust\", \"trust\", \"turn\", \"turn\", \"turn\", \"turn\", \"turn\", \"turn\", \"turn\", \"turn\", \"twenty\", \"twenty\", \"twenty\", \"twenty\", \"twenty\", \"undertook\", \"undertook\", \"undertook\", \"undertook\", \"unity\", \"unity\", \"unity\", \"unity\", \"unity\", \"unity\", \"unity\", \"unity\", \"unity\", \"unleash\", \"unleash\", \"unleash\", \"unleash\", \"upgrade\", \"upgrade\", \"upgrade\", \"upgrade\", \"upgrade\", \"upgrade\", \"upgrading\", \"upgrading\", \"upgrading\", \"upgrading\", \"upgrading\", \"upon\", \"upon\", \"upon\", \"upon\", \"upon\", \"upon\", \"upon\", \"upon\", \"upon\", \"urgency\", \"urgency\", \"urgency\", \"urgency\", \"urgency\", \"urgency\", \"urgency\", \"urgent\", \"urgent\", \"urgent\", \"urgent\", \"urgent\", \"urgent\", \"urgent\", \"urgent\", \"urgent\", \"vaccines\", \"vaccines\", \"vaccines\", \"vaccines\", \"vaccines\", \"van\", \"van\", \"van\", \"van\", \"van\", \"visa\", \"visa\", \"visa\", \"visa\", \"visa\", \"visa\", \"visas\", \"visas\", \"visas\", \"visas\", \"vision\", \"vision\", \"vision\", \"vision\", \"vision\", \"vision\", \"vision\", \"vision\", \"vision\", \"voluntarily\", \"voluntarily\", \"voluntarily\", \"voluntarily\", \"vulnerable\", \"vulnerable\", \"vulnerable\", \"vulnerable\", \"vulnerable\", \"vulnerable\", \"vulnerable\", \"vulnerable\", \"walked\", \"walked\", \"walked\", \"walked\", \"want\", \"want\", \"want\", \"want\", \"want\", \"want\", \"want\", \"want\", \"want\", \"war\", \"war\", \"war\", \"war\", \"war\", \"war\", \"war\", \"war\", \"weakened\", \"weakened\", \"weakened\", \"weakened\", \"weapons\", \"weapons\", \"weapons\", \"weapons\", \"weapons\", \"weapons\", \"weapons\", \"week\", \"week\", \"week\", \"week\", \"week\", \"week\", \"week\", \"week\", \"week\", \"weeks\", \"weeks\", \"weeks\", \"weeks\", \"weeks\", \"weeks\", \"weeks\", \"weeks\", \"western\", \"western\", \"western\", \"western\", \"western\", \"western\", \"western\", \"western\", \"willing\", \"willing\", \"willing\", \"willing\", \"willing\", \"winning\", \"winning\", \"winning\", \"winning\", \"winning\", \"winning\", \"winning\", \"winning\", \"worship\", \"worship\", \"worship\", \"worship\", \"worth\", \"worth\", \"worth\", \"worth\", \"worth\", \"worth\", \"zondo\", \"zondo\", \"zondo\", \"zondo\"]}, \"R\": 30, \"lambda.step\": 0.01, \"plot.opts\": {\"xlab\": \"PC1\", \"ylab\": \"PC2\"}, \"topic.order\": [9, 1, 6, 2, 3, 7, 8, 5, 4]};\n",
       "\n",
       "function LDAvis_load_lib(url, callback){\n",
       "  var s = document.createElement('script');\n",
       "  s.src = url;\n",
       "  s.async = true;\n",
       "  s.onreadystatechange = s.onload = callback;\n",
       "  s.onerror = function(){console.warn(\"failed to load library \" + url);};\n",
       "  document.getElementsByTagName(\"head\")[0].appendChild(s);\n",
       "}\n",
       "\n",
       "if(typeof(LDAvis) !== \"undefined\"){\n",
       "   // already loaded: just create the visualization\n",
       "   !function(LDAvis){\n",
       "       new LDAvis(\"#\" + \"ldavis_el7911862767835042658856682\", ldavis_el7911862767835042658856682_data);\n",
       "   }(LDAvis);\n",
       "}else if(typeof define === \"function\" && define.amd){\n",
       "   // require.js is available: use it to load d3/LDAvis\n",
       "   require.config({paths: {d3: \"https://d3js.org/d3.v5\"}});\n",
       "   require([\"d3\"], function(d3){\n",
       "      window.d3 = d3;\n",
       "      LDAvis_load_lib(\"https://cdn.jsdelivr.net/gh/bmabey/pyLDAvis@3.4.0/pyLDAvis/js/ldavis.v3.0.0.js\", function(){\n",
       "        new LDAvis(\"#\" + \"ldavis_el7911862767835042658856682\", ldavis_el7911862767835042658856682_data);\n",
       "      });\n",
       "    });\n",
       "}else{\n",
       "    // require.js not available: dynamically load d3 & LDAvis\n",
       "    LDAvis_load_lib(\"https://d3js.org/d3.v5.js\", function(){\n",
       "         LDAvis_load_lib(\"https://cdn.jsdelivr.net/gh/bmabey/pyLDAvis@3.4.0/pyLDAvis/js/ldavis.v3.0.0.js\", function(){\n",
       "                 new LDAvis(\"#\" + \"ldavis_el7911862767835042658856682\", ldavis_el7911862767835042658856682_data);\n",
       "            })\n",
       "         });\n",
       "}\n",
       "</script>"
      ],
      "text/plain": [
       "<IPython.core.display.HTML object>"
      ]
     },
     "execution_count": 34,
     "metadata": {},
     "output_type": "execute_result"
    }
   ],
   "source": [
    "# Enable the automatic display of visualizations in the Jupyter notebook\n",
    "pyLDAvis.enable_notebook()\n",
    "\n",
    "# Display the visualization\n",
    "pyLDAvis.display(vis_data_speeches)"
   ]
  },
  {
   "cell_type": "code",
   "execution_count": 36,
   "id": "5337ebe6",
   "metadata": {},
   "outputs": [
    {
     "data": {
      "text/html": [
       "\n",
       "<link rel=\"stylesheet\" type=\"text/css\" href=\"https://cdn.jsdelivr.net/gh/bmabey/pyLDAvis@3.4.0/pyLDAvis/js/ldavis.v1.0.0.css\">\n",
       "\n",
       "\n",
       "<div id=\"ldavis_el7911862767872004882908457\" style=\"background-color:white;\"></div>\n",
       "<script type=\"text/javascript\">\n",
       "\n",
       "var ldavis_el7911862767872004882908457_data = {\"mdsDat\": {\"x\": [0.002851158643305943, -0.002851158643305943], \"y\": [0.0, 0.0], \"topics\": [1, 2], \"cluster\": [1, 1], \"Freq\": [51.11723136178292, 48.88276863821708]}, \"tinfo\": {\"Term\": [\"projects\", \"involvement\", \"rest\", \"introduction\", \"commission\", \"spend\", \"efforts\", \"permits\", \"struggles\", \"fashion\", \"nonracial\", \"affordability\", \"guarantee\", \"trying\", \"project\", \"unions\", \"hemp\", \"retrenchment\", \"employed\", \"extension\", \"mbeki\", \"measure\", \"leading\", \"together\", \"provinces\", \"nabo\", \"informed\", \"legislatures\", \"taxi\", \"equitable\", \"nonracial\", \"together\", \"provinces\", \"unions\", \"nabo\", \"sporting\", \"legislatures\", \"vulnerable\", \"retrenchments\", \"commitment\", \"powers\", \"unit\", \"enhanced\", \"break\", \"get\", \"wisdom\", \"deep\", \"bekkersdal\", \"beginning\", \"arise\", \"govern\", \"struggles\", \"movement\", \"attract\", \"postapartheid\", \"taxi\", \"corridor\", \"planned\", \"outside\", \"period\", \"hallowed\", \"israelpalestine\", \"extension\", \"industrialists\", \"elaborate\", \"obligations\", \"met\", \"hemp\", \"system\", \"well\", \"volunteers\", \"combat\", \"experiencing\", \"walk\", \"pledged\", \"doctors\", \"finding\", \"operational\", \"redefining\", \"acceleration\", \"enables\", \"present\", \"parameters\", \"inefficient\", \"secondary\", \"critically\", \"start\", \"look\", \"responsible\", \"participants\", \"investigating\", \"often\", \"must\", \"fourth\", \"involvement\", \"uprising\", \"time\", \"benefit\", \"successes\", \"openness\", \"ago\", \"entities\", \"focusing\", \"certainly\", \"attention\", \"lift\", \"positively\", \"fashion\", \"comfort\", \"efforts\", \"retrenchment\", \"leading\", \"hundreds\", \"guarantee\", \"introduction\", \"affordability\", \"employed\", \"retain\", \"rest\", \"sciences\", \"considering\", \"laid\", \"red\", \"today\", \"projects\", \"promotion\", \"informed\", \"products\", \"else\", \"significant\", \"private\", \"reflect\", \"backlogs\", \"mbeki\", \"require\", \"central\", \"expecting\", \"commission\", \"trying\", \"boost\", \"project\", \"spend\", \"measure\", \"permits\", \"mind\", \"involvement\", \"practices\", \"equitable\", \"effect\", \"strongly\", \"disrupted\", \"forums\", \"certainly\", \"uprising\", \"capacity\", \"claims\", \"consultations\", \"critically\", \"lack\", \"benefit\", \"investigating\", \"premiers\", \"equip\", \"license\", \"initiative\", \"knowledge\", \"building\", \"ago\", \"respect\", \"positively\", \"time\", \"participants\", \"entities\", \"often\", \"start\", \"convey\", \"hemp\", \"improved\", \"inefficient\", \"focusing\", \"responsible\", \"present\", \"enables\"], \"Freq\": [95.0, 285.0, 85.0, 73.0, 112.0, 126.0, 48.0, 118.0, 117.0, 41.0, 50.0, 53.0, 51.0, 82.0, 87.0, 66.0, 180.0, 38.0, 52.0, 113.0, 60.0, 79.0, 35.0, 47.0, 56.0, 57.0, 52.0, 62.0, 83.0, 87.0, 35.064780014463274, 32.16110866331396, 37.23752669658857, 43.879513577524186, 38.17332518141737, 31.258457517403336, 40.93617526465583, 26.410449202859322, 7.526927138742006, 16.35424925990181, 9.723158032036523, 16.34307091753759, 14.075490861831927, 20.605844548292968, 10.698105753334687, 8.509156936250848, 9.589824799679043, 9.589361996920756, 32.4582910334628, 29.08199549027259, 7.379560402151991, 74.60585938324722, 12.794448788474028, 14.951704904977696, 17.11767350551914, 52.82542143442093, 5.197255591158331, 6.276875888831729, 38.66694591884122, 9.507306987108036, 51.32954599759256, 33.20026804619433, 71.41937920101797, 22.466104869581766, 49.03063266055182, 45.4205417637405, 44.15359296320871, 109.56252608878674, 46.13025665888559, 65.2464271657745, 37.797558418301115, 47.990668824709395, 54.97233516118661, 41.839999167294266, 57.59067124665228, 80.2963787156354, 63.96259777597883, 40.66059358729519, 78.90459755365534, 54.8773838657865, 79.77030524727266, 79.53709788738284, 60.902019328412464, 79.30064686976654, 62.92811003560096, 148.5659724201388, 82.71593415110523, 65.8228354821241, 74.11320463552478, 77.68080167767812, 102.12032820057767, 76.80839990158142, 70.00292814820172, 60.67607466032461, 124.91586948105775, 96.61744994463857, 70.69087435234967, 80.76853122039735, 61.50357568434677, 62.53273271232552, 67.3456940158964, 64.82538488534838, 63.0481253714813, 65.95227164064435, 62.28730025200039, 61.96907287544678, 62.07507328381961, 27.871176087492188, 17.710657200600355, 32.22016675614833, 25.45660564755011, 23.198197643033197, 21.6227786210695, 33.29062679158104, 47.24525703789001, 34.25587661105268, 33.08678392910099, 12.640129717578393, 54.319236788899964, 26.4692022268621, 8.320805308281274, 20.020130191741824, 24.26021404423141, 23.178758438275253, 59.968927139552136, 13.496392393591085, 32.44894506389244, 26.11549953189811, 15.582030294981571, 9.257409179482778, 18.693877162232607, 18.65134386091305, 20.74087454647312, 37.4276800782934, 17.560715496068408, 20.627015243779706, 16.459519458007847, 68.2252443072241, 50.067497755235976, 32.85047339293987, 52.80560490233903, 75.33246719923778, 47.57769462694985, 70.06088977190188, 36.533943175625986, 160.9617687005502, 40.98337694439109, 51.25228824382707, 54.76524481135174, 59.07404402821257, 55.460391020656786, 48.25942308891482, 79.42776265195326, 106.56389149240218, 55.88311648636097, 52.41903907625452, 60.06731571468271, 146.57665831531034, 54.08760377276484, 88.51280413714936, 102.93007015543446, 65.90686888942815, 68.82319449273942, 54.39223576061337, 64.7051602372556, 50.036571747666514, 60.075583246776205, 69.79939354006582, 63.60824162751471, 63.1944448493106, 66.57561831464993, 66.50104987122371, 62.22592014791852, 65.68682771948689, 66.63554865379402, 59.77889748185161, 70.83729012696885, 57.650743271453415, 61.57610942663288, 58.924567295123104, 59.969075436091934, 59.702827535959976, 59.53786617250706], \"Total\": [95.0, 285.0, 85.0, 73.0, 112.0, 126.0, 48.0, 118.0, 117.0, 41.0, 50.0, 53.0, 51.0, 82.0, 87.0, 66.0, 180.0, 38.0, 52.0, 113.0, 60.0, 79.0, 35.0, 47.0, 56.0, 57.0, 52.0, 62.0, 83.0, 87.0, 50.97443907425075, 47.52888907718433, 56.05261001925686, 66.303323682067, 57.73565159677133, 47.494191317840134, 62.8734043403127, 40.64255772267836, 11.613682409996546, 25.276353011510928, 15.0294550005627, 25.278147526867407, 21.858963739994145, 32.10405460770342, 16.733618130238966, 13.318970992348621, 15.023047000145606, 15.025289836860743, 50.868884730554655, 45.7332438371661, 11.611684901294844, 117.42836676100124, 20.140127109831162, 23.556677278615986, 26.97435904321945, 83.28443393153655, 8.195576629836035, 9.901496661309746, 61.09243826225732, 15.021918885642421, 81.5489112864017, 52.55264672484673, 113.96213751449633, 35.5013614489065, 78.15750043021268, 73.01807984020101, 71.30789430880483, 180.3998162157556, 74.7097866162582, 107.08702298990883, 61.05459271349743, 78.11696567675307, 90.01157279614281, 67.88399196141064, 95.12664487312996, 135.9658554993562, 107.03667478593648, 66.16626221818264, 135.91010258046674, 91.68356550384985, 139.3081714197797, 139.2399254233428, 103.58799811470774, 140.87675629639944, 108.66750839722421, 295.14263073544913, 149.35148280489926, 115.43626468006826, 134.0822800716167, 144.18185154890182, 205.05039835601212, 142.4952276210683, 128.92318248562583, 106.90938391626423, 285.87763818160795, 203.18134143704074, 137.2664926669996, 169.2813353575467, 111.9493006748151, 116.97844791260195, 137.14508755596222, 127.05130503326691, 121.9726926666044, 145.3800342925976, 118.63159426102953, 116.95534132131591, 125.26951813313022, 41.82918450951705, 26.65251856217595, 48.583796454505205, 38.46543953504286, 35.090175399060996, 33.42198421231126, 51.992836788697694, 73.95080155622554, 53.68941188830698, 52.00816374345643, 19.932556394831956, 85.7989285630712, 41.87934516742945, 13.177896833679911, 31.7514661219384, 38.51010966208865, 36.82540641053701, 95.9373889043232, 21.624668313557315, 52.03222974464242, 41.90389690136797, 25.003944115557864, 14.87306996379706, 30.071265904382976, 30.077616851130756, 33.4662962631644, 60.48571371414319, 28.39122564550921, 33.454230952150695, 26.701104616849168, 112.93097953779466, 82.4927189874155, 53.7461940046601, 87.58592518024602, 126.52360528780564, 79.15259938603897, 118.06106664909044, 60.53624951365178, 285.87763818160795, 69.01620423541212, 87.65330662780636, 94.43311113613031, 102.92376053879306, 96.1456157299707, 82.57259527024549, 145.3800342925976, 203.18134143704074, 97.84143162303744, 91.06453614684256, 106.34316220602528, 295.14263073544913, 94.42604464073979, 169.2813353575467, 205.05039835601212, 119.9410471293912, 128.51613717286583, 96.17351632314761, 121.74183800551288, 87.68308039172004, 111.55341674037317, 137.14508755596222, 125.2596945045479, 125.26951813313022, 137.2664926669996, 144.18185154890182, 127.05130503326691, 142.4952276210683, 149.35148280489926, 118.4699699200132, 180.3998162157556, 111.63909030772317, 140.87675629639944, 121.9726926666044, 134.0822800716167, 139.2399254233428, 139.3081714197797], \"Category\": [\"Default\", \"Default\", \"Default\", \"Default\", \"Default\", \"Default\", \"Default\", \"Default\", \"Default\", \"Default\", \"Default\", \"Default\", \"Default\", \"Default\", \"Default\", \"Default\", \"Default\", \"Default\", \"Default\", \"Default\", \"Default\", \"Default\", \"Default\", \"Default\", \"Default\", \"Default\", \"Default\", \"Default\", \"Default\", \"Default\", \"Topic1\", \"Topic1\", \"Topic1\", \"Topic1\", \"Topic1\", \"Topic1\", \"Topic1\", \"Topic1\", \"Topic1\", \"Topic1\", \"Topic1\", \"Topic1\", \"Topic1\", \"Topic1\", \"Topic1\", \"Topic1\", \"Topic1\", \"Topic1\", \"Topic1\", \"Topic1\", \"Topic1\", \"Topic1\", \"Topic1\", \"Topic1\", \"Topic1\", \"Topic1\", \"Topic1\", \"Topic1\", \"Topic1\", \"Topic1\", \"Topic1\", \"Topic1\", \"Topic1\", \"Topic1\", \"Topic1\", \"Topic1\", \"Topic1\", \"Topic1\", \"Topic1\", \"Topic1\", \"Topic1\", \"Topic1\", \"Topic1\", \"Topic1\", \"Topic1\", \"Topic1\", \"Topic1\", \"Topic1\", \"Topic1\", \"Topic1\", \"Topic1\", \"Topic1\", \"Topic1\", \"Topic1\", \"Topic1\", \"Topic1\", \"Topic1\", \"Topic1\", \"Topic1\", \"Topic1\", \"Topic1\", \"Topic1\", \"Topic1\", \"Topic1\", \"Topic1\", \"Topic1\", \"Topic1\", \"Topic1\", \"Topic1\", \"Topic1\", \"Topic1\", \"Topic1\", \"Topic1\", \"Topic1\", \"Topic1\", \"Topic1\", \"Topic1\", \"Topic2\", \"Topic2\", \"Topic2\", \"Topic2\", \"Topic2\", \"Topic2\", \"Topic2\", \"Topic2\", \"Topic2\", \"Topic2\", \"Topic2\", \"Topic2\", \"Topic2\", \"Topic2\", \"Topic2\", \"Topic2\", \"Topic2\", \"Topic2\", \"Topic2\", \"Topic2\", \"Topic2\", \"Topic2\", \"Topic2\", \"Topic2\", \"Topic2\", \"Topic2\", \"Topic2\", \"Topic2\", \"Topic2\", \"Topic2\", \"Topic2\", \"Topic2\", \"Topic2\", \"Topic2\", \"Topic2\", \"Topic2\", \"Topic2\", \"Topic2\", \"Topic2\", \"Topic2\", \"Topic2\", \"Topic2\", \"Topic2\", \"Topic2\", \"Topic2\", \"Topic2\", \"Topic2\", \"Topic2\", \"Topic2\", \"Topic2\", \"Topic2\", \"Topic2\", \"Topic2\", \"Topic2\", \"Topic2\", \"Topic2\", \"Topic2\", \"Topic2\", \"Topic2\", \"Topic2\", \"Topic2\", \"Topic2\", \"Topic2\", \"Topic2\", \"Topic2\", \"Topic2\", \"Topic2\", \"Topic2\", \"Topic2\", \"Topic2\", \"Topic2\", \"Topic2\", \"Topic2\", \"Topic2\", \"Topic2\", \"Topic2\"], \"logprob\": [30.0, 29.0, 28.0, 27.0, 26.0, 25.0, 24.0, 23.0, 22.0, 21.0, 20.0, 19.0, 18.0, 17.0, 16.0, 15.0, 14.0, 13.0, 12.0, 11.0, 10.0, 9.0, 8.0, 7.0, 6.0, 5.0, 4.0, 3.0, 2.0, 1.0, -7.367, -7.4534, -7.3069, -7.1428, -7.2821, -7.4819, -7.2122, -7.6504, -8.9057, -8.1297, -8.6497, -8.1304, -8.2798, -7.8986, -8.5541, -8.7831, -8.6635, -8.6635, -7.4442, -7.5541, -8.9255, -6.612, -8.3752, -8.2194, -8.0841, -6.9572, -9.2761, -9.0873, -7.2692, -8.6721, -6.9859, -7.4216, -6.6556, -7.8122, -7.0318, -7.1082, -7.1365, -6.2277, -7.0927, -6.746, -7.292, -7.0532, -6.9174, -7.1904, -6.8708, -6.5385, -6.7659, -7.2189, -6.556, -6.9191, -6.5451, -6.548, -6.8149, -6.551, -6.7822, -5.9232, -6.5088, -6.7372, -6.6186, -6.5716, -6.2981, -6.5829, -6.6757, -6.8187, -6.0966, -6.3534, -6.6659, -6.5326, -6.8051, -6.7885, -6.7144, -6.7525, -6.7803, -6.7353, -6.7924, -6.7976, -6.7959, -7.5519, -8.0053, -7.4069, -7.6425, -7.7354, -7.8058, -7.3742, -7.0242, -7.3456, -7.3804, -8.3426, -6.8846, -7.6035, -8.7607, -7.8828, -7.6907, -7.7363, -6.7857, -8.2771, -7.3998, -7.617, -8.1334, -8.6541, -7.9513, -7.9536, -7.8474, -7.2571, -8.0138, -7.8529, -8.0786, -6.6567, -6.9661, -7.3875, -6.9129, -6.5576, -7.0171, -6.6301, -7.2813, -5.7983, -7.1663, -6.9427, -6.8765, -6.8007, -6.8638, -7.0029, -6.5047, -6.2108, -6.8562, -6.9202, -6.784, -5.892, -6.8889, -6.3964, -6.2455, -6.6913, -6.648, -6.8833, -6.7097, -6.9668, -6.7839, -6.6339, -6.7268, -6.7333, -6.6812, -6.6823, -6.7487, -6.6946, -6.6803, -6.7889, -6.6191, -6.8251, -6.7592, -6.8032, -6.7857, -6.7901, -6.7929], \"loglift\": [30.0, 29.0, 28.0, 27.0, 26.0, 25.0, 24.0, 23.0, 22.0, 21.0, 20.0, 19.0, 18.0, 17.0, 16.0, 15.0, 14.0, 13.0, 12.0, 11.0, 10.0, 9.0, 8.0, 7.0, 6.0, 5.0, 4.0, 3.0, 2.0, 1.0, 0.2969, 0.2805, 0.2621, 0.2583, 0.2573, 0.2527, 0.2419, 0.24, 0.2374, 0.2357, 0.2355, 0.2349, 0.2309, 0.2276, 0.2237, 0.223, 0.2222, 0.222, 0.2218, 0.2183, 0.2178, 0.2174, 0.2173, 0.2165, 0.2163, 0.2158, 0.2156, 0.2152, 0.2136, 0.2136, 0.2081, 0.2118, 0.2038, 0.2135, 0.2048, 0.1963, 0.1917, 0.1724, 0.1889, 0.1756, 0.1915, 0.1838, 0.1779, 0.1871, 0.1692, 0.1444, 0.1562, 0.1841, 0.1273, 0.1578, 0.1135, 0.1111, 0.1399, 0.0964, 0.1247, -0.0154, 0.0802, 0.1093, 0.0782, 0.0526, -0.0261, 0.0531, 0.0604, 0.1046, -0.1569, -0.0723, 0.0074, -0.0689, 0.0721, 0.0447, -0.0402, -0.0018, 0.0111, -0.1194, 0.0268, 0.0359, -0.0311, 0.3097, 0.307, 0.305, 0.303, 0.3019, 0.2803, 0.2699, 0.2677, 0.2664, 0.2635, 0.2603, 0.2586, 0.2569, 0.256, 0.2545, 0.2537, 0.2528, 0.2459, 0.2443, 0.2435, 0.2429, 0.2428, 0.2416, 0.2404, 0.2379, 0.2373, 0.2357, 0.2353, 0.2322, 0.2319, 0.2118, 0.2164, 0.2234, 0.2097, 0.1972, 0.2067, 0.1939, 0.2107, 0.1413, 0.1946, 0.1791, 0.1709, 0.1605, 0.1656, 0.1787, 0.1112, 0.0704, 0.1557, 0.1634, 0.1445, 0.0158, 0.1585, 0.0673, 0.0265, 0.117, 0.0912, 0.1458, 0.0837, 0.1548, 0.0968, 0.0403, 0.0381, 0.0315, -0.0078, -0.0581, 0.0019, -0.0587, -0.0913, 0.0317, -0.219, 0.0549, -0.1119, -0.0118, -0.0889, -0.1311, -0.1343]}, \"token.table\": {\"Topic\": [1, 2, 1, 2, 1, 2, 1, 2, 1, 2, 1, 2, 1, 2, 1, 2, 1, 2, 1, 2, 1, 2, 1, 2, 1, 2, 1, 2, 1, 2, 1, 2, 1, 2, 1, 2, 1, 2, 1, 2, 1, 2, 1, 2, 1, 2, 1, 2, 1, 2, 1, 2, 1, 2, 1, 2, 1, 2, 1, 2, 1, 2, 1, 2, 1, 2, 1, 2, 1, 2, 1, 2, 1, 2, 1, 2, 1, 2, 1, 2, 1, 2, 1, 2, 1, 2, 1, 2, 1, 2, 1, 2, 1, 2, 1, 2, 1, 2, 1, 2, 1, 2, 1, 2, 1, 2, 1, 2, 1, 2, 1, 2, 1, 2, 1, 2, 1, 2, 1, 2, 1, 2, 1, 2, 1, 2, 1, 2, 1, 2, 1, 2, 1, 2, 1, 2, 1, 2, 1, 2, 1, 2, 1, 2, 1, 2, 1, 2, 1, 2, 1, 2, 1, 2, 1, 2, 1, 2, 1, 2, 1, 2, 1, 2, 1, 2, 1, 2, 1, 2, 1, 2, 1, 2, 1, 2, 1, 2, 1, 2, 1, 2, 1, 2, 1, 2, 1, 2, 1, 2, 1, 2, 1, 2, 1, 2, 1, 2, 1, 2, 1, 2, 1, 2, 1, 2, 1, 2, 1, 2, 1, 2, 1, 2, 1, 2, 1, 2, 1, 2, 1, 2, 1, 2, 1, 2, 1, 2, 1, 2, 1, 2, 1, 2, 1, 2, 1, 2, 1, 2, 1, 2, 1, 2, 1, 2, 1, 2, 1, 2, 1, 2, 1, 2, 1, 2, 1, 2, 1, 2, 1, 2, 1, 2, 1, 2, 1, 2], \"Freq\": [0.5998894098167519, 0.40356196660399674, 0.35388728115567253, 0.6332719768048878, 0.4885337214332272, 0.510408365676506, 0.6341120280742589, 0.3717208440435311, 0.5226263744174177, 0.4720496285060547, 0.636762130014683, 0.3820572780088098, 0.3884505144451496, 0.627496984872934, 0.629068244163392, 0.353850887341908, 0.6655445657672129, 0.33277228288360644, 0.4784933898880007, 0.5257519962966921, 0.3907253413735525, 0.6139969650155825, 0.6541229840470374, 0.3426358487865434, 0.4571800800928959, 0.5378589177563481, 0.42926600013189925, 0.5723546668425323, 0.3885906096180716, 0.6277232924599618, 0.45398255902984447, 0.5434033661114804, 0.42826770607069337, 0.5710236080942578, 0.6144631909875166, 0.38403949436719786, 0.33767915699990897, 0.6753583139998179, 0.39847347631426355, 0.6021376975415538, 0.6330027117722858, 0.3560640253719108, 0.37942321624654546, 0.6070771459944728, 0.43256189721800176, 0.5642111702843502, 0.49801650190199886, 0.5064574595613548, 0.6100851991057562, 0.36605111946345376, 0.5048406583241308, 0.4980642736486392, 0.6656439269545704, 0.3328219634772852, 0.4264365014328927, 0.5720489653368073, 0.5883830150311437, 0.41186811052180056, 0.4235802412814494, 0.5824228317619929, 0.329327906990198, 0.658655813980396, 0.6269391898446446, 0.37104564296927944, 0.35994321369483673, 0.6398990465685986, 0.36532726080702177, 0.6345157687700904, 0.5742663849842277, 0.4306997887381708, 0.640469519348027, 0.3659825824845868, 0.5116043474168211, 0.4879918390745063, 0.4668674403066953, 0.5368975563526996, 0.4107089781890747, 0.5818377191011892, 0.3745163409340643, 0.5992261454945028, 0.6110325404996908, 0.38883888940889416, 0.6230139373348327, 0.3773183000760254, 0.3346945479373306, 0.6693890958746612, 0.5979258990247419, 0.40173146340724847, 0.516509053155052, 0.4837148275579059, 0.41175888790613907, 0.5813066652792551, 0.5705766675054238, 0.430270929594254, 0.6573593298464325, 0.3585596344616905, 0.6028410225995209, 0.34448058434258333, 0.36543495553468736, 0.6347028175076149, 0.6253915496294831, 0.36787738213499, 0.6097567187565289, 0.3935702457428505, 0.3590451100620083, 0.6582493684470152, 0.48370154084159794, 0.5195312846076423, 0.6196945441560703, 0.36618313972858696, 0.5607738428743131, 0.44010099061022045, 0.38437714659074995, 0.6150034345451999, 0.46820387250452755, 0.5339166967156893, 0.36510760440468826, 0.6355576817414944, 0.4974386824789572, 0.5023155323071823, 0.43725000946241177, 0.5631780121875863, 0.6279417318937374, 0.3615422092721518, 0.43337893502642455, 0.5702354408242428, 0.4236119404576027, 0.5718761196177636, 0.3779353039609312, 0.6298921732682188, 0.34197606206098125, 0.655454118950214, 0.6521040244310728, 0.34990947652399035, 0.43671066220432236, 0.561485137119843, 0.530116874522772, 0.4702649693347171, 0.5717440717864449, 0.4331394483230643, 0.3802550815337735, 0.6117146963804182, 0.4042823640438042, 0.6064235460657063, 0.6170424807308753, 0.3786397040848553, 0.3964566717101901, 0.6112040355532098, 0.6454775547893243, 0.3475648371942516, 0.5429589826314176, 0.4576368567893377, 0.6581721856262036, 0.3464064134874756, 0.6866186393737075, 0.31388280657083767, 0.6162857212690588, 0.3834666710118588, 0.540368974354446, 0.46317340658952516, 0.5385607445148286, 0.4616234952984245, 0.6196511428256727, 0.39294950520652416, 0.6383768778810398, 0.360110033676484, 0.5888713085511306, 0.4151060043885019, 0.5409834813610014, 0.46469093911778325, 0.6656939154130138, 0.3994163492478083, 0.40656925574515634, 0.5929134979616864, 0.6059689969340791, 0.40397933128938607, 0.6097135043221, 0.3994674683489621, 0.4949328529715384, 0.5029156409226923, 0.6302281352732751, 0.37072243251369125, 0.6653601211504743, 0.33268006057523714, 0.40570182481338546, 0.5940633863338859, 0.4502211819256951, 0.5502703334647384, 0.574547851535896, 0.430910888651922, 0.36579770319535226, 0.6318323964283358, 0.38182606352006543, 0.6204673532201063, 0.3996075845288192, 0.605120056572212, 0.3752447342078719, 0.6254078903464532, 0.3699478708297459, 0.6011652900983371, 0.6600941506075927, 0.3389672665282233, 0.3635409019305475, 0.6232129747380815, 0.5812665762151668, 0.4193948714463861, 0.36572046430555083, 0.6316989838004969, 0.38744364675710746, 0.6339986946934486, 0.4949716686220157, 0.5109384966420807, 0.5518999226480542, 0.4474864237686926, 0.3613098732021083, 0.6293784888036724, 0.3511842566172263, 0.6521993337177059, 0.33796572084290666, 0.6499340785440512, 0.6888426700142887, 0.34442133500714434, 0.35817178945925476, 0.620831101729375, 0.5797501104903336, 0.42330960448500554, 0.403413687598106, 0.6051205313971589, 0.40308683809625356, 0.5927747619062552, 0.6527113977484557, 0.336883302063719, 0.5557360291388905, 0.44860619219645376, 0.4275008974571613, 0.5732398397721027, 0.6386872445620014, 0.36618068688221417, 0.5538221286445959, 0.44663074890693216, 0.6157158530819518, 0.3881686899864479, 0.6363734193543096, 0.3602113694458356, 0.5172420349680079, 0.4881016386317821, 0.3801723148395212, 0.624568802950642, 0.6732747308281021, 0.3155975300756728, 0.3879130230254829, 0.606114098477317, 0.6636168076729559, 0.33180840383647797, 0.6329577744173723, 0.356038748109772, 0.47740604188331504, 0.5266231596032444, 0.6223938005502293, 0.3767120371751388, 0.6397235178309686, 0.34446650960129077, 0.6187025657518098, 0.38300635022731083, 0.6069829768834377, 0.3922043850631444, 0.6757278775642841, 0.3754043764246022], \"Term\": [\"acceleration\", \"acceleration\", \"affordability\", \"affordability\", \"ago\", \"ago\", \"arise\", \"arise\", \"attention\", \"attention\", \"attract\", \"attract\", \"backlogs\", \"backlogs\", \"beginning\", \"beginning\", \"bekkersdal\", \"bekkersdal\", \"benefit\", \"benefit\", \"boost\", \"boost\", \"break\", \"break\", \"building\", \"building\", \"capacity\", \"capacity\", \"central\", \"central\", \"certainly\", \"certainly\", \"claims\", \"claims\", \"combat\", \"combat\", \"comfort\", \"comfort\", \"commission\", \"commission\", \"commitment\", \"commitment\", \"considering\", \"considering\", \"consultations\", \"consultations\", \"convey\", \"convey\", \"corridor\", \"corridor\", \"critically\", \"critically\", \"deep\", \"deep\", \"disrupted\", \"disrupted\", \"doctors\", \"doctors\", \"effect\", \"effect\", \"efforts\", \"efforts\", \"elaborate\", \"elaborate\", \"else\", \"else\", \"employed\", \"employed\", \"enables\", \"enables\", \"enhanced\", \"enhanced\", \"entities\", \"entities\", \"equip\", \"equip\", \"equitable\", \"equitable\", \"expecting\", \"expecting\", \"experiencing\", \"experiencing\", \"extension\", \"extension\", \"fashion\", \"fashion\", \"finding\", \"finding\", \"focusing\", \"focusing\", \"forums\", \"forums\", \"fourth\", \"fourth\", \"get\", \"get\", \"govern\", \"govern\", \"guarantee\", \"guarantee\", \"hallowed\", \"hallowed\", \"hemp\", \"hemp\", \"hundreds\", \"hundreds\", \"improved\", \"improved\", \"industrialists\", \"industrialists\", \"inefficient\", \"inefficient\", \"informed\", \"informed\", \"initiative\", \"initiative\", \"introduction\", \"introduction\", \"investigating\", \"investigating\", \"involvement\", \"involvement\", \"israelpalestine\", \"israelpalestine\", \"knowledge\", \"knowledge\", \"lack\", \"lack\", \"laid\", \"laid\", \"leading\", \"leading\", \"legislatures\", \"legislatures\", \"license\", \"license\", \"lift\", \"lift\", \"look\", \"look\", \"mbeki\", \"mbeki\", \"measure\", \"measure\", \"met\", \"met\", \"mind\", \"mind\", \"movement\", \"movement\", \"must\", \"must\", \"nabo\", \"nabo\", \"nonracial\", \"nonracial\", \"obligations\", \"obligations\", \"often\", \"often\", \"openness\", \"openness\", \"operational\", \"operational\", \"outside\", \"outside\", \"parameters\", \"parameters\", \"participants\", \"participants\", \"period\", \"period\", \"permits\", \"permits\", \"planned\", \"planned\", \"pledged\", \"pledged\", \"positively\", \"positively\", \"postapartheid\", \"postapartheid\", \"powers\", \"powers\", \"practices\", \"practices\", \"premiers\", \"premiers\", \"present\", \"present\", \"private\", \"private\", \"products\", \"products\", \"project\", \"project\", \"projects\", \"projects\", \"promotion\", \"promotion\", \"provinces\", \"provinces\", \"red\", \"red\", \"redefining\", \"redefining\", \"reflect\", \"reflect\", \"require\", \"require\", \"respect\", \"respect\", \"responsible\", \"responsible\", \"rest\", \"rest\", \"retain\", \"retain\", \"retrenchment\", \"retrenchment\", \"retrenchments\", \"retrenchments\", \"sciences\", \"sciences\", \"secondary\", \"secondary\", \"significant\", \"significant\", \"spend\", \"spend\", \"sporting\", \"sporting\", \"start\", \"start\", \"strongly\", \"strongly\", \"struggles\", \"struggles\", \"successes\", \"successes\", \"system\", \"system\", \"taxi\", \"taxi\", \"time\", \"time\", \"today\", \"today\", \"together\", \"together\", \"trying\", \"trying\", \"unions\", \"unions\", \"unit\", \"unit\", \"uprising\", \"uprising\", \"volunteers\", \"volunteers\", \"vulnerable\", \"vulnerable\", \"walk\", \"walk\", \"well\", \"well\", \"wisdom\", \"wisdom\"]}, \"R\": 30, \"lambda.step\": 0.01, \"plot.opts\": {\"xlab\": \"PC1\", \"ylab\": \"PC2\"}, \"topic.order\": [1, 2]};\n",
       "\n",
       "function LDAvis_load_lib(url, callback){\n",
       "  var s = document.createElement('script');\n",
       "  s.src = url;\n",
       "  s.async = true;\n",
       "  s.onreadystatechange = s.onload = callback;\n",
       "  s.onerror = function(){console.warn(\"failed to load library \" + url);};\n",
       "  document.getElementsByTagName(\"head\")[0].appendChild(s);\n",
       "}\n",
       "\n",
       "if(typeof(LDAvis) !== \"undefined\"){\n",
       "   // already loaded: just create the visualization\n",
       "   !function(LDAvis){\n",
       "       new LDAvis(\"#\" + \"ldavis_el7911862767872004882908457\", ldavis_el7911862767872004882908457_data);\n",
       "   }(LDAvis);\n",
       "}else if(typeof define === \"function\" && define.amd){\n",
       "   // require.js is available: use it to load d3/LDAvis\n",
       "   require.config({paths: {d3: \"https://d3js.org/d3.v5\"}});\n",
       "   require([\"d3\"], function(d3){\n",
       "      window.d3 = d3;\n",
       "      LDAvis_load_lib(\"https://cdn.jsdelivr.net/gh/bmabey/pyLDAvis@3.4.0/pyLDAvis/js/ldavis.v3.0.0.js\", function(){\n",
       "        new LDAvis(\"#\" + \"ldavis_el7911862767872004882908457\", ldavis_el7911862767872004882908457_data);\n",
       "      });\n",
       "    });\n",
       "}else{\n",
       "    // require.js not available: dynamically load d3 & LDAvis\n",
       "    LDAvis_load_lib(\"https://d3js.org/d3.v5.js\", function(){\n",
       "         LDAvis_load_lib(\"https://cdn.jsdelivr.net/gh/bmabey/pyLDAvis@3.4.0/pyLDAvis/js/ldavis.v3.0.0.js\", function(){\n",
       "                 new LDAvis(\"#\" + \"ldavis_el7911862767872004882908457\", ldavis_el7911862767872004882908457_data);\n",
       "            })\n",
       "         });\n",
       "}\n",
       "</script>"
      ],
      "text/plain": [
       "<IPython.core.display.HTML object>"
      ]
     },
     "execution_count": 35,
     "metadata": {},
     "output_type": "execute_result"
    }
   ],
   "source": [
    "# Display the visualization\n",
    "pyLDAvis.display(vis_data_sentences)\n"
   ]
  },
  {
   "cell_type": "code",
   "execution_count": 37,
   "id": "cfe69bba",
   "metadata": {},
   "outputs": [],
   "source": [
    "import tomotopy as tp\n",
    "import matplotlib.pyplot as plt\n",
    "\n",
    "# Function to calculate coherence scores\n",
    "def calculate_coherence(model, metric='u_mass'):\n",
    "    coherence = tp.coherence.Coherence(model, coherence=metric)\n",
    "    return coherence.get_score()\n",
    "\n",
    "# Prepare the data for the CTM model\n",
    "tokenized_docs = [text.split() for text in sona_speeches_clean['speech']]  # Ensure the texts are tokenized\n",
    "tokenized_sentences = [text.split() for text in sona_sentences_alltogether['sentence']]  # Ensure the texts are tokenized\n",
    "\n",
    "# Define the range of topic numbers you want to test\n",
    "topic_numbers = range(2, 12, 1)  # for example from 2 to 20 by step of 2\n",
    "\n",
    "# Store coherence scores for plotting\n",
    "coherence_scores = []\n",
    "coherence_scores_sentences = []\n",
    "\n",
    "for k in topic_numbers:\n",
    "    # Initialize CTM with the current number of topics\n",
    "    ctm = tp.CTModel(k=k)\n",
    "    ctms = tp.CTModel(k=k)\n",
    "\n",
    "    # Add documents to the model\n",
    "    for tokens in tokenized_docs:\n",
    "        ctm.add_doc(tokens)\n",
    "\n",
    "    # Add sentences to the model\n",
    "    for tokens in tokenized_sentences:\n",
    "        ctms.add_doc(tokens)    \n",
    "\n",
    "    # Train the model\n",
    "    ctm.train(0)\n",
    "    ctms.train(0)\n",
    "\n",
    "    for _ in range(100):\n",
    "        ctm.train(10)\n",
    "        ctms.train(10)\n",
    "\n",
    "    # Calculate and store the coherence score\n",
    "    score = calculate_coherence(ctm)\n",
    "    score_sentences = calculate_coherence(ctms)\n",
    "\n",
    "    coherence_scores.append(score)\n",
    "    coherence_scores_sentences.append(score_sentences)\n",
    "\n",
    "    #(f\"Topics: {k}, Coherence Score: {score}\")\n"
   ]
  },
  {
   "cell_type": "code",
   "execution_count": 38,
   "id": "1e90e409",
   "metadata": {},
   "outputs": [],
   "source": [
    "# Plot the speech coherence scores\n",
    "plt.figure(figsize=(10, 6))\n",
    "plt.plot(topic_numbers, coherence_scores,  color='midnightblue')\n",
    "# plt.title('Coherence Scores by Number of Topics')\n",
    "plt.xlabel('Number of Topics')\n",
    "plt.ylabel('Coherence Score')\n",
    "plt.xticks(topic_numbers)\n",
    "plt.savefig(f'ctm_plots/words_coherence_plots.png', bbox_inches='tight')\n",
    "plt.close()\n",
    "\n",
    "# Plot the sentence coherence scores\n",
    "plt.figure(figsize=(10, 6))\n",
    "plt.plot(topic_numbers, coherence_scores_sentences, color='darkgray')\n",
    "# plt.title('Coherence Scores by Number of Topics')\n",
    "plt.xlabel('Number of Topics')\n",
    "plt.ylabel('Coherence Score')\n",
    "plt.xticks(topic_numbers)\n",
    "plt.savefig(f'ctm_plots/sentences_coherence_plots.png', bbox_inches='tight')\n",
    "plt.close()\n"
   ]
  },
  {
   "cell_type": "code",
   "execution_count": 39,
   "id": "cb634505",
   "metadata": {},
   "outputs": [],
   "source": [
    "# Train the models with the optimal number of topics\n",
    "ctm = tp.CTModel(k=2)\n",
    "ctms = tp.CTModel(k=2)\n",
    "\n",
    "# Add documents to the model\n",
    "for tokens in tokenized_docs:\n",
    "    ctm.add_doc(tokens)\n",
    "\n",
    "# Add sentences to the model\n",
    "for tokens in tokenized_sentences:\n",
    "    ctms.add_doc(tokens)\n",
    "\n",
    "# Train the model\n",
    "ctm.train(0)\n",
    "ctms.train(0)\n",
    "\n",
    "for _ in range(100):\n",
    "    ctm.train(10)\n",
    "    ctms.train(10)"
   ]
  },
  {
   "cell_type": "code",
   "execution_count": 40,
   "id": "945c3112",
   "metadata": {},
   "outputs": [],
   "source": [
    "# Function to plot the top words for one topic\n",
    "def plot_top_words_for_topic(model, modtype, topic_num, top_n=10):\n",
    "    # Extract the top words for this topic\n",
    "    top_words = model.get_topic_words(topic_num, top_n=top_n)\n",
    "    words, weights = zip(*top_words)\n",
    "\n",
    "    # Create a bar chart for the top words in this topic\n",
    "    plt.figure(figsize=(10, 6))\n",
    "    plt.barh(words, weights, color='lightsteelblue')\n",
    "    plt.xlabel('Weight')\n",
    "    plt.gca().invert_yaxis()  # Highest weights on top\n",
    "    plt.savefig(f'ctm_plots/{modtype}_{topic_num+1}.png', bbox_inches='tight')\n",
    "    plt.close()\n",
    "\n",
    "# Plot the top words for each topic for the CTModel of documents\n",
    "for k in range(ctm.k):\n",
    "    plot_top_words_for_topic(ctm, 'words', k)\n",
    "\n",
    "# Plot the top words for each topic for the CTModel of sentences\n",
    "for k in range(ctms.k):\n",
    "    plot_top_words_for_topic(ctms, 'sentences', k)"
   ]
  },
  {
   "cell_type": "code",
   "execution_count": 41,
   "id": "77bb011a",
   "metadata": {},
   "outputs": [],
   "source": [
    "# Note that ATM only works for BoW. Raw word counts (BoW) is standard because these models are based on the assumption that the data is generated from a multinomial distribution, which does not hold with TF-IDF weights.\n",
    "\n",
    "from gensim.models import AuthorTopicModel\n",
    "from gensim.models.coherencemodel import CoherenceModel\n",
    "import matplotlib.pyplot as plt\n",
    "from gensim.utils import simple_preprocess\n",
    "from gensim import corpora\n",
    "\n",
    "texts = sona_speeches_clean['speech']\n",
    "sentences = sona_sentences_alltogether['sentence']\n",
    "\n",
    "# Further process tokens using gensim's simple_preprocess\n",
    "tokenized_texts = [simple_preprocess(doc, deacc=True) for doc in texts]  # deacc=True removes punctuations\n",
    "tokenized_sentences = [simple_preprocess(doc, deacc=True) for doc in sentences]  # deacc=True removes punctuations\n",
    "\n",
    "# Create a Gensim dictionary from the tokenized documents\n",
    "dictionary = corpora.Dictionary(tokenized_texts)\n",
    "dictionary.filter_extremes(no_below=3, no_above=0.7)\n",
    "\n",
    "dict_sentences = corpora.Dictionary(tokenized_sentences)\n",
    "dict_sentences.filter_extremes(no_below=3, no_above=0.7)\n",
    "\n",
    "# Create a BOW corpus\n",
    "bow_corpus = [dictionary.doc2bow(text) for text in tokenized_texts]\n",
    "bow_corpus_sentences = [dict_sentences.doc2bow(text) for text in tokenized_sentences]\n",
    "\n",
    "# Prepare the data for the AuthorTopicModel\n",
    "# Create a mapping of authors to documents\n",
    "author2doc = {author: [] for author in sona_speeches_clean['president'].unique()}\n",
    "for i, row in sona_speeches_clean.iterrows():\n",
    "    author2doc[row['president']].append(i)\n",
    "\n",
    "# Create a mapping of authors to sentences\n",
    "author2sent = {author: [] for author in sona_sentences_alltogether['president'].unique()}\n",
    "for i, row in sona_sentences_alltogether.iterrows():\n",
    "    author2sent[row['president']].append(i)\n",
    "\n",
    "# Define the range of topic numbers you want to test\n",
    "topic_numbers = range(2, 12, 1)  # for example from 2 to 20 by step of 2\n",
    "\n",
    "# Store coherence scores for plotting\n",
    "coherence_scores = []\n",
    "coherence_scores_sentences = []\n",
    "\n",
    "for num_topics in topic_numbers:\n",
    "    # Author-Topic LDA model with the current number of topics\n",
    "    author_topic_model = AuthorTopicModel(corpus=bow_corpus, author2doc=author2doc, id2word=dictionary, num_topics=num_topics)\n",
    "    author_topic_model_sentences = AuthorTopicModel(corpus=bow_corpus_sentences, author2doc=author2sent, id2word=dict_sentences, num_topics=num_topics)\n",
    "\n",
    "    # Train the model\n",
    "    author_topic_model.update(bow_corpus, author2doc=author2doc)\n",
    "    author_topic_model_sentences.update(bow_corpus_sentences, author2doc=author2sent)\n",
    "\n",
    "    # Compute coherence score\n",
    "    cm = CoherenceModel(model=author_topic_model, texts=tokenized_docs, dictionary=dictionary, coherence='u_mass')\n",
    "    cm_sentences = CoherenceModel(model=author_topic_model_sentences, texts=tokenized_sentences, dictionary=dict_sentences, coherence='u_mass')\n",
    "\n",
    "    coherence = cm.get_coherence()\n",
    "    coherence_sentences = cm_sentences.get_coherence()\n",
    "\n",
    "    coherence_scores.append(coherence)\n",
    "    coherence_scores_sentences.append(coherence_sentences)\n",
    "\n",
    "    # print(f\"Num Topics: {num_topics}, Coherence Score: {coherence}\")"
   ]
  },
  {
   "cell_type": "code",
   "execution_count": 42,
   "id": "f709d30a",
   "metadata": {},
   "outputs": [],
   "source": [
    "# Plot the speech coherence scores\n",
    "plt.figure(figsize=(10, 6))\n",
    "plt.plot(topic_numbers, coherence_scores,  color='midnightblue')\n",
    "plt.title('Coherence Scores by Number of Topics')\n",
    "plt.xlabel('Number of Topics')\n",
    "plt.ylabel('Coherence Score')\n",
    "plt.xticks(topic_numbers)\n",
    "plt.savefig(f'atm_plots/words_coherence_plots.png', bbox_inches='tight')\n",
    "plt.close()\n",
    "\n",
    "# Plot the sentence coherence scores\n",
    "plt.figure(figsize=(10, 6))\n",
    "plt.plot(topic_numbers, coherence_scores_sentences, color='darkgray')\n",
    "plt.title('Coherence Scores by Number of Topics')\n",
    "plt.xlabel('Number of Topics')\n",
    "plt.ylabel('Coherence Score')\n",
    "plt.xticks(topic_numbers)\n",
    "plt.savefig(f'atm_plots/sentences_coherence_plots.png', bbox_inches='tight')\n",
    "plt.close()"
   ]
  },
  {
   "cell_type": "code",
   "execution_count": 43,
   "id": "a924c871",
   "metadata": {},
   "outputs": [],
   "source": [
    "# Author-Topic LDA model with the current number of topics\n",
    "author_topic_model = AuthorTopicModel(corpus=bow_corpus, author2doc=author2doc, id2word=dictionary, num_topics=2)\n",
    "author_topic_model_sentences = AuthorTopicModel(corpus=bow_corpus_sentences, author2doc=author2sent, id2word=dict_sentences, num_topics=2)\n",
    "\n",
    "# Train the model\n",
    "author_topic_model.update(bow_corpus, author2doc=author2doc)\n",
    "author_topic_model_sentences.update(bow_corpus_sentences, author2doc=author2sent)\n",
    "\n",
    "# Function to plot the top words for one topic in an AuthorTopicModel\n",
    "def plot_top_words_for_author_topic_model(model, modtype, topic_num, top_n=10):\n",
    "    # Extract the top words for this topic\n",
    "    top_words = model.get_topic_terms(topic_num, topn=top_n)\n",
    "    words, weights = zip(*[(model.id2word[word_id], weight) for word_id, weight in top_words])\n",
    "\n",
    "    # Create a bar chart for the top words in this topic\n",
    "    plt.figure(figsize=(10, 6))\n",
    "    plt.barh(words, weights, color='midnightblue')\n",
    "    plt.xlabel('Weight')\n",
    "    plt.gca().invert_yaxis()  # Highest weights on top\n",
    "    plt.savefig(f'atm_plots/{modtype}_{topic_num+1}.png', bbox_inches='tight')\n",
    "    plt.close()\n",
    "\n",
    "# Plot the top words for each topic for the AuthorTopicModel of documents\n",
    "for k in range(author_topic_model.num_topics):\n",
    "    plot_top_words_for_author_topic_model(author_topic_model, \"words\",k)\n",
    "\n",
    "# Plot the top words for each topic for the AuthorTopicModel of sentences\n",
    "for k in range(author_topic_model_sentences.num_topics):\n",
    "    plot_top_words_for_author_topic_model(author_topic_model_sentences, \"sentences\", k)"
   ]
  }
 ],
 "metadata": {
  "kernelspec": {
   "display_name": "Python 3 (ipykernel)",
   "language": "python",
   "name": "python3"
  },
  "language_info": {
   "codemirror_mode": {
    "name": "ipython",
    "version": 3
   },
   "file_extension": ".py",
   "mimetype": "text/x-python",
   "name": "python",
   "nbconvert_exporter": "python",
   "pygments_lexer": "ipython3",
   "version": "3.11.5"
  }
 },
 "nbformat": 4,
 "nbformat_minor": 5
}