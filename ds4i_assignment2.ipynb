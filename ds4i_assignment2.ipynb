{
  "cells": [
    {
      "cell_type": "raw",
      "metadata": {},
      "source": [
        "---\n",
        "title: \"Sentiments and Topics in South African SONA Speeches\"\n",
        "title-size: small\n",
        "subtitle: \"STA5073Z Data Science for Industry Assignment 2\"\n",
        "format: html\n",
        "execute: \n",
        "  echo: false\n",
        "  cache: true\n",
        "  freeze: auto\n",
        "  output: false\n",
        "author: \n",
        "    - \"Jared Tavares (TVRJAR001)\"\n",
        "    - \"Heiletjé van Zyl (VZYHEI003)\"\n",
        "---"
      ],
<<<<<<< HEAD
      "id": "99ec0ba1"
=======
<<<<<<< HEAD
      "id": "93f774dc"
=======
      "id": "f593b653"
>>>>>>> cc84a7ed00838ebbd688a823075c7558516b628a
>>>>>>> 19fa0006fd1ab701f3d555416f8541683d3141c2
    },
    {
      "cell_type": "markdown",
      "metadata": {},
      "source": [
        "<div style=\"text-align: justify\"> \n",
        "\n",
        "<h4> Abstract </h4>\n",
        "<hr> \n",
        "\n",
        "<h4> Introduction </h4>\n",
        "<hr>\n",
        "The field of Natural Language Processing (NLP) is faceted by techniques tailored for theme tracking and opinion mining which merge part of text analysis. Though, of particular prominence, is the extraction of latent thematic patterns and the establishment of the extent of emotionality expressed in political-based texts. \n",
        "\n",
        "Given such political context, it is of specific interest to analyse the  annual State of the Nation Address (SONA) speeches delivered by six different South African presidents (F.W. de Klerk, N.R. Mandela, T.M. Mbeki, K.P. Motlanthe, J.G. Zuma, and M.C. Ramaphosa) ranging over twenty-nine years (from 1994 to 2023). This analysis, descriptive and data-driven in nature, endeavours to examine the content of the SONA speeches in terms of themes via topic modelling (TM) and emotions via sentiment analysis (SentA). Applying a double-bifurcated approach, SentA will be executed within a macro and micro context both at the text (all-presidents versus by-president SONA speeches, respectively) and token (sentences versus words, respectively) level, as shown in @fig-SentA_MacroMicroScheme. This underlying framework is also assumed for TM, with the exceptions of only employing it within a macro-context at text level and a micro-context at the token level, as seen in @fig-TM_MacroMicroScheme.\n",
        "\n",
        "![Illustration of how sentA will be implemented within a different-scales-within-different-levels framework for the presidential-SONA-speeech text analysis.](SentA_MacroMicroScheme.png){width=400 height=250 #fig-SentA_MacroMicroScheme}\n",
        "\n",
        "![Depiction of how TM will be done using a similar approach to sentA, though tokens will only be defined in terms of words (and not also as sentences) at a text level of all SONA speeches (so disregarding the micro-president context).](TM_MacroMicroScheme.png){height=150 #fig-TM_MacroMicroScheme}\n",
        "\n",
        "Through such a multi-layered lens, the identification of any trends, both in terms of topics and sentiments, over time at both a large (presidents as a collective) as well as at a small (each president as an individual) scale is attainable. This explicates not only an aggregated perspective of the general political discourse prevailing within South Africa, but also a more niche outlook of the specific rhetoric employed by each of the country's serving presidents during different date periods. \n",
        "\n",
        "To achieve all of the above-mentioned, it is first relevant to revise foundational terms and review related literature in context of politics and NLP. All pertinent pre-processing of the political text data is then considered, followed by a discussion delving into the details of each SentA and TM approach applied. Specifically, two different lexicons are leveraged to describe sentiments, whilst five different topic models are tackled to uncover themes within South-African-presidents’ SONA speeches. Ensuing the implementation of these methodologies, the results thereof are detailed in terms insights and interpretations. Thereafter, an overall evaluation of the techniques in terms of efficacy and inadequacy is overviewed. Finally, focal findings are highlighted and potential improvements as part of future research are recommended.  \n",
        "\n",
        "\n",
        "<h4> Literature Review </h4>\n",
        "<hr>\n",
        "<b><u> SONA  </b></u>\n",
        "\n",
        "SONA, a pivotal event in the political programme of Parliament, serves as a presidential summary for the South African public. Specifically, the country’s current domestic affairs and international relations are reflected upon, past governmental work is perused, and future plans in terms of policies and civil projects are proposed. Through this address, accountability on the part of government is re-instilled and transparency with the public is re-affirmed on an annual basis, either once (non-election year) or twice (pre-and-post election) [@Muthambi2017].\n",
        "The text analysis of such SONA speeches, via the implementation of TM and SentA, has been previously done for Philippine presidents [@MirandaBringula2021]. Though, it is now of interest to extend such an application to another country, South Africa. \n",
        "\n",
        "\n",
        "<b><u> Topic modelling (TM) </b></u>\n",
        "\n",
        "TM, an unsupervised learning approach, implicates the identification of underlying abstract themes in some body of text, in the absence of pre-specified labels [@Cho2019]. In general, there are two topic-model assumptions: each document comprises of a mixture of topics and each topic consists of a collection of words [@Zhang2018]. Different types of topic models exist, each with varying complexity in terms of the way in which topics are generated. The simplest one, Latent Semantic Analysis (LSA), has previously been implemented to discover patterns of lexical cohesion in political speech, specifically that of the former Prime Minister of the United Kingdom, Margaret Thatcher [@Klebanov2008]. Improving on LSA methodology, Probabilistic LSA (pLSA) has been implemented in healthcare [@Zhu2014] and educational [@Ming2014] contexts, albeit no application thereof in political science was found. A further sophisticated model, Latent Dirichlet Allocation (LDA), has been used to determine trending topics in  news on governmental YouTube channels [@Subhan2023]. \n",
        "\n",
        "<b><u> Sentiment analysis (SentA) </b></u>\n",
        "\n",
        "SentA involves deciphering the intent of words to infer certain emotional dimensions labelled either in polarized (negative/positive) or higher-dimensional terms (niche feelings like joy/sadness). Various unigram lexicons have been derived to such extents. For example, the R-based $\\texttt{nrc}$ lexicon dichotomously classifies words with yes/no labels in categories such as positive, negative, anticipation, anger, and so forth. In contrast, the Python-based $\\texttt{TextBlob}$ lexicon processes textual data in the form of a tuple where a polarity score (ranges between -1 and +1 which relates to negative and positive sentiment, respectively) and a subjectivity score (ranges between 0 and 1 which refers to being very objective or very subjective, respectively) is produced. Using such pre-defined lexicons has been previously utilized to analyze political communication, specifically in terms of campaign polarization, via SentA [@Haselmayer2017]. \n",
        "\n",
        "\n",
        "<h4> Data </h4>\n",
        "<hr>\n",
        "\n",
        "<b><u> Tokenization </b></u>\n",
        "\n",
        "The process of tokenization entails breaking up given text into units, referred to as tokens (or terms), which are meaningful for analysis [@Zhang2018]. In this case, these tokens take on different structures, based on either a macro-context (i.e., sentences) or micro-context (i.e., words). At both scales, the way in which these tokens are valued will be varied. The value will either be defined by a bag-of-words (BoW) or term-frequency, inverse-document-frequency (tf-idf) approach. The former way implicates accounting for the number of occurrences of some token in some document. On the other hand, the latter way not only regards the frequency of some token, but also the significance thereof. Thus, tf-idf involves the assignment of some weight to each token in a document which in turn reflects its importance relative to the entire collection of documents (corpus). It then follows that the tf-idf value of a token *t* in a document *d* within a corpus *D* is calculated as the product of two constituents. The first being tf(*t*,*d*) defined as the quotient of the frequency of token *t* in document *d* and the total number of tokens in document *d*, whereas the second is idf(*t*, *D*) denoted by the quotient of the natural logarithm of the total number of documents in corpus *D* and the number of documents containing the token *t* [@SilgeRobinson2017]. \n",
        "\n",
        "\n",
        "<b><u> Number of topics </b></u>\n",
        "\n",
        "In order to determine the optimal number of topics, a coherence score is calculated.  This metric measures the ability of a topic model to distinguish well between topics that are semantically interpretable by humans and are not simply statistical-inference artifacts. Hence, the number of topics as well as any other topic-model hyperparameters (like $\\alpha$ and $\\beta$ for LDA) are tuned to values that yield the maximum coherence score, allowing for the most understandable themes. \n",
        "\n",
        "<!-- Two approaches can be applied to determine the optimum topic number. Within the first approach, each topic can be viewed as a cluster and a metric showing how similar each word is to its own topic (cohesion) compared to other topics (separation) can be computed. The Silhouette Coefficient is such a measure ranging from a value of negative one to positive one. Here, higher positive values are indicative of words being well-compacted within the topic to which it belongs. The second approach involves the calculation of a coherence score. This measures the ability of the topic model to distinguish well between topics that are semantically interpretable by humans and are not simply statistical-inference artifacts. Hence, the number of topics as well as any other topic-model hyperparameters are tuned to values that yield the maximum coherence score, allowing for the most understandable themes. This latter approach will largely be applied in this SONA-speech analysis.  -->\n",
        "\n",
        "<h4> Methods </h4>\n",
        "<hr>\n",
        "<h5> Topic modelling </h5>\n",
        "\n",
        "<b><u> Latent Semantic Analysis (LSA) </b></u> \n",
        "\n",
        "![Schematic representation of LSA outlining the factorization of the *DTM* matrix.](LSA.png){#fig-LSA}\n",
        "\n",
        "LSA [@Deerwester1990] is a non-probabilistic, non-generative model where a form of matrix factorization is utilized to uncover few latent topics, capturing meaningful relationships among documents/tokens. As depicted in @fig-LSA, in the first step, a document-term matrix *DTM* is generated from the raw text data by tokenizing *d* documents into *w* words (or sentences), forming the columns and rows respectively. Each row-column entry is either valued via the BoW or tf-idf approach. This *DTM*-matrix, which is often sparse and high-dimensional, is then decomposed via a dimensionality-reduction-technique, namely truncated Singular Value Decomposition (SVD). Consequently, in the second step the *DTM*-matrix becomes the product of three matrices: the topic-word matrix $A_{t*}$ (for the tokens), the topic-prevalence matrix $B_{t*}$ (for the latent semantic factors), and the transposed document-topic matrix $C^{T}_{t*}$ (for the document). Here, *t\\**, the optimal number of topics, is a hyperparameter which is refined at a value (via the coherence-measure approach) that retains the most significant dimensions in the transformed space. In the final step, the text data is then encoded using this top-topic number. \n",
        "\n",
        "Given LSA only implicates a *DTM*-matrix, the implementation thereof is generally efficient. Though, with the involvement of truncated SVD, some computational intensity and a lack of quick updates with new, incoming text-data can arise. Additional LSA drawbacks include: the lack of interpretability, the underlying linear-model framework (which results in poor performance on text-data with non-linear dependencies), and the underlying Gaussian assumption for tokens in documents (which may not be an appropriate distribution). \n",
        "\n",
        "<b><u> Probabilistic Latent Semantic Analysis (pLSA) </b></u>\n",
        "\n",
        "![Schematic representation of pLSA, where the different-shade-of-blue colours highlight similarities shared with LSA-related matrices shown in Figure 3.](pLSA.png){#fig-pLSA height=250}\n",
        "\n",
        "Instead of implementing truncated SVD, pLSA [@Hofmann1999] rather utilizes a generative, probabilistic model. Within this framework, a document *d* is first selected with probability P(d). Then given this, a latent topic *t* is present in this selected document *d* and so chosen with probability of P(t|d). Finally, given this chosen topic *t*, a word *w* (or sentence) is generated from it with probability P(w|t), as shown in @fig-pLSA. It is noted that the values of P(d) is determined directly from the corpus *D* which is defined in terms of a *DTM* matrix. In contrast, the probabilities P(t|d) and P(w|t) are parameters modelled as multinomial distributions and iteratively updated via the Expectation-Maximization (EM) algorithm. Direct parallelism between LSA and pLSA can be drawn via the methods’ parameterization, as conveyed via matching colours of the topic-word matrix and P(w|t), the document-topic matrix and P(d|t) as well as the topic-prevalence matrix and P(t) displayed in @fig-LSA and @fig-pLSA, respectively. \n",
        "\n",
        "Despite pLSA implicitly addressing LSA-related disadvantages, this method still involves two main drawbacks. There is no probability model for the document-topic probabilities P(t|d), resulting in the inability to assign topic mixtures to new, unseen documents not trained on. Model parameters also then increase linearly with the number of documents added, making this method more susceptible to overfitting. \n",
        "\n",
        "<b><u>  Latent Dirichlet Allocation </b></u>\n",
        "\n",
        "![Schematic representation of LDA where the dark-blue-shaded block represents observed words.](LDA.png){height=370 #fig-LDA}\n",
        "\n",
        "LDA is another generative, probabilistic model which can be deemed as a hierarchical Bayesian version of pLSA. Via explicitly defining a generative model for the document-topic probabilities, both the above-mentioned pitfalls of pLSA are improved upon. The number of parameters to estimate drastically decrease and the ability to apply and generalize to new, unseen documents is attainable. As presented in @fig-LDA, the initial steps first involve randomly sampling a document-topic probability distribution $\\theta$ from a Dirichlet (Dir) distribution $\\eta$, followed by randomly sampling a topic-word probability distribution $\\phi$ from another Dirichlet distribution $\\tau$. From the $\\theta$ distribution, a topic *t* is selected by drawing from a multinomial (Mult) distribution (third step) and from the $\\phi$ distribution given said topic *t*, a word *w* (or sentences) is sampled from another multinomial distribution (fourth step). The associated LDA-parameters are then estimated via a variational expectation maximization algorithm or collapsed Gibbs sampling. \n",
        "\n",
        "\n",
        "<b><u>  Correlated Topic Model (CTM) </b></u>\n",
        "\n",
        "![Schematic representation of CTM where the dark-blue-shaded block represents observed words, whilst the light-grey colour outlines the distinctions from the LDA topic model presented in Figure 5.](CTM.png){height=300 #fig-CTM}\n",
        "\n",
        "Following closely to LDA, the CTM [@LaffertyBlei2005] additionally allows for the ability to model the presence of any correlated topics.  Such topic correlations are introduced via the inclusion of the multivariate normal (MultNorm) distribution with *t* length-vector of means $\\mu$ and *t* $\\times$ *t* covariance matrix $\\Sigma$ where the resulting values are then mapped into probabilities by passing through a logistic (log) transformation. Comparing @fig-LDA and @fig-CTM, the nuance between LDA and CTM is highlighted using a light-grey colour, where the discrepancy in the models come about from replacing the Dirichlet distribution (which involves the implicit assumption of independence across topics) with the logit-normal distribution (which now explicitly enables for topic dependency via a covariance structure) for generating document-topic probabilities. The other generative processes previously outlined for LDA is retained and repeated for CTM. Given this additional model complexity, the more convoluted mean-field variational inference algorithm is employed for CTM-parameter estimation which necessitates many iterations for optimization purposes. CTM is consequently computationally more expensive than LDA. Though, this snag is far outweighed by the procurement of richer topics with overt relationships acknowledged between these. \n",
        "\n",
        "\n",
        "<b><u>  Author Topic Model (ATM) </b></u>\n",
        "\n",
        "![Schematic representation of ATM where the dark-blue-shaded blocks represents observed words and authors, whilst the light-grey colour highlights the differences compared to the LDA topic model presented in Figure 5.](ATM.png){#fig-ATM height=450}\n",
        "\n",
        "ATM [@RosenZvi2012] extends LDA via the inclusion of authorship information with topics. Again, inspecting @fig-LDA and @fig-ATM, the slight discrepancies between these two models are accentuated with the light-grey colour. Here, for each word *w* in the document *d* an author *a* is sampled uniformly (Uni) at random. Each author is associated with a distribution over topics ($\\Psi$) sampled from a Dirichlet prior $\\alpha$. The resultant mixture weights corresponding to the chosen author are used to select a topic *t*, then a word *w* (or sentence) is generated according to the topic-word distribution $\\phi$ (drawn from another Dirichlet prior $\\beta$) corresponding to that said chosen topic *t*. Therefore, through the estimation of the $\\psi$ and $\\phi$ parameters, not only is information obtained about which topics authors generally relate to, but also a representation of these document contents in terms of these topics, respectively. \n",
        "\n",
        "<h5> Sentiment analysis </h5>\n",
        "\n",
        "<b><u>  AFINN </b></u>\n",
        "\n",
        "The R-based $\\texttt{AFINN}$ lexicon scores words across a range spanning from the value of -5 to +5. Intuitively, words scored closer to the lower-boundary value relate to more negative sentiment, and in contrast higher positive sentiment is revealed if rather closer to the upper-boundary value [@SilgeRobinson2017]. \n",
        "\n",
        "<b><u>  Bing </b></u>\n",
        "\n",
        "Unlike $\\texttt{AFINN}$ , the R-based $\\texttt{bing}$ lexicon does not provide sentiments via some scoring system. Instead, it simply assigns a binary label of a word being interpreted as either positive or negative [@SilgeRobinson2017].  \n"
      ],
<<<<<<< HEAD
      "id": "a8cd0749"
=======
<<<<<<< HEAD
      "id": "ab7605c8"
=======
      "id": "e17f96b7"
>>>>>>> cc84a7ed00838ebbd688a823075c7558516b628a
>>>>>>> 19fa0006fd1ab701f3d555416f8541683d3141c2
    },
    {
      "cell_type": "code",
      "metadata": {},
      "source": [
        "# Loading in the necessary libraries\n",
        "import zipfile\n",
        "import os\n",
        "import pandas as pd\n",
        "import re\n",
        "import matplotlib.pyplot as plt\n",
        "from wordcloud import WordCloud, STOPWORDS\n",
        "from itertools import cycle\n",
        "import seaborn as sns\n",
        "import numpy as np\n",
        "from collections import Counter\n",
        "import nltk\n",
        "from nltk.tokenize import word_tokenize\n",
        "from nltk.corpus import wordnet, stopwords, words\n",
        "from nltk.stem import WordNetLemmatizer\n",
        "from ast import literal_eval\n",
        "from collections import defaultdict\n",
        "\n",
        "# Global params\n",
        "plt.rcParams['xtick.labelsize'] = 14\n",
        "plt.rcParams['ytick.labelsize'] = 14"
      ],
<<<<<<< HEAD
      "id": "ac2f7a5e",
=======
<<<<<<< HEAD
      "id": "2d8db608",
=======
      "id": "bbcdafd7",
>>>>>>> cc84a7ed00838ebbd688a823075c7558516b628a
>>>>>>> 19fa0006fd1ab701f3d555416f8541683d3141c2
      "execution_count": null,
      "outputs": []
    },
    {
      "cell_type": "code",
      "metadata": {},
      "source": [
        "# Unzip the file and get the list of filenames\n",
        "with zipfile.ZipFile(\"data/speeches.zip\", 'r') as zip_ref:\n",
        "    zip_ref.extractall(\"data\")\n",
        "\n",
        "filenames = os.listdir(\"data\")\n",
        "filenames = [filename for filename in filenames if filename.endswith('.txt')]\n",
        "\n",
        "# Read the content of each speech file and extract the date from the first line\n",
        "speeches = []\n",
        "dates = []\n",
        "for filename in filenames:\n",
        "    with open(os.path.join(\"data\", filename), 'r', encoding='utf-8') as file:\n",
        "        # Extract date from the first line\n",
        "        date = file.readline().strip()\n",
        "        dates.append(date)\n",
        "        \n",
        "        # Read the rest of the file\n",
        "        speeches.append(file.read())\n",
        "\n",
        "# Create DataFrame\n",
        "sona = pd.DataFrame({'filename': filenames, 'speech': speeches, 'date': dates})\n",
        "\n",
        "# Extract year and president for each speech\n",
        "sona['year'] = sona['filename'].str[:4]\n",
        "sona['president'] = sona['filename'].str.split('_').str[-1].str.split('.').str[0]\n",
        "\n",
        "# Clean the sona dataset by removing unnecessary text\n",
        "replace_reg = r'(http.*?(\\s|.$))|(www.*?(\\s|.$))|&amp;|&lt;|&gt;|\\n'\n",
        "sona['speech'] = sona['speech'].str.replace(replace_reg, ' ')\n",
        "\n",
        "# Split speeches into sentences\n",
        "sona_sentences = sona.copy()\n",
        "\n",
        "import itertools\n",
        "\n",
        "# Replace new lines with space and split into sentences based on regular expression\n",
        "sona_sentences['speech'] = sona_sentences['speech'].str.replace('\\n', ' ').str.split(r'(?<!\\w\\.\\w.)(?<![A-Z][a-z]\\.)(?<=\\.|\\?)\\s')\n",
        "\n",
        "# Flatten the list of sentence fragments to avoid nested lists\n",
        "sona_sentences['speech'] = sona_sentences['speech'].apply(lambda sentences: list(itertools.chain.from_iterable(sentence.split('.') for sentence in sentences)))\n",
        "\n",
        "# Remove empty strings from the list of sentences\n",
        "sona_sentences['speech'] = sona_sentences['speech'].apply(lambda sentences: [sentence.strip() for sentence in sentences if sentence.strip()])\n",
        "\n",
        "# Make a csv of the speeches\n",
        "sona.to_csv('data/sona_speeches.csv', index=False)\n",
        "\n",
        "# Make a csv of the sentences\n",
        "sona_sentences.to_csv('data/sona_sentences_untransformed.csv', index=False)"
      ],
<<<<<<< HEAD
      "id": "01b8ed0e",
=======
<<<<<<< HEAD
      "id": "5254585f",
=======
      "id": "05214133",
>>>>>>> cc84a7ed00838ebbd688a823075c7558516b628a
>>>>>>> 19fa0006fd1ab701f3d555416f8541683d3141c2
      "execution_count": null,
      "outputs": []
    },
    {
      "cell_type": "code",
      "metadata": {},
      "source": [
        "# Make sure to download the necessary NLTK corpus if you haven't already\n",
        "#nltk.download('wordnet')\n",
        "#nltk.download('averaged_perceptron_tagger')\n",
        "#nltk.download('words')\n",
        "\n",
        "# Read in the sona speeches dataset\n",
        "sona_speeches_df = pd.read_csv('data/sona_speeches.csv')\n",
        "sona_sentences_clean = pd.read_csv('data/sona_sentences_untransformed.csv')\n",
        "sona_sentences_clean['speech'] = sona_sentences_clean['speech'].apply(literal_eval)\n",
        "\n",
        "# Initialize the WordNetLemmatizer\n",
        "lemmatizer = WordNetLemmatizer()\n",
        "stop_words = set(stopwords.words('english'))\n",
        "english_words = set(words.words())\n",
        "additional_words = {\n",
        "    'honourable', 'member', 'chairperson',\n",
        "    'south', 'africa', 'african', 'africans', 'year',\n",
        "    'madame', 'madam', 'soes', 'ms', 'madams', 'madames', 'mw',\n",
        "    'compatriotsthe',\n",
        "    'also'\n",
        "}\n",
        "\n",
        "# Function to convert NLTK's part-of-speech tags to WordNet's part-of-speech tags\n",
        "def get_wordnet_pos(word):\n",
        "    \"\"\"Map NLTK part of speech tags to WordNet part of speech tags.\"\"\"\n",
        "    tag = nltk.pos_tag([word])[0][1][0].upper()\n",
        "    tag_dict = {\"J\": nltk.corpus.wordnet.ADJ,\n",
        "                \"N\": nltk.corpus.wordnet.NOUN,\n",
        "                \"V\": nltk.corpus.wordnet.VERB,\n",
        "                \"R\": nltk.corpus.wordnet.ADV}\n",
        "\n",
        "    return tag_dict.get(tag, nltk.corpus.wordnet.NOUN)\n",
        "\n",
        "# Clean the text, convert to lowercase, and lemmatize each word\n",
        "def clean_text(text):\n",
        "    # Remove special characters: keep only letters, numbers, and basic punctuation\n",
        "    text = re.sub(r'[.;]', ' ', text)  # Replaces periods with spaces\n",
        "    text = re.sub(r'[^a-zA-Z ]', '', text)\n",
        "    text = text.lower()  # Convert to lowercase\n",
        "    \n",
        "    # Tokenize the text\n",
        "    words = word_tokenize(text)\n",
        "    \n",
        "    # Remove stop words\n",
        "    words = [word for word in words if word not in stop_words]\n",
        "    \n",
        "    # Remove additional words\n",
        "    words = [word for word in words if word not in additional_words]\n",
        "\n",
        "    # Lemmatize each word with the correct POS tag\n",
        "    lemmatized_words = []\n",
        "    for word, tag in nltk.pos_tag(words):\n",
        "        wntag = get_wordnet_pos(tag)\n",
        "        lemmatized_word = lemmatizer.lemmatize(word, wntag)\n",
        "        # Only append the lemmatized word if it is in the set of English words\n",
        "        if lemmatized_word in english_words:\n",
        "            lemmatized_words.append(lemmatized_word)\n",
        "    \n",
        "    # Join the lemmatized words back into one string\n",
        "    text = ' '.join(words)\n",
        "    return text\n",
        "\n",
        "def clean_text_no_word_removals(text):\n",
        "    # Remove special characters: keep only letters, numbers, and basic punctuation\n",
        "    text = re.sub(r'[.;]', ' ', text)  # Replaces periods with spaces\n",
        "    text = re.sub(r'[^a-zA-Z ]', '', text)\n",
        "    text = text.lower()  # Convert to lowercase\n",
        "    return text\n",
        "\n",
        "# Apply the cleaning function to the speech column\n",
        "tempdf = sona_speeches_df.copy()\n",
        "sona_speeches_df['speech'] = tempdf['speech'].apply(clean_text)\n",
        "sona_speeches_df['speech_untrans'] = tempdf['speech'].apply(clean_text_no_word_removals)\n",
        "\n",
        "def clean_speeches(speeches):\n",
        "    # The input is expected to be a list of strings\n",
        "    return [clean_text(sentence) for sentence in speeches]\n",
        "\n",
        "# Apply the cleaning to the sentences too\n",
        "sona_sentences_clean['sentence'] = sona_sentences_clean['speech'].apply(lambda speeches: [clean_text(sentence) for sentence in speeches])\n",
        "\n",
        "# Apply the cleaning to sentences that need to keep their words\n",
        "sona_sentences_clean['sent_untrans'] = sona_sentences_clean['speech'].apply(lambda speeches: [clean_text_no_word_removals(sentence) for sentence in speeches])\n",
        "\n",
        "# Make a csv of the speeches\n",
        "sona_speeches_df.to_csv('data/sona_speeches_adapted.csv', index=False)\n",
        "\n",
        "# Remove the speech column from the sentences DataFrame\n",
        "sona_sentences_clean.drop(columns=['speech'], inplace=True)\n",
        "\n",
        "# Make a csv of the sentences\n",
        "sona_sentences_clean.to_csv('data/sona_sentences_clean.csv', index=False)"
      ],
<<<<<<< HEAD
      "id": "822be477",
=======
<<<<<<< HEAD
      "id": "90d88c13",
=======
      "id": "41bbc11f",
>>>>>>> cc84a7ed00838ebbd688a823075c7558516b628a
>>>>>>> 19fa0006fd1ab701f3d555416f8541683d3141c2
      "execution_count": null,
      "outputs": []
    },
    {
      "cell_type": "code",
      "metadata": {},
      "source": [
        "sona_sentences_clean = pd.read_csv('data/sona_sentences_clean.csv')\n",
        "sona_sentences_clean['sentence'] = sona_sentences_clean['sentence'].apply(literal_eval)\n",
        "sona_sentences_clean['sent_untrans'] = sona_sentences_clean['sent_untrans'].apply(literal_eval)\n",
        "\n",
        "# Make the sentences into a single column\n",
        "sona_sentences_alltogether = sona_sentences_clean.explode('sentence')\n",
        "sona_sentences_all_untrans = sona_sentences_clean.explode('sent_untrans')\n",
        "\n",
        "# Drop the other columns\n",
        "sona_sentences_alltogether.drop(columns=['sent_untrans'], inplace=True)\n",
        "sona_sentences_all_untrans.drop(columns=['sentence'], inplace=True)\n",
        "\n",
        "# Make a csv of the sentences\n",
        "sona_sentences_all_untrans.to_csv('data/sona_sentiment_sentences.csv', index=False)\n",
        "\n",
        "# Speeches\n",
        "sona_speeches_clean = pd.read_csv('data/sona_speeches_adapted.csv')"
      ],
<<<<<<< HEAD
      "id": "87a501a1",
=======
<<<<<<< HEAD
      "id": "0a9f6a3b",
=======
      "id": "633a54cf",
>>>>>>> cc84a7ed00838ebbd688a823075c7558516b628a
>>>>>>> 19fa0006fd1ab701f3d555416f8541683d3141c2
      "execution_count": null,
      "outputs": []
    },
    {
      "cell_type": "code",
      "metadata": {},
      "source": [
        "from sklearn.feature_extraction.text import CountVectorizer, TfidfVectorizer\n",
        "\n",
        "max_features = 2000\n",
        "\n",
        "bow_vectorizer = CountVectorizer(max_features=max_features)\n",
        "tfidf_vectorizer = TfidfVectorizer(max_features=max_features)\n",
        "\n",
        "# Transformed on the words\n",
        "bow_matrix_words = bow_vectorizer.fit_transform(sona_speeches_clean['speech'])\n",
        "tfidf_matrix_words = tfidf_vectorizer.fit_transform(sona_speeches_clean['speech'])\n"
      ],
<<<<<<< HEAD
      "id": "3a31b52a",
=======
<<<<<<< HEAD
      "id": "3f21c06f",
=======
      "id": "a664076b",
>>>>>>> cc84a7ed00838ebbd688a823075c7558516b628a
>>>>>>> 19fa0006fd1ab701f3d555416f8541683d3141c2
      "execution_count": null,
      "outputs": []
    },
    {
      "cell_type": "code",
      "metadata": {},
      "source": [
        "from matplotlib.colors import LinearSegmentedColormap\n",
        "\n",
        "cmap = plt.cm.cividis\n",
        "\n",
        "norm = plt.Normalize(0, 100)\n",
        "\n",
        "# Define a colour map based on cividis\n",
        "# Define a new colormap using a smaller slice of the cividis colormap, this time stopping well before the yellows\n",
        "cividis_modified = cmap(np.linspace(0, 0.4, cmap.N))  # Using only 40% of the colormap range\n",
        "\n",
        "# Create a new colormap from the data\n",
        "cividis_no_yellow_light = LinearSegmentedColormap.from_list('cividis_no_yellow_light', cividis_modified)\n",
        "\n",
        "# Let's pick three colors from the modified colormap\n",
        "colormap = [cividis_no_yellow_light(norm(0)), \n",
        "          cividis_no_yellow_light(norm(50)), \n",
        "          cividis_no_yellow_light(norm(100))]"
      ],
<<<<<<< HEAD
      "id": "a46726ab",
=======
<<<<<<< HEAD
      "id": "8042fbb7",
=======
      "id": "fd615f6b",
>>>>>>> cc84a7ed00838ebbd688a823075c7558516b628a
>>>>>>> 19fa0006fd1ab701f3d555416f8541683d3141c2
      "execution_count": null,
      "outputs": []
    },
    {
      "cell_type": "markdown",
      "metadata": {},
      "source": [
        "<h4> Exploratory Data Analysis</h4>\n",
        "<hr>\n",
        "\n",
        "![Most frequent words used across all SONA speeches, irrespective of president.](saved_plots/overall_top_words.png){#fig-EDA-speeches}\n",
        "\n",
        "From @fig-EDA-speeches, it is evident that the word \"government\" is mainly referenced to across all SONA speeches. This word dominance draws upon how the importance of this authority body, which is integral to the governance of South Africa, is emphasized. The frequent usage of the words \"people\" and \"public\" indicates a sense of inclusivity where the idea of togetherness is implicitly suggested. Other words, such as \"development\" and \"new\", are indicative of ideas of growth and renewal. Lastly, a sense of security and safety is provided with the recurring use of the word \"ensure\".\n",
        "\n",
        "::: {#fig-EDA-presidents layout-ncol=2}\n",
        "\n",
        "![de Klerk](saved_plots/deKlerk_top_words.png){#fig-deKlerk}\n",
        "\n",
        "![Mandela](saved_plots/Mandela_top_words.png){#fig-Mandela}\n",
        "\n",
        "![Mbeki](saved_plots/Mbeki_top_words.png){#fig-Mbeki}\n",
        "\n",
        "![Motlanthe](saved_plots/ Motlanthe_top_words.png){#fig-Motlanthe}\n",
        "\n",
        "![Zuma](saved_plots/Zuma_top_words.png){#fig-Zuma}\n",
        "\n",
        "![Ramaphosa](saved_plots/Ramaphosa_top_words.png){#fig-Ramaphosa}\n",
        "\n",
        "Most frequent words used in SONA speeches, faceted by president.\n",
        ":::\n",
        "\n",
        "After faceting the most frequent words by president, as displayed in @fig-EDA-presidents, there are some slight nuances noted. For instance, former president de Klerk used words which were emblematic of the political paradigm shift that occurred during the time of his term. Words such as “transitional”, “constitutional”, and “constitution” reflects the country’s progression from an exclusive, segregated to a more inclusive, democratic state. This political and legal reform directed towards achieving societal equality is further underscored by the words, “parties”, “party”, and “election”. The pivotal role of proper partnerships being formed, which would have further aided in maintaining this change, is foregrounded with the word “alliance”.  \n",
        "\n",
        "Similarly, this idea of unity has also been foregrounded in the other five presidents’ speeches with the commonly shared word “people”. Though, unlike de Klerk, the other former presidents (Mandela, Mbeki, Motlanthe, Zuma) and current president (Ramaphosa), seem to similarly place more focus on the explicit communication of policies and vision (“development” and “work”) and the establishment of a sense of responsibility and accountability on their part as president (“government” and “ensure”). Some minor distinctions between these aforementioned presidents can be made. Mandela, Mbeki, and Motlanthe, for example, seemed to draw more attention to “society” or “social” progress, whilst Zuma and Ramaphosa appeared to place more prominence on “economic” progress.\n"
      ],
<<<<<<< HEAD
      "id": "6a208576"
=======
<<<<<<< HEAD
      "id": "cbf4fae8"
=======
      "id": "932d394d"
>>>>>>> cc84a7ed00838ebbd688a823075c7558516b628a
>>>>>>> 19fa0006fd1ab701f3d555416f8541683d3141c2
    },
    {
      "cell_type": "code",
      "metadata": {},
      "source": [
        "from sklearn.feature_extraction.text import ENGLISH_STOP_WORDS\n",
        "from collections import Counter\n",
        "import matplotlib.pyplot as plt\n",
        "\n",
        "# Function to count words in speeches excluding stopwords\n",
        "def get_word_frequencies(speeches, stopwords):\n",
        "    word_counts = Counter()\n",
        "    for speech in speeches:\n",
        "        words = speech.lower().split()\n",
        "        # Remove stopwords from the count\n",
        "        words = [word.strip('.,!?\"\\'-()') for word in words if word.strip('.,!?\"\\'-()') not in stopwords]\n",
        "        word_counts.update(words)\n",
        "    return word_counts\n",
        "\n",
        "# Get the word frequencies excluding stopwords\n",
        "word_frequencies = get_word_frequencies(sona_speeches_clean['speech'], ENGLISH_STOP_WORDS)\n",
        "\n",
        "# Get the top 10 most frequent words across all speeches\n",
        "top_10_words = word_frequencies.most_common(10)"
      ],
<<<<<<< HEAD
      "id": "f76709c1",
=======
<<<<<<< HEAD
      "id": "ed37c1e8",
=======
      "id": "a0061c35",
>>>>>>> cc84a7ed00838ebbd688a823075c7558516b628a
>>>>>>> 19fa0006fd1ab701f3d555416f8541683d3141c2
      "execution_count": null,
      "outputs": []
    },
    {
      "cell_type": "code",
      "metadata": {},
      "source": [
        "# Plotting\n",
        "plt.figure(figsize=(10, 6))\n",
        "plt.bar([word for word, count in top_10_words], [count for word, count in top_10_words], color=colormap[2])\n",
        "plt.xlabel('Words', fontsize=12)\n",
        "plt.ylabel('Frequency', fontsize=12)\n",
        "plt.xticks(fontsize=16)\n",
        "plt.yticks(fontsize=16)\n",
        "plt.xticks(rotation=45)\n",
        "\n",
        "# Save the plot as a PNG file\n",
        "plt.savefig(f'saved_plots/overall_top_words.png', bbox_inches='tight')\n",
        "plt.close()  # Close the figure to avoid displaying it in the notebook"
      ],
<<<<<<< HEAD
      "id": "221510c8",
=======
<<<<<<< HEAD
      "id": "430c9995",
=======
      "id": "a36c30ce",
>>>>>>> cc84a7ed00838ebbd688a823075c7558516b628a
>>>>>>> 19fa0006fd1ab701f3d555416f8541683d3141c2
      "execution_count": null,
      "outputs": []
    },
    {
      "cell_type": "code",
      "metadata": {},
      "source": [
        "# Function to get top N frequent words for each president\n",
        "def get_top_words_by_president(speeches_df, n, stopwords):\n",
        "    presidents = speeches_df['president'].unique()\n",
        "    top_words_by_president = {}\n",
        "    for president in presidents:\n",
        "        president_speeches = speeches_df[speeches_df['president'] == president]['speech']\n",
        "        word_frequencies = get_word_frequencies(president_speeches, stopwords)\n",
        "        top_words_by_president[president] = word_frequencies.most_common(n)\n",
        "    return top_words_by_president\n",
        "\n",
        "# Get the top 10 most frequent words for each president\n",
        "top_10_words_by_president = get_top_words_by_president(sona_speeches_clean, 10, ENGLISH_STOP_WORDS)"
      ],
<<<<<<< HEAD
      "id": "548f7e6d",
=======
<<<<<<< HEAD
      "id": "c5afb55e",
=======
      "id": "d0c4f3fa",
>>>>>>> cc84a7ed00838ebbd688a823075c7558516b628a
>>>>>>> 19fa0006fd1ab701f3d555416f8541683d3141c2
      "execution_count": null,
      "outputs": []
    },
    {
      "cell_type": "code",
      "metadata": {},
      "source": [
        "# Plot the word frequencies for each president\n",
        "for president, top_words in top_10_words_by_president.items():\n",
        "    \n",
        "    # Individual plot for each president\n",
        "    plt.figure(figsize=(10, 6))\n",
        "    plt.bar([word for word, count in top_words], [count for word, count in top_words], color=colormap[0])\n",
        "    plt.xlabel('Words', fontsize=20)\n",
        "    plt.ylabel('Frequency', fontsize=20)\n",
        "    plt.xticks(rotation=45)\n",
        "\n",
        "    # Save the plot as a PNG file\n",
        "    plt.savefig(f'saved_plots/{president}_top_words.png', bbox_inches='tight')\n",
        "    plt.close()  # Close the figure to avoid displaying it in the notebook"
      ],
<<<<<<< HEAD
      "id": "de88eb16",
=======
<<<<<<< HEAD
      "id": "364a328c",
=======
      "id": "597e4b19",
>>>>>>> cc84a7ed00838ebbd688a823075c7558516b628a
>>>>>>> 19fa0006fd1ab701f3d555416f8541683d3141c2
      "execution_count": null,
      "outputs": []
    },
    {
      "cell_type": "markdown",
      "metadata": {},
      "source": [
        "<h4> Results </h4>\n",
        "<hr>\n",
        "\n",
        "<h5> Sentiment Analysis </h5>\n",
        "\n",
        "\n",
        "::: {#fig-sent-speeches layout-ncol=2}\n",
        "\n",
        "![$\\texttt{AFINN}$: All speeches](sentiment_plots/speech_afinn_all.png){#fig-sent-speeches-afinn}\n",
        "\n",
        "![$\\texttt{bing}$: All speeches](sentiment_plots/speech_bing_all.png){#fig-sent-speeches-bing}\n",
        "\n",
        "Overall sentiment score for SONA speeches across time (segmented by presidential terms), compared for two different lexicons.\n",
        ":::\n",
        "\n",
        "Comparing @fig-sent-speeches-afinn and @fig-sent-speeches-bing, it is evident that there is no obvious, overt difference in the computed net sentiment scores, which are overall positive, across time and presidents for the two different lexicons. Any slight variation between $\\texttt{AFINN}$ and $\\texttt{bing}$ is most likely attributed to the lexicons’ varying scales (+5/-5 versus +1/-1, respectively). Hence, any sentiment derived from the former lexicon might be slightly more exaggerated in nature compared to the latter lexicon. This is noted when checking the $y$-axes range of the sentiment scores, which reach a maximum of 600 for the $\\texttt{AFINN}$ lexicon and only 300 for the $\\texttt{bing}$ lexicon.\n",
        "\n",
        "Across both lexicons, from de Klerk to Mbeki’s presidential terms, positive sentiment seems to steadily rise. Though, after a peak of high, positive sentiment scores from Mbeki’s SONA speeches, there is a slight decline in this overall positivity. This is especially present throughout Zuma’s presidential term. \n",
        "\n",
        "\n",
        "::: {#fig-sent-presidents layout-ncol=2}\n",
        "\n",
        "![$\\texttt{AFINN}$: de Klerk speeches](sentiment_plots/sent_afinn_deKlerk.png){#fig-sent-deKlerk-afinn}\n",
        "\n",
        "![$\\texttt{bing}$: de Klerk speeches](sentiment_plots/sent_bing_deKlerk.png){#fig-sent-deKlerk-bing}\n",
        "\n",
        "![$\\texttt{AFINN}$: Mandela speeches](sentiment_plots/sent_afinn_Mandela.png){#fig-sent-Mandela-afinn}\n",
        "\n",
        "![$\\texttt{bing}$: Mandela speeches](sentiment_plots/sent_bing_Mandela.png){#fig-sent-Mandela-bing}\n",
        "\n",
        "![$\\texttt{AFINN}$: Mbeki speeches](sentiment_plots/sent_afinn_Mbeki.png){#fig-sent-Mbeki-afinn}\n",
        "\n",
        "![$\\texttt{bing}$: Mbeki speeches](sentiment_plots/sent_bing_Mbeki.png){#fig-sent-Mbeki-bing}\n",
        "\n",
        "![$\\texttt{AFINN}$: Motlanthe speeches](sentiment_plots/sent_afinn_ Motlanthe.png){#fig-sent-Motlanthe-afinn}\n",
        "\n",
        "![$\\texttt{bing}$: Motlanthe speeches](sentiment_plots/sent_bing_ Motlanthe.png){#fig-sent-Motlanthe-bing}\n",
        "\n",
        "![$\\texttt{AFINN}$: Zuma speeches](sentiment_plots/sent_afinn_Zuma.png){#fig-sent-Zuma-afinn}\n",
        "\n",
        "![$\\texttt{bing}$: Zuma speeches](sentiment_plots/sent_bing_Zuma.png){#fig-sent-Zuma-bing}\n",
        "\n",
        "![$\\texttt{AFINN}$: Ramaphosa speeches](sentiment_plots/sent_afinn_Ramaphosa.png){#fig-sent-Ramaphosa-afinn}\n",
        "\n",
        "![$\\texttt{bing}$: Ramaphosa speeches](sentiment_plots/sent_bing_Ramaphosa.png){#fig-sent-Ramaphosa-bing}\n",
        "\n",
        "Trajectory of sentiment score through SONA-speech sentences stratified by president, comparing across two different lexicons. \n",
        ":::\n",
        "\n",
        "From inspecting @fig-sent-presidents , it is apparent that the relative trajectory of underlying emotion is generally similar for each president. The dips and troughs in sentiment prevalent for both $\\texttt{bing}$ and $\\texttt{AFINN}$ lexicons occur at approximately the same sentences in the respective presidents’ speeches. Though, there is some stark contrast found between the two lexicons when comparing for Zuma’s speeches. For this president, the negative falls and positive rises are more exaggerated for the $\\texttt{AFINN}$ compared to the $\\texttt{bing}$ lexicon. Additionally, the sentiment pattern of Mbeki’s speeches again seems more skewed to the positive side, with more frequent extreme rises to high sentiment score values across sentences. It is also again seen that more negative sentiment is expressed in Zuma’s speeches, give the more dominant dips. For Ramaphosa, there appears to be more of a balance between positive-and-negative sentiment. There are no extreme, outlying rises/falls, rather a more consistent sawtooth-like pattern is prominent. \n",
        "\n",
        "\n",
        "::: {#fig-wordcontr-speeches layout-ncol=2}\n",
        "\n",
        "![$\\texttt{AFINN}$: All speeches](sentiment_plots/word_contr_AFINN_all.png){#fig-wordcontr-speeches-afinn}\n",
        "\n",
        "![$\\texttt{bing}$: All speeches](sentiment_plots/word_contr_bing_all.png){#fig-wordcontr-speeches-bing}\n",
        "\n",
        "Words which contribute to the positive and negative sentiment across all SONA speeches. \n",
        ":::\n",
        "\n",
        "Similarly with the general sentiment-score trajectories, there are more overlaps between the two lexicons when comparing the specific words which contribute to the positive and negative sentiments, as displayed in @fig-wordcontr-speeches. The same seven (out of the top ten) words commonly contribute to negative sentiment (“corruption”, “crime”, “violence”), in addition to positive sentiment (“improve”, “support”, “progress”) across both lexicons. Albeit, the extent of these aforementioned words’ contributions to the respective sentiments do slightly vary in amounts. Some unique, independent words also add to the negative sentiment for the $\\texttt{AFINN}$ lexicon  (“problems”, “unemployment”) and $\\texttt{bing}$ lexicon (“issues”). Likewise, there are distinctive words for this former  lexicon (“growth”, “ensure”, “great”) and latter lexicon (“well”) attributed to positive sentiment. \n",
        "\n",
        "::: {#fig-wordcontr-presidents layout-ncol=2}\n",
        "\n",
        "![$\\texttt{AFINN}$: de Klerk speeches](sentiment_plots/word_contr_AFINN_deKlerk.png){#fig-wordcontr-deKlerk-afinn}\n",
        "\n",
        "![$\\texttt{bing}$: de Klerk speeches](sentiment_plots/word_contr_bing_deKlerk.png){#fig-wordcontr-deKlerk-bing}\n",
        "\n",
        "![$\\texttt{AFINN}$: Mandela speeches](sentiment_plots/word_contr_AFINN_Mandela.png){#fig-wordcontr-Mandela-afinn}\n",
        "\n",
        "![$\\texttt{bing}$: Mandela speeches](sentiment_plots/word_contr_bing_Mandela.png){#fig-wordcontr-Mandela-bing}\n",
        "\n",
        "![$\\texttt{AFINN}$: Mbeki speeches](sentiment_plots/word_contr_AFINN_Mbeki.png){#fig-wordcontr-Mbeki-afinn}\n",
        "\n",
        "![$\\texttt{bing}$: Mbeki speeches](sentiment_plots/word_contr_bing_Mbeki.png){#fig-wordcontr-Mbeki-bing}\n",
        "\n",
        "![$\\texttt{AFINN}$: Motlanthe speeches](sentiment_plots/word_contr_AFINN_ Motlanthe.png){#fig-wordcontr-Motlanthe-afinn}\n",
        "\n",
        "![$\\texttt{bing}$: Motlanthe speeches](sentiment_plots/word_contr_bing_ Motlanthe.png){#fig-wordcontr-Motlanthe-bing}\n",
        "\n",
        "![$\\texttt{AFINN}$: Zuma speeches](sentiment_plots/word_contr_AFINN_Zuma.png){#fig-wordcontr-Zuma-afinn}\n",
        "\n",
        "![$\\texttt{bing}$: Zuma speeches](sentiment_plots/word_contr_bing_Zuma.png){#fig-wordcontr-Zuma-bing}\n",
        "\n",
        "![$\\texttt{AFINN}$: Ramaphosa speeches](sentiment_plots/word_contr_AFINN_Ramaphosa.png){#fig-wordcontr-Ramaphosa-afinn}\n",
        "\n",
        "![$\\texttt{bing}$: Ramaphosa speeches](sentiment_plots/word_contr_bing_Ramaphosa.png){#fig-wordcontr-Ramaphosa-bing}\n",
        "\n",
        "Words which contribute to the positive and negative sentiment for each specific presidents' SONA speech/speeches. \n",
        ":::\n",
        "\n",
        "After faceting @fig-wordcontr-speeches by president, as presented in the sub-plots of @fig-wordcontr-presidents, essentially no variability is indicated in terms of uniqueness and the contribution magnitude thereof. For both lexicons, the same set of words add the same amount to each sentiment. Furthermore,  commonalities between words contributing to the sentiments is evident between the five presidents after de Klerk. Negative-sentiment words like “unconstitutional”, “deprive”, “discrimination”, and “boycott” and positive-sentiment words such as “proud”, “succeeded”, and “peaceful” only features in de Klerk’s speech. All of these aforementioned words seem to directly relate to the change in political context during de Klerk’s term. Whilst, the words prevailing in the other five presidents’ speeches appear to foreground the continuation of this changed political climate with positive-sentiment words like “improve”, “better”, “freedom” and “peace”.  Additionally, the shared negative-sentiment words like “crime”, “corruption” and “poverty” foreground the commonality of perpetuating problems that became pronounced throughout all presidential terms after de Klerk. \n"
      ],
<<<<<<< HEAD
      "id": "88bf58d3"
=======
<<<<<<< HEAD
      "id": "e91d4e90"
=======
      "id": "0cc4520e"
>>>>>>> cc84a7ed00838ebbd688a823075c7558516b628a
>>>>>>> 19fa0006fd1ab701f3d555416f8541683d3141c2
    },
    {
      "cell_type": "code",
      "metadata": {},
      "source": [
        "import pandas as pd\n",
        "import nltk\n",
        "from nltk.corpus import opinion_lexicon\n",
        "from nltk.tokenize import treebank\n",
        "from afinn import Afinn\n",
        "\n",
        "from dateutil import parser\n",
        "\n",
        "# Function to parse date strings based on the described rule\n",
        "def parse_date(date_str):\n",
        "    # Split the string by comma and take the last part\n",
        "    date_part = date_str.split(',')[-1].strip()\n",
        "    # Parse the date part into a datetime object\n",
        "    return parser.parse(date_part)\n",
        "\n",
        "# Define a function to get Bing lexicon sentiment scores\n",
        "def get_bing_sentiment(text):\n",
        "    tokenizer = treebank.TreebankWordTokenizer()\n",
        "    tokens = tokenizer.tokenize(text.lower())\n",
        "    pos_score = sum(1 for word in tokens if word in positive_words)\n",
        "    neg_score = sum(1 for word in tokens if word in negative_words)\n",
        "    compound_score = pos_score - neg_score\n",
        "    return compound_score\n",
        "\n",
        "\n",
        "# Load the AFINN lexicon\n",
        "afinn = Afinn()\n",
        "\n",
        "# Define a function to get AFINN sentiment scores\n",
        "def get_afinn_sentiment(text):\n",
        "    return afinn.score(text)\n",
        "\n",
        "# Load positive and negative words\n",
        "positive_words = set(opinion_lexicon.positive())\n",
        "negative_words = set(opinion_lexicon.negative())\n",
        "\n",
        "# Apply Bing sentiment analysis\n",
        "sona_speeches_clean['bing_sentiment'] = sona_speeches_clean['speech_untrans'].apply(get_bing_sentiment)\n",
        "sona_sentences_all_untrans['bing_sentiment'] = sona_sentences_all_untrans['sent_untrans'].apply(get_bing_sentiment)\n",
        "\n",
        "# Apply AFINN sentiment analysis\n",
        "sona_speeches_clean['afinn_sentiment'] = sona_speeches_clean['speech_untrans'].apply(lambda text: get_afinn_sentiment(text))\n",
        "sona_sentences_all_untrans['afinn_sentiment'] = sona_sentences_all_untrans['sent_untrans'].apply(lambda text: get_afinn_sentiment(text))\n",
        "\n",
        "# Convert the date strings to datetime objects\n",
        "sona_speeches_clean['date'] = sona_speeches_clean['date'].apply(parse_date)\n",
        "sona_sentences_all_untrans['date'] = sona_sentences_all_untrans['date'].apply(parse_date)\n",
        "\n",
        "# Sort the DataFrames by date in ascending order\n",
        "sona_speeches_clean.sort_values('date', ascending=True, inplace=True)\n",
        "#sona_sentences_all_untrans.sort_values('date', ascending=True, inplace=True)\n",
        "\n",
        "# Create a new variable which is the date as a string\n",
        "sona_speeches_clean['date_str'] = sona_speeches_clean['date'].dt.strftime('%Y-%m-%d')\n",
        "sona_sentences_all_untrans['date_str'] = sona_sentences_all_untrans['date'].dt.strftime('%Y-%m-%d')"
      ],
<<<<<<< HEAD
      "id": "1b9d73e7",
=======
<<<<<<< HEAD
      "id": "7e9daf69",
=======
      "id": "855b1c74",
>>>>>>> cc84a7ed00838ebbd688a823075c7558516b628a
>>>>>>> 19fa0006fd1ab701f3d555416f8541683d3141c2
      "execution_count": null,
      "outputs": []
    },
    {
      "cell_type": "code",
      "metadata": {},
      "source": [
        "import matplotlib.pyplot as plt\n",
        "import pandas as pd\n",
        "\n",
        "# For plotting sentiment scores of speeches by each president\n",
        "def plot_speeches_by_president(df, lexicon):\n",
        "    plt.figure(figsize=(10, 6))\n",
        "\n",
        "    presidents = df['president'].unique()\n",
        "\n",
        "    lexicon_lab = lexicon\n",
        "\n",
        "    if lexicon == 'afinn':\n",
        "        lexicon_lab = 'AFINN'\n",
        "\n",
        "    colors = ['lightsteelblue', colormap[1], 'midnightblue', 'lightgray', 'darkgray',  'dimgray']\n",
        "\n",
        "    for idx, president in enumerate(presidents):\n",
        "        president_df = df[df['president'] == president]\n",
        "        plt.bar(president_df['date_str'], president_df[f'{lexicon}_sentiment'], label=president, color=colors[idx])\n",
        "    plt.xlabel('Date', fontsize=20)\n",
        "    plt.ylabel(f'Sentiment Score', fontsize=20)\n",
        "    plt.xticks(fontsize=14, rotation=45)\n",
        "    plt.yticks(fontsize=14)\n",
        "    plt.legend(loc =\"upper left\")\n",
        "    plt.savefig(f'sentiment_plots/speech_{lexicon}_all.png', bbox_inches='tight')\n",
        "    plt.close()  # Close the figure to avoid displaying it in the notebook\n",
        "\n",
        "\n",
        "# For plotting sentiment scores of sentences by each president\n",
        "def plot_sentences_by_president(df, lexicon):\n",
        "    #plt.figure(figsize=(10, 6))\n",
        "\n",
        "    presidents = df['president'].unique()\n",
        "\n",
        "    colors = [colormap[1],  'dimgray', 'midnightblue', 'darkgray', 'lightsteelblue', 'lightgray']\n",
        "\n",
        "    lexicon_lab = lexicon\n",
        "\n",
        "    if lexicon == 'afinn':\n",
        "        lexicon_lab = 'AFINN'\n",
        "    \n",
        "    # Create a copy of the DataFrame\n",
        "    df = df.copy()\n",
        "\n",
        "    # Add a column for the sentence number\n",
        "    df['sentence_num'] = df.groupby('date_str').cumcount() + 1\n",
        "    \n",
        "    i = 0\n",
        "\n",
        "    for idx, president in enumerate(presidents):\n",
        "        plt.figure(figsize=(10, 6))\n",
        "        president_df = df[df['president'] == president]\n",
        "        plt.bar(president_df['sentence_num'], president_df[f'{lexicon}_sentiment'], label=president, color=colors[i])\n",
        "        plt.xlabel('Sentence', fontsize=20)\n",
        "        plt.ylabel(f'Sentiment Score', fontsize=20)\n",
        "        plt.xticks(rotation=65)\n",
        "        plt.savefig(f'sentiment_plots/sent_{lexicon}_{president}.png', bbox_inches='tight')\n",
        "        plt.close()  # Close the figure to avoid displaying it in the notebook\n",
        "\n",
        "        i += 1\n",
        "\n",
        "    \n",
        "# Assuming 'date' is a column in datetime format and 'president' is the name of each president\n",
        "plot_speeches_by_president(sona_speeches_clean, 'bing')\n",
        "plot_speeches_by_president(sona_speeches_clean, 'afinn')\n",
        "\n",
        "plot_sentences_by_president(sona_sentences_all_untrans, 'bing')\n",
        "plot_sentences_by_president(sona_sentences_all_untrans, 'afinn')\n"
      ],
<<<<<<< HEAD
      "id": "bbc6da2b",
=======
<<<<<<< HEAD
      "id": "107d319c",
=======
      "id": "3bc5910b",
>>>>>>> cc84a7ed00838ebbd688a823075c7558516b628a
>>>>>>> 19fa0006fd1ab701f3d555416f8541683d3141c2
      "execution_count": null,
      "outputs": []
    },
    {
      "cell_type": "code",
      "metadata": {},
      "source": [
        "# Function to calculate word sentiments across all speeches of a president\n",
        "def calculate_word_sentiments(president_speeches, lexicon):\n",
        "    # Combine all speeches into one large text\n",
        "    all_speeches = ' '.join(president_speeches)\n",
        "    # Tokenize the text into words and filter out stopwords and non-alphabetic tokens\n",
        "    words = [word for word in word_tokenize(all_speeches.lower()) if word.isalpha() and word not in stopwords.words('english')]\n",
        "    # Get sentiment score for each word\n",
        "    word_sentiments = defaultdict(int)\n",
        "    for word in words:\n",
        "        # Get the sentiment score for the word\n",
        "        if lexicon == 'bing':\n",
        "            sentiment = get_bing_sentiment(word)\n",
        "        elif lexicon == 'afinn':\n",
        "            sentiment = get_afinn_sentiment(word)\n",
        "\n",
        "        word_sentiments[word] += sentiment\n",
        "    return word_sentiments\n",
        "\n",
        "# Function to plot the top positive and negative words\n",
        "def plot_top_words(word_sentiments, president, lexicon):\n",
        "    # Sort words by sentiment score\n",
        "    sorted_words = sorted(word_sentiments.items(), key=lambda kv: kv[1])\n",
        "    # Select the top 10 positive and negative words\n",
        "    top_positive_words = sorted_words[-10:]\n",
        "    top_negative_words = sorted_words[:10]\n",
        "\n",
        "    # Words and their sentiment scores for plotting\n",
        "    words_positive, scores_positive = zip(*top_positive_words)\n",
        "    words_negative, scores_negative = zip(*top_negative_words)\n",
        "\n",
        "    fig, ax = plt.subplots(figsize=(10, 6))\n",
        "\n",
        "    # Plot the top negative words\n",
        "    ax.barh(range(10), scores_negative, color=colormap[2], label='Negative')\n",
        "    # Plot the top positive words\n",
        "    ax.barh(range(10, 20), scores_positive, color=colormap[0], label='Positive')\n",
        "\n",
        "    # Add the word labels\n",
        "    ax.set_yticks(range(20))\n",
        "    ax.set_yticklabels(words_negative + words_positive, fontsize=20)\n",
        "    \n",
        "    # Set the labels and title\n",
        "    ax.set_xlabel(f'Contribution to Sentiment Score', fontsize=20)\n",
        "    ax.legend(prop = { \"size\": 16 }, loc = \"lower right\")\n",
        "\n",
        "    # Adjust the view so negative words are at the bottom and positive at the top\n",
        "    ax.set_ylim(-1, 20)\n",
        "    \n",
        "    plt.tight_layout()\n",
        "    # Save the plot as a PNG file\n",
        "    plt.savefig(f'sentiment_plots/word_contr_{lexicon}_{president}.png', bbox_inches='tight')\n",
        "    plt.close()  # Close the figure to avoid displaying it in the notebook\n",
        "\n",
        "# Aggregate the speeches by president and calculate the top words\n",
        "presidents_speeches = sona_speeches_clean.groupby('president')['speech_untrans'].apply(list)\n",
        "for president, speeches in presidents_speeches.items():\n",
        "    word_sentiments_bing = calculate_word_sentiments(speeches, 'bing')\n",
        "    word_sentiments_afinn = calculate_word_sentiments(speeches, 'afinn')\n",
        "    plot_top_words(word_sentiments_bing, president, 'bing')\n",
        "    plot_top_words(word_sentiments_bing, president, 'AFINN')"
      ],
<<<<<<< HEAD
      "id": "020dd2e6",
=======
<<<<<<< HEAD
      "id": "186306e2",
=======
      "id": "f6051324",
>>>>>>> cc84a7ed00838ebbd688a823075c7558516b628a
>>>>>>> 19fa0006fd1ab701f3d555416f8541683d3141c2
      "execution_count": null,
      "outputs": []
    },
    {
      "cell_type": "code",
      "metadata": {},
      "source": [
        "# Function to calculate word sentiments across all speeches\n",
        "def calculate_word_sentiments(speeches, lexicon):\n",
        "    # Combine all speeches into one large text\n",
        "    all_speeches = ' '.join(speeches)\n",
        "    # Tokenize the text into words and filter out stopwords and non-alphabetic tokens\n",
        "    words = [word for word in word_tokenize(all_speeches.lower()) if word.isalpha() and word not in stopwords.words('english')]\n",
        "    # Get sentiment score for each word\n",
        "    word_sentiments = defaultdict(int)\n",
        "    for word in words:\n",
        "        # Get the sentiment score for the word\n",
        "        if lexicon == 'bing':\n",
        "            sentiment = get_bing_sentiment(word)\n",
        "        elif lexicon == 'afinn':\n",
        "            sentiment = get_afinn_sentiment(word)\n",
        "\n",
        "        word_sentiments[word] += sentiment\n",
        "    return word_sentiments\n",
        "\n",
        "# Function to plot the top positive and negative words\n",
        "def plot_top_words(word_sentiments, lexicon):\n",
        "    # Sort words by sentiment score\n",
        "    sorted_words = sorted(word_sentiments.items(), key=lambda kv: kv[1])\n",
        "    # Select the top 10 positive and negative words\n",
        "    top_positive_words = sorted_words[-10:]\n",
        "    top_negative_words = sorted_words[:10]\n",
        "\n",
        "    # Words and their sentiment scores for plotting\n",
        "    words_positive, scores_positive = zip(*top_positive_words)\n",
        "    words_negative, scores_negative = zip(*top_negative_words)\n",
        "\n",
        "    fig, ax = plt.subplots(figsize=(10, 6))\n",
        "\n",
        "    # Plot the top negative words\n",
        "    ax.barh(range(10), scores_negative, color=colormap[2], label='Negative')\n",
        "    # Plot the top positive words\n",
        "    ax.barh(range(10, 20), scores_positive, color=colormap[0], label='Positive')\n",
        "\n",
        "    # Add the word labels\n",
        "    ax.set_yticks(range(20))\n",
        "    ax.set_yticklabels(words_negative + words_positive, fontsize=20)\n",
        "    # ax.yticks(fontsize=16)\n",
        "\n",
        "    # Set the labels and title\n",
        "    ax.set_xlabel(f'Contribution to Sentiment Score',fontsize=20)\n",
        "    ax.legend()\n",
        "    # ax.xticks(fontsize=16)\n",
        "\n",
        "    # Adjust the view so negative words are at the bottom and positive at the top\n",
        "    ax.set_ylim(-1, 20)\n",
        "    \n",
        "    plt.tight_layout()\n",
        "    plt.savefig(f'sentiment_plots/word_contr_{lexicon}_all.png', bbox_inches='tight')\n",
        "    plt.close()  # Close the figure to avoid displaying it in the notebook\n",
        "\n",
        "# Calculate the word sentiments across all speeches for each lexicon\n",
        "all_speeches = sona_speeches_clean['speech_untrans'].tolist()\n",
        "word_sentiments_bing = calculate_word_sentiments(all_speeches, 'bing')\n",
        "word_sentiments_afinn = calculate_word_sentiments(all_speeches, 'afinn')\n",
        "\n",
        "# Plot the top words for each lexicon\n",
        "plot_top_words(word_sentiments_bing, 'bing')\n",
        "plot_top_words(word_sentiments_afinn, 'AFINN')"
      ],
<<<<<<< HEAD
      "id": "f43578c1",
=======
<<<<<<< HEAD
      "id": "59378547",
=======
      "id": "51c15032",
>>>>>>> cc84a7ed00838ebbd688a823075c7558516b628a
>>>>>>> 19fa0006fd1ab701f3d555416f8541683d3141c2
      "execution_count": null,
      "outputs": []
    },
    {
      "cell_type": "markdown",
      "metadata": {},
      "source": [
        "<h5> Topic modelling Results </h5>\n",
        "<hr> \n",
        "\n",
        "<h4> Latent Semantic Analysis (LSA) </h4> \n",
        "\n",
        "In the micro-context (i.e., word tokenization) of LSA implementation, the maximum coherence score of -1.5 seen in @fig-words-coherence indicates that three topics are optimal when utilizing the tf-idf approach. In contrast, there is no discernible difference in the coherence scores across a range of topic numbers when instead using the BoW approach. Hence, for comparative purposes, three topics are also chosen as best in this instance.\n",
        "\n",
        "![Coherence plot for LSA where SONA speeches were tokenized by words.](lsa_plots/words_coherence_plots){#fig-words-coherence}\n",
        "\n",
        "Unlike within the micro-context, LSA now applied in the maro-context (i.e., sentence tokenization) indicates more variability in the choice of the optimal topic number for both BoW and tf-idf approaches. Due to the excessive jumps between high and low coherence scores across the topic amounts seen in Figure, it is opted to choose the lowest number (but greater than two). This choice aims to limit potential theme-overlapping (i.e., many common words shared across topics) and allow for more conciseness. \n",
        "\n",
        "::: {#fig-LSA-words-BoW-topics layout-ncol=2}\n",
        "\n",
        "![BoW: Topic 1](lsa_plots/words_bow_topic_1.png){#fig-words-bow-topic1}\n",
        "\n",
        "![tf-idf: Topic 1](lsa_plots/words_tfidf_topic_1.png){#fig-words-tfidf-topic1}\n",
        "\n",
        "![BoW: Topic 2](lsa_plots/words_bow_topic_2.png){#fig-words-bow-topic2}\n",
        "\n",
        "![tf-idf: Topic 2](lsa_plots/words_tfidf_topic_2.png){#fig-words-tfidf-topic2}\n",
        "\n",
        "![BoW: Topic 3](lsa_plots/words_bow_topic_3.png){#fig-words-bow-topic3}\n",
        "\n",
        "![tf-idf: Topic 3](lsa_plots/words_tfidf_topic_3.png){#fig-words-tfidf-topic3}\n",
        "\n",
        "Topic-by-word plots for BoW (left) and tf-idf (right) approach for LSA implementation.\n",
        ":::\n",
        "\n",
        "![Coherence plot for LSA where SONA speeches were tokenized by sentences.](lsa_plots/sentence_coherence_plots.png){#fig-sentences-coherence}\n",
        "\n",
        "::: {#fig-LSA-sentences-BoW-topics layout-ncol=3}\n",
        "\n",
        "![BoW: Topic 1](lsa_plots/sentences_bow_topic_1.png){#fig-sentences-bow-topic1}\n",
        "\n",
        "![BoW: Topic 2](lsa_plots/sentences_bow_topic_2.png){#fig-sentences-bow-topic2}\n",
        "\n",
        "![BoW: Topic 3](lsa_plots/sentences_bow_topic_3.png){#fig-sentences-bow-topic3}\n",
        "\n",
        "SONA speeches tokenized by sentences for BoW approach for LSA implementation.\n",
        ":::\n",
        "\n",
        "::: {#fig-LSA-sentences-tfidf-topics layout-ncol=2}\n",
        "\n",
        "![tf-idf: Topic 1](lsa_plots/sentences_tfidf_topic_1.png){#fig-sentences-tfidf-topic1}\n",
        "\n",
        "![tf-idf: Topic 2](lsa_plots/sentences_tfidf_topic_2.png){#fig-sentences-tfidf-topic2}\n",
        "\n",
        "![tf-idf: Topic 3](lsa_plots/sentences_tfidf_topic_3.png){#fig-sentences-tfidf-topic3}\n",
        "\n",
        "![tf-idf: Topic 4](lsa_plots/sentences_tfidf_topic_4.png){#fig-sentences-tfidf-topic4}\n",
        "\n",
        "SONA speeches tokenized by sentences for tf-idf approach for LSA implementation.\n",
        ":::\n"
      ],
<<<<<<< HEAD
      "id": "48ea13fd"
=======
<<<<<<< HEAD
      "id": "9ef41dc9"
=======
      "id": "a39ec8cb"
>>>>>>> cc84a7ed00838ebbd688a823075c7558516b628a
>>>>>>> 19fa0006fd1ab701f3d555416f8541683d3141c2
    },
    {
      "cell_type": "code",
      "metadata": {},
      "source": [
        "import matplotlib.pyplot as plt\n",
        "from gensim.models import LsiModel, TfidfModel\n",
        "from gensim.models.coherencemodel import CoherenceModel\n",
        "from gensim import corpora\n",
        "from gensim.utils import simple_preprocess\n",
        "\n",
        "texts = sona_speeches_clean['speech']\n",
        "sentences = sona_sentences_alltogether['sentence']\n",
        "\n",
        "# Further process tokens using gensim's simple_preprocess\n",
        "tokenized_texts = [simple_preprocess(doc, deacc=True) for doc in texts]  # deacc=True removes punctuations\n",
        "tokenized_sentences = [simple_preprocess(doc, deacc=True) for doc in sentences]  # deacc=True removes punctuations\n",
        "\n",
        "# Create a Gensim dictionary from the tokenized documents\n",
        "dictionary = corpora.Dictionary(tokenized_texts)\n",
        "dict_sentences = corpora.Dictionary(tokenized_sentences)\n",
        "\n",
        "#dictionary.filter_extremes(no_below=2, no_above=0.7)\n",
        "#dict_sentences.filter_extremes(no_below=2, no_above=0.7)\n",
        "\n",
        "# Create a BOW corpus\n",
        "bow_corpus = [dictionary.doc2bow(text) for text in tokenized_texts]\n",
        "bow_corpus_sentences = [dict_sentences.doc2bow(text) for text in tokenized_sentences]\n",
        "\n",
        "# Create a TF-IDF corpus\n",
        "tfidf = TfidfModel(bow_corpus)\n",
        "tfidf_corpus = tfidf[bow_corpus]\n",
        "\n",
        "tfidf_sentences = TfidfModel(bow_corpus_sentences)\n",
        "tfidf_corpus_sentences = tfidf_sentences[bow_corpus_sentences]\n",
        "\n",
        "# Define the function to compute coherence values\n",
        "def compute_coherence_values(dictionary, corpus, texts, start, limit, step, coherence='u_mass'):\n",
        "    coherence_values = []\n",
        "    model_list = []\n",
        "    for num_topics in range(start, limit, step):\n",
        "        model = LsiModel(corpus=corpus, num_topics=num_topics, id2word=dictionary)\n",
        "        model_list.append(model)\n",
        "        coherencemodel = CoherenceModel(model=model, texts=tokenized_texts, dictionary=dictionary, coherence=coherence)\n",
        "        coherence_values.append(coherencemodel.get_coherence())\n",
        "    return model_list, coherence_values\n",
        "\n",
        "# Set parameters\n",
        "start, limit, step = 2, 20, 1\n",
        "\n",
        "# Compute coherence values for BOW\n",
        "bow_model_list, bow_coherence_values = compute_coherence_values(dictionary=dictionary, corpus=bow_corpus, texts=texts, start=start, limit=limit, step=step)\n",
        "\n",
        "bow_model_list_sentences, bow_coherence_values_sentences = compute_coherence_values(dictionary=dict_sentences, corpus=bow_corpus_sentences, texts=sentences, start=start, limit=limit, step=step)\n",
        "\n",
        "# Compute coherence values for TF-IDF\n",
        "tfidf_model_list, tfidf_coherence_values = compute_coherence_values(dictionary=dictionary, corpus=tfidf_corpus, texts=tokenized_texts, start=start, limit=limit, step=step)\n",
        "\n",
        "tfidf_model_list_sentences, tfidf_coherence_values_sentences = compute_coherence_values(dictionary=dict_sentences, corpus=tfidf_corpus_sentences, texts=sentences, start=start, limit=limit, step=step)"
      ],
<<<<<<< HEAD
      "id": "68a292ec",
=======
<<<<<<< HEAD
      "id": "572d5097",
=======
      "id": "f2a855c3",
>>>>>>> cc84a7ed00838ebbd688a823075c7558516b628a
>>>>>>> 19fa0006fd1ab701f3d555416f8541683d3141c2
      "execution_count": null,
      "outputs": []
    },
    {
      "cell_type": "code",
      "metadata": {},
      "source": [
        "from matplotlib.ticker import MaxNLocator\n",
        "\n",
        "# Plotting the coherence values\n",
        "x = range(start, limit, step)\n",
        "plt.figure(figsize=(10, 6))\n",
        "plt.plot(x, bow_coherence_values, label='BoW', color='midnightblue')\n",
        "plt.plot(x, tfidf_coherence_values, label='tf-idf', color='darkgray')\n",
        "plt.xlabel(\"Number of Topics\", fontsize=16)\n",
        "plt.ylabel(\"Coherence score\",  fontsize=16)\n",
        "plt.legend(loc='lower left')\n",
        "plt.gca().xaxis.set_major_locator(MaxNLocator(integer=True))\n",
        "plt.savefig(f'lsa_plots/words_coherence_plots.png', bbox_inches='tight')\n",
        "plt.close()\n",
        "\n",
        "\n",
        "# Plotting the coherence values\n",
        "x = range(start, limit, step)\n",
        "plt.figure(figsize=(10, 6))\n",
        "plt.plot(x, bow_coherence_values_sentences, label='BoW', color='midnightblue')\n",
        "plt.plot(x, tfidf_coherence_values_sentences, label='tf-idf', color='darkgray')\n",
        "plt.xlabel(\"Number of Topics\", fontsize=16)\n",
        "plt.ylabel(\"Coherence score\",  fontsize=16)\n",
        "plt.legend(loc='lower right')\n",
        "plt.gca().xaxis.set_major_locator(MaxNLocator(integer=True))\n",
        "plt.savefig(f'lsa_plots/sentence_coherence_plots.png', bbox_inches='tight')\n",
        "plt.close()"
      ],
<<<<<<< HEAD
      "id": "2fd205db",
=======
<<<<<<< HEAD
      "id": "b9e38279",
=======
      "id": "49acc870",
>>>>>>> cc84a7ed00838ebbd688a823075c7558516b628a
>>>>>>> 19fa0006fd1ab701f3d555416f8541683d3141c2
      "execution_count": null,
      "outputs": []
    },
    {
      "cell_type": "code",
      "metadata": {},
      "source": [
        "lsa_bow_words = LsiModel(corpus=bow_corpus, num_topics=3, id2word=dictionary)\n",
        "lsa_bow_sentences = LsiModel(corpus=bow_corpus_sentences, num_topics=3, id2word=dict_sentences)\n",
        "\n",
        "lsa_tfidf_words = LsiModel(corpus=tfidf_corpus, num_topics=3, id2word=dictionary)\n",
        "lsa_tfidf_sentences = LsiModel(corpus=tfidf_corpus_sentences, num_topics=4, id2word=dict_sentences)"
      ],
<<<<<<< HEAD
      "id": "7a2fa8dd",
=======
<<<<<<< HEAD
      "id": "77a60726",
=======
      "id": "ad85dc4a",
>>>>>>> cc84a7ed00838ebbd688a823075c7558516b628a
>>>>>>> 19fa0006fd1ab701f3d555416f8541683d3141c2
      "execution_count": null,
      "outputs": []
    },
    {
      "cell_type": "code",
      "metadata": {},
      "source": [
        "import matplotlib.pyplot as plt\n",
        "\n",
        "# Function to plot top words for each topic\n",
        "def plot_top_words_lsa(model, num_words=10):\n",
        "    topics = model.show_topics(num_topics=-1, num_words=num_words, formatted=False)\n",
        "    fig, axes = plt.subplots(1, len(topics), figsize=(5 * len(topics), 10), sharey=True)\n",
        "    axes = axes.flatten()\n",
        "    \n",
        "    colors = ['lightsteelblue', 'midnightblue', 'lightgray', 'dimgray']\n",
        "    \n",
        "    i = 0\n",
        "    \n",
        "    for topic_id, topic in topics:\n",
        "        top_words = [word for word, _ in topic]\n",
        "        weights = [abs(weight) for _, weight in topic]  # Use absolute values to show contribution\n",
        "        \n",
        "        ax = axes[topic_id]\n",
        "        ax.barh(top_words, weights, color=colors[i])\n",
        "        ax.set_title(f'Topic {topic_id + 1}')\n",
        "        ax.invert_yaxis()\n",
        "        \n",
        "        ax.set_xlabel('Word Importance', fontsize=20)\n",
        "        ax.set_ylabel('Words', fontsize=20)\n",
        "\n",
        "        i += 1\n",
        "\n",
        "    plt.tight_layout()\n",
        "    plt.figure(figsize=(10, 6))\n",
        "    plt.show()\n",
        "\n",
        "# Plot the top words for each topic for the LSA models\n",
        "#plot_top_words_lsa(lsa_bow_words)\n",
        "#plot_top_words_lsa(lsa_bow_sentences)\n",
        "\n",
        "#plot_top_words_lsa(lsa_tfidf_words)\n",
        "#plot_top_words_lsa(lsa_tfidf_sentences)"
      ],
<<<<<<< HEAD
      "id": "b8353d3c",
=======
<<<<<<< HEAD
      "id": "93994cdb",
=======
      "id": "251be3cf",
>>>>>>> cc84a7ed00838ebbd688a823075c7558516b628a
>>>>>>> 19fa0006fd1ab701f3d555416f8541683d3141c2
      "execution_count": null,
      "outputs": []
    },
    {
      "cell_type": "code",
      "metadata": {},
      "source": [
        "import matplotlib.pyplot as plt\n",
        "\n",
        "\n",
        "\n",
        "# Function to plot the top words for each topic in a single LSA model\n",
        "def plot_top_words_for_each_topic(model, fiton, lexicon, num_words=10):\n",
        "\n",
        "    colors = ['lightsteelblue', 'midnightblue', 'lightgray', 'dimgray']\n",
        "    \n",
        "    j = 0\n",
        "\n",
        "    for i in range(model.num_topics):\n",
        "        # Extract the top words for this topic\n",
        "        top_words = model.show_topic(i, num_words)\n",
        "        # Separate the words and their corresponding weights\n",
        "        words, weights = zip(*top_words)\n",
        "        weights = [abs(weight) for weight in weights]  # Use absolute values for weights\n",
        "\n",
        "        # Create a bar chart for the top words in this topic\n",
        "        plt.figure(figsize=(10, 6))\n",
        "        plt.barh(words, weights, color = colors[j])\n",
        "        # ax.set_yticklabels(words, fontsize=20)\n",
        "        j += 1\n",
        "        plt.xlabel('Weight')\n",
        "        plt.gca().invert_yaxis()  # Highest weights on top\n",
        "        plt.savefig(f'lsa_plots/{fiton}_{lexicon}_topic_{i + 1}.png', bbox_inches='tight')\n",
        "        plt.close()\n",
        "\n",
        "\n",
        "# Apply the plotting function to each of your LSA models\n",
        "plot_top_words_for_each_topic(lsa_bow_words, 'words', 'bow')\n",
        "plot_top_words_for_each_topic(lsa_bow_sentences, 'sentences', 'bow')\n",
        "plot_top_words_for_each_topic(lsa_tfidf_words, 'words', 'tfidf')\n",
        "plot_top_words_for_each_topic(lsa_tfidf_sentences, 'sentences', 'tfidf')"
      ],
<<<<<<< HEAD
      "id": "cfae9563",
=======
<<<<<<< HEAD
      "id": "1f36d02d",
=======
      "id": "41a50be1",
>>>>>>> cc84a7ed00838ebbd688a823075c7558516b628a
>>>>>>> 19fa0006fd1ab701f3d555416f8541683d3141c2
      "execution_count": null,
      "outputs": []
    },
    {
      "cell_type": "markdown",
      "metadata": {},
      "source": [
        "<h4> pLSA </h4> \n",
        "\n",
        "As previously found with the implementation of LSA, there is essentially no variability in the coherence scores when utilizing the BoW approach for the word-tokenized application of pLSA. Though, like with LSA, there are fluctuating changes in the coherence scores across topic numbers when considering the tf-idf approach. Again, it is opted to take the minimum-best (based on tf-idf) number of three topics for both approaches which\n",
        "\n",
        "![Coherence plot for pLSA where SONA speeches were tokenized by words.](plsa_plots/words_coherence.png){#fig-pLSA-words-coherence}\n",
        "\n",
        "::: {#fig-pLSA-words-tfidf-topics layout-ncol=2}\n",
        "\n",
        "![BoW: Topic 1](plsa_plots/words-BoW_topic_1.png){#fig-pLSA-words-bow-topic1}\n",
        "\n",
        "![tf-idf: Topic 1](plsa_plots/words-tf-idf_topic_1.png){#fig-pLSA-words-tfidf-topic1}\n",
        "\n",
        "![BoW: Topic 2](plsa_plots/words-BoW_topic_2.png){#fig-pLSA-words-bow-topic2}\n",
        "\n",
        "![tf-idf: Topic 2](plsa_plots/words-tf-idf_topic_2.png){#fig-pLSA-words-tfidf-topic2}\n",
        "\n",
        "![BoW: Topic 3](plsa_plots/words-BoW_topic_3.png){#fig-pLSA-words-bow-topic3}\n",
        "\n",
        "![tf-idf: Topic 3](plsa_plots/words-tf-idf_topic_3.png){#fig-pLSA-words-tfidf-topic3}\n",
        "\n",
        "![BoW: Topic 4](plsa_plots/words-BoW_topic_4.png){#fig-pLSA-words-bow-topic4}\n",
        "\n",
        "![tf-idf: Topic 4](plsa_plots/words-tf-idf_topic_4.png){#fig-pLSA-words-tfidf-topic4}\n",
        "\n",
        "Topic plots for pLSA tokenized by words and executed within a BoW (left) and tf-idf (right) framework. \n",
        ":::\n",
        "\n",
        "![Coherence plot for pLSA where SONA speeches were tokenized by sentences.](plsa_plots/sentences_coherence.png){#fig-pLSA-sentences-coherence}\n",
        "\n",
        "::: {#fig-pLSA-sentences-topics layout-ncol=2}\n",
        "\n",
        "![BoW: Topic 1](plsa_plots/sentences-BoW_topic_1.png){#fig-pLSA-sentences-bow-topic1}\n",
        "\n",
        "![BoW: Topic 2](plsa_plots/sentences-BoW_topic_2.png){#fig-pLSA-sentences-bow-topic2}\n",
        "\n",
        "![BoW: Topic 3](plsa_plots/sentences-BoW_topic_3.png){#fig-pLSA-sentences-bow-topic3}\n",
        "\n",
        "Topic plots for pLSA using sentences as tokens within a BoW approach. \n",
        ":::\n",
        "\n",
        "\n",
        "::: {#fig-pLSA-sentences-topics layout-ncol=2}\n",
        "\n",
        "![tf-idf: Topic 1](plsa_plots/sentences-tf-idf_topic_1.png){#fig-pLSA-sentences-tfidf-topic1}\n",
        "\n",
        "![tf-idf: Topic 2](plsa_plots/sentences-tf-idf_topic_2.png){#fig-pLSA-sentences-tfidf-topic2}\n",
        "\n",
        "![tf-idf: Topic 3](plsa_plots/sentences-tf-idf_topic_3.png){#fig-pLSA-sentences-tfidf-topic3}\n",
        "\n",
        "![tf-idf: Topic 4](plsa_plots/sentences-tf-idf_topic_4.png){#fig-pLSA-sentences-tfidf-topic4}\n",
        "\n",
        "Topic plots for pLSA using sentences as tokens implemented within a tf-idf approach. \n",
        ":::\n"
      ],
<<<<<<< HEAD
      "id": "dbbd09f9"
=======
<<<<<<< HEAD
      "id": "4184b6d6"
=======
      "id": "6a628d70"
>>>>>>> cc84a7ed00838ebbd688a823075c7558516b628a
>>>>>>> 19fa0006fd1ab701f3d555416f8541683d3141c2
    },
    {
      "cell_type": "code",
      "metadata": {},
      "source": [
        "sona_speeches_clean['speech'].to_csv('data/sona_speeches_only.csv', index=False)\n",
        "sona_sentences_alltogether['sentence'].to_csv('data/sona_sentences_only.csv', index=False)"
      ],
<<<<<<< HEAD
      "id": "dbf8b3b9",
=======
<<<<<<< HEAD
      "id": "f475d0a3",
=======
      "id": "4d608f41",
>>>>>>> cc84a7ed00838ebbd688a823075c7558516b628a
>>>>>>> 19fa0006fd1ab701f3d555416f8541683d3141c2
      "execution_count": null,
      "outputs": []
    },
    {
      "cell_type": "code",
      "metadata": {},
      "source": [
        "import math\n",
        "import random \n",
        "\n",
        "random.seed(5)\n",
        "\n",
        "def calculate_umass_coherence(plsa_result, corpus, top_n=10, tf_idf=False):\n",
        "    # Extract the top N words for each topic\n",
        "    top_words_by_topic = [\n",
        "        [word for word, _ in plsa_result.word_given_topic[i][:top_n]]\n",
        "        for i in range(plsa_result.n_topics)\n",
        "    ]\n",
        "    \n",
        "    # Get document-word matrix (document frequency matrix)\n",
        "    doc_word_matrix = corpus.get_doc_word(tf_idf=tf_idf)\n",
        "    \n",
        "    # Calculate document frequencies for single words\n",
        "    word_doc_freq = np.sum(doc_word_matrix > 0, axis=0)\n",
        "    \n",
        "    # Calculate coherence for each topic\n",
        "    topic_coherences = []\n",
        "    for top_words in top_words_by_topic:\n",
        "        pair_scores = []\n",
        "        for i, word in enumerate(top_words):\n",
        "            for j in range(i + 1, len(top_words)):\n",
        "                # Get indices in the vocabulary\n",
        "                word_i_index = corpus.index[word]\n",
        "                word_j_index = corpus.index[top_words[j]]\n",
        "                \n",
        "                # Count the documents where both words appear\n",
        "                both_docs = np.sum((doc_word_matrix[:, word_i_index] > 0) & (doc_word_matrix[:, word_j_index] > 0))\n",
        "                \n",
        "                # Calculate score for this word pair\n",
        "                score = math.log((both_docs + 1.0) / word_doc_freq[word_i_index])  # Add 1 to avoid log(0)\n",
        "                pair_scores.append(score)\n",
        "                \n",
        "        # Average over all pairs to get the topic coherence\n",
        "        topic_coherence = sum(pair_scores) / len(pair_scores)\n",
        "        topic_coherences.append(topic_coherence)\n",
        "        \n",
        "    # Average over all topics to get the overall coherence\n",
        "    overall_coherence = sum(topic_coherences) / len(topic_coherences)\n",
        "    return overall_coherence\n"
      ],
<<<<<<< HEAD
      "id": "6552a682",
=======
<<<<<<< HEAD
      "id": "f8014b18",
=======
      "id": "35f09f17",
>>>>>>> cc84a7ed00838ebbd688a823075c7558516b628a
>>>>>>> 19fa0006fd1ab701f3d555416f8541683d3141c2
      "execution_count": null,
      "outputs": []
    },
    {
      "cell_type": "code",
      "metadata": {},
      "source": [
        "import matplotlib.pyplot as plt\n",
        "from plsa import Corpus, Pipeline, Visualize\n",
        "from plsa.pipeline import DEFAULT_PIPELINE\n",
        "from plsa.algorithms import PLSA\n",
        "import random \n",
        "\n",
        "random.seed(5)\n",
        "np.random.seed(5)\n",
        "\n",
        "pipeline = Pipeline(*DEFAULT_PIPELINE)\n",
        "\n",
        "corpus = Corpus.from_csv(\"data/sona_speeches_only.csv\", pipeline)\n",
        "corpus_sent = Corpus.from_csv(\"data/sona_sentences_only.csv\", pipeline)\n",
        "\n",
        "topic_numbers = range(2, 12, 1)\n",
        "\n",
        "# Loop over the topic number and calculate the coherence values\n",
        "bow_coherence_values = []\n",
        "bow_coherence_values_sent = []\n",
        "tfidf_coherence_values = []\n",
        "tfidf_coherence_values_sent = []\n",
        "\n",
        "for n_topics in topic_numbers:\n",
        "    # Initialize the models\n",
        "    tfidf_plsa = PLSA(corpus, n_topics, tf_idf=True)\n",
        "    bow_plsa = PLSA(corpus, n_topics, tf_idf=False)\n",
        "\n",
        "    tfidf_plsa_sent = PLSA(corpus_sent, n_topics, tf_idf=True)\n",
        "    bow_plsa_sent = PLSA(corpus_sent, n_topics, tf_idf=False)\n",
        "\n",
        "    # Fit the models\n",
        "    tfidf_result = tfidf_plsa.fit()\n",
        "    bow_result = bow_plsa.fit()\n",
        "    tfidf_result_sent = tfidf_plsa_sent.fit()\n",
        "    bow_result_sent = bow_plsa_sent.fit()\n",
        "\n",
        "    # Calculate the coherence values\n",
        "    bow_coherence_values.append(calculate_umass_coherence(bow_result, corpus, tf_idf=False))\n",
        "    tfidf_coherence_values.append(calculate_umass_coherence(tfidf_result, corpus, tf_idf=True))\n",
        "    bow_coherence_values_sent.append(calculate_umass_coherence(bow_result_sent, corpus_sent, tf_idf=False))\n",
        "    tfidf_coherence_values_sent.append(calculate_umass_coherence(tfidf_result_sent, corpus_sent, tf_idf=True))"
      ],
<<<<<<< HEAD
      "id": "3c40ac68",
=======
<<<<<<< HEAD
      "id": "d11783f7",
=======
      "id": "07871bd8",
>>>>>>> cc84a7ed00838ebbd688a823075c7558516b628a
>>>>>>> 19fa0006fd1ab701f3d555416f8541683d3141c2
      "execution_count": null,
      "outputs": []
    },
    {
      "cell_type": "code",
      "metadata": {},
      "source": [
        "# Plot the speech coherence values - updated\n",
        "plt.figure(figsize=(10, 6))\n",
        "plt.plot(topic_numbers, bow_coherence_values, label='BoW', color='midnightblue')\n",
        "plt.plot(topic_numbers, tfidf_coherence_values, label='tf-idf', color='darkgray')\n",
        "plt.xlabel(\"Number of Topics\", fontsize=16)\n",
        "plt.ylabel(\"Coherence score\",  fontsize=16)\n",
        "plt.legend(loc='lower right')\n",
        "plt.savefig(f'plsa_plots/words_coherence.png', bbox_inches='tight')\n",
        "plt.close()\n",
        "\n",
        "\n",
        "# Plot the sentence coherence values - updated\n",
        "plt.figure(figsize=(10, 6))\n",
        "plt.plot(topic_numbers, bow_coherence_values_sent, label='BoW', color='midnightblue')\n",
        "plt.plot(topic_numbers, tfidf_coherence_values_sent, label='tf-idf', color='darkgray')\n",
        "plt.xlabel(\"Number of Topics\", fontsize=16)\n",
        "plt.ylabel(\"Coherence score\",  fontsize=16)\n",
        "plt.legend(loc='lower right')\n",
        "plt.savefig(f'plsa_plots/sentences_coherence.png', bbox_inches='tight')\n",
        "plt.close()"
      ],
<<<<<<< HEAD
      "id": "787c900c",
=======
<<<<<<< HEAD
      "id": "651d5fb4",
=======
      "id": "9f93585f",
>>>>>>> cc84a7ed00838ebbd688a823075c7558516b628a
>>>>>>> 19fa0006fd1ab701f3d555416f8541683d3141c2
      "execution_count": null,
      "outputs": []
    },
    {
      "cell_type": "code",
      "metadata": {},
      "source": [
        "# TODO: Change to the official number of topics\n",
        "\n",
        "# Fit the models with the calibrated number of topics\n",
        "tfidf_plsa = PLSA(corpus, 4, tf_idf=True)\n",
        "bow_plsa = PLSA(corpus, 4, tf_idf=False)\n",
        "tfidf_plsa_sent = PLSA(corpus_sent, 8, tf_idf=True)\n",
        "bow_plsa_sent = PLSA(corpus_sent, 3, tf_idf=False)\n",
        "\n",
        "# Fit the models\n",
        "tfidf_result = tfidf_plsa.fit()\n",
        "bow_result = bow_plsa.fit()\n",
        "tfidf_result_sent = tfidf_plsa_sent.fit()\n",
        "bow_result_sent = bow_plsa_sent.fit()"
      ],
<<<<<<< HEAD
      "id": "a40804a2",
=======
<<<<<<< HEAD
      "id": "022030df",
=======
      "id": "903468f7",
>>>>>>> cc84a7ed00838ebbd688a823075c7558516b628a
>>>>>>> 19fa0006fd1ab701f3d555416f8541683d3141c2
      "execution_count": null,
      "outputs": []
    },
    {
      "cell_type": "code",
      "metadata": {},
      "source": [
        "# Function to plot the top words for a given topic\n",
        "def plot_top_words_for_topic(word_given_topic, topic_num, corptype, color, top_n=10):\n",
        "    # Extract the top words for this topic\n",
        "    top_words_data = word_given_topic[topic_num][:top_n]\n",
        "    words, probabilities = zip(*top_words_data)\n",
        "\n",
        "    # Create a bar plot\n",
        "    plt.figure(figsize=(10, 6))\n",
        "    plt.barh(words, probabilities, color=color)\n",
        "    plt.xlabel('Probability', fontsize=16)\n",
        "    plt.gca().invert_yaxis() \n",
        "    plt.savefig(f'plsa_plots/{corptype}_topic_{topic_num + 1}.png', bbox_inches='tight')\n",
        "    plt.close()\n",
        "\n",
        "\n",
        "def plot_word_contribution(result, corptype):\n",
        "    # Number of topics in your model\n",
        "    n_topics = len(result.word_given_topic)\n",
        "\n",
        "    colours = ['lightsteelblue', 'midnightblue', 'lightgray', 'dimgray']\n",
        "    \n",
        "    i = 0\n",
        "\n",
        "    # Plot the top words for each topic\n",
        "    for topic_num in range(n_topics):\n",
        "        plot_top_words_for_topic(result.word_given_topic, topic_num, corptype, colours[i])\n",
        "        i+=1\n",
<<<<<<< HEAD
        "\n",
        "        if i == 4:\n",
        "            i = 0\n",
=======
>>>>>>> cc84a7ed00838ebbd688a823075c7558516b628a
        "\n",
        "# Plot the word contribution for each topic for each model\n",
        "plot_word_contribution(bow_result, 'words-BoW')\n",
        "plot_word_contribution(tfidf_result, 'words-tf-idf')\n",
        "plot_word_contribution(bow_result_sent, 'sentences-BoW')\n",
        "plot_word_contribution(tfidf_result_sent, 'sentences-tf-idf')"
      ],
<<<<<<< HEAD
      "id": "5956fe12",
=======
<<<<<<< HEAD
      "id": "7320c510",
=======
      "id": "7dff7197",
>>>>>>> cc84a7ed00838ebbd688a823075c7558516b628a
>>>>>>> 19fa0006fd1ab701f3d555416f8541683d3141c2
      "execution_count": null,
      "outputs": []
    },
    {
      "cell_type": "markdown",
      "metadata": {},
      "source": [
        "<h4> LDA </h4> \n",
        "\n",
        "::: {#fig-LDA-contours layout-ncol=2}\n",
        "\n",
        "![Words](lda_plots/words_contour_plot.png){#fig-LDA-contour-words}\n",
        "\n",
        "![Sentences](lda_plots/sentences_contour_plot.png){#fig-LDA-contour-sentences}\n",
        "\n",
        "Contour plots visualizing variation in coherence scores tuned across range of different $\\alpha$ and $\\beta$ hyperparameter values. \n",
        ":::\n"
      ],
<<<<<<< HEAD
      "id": "ce95b84e"
=======
<<<<<<< HEAD
      "id": "bc2afa32"
=======
      "id": "b9cfdbae"
>>>>>>> cc84a7ed00838ebbd688a823075c7558516b628a
>>>>>>> 19fa0006fd1ab701f3d555416f8541683d3141c2
    },
    {
      "cell_type": "code",
      "metadata": {},
      "source": [
        "import numpy as np\n",
        "import gensim\n",
        "from gensim.models import LdaModel\n",
        "from gensim.models.coherencemodel import CoherenceModel\n",
        "from gensim import corpora\n",
        "from gensim.models import TfidfModel\n",
        "import matplotlib.pyplot as plt\n",
        "import tqdm\n",
        "\n",
        "texts = sona_speeches_clean['speech']\n",
        "sentences = sona_sentences_alltogether['sentence']\n",
        "\n",
        "# Further process tokens using gensim's simple_preprocess\n",
        "tokenized_texts = [simple_preprocess(doc, deacc=True) for doc in texts]  # deacc=True removes punctuations\n",
        "tokenized_sentences = [simple_preprocess(doc, deacc=True) for doc in sentences]  # deacc=True removes punctuations\n",
        "\n",
        "# Create a Gensim dictionary from the tokenized documents\n",
        "dictionary = corpora.Dictionary(tokenized_texts)\n",
        "dictionary.filter_extremes(no_below=3, no_above=0.7)\n",
        "\n",
        "dict_sentences = corpora.Dictionary(tokenized_sentences)\n",
        "dict_sentences.filter_extremes(no_below=3, no_above=0.7)\n",
        "\n",
        "# Create a BOW corpus\n",
        "bow_corpus = [dictionary.doc2bow(text) for text in tokenized_texts]\n",
        "bow_corpus_sentences = [dict_sentences.doc2bow(text) for text in tokenized_sentences]\n",
        "\n",
        "# Create a TF-IDF corpus\n",
        "tfidf = TfidfModel(bow_corpus)\n",
        "tfidf_corpus = tfidf[bow_corpus]\n",
        "\n",
        "tfidf_sentences = TfidfModel(bow_corpus_sentences)\n",
        "tfidf_corpus_sentences = tfidf_sentences[bow_corpus_sentences]\n",
        "\n",
        "# Define the function to compute coherence values\n",
        "def compute_coherence_values(corpus, dictionary, k, a, b, texts):\n",
        "    lda_model = LdaModel(corpus=corpus,\n",
        "                         id2word=dictionary,\n",
        "                         num_topics=k, \n",
        "                         random_state=100,\n",
        "                         eval_every=None,\n",
        "                         alpha=a,\n",
        "                         eta=b)\n",
        "    \n",
        "    coherence_model_lda = CoherenceModel(model=lda_model, texts=texts, dictionary=dictionary, coherence='u_mass')\n",
        "    \n",
        "    return coherence_model_lda.get_coherence()\n",
        "\n",
        "# Define the parameter space for grid search\n",
        "grid = {}\n",
        "grid['Validation_Set'] = {}\n",
        "# Topics range\n",
        "min_topics = 2\n",
        "max_topics = 10\n",
        "step_size = 1\n",
        "topics_range = range(min_topics, max_topics, step_size)\n",
        "# Alpha parameter\n",
        "alpha = list(np.arange(0.1, 1, 0.1))\n",
        "# Beta parameter\n",
        "beta = list(np.arange(0.1, 1, 0.2))\n",
        "\n",
        "# Validation sets\n",
        "num_of_docs = len(bow_corpus)\n",
        "corpus_sets = [tfidf_corpus, \n",
        "               bow_corpus]\n",
        "corpus_title = ['TF-IDF Corpus', 'BoW Corpus']\n",
        "model_results = {'Validation_Set': [],\n",
        "                 'Topics': [],\n",
        "                 'Alpha': [],\n",
        "                 'Beta': [],\n",
        "                 'Coherence': []\n",
        "                }\n",
        "model_results_sentences = {'Validation_Set': [],\n",
        "                 'Topics': [],\n",
        "                 'Alpha': [],\n",
        "                 'Beta': [],\n",
        "                 'Coherence': []\n",
        "                }\n",
        "\n",
        "# Can take a long time to run\n",
        "# If you want to only test a few models, reduce the number of steps in topics_range\n",
        "# and/or limit the number of values in alpha and beta lists.\n",
        "if 1 == 1:\n",
        "    pbar = tqdm.tqdm(total=(max_topics-min_topics)*len(alpha)*len(beta)*len(corpus_sets))\n",
        "    \n",
        "    # iterate through validation corpuses\n",
        "    for i in range(len(corpus_sets)):\n",
        "        # iterate through number of topics\n",
        "        for k in topics_range:\n",
        "            # iterate through alpha values\n",
        "            for a in alpha:\n",
        "                # iterare through beta values\n",
        "                for b in beta:\n",
        "                    # get the coherence score for the given parameters\n",
        "                    cv = compute_coherence_values(corpus=corpus_sets[i], dictionary=dictionary, k=k, a=a, b=b, texts=tokenized_texts)\n",
        "                    # Save the model results\n",
        "                    model_results['Validation_Set'].append(corpus_title[i])\n",
        "                    model_results['Topics'].append(k)\n",
        "                    model_results['Alpha'].append(a)\n",
        "                    model_results['Beta'].append(b)\n",
        "                    model_results['Coherence'].append(cv)\n",
        "                    \n",
        "                    pbar.update(1)\n",
        "    pbar.close()\n",
        "\n",
        "\n",
        "# Get the results for the sentences\n",
        "if 1 == 1:\n",
        "    pbar = tqdm.tqdm(total=(max_topics-min_topics)*len(alpha)*len(beta)*len(corpus_sets))\n",
        "    \n",
        "    # iterate through validation corpuses\n",
        "    for i in range(len(corpus_sets)):\n",
        "        # iterate through number of topics\n",
        "        for k in topics_range:\n",
        "            # iterate through alpha values\n",
        "            for a in alpha:\n",
        "                # iterare through beta values\n",
        "                for b in beta:\n",
        "                    # get the coherence score for the given parameters\n",
        "                    cv = compute_coherence_values(corpus=corpus_sets[i], dictionary=dict_sentences, k=k, a=a, b=b, texts=tokenized_sentences)\n",
        "                    # Save the model results\n",
        "                    model_results_sentences['Validation_Set'].append(corpus_title[i])\n",
        "                    model_results_sentences['Topics'].append(k)\n",
        "                    model_results_sentences['Alpha'].append(a)\n",
        "                    model_results_sentences['Beta'].append(b)\n",
        "                    model_results_sentences['Coherence'].append(cv)\n",
        "                    \n",
        "                    pbar.update(1)\n",
        "    pbar.close()"
      ],
<<<<<<< HEAD
      "id": "e3b7c3a1",
=======
<<<<<<< HEAD
      "id": "d36c7327",
=======
      "id": "a46f86f8",
>>>>>>> cc84a7ed00838ebbd688a823075c7558516b628a
>>>>>>> 19fa0006fd1ab701f3d555416f8541683d3141c2
      "execution_count": null,
      "outputs": []
    },
    {
      "cell_type": "code",
      "metadata": {},
      "source": [
        "# # Save the results to a csv\n",
        "# model_results_df = pd.DataFrame(model_results)\n",
        "# model_results_sentences_df = pd.DataFrame(model_results_sentences)\n",
        "\n",
        "# model_results_df.to_csv('data/sona_speeches_lda.csv', index=False)\n",
        "# model_results_sentences_df.to_csv('data/sona_sentences_lda.csv', index=False)"
      ],
<<<<<<< HEAD
      "id": "113f5599",
=======
<<<<<<< HEAD
      "id": "c4867809",
=======
      "id": "dc41538c",
>>>>>>> cc84a7ed00838ebbd688a823075c7558516b628a
>>>>>>> 19fa0006fd1ab701f3d555416f8541683d3141c2
      "execution_count": null,
      "outputs": []
    },
    {
      "cell_type": "code",
      "metadata": {},
      "source": [
        "# Save the results to a csv\n",
        "model_results_df = pd.read_csv('data/sona_speeches_lda.csv')\n",
        "sorted_speeches_df = model_results_df.sort_values(by='Coherence', ascending=False)\n",
        "\n",
        "# Concatenate the head and tail of the DataFrame\n",
        "combined_speeches_df = pd.concat([sorted_speeches_df.head(5), sorted_speeches_df.tail(5)])\n",
        "\n",
        "combined_speeches_df['Validation_Set'] = combined_speeches_df['Validation_Set'].replace(['TF-IDF Corpus', 'BoW Corpus'], ['tf-idf', 'BoW'])\n",
        "\n",
        "# Change the validation set column name from \"Validation_Set\" to \"Corpus\"\n",
        "combined_speeches_df = combined_speeches_df.rename(columns={'Validation_Set': 'Corpus'})"
      ],
<<<<<<< HEAD
      "id": "29d3dc89",
=======
<<<<<<< HEAD
      "id": "50c0611a",
=======
      "id": "1f1f740c",
>>>>>>> cc84a7ed00838ebbd688a823075c7558516b628a
>>>>>>> 19fa0006fd1ab701f3d555416f8541683d3141c2
      "execution_count": null,
      "outputs": []
    },
    {
      "cell_type": "code",
      "metadata": {},
      "source": [
        "# Save the results to a csv\n",
        "model_results_sentences_df = pd.read_csv('data/sona_sentences_lda.csv')\n",
        "sorted_sentences_df = model_results_sentences_df.sort_values(by='Coherence', ascending=False)\n",
        "\n",
        "# Concatenate the head and tail of the DataFrame\n",
        "combined_sentences_df = pd.concat([sorted_sentences_df.head(5), sorted_sentences_df.tail(5)])\n",
        "combined_sentences_df['Validation_Set'] = combined_sentences_df['Validation_Set'].replace(['TF-IDF Corpus', 'BoW Corpus'], ['tf-idf', 'BoW'])\n",
        "\n",
        "# Change the validation set column name from \"Validation_Set\" to \"Corpus\"\n",
        "combined_sentences_df = combined_sentences_df.rename(columns={'Validation_Set': 'Corpus'})\n",
        "\n",
        "num_cols = combined_sentences_df.select_dtypes(include=['number']).columns\n",
        "\n",
        "# Remove the first value from the num_cols\n",
        "num_cols = num_cols[1:]"
      ],
<<<<<<< HEAD
      "id": "a4957490",
=======
<<<<<<< HEAD
      "id": "7e5c9c79",
=======
      "id": "def25733",
>>>>>>> cc84a7ed00838ebbd688a823075c7558516b628a
>>>>>>> 19fa0006fd1ab701f3d555416f8541683d3141c2
      "execution_count": null,
      "outputs": []
    },
    {
      "cell_type": "code",
      "metadata": {},
      "source": [
        "import pandas as pd\n",
        "import numpy as np\n",
        "import matplotlib.pyplot as plt\n",
        "\n",
        "\n",
        "# Use pivot_table to handle duplicate (Alpha, Beta) pairs by averaging their coherence values\n",
        "pivot_table = model_results_df.pivot_table(index='Alpha', columns='Beta', values='Coherence', aggfunc=np.mean)\n",
        "pivot_table_sentences = model_results_sentences_df.pivot_table(index='Alpha', columns='Beta', values='Coherence', aggfunc=np.mean)\n",
        "\n",
        "# Create the meshgrid for Alpha and Beta values\n",
        "Alpha, Beta = np.meshgrid(pivot_table.columns, pivot_table.index)\n",
        "Alpha_sentences, Beta_sentences = np.meshgrid(pivot_table_sentences.columns, pivot_table_sentences.index)\n",
        "\n",
        "# Create the contour plot using the values of the pivot_table\n",
        "# We need to use the values attribute to get the coherence scores as a 2D array\n",
        "plt.figure(figsize=(8, 6))\n",
        "cp = plt.contourf(Alpha, Beta, pivot_table.values, cmap='seismic', levels=100)\n",
        "plt.colorbar(cp)\n",
        "plt.xlabel('Beta')\n",
        "plt.ylabel('Alpha')\n",
        "plt.savefig(f'lda_plots/words_contour_plot.png', bbox_inches='tight')\n",
        "plt.close()\n",
        "\n",
        "plt.figure(figsize=(8, 6))\n",
        "cp = plt.contourf(Alpha_sentences, Beta_sentences, pivot_table_sentences.values, cmap='seismic', levels=100)\n",
        "plt.colorbar(cp)\n",
        "plt.xlabel('Beta')\n",
        "plt.ylabel('Alpha')\n",
        "plt.savefig(f'lda_plots/sentences_contour_plot.png', bbox_inches='tight')\n",
        "plt.close()"
      ],
<<<<<<< HEAD
      "id": "0e307eb7",
=======
<<<<<<< HEAD
      "id": "567b5f63",
=======
      "id": "ea396773",
>>>>>>> cc84a7ed00838ebbd688a823075c7558516b628a
>>>>>>> 19fa0006fd1ab701f3d555416f8541683d3141c2
      "execution_count": null,
      "outputs": []
    },
    {
      "cell_type": "code",
      "metadata": {},
      "source": [
        "#| output: true\n",
        "#| label: word-lda\n",
        "#| tbl-cap: A table of coherence values obtained from a grid search of hyperparameter combinations on dataset tokenized by words.\n",
        "\n",
        "def style_df(df):\n",
        "    # Select the numeric columns except the first one\n",
        "    numeric_cols = df.select_dtypes(include=['number']).columns[1:]\n",
        "    format_dict = {col: \"{:.2f}\" for col in numeric_cols}\n",
        "    styles = [\n",
        "        dict(selector=\"th\", props=[(\"text-align\", \"center\")]),\n",
        "        dict(selector=\"td\", props=[(\"text-align\", \"center\")]),\n",
        "        dict(selector=\"\", props=[(\"margin\", \"auto\"), (\"border\", \"1px solid black\")])\n",
        "    ]\n",
        "    return df.style.set_table_styles(styles).format(format_dict).hide()\n",
        "\n",
        "\n",
        "# Save the results to a csv\n",
        "style_df(combined_speeches_df)"
      ],
      "id": "word-lda",
      "execution_count": null,
      "outputs": []
    },
    {
      "cell_type": "code",
      "metadata": {},
      "source": [
        "#| output: true\n",
        "#| label: sent-lda\n",
        "#| tbl-cap: A table of coherence values obtained from a grid search of hyperparameter combinations on dataset tokenized by sentences.\n",
        "\n",
        "# Save the results to a csv\n",
        "style_df(combined_sentences_df)"
      ],
      "id": "sent-lda",
      "execution_count": null,
      "outputs": []
    },
    {
      "cell_type": "code",
      "metadata": {},
      "source": [
        "import pyLDAvis.gensim_models\n",
        "import gensim\n",
        "\n",
        "# Train the best models for each corpus\n",
        "lda_model_speeches = LdaModel(corpus=bow_corpus,\n",
        "                         id2word=dictionary,\n",
        "                         num_topics=9, \n",
        "                         random_state=100,\n",
        "                         eval_every=None,\n",
        "                         alpha=0.6,\n",
        "                         eta=0.5)\n",
        "\n",
        "lda_model_sentences = LdaModel(corpus=bow_corpus,\n",
        "                         id2word=dict_sentences,\n",
        "                         num_topics=2, \n",
        "                         random_state=100,\n",
        "                         eval_every=None,\n",
        "                         alpha=0.9,\n",
        "                         eta=0.9)\n",
        "\n",
        "# Prepare the visualization data\n",
        "vis_data_speeches = pyLDAvis.gensim_models.prepare(lda_model_speeches, bow_corpus, dictionary)\n",
        "vis_data_sentences = pyLDAvis.gensim_models.prepare(lda_model_sentences, bow_corpus_sentences, dict_sentences)"
      ],
<<<<<<< HEAD
      "id": "fd6c3ba5",
=======
<<<<<<< HEAD
      "id": "cf8f050e",
=======
      "id": "4acdc062",
>>>>>>> cc84a7ed00838ebbd688a823075c7558516b628a
>>>>>>> 19fa0006fd1ab701f3d555416f8541683d3141c2
      "execution_count": null,
      "outputs": []
    },
    {
      "cell_type": "markdown",
      "metadata": {},
      "source": [
        "<b><u> pyLDAvis for Words </b></u>\n"
      ],
<<<<<<< HEAD
      "id": "cad7f4c5"
=======
<<<<<<< HEAD
      "id": "543731e1"
=======
      "id": "65f0ed10"
>>>>>>> cc84a7ed00838ebbd688a823075c7558516b628a
>>>>>>> 19fa0006fd1ab701f3d555416f8541683d3141c2
    },
    {
      "cell_type": "code",
      "metadata": {},
      "source": [
        "# Enable the automatic display of visualizations in the Jupyter notebook\n",
        "pyLDAvis.enable_notebook()\n",
        "\n",
        "# Display the visualization\n",
        "pyLDAvis.display(vis_data_speeches)"
      ],
<<<<<<< HEAD
      "id": "a56cfe0d",
=======
<<<<<<< HEAD
      "id": "3326b06e",
=======
      "id": "a3d9fe0c",
>>>>>>> cc84a7ed00838ebbd688a823075c7558516b628a
>>>>>>> 19fa0006fd1ab701f3d555416f8541683d3141c2
      "execution_count": null,
      "outputs": []
    },
    {
      "cell_type": "markdown",
      "metadata": {},
      "source": [
        "<b><u> pyLDAvis for Sentences </b></u>\n"
      ],
<<<<<<< HEAD
      "id": "b2b49fdc"
=======
<<<<<<< HEAD
      "id": "062147ff"
=======
      "id": "d05934c0"
>>>>>>> cc84a7ed00838ebbd688a823075c7558516b628a
>>>>>>> 19fa0006fd1ab701f3d555416f8541683d3141c2
    },
    {
      "cell_type": "code",
      "metadata": {},
      "source": [
        "# Display the visualization\n",
        "pyLDAvis.display(vis_data_sentences)\n"
      ],
<<<<<<< HEAD
      "id": "f2fdbac7",
=======
<<<<<<< HEAD
      "id": "9156eb96",
=======
      "id": "e165d3c9",
>>>>>>> cc84a7ed00838ebbd688a823075c7558516b628a
>>>>>>> 19fa0006fd1ab701f3d555416f8541683d3141c2
      "execution_count": null,
      "outputs": []
    },
    {
      "cell_type": "markdown",
      "metadata": {},
      "source": [
        "<h4> CTM </h4> \n",
        "\n",
        "\n",
        "::: {#fig-CTM-coherence layout-ncol=2}\n",
        "\n",
        "![Words](ctm_plots/words_coherence_plots.png){#fig-ctm-coherence-words}\n",
        "\n",
        "![Sentences](ctm_plots/sentences_coherence_plots.png){#fig-ctm-coherence-sentences}\n",
        "\n",
        "Coherence plots for CTM across different tokens (words or sentences) implemented within BoW approach.\n",
        ":::\n",
        "\n",
        "::: {#fig-CTM-topics layout-ncol=2}\n",
        "\n",
        "![Words: Topic 1](ctm_plots/words_1.png){#fig-ctm-words-topic1}\n",
        "\n",
        "![Sentences: Topic 1](ctm_plots/sentences_1.png){#fig-ctm-sentences-topic1}\n",
        "\n",
        "![Words: Topic 2](ctm_plots/words_2.png){#fig-ctm-words-topic2}\n",
        "\n",
        "![Sentences: Topic 2](ctm_plots/sentences_2.png){#fig-ctm-sentences-topic2}\n",
        "\n",
        "Topic plots where either words (left) or sentences (right) were used as tokens for CTM application. \n",
        ":::\n"
      ],
<<<<<<< HEAD
      "id": "b6d33b43"
=======
<<<<<<< HEAD
      "id": "92ab0583"
=======
      "id": "84c6f4aa"
>>>>>>> cc84a7ed00838ebbd688a823075c7558516b628a
>>>>>>> 19fa0006fd1ab701f3d555416f8541683d3141c2
    },
    {
      "cell_type": "code",
      "metadata": {},
      "source": [
        "import tomotopy as tp\n",
        "import matplotlib.pyplot as plt\n",
        "\n",
        "# Function to calculate coherence scores\n",
        "def calculate_coherence(model, metric='u_mass'):\n",
        "    coherence = tp.coherence.Coherence(model, coherence=metric)\n",
        "    return coherence.get_score()\n",
        "\n",
        "# Prepare the data for the CTM model\n",
        "tokenized_docs = [text.split() for text in sona_speeches_clean['speech']]  # Ensure the texts are tokenized\n",
        "tokenized_sentences = [text.split() for text in sona_sentences_alltogether['sentence']]  # Ensure the texts are tokenized\n",
        "\n",
        "# Define the range of topic numbers you want to test\n",
        "topic_numbers = range(2, 12, 1)  # for example from 2 to 20 by step of 2\n",
        "\n",
        "# Store coherence scores for plotting\n",
        "coherence_scores = []\n",
        "coherence_scores_sentences = []\n",
        "\n",
        "for k in topic_numbers:\n",
        "    # Initialize CTM with the current number of topics\n",
        "    ctm = tp.CTModel(k=k)\n",
        "    ctms = tp.CTModel(k=k)\n",
        "\n",
        "    # Add documents to the model\n",
        "    for tokens in tokenized_docs:\n",
        "        ctm.add_doc(tokens)\n",
        "\n",
        "    # Add sentences to the model\n",
        "    for tokens in tokenized_sentences:\n",
        "        ctms.add_doc(tokens)    \n",
        "\n",
        "    # Train the model\n",
        "    ctm.train(0)\n",
        "    ctms.train(0)\n",
        "\n",
        "    for _ in range(100):\n",
        "        ctm.train(10)\n",
        "        ctms.train(10)\n",
        "\n",
        "    # Calculate and store the coherence score\n",
        "    score = calculate_coherence(ctm)\n",
        "    score_sentences = calculate_coherence(ctms)\n",
        "\n",
        "    coherence_scores.append(score)\n",
        "    coherence_scores_sentences.append(score_sentences)\n",
        "\n",
        "    #(f\"Topics: {k}, Coherence Score: {score}\")\n"
      ],
<<<<<<< HEAD
      "id": "42d3fefc",
=======
<<<<<<< HEAD
      "id": "d5ced599",
=======
      "id": "df740e02",
>>>>>>> cc84a7ed00838ebbd688a823075c7558516b628a
>>>>>>> 19fa0006fd1ab701f3d555416f8541683d3141c2
      "execution_count": null,
      "outputs": []
    },
    {
      "cell_type": "code",
      "metadata": {},
      "source": [
        "# Plot the speech coherence scores\n",
        "plt.figure(figsize=(10, 6))\n",
        "plt.plot(topic_numbers, coherence_scores,  color='midnightblue')\n",
        "# plt.title('Coherence Scores by Number of Topics')\n",
        "plt.xlabel('Number of Topics')\n",
        "plt.ylabel('Coherence Score')\n",
        "plt.xticks(topic_numbers)\n",
        "plt.savefig(f'ctm_plots/words_coherence_plots.png', bbox_inches='tight')\n",
        "plt.close()\n",
        "\n",
        "# Plot the sentence coherence scores\n",
        "plt.figure(figsize=(10, 6))\n",
        "plt.plot(topic_numbers, coherence_scores_sentences, color='darkgray')\n",
        "# plt.title('Coherence Scores by Number of Topics')\n",
        "plt.xlabel('Number of Topics')\n",
        "plt.ylabel('Coherence Score')\n",
        "plt.xticks(topic_numbers)\n",
        "plt.savefig(f'ctm_plots/sentences_coherence_plots.png', bbox_inches='tight')\n",
        "plt.close()\n"
      ],
<<<<<<< HEAD
      "id": "eeb1deb3",
=======
<<<<<<< HEAD
      "id": "f8efccd0",
=======
      "id": "b4468b8c",
>>>>>>> cc84a7ed00838ebbd688a823075c7558516b628a
>>>>>>> 19fa0006fd1ab701f3d555416f8541683d3141c2
      "execution_count": null,
      "outputs": []
    },
    {
      "cell_type": "code",
      "metadata": {},
      "source": [
        "# Train the models with the optimal number of topics\n",
        "ctm = tp.CTModel(k=2)\n",
        "ctms = tp.CTModel(k=2)\n",
        "\n",
        "# Add documents to the model\n",
        "for tokens in tokenized_docs:\n",
        "    ctm.add_doc(tokens)\n",
        "\n",
        "# Add sentences to the model\n",
        "for tokens in tokenized_sentences:\n",
        "    ctms.add_doc(tokens)\n",
        "\n",
        "# Train the model\n",
        "ctm.train(0)\n",
        "ctms.train(0)\n",
        "\n",
        "for _ in range(100):\n",
        "    ctm.train(10)\n",
        "    ctms.train(10)"
      ],
<<<<<<< HEAD
      "id": "1240e0ab",
=======
<<<<<<< HEAD
      "id": "c34ebd05",
=======
      "id": "55b24c39",
>>>>>>> cc84a7ed00838ebbd688a823075c7558516b628a
>>>>>>> 19fa0006fd1ab701f3d555416f8541683d3141c2
      "execution_count": null,
      "outputs": []
    },
    {
      "cell_type": "code",
      "metadata": {},
      "source": [
        "# Function to plot the top words for one topic\n",
        "def plot_top_words_for_topic(model, modtype, topic_num, color, top_n=10):\n",
        "    # Extract the top words for this topic\n",
        "    top_words = model.get_topic_words(topic_num, top_n=top_n)\n",
        "    words, weights = zip(*top_words)\n",
        "\n",
        "    # Create a bar chart for the top words in this topic\n",
        "    plt.figure(figsize=(10, 6))\n",
        "    plt.barh(words, weights, color=color)\n",
        "    plt.xlabel('Weight')\n",
        "    plt.gca().invert_yaxis()  # Highest weights on top\n",
        "    plt.savefig(f'ctm_plots/{modtype}_{topic_num+1}.png', bbox_inches='tight')\n",
        "    plt.close()\n",
        "\n",
        "# Plot the top words for each topic for the CTModel of documents\n",
        "i = 0\n",
        "colours = ['midnightblue', 'lightsteelblue']\n",
        "\n",
        "for k in range(ctm.k):\n",
        "    plot_top_words_for_topic(ctm, 'words', k, colours[i])\n",
        "    i+=1\n",
<<<<<<< HEAD
        "\n",
        "    if i == 2:\n",
        "        i = 0\n",
=======
>>>>>>> cc84a7ed00838ebbd688a823075c7558516b628a
        "\n",
        "i = 0\n",
        "# Plot the top words for each topic for the CTModel of sentences\n",
        "for k in range(ctms.k):\n",
        "    plot_top_words_for_topic(ctms, 'sentences', k, colours[i])\n",
<<<<<<< HEAD
        "    i+=1\n",
        "\n",
        "    if i == 2:\n",
        "        i = 0"
      ],
      "id": "8883150e",
=======
        "    i+=1"
      ],
<<<<<<< HEAD
      "id": "a44e6ce8",
=======
      "id": "7259f124",
>>>>>>> cc84a7ed00838ebbd688a823075c7558516b628a
>>>>>>> 19fa0006fd1ab701f3d555416f8541683d3141c2
      "execution_count": null,
      "outputs": []
    },
    {
      "cell_type": "markdown",
      "metadata": {},
      "source": [
        "<h4> ATM (Author-Topic Model) </h4> \n",
        "\n",
        "\n",
        "::: {#fig-ATM-coherence layout-ncol=2}\n",
        "\n",
        "![Words](atm_plots/words_coherence_plots.png){#fig-atm-coherence-words}\n",
        "\n",
        "![Sentences](atm_plots/sentences_coherence_plots.png){#fig-atm-coherence-sentences}\n",
        "\n",
        "Coherence plots for ATM across different tokens (words or sentences) implemented within BoW approach.\n",
        ":::\n",
        "\n",
        "\n",
        "::: {#fig-ATM-topics layout-ncol=2}\n",
        "\n",
        "![Words: Topic 1](ctm_plots/words_1.png){#fig-atm-words-topic1}\n",
        "\n",
        "![Sentences: Topic 1](ctm_plots/sentences_1.png){#fig-atm-sentences-topic1}\n",
        "\n",
        "![Words: Topic 2](ctm_plots/words_2.png){#fig-atm-words-topic2}\n",
        "\n",
        "![Sentences: Topic 2](ctm_plots/sentences_2.png){#fig-atm-sentences-topic2}\n",
        "\n",
        "![Words: Topic 3](ctm_plots/words_3.png){#fig-atm-words-topic3}\n",
        "\n",
        "Topic plots where either words (left) or sentences (right) were used as tokens for ATM application. \n",
        ":::\n"
      ],
<<<<<<< HEAD
      "id": "ba199812"
=======
<<<<<<< HEAD
      "id": "2367e741"
=======
      "id": "d50b8dd3"
>>>>>>> cc84a7ed00838ebbd688a823075c7558516b628a
>>>>>>> 19fa0006fd1ab701f3d555416f8541683d3141c2
    },
    {
      "cell_type": "code",
      "metadata": {},
      "source": [
        "# Note that ATM only works for BoW. Raw word counts (BoW) is standard because these models are based on the assumption that the data is generated from a multinomial distribution, which does not hold with TF-IDF weights.\n",
        "\n",
        "from gensim.models import AuthorTopicModel\n",
        "from gensim.models.coherencemodel import CoherenceModel\n",
        "import matplotlib.pyplot as plt\n",
        "from gensim.utils import simple_preprocess\n",
        "from gensim import corpora\n",
        "\n",
        "texts = sona_speeches_clean['speech']\n",
        "sentences = sona_sentences_alltogether['sentence']\n",
        "\n",
        "# Further process tokens using gensim's simple_preprocess\n",
        "tokenized_texts = [simple_preprocess(doc, deacc=True) for doc in texts]  # deacc=True removes punctuations\n",
        "tokenized_sentences = [simple_preprocess(doc, deacc=True) for doc in sentences]  # deacc=True removes punctuations\n",
        "\n",
        "# Create a Gensim dictionary from the tokenized documents\n",
        "dictionary = corpora.Dictionary(tokenized_texts)\n",
        "dictionary.filter_extremes(no_below=3, no_above=0.7)\n",
        "\n",
        "dict_sentences = corpora.Dictionary(tokenized_sentences)\n",
        "dict_sentences.filter_extremes(no_below=3, no_above=0.7)\n",
        "\n",
        "# Create a BOW corpus\n",
        "bow_corpus = [dictionary.doc2bow(text) for text in tokenized_texts]\n",
        "bow_corpus_sentences = [dict_sentences.doc2bow(text) for text in tokenized_sentences]\n",
        "\n",
        "# Prepare the data for the AuthorTopicModel\n",
        "# Create a mapping of authors to documents\n",
        "author2doc = {author: [] for author in sona_speeches_clean['president'].unique()}\n",
        "for i, row in sona_speeches_clean.iterrows():\n",
        "    author2doc[row['president']].append(i)\n",
        "\n",
        "# Create a mapping of authors to sentences\n",
        "author2sent = {author: [] for author in sona_sentences_alltogether['president'].unique()}\n",
        "for i, row in sona_sentences_alltogether.iterrows():\n",
        "    author2sent[row['president']].append(i)\n",
        "\n",
        "# Define the range of topic numbers you want to test\n",
        "topic_numbers = range(2, 12, 1)  # for example from 2 to 20 by step of 2\n",
        "\n",
        "# Store coherence scores for plotting\n",
        "coherence_scores = []\n",
        "coherence_scores_sentences = []\n",
        "\n",
        "for num_topics in topic_numbers:\n",
        "    # Author-Topic LDA model with the current number of topics\n",
        "    author_topic_model = AuthorTopicModel(corpus=bow_corpus, author2doc=author2doc, id2word=dictionary, num_topics=num_topics)\n",
        "    author_topic_model_sentences = AuthorTopicModel(corpus=bow_corpus_sentences, author2doc=author2sent, id2word=dict_sentences, num_topics=num_topics)\n",
        "\n",
        "    # Train the model\n",
        "    author_topic_model.update(bow_corpus, author2doc=author2doc)\n",
        "    author_topic_model_sentences.update(bow_corpus_sentences, author2doc=author2sent)\n",
        "\n",
        "    # Compute coherence score\n",
        "    cm = CoherenceModel(model=author_topic_model, texts=tokenized_docs, dictionary=dictionary, coherence='u_mass')\n",
        "    cm_sentences = CoherenceModel(model=author_topic_model_sentences, texts=tokenized_sentences, dictionary=dict_sentences, coherence='u_mass')\n",
        "\n",
        "    coherence = cm.get_coherence()\n",
        "    coherence_sentences = cm_sentences.get_coherence()\n",
        "\n",
        "    coherence_scores.append(coherence)\n",
        "    coherence_scores_sentences.append(coherence_sentences)\n",
        "\n",
        "    # print(f\"Num Topics: {num_topics}, Coherence Score: {coherence}\")"
      ],
<<<<<<< HEAD
      "id": "da7c7483",
=======
<<<<<<< HEAD
      "id": "9edd65ce",
=======
      "id": "dce81c86",
>>>>>>> cc84a7ed00838ebbd688a823075c7558516b628a
>>>>>>> 19fa0006fd1ab701f3d555416f8541683d3141c2
      "execution_count": null,
      "outputs": []
    },
    {
      "cell_type": "code",
      "metadata": {},
      "source": [
        "# Plot the speech coherence scores\n",
        "plt.figure(figsize=(10, 6))\n",
        "plt.plot(topic_numbers, coherence_scores,  color='midnightblue')\n",
        "plt.title('Coherence Scores by Number of Topics')\n",
        "plt.xlabel('Number of Topics')\n",
        "plt.ylabel('Coherence Score')\n",
        "plt.xticks(topic_numbers)\n",
        "plt.savefig(f'atm_plots/words_coherence_plots.png', bbox_inches='tight')\n",
        "plt.close()\n",
        "\n",
        "# Plot the sentence coherence scores\n",
        "plt.figure(figsize=(10, 6))\n",
        "plt.plot(topic_numbers, coherence_scores_sentences, color='darkgray')\n",
        "plt.title('Coherence Scores by Number of Topics')\n",
        "plt.xlabel('Number of Topics')\n",
        "plt.ylabel('Coherence Score')\n",
        "plt.xticks(topic_numbers)\n",
        "plt.savefig(f'atm_plots/sentences_coherence_plots.png', bbox_inches='tight')\n",
        "plt.close()"
      ],
<<<<<<< HEAD
      "id": "46269dca",
=======
<<<<<<< HEAD
      "id": "2731c192",
=======
      "id": "c6247244",
>>>>>>> cc84a7ed00838ebbd688a823075c7558516b628a
>>>>>>> 19fa0006fd1ab701f3d555416f8541683d3141c2
      "execution_count": null,
      "outputs": []
    },
    {
      "cell_type": "code",
      "metadata": {},
      "source": [
        "# Author-Topic LDA model with the current number of topics\n",
        "author_topic_model = AuthorTopicModel(corpus=bow_corpus, author2doc=author2doc, id2word=dictionary, num_topics=3)\n",
        "author_topic_model_sentences = AuthorTopicModel(corpus=bow_corpus_sentences, author2doc=author2sent, id2word=dict_sentences, num_topics=2)\n",
        "\n",
        "# Train the model\n",
        "author_topic_model.update(bow_corpus, author2doc=author2doc)\n",
        "author_topic_model_sentences.update(bow_corpus_sentences, author2doc=author2sent)\n",
        "\n",
        "# Function to plot the top words for one topic in an AuthorTopicModel\n",
        "def plot_top_words_for_author_topic_model(model, modtype, topic_num, top_n=10):\n",
        "    # Extract the top words for this topic\n",
        "    top_words = model.get_topic_terms(topic_num, topn=top_n)\n",
        "    words, weights = zip(*[(model.id2word[word_id], weight) for word_id, weight in top_words])\n",
        "\n",
        "    # Create a bar chart for the top words in this topic\n",
        "    plt.figure(figsize=(10, 6))\n",
        "    plt.barh(words, weights, color='midnightblue')\n",
        "    plt.xlabel('Weight')\n",
        "    plt.gca().invert_yaxis()  # Highest weights on top\n",
        "    plt.savefig(f'atm_plots/{modtype}_{topic_num+1}.png', bbox_inches='tight')\n",
        "    plt.close()\n",
        "\n",
        "# Plot the top words for each topic for the AuthorTopicModel of documents\n",
        "for k in range(author_topic_model.num_topics):\n",
        "    plot_top_words_for_author_topic_model(author_topic_model, \"words\",k)\n",
        "\n",
        "# Plot the top words for each topic for the AuthorTopicModel of sentences\n",
        "for k in range(author_topic_model_sentences.num_topics):\n",
        "    plot_top_words_for_author_topic_model(author_topic_model_sentences, \"sentences\", k)"
      ],
<<<<<<< HEAD
      "id": "87be7666",
=======
<<<<<<< HEAD
      "id": "022174ca",
=======
      "id": "f050256a",
>>>>>>> cc84a7ed00838ebbd688a823075c7558516b628a
>>>>>>> 19fa0006fd1ab701f3d555416f8541683d3141c2
      "execution_count": null,
      "outputs": []
    },
    {
      "cell_type": "code",
      "metadata": {},
      "source": [
        "from pprint import pprint\n",
        "\n",
        "def show_author(name, model):\n",
        "    print('\\n%s' % name)\n",
        "    print('Docs:', model.author2doc[name])\n",
        "    print('Topics:')\n",
        "    pprint([(topic_labels[topic[0]], topic[1]) for topic in model[name]])"
      ],
<<<<<<< HEAD
      "id": "7a34bfce",
=======
<<<<<<< HEAD
      "id": "d6b92ee9",
=======
      "id": "ea74af5f",
>>>>>>> cc84a7ed00838ebbd688a823075c7558516b628a
>>>>>>> 19fa0006fd1ab701f3d555416f8541683d3141c2
      "execution_count": null,
      "outputs": []
    },
    {
      "cell_type": "code",
      "metadata": {},
      "source": [
        "# TODO: Add topic labels\n",
        "\n",
        "topic_labels_words = ['Circuits', 'Neuroscience', 'Numerical optimization', 'Object recognition', \\\n",
        "               'Math/general', 'Robotics', 'Character recognition', \\\n",
        "                'Reinforcement learning', 'Speech recognition', 'Bayesian modelling']\n",
        "\n",
        "topic_labels_sents = ['Circuits', 'Neuroscience', 'Numerical optimization', 'Object recognition', \\\n",
        "               'Math/general', 'Robotics', 'Character recognition', \\\n",
        "                'Reinforcement learning', 'Speech recognition', 'Bayesian modelling']\n",
        "\n",
        "# Show the topics for each author\n",
        "show_author('deKlerk', author_topic_model)\n",
        "show_author('deKlerk', author_topic_model_sentences)"
      ],
<<<<<<< HEAD
      "id": "d30b52b6",
=======
<<<<<<< HEAD
      "id": "6c7197f7",
=======
      "id": "58368897",
>>>>>>> cc84a7ed00838ebbd688a823075c7558516b628a
>>>>>>> 19fa0006fd1ab701f3d555416f8541683d3141c2
      "execution_count": null,
      "outputs": []
    },
    {
      "cell_type": "markdown",
      "metadata": {},
      "source": [
        "</div> \n"
      ],
<<<<<<< HEAD
      "id": "a05436ec"
=======
<<<<<<< HEAD
      "id": "987267b2"
=======
      "id": "20fc2992"
>>>>>>> cc84a7ed00838ebbd688a823075c7558516b628a
>>>>>>> 19fa0006fd1ab701f3d555416f8541683d3141c2
    }
  ],
  "metadata": {
    "kernelspec": {
      "name": "scientificproject",
      "language": "python",
      "display_name": "Python (scientificProject)"
    }
  },
  "nbformat": 4,
  "nbformat_minor": 5
}